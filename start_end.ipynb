{
 "cells": [
  {
   "cell_type": "code",
   "execution_count": 1,
   "id": "a6318775",
   "metadata": {},
   "outputs": [
    {
     "ename": "AttributeError",
     "evalue": "'NoneType' object has no attribute 'groups'",
     "output_type": "error",
     "traceback": [
      "\u001b[1;31m---------------------------------------------------------------------------\u001b[0m",
      "\u001b[1;31mAttributeError\u001b[0m                            Traceback (most recent call last)",
      "Cell \u001b[1;32mIn[1], line 47\u001b[0m\n\u001b[0;32m     45\u001b[0m \u001b[38;5;28;01mfor\u001b[39;00m date_folder, files \u001b[38;5;129;01min\u001b[39;00m all_chat_files\u001b[38;5;241m.\u001b[39mitems():\n\u001b[0;32m     46\u001b[0m     \u001b[38;5;28;01mfor\u001b[39;00m file_path \u001b[38;5;129;01min\u001b[39;00m files:\n\u001b[1;32m---> 47\u001b[0m         chat_data \u001b[38;5;241m=\u001b[39m parse_chat_file(file_path)\n\u001b[0;32m     48\u001b[0m         \u001b[38;5;28;01mfor\u001b[39;00m person, times \u001b[38;5;129;01min\u001b[39;00m chat_data\u001b[38;5;241m.\u001b[39mitems():\n\u001b[0;32m     49\u001b[0m             key \u001b[38;5;241m=\u001b[39m (date_folder, person)\n",
      "Cell \u001b[1;32mIn[1], line 31\u001b[0m, in \u001b[0;36mparse_chat_file\u001b[1;34m(file_path)\u001b[0m\n\u001b[0;32m     29\u001b[0m \u001b[38;5;28;01mfor\u001b[39;00m line \u001b[38;5;129;01min\u001b[39;00m file:\n\u001b[0;32m     30\u001b[0m     \u001b[38;5;28;01mif\u001b[39;00m date_pattern\u001b[38;5;241m.\u001b[39mmatch(line):\n\u001b[1;32m---> 31\u001b[0m         date_time_str, sender \u001b[38;5;241m=\u001b[39m re\u001b[38;5;241m.\u001b[39mmatch(\u001b[38;5;124mr\u001b[39m\u001b[38;5;124m'\u001b[39m\u001b[38;5;124m(\u001b[39m\u001b[38;5;124m\\\u001b[39m\u001b[38;5;124md\u001b[39m\u001b[38;5;124m{\u001b[39m\u001b[38;5;124m1,2}/\u001b[39m\u001b[38;5;124m\\\u001b[39m\u001b[38;5;124md\u001b[39m\u001b[38;5;124m{\u001b[39m\u001b[38;5;124m1,2}/\u001b[39m\u001b[38;5;124m\\\u001b[39m\u001b[38;5;124md\u001b[39m\u001b[38;5;132;01m{2}\u001b[39;00m\u001b[38;5;124m, \u001b[39m\u001b[38;5;124m\\\u001b[39m\u001b[38;5;124md\u001b[39m\u001b[38;5;124m{\u001b[39m\u001b[38;5;124m1,2}:\u001b[39m\u001b[38;5;124m\\\u001b[39m\u001b[38;5;124md\u001b[39m\u001b[38;5;132;01m{2}\u001b[39;00m\u001b[38;5;124m\\\u001b[39m\u001b[38;5;124ms?[APMapm]\u001b[39m\u001b[38;5;132;01m{2}\u001b[39;00m\u001b[38;5;124m) - (.*?):\u001b[39m\u001b[38;5;124m'\u001b[39m, line)\u001b[38;5;241m.\u001b[39mgroups()\n\u001b[0;32m     32\u001b[0m         date_time \u001b[38;5;241m=\u001b[39m pd\u001b[38;5;241m.\u001b[39mto_datetime(date_time_str, \u001b[38;5;28mformat\u001b[39m\u001b[38;5;241m=\u001b[39m\u001b[38;5;124m'\u001b[39m\u001b[38;5;132;01m%d\u001b[39;00m\u001b[38;5;124m/\u001b[39m\u001b[38;5;124m%\u001b[39m\u001b[38;5;124mm/\u001b[39m\u001b[38;5;124m%\u001b[39m\u001b[38;5;124my, \u001b[39m\u001b[38;5;124m%\u001b[39m\u001b[38;5;124mI:\u001b[39m\u001b[38;5;124m%\u001b[39m\u001b[38;5;124mM \u001b[39m\u001b[38;5;124m%\u001b[39m\u001b[38;5;124mp\u001b[39m\u001b[38;5;124m'\u001b[39m, errors\u001b[38;5;241m=\u001b[39m\u001b[38;5;124m'\u001b[39m\u001b[38;5;124mcoerce\u001b[39m\u001b[38;5;124m'\u001b[39m)\n\u001b[0;32m     33\u001b[0m         \u001b[38;5;28;01mif\u001b[39;00m sender \u001b[38;5;129;01mnot\u001b[39;00m \u001b[38;5;129;01min\u001b[39;00m time_data:\n",
      "\u001b[1;31mAttributeError\u001b[0m: 'NoneType' object has no attribute 'groups'"
     ]
    }
   ],
   "source": [
    "import os\n",
    "import pandas as pd\n",
    "import re\n",
    "\n",
    "# Function to list all chat files in all date folders within the base directory\n",
    "def list_chat_files(base_directory):\n",
    "    chat_files = {}\n",
    "    for date_folder in os.listdir(base_directory):\n",
    "        date_path = os.path.join(base_directory, date_folder)\n",
    "        if os.path.isdir(date_path):\n",
    "            for team_folder in os.listdir(date_path):\n",
    "                team_path = os.path.join(date_path, team_folder)\n",
    "                if os.path.isdir(team_path):\n",
    "                    for person_folder in os.listdir(team_path):\n",
    "                        person_path = os.path.join(team_path, person_folder)\n",
    "                        if os.path.isdir(person_path):\n",
    "                            for file in os.listdir(person_path):\n",
    "                                if file.endswith('.txt'):\n",
    "                                    full_file_path = os.path.join(person_path, file)\n",
    "                                    chat_files.setdefault(date_folder, []).append(full_file_path)\n",
    "    return chat_files\n",
    "\n",
    "# Function to parse a chat file and find start and end times for each person\n",
    "def parse_chat_file(file_path):\n",
    "    date_pattern = re.compile(r'^\\d{1,2}/\\d{1,2}/\\d{2}, \\d{1,2}:\\d{2}\\s?[APMapm]{2} - ')\n",
    "    time_data = {}\n",
    "\n",
    "    with open(file_path, 'r', encoding='utf-8') as file:\n",
    "        for line in file:\n",
    "            if date_pattern.match(line):\n",
    "                match = re.match(r'(\\d{1,2}/\\d{1,2}/\\d{2}, \\d{1,2}:\\d{2}\\s?[APMapm]{2}) - (.*?):', line)\n",
    "                if match:\n",
    "                    date_time_str, sender = match.groups()\n",
    "                    date_time = pd.to_datetime(date_time_str, format='%d/%m/%y, %I:%M %p', errors='coerce')\n",
    "                    if sender not in time_data:\n",
    "                        time_data[sender] = {'start': date_time, 'end': date_time}\n",
    "                    else:\n",
    "                        time_data[sender]['end'] = date_time\n",
    "    return time_data\n",
    "\n",
    "\n",
    "# Main script\n",
    "base_directory = \"F:\\\\Github-mauriceyeng\\\\Chat-Analyzer-V2\\\\date-wise\"  # Update this path\n",
    "\n",
    "all_chat_files = list_chat_files(base_directory)\n",
    "all_chat_data = {}\n",
    "\n",
    "for date_folder, files in all_chat_files.items():\n",
    "    for file_path in files:\n",
    "        chat_data = parse_chat_file(file_path)\n",
    "        for person, times in chat_data.items():\n",
    "            key = (date_folder, person)\n",
    "            if key not in all_chat_data:\n",
    "                all_chat_data[key] = times\n",
    "            else:\n",
    "                # Update the end time if it's later than the existing one\n",
    "                all_chat_data[key]['end'] = max(all_chat_data[key]['end'], times['end'])\n",
    "\n",
    "# Creating a DataFrame for the CSV export\n",
    "df = pd.DataFrame([(date, person, times['start'], times['end']) for (date, person), times in all_chat_data.items()], \n",
    "                  columns=['Date', 'Person', 'Start Time', 'End Time'])\n",
    "\n",
    "# Exporting to CSV\n",
    "csv_file_path = os.path.join(base_directory, 'chat_times.csv')\n",
    "df.to_csv(csv_file_path, index=False)\n",
    "print(f\"Chat times saved to {csv_file_path}\")\n"
   ]
  },
  {
   "cell_type": "code",
   "execution_count": null,
   "id": "235e8bf0",
   "metadata": {},
   "outputs": [],
   "source": []
  }
 ],
 "metadata": {
  "kernelspec": {
   "display_name": "Python 3 (ipykernel)",
   "language": "python",
   "name": "python3"
  },
  "language_info": {
   "codemirror_mode": {
    "name": "ipython",
    "version": 3
   },
   "file_extension": ".py",
   "mimetype": "text/x-python",
   "name": "python",
   "nbconvert_exporter": "python",
   "pygments_lexer": "ipython3",
   "version": "3.11.5"
  }
 },
 "nbformat": 4,
 "nbformat_minor": 5
}
