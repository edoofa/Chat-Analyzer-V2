{
 "cells": [
  {
   "cell_type": "code",
   "execution_count": 2,
   "metadata": {},
   "outputs": [
    {
     "name": "stderr",
     "output_type": "stream",
     "text": [
      "2023-12-05 17:43:13,703 - DEBUG - Row appended for chat file: WhatsApp Chat with Admire EWYL22E1163.txt\n"
     ]
    },
    {
     "name": "stdout",
     "output_type": "stream",
     "text": [
      "ENTER THE LOOP:               datetime            sender  \\\n",
      "101 2023-12-04 08:25:00  +263 78 944 3351   \n",
      "102 2023-12-04 08:33:00      Aditi Edoofa   \n",
      "103 2023-12-04 08:33:00      Aditi Edoofa   \n",
      "104 2023-12-04 08:33:00      Aditi Edoofa   \n",
      "105 2023-12-04 08:34:00  +263 78 944 3351   \n",
      "106 2023-12-04 08:35:00  +263 78 944 3351   \n",
      "107 2023-12-04 08:37:00      Aditi Edoofa   \n",
      "108 2023-12-04 08:38:00      Aditi Edoofa   \n",
      "109 2023-12-04 08:38:00      Aditi Edoofa   \n",
      "110 2023-12-04 08:42:00  +263 78 944 3351   \n",
      "111 2023-12-04 08:44:00  +263 78 944 3351   \n",
      "112 2023-12-04 08:48:00      Aditi Edoofa   \n",
      "113 2023-12-04 09:24:00  +263 78 944 3351   \n",
      "114 2023-12-04 09:26:00  +263 78 944 3351   \n",
      "115 2023-12-04 09:28:00      Aditi Edoofa   \n",
      "116 2023-12-04 09:29:00  +263 78 944 3351   \n",
      "117 2023-12-04 09:32:00      Aditi Edoofa   \n",
      "118 2023-12-04 09:32:00      Aditi Edoofa   \n",
      "119 2023-12-04 09:33:00  +263 78 944 3351   \n",
      "120 2023-12-04 09:34:00      Aditi Edoofa   \n",
      "121 2023-12-04 09:36:00  +263 78 944 3351   \n",
      "\n",
      "                                               message  \n",
      "101  Greetings Mentor Adhit Hope you are very well ...  \n",
      "102  Happy Monday! 🌸 Sending you positive vibes for...  \n",
      "103                                Okay, I understand.  \n",
      "104                           This message was deleted  \n",
      "105              Thank you very much for understanding  \n",
      "106                        Yes I am ready we can start  \n",
      "107                                             Great!  \n",
      "108  We’re ready to begin your EWYL program now, an...  \n",
      "109                                    <Media omitted>  \n",
      "110                Okay let me go through the document  \n",
      "111                                  Still downloading  \n",
      "112      Okay, I understand. <This message was edited>  \n",
      "113                       Okay I think we can continue  \n",
      "114  I need to ask, sorry for taking you back This ...  \n",
      "115  You can work on the projects in your free time...  \n",
      "116                Okay I understand thank you so much  \n",
      "117  I will start by explaining the projects in det...  \n",
      "118                                    <Media omitted>  \n",
      "119                                Okay I am following  \n",
      "120  Alright! This is it for today. So we will resu...  \n",
      "121                   Okay thank you so much for today  \n",
      "ENTER THE LOOP:              datetime            sender  \\\n",
      "28 2023-12-04 08:01:00      Aditi Edoofa   \n",
      "29 2023-12-04 13:37:00  +263 78 213 1490   \n",
      "30 2023-12-04 15:22:00      Aditi Edoofa   \n",
      "31 2023-12-04 16:46:00  +263 78 213 1490   \n",
      "\n",
      "                                              message  \n",
      "28  Good Morning Alice! Hope you are well.  Okay, ...  \n",
      "29  I'm good thanks for asking ,yes lm discussing ...  \n",
      "30                      Okay, please keep me updated.  \n",
      "31                                          Okay sure  \n"
     ]
    },
    {
     "name": "stderr",
     "output_type": "stream",
     "text": [
      "2023-12-05 17:43:13,906 - DEBUG - Row appended for chat file: WhatsApp Chat with Alice EWYL22E0921.txt\n"
     ]
    },
    {
     "name": "stdout",
     "output_type": "stream",
     "text": [
      "ENTER THE LOOP:               datetime           sender  \\\n",
      "378 2023-12-04 16:36:00     Aditi Edoofa   \n",
      "379 2023-12-04 16:37:00  +91 70272 84972   \n",
      "\n",
      "                                               message  \n",
      "378  Greetings Anesu!  I trust this message finds y...  \n",
      "379                                                Oky  \n"
     ]
    },
    {
     "name": "stderr",
     "output_type": "stream",
     "text": [
      "2023-12-05 17:43:14,199 - DEBUG - Row appended for chat file: WhatsApp Chat with Anesu EWYL22E0418.txt\n",
      "2023-12-05 17:43:14,417 - DEBUG - Row appended for chat file: WhatsApp Chat with Anotida EWYL23E0165.txt\n"
     ]
    },
    {
     "name": "stdout",
     "output_type": "stream",
     "text": [
      "ENTER THE LOOP:               datetime            sender  \\\n",
      "84  2023-12-04 14:04:00      Aditi Edoofa   \n",
      "85  2023-12-04 14:07:00  +263 77 575 2245   \n",
      "86  2023-12-04 14:09:00      Aditi Edoofa   \n",
      "87  2023-12-04 14:20:00  +263 77 575 2245   \n",
      "88  2023-12-04 14:20:00  +263 77 575 2245   \n",
      "89  2023-12-04 14:20:00  +263 77 575 2245   \n",
      "90  2023-12-04 14:20:00  +263 77 575 2245   \n",
      "91  2023-12-04 14:22:00      Aditi Edoofa   \n",
      "92  2023-12-04 14:22:00      Aditi Edoofa   \n",
      "93  2023-12-04 14:22:00  +263 77 575 2245   \n",
      "94  2023-12-04 14:23:00      Aditi Edoofa   \n",
      "95  2023-12-04 14:37:00  +263 77 575 2245   \n",
      "96  2023-12-04 14:38:00      Aditi Edoofa   \n",
      "97  2023-12-04 14:49:00  +263 77 575 2245   \n",
      "98  2023-12-04 14:50:00  +263 77 575 2245   \n",
      "99  2023-12-04 14:51:00  +263 77 575 2245   \n",
      "100 2023-12-04 14:52:00      Aditi Edoofa   \n",
      "101 2023-12-04 14:52:00      Aditi Edoofa   \n",
      "102 2023-12-04 14:52:00      Aditi Edoofa   \n",
      "103 2023-12-04 14:53:00  +263 77 575 2245   \n",
      "104 2023-12-04 14:53:00      Aditi Edoofa   \n",
      "105 2023-12-04 15:05:00      Aditi Edoofa   \n",
      "106 2023-12-04 15:09:00  +263 77 575 2245   \n",
      "107 2023-12-04 15:42:00   +27 71 486 9544   \n",
      "\n",
      "                                               message  \n",
      "84   Happy Monday! 🌸 Sending you positive vibes for...  \n",
      "85                                                 Yes  \n",
      "86   I would appreciate it if you can briefly summa...  \n",
      "87   The Document outlines how the EWYL program wil...  \n",
      "88   The document also outlines skills that are eme...  \n",
      "89   It also states how Edoofa jas tried by all mea...  \n",
      "90   A lot of skills were given and these include.....  \n",
      "91                                    This is amazing!  \n",
      "92   I will start by explaining the projects in det...  \n",
      "93                                                Okay  \n",
      "94                                     <Media omitted>  \n",
      "95                                                Done  \n",
      "96   Okay, so very quickly-can you summarize whatev...  \n",
      "97   *The audio summarised that* : Phase 1 is the C...  \n",
      "98   It also stated the advantages of creating a li...  \n",
      "99   1) it would enhance my credability 2) expand m...  \n",
      "100  You know what, this is fantastic! This is the ...  \n",
      "101  So, I am going to share an extremely significa...  \n",
      "102                                    <Media omitted>  \n",
      "103                                              Noted  \n",
      "104  After you go through this, I would appreciate ...  \n",
      "105  We are wrapping up this session We'll pick up ...  \n",
      "106                                               Okay  \n",
      "107              Thank you. Enjoy the rest of your day  \n"
     ]
    },
    {
     "name": "stderr",
     "output_type": "stream",
     "text": [
      "2023-12-05 17:43:14,703 - DEBUG - Row appended for chat file: WhatsApp Chat with Anotidaishe EWYL23E0465.txt\n"
     ]
    },
    {
     "name": "stdout",
     "output_type": "stream",
     "text": [
      "ENTER THE LOOP:               datetime        sender  \\\n",
      "386 2023-12-04 08:33:00  Aditi Edoofa   \n",
      "387 2023-12-04 09:39:00  Aditi Edoofa   \n",
      "\n",
      "                                               message  \n",
      "386  Happy Monday! 🌸 Sending you positive vibes for...  \n",
      "387                   @263785019780 Any updates on it?  \n"
     ]
    },
    {
     "name": "stderr",
     "output_type": "stream",
     "text": [
      "2023-12-05 17:43:14,938 - DEBUG - Row appended for chat file: WhatsApp Chat with Ashley EWYL22E1272.txt\n"
     ]
    },
    {
     "name": "stdout",
     "output_type": "stream",
     "text": [
      "ENTER THE LOOP:               datetime            sender  \\\n",
      "153 2023-12-04 08:35:00      Aditi Edoofa   \n",
      "154 2023-12-04 08:36:00  +263 78 006 4475   \n",
      "155 2023-12-04 08:36:00  +263 78 006 4475   \n",
      "156 2023-12-04 08:39:00      Aditi Edoofa   \n",
      "157 2023-12-04 08:41:00  +263 78 006 4475   \n",
      "158 2023-12-04 08:44:00      Aditi Edoofa   \n",
      "159 2023-12-04 08:45:00      Aditi Edoofa   \n",
      "160 2023-12-04 08:47:00  +263 78 006 4475   \n",
      "161 2023-12-04 08:54:00      Aditi Edoofa   \n",
      "162 2023-12-04 08:54:00      Aditi Edoofa   \n",
      "163 2023-12-04 08:54:00      Aditi Edoofa   \n",
      "164 2023-12-04 08:57:00  +263 78 006 4475   \n",
      "165 2023-12-04 09:15:00      Aditi Edoofa   \n",
      "166 2023-12-04 09:20:00      Aditi Edoofa   \n",
      "167 2023-12-04 09:20:00      Aditi Edoofa   \n",
      "168 2023-12-04 09:20:00      Aditi Edoofa   \n",
      "169 2023-12-04 09:20:00      Aditi Edoofa   \n",
      "170 2023-12-04 09:20:00      Aditi Edoofa   \n",
      "171 2023-12-04 09:20:00      Aditi Edoofa   \n",
      "172 2023-12-04 09:20:00      Aditi Edoofa   \n",
      "173 2023-12-04 09:20:00      Aditi Edoofa   \n",
      "174 2023-12-04 09:20:00      Aditi Edoofa   \n",
      "175 2023-12-04 09:34:00  +263 78 006 4475   \n",
      "176 2023-12-04 09:35:00      Aditi Edoofa   \n",
      "177 2023-12-04 09:35:00      Aditi Edoofa   \n",
      "178 2023-12-04 09:35:00      Aditi Edoofa   \n",
      "179 2023-12-04 09:36:00  +263 78 006 4475   \n",
      "\n",
      "                                               message  \n",
      "153  Happy Monday! 🌸 Sending you positive vibes for...  \n",
      "154                                 Good morning ma'am  \n",
      "155                                  Yes l am prepared  \n",
      "156  Great, can you share what you have retained ti...  \n",
      "157           I have been doing the community building  \n",
      "158                                       Okay, great!  \n",
      "159  So may I know what you have retained till now ...  \n",
      "160  I had been trying to enroll students into grou...  \n",
      "161                                Okay, I understand.  \n",
      "162  I think we’re ready to move forward. I’m shari...  \n",
      "163                                    <Media omitted>  \n",
      "164            Ma'am I think we did this one else well  \n",
      "165                                       Okay, noted.  \n",
      "166  Now let me share some important resources with...  \n",
      "167  To give you an insight about Edoofa, it is a s...  \n",
      "168  Edoofa is a *social-for-profit organization* t...  \n",
      "169  Edoofa scholarship program is currently helpin...  \n",
      "170  _Over the past 5 years, after counseling tens ...  \n",
      "171  Speaking specifically about Zimbabwe, they hav...  \n",
      "172  The Child of the *DEO, Manicaland* Sir Abson M...  \n",
      "173  Along with this, schools can be benefited in t...  \n",
      "174  Once you go through all the information, and s...  \n",
      "175                             Oky ma'am l understand  \n",
      "176  *School Details*:  1. School Name: 2. School P...  \n",
      "177  When the school’s per-term fees are less than ...  \n",
      "178  Alright! This is it for today. So we will resu...  \n",
      "179                   Alright ma'am thank you good day  \n",
      "ENTER THE LOOP:               datetime             sender  \\\n",
      "155 2023-12-04 15:41:00       Aditi Edoofa   \n",
      "156 2023-12-04 15:44:00       Aditi Edoofa   \n",
      "157 2023-12-04 17:38:00  +265 991 40 67 78   \n",
      "158 2023-12-04 17:39:00  +265 991 40 67 78   \n",
      "\n",
      "                                               message  \n",
      "155  Greetings of the day @265991406778 Hope you ar...  \n",
      "156  Since Auster is not availabe for her EWYL jour...  \n",
      "157       Greetings back, we are all well and you all?  \n",
      "158  When should she create the video and should be...  \n"
     ]
    },
    {
     "name": "stderr",
     "output_type": "stream",
     "text": [
      "2023-12-05 17:43:15,191 - DEBUG - Row appended for chat file: WhatsApp Chat with Auster EWYL23E0859.txt\n",
      "2023-12-05 17:43:15,430 - DEBUG - Row appended for chat file: WhatsApp Chat with Auxillia EWYL23E0451.txt\n"
     ]
    },
    {
     "name": "stdout",
     "output_type": "stream",
     "text": [
      "ENTER THE LOOP:               datetime            sender  \\\n",
      "188 2023-12-04 09:38:00  +263 78 392 5961   \n",
      "189 2023-12-04 09:38:00  +263 78 392 5961   \n",
      "190 2023-12-04 10:15:00      Aditi Edoofa   \n",
      "191 2023-12-04 12:15:00      Aditi Edoofa   \n",
      "\n",
      "                                               message  \n",
      "188  *Application form to be shared *  *Offline App...  \n",
      "189  *School Details*:  1. School Name:Kenzim colle...  \n",
      "190  Greetings of the day Auxillia! Hope you are we...  \n",
      "191  @263783925961 Kindly remember to adhere to you...  \n",
      "ENTER THE LOOP:              datetime            sender  \\\n",
      "49 2023-12-04 13:04:00  +263 77 373 6612   \n",
      "50 2023-12-04 13:56:00      Aditi Edoofa   \n",
      "51 2023-12-04 13:59:00  +263 77 373 6612   \n",
      "52 2023-12-04 14:02:00  +263 77 373 6612   \n",
      "53 2023-12-04 14:07:00      Aditi Edoofa   \n",
      "54 2023-12-04 14:08:00  +263 77 373 6612   \n",
      "55 2023-12-04 14:09:00      Aditi Edoofa   \n",
      "56 2023-12-04 14:12:00  +263 77 373 6612   \n",
      "57 2023-12-04 14:15:00      Aditi Edoofa   \n",
      "58 2023-12-04 14:16:00      Aditi Edoofa   \n",
      "59 2023-12-04 14:16:00  +263 77 373 6612   \n",
      "60 2023-12-04 14:17:00      Aditi Edoofa   \n",
      "61 2023-12-04 14:23:00  +263 77 373 6612   \n",
      "62 2023-12-04 14:24:00      Aditi Edoofa   \n",
      "63 2023-12-04 15:05:00      Aditi Edoofa   \n",
      "64 2023-12-04 15:11:00  +263 77 373 6612   \n",
      "65 2023-12-04 15:20:00      Aditi Edoofa   \n",
      "66 2023-12-04 15:31:00  +263 77 373 6612   \n",
      "67 2023-12-04 15:31:00  +263 77 373 6612   \n",
      "68 2023-12-04 15:35:00      Aditi Edoofa   \n",
      "69 2023-12-04 15:36:00  +263 77 373 6612   \n",
      "\n",
      "                                              message  \n",
      "49                           Good Afternoon Ms. Aditi  \n",
      "50  Good afternoon Bathandile! Hope you are well. ...  \n",
      "51  I am doing very well Ms. Aditi . Thank you.  N...  \n",
      "52                          Its now 2:00 pm Ms Aditi.  \n",
      "53  Yes, great. Are you prepared for today's session?  \n",
      "54                        Yes l am prepared Ms. Aditi  \n",
      "55  Great, can you share what you have retained ti...  \n",
      "56  Sometimes l would go through the newsletters t...  \n",
      "57  I'm sending a document your way. Please be sur...  \n",
      "58                                    <Media omitted>  \n",
      "59                                              Noted  \n",
      "60  After you go through this, I would appreciate ...  \n",
      "61              Noted Ms. Aditi  I will surely do so.  \n",
      "62               Yes, I am waiting for your response.  \n",
      "63  We are wrapping up this session We'll pick up ...  \n",
      "64  Sorry Ms Aditi  for responding very late. I wa...  \n",
      "65  I understand, but please be more active in tom...  \n",
      "66  About the document. It was giving more details...  \n",
      "67      Yes Ms Aditi. I will be more active tomorrow.  \n",
      "68                                             Great!  \n",
      "69                                Thank you Ms. Aditi  \n"
     ]
    },
    {
     "name": "stderr",
     "output_type": "stream",
     "text": [
      "2023-12-05 17:43:15,625 - DEBUG - Row appended for chat file: WhatsApp Chat with Bathandile EWYL22E0577.txt\n",
      "2023-12-05 17:43:15,863 - DEBUG - Row appended for chat file: WhatsApp Chat with Beatrice EWYL23E0657.txt\n"
     ]
    },
    {
     "name": "stdout",
     "output_type": "stream",
     "text": [
      "ENTER THE LOOP:               datetime           sender  \\\n",
      "128 2023-12-04 14:20:00     Aditi Edoofa   \n",
      "129 2023-12-04 14:34:00  +260 97 8980318   \n",
      "130 2023-12-04 14:35:00     Aditi Edoofa   \n",
      "131 2023-12-04 14:35:00  +260 97 8980318   \n",
      "132 2023-12-04 14:38:00     Aditi Edoofa   \n",
      "133 2023-12-04 14:52:00  +260 97 8980318   \n",
      "134 2023-12-04 14:53:00     Aditi Edoofa   \n",
      "135 2023-12-04 14:54:00  +260 97 8980318   \n",
      "\n",
      "                                               message  \n",
      "128  Greetings Beatrice! Hope you are well.  May I ...  \n",
      "129                                     Good afternoon  \n",
      "130                         @260978980318 How are you?  \n",
      "131                    Am well thank you. How are you?  \n",
      "132                      I am well. Thanks for asking.  \n",
      "133  Beatrice is down with terrible flu hopefully s...  \n",
      "134  Okay, I hope she gets well soon, please let me...  \n",
      "135                                                  🙏  \n"
     ]
    },
    {
     "name": "stderr",
     "output_type": "stream",
     "text": [
      "2023-12-05 17:43:16,125 - DEBUG - Row appended for chat file: WhatsApp Chat with Bernadette EWYL22E0557.txt\n"
     ]
    },
    {
     "name": "stdout",
     "output_type": "stream",
     "text": [
      "ENTER THE LOOP:               datetime        sender  \\\n",
      "193 2023-12-04 08:26:00  Aditi Edoofa   \n",
      "194 2023-12-04 15:33:00  Aditi Edoofa   \n",
      "\n",
      "                                               message  \n",
      "193  Greetings of the day Bernadette! Hope you are ...  \n",
      "194  I've observed a pattern of irregular attendanc...  \n"
     ]
    },
    {
     "name": "stderr",
     "output_type": "stream",
     "text": [
      "2023-12-05 17:43:16,330 - DEBUG - Row appended for chat file: WhatsApp Chat with Bethel EWYL22E0867.txt\n"
     ]
    },
    {
     "name": "stdout",
     "output_type": "stream",
     "text": [
      "ENTER THE LOOP:              datetime            sender  \\\n",
      "68 2023-12-04 14:03:00      Aditi Edoofa   \n",
      "69 2023-12-04 14:05:00  +263 71 961 8360   \n",
      "70 2023-12-04 14:06:00      Aditi Edoofa   \n",
      "71 2023-12-04 15:06:00      Aditi Edoofa   \n",
      "72 2023-12-04 16:26:00  +263 71 961 8360   \n",
      "\n",
      "                                              message  \n",
      "68  Happy Monday! 🌸 Sending you positive vibes for...  \n",
      "69                                      Yes thank you  \n",
      "70                                             Great!  \n",
      "71  We are wrapping up this session We'll pick up ...  \n",
      "72                                                Yes  \n"
     ]
    },
    {
     "name": "stderr",
     "output_type": "stream",
     "text": [
      "2023-12-05 17:43:16,598 - DEBUG - Row appended for chat file: WhatsApp Chat with Blessed EWYL23E0278.txt\n"
     ]
    },
    {
     "name": "stdout",
     "output_type": "stream",
     "text": [
      "ENTER THE LOOP:               datetime            sender  \\\n",
      "255 2023-12-04 08:35:00      Aditi Edoofa   \n",
      "256 2023-12-04 08:36:00  +263 71 677 2874   \n",
      "257 2023-12-04 08:39:00      Aditi Edoofa   \n",
      "258 2023-12-04 08:46:00  +263 71 677 2874   \n",
      "259 2023-12-04 08:53:00      Aditi Edoofa   \n",
      "260 2023-12-04 08:53:00      Aditi Edoofa   \n",
      "261 2023-12-04 08:54:00      Aditi Edoofa   \n",
      "262 2023-12-04 08:56:00  +263 71 677 2874   \n",
      "263 2023-12-04 09:13:00      Aditi Edoofa   \n",
      "264 2023-12-04 09:15:00  +263 71 677 2874   \n",
      "265 2023-12-04 09:24:00      Aditi Edoofa   \n",
      "266 2023-12-04 09:24:00      Aditi Edoofa   \n",
      "267 2023-12-04 09:26:00  +263 71 677 2874   \n",
      "268 2023-12-04 09:27:00      Aditi Edoofa   \n",
      "269 2023-12-04 09:27:00      Aditi Edoofa   \n",
      "270 2023-12-04 09:27:00      Aditi Edoofa   \n",
      "271 2023-12-04 09:27:00      Aditi Edoofa   \n",
      "272 2023-12-04 09:27:00      Aditi Edoofa   \n",
      "273 2023-12-04 09:28:00      Aditi Edoofa   \n",
      "274 2023-12-04 09:29:00  +263 71 677 2874   \n",
      "275 2023-12-04 09:31:00      Aditi Edoofa   \n",
      "276 2023-12-04 09:33:00  +263 71 677 2874   \n",
      "277 2023-12-04 09:34:00      Aditi Edoofa   \n",
      "278 2023-12-04 09:35:00      Aditi Edoofa   \n",
      "279 2023-12-04 09:37:00  +263 71 677 2874   \n",
      "280 2023-12-04 09:37:00      Aditi Edoofa   \n",
      "281 2023-12-04 09:38:00      Aditi Edoofa   \n",
      "282 2023-12-04 09:38:00      Aditi Edoofa   \n",
      "283 2023-12-04 09:39:00  +263 71 677 2874   \n",
      "\n",
      "                                               message  \n",
      "255  Happy Monday! 🌸 Sending you positive vibes for...  \n",
      "256  Good morning ma'am, I am prepared for the session  \n",
      "257  Great, can you share what you have retained ti...  \n",
      "258  From our previous sessions, I had been tasked ...  \n",
      "259                                       Okay, great!  \n",
      "260         This is amazing! <This message was edited>  \n",
      "261  Now, we’ve come to the end of one part of your...  \n",
      "262  We can proceed ma'am, for now I don't have any...  \n",
      "263  It’s amazing to be your partner in this EWYL j...  \n",
      "264  Thank you for the kind words, am honored to ha...  \n",
      "265                                              Sure!  \n",
      "266  So now we are ready to begin our new journey. ...  \n",
      "267               I will go with *MONDAY and THURSDAY*  \n",
      "268  SECOND- In our sessions (that will be happenin...  \n",
      "269  THIRD- All our conversations from now on will ...  \n",
      "270                      EWYL Line.vcf (file attached)  \n",
      "271  FOURTH- You have to come on the EWYL Line and ...  \n",
      "272  FIFTH- Every day you have to come and say *\"I ...  \n",
      "273  It serves as a link between every student, cou...  \n",
      "274                           Okay ma'am I understand.  \n",
      "275  Your session is on Monday and Thursday from 09...  \n",
      "276  Sorry ma'am I have a question, I don't underst...  \n",
      "277  Okay, so basically do you remember the program...  \n",
      "278  It mandates us to connect a minimum of 4 times...  \n",
      "279           Ohh okay, I get it now. Thank you ma'am.  \n",
      "280                                              Sure!  \n",
      "281  So here are a few more important points that I...  \n",
      "282  Blessed, that concludes our initial orientatio...  \n",
      "283                             Okay ma'am, thank you.  \n"
     ]
    },
    {
     "name": "stderr",
     "output_type": "stream",
     "text": [
      "2023-12-05 17:43:16,820 - DEBUG - Row appended for chat file: WhatsApp Chat with Blessing EWYL23E0133.txt\n"
     ]
    },
    {
     "name": "stdout",
     "output_type": "stream",
     "text": [
      "ENTER THE LOOP:               datetime            sender  \\\n",
      "102 2023-12-04 14:46:00      Aditi Edoofa   \n",
      "103 2023-12-04 14:47:00      Aditi Edoofa   \n",
      "104 2023-12-04 14:50:00  +263 71 438 0324   \n",
      "105 2023-12-04 14:51:00  +263 71 438 0324   \n",
      "106 2023-12-04 14:52:00      Aditi Edoofa   \n",
      "\n",
      "                                               message  \n",
      "102  Greetings of the day! Hope you are well.  This...  \n",
      "103  So we will resume our session tomorrow onwards...  \n",
      "104                                  Noted with thanks  \n",
      "105                             I'm well, how are you?  \n",
      "106                      I am well. Thanks for asking.  \n",
      "ENTER THE LOOP:               datetime            sender                            message\n",
      "264 2023-12-04 08:35:00  +263 77 673 7538                       Good morning\n",
      "265 2023-12-04 10:00:00      Aditi Edoofa  Good Morning Brandon How are you?\n",
      "266 2023-12-04 10:01:00  +263 77 673 7538                Am good how are you\n",
      "267 2023-12-04 10:03:00      Aditi Edoofa      I am well. Thanks for asking.\n"
     ]
    },
    {
     "name": "stderr",
     "output_type": "stream",
     "text": [
      "2023-12-05 17:43:17,090 - DEBUG - Row appended for chat file: WhatsApp Chat with Brandon EWYL23E0695.txt\n"
     ]
    },
    {
     "name": "stdout",
     "output_type": "stream",
     "text": [
      "ENTER THE LOOP:               datetime            sender  \\\n",
      "246 2023-12-04 09:59:00  +263 78 080 1097   \n",
      "247 2023-12-04 14:18:00      Aditi Edoofa   \n",
      "248 2023-12-04 14:19:00      Aditi Edoofa   \n",
      "249 2023-12-04 15:38:00  +263 78 080 1097   \n",
      "250 2023-12-04 15:44:00      Aditi Edoofa   \n",
      "\n",
      "                                               message  \n",
      "246                                              Hello  \n",
      "247                    Greetings Brendon! How are you?  \n",
      "248  May I know if you are available to resume ypur...  \n",
      "249                                          Available  \n",
      "250  So we will resume our session tomorrow onwards...  \n"
     ]
    },
    {
     "name": "stderr",
     "output_type": "stream",
     "text": [
      "2023-12-05 17:43:17,350 - DEBUG - Row appended for chat file: WhatsApp Chat with Brendon EWYL23E0692.txt\n"
     ]
    },
    {
     "name": "stdout",
     "output_type": "stream",
     "text": [
      "ENTER THE LOOP:              datetime            sender  \\\n",
      "33 2023-12-04 08:32:00  +263 78 128 2110   \n",
      "34 2023-12-04 08:34:00      Aditi Edoofa   \n",
      "35 2023-12-04 08:37:00  +263 78 128 2110   \n",
      "36 2023-12-04 08:40:00      Aditi Edoofa   \n",
      "37 2023-12-04 08:44:00  +263 78 128 2110   \n",
      "38 2023-12-04 08:50:00      Aditi Edoofa   \n",
      "39 2023-12-04 08:50:00      Aditi Edoofa   \n",
      "40 2023-12-04 08:50:00  +263 78 128 2110   \n",
      "41 2023-12-04 08:51:00      Aditi Edoofa   \n",
      "42 2023-12-04 08:53:00  +263 78 128 2110   \n",
      "43 2023-12-04 09:13:00      Aditi Edoofa   \n",
      "44 2023-12-04 09:15:00  +263 78 128 2110   \n",
      "45 2023-12-04 09:22:00      Aditi Edoofa   \n",
      "46 2023-12-04 09:23:00  +263 78 128 2110   \n",
      "47 2023-12-04 09:28:00  +263 78 128 2110   \n",
      "48 2023-12-04 09:30:00      Aditi Edoofa   \n",
      "49 2023-12-04 09:31:00      Aditi Edoofa   \n",
      "50 2023-12-04 09:32:00  +263 78 128 2110   \n",
      "51 2023-12-04 09:32:00      Aditi Edoofa   \n",
      "52 2023-12-04 09:33:00      Aditi Edoofa   \n",
      "53 2023-12-04 09:33:00  +263 78 128 2110   \n",
      "54 2023-12-04 09:36:00      Aditi Edoofa   \n",
      "55 2023-12-04 09:37:00  +263 78 128 2110   \n",
      "\n",
      "                                              message  \n",
      "33                                       Good morning  \n",
      "34  Happy Monday! 🌸 Sending you positive vibes for...  \n",
      "35                      Thank you...Yes l am prepared  \n",
      "36  Great, can you share what you have retained ti...  \n",
      "37  Oky there are three projects that l was suppos...  \n",
      "38                                        Okay, sure!  \n",
      "39  So I am sharing a document and you may go thou...  \n",
      "40                                      Oky thank you  \n",
      "41                                    <Media omitted>  \n",
      "42                                          Thank you  \n",
      "43          May I know if you have gone through this?  \n",
      "44                                         Yes l have  \n",
      "45  Okay, that’s wonderful. I want you to share yo...  \n",
      "46                                              Noted  \n",
      "47  EWYL programm is concerned on providing educat...  \n",
      "48                            Great! This is amazing!  \n",
      "49  May I know if you are thorough with the projec...  \n",
      "50                                      Yes l am done  \n",
      "51                                             Great!  \n",
      "52  So can you please explein your understanding o...  \n",
      "53                                              Noted  \n",
      "54  Alright! This is it for today. So we will resu...  \n",
      "55                 Noted,thnk you and have  great day  \n"
     ]
    },
    {
     "name": "stderr",
     "output_type": "stream",
     "text": [
      "2023-12-05 17:43:17,577 - DEBUG - Row appended for chat file: WhatsApp Chat with Brooklyn EWYL22E1062.txt\n",
      "2023-12-05 17:43:17,832 - DEBUG - Row appended for chat file: WhatsApp Chat with Cecilia EWYL23E0615.txt\n"
     ]
    },
    {
     "name": "stdout",
     "output_type": "stream",
     "text": [
      "ENTER THE LOOP:               datetime        sender  \\\n",
      "222 2023-12-04 08:35:00  Aditi Edoofa   \n",
      "223 2023-12-04 09:39:00  Aditi Edoofa   \n",
      "\n",
      "                                               message  \n",
      "222  Happy Monday! 🌸 Sending you positive vibes for...  \n",
      "223  @263779115643 @263779934323 @263788223195 May ...  \n",
      "ENTER THE LOOP:               datetime        sender  \\\n",
      "165 2023-12-04 12:10:00  Aditi Edoofa   \n",
      "\n",
      "                                               message  \n",
      "165  Greetings @263779828728 Hope you are well.  Ki...  \n"
     ]
    },
    {
     "name": "stderr",
     "output_type": "stream",
     "text": [
      "2023-12-05 17:43:18,083 - DEBUG - Row appended for chat file: WhatsApp Chat with Chantel EWYL22E0545.txt\n"
     ]
    },
    {
     "name": "stdout",
     "output_type": "stream",
     "text": [
      "ENTER THE LOOP:               datetime            sender  \\\n",
      "298 2023-12-04 14:04:00      Aditi Edoofa   \n",
      "299 2023-12-04 14:26:00  +263 78 517 8501   \n",
      "300 2023-12-04 14:28:00      Aditi Edoofa   \n",
      "301 2023-12-04 14:28:00      Aditi Edoofa   \n",
      "302 2023-12-04 14:29:00  +263 78 517 8501   \n",
      "303 2023-12-04 14:34:00      Aditi Edoofa   \n",
      "304 2023-12-04 14:34:00      Aditi Edoofa   \n",
      "305 2023-12-04 14:34:00      Aditi Edoofa   \n",
      "306 2023-12-04 14:34:00      Aditi Edoofa   \n",
      "307 2023-12-04 14:34:00      Aditi Edoofa   \n",
      "308 2023-12-04 14:34:00      Aditi Edoofa   \n",
      "309 2023-12-04 14:35:00      Aditi Edoofa   \n",
      "310 2023-12-04 14:35:00      Aditi Edoofa   \n",
      "311 2023-12-04 14:35:00      Aditi Edoofa   \n",
      "312 2023-12-04 14:35:00      Aditi Edoofa   \n",
      "313 2023-12-04 14:35:00  +263 78 517 8501   \n",
      "314 2023-12-04 14:38:00      Aditi Edoofa   \n",
      "315 2023-12-04 14:47:00  +263 78 517 8501   \n",
      "316 2023-12-04 14:48:00      Aditi Edoofa   \n",
      "317 2023-12-04 14:49:00  +263 78 517 8501   \n",
      "318 2023-12-04 14:51:00  +263 78 517 8501   \n",
      "319 2023-12-04 14:51:00      Aditi Edoofa   \n",
      "320 2023-12-04 14:55:00  +263 78 517 8501   \n",
      "321 2023-12-04 15:01:00      Aditi Edoofa   \n",
      "322 2023-12-04 15:01:00      Aditi Edoofa   \n",
      "323 2023-12-04 15:04:00      Aditi Edoofa   \n",
      "324 2023-12-04 15:05:00  +263 78 517 8501   \n",
      "325 2023-12-04 15:06:00  +263 78 517 8501   \n",
      "\n",
      "                                               message  \n",
      "298  Happy Monday! 🌸 Sending you positive vibes for...  \n",
      "299                                           Yes maam  \n",
      "300  When you will have the School Head’s Contact, ...  \n",
      "301  _So, This is what the First message should loo...  \n",
      "302                                  Okay l understand  \n",
      "303  Now let me share some important resources with...  \n",
      "304  Let me introduce you to the scholarship progra...  \n",
      "305  Edoofa is a *social-for-profit organization* t...  \n",
      "306  Edoofa scholarship program is currently helpin...  \n",
      "307  _Over the past 5 years, after counseling tens ...  \n",
      "308  Speaking specifically about Zimbabwe, they hav...  \n",
      "309  The Child of the *DEO, Manicaland* Sir Abson M...  \n",
      "310  Along with this, schools can be benefited in t...  \n",
      "311  Once you go through all the information, and s...  \n",
      "312  *School Details*:  1. School Name: 2. School P...  \n",
      "313                                     Okay thank you  \n",
      "314  When the school’s per-term fees are less than ...  \n",
      "315                                              Noted  \n",
      "316  Now, we’ve come to the end of one part of your...  \n",
      "317                                          Okay maam  \n",
      "318  Am l supposed to get in touch with boarding sc...  \n",
      "319          Any schools whose fees is more than $100.  \n",
      "320                                     Ooh okay noted  \n",
      "321  It’s amazing to be your partner in this EWYL j...  \n",
      "322  However, there are a few more skills that the ...  \n",
      "323  We are wrapping up this session We'll pick up ...  \n",
      "324                                                Yes  \n",
      "325                                          Thank you  \n"
     ]
    },
    {
     "name": "stderr",
     "output_type": "stream",
     "text": [
      "2023-12-05 17:43:18,380 - DEBUG - Row appended for chat file: WhatsApp Chat with Charlene EWYL23E0608.txt\n"
     ]
    },
    {
     "name": "stdout",
     "output_type": "stream",
     "text": [
      "ENTER THE LOOP:               datetime            sender  \\\n",
      "265 2023-12-04 09:44:00      Aditi Edoofa   \n",
      "266 2023-12-04 09:44:00      Aditi Edoofa   \n",
      "267 2023-12-04 11:13:00  +263 78 120 3249   \n",
      "268 2023-12-04 11:13:00  +263 78 120 3249   \n",
      "\n",
      "                                               message  \n",
      "265  Greetings @263781203249 Hope you are well.  Sure!  \n",
      "266                      EWYL Line.vcf (file attached)  \n",
      "267                      I'm good how are you Ms Aditi  \n",
      "268                                          Thank you  \n"
     ]
    },
    {
     "name": "stderr",
     "output_type": "stream",
     "text": [
      "2023-12-05 17:43:18,656 - DEBUG - Row appended for chat file: WhatsApp Chat with Charmaine EWYL23E0661.txt\n"
     ]
    },
    {
     "name": "stdout",
     "output_type": "stream",
     "text": [
      "ENTER THE LOOP:               datetime        sender  \\\n",
      "234 2023-12-04 08:25:00  Aditi Edoofa   \n",
      "235 2023-12-04 15:32:00  Aditi Edoofa   \n",
      "236 2023-12-04 16:38:00  Aditi Edoofa   \n",
      "\n",
      "                                               message  \n",
      "234  Greetings of the day Chimoga! Hope you are wel...  \n",
      "235  I've observed a pattern of irregular attendanc...  \n",
      "236  I wanted to inform you that our upcoming sessi...  \n"
     ]
    },
    {
     "name": "stderr",
     "output_type": "stream",
     "text": [
      "2023-12-05 17:43:19,002 - DEBUG - Row appended for chat file: WhatsApp Chat with Chimoga EWYL22E0494.txt\n"
     ]
    },
    {
     "name": "stdout",
     "output_type": "stream",
     "text": [
      "ENTER THE LOOP:               datetime            sender  \\\n",
      "454 2023-12-04 10:12:00      Aditi Edoofa   \n",
      "455 2023-12-04 14:07:00  +263 78 549 3066   \n",
      "456 2023-12-04 14:07:00  +263 78 549 3066   \n",
      "457 2023-12-04 14:25:00      Aditi Edoofa   \n",
      "458 2023-12-04 16:27:00  +263 78 549 3066   \n",
      "\n",
      "                                               message  \n",
      "454  Greetings Cleopatra! Hope you are well.  Okay,...  \n",
      "455                                        Hello ma'am  \n",
      "456                    I'm doing just fine How are you  \n",
      "457                      I am well. Thanks for asking.  \n",
      "458                                         Sure ma'am  \n"
     ]
    },
    {
     "name": "stderr",
     "output_type": "stream",
     "text": [
      "2023-12-05 17:43:19,349 - DEBUG - Row appended for chat file: WhatsApp Chat with Cleopatra EWYL22E1239.txt\n"
     ]
    },
    {
     "name": "stdout",
     "output_type": "stream",
     "text": [
      "ENTER THE LOOP:               datetime        sender  \\\n",
      "236 2023-12-04 12:12:00  Aditi Edoofa   \n",
      "\n",
      "                                               message  \n",
      "236  Greetings @263781262077 Hope you are well.  Ki...  \n"
     ]
    },
    {
     "name": "stderr",
     "output_type": "stream",
     "text": [
      "2023-12-05 17:43:19,631 - DEBUG - Row appended for chat file: WhatsApp Chat with Denzel EWYL23E0809.txt\n"
     ]
    },
    {
     "name": "stdout",
     "output_type": "stream",
     "text": [
      "ENTER THE LOOP:              datetime            sender  \\\n",
      "48 2023-12-04 08:33:00  +263 77 390 5012   \n",
      "49 2023-12-04 08:34:00      Aditi Edoofa   \n",
      "50 2023-12-04 08:34:00  +263 77 390 5012   \n",
      "51 2023-12-04 08:36:00      Aditi Edoofa   \n",
      "52 2023-12-04 08:36:00      Aditi Edoofa   \n",
      "53 2023-12-04 08:48:00  +263 77 390 5012   \n",
      "54 2023-12-04 08:48:00      Aditi Edoofa   \n",
      "55 2023-12-04 08:49:00      Aditi Edoofa   \n",
      "56 2023-12-04 08:49:00      Aditi Edoofa   \n",
      "57 2023-12-04 08:50:00  +263 77 390 5012   \n",
      "58 2023-12-04 08:55:00      Aditi Edoofa   \n",
      "59 2023-12-04 08:59:00  +263 77 390 5012   \n",
      "60 2023-12-04 09:18:00      Aditi Edoofa   \n",
      "61 2023-12-04 09:18:00      Aditi Edoofa   \n",
      "62 2023-12-04 09:18:00  +263 77 390 5012   \n",
      "63 2023-12-04 09:23:00      Aditi Edoofa   \n",
      "64 2023-12-04 09:23:00      Aditi Edoofa   \n",
      "65 2023-12-04 09:37:00      Aditi Edoofa   \n",
      "\n",
      "                                              message  \n",
      "48                                            Morning  \n",
      "49  Happy Monday! 🌸 Sending you positive vibes for...  \n",
      "50                                                Yes  \n",
      "51                                             Great!  \n",
      "52  I would appreciate it if you can briefly summa...  \n",
      "53  From that I understand that it's a guide to se...  \n",
      "54                                   This is amazing!  \n",
      "55  Okay- now here are 2 things I would like to br...  \n",
      "56  2, and the fun part- I’m sure you read about S...  \n",
      "57                                                 Ok  \n",
      "58  Now, Let us discuss how we can find suitable c...  \n",
      "59  I will create my LinkedIn account tomorrow but...  \n",
      "60                                             Great!  \n",
      "61  Also, I would like to tell you that currently ...  \n",
      "62                                                 Ok  \n",
      "63  *Now that we’ve both summarized our understand...  \n",
      "64                                    <Media omitted>  \n",
      "65  Alright! This is it for today. So we will resu...  \n"
     ]
    },
    {
     "name": "stderr",
     "output_type": "stream",
     "text": [
      "2023-12-05 17:43:19,851 - DEBUG - Row appended for chat file: WhatsApp Chat with Donnel EWYL22E1090.txt\n",
      "2023-12-05 17:43:20,056 - DEBUG - Row appended for chat file: WhatsApp Chat with Dylan EWYL23E0140.txt\n"
     ]
    },
    {
     "name": "stdout",
     "output_type": "stream",
     "text": [
      "ENTER THE LOOP:              datetime            sender  \\\n",
      "57 2023-12-04 10:04:00      Aditi Edoofa   \n",
      "58 2023-12-04 10:54:00  +263 71 561 4711   \n",
      "59 2023-12-04 14:43:00      Aditi Edoofa   \n",
      "\n",
      "                                            message  \n",
      "57  Greetings Dylan! Hope you are well.  Good work!  \n",
      "58                            Good morning Ms Aditi  \n",
      "59                                      Yes, Dylan.  \n",
      "ENTER THE LOOP:               datetime        sender  \\\n",
      "398 2023-12-04 12:11:00  Aditi Edoofa   \n",
      "\n",
      "                                               message  \n",
      "398  Greetings @263715621195 Hope you are well.  Ki...  \n"
     ]
    },
    {
     "name": "stderr",
     "output_type": "stream",
     "text": [
      "2023-12-05 17:43:20,358 - DEBUG - Row appended for chat file: WhatsApp Chat with Emmanuel EWYL23E0362.txt\n"
     ]
    },
    {
     "name": "stdout",
     "output_type": "stream",
     "text": [
      "ENTER THE LOOP:               datetime           sender  \\\n",
      "320 2023-12-04 08:11:00     Aditi Edoofa   \n",
      "321 2023-12-04 08:35:00  +91 92891 45920   \n",
      "322 2023-12-04 08:36:00  +91 92891 45920   \n",
      "323 2023-12-04 10:14:00     Aditi Edoofa   \n",
      "324 2023-12-04 10:22:00  +91 92891 45920   \n",
      "325 2023-12-04 10:51:00     Aditi Edoofa   \n",
      "326 2023-12-04 18:46:00  +91 92891 45920   \n",
      "\n",
      "                                               message  \n",
      "320  Greetings Hove! Hope you are well.  This is am...  \n",
      "321                                          Okay maam  \n",
      "322                                    <Media omitted>  \n",
      "323  Superb! Ensure to use a professional image for...  \n",
      "324                             Okay maam.i will do so  \n",
      "325                                             Great!  \n",
      "326                                    <Media omitted>  \n"
     ]
    },
    {
     "name": "stderr",
     "output_type": "stream",
     "text": [
      "2023-12-05 17:43:20,647 - DEBUG - Row appended for chat file: WhatsApp Chat with Hove EWYL23E0076.txt\n",
      "2023-12-05 17:43:20,932 - DEBUG - Row appended for chat file: WhatsApp Chat with Israel EWYL23E0667.txt\n"
     ]
    },
    {
     "name": "stdout",
     "output_type": "stream",
     "text": [
      "ENTER THE LOOP:               datetime            sender  \\\n",
      "214 2023-12-04 14:04:00      Aditi Edoofa   \n",
      "215 2023-12-04 15:07:00      Aditi Edoofa   \n",
      "216 2023-12-04 16:27:00  +263 77 494 6012   \n",
      "217 2023-12-04 16:28:00      Aditi Edoofa   \n",
      "218 2023-12-04 16:30:00  +263 77 494 6012   \n",
      "\n",
      "                                               message  \n",
      "214  Happy Monday! 🌸 Sending you positive vibes for...  \n",
      "215  @263789046919 May I know why didn't you show u...  \n",
      "216  Sorry ma'am for using two phones I usually swi...  \n",
      "217            Okay, I understand. Be on time tomorrow  \n",
      "218            Ok ma'am thank you for the kind heart 👏  \n"
     ]
    },
    {
     "name": "stderr",
     "output_type": "stream",
     "text": [
      "2023-12-05 17:43:21,188 - DEBUG - Row appended for chat file: WhatsApp Chat with Jenipher EWYL22E0685.txt\n"
     ]
    },
    {
     "name": "stdout",
     "output_type": "stream",
     "text": [
      "ENTER THE LOOP:               datetime        sender  \\\n",
      "233 2023-12-04 14:02:00  Aditi Edoofa   \n",
      "234 2023-12-04 14:02:00  Aditi Edoofa   \n",
      "\n",
      "                                               message  \n",
      "233  Greetings @263777893976 Hope you are well.  Th...  \n",
      "234  So we will resume our session tomorrow onwards...  \n",
      "ENTER THE LOOP:               datetime        sender  \\\n",
      "151 2023-12-04 14:44:00  Aditi Edoofa   \n",
      "152 2023-12-04 14:45:00  Aditi Edoofa   \n",
      "\n",
      "                                               message  \n",
      "151          Greetings @27623236383 Hope you are well,  \n",
      "152  Okay, sure. Please share this group's invite l...  \n"
     ]
    },
    {
     "name": "stderr",
     "output_type": "stream",
     "text": [
      "2023-12-05 17:43:21,430 - DEBUG - Row appended for chat file: WhatsApp Chat with Kimberly EWYL23E0623.txt\n",
      "2023-12-05 17:43:21,704 - DEBUG - Row appended for chat file: WhatsApp Chat with LILIAN EWYL22E0211.txt\n"
     ]
    },
    {
     "name": "stdout",
     "output_type": "stream",
     "text": [
      "ENTER THE LOOP:               datetime        sender  \\\n",
      "275 2023-12-04 15:31:00  Aditi Edoofa   \n",
      "\n",
      "                                               message  \n",
      "275  Greetings of the day Lilian! Hope you are well...  \n",
      "ENTER THE LOOP:              datetime            sender  \\\n",
      "58 2023-12-04 15:24:00      Aditi Edoofa   \n",
      "59 2023-12-04 15:24:00      Aditi Edoofa   \n",
      "60 2023-12-04 15:51:00  +263 77 466 6432   \n",
      "61 2023-12-04 16:10:00      Aditi Edoofa   \n",
      "62 2023-12-04 16:15:00  +263 77 466 6432   \n",
      "63 2023-12-04 16:29:00      Aditi Edoofa   \n",
      "\n",
      "                                              message  \n",
      "58  Greetings Lucia! Hope you are well. <This mess...  \n",
      "59  Your session is on Tuesday and Friday from 09:...  \n",
      "60                                  How are you doing  \n",
      "61                      I am well. Thanks for asking.  \n",
      "62                                              Noted  \n",
      "63                                             Great!  \n"
     ]
    },
    {
     "name": "stderr",
     "output_type": "stream",
     "text": [
      "2023-12-05 17:43:21,921 - DEBUG - Row appended for chat file: WhatsApp Chat with Lucia EWYL22E1322.txt\n",
      "2023-12-05 17:43:22,172 - DEBUG - Row appended for chat file: WhatsApp Chat with Lushomo EWYL23E0681.txt\n"
     ]
    },
    {
     "name": "stdout",
     "output_type": "stream",
     "text": [
      "ENTER THE LOOP:               datetime        sender  \\\n",
      "214 2023-12-04 09:57:00  Aditi Edoofa   \n",
      "\n",
      "                                               message  \n",
      "214  Greetings @260977885611 @260977883785 Hope you...  \n"
     ]
    },
    {
     "name": "stderr",
     "output_type": "stream",
     "text": [
      "2023-12-05 17:43:22,483 - DEBUG - Row appended for chat file: WhatsApp Chat with Mcwillard EWYL23E0483.txt\n"
     ]
    },
    {
     "name": "stdout",
     "output_type": "stream",
     "text": [
      "ENTER THE LOOP:               datetime            sender  \\\n",
      "372 2023-12-04 12:10:00      Aditi Edoofa   \n",
      "373 2023-12-04 13:06:00  +263 78 114 3633   \n",
      "\n",
      "                                               message  \n",
      "372  Greetings Mcwillard! Hope you are well.  Kindl...  \n",
      "373                                           Ok ma'am  \n",
      "ENTER THE LOOP:              datetime        sender  \\\n",
      "97 2023-12-04 12:10:00  Aditi Edoofa   \n",
      "\n",
      "                                              message  \n",
      "97  Greetings @263713490636 Hope you are well.  Ki...  \n"
     ]
    },
    {
     "name": "stderr",
     "output_type": "stream",
     "text": [
      "2023-12-05 17:43:22,715 - DEBUG - Row appended for chat file: WhatsApp Chat with Melisa EWYL22E0764.txt\n"
     ]
    },
    {
     "name": "stdout",
     "output_type": "stream",
     "text": [
      "ENTER THE LOOP:               datetime            sender  \\\n",
      "99  2023-12-04 14:04:00      Aditi Edoofa   \n",
      "100 2023-12-04 14:07:00  +263 71 813 7664   \n",
      "101 2023-12-04 14:07:00      Aditi Edoofa   \n",
      "102 2023-12-04 14:07:00      Aditi Edoofa   \n",
      "103 2023-12-04 14:08:00      Aditi Edoofa   \n",
      "104 2023-12-04 14:08:00      Aditi Edoofa   \n",
      "105 2023-12-04 14:10:00  +263 71 813 7664   \n",
      "106 2023-12-04 14:17:00      Aditi Edoofa   \n",
      "107 2023-12-04 15:06:00      Aditi Edoofa   \n",
      "108 2023-12-04 16:04:00  +263 71 813 7664   \n",
      "109 2023-12-04 16:10:00      Aditi Edoofa   \n",
      "\n",
      "                                               message  \n",
      "99   Happy Monday! 🌸 Sending you positive vibes for...  \n",
      "100                     Good afternoon mam Yes m ready  \n",
      "101                                             Great!  \n",
      "102                                         Fantastic!  \n",
      "103  So, I am going to share an extremely significa...  \n",
      "104                                    <Media omitted>  \n",
      "105                                           Okay mam  \n",
      "106  After you go through this, I would appreciate ...  \n",
      "107  We are wrapping up this session We'll pick up ...  \n",
      "108  It's for guidance for searching companies and ...  \n",
      "109                                     This is great!  \n"
     ]
    },
    {
     "name": "stderr",
     "output_type": "stream",
     "text": [
      "2023-12-05 17:43:22,942 - DEBUG - Row appended for chat file: WhatsApp Chat with Melisa EWYL23E0145.txt\n"
     ]
    },
    {
     "name": "stdout",
     "output_type": "stream",
     "text": [
      "ENTER THE LOOP:               datetime            sender                            message\n",
      "262 2023-12-04 08:33:00  +263 78 050 5370                 Good morning ma'am\n",
      "263 2023-12-04 11:04:00      Aditi Edoofa  Good Morning Melisa! How are you?\n",
      "264 2023-12-04 11:05:00  +263 78 050 5370              Am good ma'am and you\n",
      "265 2023-12-04 11:06:00      Aditi Edoofa      I am well. Thanks for asking.\n",
      "266 2023-12-04 11:06:00  +263 78 050 5370               You are most welcome\n"
     ]
    },
    {
     "name": "stderr",
     "output_type": "stream",
     "text": [
      "2023-12-05 17:43:23,226 - DEBUG - Row appended for chat file: WhatsApp Chat with Melisa EWYL23E0747.txt\n"
     ]
    },
    {
     "name": "stdout",
     "output_type": "stream",
     "text": [
      "ENTER THE LOOP:               datetime           sender  \\\n",
      "138 2023-12-04 13:29:00  +260 97 8532307   \n",
      "139 2023-12-04 14:03:00     Aditi Edoofa   \n",
      "140 2023-12-04 14:03:00  +260 97 8532307   \n",
      "141 2023-12-04 14:04:00     Aditi Edoofa   \n",
      "142 2023-12-04 14:05:00     Aditi Edoofa   \n",
      "143 2023-12-04 14:05:00     Aditi Edoofa   \n",
      "144 2023-12-04 14:12:00  +260 97 8532307   \n",
      "145 2023-12-04 14:16:00     Aditi Edoofa   \n",
      "146 2023-12-04 14:32:00  +260 97 8532307   \n",
      "147 2023-12-04 14:33:00     Aditi Edoofa   \n",
      "148 2023-12-04 14:33:00     Aditi Edoofa   \n",
      "149 2023-12-04 14:34:00     Aditi Edoofa   \n",
      "150 2023-12-04 14:36:00  +260 97 8532307   \n",
      "151 2023-12-04 14:38:00     Aditi Edoofa   \n",
      "152 2023-12-04 14:53:00  +260 97 8532307   \n",
      "153 2023-12-04 14:59:00  +260 97 8532307   \n",
      "154 2023-12-04 15:00:00     Aditi Edoofa   \n",
      "155 2023-12-04 15:00:00     Aditi Edoofa   \n",
      "156 2023-12-04 15:00:00     Aditi Edoofa   \n",
      "157 2023-12-04 15:03:00  +260 97 8532307   \n",
      "158 2023-12-04 15:04:00     Aditi Edoofa   \n",
      "159 2023-12-04 15:06:00  +260 97 8532307   \n",
      "\n",
      "                                               message  \n",
      "138  It's shows that stages that one must follow du...  \n",
      "139  Happy Monday! 🌸 Sending you positive vibes for...  \n",
      "140                                         Yes please  \n",
      "141                                 This is fantastic!  \n",
      "142  I will start by explaining the projects in det...  \n",
      "143                                    <Media omitted>  \n",
      "144                                     We may proceed  \n",
      "145  Okay, so very quickly-can you summarize whatev...  \n",
      "146  it talks about the cooperate alliance with the...  \n",
      "147  You know what, this is fantastic! This is the ...  \n",
      "148  So, I am going to share an extremely significa...  \n",
      "149                                    <Media omitted>  \n",
      "150  Understood I'll get back to you as soon as I'm...  \n",
      "151         Okay, I will be waiting for your response.  \n",
      "152                           This message was deleted  \n",
      "153  The edoofa guideline for searching for compani...  \n",
      "154                                        Incredible!  \n",
      "155  Okay- now here are 2 things I would like to br...  \n",
      "156  2, and the fun part- I’m sure you read about S...  \n",
      "157                                         Understood  \n",
      "158  We are wrapping up this session We'll pick up ...  \n",
      "159                   It is a pleasure Have a good day  \n"
     ]
    },
    {
     "name": "stderr",
     "output_type": "stream",
     "text": [
      "2023-12-05 17:43:23,463 - DEBUG - Row appended for chat file: WhatsApp Chat with Mendai EWYL23E0611.txt\n"
     ]
    },
    {
     "name": "stdout",
     "output_type": "stream",
     "text": [
      "ENTER THE LOOP:               datetime            sender  \\\n",
      "395 2023-12-04 15:25:00      Aditi Edoofa   \n",
      "396 2023-12-04 15:33:00  +263 71 237 7790   \n",
      "\n",
      "                                               message  \n",
      "395  Greetings Mercynay! Hope you are well.  Okay, ...  \n",
      "396                          Alright ma'am am so sorry  \n"
     ]
    },
    {
     "name": "stderr",
     "output_type": "stream",
     "text": [
      "2023-12-05 17:43:23,761 - DEBUG - Row appended for chat file: WhatsApp Chat with Mercynay EWYL23E0353.txt\n",
      "2023-12-05 17:43:24,016 - DEBUG - Row appended for chat file: WhatsApp Chat with Michelle EWYL23E0567.txt\n"
     ]
    },
    {
     "name": "stdout",
     "output_type": "stream",
     "text": [
      "ENTER THE LOOP:               datetime        sender  \\\n",
      "257 2023-12-04 12:09:00  Aditi Edoofa   \n",
      "\n",
      "                                               message  \n",
      "257  Greetings Michelle! Hope you are well.  Kindly...  \n"
     ]
    },
    {
     "name": "stderr",
     "output_type": "stream",
     "text": [
      "2023-12-05 17:43:24,306 - DEBUG - Row appended for chat file: WhatsApp Chat with Miriam EWYL22E0363.txt\n"
     ]
    },
    {
     "name": "stdout",
     "output_type": "stream",
     "text": [
      "ENTER THE LOOP:               datetime        sender  \\\n",
      "348 2023-12-04 08:17:00  Aditi Edoofa   \n",
      "349 2023-12-04 08:18:00  Aditi Edoofa   \n",
      "350 2023-12-04 08:19:00  Aditi Edoofa   \n",
      "\n",
      "                                               message  \n",
      "348      Good Morning @916280657787 How are you today?  \n",
      "349  I am waiting for your answers to these questio...  \n",
      "350           I think it has been due from a few days.  \n",
      "ENTER THE LOOP:               datetime            sender  \\\n",
      "379 2023-12-04 09:59:00      Aditi Edoofa   \n",
      "380 2023-12-04 11:43:00  +263 77 754 4092   \n",
      "381 2023-12-04 12:04:00      Aditi Edoofa   \n",
      "\n",
      "                                               message  \n",
      "379  Greetings @263777544092 Hope you are well.  Ki...  \n",
      "380  Good morning.I thought the above was a Saturda...  \n",
      "381  Okay, I see there is some gap as from now on a...  \n"
     ]
    },
    {
     "name": "stderr",
     "output_type": "stream",
     "text": [
      "2023-12-05 17:43:24,616 - DEBUG - Row appended for chat file: WhatsApp Chat with Mufaro EWYL23E0544.txt\n",
      "2023-12-05 17:43:24,870 - DEBUG - Row appended for chat file: WhatsApp Chat with Nathan EWYL23E0218.txt\n"
     ]
    },
    {
     "name": "stdout",
     "output_type": "stream",
     "text": [
      "ENTER THE LOOP:               datetime            sender  \\\n",
      "157 2023-12-04 08:35:00      Aditi Edoofa   \n",
      "158 2023-12-04 08:38:00  +263 78 231 1722   \n",
      "159 2023-12-04 08:39:00      Aditi Edoofa   \n",
      "160 2023-12-04 08:43:00  +263 78 231 1722   \n",
      "161 2023-12-04 08:43:00      Aditi Edoofa   \n",
      "162 2023-12-04 08:45:00  +263 78 231 1722   \n",
      "163 2023-12-04 08:46:00      Aditi Edoofa   \n",
      "164 2023-12-04 08:50:00  +263 78 231 1722   \n",
      "165 2023-12-04 08:52:00  +263 78 231 1722   \n",
      "166 2023-12-04 09:12:00      Aditi Edoofa   \n",
      "167 2023-12-04 09:21:00      Aditi Edoofa   \n",
      "168 2023-12-04 09:21:00      Aditi Edoofa   \n",
      "169 2023-12-04 09:31:00  +263 78 231 1722   \n",
      "170 2023-12-04 09:36:00      Aditi Edoofa   \n",
      "171 2023-12-04 09:36:00      Aditi Edoofa   \n",
      "172 2023-12-04 09:40:00  +263 78 231 1722   \n",
      "\n",
      "                                               message  \n",
      "157  Happy Monday! 🌸 Sending you positive vibes for...  \n",
      "158                       Good morning ma'am I'm ready  \n",
      "159  Great, can you share what you have retained ti...  \n",
      "160  Okay think we can resume from the issue of the...  \n",
      "161   Nathan, I would appreciate an elaborated answer.  \n",
      "162  Maybe I didn't quite understand the question m...  \n",
      "163  Alright, I'm inquiring about your grasp of the...  \n",
      "164  Okay mam what I still remember from our sessio...  \n",
      "165  The EWYL also helps students attain the 21st c...  \n",
      "166                                     This is great!  \n",
      "167  We’re ready to begin your EWYL program now, an...  \n",
      "168                                    <Media omitted>  \n",
      "169     Yes ma'am so when exactly do I get back to you  \n",
      "170                  After you have gone through this.  \n",
      "171  Alright! This is it for today. So we will resu...  \n",
      "172                          Okay mam have a great day  \n",
      "ENTER THE LOOP:              datetime            sender  \\\n",
      "86 2023-12-04 14:03:00      Aditi Edoofa   \n",
      "87 2023-12-04 14:28:00  +263 71 537 3949   \n",
      "88 2023-12-04 14:31:00      Aditi Edoofa   \n",
      "89 2023-12-04 15:05:00      Aditi Edoofa   \n",
      "90 2023-12-04 15:25:00  +263 71 537 3949   \n",
      "\n",
      "                                              message  \n",
      "86  Happy Monday! 🌸 Sending you positive vibes for...  \n",
      "87                                                Yes  \n",
      "88  So Nathanael, as your previous mentor discusse...  \n",
      "89  We are wrapping up this session We'll pick up ...  \n",
      "90                                               Okay  \n"
     ]
    },
    {
     "name": "stderr",
     "output_type": "stream",
     "text": [
      "2023-12-05 17:43:25,086 - DEBUG - Row appended for chat file: WhatsApp Chat with Nathanael EWYL22E1319.txt\n"
     ]
    },
    {
     "name": "stdout",
     "output_type": "stream",
     "text": [
      "ENTER THE LOOP:               datetime            sender  \\\n",
      "239 2023-12-04 13:44:00  +263 77 953 0090   \n",
      "240 2023-12-04 13:44:00      Aditi Edoofa   \n",
      "241 2023-12-04 13:44:00      Aditi Edoofa   \n",
      "242 2023-12-04 13:46:00  +263 77 953 0090   \n",
      "243 2023-12-04 13:46:00  +263 77 953 0090   \n",
      "244 2023-12-04 13:47:00      Aditi Edoofa   \n",
      "245 2023-12-04 13:47:00      Aditi Edoofa   \n",
      "\n",
      "                                               message  \n",
      "239  Offline Application Form  Student Name: Realit...  \n",
      "240               Greetings Nicole! Hope you are well.  \n",
      "241                                         Good work!  \n",
      "242                      am fine hope you are well too  \n",
      "243                                          thank you  \n",
      "244                            Yes, thanks for asking.  \n",
      "245          You're welcome! <This message was edited>  \n"
     ]
    },
    {
     "name": "stderr",
     "output_type": "stream",
     "text": [
      "2023-12-05 17:43:25,369 - DEBUG - Row appended for chat file: WhatsApp Chat with Nicole EWYL23E0178.txt\n",
      "2023-12-05 17:43:25,562 - DEBUG - Row appended for chat file: WhatsApp Chat with Nigel EWYL23E0738.txt\n"
     ]
    },
    {
     "name": "stdout",
     "output_type": "stream",
     "text": [
      "ENTER THE LOOP:              datetime            sender  \\\n",
      "8  2023-12-04 08:35:00      Aditi Edoofa   \n",
      "9  2023-12-04 09:40:00      Aditi Edoofa   \n",
      "10 2023-12-04 17:11:00  +263 77 311 2014   \n",
      "\n",
      "                                              message  \n",
      "8   Happy Monday! 🌸 Sending you positive vibes for...  \n",
      "9   @263773112014 @263712937345 @263783308718 May ...  \n",
      "10  Good evening Ms Aditi. I wasn't available by t...  \n",
      "ENTER THE LOOP:               datetime            sender  \\\n",
      "104 2023-12-04 08:33:00      Aditi Edoofa   \n",
      "105 2023-12-04 08:45:00  +263 78 896 1515   \n",
      "106 2023-12-04 08:45:00  +263 78 896 1515   \n",
      "107 2023-12-04 08:46:00      Aditi Edoofa   \n",
      "108 2023-12-04 08:46:00      Aditi Edoofa   \n",
      "109 2023-12-04 08:47:00  +263 78 896 1515   \n",
      "110 2023-12-04 08:47:00      Aditi Edoofa   \n",
      "111 2023-12-04 08:57:00  +263 78 896 1515   \n",
      "112 2023-12-04 09:13:00      Aditi Edoofa   \n",
      "113 2023-12-04 09:14:00      Aditi Edoofa   \n",
      "114 2023-12-04 09:18:00  +263 78 896 1515   \n",
      "115 2023-12-04 09:19:00      Aditi Edoofa   \n",
      "116 2023-12-04 09:24:00  +263 78 896 1515   \n",
      "117 2023-12-04 09:27:00      Aditi Edoofa   \n",
      "118 2023-12-04 09:27:00  +263 78 896 1515   \n",
      "119 2023-12-04 09:37:00      Aditi Edoofa   \n",
      "120 2023-12-04 09:54:00  +263 78 896 1515   \n",
      "\n",
      "                                               message  \n",
      "104  Happy Monday! 🌸 Sending you positive vibes for...  \n",
      "105                       Happy happy 😇. How are you ?  \n",
      "106                                         Im ready .  \n",
      "107                      I am well. Thanks for asking.  \n",
      "108                                             Great!  \n",
      "109                                   You are welcome.  \n",
      "110  Okay, so let's beging with your understanding ...  \n",
      "111                                    <Media omitted>  \n",
      "112        Amazing, I’m happy with your understanding.  \n",
      "113  So, I am going to share an extremely significa...  \n",
      "114                                         okay Ma'am  \n",
      "115                                    <Media omitted>  \n",
      "116                                              Noted  \n",
      "117  After you go through this, I would appreciate ...  \n",
      "118                                         Okay Ma'am  \n",
      "119  Alright! This is it for today. So we will resu...  \n",
      "120                                Noted with thanks !  \n"
     ]
    },
    {
     "name": "stderr",
     "output_type": "stream",
     "text": [
      "2023-12-05 17:43:25,789 - DEBUG - Row appended for chat file: WhatsApp Chat with Nyarai EWYL23E0946.txt\n",
      "2023-12-05 17:43:26,000 - DEBUG - Row appended for chat file: WhatsApp Chat with Nyasha EWYL22E0634.txt\n"
     ]
    },
    {
     "name": "stdout",
     "output_type": "stream",
     "text": [
      "ENTER THE LOOP:              datetime            sender  \\\n",
      "95 2023-12-04 08:34:00      Aditi Edoofa   \n",
      "96 2023-12-04 09:39:00      Aditi Edoofa   \n",
      "97 2023-12-04 10:59:00  +263 71 298 2024   \n",
      "98 2023-12-04 15:23:00      Aditi Edoofa   \n",
      "\n",
      "                                              message  \n",
      "95  Happy Monday! 🌸 Sending you positive vibes for...  \n",
      "96  @263712982024 May I know didn't you show up fo...  \n",
      "97   hello, I'm very sorry, I woke up very late today  \n",
      "98   Nyasha, please take care os this from next time.  \n"
     ]
    },
    {
     "name": "stderr",
     "output_type": "stream",
     "text": [
      "2023-12-05 17:43:26,297 - DEBUG - Row appended for chat file: WhatsApp Chat with Panashe EWYL23E0674.txt\n"
     ]
    },
    {
     "name": "stdout",
     "output_type": "stream",
     "text": [
      "ENTER THE LOOP:               datetime            sender  \\\n",
      "411 2023-12-04 12:25:00  +263 77 277 7103   \n",
      "412 2023-12-04 14:03:00      Aditi Edoofa   \n",
      "413 2023-12-04 14:03:00      Aditi Edoofa   \n",
      "\n",
      "                                               message  \n",
      "411  Good afternoon ma'am my apology panashe will b...  \n",
      "412  Happy Monday! 🌸 Sending you positive vibes for...  \n",
      "413       I understand, thank you for letting me know.  \n"
     ]
    },
    {
     "name": "stderr",
     "output_type": "stream",
     "text": [
      "2023-12-05 17:43:26,553 - DEBUG - Row appended for chat file: WhatsApp Chat with Praise EWYL22E0564.txt\n"
     ]
    },
    {
     "name": "stdout",
     "output_type": "stream",
     "text": [
      "ENTER THE LOOP:               datetime            sender  \\\n",
      "139 2023-12-04 13:57:00      Aditi Edoofa   \n",
      "140 2023-12-04 13:57:00      Aditi Edoofa   \n",
      "141 2023-12-04 13:59:00  +263 71 711 2340   \n",
      "\n",
      "                                               message  \n",
      "139  Greetinsg Praise! Hope you are well.  Okay, I ...  \n",
      "140  So we will resume our session tomorrow onwards...  \n",
      "141                               Okay Ma'am thank you  \n",
      "ENTER THE LOOP:               datetime            sender  \\\n",
      "524 2023-12-04 08:24:00      Aditi Edoofa   \n",
      "525 2023-12-04 13:01:00  +263 78 674 4586   \n",
      "526 2023-12-04 13:01:00  +263 78 674 4586   \n",
      "527 2023-12-04 14:43:00      Aditi Edoofa   \n",
      "528 2023-12-04 15:46:00      Aditi Edoofa   \n",
      "529 2023-12-04 15:57:00  +263 78 674 4586   \n",
      "530 2023-12-04 15:57:00  +263 78 674 4586   \n",
      "531 2023-12-04 15:59:00      Aditi Edoofa   \n",
      "532 2023-12-04 16:00:00      Aditi Edoofa   \n",
      "533 2023-12-04 16:05:00  +263 78 674 4586   \n",
      "534 2023-12-04 16:06:00      Aditi Edoofa   \n",
      "535 2023-12-04 16:13:00  +263 78 674 4586   \n",
      "536 2023-12-04 16:23:00      Aditi Edoofa   \n",
      "537 2023-12-04 16:27:00  +263 78 674 4586   \n",
      "538 2023-12-04 16:28:00      Aditi Edoofa   \n",
      "539 2023-12-04 16:28:00      Aditi Edoofa   \n",
      "540 2023-12-04 16:30:00  +263 78 674 4586   \n",
      "541 2023-12-04 16:31:00      Aditi Edoofa   \n",
      "\n",
      "                                               message  \n",
      "524  Greetings of the day Precious! Hope you are we...  \n",
      "525                               Good afternoon ma'am  \n",
      "526  Yes ma'am. Will surely be there for today's se...  \n",
      "527                                             Great!  \n",
      "528  Are you ready for today's session? <This messa...  \n",
      "529                                 Good evening ma'am  \n",
      "530                                         I am ready  \n",
      "531                                             Great!  \n",
      "532  Now your task is to answer the following quest...  \n",
      "533  1. 2. Edoofa seem genuine compared to other ag...  \n",
      "534  What about the first one? <This message was ed...  \n",
      "535                              I'm not so sure ma'am  \n",
      "536  You can refer to this document's *Training Res...  \n",
      "537                                         Okay ma'am  \n",
      "538                                    <Media omitted>  \n",
      "539  Precious, now that we have finished with our t...  \n",
      "540                                         Okay ma'am  \n",
      "541                                               Yes!  \n"
     ]
    },
    {
     "name": "stderr",
     "output_type": "stream",
     "text": [
      "2023-12-05 17:43:26,908 - DEBUG - Row appended for chat file: WhatsApp Chat with Precious EWYL22E0613.txt\n"
     ]
    },
    {
     "name": "stdout",
     "output_type": "stream",
     "text": [
      "ENTER THE LOOP:               datetime        sender  \\\n",
      "376 2023-12-04 12:11:00  Aditi Edoofa   \n",
      "\n",
      "                                               message  \n",
      "376  Greetings Pride! Hope you are well.  Kindly re...  \n"
     ]
    },
    {
     "name": "stderr",
     "output_type": "stream",
     "text": [
      "2023-12-05 17:43:27,228 - DEBUG - Row appended for chat file: WhatsApp Chat with Pride EWYL23E0728.txt\n"
     ]
    },
    {
     "name": "stdout",
     "output_type": "stream",
     "text": [
      "ENTER THE LOOP:               datetime        sender  \\\n",
      "286 2023-12-04 07:45:00  Aditi Edoofa   \n",
      "\n",
      "                                               message  \n",
      "286  Greetings Redeem! Hope you are well.  Good work💯💯  \n"
     ]
    },
    {
     "name": "stderr",
     "output_type": "stream",
     "text": [
      "2023-12-05 17:43:27,527 - DEBUG - Row appended for chat file: WhatsApp Chat with Redeem EWYL22E0729.txt\n"
     ]
    },
    {
     "name": "stdout",
     "output_type": "stream",
     "text": [
      "ENTER THE LOOP:               datetime            sender  \\\n",
      "193 2023-12-04 08:24:00      Aditi Edoofa   \n",
      "194 2023-12-04 10:30:00  +263 78 421 5433   \n",
      "195 2023-12-04 14:44:00      Aditi Edoofa   \n",
      "\n",
      "                                               message  \n",
      "193  Greetings of the day Reward! Hope you are well...  \n",
      "194  Hello ,good afternoon ma'am  Can you kindly sh...  \n",
      "195  @263784215433 Can you please specify why you n...  \n"
     ]
    },
    {
     "name": "stderr",
     "output_type": "stream",
     "text": [
      "2023-12-05 17:43:27,787 - DEBUG - Row appended for chat file: WhatsApp Chat with Reward EWYL22E0292.txt\n",
      "2023-12-05 17:43:28,048 - DEBUG - Row appended for chat file: WhatsApp Chat with Ruth EWYL23E0184.txt\n"
     ]
    },
    {
     "name": "stdout",
     "output_type": "stream",
     "text": [
      "ENTER THE LOOP:               datetime            sender  \\\n",
      "156 2023-12-04 14:03:00      Aditi Edoofa   \n",
      "157 2023-12-04 15:06:00      Aditi Edoofa   \n",
      "158 2023-12-04 22:34:00  +263 77 598 7016   \n",
      "159 2023-12-04 22:34:00  +263 77 598 7016   \n",
      "\n",
      "                                               message  \n",
      "156  Happy Monday! 🌸 Sending you positive vibes for...  \n",
      "157     Ruth, may I know why didn't you show up today?  \n",
      "158  Good evening I'm sorry I couldn't make it I ha...  \n",
      "159                        Tomorrow I'm doing the same  \n"
     ]
    },
    {
     "name": "stderr",
     "output_type": "stream",
     "text": [
      "2023-12-05 17:43:28,327 - DEBUG - Row appended for chat file: WhatsApp Chat with Ruth EWYL23E0869.txt\n"
     ]
    },
    {
     "name": "stdout",
     "output_type": "stream",
     "text": [
      "ENTER THE LOOP:               datetime        sender  \\\n",
      "277 2023-12-04 09:59:00  Aditi Edoofa   \n",
      "\n",
      "                                               message  \n",
      "277  Greetings @263786164869 Hope you are well.  Ki...  \n",
      "ENTER THE LOOP:               datetime            sender  \\\n",
      "233 2023-12-04 09:24:00  +263 78 779 7357   \n",
      "234 2023-12-04 09:44:00      Aditi Edoofa   \n",
      "235 2023-12-04 10:18:00  +263 78 779 7357   \n",
      "\n",
      "                                               message  \n",
      "233  Morning Ms Aditi my network is down today so I...  \n",
      "234  Greetings Ruvimbo! Hope you are well.  Okay, n...  \n",
      "235              I'm doing OK mam You are most welcome  \n"
     ]
    },
    {
     "name": "stderr",
     "output_type": "stream",
     "text": [
      "2023-12-05 17:43:28,585 - DEBUG - Row appended for chat file: WhatsApp Chat with Ruvimbo EWYL23E0875.txt\n"
     ]
    },
    {
     "name": "stdout",
     "output_type": "stream",
     "text": [
      "ENTER THE LOOP:               datetime            sender  \\\n",
      "98  2023-12-04 08:34:00      Aditi Edoofa   \n",
      "99  2023-12-04 08:37:00  +263 78 636 1744   \n",
      "100 2023-12-04 08:40:00      Aditi Edoofa   \n",
      "101 2023-12-04 09:37:00      Aditi Edoofa   \n",
      "102 2023-12-04 09:49:00  +263 78 636 1744   \n",
      "103 2023-12-04 09:55:00      Aditi Edoofa   \n",
      "104 2023-12-04 10:27:00  +263 78 636 1744   \n",
      "\n",
      "                                               message  \n",
      "98   Happy Monday! 🌸 Sending you positive vibes for...  \n",
      "99                                  Good morning ma'am  \n",
      "100  Great, can you share what you have retained ti...  \n",
      "101  Alright! This is it for today. So we will resu...  \n",
      "102  Sorry ma'am may I be excused for today , I hav...  \n",
      "103  Okay, but in this case you should have informe...  \n",
      "104                                          Thank you  \n"
     ]
    },
    {
     "name": "stderr",
     "output_type": "stream",
     "text": [
      "2023-12-05 17:43:28,810 - DEBUG - Row appended for chat file: WhatsApp Chat with Samantha EWYL22E0682.txt\n",
      "2023-12-05 17:43:29,071 - DEBUG - Row appended for chat file: WhatsApp Chat with Samkele EWYL23E0785.txt\n"
     ]
    },
    {
     "name": "stdout",
     "output_type": "stream",
     "text": [
      "ENTER THE LOOP:               datetime        sender  \\\n",
      "233 2023-12-04 09:56:00  Aditi Edoofa   \n",
      "\n",
      "                                               message  \n",
      "233  Greetings @27697854566 Hope you are well.  Kin...  \n"
     ]
    },
    {
     "name": "stderr",
     "output_type": "stream",
     "text": [
      "2023-12-05 17:43:29,310 - DEBUG - Row appended for chat file: WhatsApp Chat with Seith EWYL23E0736.txt\n"
     ]
    },
    {
     "name": "stdout",
     "output_type": "stream",
     "text": [
      "ENTER THE LOOP:               datetime            sender  \\\n",
      "167 2023-12-04 08:33:00      Aditi Edoofa   \n",
      "168 2023-12-04 08:38:00  +263 77 157 1376   \n",
      "169 2023-12-04 08:40:00      Aditi Edoofa   \n",
      "170 2023-12-04 08:41:00      Aditi Edoofa   \n",
      "171 2023-12-04 08:48:00  +263 77 157 1376   \n",
      "172 2023-12-04 08:48:00  +263 77 157 1376   \n",
      "173 2023-12-04 08:49:00      Aditi Edoofa   \n",
      "174 2023-12-04 08:51:00  +263 77 157 1376   \n",
      "175 2023-12-04 08:56:00      Aditi Edoofa   \n",
      "176 2023-12-04 08:56:00      Aditi Edoofa   \n",
      "177 2023-12-04 08:56:00      Aditi Edoofa   \n",
      "178 2023-12-04 08:58:00  +263 77 157 1376   \n",
      "179 2023-12-04 09:15:00      Aditi Edoofa   \n",
      "180 2023-12-04 09:16:00      Aditi Edoofa   \n",
      "181 2023-12-04 09:36:00      Aditi Edoofa   \n",
      "182 2023-12-04 09:41:00  +263 77 157 1376   \n",
      "183 2023-12-04 09:41:00  +263 77 157 1376   \n",
      "184 2023-12-04 09:41:00  +263 77 157 1376   \n",
      "185 2023-12-04 09:41:00      Aditi Edoofa   \n",
      "186 2023-12-04 09:42:00  +263 77 157 1376   \n",
      "\n",
      "                                               message  \n",
      "167  Happy Monday! 🌸 Sending you positive vibes for...  \n",
      "168                             Yes good Morning ma'am  \n",
      "169  *Now that we’ve both summarized our understand...  \n",
      "170                                    <Media omitted>  \n",
      "171                                         Okay ma'am  \n",
      "172                                         Understood  \n",
      "173  Okay, so very quickly-can you summarize whatev...  \n",
      "174                                    <Media omitted>  \n",
      "175  Amazing! Now, here are 2 things I’d like to br...  \n",
      "176  *Offline Application Form*  Student Name: Date...  \n",
      "177  And #2 – Back to the exciting part- your *Scho...  \n",
      "178      Okay so they fill this and then send it to me  \n",
      "179  Yes, and then you will share it with me in thi...  \n",
      "180  So, now I am going to share certain ways that ...  \n",
      "181  Alright! This is it for today. So we will resu...  \n",
      "182                                   I am sorry ma'am  \n",
      "183                                 That will be fixed  \n",
      "184                                          Thank you  \n",
      "185                It's alright, pleasebe more active.  \n",
      "186                                          Yes ma'am  \n",
      "ENTER THE LOOP:               datetime        sender  \\\n",
      "421 2023-12-04 08:20:00  Aditi Edoofa   \n",
      "422 2023-12-04 08:20:00  Aditi Edoofa   \n",
      "\n",
      "                                               message  \n",
      "421  Greetings @918968640316 Hope you are well.  I ...  \n",
      "422           I think it has been due from a few days.  \n"
     ]
    },
    {
     "name": "stderr",
     "output_type": "stream",
     "text": [
      "2023-12-05 17:43:29,613 - DEBUG - Row appended for chat file: WhatsApp Chat with Shammah EWYL22E1246.txt\n"
     ]
    },
    {
     "name": "stdout",
     "output_type": "stream",
     "text": [
      "ENTER THE LOOP:               datetime        sender  \\\n",
      "244 2023-12-04 16:22:00  Aditi Edoofa   \n",
      "245 2023-12-04 16:22:00  Aditi Edoofa   \n",
      "\n",
      "                                               message  \n",
      "244  Hello Sharon, I trust you are in good health. ...  \n",
      "245  And also for every student that enrolls from y...  \n"
     ]
    },
    {
     "name": "stderr",
     "output_type": "stream",
     "text": [
      "2023-12-05 17:43:29,903 - DEBUG - Row appended for chat file: WhatsApp Chat with Sharon EWYL22E0561.txt\n"
     ]
    },
    {
     "name": "stdout",
     "output_type": "stream",
     "text": [
      "ENTER THE LOOP:               datetime            sender  \\\n",
      "159 2023-12-04 08:04:00      Aditi Edoofa   \n",
      "160 2023-12-04 08:06:00  +263 77 239 0550   \n",
      "161 2023-12-04 08:15:00      Aditi Edoofa   \n",
      "162 2023-12-04 15:31:00      Aditi Edoofa   \n",
      "163 2023-12-04 15:38:00  +263 77 239 0550   \n",
      "164 2023-12-04 15:41:00  +263 77 239 0550   \n",
      "165 2023-12-04 15:44:00      Aditi Edoofa   \n",
      "166 2023-12-04 16:28:00  +263 77 239 0550   \n",
      "167 2023-12-04 16:29:00      Aditi Edoofa   \n",
      "\n",
      "                                               message  \n",
      "159  Greetings @263772390550 Hope you are well.   C...  \n",
      "160             Morning.  Let me check. I will revert.  \n",
      "161                                         Thank you!  \n",
      "162  Greetings of the day Shingirai! Hope you are w...  \n",
      "163  Shingirai kindly engage your mentor. There is ...  \n",
      "164  I’m trying to call him but currently unreachab...  \n",
      "165     Thank you for acknowledging @263772390550 Sir!  \n",
      "166                                    <Media omitted>  \n",
      "167                                       Okay, noted!  \n"
     ]
    },
    {
     "name": "stderr",
     "output_type": "stream",
     "text": [
      "2023-12-05 17:43:30,153 - DEBUG - Row appended for chat file: WhatsApp Chat with Shingirai EWYL23E0606.txt\n"
     ]
    },
    {
     "name": "stdout",
     "output_type": "stream",
     "text": [
      "ENTER THE LOOP:               datetime            sender  \\\n",
      "460 2023-12-04 16:19:00      Aditi Edoofa   \n",
      "461 2023-12-04 16:20:00      Aditi Edoofa   \n",
      "462 2023-12-04 17:01:00  +263 78 025 8606   \n",
      "\n",
      "                                               message  \n",
      "460  Hello Shyne, I trust you are in good health.  ...  \n",
      "461  And also for every student that enrolls from y...  \n",
      "462        Greatings ma'am okay I will do that ma'am .  \n"
     ]
    },
    {
     "name": "stderr",
     "output_type": "stream",
     "text": [
      "2023-12-05 17:43:30,482 - DEBUG - Row appended for chat file: WhatsApp Chat with Shyne EWYL21E0758 (1).txt\n"
     ]
    },
    {
     "name": "stdout",
     "output_type": "stream",
     "text": [
      "ENTER THE LOOP:               datetime           sender                message\n",
      "410 2023-12-04 16:08:00  +91 76961 94887  I am a proud Edoofian\n"
     ]
    },
    {
     "name": "stderr",
     "output_type": "stream",
     "text": [
      "2023-12-05 17:43:30,801 - DEBUG - Row appended for chat file: WhatsApp Chat with Sibongile EWYL23E0041.txt\n"
     ]
    },
    {
     "name": "stdout",
     "output_type": "stream",
     "text": [
      "ENTER THE LOOP:               datetime           sender  \\\n",
      "452 2023-12-04 13:44:00  +91 72081 62024   \n",
      "453 2023-12-04 13:44:00  +91 72081 62024   \n",
      "454 2023-12-04 15:22:00     Aditi Edoofa   \n",
      "455 2023-12-04 16:01:00  +91 72081 62024   \n",
      "456 2023-12-04 16:07:00     Aditi Edoofa   \n",
      "\n",
      "                                               message  \n",
      "452                                      Greetings mam  \n",
      "453  I have been going through the Earn while you l...  \n",
      "454  Greetings Sikhululekile! Hope you are well.   ...  \n",
      "455  I''m very glad to hear that😊 Thank you so much...  \n",
      "456                                              Sure!  \n"
     ]
    },
    {
     "name": "stderr",
     "output_type": "stream",
     "text": [
      "2023-12-05 17:43:31,121 - DEBUG - Row appended for chat file: WhatsApp Chat with Sikhululekile EWYL23E0108.txt\n",
      "2023-12-05 17:43:31,416 - DEBUG - Row appended for chat file: WhatsApp Chat with Sithabiso EWYL23E0320.txt\n"
     ]
    },
    {
     "name": "stdout",
     "output_type": "stream",
     "text": [
      "ENTER THE LOOP:               datetime            sender  \\\n",
      "320 2023-12-04 08:35:00      Aditi Edoofa   \n",
      "321 2023-12-04 09:02:00  +263 71 572 3973   \n",
      "322 2023-12-04 09:18:00      Aditi Edoofa   \n",
      "323 2023-12-04 09:28:00  +263 71 572 3973   \n",
      "324 2023-12-04 09:29:00      Aditi Edoofa   \n",
      "325 2023-12-04 09:33:00  +263 71 572 3973   \n",
      "326 2023-12-04 09:34:00      Aditi Edoofa   \n",
      "327 2023-12-04 09:58:00  +263 71 572 3973   \n",
      "\n",
      "                                               message  \n",
      "320  Happy Monday! 🌸 Sending you positive vibes for...  \n",
      "321  Good morning ma'am Yes I am prepared for today...  \n",
      "322  Okay, may I know why you are late for today's ...  \n",
      "323                     Sorry ma'am my network is slow  \n",
      "324                                Okay, I understand.  \n",
      "325                                        Noted ma'am  \n",
      "326  Alright! This is it for today. So we will resu...  \n",
      "327  Noted ma'am I am also happy 😊 we have come thi...  \n",
      "ENTER THE LOOP:              datetime            sender       message\n",
      "91 2023-12-04 19:39:00  +263 71 228 1130  Good evening\n"
     ]
    },
    {
     "name": "stderr",
     "output_type": "stream",
     "text": [
      "2023-12-05 17:43:31,651 - DEBUG - Row appended for chat file: WhatsApp Chat with Tadiwa EWYL23E0107.txt\n"
     ]
    },
    {
     "name": "stdout",
     "output_type": "stream",
     "text": [
      "ENTER THE LOOP:               datetime           sender  \\\n",
      "254 2023-12-04 16:36:00     Aditi Edoofa   \n",
      "255 2023-12-04 16:37:00  +91 92053 62416   \n",
      "\n",
      "                                               message  \n",
      "254  Greetings Tadiwanashe!  I trust this message f...  \n",
      "255                                                 ok  \n"
     ]
    },
    {
     "name": "stderr",
     "output_type": "stream",
     "text": [
      "2023-12-05 17:43:31,930 - DEBUG - Row appended for chat file: WhatsApp Chat with Tadiwanashe EWYL22E0420.txt\n",
      "2023-12-05 17:43:32,187 - DEBUG - Row appended for chat file: WhatsApp Chat with Tadiwanashe EWYL23E0943.txt\n"
     ]
    },
    {
     "name": "stdout",
     "output_type": "stream",
     "text": [
      "ENTER THE LOOP:               datetime            sender  \\\n",
      "134 2023-12-04 11:29:00  +263 78 128 5777   \n",
      "135 2023-12-04 14:03:00      Aditi Edoofa   \n",
      "136 2023-12-04 14:04:00  +263 78 128 5777   \n",
      "137 2023-12-04 14:04:00  +263 78 128 5777   \n",
      "138 2023-12-04 14:06:00      Aditi Edoofa   \n",
      "139 2023-12-04 14:07:00  +263 78 128 5777   \n",
      "140 2023-12-04 14:08:00  +263 78 128 5777   \n",
      "141 2023-12-04 14:10:00      Aditi Edoofa   \n",
      "142 2023-12-04 14:10:00      Aditi Edoofa   \n",
      "143 2023-12-04 14:10:00      Aditi Edoofa   \n",
      "144 2023-12-04 14:11:00  +263 78 128 5777   \n",
      "145 2023-12-04 14:12:00      Aditi Edoofa   \n",
      "146 2023-12-04 14:14:00  +263 78 128 5777   \n",
      "147 2023-12-04 14:16:00  +263 78 128 5777   \n",
      "148 2023-12-04 14:16:00      Aditi Edoofa   \n",
      "149 2023-12-04 14:17:00      Aditi Edoofa   \n",
      "150 2023-12-04 14:17:00      Aditi Edoofa   \n",
      "151 2023-12-04 14:19:00  +263 78 128 5777   \n",
      "152 2023-12-04 14:19:00  +263 78 128 5777   \n",
      "153 2023-12-04 14:21:00      Aditi Edoofa   \n",
      "154 2023-12-04 14:23:00  +263 78 128 5777   \n",
      "155 2023-12-04 14:24:00      Aditi Edoofa   \n",
      "156 2023-12-04 14:26:00  +263 78 128 5777   \n",
      "157 2023-12-04 14:26:00      Aditi Edoofa   \n",
      "158 2023-12-04 14:29:00  +263 78 128 5777   \n",
      "159 2023-12-04 14:29:00      Aditi Edoofa   \n",
      "160 2023-12-04 14:29:00      Aditi Edoofa   \n",
      "161 2023-12-04 14:29:00      Aditi Edoofa   \n",
      "162 2023-12-04 14:31:00  +263 78 128 5777   \n",
      "163 2023-12-04 14:31:00  +263 78 128 5777   \n",
      "164 2023-12-04 14:32:00      Aditi Edoofa   \n",
      "165 2023-12-04 14:32:00      Aditi Edoofa   \n",
      "166 2023-12-04 14:32:00      Aditi Edoofa   \n",
      "167 2023-12-04 14:32:00      Aditi Edoofa   \n",
      "168 2023-12-04 14:32:00      Aditi Edoofa   \n",
      "169 2023-12-04 14:32:00      Aditi Edoofa   \n",
      "170 2023-12-04 14:33:00      Aditi Edoofa   \n",
      "171 2023-12-04 14:33:00      Aditi Edoofa   \n",
      "172 2023-12-04 14:33:00      Aditi Edoofa   \n",
      "173 2023-12-04 14:33:00      Aditi Edoofa   \n",
      "174 2023-12-04 14:33:00      Aditi Edoofa   \n",
      "175 2023-12-04 14:38:00  +263 78 128 5777   \n",
      "176 2023-12-04 14:38:00      Aditi Edoofa   \n",
      "177 2023-12-04 14:40:00  +263 78 128 5777   \n",
      "178 2023-12-04 14:42:00  +263 78 128 5777   \n",
      "179 2023-12-04 14:43:00      Aditi Edoofa   \n",
      "180 2023-12-04 14:43:00      Aditi Edoofa   \n",
      "181 2023-12-04 14:48:00  +263 78 128 5777   \n",
      "182 2023-12-04 14:48:00      Aditi Edoofa   \n",
      "183 2023-12-04 14:49:00      Aditi Edoofa   \n",
      "184 2023-12-04 14:51:00  +263 78 128 5777   \n",
      "185 2023-12-04 14:52:00      Aditi Edoofa   \n",
      "186 2023-12-04 14:52:00      Aditi Edoofa   \n",
      "187 2023-12-04 14:53:00  +263 78 128 5777   \n",
      "188 2023-12-04 14:54:00      Aditi Edoofa   \n",
      "189 2023-12-04 14:55:00  +263 78 128 5777   \n",
      "190 2023-12-04 15:01:00      Aditi Edoofa   \n",
      "191 2023-12-04 15:05:00      Aditi Edoofa   \n",
      "192 2023-12-04 15:10:00  +263 78 128 5777   \n",
      "\n",
      "                                               message  \n",
      "134                                       Good morning  \n",
      "135  Happy Monday! 🌸 Sending you positive vibes for...  \n",
      "136                                                Yes  \n",
      "137                                     Good afternoon  \n",
      "138  Resuming from here: You know, Edoofa is also w...  \n",
      "139                                 Ohhh that is great  \n",
      "140  For the record l downloaded the linkedin app, ...  \n",
      "141                                    This is superb!  \n",
      "142  Now, it’s been an interesting conversation wit...  \n",
      "143                                    <Media omitted>  \n",
      "144  Instagram: Nicole Makurumure Facebook :Nicole ...  \n",
      "145                                           Amazing!  \n",
      "146  Very well. It helps EDOOFA branch out and conn...  \n",
      "147  For that to happen l will have to connect with...  \n",
      "148  Okay great, now allow me to recap the project ...  \n",
      "149  You can use the following form to share the sc...  \n",
      "150  And #2  The Scholarship Credits earning opport...  \n",
      "151                                   ohhh interesting  \n",
      "152                                              Noted  \n",
      "153  Before we move forward, I want you to answer t...  \n",
      "154                                        Very well!!  \n",
      "155                           This message was deleted  \n",
      "156  Q1:SEKE 1HIGH SCHOOL,, l don't think it is con...  \n",
      "157  TODAY, I would like you to connect with your S...  \n",
      "158  I don't have his contact now but l can get it ...  \n",
      "159                                             Great!  \n",
      "160  When you will have the School Head’s Contact, ...  \n",
      "161  _So, This is what the First message should loo...  \n",
      "162                                    Very well noted  \n",
      "163         Professionalism at its best,,, interesting  \n",
      "164                                            Indeed!  \n",
      "165  Now let me share some important resources with...  \n",
      "166  Let me introduce you to the scholarship progra...  \n",
      "167  Edoofa is a *social-for-profit organization* t...  \n",
      "168  Edoofa scholarship program is currently helpin...  \n",
      "169  _Over the past 5 years, after counseling tens ...  \n",
      "170  Speaking specifically about Zimbabwe, they hav...  \n",
      "171  The Child of the *DEO, Manicaland* Sir Abson M...  \n",
      "172  Along with this, schools can be benefited in t...  \n",
      "173  Once you go through all the information, and s...  \n",
      "174  *School Details*:  1. School Name: 2. School P...  \n",
      "175                   very well then... will get to it  \n",
      "176  When the school’s per-term fees are less than ...  \n",
      "177  Well  that is the case at my school, we pay 70...  \n",
      "178             Therefore l will use  the other option  \n",
      "179                                       Okay, noted!  \n",
      "180  Now, we’ve come to the end of one part of your...  \n",
      "181  For today's session l don't have concerns but ...  \n",
      "182                                              Okay.  \n",
      "183  I would like to tell you that currently this p...  \n",
      "184                              ohhh okay, thats fine  \n",
      "185  It’s amazing to be your partner in this EWYL j...  \n",
      "186  However, there are a few more skills that the ...  \n",
      "187                                         Absolutely  \n",
      "188  Edoofa took it upon itself to have Edoofians i...  \n",
      "189                                    Ohhh thats nice  \n",
      "190  So here is a brief about these terms:   Resear...  \n",
      "191  We are wrapping up this session We'll pick up ...  \n",
      "192                           Likewise thank you ma'am  \n",
      "ENTER THE LOOP:               datetime           sender  \\\n",
      "390 2023-12-04 16:36:00     Aditi Edoofa   \n",
      "391 2023-12-04 16:55:00  +91 89687 52132   \n",
      "\n",
      "                                               message  \n",
      "390  Greetings Taisha!  I trust this message finds ...  \n",
      "391                                 Good evening noted  \n"
     ]
    },
    {
     "name": "stderr",
     "output_type": "stream",
     "text": [
      "2023-12-05 17:43:32,493 - DEBUG - Row appended for chat file: WhatsApp Chat with Taisha EWYL23E0131.txt\n",
      "2023-12-05 17:43:32,802 - DEBUG - Row appended for chat file: WhatsApp Chat with Takudzwa EWYL22E1184.txt\n"
     ]
    },
    {
     "name": "stdout",
     "output_type": "stream",
     "text": [
      "ENTER THE LOOP:               datetime           sender  \\\n",
      "371 2023-12-04 10:10:00  +91 92053 77167   \n",
      "372 2023-12-04 10:11:00     Aditi Edoofa   \n",
      "\n",
      "                                               message  \n",
      "371                                    <Media omitted>  \n",
      "372  Greetings Takudzwa! Hope you are well.  This i...  \n",
      "ENTER THE LOOP:               datetime            sender  \\\n",
      "200 2023-12-04 08:34:00      Aditi Edoofa   \n",
      "201 2023-12-04 08:37:00  +263 78 817 5746   \n",
      "202 2023-12-04 08:40:00      Aditi Edoofa   \n",
      "203 2023-12-04 08:43:00  +263 78 817 5746   \n",
      "204 2023-12-04 08:43:00      Aditi Edoofa   \n",
      "205 2023-12-04 08:48:00  +263 78 817 5746   \n",
      "206 2023-12-04 08:49:00      Aditi Edoofa   \n",
      "207 2023-12-04 08:51:00  +263 78 817 5746   \n",
      "208 2023-12-04 08:56:00      Aditi Edoofa   \n",
      "209 2023-12-04 08:59:00  +263 78 817 5746   \n",
      "210 2023-12-04 09:00:00  +263 78 817 5746   \n",
      "211 2023-12-04 09:17:00      Aditi Edoofa   \n",
      "212 2023-12-04 09:18:00  +263 78 817 5746   \n",
      "213 2023-12-04 09:19:00      Aditi Edoofa   \n",
      "214 2023-12-04 09:20:00  +263 78 817 5746   \n",
      "215 2023-12-04 09:21:00      Aditi Edoofa   \n",
      "216 2023-12-04 09:22:00      Aditi Edoofa   \n",
      "217 2023-12-04 09:22:00      Aditi Edoofa   \n",
      "218 2023-12-04 09:22:00      Aditi Edoofa   \n",
      "219 2023-12-04 09:22:00      Aditi Edoofa   \n",
      "220 2023-12-04 09:22:00      Aditi Edoofa   \n",
      "221 2023-12-04 09:22:00      Aditi Edoofa   \n",
      "222 2023-12-04 09:26:00  +263 78 817 5746   \n",
      "223 2023-12-04 09:28:00      Aditi Edoofa   \n",
      "224 2023-12-04 09:29:00  +263 78 817 5746   \n",
      "225 2023-12-04 09:31:00      Aditi Edoofa   \n",
      "226 2023-12-04 09:31:00      Aditi Edoofa   \n",
      "227 2023-12-04 09:33:00  +263 78 817 5746   \n",
      "\n",
      "                                               message  \n",
      "200  Happy Monday! 🌸 Sending you positive vibes for...  \n",
      "201  Thank you and good morning ma'am,I'm prepared ...  \n",
      "202  Great, So, may I know if you are aware of thes...  \n",
      "203            Not exactly sure please give an insight  \n",
      "204  So here is a brief about these terms:   Resear...  \n",
      "205                              Okay I'm following up  \n",
      "206  Since I have your full focus, I’ll share with ...  \n",
      "207                                   Well understood.  \n",
      "208  There are a few additional things that are req...  \n",
      "209  Alright ma'am l will create and send them to you.  \n",
      "210  Sorry ma'am someone is asking me what programm...  \n",
      "211  It typically relies on the student's applicati...  \n",
      "212                                     Okay thank you  \n",
      "213  So now we are ready to begin our new journey. ...  \n",
      "214                                Monday and Thursday  \n",
      "215                                             Noted.  \n",
      "216  SECOND- In our sessions (that will be happenin...  \n",
      "217  THIRD- All our conversations from now on will ...  \n",
      "218                      EWYL Line.vcf (file attached)  \n",
      "219  FOURTH- You have to come on the EWYL Line and ...  \n",
      "220  FIFTH- Every day you have to come and say *\"I ...  \n",
      "221  It serves as a link between every student, cou...  \n",
      "222                             Well followed up ma'am  \n",
      "223  Your session is on Monday and Thursday from 09...  \n",
      "224                                         Okay noted  \n",
      "225  So here are a few more important points that I...  \n",
      "226  Takudzwanashe, that concludes our initial orie...  \n",
      "227                  Thank you ma'am,have a great day.  \n"
     ]
    },
    {
     "name": "stderr",
     "output_type": "stream",
     "text": [
      "2023-12-05 17:43:33,084 - DEBUG - Row appended for chat file: WhatsApp Chat with Takudzwanashe EWYL23E0842.txt\n",
      "2023-12-05 17:43:33,326 - DEBUG - Row appended for chat file: WhatsApp Chat with Tanatswa EWYL22E0925.txt\n"
     ]
    },
    {
     "name": "stdout",
     "output_type": "stream",
     "text": [
      "ENTER THE LOOP:               datetime            sender  \\\n",
      "82  2023-12-04 14:04:00      Aditi Edoofa   \n",
      "83  2023-12-04 14:20:00  +263 77 328 7663   \n",
      "84  2023-12-04 14:23:00      Aditi Edoofa   \n",
      "85  2023-12-04 14:23:00  +263 77 328 7663   \n",
      "86  2023-12-04 14:23:00      Aditi Edoofa   \n",
      "87  2023-12-04 14:24:00      Aditi Edoofa   \n",
      "88  2023-12-04 14:24:00  +263 77 328 7663   \n",
      "89  2023-12-04 14:27:00  +263 77 328 7663   \n",
      "90  2023-12-04 14:27:00      Aditi Edoofa   \n",
      "91  2023-12-04 14:28:00  +263 77 328 7663   \n",
      "92  2023-12-04 14:29:00      Aditi Edoofa   \n",
      "93  2023-12-04 14:29:00      Aditi Edoofa   \n",
      "94  2023-12-04 14:29:00      Aditi Edoofa   \n",
      "95  2023-12-04 14:30:00  +263 77 328 7663   \n",
      "96  2023-12-04 14:31:00      Aditi Edoofa   \n",
      "97  2023-12-04 14:31:00      Aditi Edoofa   \n",
      "98  2023-12-04 14:31:00      Aditi Edoofa   \n",
      "99  2023-12-04 14:32:00      Aditi Edoofa   \n",
      "100 2023-12-04 14:32:00      Aditi Edoofa   \n",
      "101 2023-12-04 14:32:00      Aditi Edoofa   \n",
      "102 2023-12-04 14:32:00      Aditi Edoofa   \n",
      "103 2023-12-04 14:35:00  +263 77 328 7663   \n",
      "104 2023-12-04 14:38:00      Aditi Edoofa   \n",
      "105 2023-12-04 14:39:00      Aditi Edoofa   \n",
      "106 2023-12-04 14:41:00  +263 77 328 7663   \n",
      "107 2023-12-04 14:41:00      Aditi Edoofa   \n",
      "108 2023-12-04 14:41:00  +263 77 328 7663   \n",
      "109 2023-12-04 14:42:00      Aditi Edoofa   \n",
      "110 2023-12-04 14:42:00      Aditi Edoofa   \n",
      "111 2023-12-04 14:42:00      Aditi Edoofa   \n",
      "112 2023-12-04 14:44:00  +263 77 328 7663   \n",
      "113 2023-12-04 14:45:00  +263 77 328 7663   \n",
      "114 2023-12-04 14:45:00      Aditi Edoofa   \n",
      "115 2023-12-04 14:46:00  +263 77 328 7663   \n",
      "116 2023-12-04 14:46:00      Aditi Edoofa   \n",
      "117 2023-12-04 14:47:00      Aditi Edoofa   \n",
      "118 2023-12-04 14:47:00      Aditi Edoofa   \n",
      "119 2023-12-04 14:47:00  +263 77 328 7663   \n",
      "120 2023-12-04 14:49:00      Aditi Edoofa   \n",
      "121 2023-12-04 14:50:00      Aditi Edoofa   \n",
      "122 2023-12-04 14:50:00  +263 77 328 7663   \n",
      "123 2023-12-04 14:50:00      Aditi Edoofa   \n",
      "124 2023-12-04 14:51:00      Aditi Edoofa   \n",
      "125 2023-12-04 14:51:00  +263 77 328 7663   \n",
      "126 2023-12-04 14:54:00      Aditi Edoofa   \n",
      "127 2023-12-04 14:55:00  +263 77 328 7663   \n",
      "128 2023-12-04 14:55:00      Aditi Edoofa   \n",
      "129 2023-12-04 14:56:00  +263 77 328 7663   \n",
      "130 2023-12-04 14:59:00      Aditi Edoofa   \n",
      "131 2023-12-04 15:00:00  +263 77 328 7663   \n",
      "132 2023-12-04 15:00:00      Aditi Edoofa   \n",
      "133 2023-12-04 15:01:00  +263 77 328 7663   \n",
      "134 2023-12-04 15:02:00      Aditi Edoofa   \n",
      "135 2023-12-04 15:02:00  +263 77 328 7663   \n",
      "136 2023-12-04 15:03:00      Aditi Edoofa   \n",
      "137 2023-12-04 15:04:00      Aditi Edoofa   \n",
      "138 2023-12-04 15:05:00  +263 77 328 7663   \n",
      "\n",
      "                                               message  \n",
      "82   Happy Monday! 🌸 Sending you positive vibes for...  \n",
      "83   Greetings ma'am I am very sorry l am having a ...  \n",
      "84   Okay, let's try to make the most out of this s...  \n",
      "85                                            Ok ma'am  \n",
      "86   *Now that we’ve both summarized our understand...  \n",
      "87                                     <Media omitted>  \n",
      "88                                             Alright  \n",
      "89                                                Done  \n",
      "90   Okay, so very quickly-can you summarize whatev...  \n",
      "91   Its all about bringing other students to the E...  \n",
      "92                  Correct! <This message was edited>  \n",
      "93   Now, here are 2 things I’d like to briefly rem...  \n",
      "94   Offline Application Form Student Name: Date Of...  \n",
      "95   I am supposed to give this to them so that the...  \n",
      "96                                                Yes!  \n",
      "97   And #2 – Back to the exciting part- your *Scho...  \n",
      "98   So, now I am going to share certain ways that ...  \n",
      "99   *A] Through WhatsApp community groups:*  *STEP...  \n",
      "100  *STEP 2*: We need to find the *right student* ...  \n",
      "101  To identify the right student (Applicant), we ...  \n",
      "102  ADD MENTOR:  Make sure that before you start i...  \n",
      "103                                            Alright  \n",
      "104  *Application form to be shared *  *Offline App...  \n",
      "105                                    <Media omitted>  \n",
      "106         I am also supposed to share this with them  \n",
      "107                                               Yes!  \n",
      "108                                                 Ok  \n",
      "109  While reaching out to students, share this mes...  \n",
      "110  I am ____________, a student selected for the ...  \n",
      "111                                    <Media omitted>  \n",
      "112                        So they must also know this  \n",
      "113  How many students am l supposed to refer to Ed...  \n",
      "114                                As many as you can.  \n",
      "115                                           Ok ma'am  \n",
      "116  Along with this share the following informatio...  \n",
      "117  To give you an insight about Edoofa, it is a s...  \n",
      "118  *Edoofa Scholarship Program* is a well-appreci...  \n",
      "119                                                 Ok  \n",
      "120  You know, Edoofa is also working closely in co...  \n",
      "121                                    <Media omitted>  \n",
      "122                               That is really great  \n",
      "123  Now, it’s been an interesting conversation wit...  \n",
      "124                                    <Media omitted>  \n",
      "125  Before that can l ask when l am supposed to st...  \n",
      "126  These projects has no start date as well as no...  \n",
      "127                So l can start them whenever l want  \n",
      "128  Yes! But it would be better if you start them ...  \n",
      "129  Is there a problem if l start them after publi...  \n",
      "130          May I know when will your results be out?  \n",
      "131                            Early january next year  \n",
      "132  That would be too late and you will miss out o...  \n",
      "133                                      Alright ma'am  \n",
      "134                                               Yes!  \n",
      "135           So l will start them as soon as possible  \n",
      "136                                             Great!  \n",
      "137  We are wrapping up this session We'll pick up ...  \n",
      "138                                Thank you Mrs Aditi  \n",
      "ENTER THE LOOP:               datetime            sender  \\\n",
      "134 2023-12-04 14:04:00      Aditi Edoofa   \n",
      "135 2023-12-04 15:07:00      Aditi Edoofa   \n",
      "136 2023-12-04 15:12:00  +263 78 902 9727   \n",
      "137 2023-12-04 15:20:00      Aditi Edoofa   \n",
      "138 2023-12-04 16:09:00  +263 78 902 9727   \n",
      "139 2023-12-04 16:10:00      Aditi Edoofa   \n",
      "\n",
      "                                               message  \n",
      "134  Happy Monday! 🌸 Sending you positive vibes for...  \n",
      "135  @263789029727 May I know why didn't you show u...  \n",
      "136  Good Afternoon I apologize for not attending t...  \n",
      "137           Okay, I understand. Be on time tomorrow.  \n",
      "138                                   Thank you I will  \n",
      "139                                             Great!  \n"
     ]
    },
    {
     "name": "stderr",
     "output_type": "stream",
     "text": [
      "2023-12-05 17:43:33,556 - DEBUG - Row appended for chat file: WhatsApp Chat with Tanatswa EWYL23E0083.txt\n",
      "2023-12-05 17:43:33,797 - DEBUG - Row appended for chat file: WhatsApp Chat with TANATSWA EWYL23E0910.txt\n"
     ]
    },
    {
     "name": "stdout",
     "output_type": "stream",
     "text": [
      "ENTER THE LOOP:               datetime            sender  \\\n",
      "99  2023-12-04 08:34:00      Aditi Edoofa   \n",
      "100 2023-12-04 08:35:00  +263 78 791 3093   \n",
      "101 2023-12-04 08:36:00  +263 78 791 3093   \n",
      "102 2023-12-04 08:36:00      Aditi Edoofa   \n",
      "103 2023-12-04 08:56:00  +263 78 791 3093   \n",
      "104 2023-12-04 09:00:00      Aditi Edoofa   \n",
      "105 2023-12-04 09:37:00      Aditi Edoofa   \n",
      "\n",
      "                                               message  \n",
      "99   Happy Monday! 🌸 Sending you positive vibes for...  \n",
      "100                                   Morning Ms Aditi  \n",
      "101                                      Yes I'm ready  \n",
      "102        So let' s begin with your response on this.  \n",
      "103  Please forgive me Ms Aditi I'm under a lot of ...  \n",
      "104  Tanatswa, I need you to take your EWYL Session...  \n",
      "105  Alright! This is it for today. So we will resu...  \n"
     ]
    },
    {
     "name": "stderr",
     "output_type": "stream",
     "text": [
      "2023-12-05 17:43:34,041 - DEBUG - Row appended for chat file: WhatsApp Chat with Tanyaradzwa EWYL23E0301.txt\n"
     ]
    },
    {
     "name": "stdout",
     "output_type": "stream",
     "text": [
      "ENTER THE LOOP:               datetime        sender  \\\n",
      "216 2023-12-04 08:34:00  Aditi Edoofa   \n",
      "217 2023-12-04 09:40:00  Aditi Edoofa   \n",
      "\n",
      "                                               message  \n",
      "216  Happy Monday! 🌸 Sending you positive vibes for...  \n",
      "217  @263774639366 May I know didn't you show up fo...  \n",
      "ENTER THE LOOP:              datetime            sender  \\\n",
      "81 2023-12-04 08:33:00      Aditi Edoofa   \n",
      "82 2023-12-04 09:22:00  +263 71 435 3537   \n",
      "83 2023-12-04 09:26:00      Aditi Edoofa   \n",
      "84 2023-12-04 09:26:00      Aditi Edoofa   \n",
      "85 2023-12-04 09:27:00  +263 71 435 3537   \n",
      "86 2023-12-04 09:29:00      Aditi Edoofa   \n",
      "87 2023-12-04 09:37:00      Aditi Edoofa   \n",
      "88 2023-12-04 09:37:00  +263 71 435 3537   \n",
      "\n",
      "                                              message  \n",
      "81  Happy Monday! 🌸 Sending you positive vibes for...  \n",
      "82                                   yes sir am ready  \n",
      "83  Great, can you share what you have retained ti...  \n",
      "84  Also, I would like to mention that I am a female.  \n",
      "85                                 kkkkk so sorry mam  \n",
      "86                                         It's okay!  \n",
      "87  Alright! This is it for today. So we will resu...  \n",
      "88                                            oky mam  \n"
     ]
    },
    {
     "name": "stderr",
     "output_type": "stream",
     "text": [
      "2023-12-05 17:43:34,276 - DEBUG - Row appended for chat file: WhatsApp Chat with Tashinga EWYL22E0854.txt\n",
      "2023-12-05 17:43:34,531 - DEBUG - Row appended for chat file: WhatsApp Chat with Tatenda EWYL23E0034.txt\n"
     ]
    },
    {
     "name": "stdout",
     "output_type": "stream",
     "text": [
      "ENTER THE LOOP:               datetime           sender  \\\n",
      "251 2023-12-04 15:30:00     Aditi Edoofa   \n",
      "252 2023-12-04 16:29:00  +91 79735 44959   \n",
      "253 2023-12-04 16:29:00     Aditi Edoofa   \n",
      "254 2023-12-04 16:31:00  +91 79735 44959   \n",
      "255 2023-12-04 16:32:00     Aditi Edoofa   \n",
      "\n",
      "                                               message  \n",
      "251  Greetings of the day Tatenda! Hope you are wel...  \n",
      "252                                  How are you ma'am  \n",
      "253                            I am well. How are you?  \n",
      "254                                           I'm fine  \n",
      "255  May I know why weren't you responding to my me...  \n",
      "ENTER THE LOOP:              datetime            sender  \\\n",
      "71 2023-12-04 14:04:00      Aditi Edoofa   \n",
      "72 2023-12-04 14:05:00  +263 71 324 6917   \n",
      "73 2023-12-04 14:06:00      Aditi Edoofa   \n",
      "74 2023-12-04 14:06:00      Aditi Edoofa   \n",
      "75 2023-12-04 14:06:00      Aditi Edoofa   \n",
      "76 2023-12-04 14:12:00  +263 71 324 6917   \n",
      "77 2023-12-04 14:12:00      Aditi Edoofa   \n",
      "78 2023-12-04 14:22:00  +263 71 324 6917   \n",
      "79 2023-12-04 14:24:00      Aditi Edoofa   \n",
      "80 2023-12-04 14:24:00      Aditi Edoofa   \n",
      "81 2023-12-04 14:25:00      Aditi Edoofa   \n",
      "82 2023-12-04 15:02:00  +263 71 324 6917   \n",
      "83 2023-12-04 15:04:00      Aditi Edoofa   \n",
      "84 2023-12-04 15:04:00      Aditi Edoofa   \n",
      "85 2023-12-04 15:04:00      Aditi Edoofa   \n",
      "86 2023-12-04 15:04:00      Aditi Edoofa   \n",
      "87 2023-12-04 15:07:00  +263 71 324 6917   \n",
      "\n",
      "                                              message  \n",
      "71  Happy Monday! 🌸 Sending you positive vibes for...  \n",
      "72                                                Yes  \n",
      "73  I will start by explaining the projects in det...  \n",
      "74                                    <Media omitted>  \n",
      "75                           This message was deleted  \n",
      "76                                           I'm done  \n",
      "77  Okay, so very quickly-can you summarize whatev...  \n",
      "78  The objective of the corporate alliance is to ...  \n",
      "79                                             Great!  \n",
      "80  So, I am going to share an extremely significa...  \n",
      "81                                    <Media omitted>  \n",
      "82  The task is to look for potential companies ar...  \n",
      "83                                         Fantastic!  \n",
      "84  Okay- now here are 2 things I would like to br...  \n",
      "85  2, and the fun part- I’m sure you read about S...  \n",
      "86  We are wrapping up this session We'll pick up ...  \n",
      "87                                               Okay  \n"
     ]
    },
    {
     "name": "stderr",
     "output_type": "stream",
     "text": [
      "2023-12-05 17:43:34,813 - DEBUG - Row appended for chat file: WhatsApp Chat with Tawanda EWYL23E0945.txt\n"
     ]
    },
    {
     "name": "stdout",
     "output_type": "stream",
     "text": [
      "ENTER THE LOOP:               datetime           sender  \\\n",
      "237 2023-12-04 08:21:00     Aditi Edoofa   \n",
      "238 2023-12-04 08:21:00     Aditi Edoofa   \n",
      "239 2023-12-04 08:21:00  +91 90416 68425   \n",
      "240 2023-12-04 08:23:00  +91 90416 68425   \n",
      "241 2023-12-04 08:29:00     Aditi Edoofa   \n",
      "242 2023-12-04 08:29:00     Aditi Edoofa   \n",
      "\n",
      "                                               message  \n",
      "237  Greetings @919041668425 Hope you are well.  I ...  \n",
      "238           I think it has been due from a few days.  \n",
      "239                                    Hello Ms Kapoor  \n",
      "240  Sorry for the inconveniences I will respond to...  \n",
      "241                                Okay, I understand.  \n",
      "242                 This would be greatly appreciated.  \n"
     ]
    },
    {
     "name": "stderr",
     "output_type": "stream",
     "text": [
      "2023-12-05 17:43:35,114 - DEBUG - Row appended for chat file: WhatsApp Chat with Theodore EWYL22E1181.txt\n"
     ]
    },
    {
     "name": "stdout",
     "output_type": "stream",
     "text": [
      "ENTER THE LOOP:               datetime           sender  \\\n",
      "702 2023-12-04 14:15:00  +91 89684 49416   \n",
      "703 2023-12-04 14:26:00     Aditi Edoofa   \n",
      "704 2023-12-04 14:26:00  +91 89684 49416   \n",
      "705 2023-12-04 14:27:00  +91 89684 49416   \n",
      "706 2023-12-04 14:29:00     Aditi Edoofa   \n",
      "707 2023-12-04 14:29:00  +91 89684 49416   \n",
      "708 2023-12-04 14:30:00  +91 89684 49416   \n",
      "709 2023-12-04 14:31:00     Aditi Edoofa   \n",
      "\n",
      "                                               message  \n",
      "702  My journey in the EWYL programme had been an a...  \n",
      "703                 Greetings Tino! Hope you are well.  \n",
      "704                                   How are you maam  \n",
      "705                                            Am okay  \n",
      "706  I'm delighted to hear about your incredible jo...  \n",
      "707                                         Sure maam!  \n",
      "708                                  Thank you again !  \n",
      "709                                              Sure!  \n"
     ]
    },
    {
     "name": "stderr",
     "output_type": "stream",
     "text": [
      "2023-12-05 17:43:35,508 - DEBUG - Row appended for chat file: WhatsApp Chat with Tino EWYL22E0829.txt\n"
     ]
    },
    {
     "name": "stdout",
     "output_type": "stream",
     "text": [
      "ENTER THE LOOP:             datetime            sender  \\\n",
      "0 2023-12-04 14:39:00  +263 77 912 7152   \n",
      "1 2023-12-04 14:40:00      Aditi Edoofa   \n",
      "2 2023-12-04 14:40:00      Aditi Edoofa   \n",
      "3 2023-12-04 14:41:00  +263 77 912 7152   \n",
      "4 2023-12-04 14:41:00      Aditi Edoofa   \n",
      "5 2023-12-04 14:42:00  +263 77 912 7152   \n",
      "6 2023-12-04 14:42:00      Aditi Edoofa   \n",
      "7 2023-12-04 14:43:00  +263 77 912 7152   \n",
      "8 2023-12-04 14:51:00      Aditi Edoofa   \n",
      "9 2023-12-04 14:53:00  +263 77 912 7152   \n",
      "\n",
      "                                             message  \n",
      "0  Dear mentor my name is Tinotenda Ashley Sungay...  \n",
      "1  Hello Tinotenda, I hope you are doing well. I ...  \n",
      "2  So, to kick things off with a bang, I wanted t...  \n",
      "3                                               Okay  \n",
      "4                                    <Media omitted>  \n",
      "5        My network is poor it's failing to download  \n",
      "6  Okay, you can go through it after your network...  \n",
      "7                                          Okay then  \n",
      "8  So we will resume our session tomorrow i.e 5-1...  \n",
      "9                                              Noted  \n"
     ]
    },
    {
     "name": "stderr",
     "output_type": "stream",
     "text": [
      "2023-12-05 17:43:35,730 - DEBUG - Row appended for chat file: WhatsApp Chat with Tinotenda EWYL23E0584.txt\n"
     ]
    },
    {
     "name": "stdout",
     "output_type": "stream",
     "text": [
      "ENTER THE LOOP:               datetime            sender  \\\n",
      "183 2023-12-04 14:03:00      Aditi Edoofa   \n",
      "184 2023-12-04 14:10:00  +263 78 475 5539   \n",
      "185 2023-12-04 14:11:00      Aditi Edoofa   \n",
      "186 2023-12-04 14:11:00      Aditi Edoofa   \n",
      "187 2023-12-04 14:12:00      Aditi Edoofa   \n",
      "188 2023-12-04 14:12:00      Aditi Edoofa   \n",
      "189 2023-12-04 15:06:00      Aditi Edoofa   \n",
      "\n",
      "                                               message  \n",
      "183  Happy Monday! 🌸 Sending you positive vibes for...  \n",
      "184         How are you ma'am I'm ready for the lesson  \n",
      "185                      I am well. Thanks for asking.  \n",
      "186                                             Great!  \n",
      "187  Now, here are 2 things I’d like to briefly rem...  \n",
      "188  Offline Application Form  Student Name: Date O...  \n",
      "189  We are wrapping up this session We'll pick up ...  \n"
     ]
    },
    {
     "name": "stderr",
     "output_type": "stream",
     "text": [
      "2023-12-05 17:43:36,014 - DEBUG - Row appended for chat file: WhatsApp Chat with Yemurai EWYL22E1182.txt\n"
     ]
    },
    {
     "name": "stdout",
     "output_type": "stream",
     "text": [
      "ENTER THE LOOP:               datetime            sender  \\\n",
      "183 2023-12-04 09:36:00     Ananya Edoofa   \n",
      "184 2023-12-04 09:40:00  +263 78 912 6850   \n",
      "\n",
      "                                               message  \n",
      "183  Good morning, Adrian!  I hope you are doing we...  \n",
      "184                                       I understand  \n"
     ]
    },
    {
     "name": "stderr",
     "output_type": "stream",
     "text": [
      "2023-12-05 17:43:36,292 - DEBUG - Row appended for chat file: WhatsApp Chat with Adrian EWYL23E0744.txt\n"
     ]
    },
    {
     "name": "stdout",
     "output_type": "stream",
     "text": [
      "ENTER THE LOOP:               datetime         sender  \\\n",
      "292 2023-12-04 08:24:00  Ananya Edoofa   \n",
      "\n",
      "                                               message  \n",
      "292  Good morning, Anesuishe!  Thank you for sharin...  \n"
     ]
    },
    {
     "name": "stderr",
     "output_type": "stream",
     "text": [
      "2023-12-05 17:43:36,584 - DEBUG - Row appended for chat file: WhatsApp Chat with Anesuishe EWYL22E1011.txt\n",
      "2023-12-05 17:43:36,845 - DEBUG - Row appended for chat file: WhatsApp Chat with Anne EWYL23E0249.txt\n"
     ]
    },
    {
     "name": "stdout",
     "output_type": "stream",
     "text": [
      "ENTER THE LOOP:               datetime            sender  \\\n",
      "189 2023-12-04 09:36:00     Ananya Edoofa   \n",
      "190 2023-12-04 09:37:00  +263 71 726 0199   \n",
      "\n",
      "                                               message  \n",
      "189  Good morning, Anne!  I hope you are doing well...  \n",
      "190  How are you Ms Ananya  I sincerely apologize f...  \n",
      "ENTER THE LOOP:              datetime         sender  \\\n",
      "95 2023-12-04 13:33:00  Ananya Edoofa   \n",
      "\n",
      "                                              message  \n",
      "95  Good evening, @263774482658  It's Monday today...  \n"
     ]
    },
    {
     "name": "stderr",
     "output_type": "stream",
     "text": [
      "2023-12-05 17:43:37,073 - DEBUG - Row appended for chat file: WhatsApp Chat with Anopa EWYL23E0772.txt\n"
     ]
    },
    {
     "name": "stdout",
     "output_type": "stream",
     "text": [
      "ENTER THE LOOP:              datetime         sender  \\\n",
      "62 2023-12-04 13:36:00  Ananya Edoofa   \n",
      "\n",
      "                                              message  \n",
      "62  I have observed that I shared the new schedule...  \n"
     ]
    },
    {
     "name": "stderr",
     "output_type": "stream",
     "text": [
      "2023-12-05 17:43:37,289 - DEBUG - Row appended for chat file: WhatsApp Chat with Ashley EWYL23E0640.txt\n",
      "2023-12-05 17:43:37,572 - DEBUG - Row appended for chat file: WhatsApp Chat with Brendon EWYL23E0504.txt\n"
     ]
    },
    {
     "name": "stdout",
     "output_type": "stream",
     "text": [
      "ENTER THE LOOP:               datetime            sender  \\\n",
      "259 2023-12-04 08:02:00     Ananya Edoofa   \n",
      "260 2023-12-04 08:03:00     Ananya Edoofa   \n",
      "261 2023-12-04 11:38:00  +263 77 647 4974   \n",
      "262 2023-12-04 14:57:00  +263 77 806 7002   \n",
      "263 2023-12-04 16:16:00     Ananya Edoofa   \n",
      "264 2023-12-04 16:19:00  +263 77 806 7002   \n",
      "265 2023-12-04 16:20:00  +263 77 806 7002   \n",
      "\n",
      "                                               message  \n",
      "259                             Good morning, Brendon!  \n",
      "260  I hope you are doing well, so can I know if we...  \n",
      "261  Good  morning @918800325457  let me tell Brend...  \n",
      "262               Yes we can resume starting tomorrow.  \n",
      "263  Now that the exams are over, it's time to resu...  \n",
      "264  I am also happy to hear from you. Am ready to ...  \n",
      "265                           This message was deleted  \n",
      "ENTER THE LOOP:               datetime            sender  \\\n",
      "224 2023-12-04 08:30:00  +263 77 492 8058   \n",
      "225 2023-12-04 08:35:00     Ananya Edoofa   \n",
      "226 2023-12-04 08:36:00  +263 77 492 8058   \n",
      "227 2023-12-04 08:44:00     Ananya Edoofa   \n",
      "228 2023-12-04 08:44:00  +263 77 492 8058   \n",
      "229 2023-12-04 08:45:00     Ananya Edoofa   \n",
      "230 2023-12-04 08:45:00  +263 77 492 8058   \n",
      "231 2023-12-04 08:45:00  +263 77 492 8058   \n",
      "232 2023-12-04 08:48:00     Ananya Edoofa   \n",
      "233 2023-12-04 08:49:00  +263 77 492 8058   \n",
      "234 2023-12-04 08:53:00  +263 77 492 8058   \n",
      "235 2023-12-04 09:07:00     Ananya Edoofa   \n",
      "236 2023-12-04 09:09:00  +263 77 492 8058   \n",
      "237 2023-12-04 09:14:00     Ananya Edoofa   \n",
      "238 2023-12-04 09:16:00  +263 77 492 8058   \n",
      "239 2023-12-04 09:17:00     Ananya Edoofa   \n",
      "240 2023-12-04 09:18:00  +263 77 492 8058   \n",
      "241 2023-12-04 09:19:00     Ananya Edoofa   \n",
      "242 2023-12-04 09:19:00     Ananya Edoofa   \n",
      "243 2023-12-04 09:19:00     Ananya Edoofa   \n",
      "244 2023-12-04 09:37:00  +263 77 492 8058   \n",
      "\n",
      "                                               message  \n",
      "224                             Good morning Ms Ananya  \n",
      "225                                    <Media omitted>  \n",
      "226                                                 Ok  \n",
      "227  So, Cathrine may I ask if you were able to con...  \n",
      "228                                          Yes l did  \n",
      "229                         So did you get a response?  \n",
      "230  Monday to Friday I will be assisting the Sixth...  \n",
      "231                               That is his response  \n",
      "232  Well, you can ask him to connect you through W...  \n",
      "233                                  Ok let me ask him  \n",
      "234  He is not online but l think he will answer as...  \n",
      "235  Alright, we’ve come to the end of one part of ...  \n",
      "236  Project 2 is it correct  in the group and l  a...  \n",
      "237                                    <Media omitted>  \n",
      "238                                                 Ok  \n",
      "239  Now,since I have your full focus, I’ll share w...  \n",
      "240                                                 Ok  \n",
      "241  So now we are ready to begin our new journey. ...  \n",
      "242  The EWYL line contact number is: +91 98107 891...  \n",
      "243  FOURTH: I want you to drop a message on this E...  \n",
      "244                                                 Ok  \n"
     ]
    },
    {
     "name": "stderr",
     "output_type": "stream",
     "text": [
      "2023-12-05 17:43:37,848 - DEBUG - Row appended for chat file: WhatsApp Chat with Cathrine EWYL23E0505.txt\n"
     ]
    },
    {
     "name": "stdout",
     "output_type": "stream",
     "text": [
      "ENTER THE LOOP:               datetime         sender  \\\n",
      "229 2023-12-04 09:36:00  Ananya Edoofa   \n",
      "\n",
      "                                               message  \n",
      "229  Good morning, Chisomo!  I hope you are doing w...  \n"
     ]
    },
    {
     "name": "stderr",
     "output_type": "stream",
     "text": [
      "2023-12-05 17:43:38,130 - DEBUG - Row appended for chat file: WhatsApp Chat with Chisomo EWYL23E0548.txt\n"
     ]
    },
    {
     "name": "stdout",
     "output_type": "stream",
     "text": [
      "ENTER THE LOOP:               datetime             sender  \\\n",
      "174 2023-12-04 08:06:00  +265 996 02 44 72   \n",
      "175 2023-12-04 13:39:00      Ananya Edoofa   \n",
      "176 2023-12-04 16:52:00  +265 996 02 44 72   \n",
      "\n",
      "                                               message  \n",
      "174  Good morning Miss Ananya😊... Pardon me this we...  \n",
      "175  Good afternoon, Comfort!  Let's start our sess...  \n",
      "176                               Good afternoon ma'am  \n"
     ]
    },
    {
     "name": "stderr",
     "output_type": "stream",
     "text": [
      "2023-12-05 17:43:38,407 - DEBUG - Row appended for chat file: WhatsApp Chat with Comfort EWYL23E0897.txt\n"
     ]
    },
    {
     "name": "stdout",
     "output_type": "stream",
     "text": [
      "ENTER THE LOOP:               datetime           sender  \\\n",
      "448 2023-12-04 07:57:00    Ananya Edoofa   \n",
      "449 2023-12-04 07:59:00    Ananya Edoofa   \n",
      "450 2023-12-04 09:13:00    Ananya Edoofa   \n",
      "451 2023-12-04 09:19:00  +91 79019 93590   \n",
      "\n",
      "                                               message  \n",
      "448                           This message was deleted  \n",
      "449  Good morning, Covenant!  Kindly give me some t...  \n",
      "450  Covenant, can you please tell me the complete ...  \n",
      "451                          Tatenda Samuel  Chinyemba  \n"
     ]
    },
    {
     "name": "stderr",
     "output_type": "stream",
     "text": [
      "2023-12-05 17:43:38,751 - DEBUG - Row appended for chat file: WhatsApp Chat with Covenant EWYL23E0238.txt\n",
      "2023-12-05 17:43:38,953 - DEBUG - Row appended for chat file: WhatsApp Chat with Dalitso EWYL23E0793.txt\n"
     ]
    },
    {
     "name": "stdout",
     "output_type": "stream",
     "text": [
      "ENTER THE LOOP:              datetime          sender  \\\n",
      "7  2023-12-04 13:40:00   Ananya Edoofa   \n",
      "8  2023-12-04 13:41:00  +260 771023019   \n",
      "9  2023-12-04 13:42:00  +260 771023019   \n",
      "10 2023-12-04 13:46:00   Ananya Edoofa   \n",
      "11 2023-12-04 13:49:00  +260 771023019   \n",
      "12 2023-12-04 13:53:00  +260 771023019   \n",
      "13 2023-12-04 13:55:00   Ananya Edoofa   \n",
      "14 2023-12-04 13:56:00  +260 771023019   \n",
      "15 2023-12-04 13:58:00   Ananya Edoofa   \n",
      "16 2023-12-04 14:00:00  +260 771023019   \n",
      "17 2023-12-04 14:00:00   Ananya Edoofa   \n",
      "18 2023-12-04 14:01:00  +260 771023019   \n",
      "19 2023-12-04 14:12:00   Ananya Edoofa   \n",
      "20 2023-12-04 14:15:00  +260 771023019   \n",
      "21 2023-12-04 14:16:00  +260 771023019   \n",
      "22 2023-12-04 14:18:00   Ananya Edoofa   \n",
      "23 2023-12-04 14:37:00   Ananya Edoofa   \n",
      "24 2023-12-04 14:42:00  +260 771023019   \n",
      "\n",
      "                                              message  \n",
      "7   Good afternoon, Dalitso!  Let's start our sess...  \n",
      "8   To introduce myself..... My name is Dalitso Ba...  \n",
      "9                             Wow that’s a fun fact!!  \n",
      "10  Wow, drums? That's awesome! 🥁  Any chance I co...  \n",
      "11  Unfortunately I don’t have videos of my self p...  \n",
      "12                                    <Media omitted>  \n",
      "13  Well, that's really impressive, Dalitso! Have ...  \n",
      "14                                         Yes I have  \n",
      "15  Well, I must say I have picked such a talented...  \n",
      "16                         Wow thank you Miss Ananya😊  \n",
      "17  I kindly ask you to invite your parents to joi...  \n",
      "18                                               Okey  \n",
      "19  Now that I've learned about you, I'd like to t...  \n",
      "20                 Can you brief me with them please?  \n",
      "21  Am waiting for the link so that my parents can...  \n",
      "22   https://chat.whatsapp.com/DlBludNeiIHDTi7coR2n1U  \n",
      "23  As we close today's session, let me leave you ...  \n",
      "24                                        Thank you!!  \n",
      "ENTER THE LOOP:              datetime             sender  \\\n",
      "12 2023-12-04 13:40:00      Ananya Edoofa   \n",
      "13 2023-12-04 14:00:00  +265 992 60 60 54   \n",
      "14 2023-12-04 14:12:00      Ananya Edoofa   \n",
      "15 2023-12-04 14:13:00  +265 992 60 60 54   \n",
      "16 2023-12-04 14:18:00      Ananya Edoofa   \n",
      "17 2023-12-04 14:20:00  +265 992 60 60 54   \n",
      "18 2023-12-04 14:27:00      Ananya Edoofa   \n",
      "19 2023-12-04 14:28:00  +265 992 60 60 54   \n",
      "20 2023-12-04 14:29:00      Ananya Edoofa   \n",
      "21 2023-12-04 14:42:00  +265 992 60 60 54   \n",
      "22 2023-12-04 14:46:00      Ananya Edoofa   \n",
      "23 2023-12-04 14:51:00  +265 992 60 60 54   \n",
      "24 2023-12-04 16:08:00      Ananya Edoofa   \n",
      "25 2023-12-04 16:23:00  +265 992 60 60 54   \n",
      "\n",
      "                                              message  \n",
      "12  Good afternoon, Dalitso!  Let's start our sess...  \n",
      "13  Good afternoon.  I never knew about that. That...  \n",
      "14         Dalitso, may I ask why are you late today?  \n",
      "15  I was escorting my friend to the hospital. He ...  \n",
      "16             What happened, Dalitso? Is he alright?  \n",
      "17  He got medication and the doctor said he will ...  \n",
      "18  I understand, and it's good to know how caring...  \n",
      "19  It’s the least I can do since they look out fo...  \n",
      "20  I understand, Before we proceed further, I'd l...  \n",
      "21  Of course, the things I enjoy the most are hav...  \n",
      "22  That's awesome! Your mix of interests is so di...  \n",
      "23  Thank you very much.  I really like music poet...  \n",
      "24  Great! Now, as we close today's session, let m...  \n",
      "25        Will be looking forward to tomorrow as well  \n"
     ]
    },
    {
     "name": "stderr",
     "output_type": "stream",
     "text": [
      "2023-12-05 17:43:39,172 - DEBUG - Row appended for chat file: WhatsApp Chat with Dalitso EWYL23E0964.txt\n"
     ]
    },
    {
     "name": "stdout",
     "output_type": "stream",
     "text": [
      "ENTER THE LOOP:               datetime            sender  \\\n",
      "167 2023-12-04 13:38:00  +263 78 769 7756   \n",
      "168 2023-12-04 13:38:00  +263 78 769 7756   \n",
      "169 2023-12-04 13:38:00     Ananya Edoofa   \n",
      "170 2023-12-04 13:44:00  +263 78 769 7756   \n",
      "171 2023-12-04 13:48:00     Ananya Edoofa   \n",
      "172 2023-12-04 13:48:00     Ananya Edoofa   \n",
      "173 2023-12-04 13:53:00  +263 78 769 7756   \n",
      "174 2023-12-04 13:53:00  +263 78 769 7756   \n",
      "175 2023-12-04 13:57:00     Ananya Edoofa   \n",
      "176 2023-12-04 14:06:00  +263 78 769 7756   \n",
      "177 2023-12-04 14:12:00  +263 78 769 7756   \n",
      "178 2023-12-04 14:17:00     Ananya Edoofa   \n",
      "179 2023-12-04 14:17:00     Ananya Edoofa   \n",
      "180 2023-12-04 14:18:00     Ananya Edoofa   \n",
      "181 2023-12-04 14:19:00  +263 78 769 7756   \n",
      "182 2023-12-04 14:19:00  +263 78 769 7756   \n",
      "183 2023-12-04 14:21:00     Ananya Edoofa   \n",
      "184 2023-12-04 14:24:00  +263 78 769 7756   \n",
      "185 2023-12-04 14:28:00     Ananya Edoofa   \n",
      "186 2023-12-04 14:28:00     Ananya Edoofa   \n",
      "187 2023-12-04 14:28:00     Ananya Edoofa   \n",
      "188 2023-12-04 14:28:00     Ananya Edoofa   \n",
      "189 2023-12-04 14:28:00     Ananya Edoofa   \n",
      "190 2023-12-04 14:28:00     Ananya Edoofa   \n",
      "191 2023-12-04 14:28:00     Ananya Edoofa   \n",
      "192 2023-12-04 14:28:00     Ananya Edoofa   \n",
      "193 2023-12-04 14:28:00     Ananya Edoofa   \n",
      "194 2023-12-04 14:32:00  +263 78 769 7756   \n",
      "195 2023-12-04 14:32:00  +263 78 769 7756   \n",
      "196 2023-12-04 14:33:00  +263 78 769 7756   \n",
      "197 2023-12-04 14:34:00  +263 78 769 7756   \n",
      "198 2023-12-04 14:34:00  +263 78 769 7756   \n",
      "199 2023-12-04 14:35:00  +263 78 769 7756   \n",
      "200 2023-12-04 14:37:00     Ananya Edoofa   \n",
      "201 2023-12-04 14:37:00  +263 78 769 7756   \n",
      "\n",
      "                                               message  \n",
      "167  Good afternoon @918800325457. I hope this mess...  \n",
      "168                                       our session*  \n",
      "169  Good afternoon, Delight!  Let's start our sess...  \n",
      "170  I m doing well and how are you. It's a pleasur...  \n",
      "171  *Delight, now that we’ve both summarized our u...  \n",
      "172                                    <Media omitted>  \n",
      "173  I m still downloading the document. I m having...  \n",
      "174                                       OK thank you  \n",
      "175  After you go through this, I would appreciate ...  \n",
      "176                                    <Media omitted>  \n",
      "177  I can get more applicants through whatsapp... ...  \n",
      "178  That’s awesome, I’m confident that if you cont...  \n",
      "179  1-  I’m sharing a form with you below, you can...  \n",
      "180  *Offline Application Form*  Student Name: Date...  \n",
      "181  OK thank you so much. I will do my best to exp...  \n",
      "182                                              Noted  \n",
      "183  And #2 – Back to the exciting part- your *Scho...  \n",
      "184  OK thank you so much. How about the students i...  \n",
      "185  So, now I am going to share certain ways that ...  \n",
      "186  *A] Through WhatsApp community groups:*  *STEP...  \n",
      "187  *STEP 2*: We need to find the *right student* ...  \n",
      "188  To identify the right student (Applicant), we ...  \n",
      "189  Once they add you there, you can share the lin...  \n",
      "190  Once you convey this information in one of the...  \n",
      "191  2] ADD MENTOR:  Make sure that before you star...  \n",
      "192  *Application form to be shared *  *Offline App...  \n",
      "193                                    <Media omitted>  \n",
      "194                                              Noted  \n",
      "195                                              Nited  \n",
      "196                                              Noted  \n",
      "197            We are together mam. You are 100% clear  \n",
      "198                                              Noted  \n",
      "199                              I will do accordingly  \n",
      "200  As we close today's session, let me leave you ...  \n",
      "201     OK thank you so much. Have a blessed day ahead  \n"
     ]
    },
    {
     "name": "stderr",
     "output_type": "stream",
     "text": [
      "2023-12-05 17:43:39,462 - DEBUG - Row appended for chat file: WhatsApp Chat with Delight EWYL23E0697.txt\n",
      "2023-12-05 17:43:39,702 - DEBUG - Row appended for chat file: WhatsApp Chat with Delight EWYL23E0948.txt\n"
     ]
    },
    {
     "name": "stdout",
     "output_type": "stream",
     "text": [
      "ENTER THE LOOP:              datetime            sender  \\\n",
      "77 2023-12-04 08:33:00  +263 78 092 6942   \n",
      "78 2023-12-04 08:35:00     Ananya Edoofa   \n",
      "79 2023-12-04 08:37:00  +263 78 092 6942   \n",
      "80 2023-12-04 08:40:00     Ananya Edoofa   \n",
      "81 2023-12-04 08:40:00     Ananya Edoofa   \n",
      "82 2023-12-04 08:40:00  +263 78 092 6942   \n",
      "83 2023-12-04 08:50:00  +263 78 092 6942   \n",
      "84 2023-12-04 08:54:00  +263 78 092 6942   \n",
      "85 2023-12-04 09:07:00     Ananya Edoofa   \n",
      "86 2023-12-04 09:07:00     Ananya Edoofa   \n",
      "87 2023-12-04 09:13:00  +263 78 092 6942   \n",
      "88 2023-12-04 09:15:00     Ananya Edoofa   \n",
      "89 2023-12-04 09:23:00     Ananya Edoofa   \n",
      "90 2023-12-04 09:32:00  +263 78 092 6942   \n",
      "91 2023-12-04 09:32:00  +263 78 092 6942   \n",
      "\n",
      "                                              message  \n",
      "77                                       Good morning  \n",
      "78                                    <Media omitted>  \n",
      "79                                         Yes please  \n",
      "80  I will start by explaining the projects in det...  \n",
      "81                                    <Media omitted>  \n",
      "82                                              Noted  \n",
      "83                                              Noted  \n",
      "84               Am done opening an linked in account  \n",
      "85  Amazing,  I’m happy with your understanding.  ...  \n",
      "86                                    <Media omitted>  \n",
      "87                                              Noted  \n",
      "88  After you go through this, I would appreciate ...  \n",
      "89  As we close today's session, let me leave you ...  \n",
      "90  I should search for potential companies that c...  \n",
      "91                                        Same to you  \n",
      "ENTER THE LOOP:               datetime            sender  \\\n",
      "129 2023-12-04 13:35:00     Ananya Edoofa   \n",
      "130 2023-12-04 13:57:00  +263 78 962 9728   \n",
      "131 2023-12-04 13:59:00     Ananya Edoofa   \n",
      "132 2023-12-04 13:59:00     Ananya Edoofa   \n",
      "133 2023-12-04 14:04:00  +263 78 962 9728   \n",
      "134 2023-12-04 14:12:00     Ananya Edoofa   \n",
      "135 2023-12-04 14:22:00  +263 78 962 9728   \n",
      "136 2023-12-04 14:27:00     Ananya Edoofa   \n",
      "137 2023-12-04 14:29:00  +263 78 962 9728   \n",
      "138 2023-12-04 14:32:00     Ananya Edoofa   \n",
      "139 2023-12-04 14:37:00     Ananya Edoofa   \n",
      "140 2023-12-04 14:37:00  +263 78 962 9728   \n",
      "\n",
      "                                               message  \n",
      "129  Good afternoon, Devine!  Let's start our sessi...  \n",
      "130                                      I didn't know  \n",
      "131  We’re ready to begin your EWYL program now, an...  \n",
      "132                                    <Media omitted>  \n",
      "133                   I have gone through the document  \n",
      "134  I want you to share your understanding of the ...  \n",
      "135  I have understood project 1and2 (Corporate All...  \n",
      "136  Great  I will start by explaining the projects...  \n",
      "137                                                 Ok  \n",
      "138                                    <Media omitted>  \n",
      "139  As we close today's session, let me leave you ...  \n",
      "140                                             Thanks  \n"
     ]
    },
    {
     "name": "stderr",
     "output_type": "stream",
     "text": [
      "2023-12-05 17:43:39,947 - DEBUG - Row appended for chat file: WhatsApp Chat with Devine EWYL23E0146.txt\n"
     ]
    },
    {
     "name": "stdout",
     "output_type": "stream",
     "text": [
      "ENTER THE LOOP:               datetime         sender  \\\n",
      "101 2023-12-04 13:36:00  Ananya Edoofa   \n",
      "\n",
      "                                               message  \n",
      "101  Good afternoon, Geilen!  Let's start our sessi...  \n"
     ]
    },
    {
     "name": "stderr",
     "output_type": "stream",
     "text": [
      "2023-12-05 17:43:40,197 - DEBUG - Row appended for chat file: WhatsApp Chat with Geilen EWYL23E0509.txt\n"
     ]
    },
    {
     "name": "stdout",
     "output_type": "stream",
     "text": [
      "ENTER THE LOOP:              datetime            sender  \\\n",
      "67 2023-12-04 08:05:00     Ananya Edoofa   \n",
      "68 2023-12-04 14:10:00  +263 77 420 6520   \n",
      "\n",
      "                                              message  \n",
      "67  Good morning, Genius!  How are you today? You ...  \n",
      "68  Good afternoon Ms Ananya.I hope to see you too...  \n"
     ]
    },
    {
     "name": "stderr",
     "output_type": "stream",
     "text": [
      "2023-12-05 17:43:40,414 - DEBUG - Row appended for chat file: WhatsApp Chat with Genius EWYL23E0251.txt\n"
     ]
    },
    {
     "name": "stdout",
     "output_type": "stream",
     "text": [
      "ENTER THE LOOP:               datetime            sender  \\\n",
      "130 2023-12-04 09:39:00     Ananya Edoofa   \n",
      "131 2023-12-04 10:09:00  +263 71 833 7127   \n",
      "132 2023-12-04 10:11:00  +263 71 833 7127   \n",
      "\n",
      "                                               message  \n",
      "130  Good morning, Godfrey!  I hope you are doing w...  \n",
      "131                                       noted mentor  \n",
      "132  but l encounter  problems here which l can not...  \n"
     ]
    },
    {
     "name": "stderr",
     "output_type": "stream",
     "text": [
      "2023-12-05 17:43:40,691 - DEBUG - Row appended for chat file: WhatsApp Chat with Godfrey EWYL23E0270.txt\n"
     ]
    },
    {
     "name": "stdout",
     "output_type": "stream",
     "text": [
      "ENTER THE LOOP:              datetime            sender  \\\n",
      "75 2023-12-04 12:10:00     Ananya Edoofa   \n",
      "76 2023-12-04 13:30:00  +263 78 082 5059   \n",
      "\n",
      "                                              message  \n",
      "75  Good afternoon, Godwell!  I hope you are doing...  \n",
      "76                    Noted I will try to be punctual  \n"
     ]
    },
    {
     "name": "stderr",
     "output_type": "stream",
     "text": [
      "2023-12-05 17:43:40,927 - DEBUG - Row appended for chat file: WhatsApp Chat with Godwell EWYL22E0781.txt\n"
     ]
    },
    {
     "name": "stdout",
     "output_type": "stream",
     "text": [
      "ENTER THE LOOP:              datetime           sender  \\\n",
      "43 2023-12-04 08:16:00    Ananya Edoofa   \n",
      "44 2023-12-04 08:35:00  +27 84 620 1892   \n",
      "45 2023-12-04 16:26:00    Ananya Edoofa   \n",
      "\n",
      "                                              message  \n",
      "43  Good morning, @27846201892  How are you doing ...  \n",
      "44                      Good morning am good and you?  \n",
      "45             Thank you for asking, I am doing well.  \n"
     ]
    },
    {
     "name": "stderr",
     "output_type": "stream",
     "text": [
      "2023-12-05 17:43:41,154 - DEBUG - Row appended for chat file: WhatsApp Chat with Gracious EWYL23E0223.txt\n"
     ]
    },
    {
     "name": "stdout",
     "output_type": "stream",
     "text": [
      "ENTER THE LOOP:               datetime            sender  \\\n",
      "341 2023-12-04 13:48:00   +91 90536 25107   \n",
      "342 2023-12-04 16:17:00     Ananya Edoofa   \n",
      "343 2023-12-04 16:37:00   +91 90536 25107   \n",
      "344 2023-12-04 19:56:00  +263 77 390 4171   \n",
      "\n",
      "                                               message  \n",
      "341  *Analysis of Input and Output in Scholarship E...  \n",
      "342  Your commitment to continuous improvement and ...  \n",
      "343                                           Okay mam  \n",
      "344                                          Hie jesca  \n"
     ]
    },
    {
     "name": "stderr",
     "output_type": "stream",
     "text": [
      "2023-12-05 17:43:41,481 - DEBUG - Row appended for chat file: WhatsApp Chat with Jesca EWYL22E0975.txt\n"
     ]
    },
    {
     "name": "stdout",
     "output_type": "stream",
     "text": [
      "ENTER THE LOOP:               datetime           sender  \\\n",
      "199 2023-12-04 13:52:00  +91 83609 66076   \n",
      "200 2023-12-04 16:16:00    Ananya Edoofa   \n",
      "201 2023-12-04 16:22:00  +91 83609 66076   \n",
      "\n",
      "                                               message  \n",
      "199  *Saturday Activity* *Activity No* 2⃣  EWYL is ...  \n",
      "200  Your commitment to continuous improvement and ...  \n",
      "201                                      Thank you mam  \n"
     ]
    },
    {
     "name": "stderr",
     "output_type": "stream",
     "text": [
      "2023-12-05 17:43:41,764 - DEBUG - Row appended for chat file: WhatsApp Chat with Joseph EWYL22E1200.txt\n"
     ]
    },
    {
     "name": "stdout",
     "output_type": "stream",
     "text": [
      "ENTER THE LOOP:               datetime           sender  \\\n",
      "189 2023-12-04 08:39:00  +260 97 5991740   \n",
      "190 2023-12-04 08:40:00    Ananya Edoofa   \n",
      "191 2023-12-04 08:41:00  +260 97 5991740   \n",
      "192 2023-12-04 08:41:00  +260 97 5991740   \n",
      "193 2023-12-04 08:44:00    Ananya Edoofa   \n",
      "194 2023-12-04 08:44:00  +260 97 5991740   \n",
      "\n",
      "                                               message  \n",
      "189                             Good morning Ms Ananya  \n",
      "190                                    <Media omitted>  \n",
      "191                                        Interesting  \n",
      "192                                          Yes ma'am  \n",
      "193  Well, Kaunda your session time has changed to ...  \n",
      "194                                 OK thank you ma'am  \n"
     ]
    },
    {
     "name": "stderr",
     "output_type": "stream",
     "text": [
      "2023-12-05 17:43:42,080 - DEBUG - Row appended for chat file: WhatsApp Chat with Kaunda EWYL23E0753.txt\n"
     ]
    },
    {
     "name": "stdout",
     "output_type": "stream",
     "text": [
      "ENTER THE LOOP:               datetime           sender  \\\n",
      "429 2023-12-04 11:04:00  +91 90416 75658   \n",
      "430 2023-12-04 11:05:00    Ananya Edoofa   \n",
      "431 2023-12-04 11:07:00  +91 90416 75658   \n",
      "432 2023-12-04 11:07:00  +91 90416 75658   \n",
      "433 2023-12-04 16:19:00    Ananya Edoofa   \n",
      "\n",
      "                                               message  \n",
      "429               Greetings ma’am. I hope you are well  \n",
      "430  Good afternoon, Kelvin!  How are you? Thank yo...  \n",
      "431  My journey in the EWYL programme haa been a gr...  \n",
      "432  I am well thanks ma’am. Happy to hear that you...  \n",
      "433  Your commitment to continuous improvement and ...  \n"
     ]
    },
    {
     "name": "stderr",
     "output_type": "stream",
     "text": [
      "2023-12-05 17:43:42,447 - DEBUG - Row appended for chat file: WhatsApp Chat with Kelvin EWYL22E0590.txt\n",
      "2023-12-05 17:43:42,664 - DEBUG - Row appended for chat file: WhatsApp Chat with Kelvin EWYL23E0966.txt\n"
     ]
    },
    {
     "name": "stdout",
     "output_type": "stream",
     "text": [
      "ENTER THE LOOP:             datetime           sender  \\\n",
      "0 2023-12-04 16:26:00  +27 71 707 0139   \n",
      "1 2023-12-04 16:27:00    Ananya Edoofa   \n",
      "2 2023-12-04 16:28:00  +27 71 707 0139   \n",
      "3 2023-12-04 16:30:00  +27 71 707 0139   \n",
      "4 2023-12-04 16:30:00    Ananya Edoofa   \n",
      "5 2023-12-04 16:32:00  +27 71 707 0139   \n",
      "6 2023-12-04 16:35:00    Ananya Edoofa   \n",
      "7 2023-12-04 17:15:00  +27 83 986 0810   \n",
      "\n",
      "                                             message  \n",
      "0                                        Greetings 🙏  \n",
      "1                           This message was deleted  \n",
      "2  Use the provided link to join your group. Once...  \n",
      "3                                     Yes I am ready  \n",
      "4  Good afternoon, Kelvin!  I am thrilled to intr...  \n",
      "5                                     Yes I am ready  \n",
      "6  Great!  I'm thrilled to see your enthusiasm. T...  \n",
      "7                 Monday to Friday ,1.30PM to 2.30PM  \n",
      "ENTER THE LOOP:              datetime            sender  \\\n",
      "0  2023-12-04 13:01:00  +263 78 530 2324   \n",
      "1  2023-12-04 13:31:00     Ananya Edoofa   \n",
      "2  2023-12-04 13:33:00  +263 78 530 2324   \n",
      "3  2023-12-04 13:34:00     Ananya Edoofa   \n",
      "4  2023-12-04 13:34:00     Ananya Edoofa   \n",
      "5  2023-12-04 13:36:00  +263 78 530 2324   \n",
      "6  2023-12-04 13:39:00  +263 78 530 2324   \n",
      "7  2023-12-04 13:40:00     Ananya Edoofa   \n",
      "8  2023-12-04 13:43:00  +263 78 530 2324   \n",
      "9  2023-12-04 13:47:00     Ananya Edoofa   \n",
      "10 2023-12-04 13:52:00  +263 78 530 2324   \n",
      "11 2023-12-04 13:56:00     Ananya Edoofa   \n",
      "12 2023-12-04 14:04:00  +263 78 530 2324   \n",
      "13 2023-12-04 14:13:00     Ananya Edoofa   \n",
      "14 2023-12-04 14:19:00  +263 78 530 2324   \n",
      "15 2023-12-04 14:23:00     Ananya Edoofa   \n",
      "16 2023-12-04 14:30:00  +263 78 530 2324   \n",
      "17 2023-12-04 14:37:00     Ananya Edoofa   \n",
      "18 2023-12-04 14:40:00  +263 78 530 2324   \n",
      "\n",
      "                                              message  \n",
      "0   *Dear Mentor, my name is Kasu kudakwashe, and ...  \n",
      "1   Good afternoon, Kudakwashe!  I am thrilled to ...  \n",
      "2   Okay nice to know you Ms Ananya. Yes I'm read ...  \n",
      "3   Wonderful, my student! So, to kick things off ...  \n",
      "4                                     <Media omitted>  \n",
      "5                                    Okay that's fine  \n",
      "6   Okay I'm inspired  by the video. It is to unde...  \n",
      "7   Great!  I'm thrilled to see your enthusiasm. T...  \n",
      "8            I choose Monday to Friday 8.30am to 9.30  \n",
      "9   Great, Now, before we move forward I would lik...  \n",
      "10  Okay my name is kasu kudakwashe I'm male ,23 y...  \n",
      "11  That's incredible!  I'd love to get to know yo...  \n",
      "12  Okay I understand  my goals is to have a degre...  \n",
      "13  Psychology and action movies, that's an intere...  \n",
      "14  Thank you  .Here I just love to help or see th...  \n",
      "15  Wow, Kudakwashe, did you know? I am also a big...  \n",
      "16                    Wow that's nice and I'm happy 😊  \n",
      "17  As we close today's session, let me leave you ...  \n",
      "18      Okay thanks 😊 have a nice day and great night  \n"
     ]
    },
    {
     "name": "stderr",
     "output_type": "stream",
     "text": [
      "2023-12-05 17:43:42,901 - DEBUG - Row appended for chat file: WhatsApp Chat with Kudakwashe EWYL23E0968.txt\n"
     ]
    },
    {
     "name": "stdout",
     "output_type": "stream",
     "text": [
      "ENTER THE LOOP:               datetime           sender  \\\n",
      "271 2023-12-04 08:12:00    Ananya Edoofa   \n",
      "272 2023-12-04 13:11:00  +91 73036 42433   \n",
      "\n",
      "                                               message  \n",
      "271  Good morning, Kudzaiishe!  I truly appreciate ...  \n",
      "272  Hello ma’am Indeed i did not keep my word, I’m...  \n"
     ]
    },
    {
     "name": "stderr",
     "output_type": "stream",
     "text": [
      "2023-12-05 17:43:43,250 - DEBUG - Row appended for chat file: WhatsApp Chat with Kudzaiishe EWYL22E1214.txt\n"
     ]
    },
    {
     "name": "stdout",
     "output_type": "stream",
     "text": [
      "ENTER THE LOOP:              datetime         sender  \\\n",
      "58 2023-12-04 12:08:00  Ananya Edoofa   \n",
      "\n",
      "                                              message  \n",
      "58  Good afternoon, Kundai!  I hope you are doing ...  \n"
     ]
    },
    {
     "name": "stderr",
     "output_type": "stream",
     "text": [
      "2023-12-05 17:43:43,497 - DEBUG - Row appended for chat file: WhatsApp Chat with Kundai EWYL23E0148.txt\n"
     ]
    },
    {
     "name": "stdout",
     "output_type": "stream",
     "text": [
      "ENTER THE LOOP:              datetime         sender  \\\n",
      "32 2023-12-04 12:09:00  Ananya Edoofa   \n",
      "\n",
      "                                              message  \n",
      "32  Good afternoon, Tafafzwanashe!  I hope you are...  \n"
     ]
    },
    {
     "name": "stderr",
     "output_type": "stream",
     "text": [
      "2023-12-05 17:43:43,747 - DEBUG - Row appended for chat file: WhatsApp Chat with Lierge EWYL23E0252.txt\n"
     ]
    },
    {
     "name": "stdout",
     "output_type": "stream",
     "text": [
      "ENTER THE LOOP:              datetime         sender  \\\n",
      "48 2023-12-04 12:08:00  Ananya Edoofa   \n",
      "\n",
      "                                              message  \n",
      "48  Good afternoon, Linet!  I hope you are doing w...  \n"
     ]
    },
    {
     "name": "stderr",
     "output_type": "stream",
     "text": [
      "2023-12-05 17:43:43,981 - DEBUG - Row appended for chat file: WhatsApp Chat with Linet EWYL22E1044.txt\n"
     ]
    },
    {
     "name": "stdout",
     "output_type": "stream",
     "text": [
      "ENTER THE LOOP:               datetime         sender  \\\n",
      "199 2023-12-04 09:38:00  Ananya Edoofa   \n",
      "\n",
      "                                               message  \n",
      "199  Good morning, Malcolm!  I hope you are doing w...  \n"
     ]
    },
    {
     "name": "stderr",
     "output_type": "stream",
     "text": [
      "2023-12-05 17:43:44,273 - DEBUG - Row appended for chat file: WhatsApp Chat with Malcolm EWYL23E0654.txt\n"
     ]
    },
    {
     "name": "stdout",
     "output_type": "stream",
     "text": [
      "ENTER THE LOOP:              datetime            sender  \\\n",
      "93 2023-12-04 11:40:00  +263 71 686 5384   \n",
      "94 2023-12-04 16:17:00     Ananya Edoofa   \n",
      "95 2023-12-04 17:18:00  +263 71 686 5384   \n",
      "\n",
      "                                              message  \n",
      "93  Good morning mam .Hope you are well . Pardon t...  \n",
      "94  I trust your exams went smoothly. Congratulati...  \n",
      "95  It was quite the experience . Very scary but a...  \n"
     ]
    },
    {
     "name": "stderr",
     "output_type": "stream",
     "text": [
      "2023-12-05 17:43:44,515 - DEBUG - Row appended for chat file: WhatsApp Chat with Mazviita EWYL23E0673.txt\n",
      "2023-12-05 17:43:44,797 - DEBUG - Row appended for chat file: WhatsApp Chat with Michelle EWYL23E0305.txt\n"
     ]
    },
    {
     "name": "stdout",
     "output_type": "stream",
     "text": [
      "ENTER THE LOOP:               datetime         sender  \\\n",
      "295 2023-12-04 09:35:00  Ananya Edoofa   \n",
      "\n",
      "                                               message  \n",
      "295  Good morning, Michelle!  I hope you are doing ...  \n",
      "ENTER THE LOOP:               datetime           sender  \\\n",
      "256 2023-12-04 08:17:00    Ananya Edoofa   \n",
      "257 2023-12-04 08:19:00  +91 96509 35975   \n",
      "258 2023-12-04 14:55:00    Ananya Edoofa   \n",
      "259 2023-12-04 15:00:00  +91 96509 35975   \n",
      "260 2023-12-04 16:14:00    Ananya Edoofa   \n",
      "261 2023-12-04 16:17:00  +91 96509 35975   \n",
      "262 2023-12-04 16:19:00    Ananya Edoofa   \n",
      "263 2023-12-04 16:20:00  +91 96509 35975   \n",
      "264 2023-12-04 16:22:00  +91 96509 35975   \n",
      "\n",
      "                                               message  \n",
      "256  Good morning, Natasha!  What happened? Is ever...  \n",
      "257  Good morning ma'am , they asked us out because...  \n",
      "258  Natasha, I could not understand that, can you ...  \n",
      "259  Okay ma'am ,  we were living as 4 in an apartm...  \n",
      "260  I understand Natasha, have you discussed this ...  \n",
      "261  No ma'am ,, we have found another apartment, w...  \n",
      "262  Well, if you had discussed this with them, the...  \n",
      "263                                  Thank you ma'am 😊  \n",
      "264  I will do that ma'am , thank you very much for...  \n"
     ]
    },
    {
     "name": "stderr",
     "output_type": "stream",
     "text": [
      "2023-12-05 17:43:45,130 - DEBUG - Row appended for chat file: WhatsApp Chat with Natasha EWYL22E1055.txt\n"
     ]
    },
    {
     "name": "stdout",
     "output_type": "stream",
     "text": [
      "ENTER THE LOOP:               datetime           sender  \\\n",
      "276 2023-12-04 14:56:00    Ananya Edoofa   \n",
      "277 2023-12-04 15:40:00  +91 85579 52717   \n",
      "278 2023-12-04 15:42:00  +91 85579 52717   \n",
      "279 2023-12-04 16:14:00    Ananya Edoofa   \n",
      "\n",
      "                                               message  \n",
      "276  Good evening, Natasha!  I hope you are doing w...  \n",
      "277                                        Alright mum  \n",
      "278  So should I forward that message now in the group  \n",
      "279  Yes, Natasha you can share the message in the ...  \n"
     ]
    },
    {
     "name": "stderr",
     "output_type": "stream",
     "text": [
      "2023-12-05 17:43:45,457 - DEBUG - Row appended for chat file: WhatsApp Chat with Natasha EWYL22E1100.txt\n"
     ]
    },
    {
     "name": "stdout",
     "output_type": "stream",
     "text": [
      "ENTER THE LOOP:               datetime         sender  \\\n",
      "253 2023-12-04 12:09:00  Ananya Edoofa   \n",
      "\n",
      "                                               message  \n",
      "253  Good afternoon, Nyasha!  I hope you are doing ...  \n"
     ]
    },
    {
     "name": "stderr",
     "output_type": "stream",
     "text": [
      "2023-12-05 17:43:45,755 - DEBUG - Row appended for chat file: WhatsApp Chat with Nyasha EWYL23E0655.txt\n"
     ]
    },
    {
     "name": "stdout",
     "output_type": "stream",
     "text": [
      "ENTER THE LOOP:               datetime           sender  \\\n",
      "135 2023-12-04 09:36:00  +91 73407 66315   \n",
      "136 2023-12-04 16:20:00    Ananya Edoofa   \n",
      "137 2023-12-04 18:54:00  +91 73407 66315   \n",
      "\n",
      "                                               message  \n",
      "135  Yes. As a student,  I have been struggling wit...  \n",
      "136  Well, Panashe I understand everything, however...  \n",
      "137  Yes. Fiest the 350 within 3 days , then the re...  \n"
     ]
    },
    {
     "name": "stderr",
     "output_type": "stream",
     "text": [
      "2023-12-05 17:43:46,016 - DEBUG - Row appended for chat file: WhatsApp Chat with Panashe EWYL23E0291.txt\n"
     ]
    },
    {
     "name": "stdout",
     "output_type": "stream",
     "text": [
      "ENTER THE LOOP:               datetime         sender  \\\n",
      "220 2023-12-04 09:38:00  Ananya Edoofa   \n",
      "\n",
      "                                               message  \n",
      "220  Good morning, Paul!  I hope you are doing well...  \n"
     ]
    },
    {
     "name": "stderr",
     "output_type": "stream",
     "text": [
      "2023-12-05 17:43:46,317 - DEBUG - Row appended for chat file: WhatsApp Chat with Paul EWYL23E0410.txt\n"
     ]
    },
    {
     "name": "stdout",
     "output_type": "stream",
     "text": [
      "ENTER THE LOOP:               datetime           sender  \\\n",
      "387 2023-12-04 19:41:00  +91 89683 69740   \n",
      "388 2023-12-04 19:46:00  +91 89683 69740   \n",
      "\n",
      "                                               message  \n",
      "387  In my EWYL program,l have invested my strength...  \n",
      "388  Greetings l hope you are well. I have submitte...  \n"
     ]
    },
    {
     "name": "stderr",
     "output_type": "stream",
     "text": [
      "2023-12-05 17:43:46,656 - DEBUG - Row appended for chat file: WhatsApp Chat with Rutendo EWYL22E1086.txt\n",
      "2023-12-05 17:43:46,936 - DEBUG - Row appended for chat file: WhatsApp Chat with Rutendo EWYL23E0706.txt\n"
     ]
    },
    {
     "name": "stdout",
     "output_type": "stream",
     "text": [
      "ENTER THE LOOP:               datetime            sender  \\\n",
      "220 2023-12-04 12:09:00     Ananya Edoofa   \n",
      "221 2023-12-04 13:32:00  +263 78 581 9684   \n",
      "222 2023-12-04 13:34:00  +263 78 581 9684   \n",
      "\n",
      "                                               message  \n",
      "220  Good afternoon,  Rufaro!  I hope you are doing...  \n",
      "221                                 It's Rutendo ma'am  \n",
      "222                 And I am sorry I was out of bundle  \n",
      "ENTER THE LOOP:              datetime            sender  \\\n",
      "91 2023-12-04 23:18:00  +263 78 683 2254   \n",
      "\n",
      "                                              message  \n",
      "91  Goodevening Ms Ananya    I also do believe tha...  \n"
     ]
    },
    {
     "name": "stderr",
     "output_type": "stream",
     "text": [
      "2023-12-05 17:43:47,177 - DEBUG - Row appended for chat file: WhatsApp Chat with Shalom EWYL23E0717.txt\n"
     ]
    },
    {
     "name": "stdout",
     "output_type": "stream",
     "text": [
      "ENTER THE LOOP:               datetime            sender  \\\n",
      "184 2023-12-04 05:43:00  +263 78 524 3459   \n",
      "185 2023-12-04 05:43:00  +263 78 524 3459   \n",
      "186 2023-12-04 08:31:00  +263 78 524 3459   \n",
      "187 2023-12-04 08:31:00  +263 78 524 3459   \n",
      "188 2023-12-04 08:34:00     Ananya Edoofa   \n",
      "189 2023-12-04 08:40:00  +263 78 524 3459   \n",
      "190 2023-12-04 08:42:00     Ananya Edoofa   \n",
      "191 2023-12-04 08:44:00  +263 78 524 3459   \n",
      "192 2023-12-04 08:47:00     Ananya Edoofa   \n",
      "193 2023-12-04 08:59:00  +263 78 524 3459   \n",
      "194 2023-12-04 09:07:00     Ananya Edoofa   \n",
      "195 2023-12-04 09:26:00     Ananya Edoofa   \n",
      "196 2023-12-04 09:28:00  +263 78 524 3459   \n",
      "197 2023-12-04 09:28:00  +263 78 524 3459   \n",
      "\n",
      "                                               message  \n",
      "184  *Application form to be shared *  *Offline App...  \n",
      "185  Student Name:Makiwa Rubbie Date Of Birth:14 Au...  \n",
      "186                            Good morning Mrs Ananya  \n",
      "187  I hope you had a great weekend and I am glad t...  \n",
      "188                                    <Media omitted>  \n",
      "189                   That's exciting ma'am. Thank you  \n",
      "190  May I know if you have the Whatsapp contact of...  \n",
      "191  Not yet ma'am I am going to search for it toda...  \n",
      "192  Alright,  I would suggest you find it today so...  \n",
      "193  Ok ma'am I was saying so because at the moment...  \n",
      "194  Alright, we’ve come to the end of one part of ...  \n",
      "195  As we close today's session, Let me leave you ...  \n",
      "196             I don't understand this properly ma'am  \n",
      "197                         Ok thank you so much ma'am  \n"
     ]
    },
    {
     "name": "stderr",
     "output_type": "stream",
     "text": [
      "2023-12-05 17:43:47,482 - DEBUG - Row appended for chat file: WhatsApp Chat with Shepherd EWYL23E0578.txt\n",
      "2023-12-05 17:43:47,711 - DEBUG - Row appended for chat file: WhatsApp Chat with Staylodge EWYL23E0887.txt\n"
     ]
    },
    {
     "name": "stdout",
     "output_type": "stream",
     "text": [
      "ENTER THE LOOP:              datetime            sender  \\\n",
      "9  2023-12-04 13:39:00     Ananya Edoofa   \n",
      "10 2023-12-04 13:40:00  +263 71 807 9668   \n",
      "11 2023-12-04 13:40:00  +263 71 807 9668   \n",
      "12 2023-12-04 13:45:00     Ananya Edoofa   \n",
      "13 2023-12-04 13:45:00     Ananya Edoofa   \n",
      "14 2023-12-04 13:48:00  +263 71 807 9668   \n",
      "15 2023-12-04 13:48:00     Ananya Edoofa   \n",
      "16 2023-12-04 13:52:00  +263 71 807 9668   \n",
      "17 2023-12-04 13:53:00     Ananya Edoofa   \n",
      "18 2023-12-04 13:57:00  +263 71 807 9668   \n",
      "19 2023-12-04 14:00:00     Ananya Edoofa   \n",
      "20 2023-12-04 14:00:00  +263 71 807 9668   \n",
      "21 2023-12-04 14:00:00     Ananya Edoofa   \n",
      "22 2023-12-04 14:01:00  +263 71 807 9668   \n",
      "23 2023-12-04 14:19:00     Ananya Edoofa   \n",
      "24 2023-12-04 14:19:00     Ananya Edoofa   \n",
      "25 2023-12-04 14:30:00  +263 71 807 9668   \n",
      "26 2023-12-04 14:37:00     Ananya Edoofa   \n",
      "27 2023-12-04 19:02:00  +263 71 807 9668   \n",
      "\n",
      "                                              message  \n",
      "9   Good afternoon, Staylodge!  Let's start our se...  \n",
      "10                                      Wow l did not  \n",
      "11                                     Good afternoon  \n",
      "12  Wonderful, my student! So, to kick things off ...  \n",
      "13                                    <Media omitted>  \n",
      "14                                         Understood  \n",
      "15  Now, before we move forward I would like to kn...  \n",
      "16  My name is Staylodge Mazowe and am from Zimbab...  \n",
      "17  I'd love to get to know you better! Would you ...  \n",
      "18  Okay my hobbies like reading books....and my g...  \n",
      "19  Nice to know! Being a successful businessman i...  \n",
      "20                                              Yesss  \n",
      "21  Well, I can see that some other people have jo...  \n",
      "22       Other groups member are my mother and father  \n",
      "23                     Well, greetings @263779142358!  \n",
      "24  Now that I've learned about you, I'd like to t...  \n",
      "25                                         No l don't  \n",
      "26  As we close today's session, let me leave you ...  \n",
      "27                            Thank you for your time  \n"
     ]
    },
    {
     "name": "stderr",
     "output_type": "stream",
     "text": [
      "2023-12-05 17:43:47,980 - DEBUG - Row appended for chat file: WhatsApp Chat with Sydwell EWYL23E0739.txt\n"
     ]
    },
    {
     "name": "stdout",
     "output_type": "stream",
     "text": [
      "ENTER THE LOOP:               datetime            sender  \\\n",
      "175 2023-12-04 09:34:00     Ananya Edoofa   \n",
      "176 2023-12-04 09:41:00  +263 71 610 4286   \n",
      "177 2023-12-04 09:41:00  +263 71 610 4286   \n",
      "\n",
      "                                               message  \n",
      "175  Good morning, Sydwell!  I hope you are doing w...  \n",
      "176                         Good morning how are today  \n",
      "177                   Very sorry for the inconvenience  \n",
      "ENTER THE LOOP:              datetime            sender  \\\n",
      "61 2023-12-04 12:08:00     Ananya Edoofa   \n",
      "62 2023-12-04 17:47:00  +263 71 800 1668   \n",
      "\n",
      "                                              message  \n",
      "61  Good afternoon, Tafafzwanashe!  I hope you are...  \n",
      "62  Greetings Mentor. We have electricity problem ...  \n"
     ]
    },
    {
     "name": "stderr",
     "output_type": "stream",
     "text": [
      "2023-12-05 17:43:48,244 - DEBUG - Row appended for chat file: WhatsApp Chat with TAFAFZWANASHE EWYL23E0093.txt\n"
     ]
    },
    {
     "name": "stdout",
     "output_type": "stream",
     "text": [
      "ENTER THE LOOP:               datetime         sender  \\\n",
      "160 2023-12-04 13:35:00  Ananya Edoofa   \n",
      "\n",
      "                                               message  \n",
      "160  Good afternoon, Takunda!  Let's start our sess...  \n"
     ]
    },
    {
     "name": "stderr",
     "output_type": "stream",
     "text": [
      "2023-12-05 17:43:48,526 - DEBUG - Row appended for chat file: WhatsApp Chat with Takunda EWYL23E0346.txt\n"
     ]
    },
    {
     "name": "stdout",
     "output_type": "stream",
     "text": [
      "ENTER THE LOOP:               datetime            sender  \\\n",
      "248 2023-12-04 15:31:00  +263 77 280 1613   \n",
      "\n",
      "                                               message  \n",
      "248  Good afternoon, Takunda is still having a chal...  \n"
     ]
    },
    {
     "name": "stderr",
     "output_type": "stream",
     "text": [
      "2023-12-05 17:43:48,821 - DEBUG - Row appended for chat file: WhatsApp Chat with Takunda EWYL23E0860.txt\n"
     ]
    },
    {
     "name": "stdout",
     "output_type": "stream",
     "text": [
      "ENTER THE LOOP:               datetime           sender  \\\n",
      "357 2023-12-04 09:10:00  +91 90536 25894   \n",
      "358 2023-12-04 16:21:00    Ananya Edoofa   \n",
      "359 2023-12-04 16:21:00  +91 90536 25894   \n",
      "360 2023-12-04 16:22:00  +91 90536 25894   \n",
      "361 2023-12-04 16:26:00    Ananya Edoofa   \n",
      "362 2023-12-04 16:27:00  +91 90536 25894   \n",
      "\n",
      "                                               message  \n",
      "357                                    <Media omitted>  \n",
      "358  Your analysis of the input and output of your ...  \n",
      "359                                      Thank you mam  \n",
      "360                                   How was your day  \n",
      "361                     Well, it was lovely, Tanatswa!  \n",
      "362  That's great mam so may we arrange for a call ...  \n"
     ]
    },
    {
     "name": "stderr",
     "output_type": "stream",
     "text": [
      "2023-12-05 17:43:49,158 - DEBUG - Row appended for chat file: WhatsApp Chat with Tanatswa EWYL22E0974.txt\n",
      "2023-12-05 17:43:49,405 - DEBUG - Row appended for chat file: WhatsApp Chat with Tanatswa EWYL23E0265.txt\n"
     ]
    },
    {
     "name": "stdout",
     "output_type": "stream",
     "text": [
      "ENTER THE LOOP:              datetime         sender  \\\n",
      "62 2023-12-04 09:35:00  Ananya Edoofa   \n",
      "\n",
      "                                              message  \n",
      "62  Good morning, Tanatswa!  I hope you are doing ...  \n",
      "ENTER THE LOOP:               datetime            sender  \\\n",
      "172 2023-12-04 08:22:00  +263 77 196 6236   \n",
      "173 2023-12-04 08:36:00     Ananya Edoofa   \n",
      "174 2023-12-04 08:41:00     Ananya Edoofa   \n",
      "175 2023-12-04 08:42:00  +263 77 196 6236   \n",
      "176 2023-12-04 08:45:00     Ananya Edoofa   \n",
      "177 2023-12-04 08:45:00     Ananya Edoofa   \n",
      "178 2023-12-04 08:45:00     Ananya Edoofa   \n",
      "179 2023-12-04 08:45:00     Ananya Edoofa   \n",
      "180 2023-12-04 08:45:00     Ananya Edoofa   \n",
      "181 2023-12-04 08:50:00  +263 77 196 6236   \n",
      "182 2023-12-04 09:06:00     Ananya Edoofa   \n",
      "183 2023-12-04 09:08:00  +263 77 196 6236   \n",
      "184 2023-12-04 09:12:00     Ananya Edoofa   \n",
      "185 2023-12-04 09:15:00  +263 77 196 6236   \n",
      "186 2023-12-04 09:22:00  +263 77 196 6236   \n",
      "187 2023-12-04 09:23:00  +263 77 196 6236   \n",
      "188 2023-12-04 09:24:00     Ananya Edoofa   \n",
      "189 2023-12-04 09:26:00     Ananya Edoofa   \n",
      "190 2023-12-04 09:32:00  +263 77 196 6236   \n",
      "\n",
      "                                               message  \n",
      "172  Good morning 🌞hope you heard a nice weekend  T...  \n",
      "173  Good morning, Tanyanyiwa!  Well, you can defin...  \n",
      "174                                    <Media omitted>  \n",
      "175  Yeeeeey💃💃💃l am so happy,l just can't wait to w...  \n",
      "176  Okay great, now allow me to recap this project...  \n",
      "177  As a proud edoofian and as a student who is go...  \n",
      "178  ​After that, you will share in details about t...  \n",
      "179  After the school authorities respond to your m...  \n",
      "180  You can use the following form to share the sc...  \n",
      "181                                        Okay got it  \n",
      "182  And #2  The *Scholarship Credits* earning oppo...  \n",
      "183                                               Okay  \n",
      "184  Now, Let me help you with the kind of communic...  \n",
      "185                           St Patrick's High School  \n",
      "186  I am Tanyanyiwa Tariro T .l have been found el...  \n",
      "187                                  Midlands Province  \n",
      "188  Great! Well, as per our records, your school i...  \n",
      "189  As we close today's session, I want you to fin...  \n",
      "190                                               Okay  \n"
     ]
    },
    {
     "name": "stderr",
     "output_type": "stream",
     "text": [
      "2023-12-05 17:43:49,702 - DEBUG - Row appended for chat file: WhatsApp Chat with Tanyanyiwa EWYL23E0698.txt\n"
     ]
    },
    {
     "name": "stdout",
     "output_type": "stream",
     "text": [
      "ENTER THE LOOP:               datetime            sender  \\\n",
      "164 2023-12-04 07:34:00  +263 78 705 3454   \n",
      "165 2023-12-04 16:27:00     Ananya Edoofa   \n",
      "166 2023-12-04 17:08:00  +263 78 705 3454   \n",
      "\n",
      "                                            message  \n",
      "164                                   Morning ma'am  \n",
      "165  Good evening, Tanyaradzwa!  How are you doing?  \n",
      "166                            I'm doing good ma'am  \n"
     ]
    },
    {
     "name": "stderr",
     "output_type": "stream",
     "text": [
      "2023-12-05 17:43:49,991 - DEBUG - Row appended for chat file: WhatsApp Chat with Tanyaradzwa EWYL23E0202.txt\n"
     ]
    },
    {
     "name": "stdout",
     "output_type": "stream",
     "text": [
      "ENTER THE LOOP:               datetime            sender  \\\n",
      "367 2023-12-04 08:01:00     Ananya Edoofa   \n",
      "368 2023-12-04 09:35:00  +263 78 797 2255   \n",
      "369 2023-12-04 09:40:00     Ananya Edoofa   \n",
      "370 2023-12-04 09:40:00     Ananya Edoofa   \n",
      "\n",
      "                                               message  \n",
      "367  Good morning, Tapiwanashe!  I hope to connect ...  \n",
      "368                                   Good morning mam  \n",
      "369                        Kindly join your EWYL Line!  \n",
      "370   The EWYL line contact number is: +91 98107 89170  \n"
     ]
    },
    {
     "name": "stderr",
     "output_type": "stream",
     "text": [
      "2023-12-05 17:43:50,311 - DEBUG - Row appended for chat file: WhatsApp Chat with Tapiwanashe EWYL23E0356.txt\n"
     ]
    },
    {
     "name": "stdout",
     "output_type": "stream",
     "text": [
      "ENTER THE LOOP:               datetime           sender  \\\n",
      "128 2023-12-04 06:19:00  +91 92893 26598   \n",
      "129 2023-12-04 16:28:00    Ananya Edoofa   \n",
      "\n",
      "                                               message  \n",
      "128                           Maam lm not feeling well  \n",
      "129  Good evening, Tatenda!  How are you doing toda...  \n"
     ]
    },
    {
     "name": "stderr",
     "output_type": "stream",
     "text": [
      "2023-12-05 17:43:50,573 - DEBUG - Row appended for chat file: WhatsApp Chat with Tatenda EWYL22E0834.txt\n"
     ]
    },
    {
     "name": "stdout",
     "output_type": "stream",
     "text": [
      "ENTER THE LOOP:               datetime            sender  \\\n",
      "232 2023-12-04 08:09:00     Ananya Edoofa   \n",
      "233 2023-12-04 15:09:00  +263 77 405 6847   \n",
      "234 2023-12-04 15:10:00  +263 77 405 6847   \n",
      "235 2023-12-04 16:13:00     Ananya Edoofa   \n",
      "236 2023-12-04 18:38:00  +263 78 006 0350   \n",
      "\n",
      "                                               message  \n",
      "232  Good morning, Tatenda!  I understand that howe...  \n",
      "233  I was arranging to send her money to buy a new...  \n",
      "234  Pardon her as she could not get any one to len...  \n",
      "235          @263774056847 Thank you for informing me!  \n",
      "236  Please add 9319701778 to this group that's my ...  \n"
     ]
    },
    {
     "name": "stderr",
     "output_type": "stream",
     "text": [
      "2023-12-05 17:43:50,891 - DEBUG - Row appended for chat file: WhatsApp Chat with Tatenda EWYL22E1031.txt\n"
     ]
    },
    {
     "name": "stdout",
     "output_type": "stream",
     "text": [
      "ENTER THE LOOP:               datetime         sender  \\\n",
      "169 2023-12-04 09:35:00  Ananya Edoofa   \n",
      "\n",
      "                                               message  \n",
      "169  Good morning, tatenda!  I hope you are doing w...  \n"
     ]
    },
    {
     "name": "stderr",
     "output_type": "stream",
     "text": [
      "2023-12-05 17:43:51,203 - DEBUG - Row appended for chat file: WhatsApp Chat with Tatenda EWYL23E0550.txt\n"
     ]
    },
    {
     "name": "stdout",
     "output_type": "stream",
     "text": [
      "ENTER THE LOOP:               datetime            sender  \\\n",
      "138 2023-12-04 08:02:00     Ananya Edoofa   \n",
      "139 2023-12-04 08:28:00  +263 77 928 3727   \n",
      "140 2023-12-04 08:35:00     Ananya Edoofa   \n",
      "141 2023-12-04 08:36:00  +263 77 928 3727   \n",
      "142 2023-12-04 08:45:00     Ananya Edoofa   \n",
      "143 2023-12-04 08:45:00     Ananya Edoofa   \n",
      "144 2023-12-04 08:45:00  +263 77 928 3727   \n",
      "145 2023-12-04 08:47:00     Ananya Edoofa   \n",
      "146 2023-12-04 08:53:00  +263 77 928 3727   \n",
      "147 2023-12-04 08:56:00  +263 77 928 3727   \n",
      "148 2023-12-04 09:02:00  +263 77 928 3727   \n",
      "149 2023-12-04 09:07:00     Ananya Edoofa   \n",
      "150 2023-12-04 09:08:00     Ananya Edoofa   \n",
      "151 2023-12-04 09:08:00     Ananya Edoofa   \n",
      "152 2023-12-04 09:08:00  +263 77 928 3727   \n",
      "153 2023-12-04 09:12:00     Ananya Edoofa   \n",
      "154 2023-12-04 09:14:00  +263 77 928 3727   \n",
      "155 2023-12-04 09:21:00  +263 77 928 3727   \n",
      "156 2023-12-04 09:21:00     Ananya Edoofa   \n",
      "157 2023-12-04 09:22:00  +263 77 928 3727   \n",
      "158 2023-12-04 09:23:00     Ananya Edoofa   \n",
      "159 2023-12-04 09:23:00     Ananya Edoofa   \n",
      "160 2023-12-04 09:30:00  +263 77 928 3727   \n",
      "\n",
      "                                               message  \n",
      "138  Good morning, Tatenda!  That's amazing, I hope...  \n",
      "139                                       Good morning  \n",
      "140                                    <Media omitted>  \n",
      "141                               Okay i didn't know 😊  \n",
      "142  We’re ready to begin your EWYL program now, an...  \n",
      "143                                    <Media omitted>  \n",
      "144                                    Yes it is clear  \n",
      "145  I want you to share your understanding of the ...  \n",
      "146  The EWYL program is a program whereby a studen...  \n",
      "147  So this program helps the student to share the...  \n",
      "148  According to my own understanding this program...  \n",
      "149                               Great Job, Tatenda!🏆  \n",
      "150  Now,  I will start by explaining the projects ...  \n",
      "151                                    <Media omitted>  \n",
      "152                                                 Ok  \n",
      "153  Okay, so very quickly you summarize whatever y...  \n",
      "154                                               Okay  \n",
      "155  The first project is cooperate alliance,it hel...  \n",
      "156  Amazing, thanks Tatenda. I’m happy with your u...  \n",
      "157                                               Okay  \n",
      "158                                    <Media omitted>  \n",
      "159  As we close today's session, let me leave you ...  \n",
      "160                  Okay thank you have a blessed day  \n"
     ]
    },
    {
     "name": "stderr",
     "output_type": "stream",
     "text": [
      "2023-12-05 17:43:51,485 - DEBUG - Row appended for chat file: WhatsApp Chat with Tatenda EWYL23E0627.txt\n"
     ]
    },
    {
     "name": "stdout",
     "output_type": "stream",
     "text": [
      "ENTER THE LOOP:               datetime            sender  \\\n",
      "154 2023-12-04 08:25:00  +263 77 643 4112   \n",
      "155 2023-12-04 08:30:00  +263 77 643 4112   \n",
      "156 2023-12-04 08:36:00  +263 77 643 4112   \n",
      "157 2023-12-04 08:41:00     Ananya Edoofa   \n",
      "158 2023-12-04 08:42:00     Ananya Edoofa   \n",
      "159 2023-12-04 08:42:00     Ananya Edoofa   \n",
      "160 2023-12-04 08:43:00  +263 77 643 4112   \n",
      "161 2023-12-04 08:46:00  +263 77 643 4112   \n",
      "162 2023-12-04 08:46:00     Ananya Edoofa   \n",
      "163 2023-12-04 08:46:00     Ananya Edoofa   \n",
      "164 2023-12-04 08:47:00  +263 77 643 4112   \n",
      "165 2023-12-04 08:48:00  +263 77 643 4112   \n",
      "166 2023-12-04 09:06:00     Ananya Edoofa   \n",
      "167 2023-12-04 09:13:00  +263 77 643 4112   \n",
      "168 2023-12-04 09:15:00     Ananya Edoofa   \n",
      "169 2023-12-04 09:15:00     Ananya Edoofa   \n",
      "170 2023-12-04 09:16:00  +263 77 643 4112   \n",
      "171 2023-12-04 09:19:00     Ananya Edoofa   \n",
      "172 2023-12-04 09:23:00  +263 77 643 4112   \n",
      "173 2023-12-04 09:23:00     Ananya Edoofa   \n",
      "\n",
      "                                               message  \n",
      "154  Greeting to you my Mentor .  Please excuse me ...  \n",
      "155  Now answering to this. Thank you very much for...  \n",
      "156                                    <Media omitted>  \n",
      "157                             Good morning, Tatenda!  \n",
      "158  Okay- now here are 2 things I would like to br...  \n",
      "159  2, and the fun part- I’m sure you read about S...  \n",
      "160       So when am l supposed to start the project 1  \n",
      "161                         And l also have a question  \n",
      "162  As of now,  we have decided to put this projec...  \n",
      "163                                       Yes, please?  \n",
      "164  Oky its fine  my mentor , please let me know o...  \n",
      "165  What will happen lets say l have reached to a ...  \n",
      "166                                    <Media omitted>  \n",
      "167                                      Oky thank you  \n",
      "168  *Tatenda, now that we’ve both summarized our u...  \n",
      "169                                    <Media omitted>  \n",
      "170                  Am trying but my netwrk is so bad  \n",
      "171  That's alright, Tatenda! You can listen to it ...  \n",
      "172                                      Oky thank you  \n",
      "173  As we close today's session, let me leave you ...  \n"
     ]
    },
    {
     "name": "stderr",
     "output_type": "stream",
     "text": [
      "2023-12-05 17:43:51,820 - DEBUG - Row appended for chat file: WhatsApp Chat with Tatenda EWYL23E0817.txt\n"
     ]
    },
    {
     "name": "stdout",
     "output_type": "stream",
     "text": [
      "ENTER THE LOOP:               datetime           sender  \\\n",
      "193 2023-12-04 08:24:00  +260 97 7850766   \n",
      "194 2023-12-04 08:35:00    Ananya Edoofa   \n",
      "195 2023-12-04 08:36:00  +260 97 7850766   \n",
      "196 2023-12-04 08:42:00    Ananya Edoofa   \n",
      "197 2023-12-04 08:42:00    Ananya Edoofa   \n",
      "198 2023-12-04 08:44:00  +260 97 7850766   \n",
      "199 2023-12-04 08:46:00    Ananya Edoofa   \n",
      "200 2023-12-04 08:47:00  +260 97 7850766   \n",
      "201 2023-12-04 08:48:00    Ananya Edoofa   \n",
      "202 2023-12-04 08:48:00    Ananya Edoofa   \n",
      "203 2023-12-04 08:48:00    Ananya Edoofa   \n",
      "204 2023-12-04 08:48:00    Ananya Edoofa   \n",
      "205 2023-12-04 08:48:00    Ananya Edoofa   \n",
      "206 2023-12-04 08:48:00    Ananya Edoofa   \n",
      "207 2023-12-04 08:48:00    Ananya Edoofa   \n",
      "208 2023-12-04 08:48:00    Ananya Edoofa   \n",
      "209 2023-12-04 08:52:00  +260 97 7850766   \n",
      "210 2023-12-04 09:06:00    Ananya Edoofa   \n",
      "211 2023-12-04 09:06:00    Ananya Edoofa   \n",
      "212 2023-12-04 09:06:00    Ananya Edoofa   \n",
      "213 2023-12-04 09:06:00    Ananya Edoofa   \n",
      "214 2023-12-04 09:06:00    Ananya Edoofa   \n",
      "215 2023-12-04 09:06:00    Ananya Edoofa   \n",
      "216 2023-12-04 09:06:00    Ananya Edoofa   \n",
      "217 2023-12-04 09:06:00    Ananya Edoofa   \n",
      "218 2023-12-04 09:06:00    Ananya Edoofa   \n",
      "219 2023-12-04 09:06:00    Ananya Edoofa   \n",
      "220 2023-12-04 09:19:00  +260 97 7850766   \n",
      "221 2023-12-04 09:21:00    Ananya Edoofa   \n",
      "222 2023-12-04 09:22:00  +260 97 7850766   \n",
      "223 2023-12-04 09:22:00    Ananya Edoofa   \n",
      "224 2023-12-04 09:22:00    Ananya Edoofa   \n",
      "225 2023-12-04 09:22:00    Ananya Edoofa   \n",
      "226 2023-12-04 09:23:00    Ananya Edoofa   \n",
      "227 2023-12-04 09:23:00  +260 97 7850766   \n",
      "228 2023-12-04 09:24:00  +260 97 7850766   \n",
      "\n",
      "                                               message  \n",
      "193      Good morning I'm online ready for the lessons  \n",
      "194                                    <Media omitted>  \n",
      "195                                 WOW that's awesome  \n",
      "196  1-  I’m sharing a form with you below, you can...  \n",
      "197  *Offline Application Form*  Student Name: Date...  \n",
      "198        Ok I found one I'm till trying to find more  \n",
      "199  Great! And #2 – Back to the exciting part- you...  \n",
      "200                                Ohh wow that's cool  \n",
      "201  *A] Through WhatsApp community groups:*  *STEP...  \n",
      "202  *STEP 2*: We need to find the *right student* ...  \n",
      "203  To identify the right student (Applicant), we ...  \n",
      "204  Once they add you there, you can share the lin...  \n",
      "205  Once you convey this information in one of the...  \n",
      "206  2] ADD MENTOR:  Make sure that before you star...  \n",
      "207  *Application form to be shared *  *Offline App...  \n",
      "208                                    <Media omitted>  \n",
      "209                                               Okay  \n",
      "210  While reaching out to students, share this mes...  \n",
      "211  I am ____________, a student selected for the ...  \n",
      "212                                    <Media omitted>  \n",
      "213  Along with this share the following informatio...  \n",
      "214  Let me introduce you to the scholarship progra...  \n",
      "215  To give you an insight about Edoofa, it is a s...  \n",
      "216  *Edoofa Scholarship Program* is a well-appreci...  \n",
      "217  Edoofa receives applications from _South Afric...  \n",
      "218  I would like each one of you to take a look at...  \n",
      "219                                    <Media omitted>  \n",
      "220  Thanks I have already spoken to my fellow yout...  \n",
      "221  Alright, that's amazing! I must say you are ve...  \n",
      "222                                          Yes Iam 😊  \n",
      "223                                      Haha, Lovely!  \n",
      "224  Now, it’s been an interesting conversation wit...  \n",
      "225                                    <Media omitted>  \n",
      "226  As we close today's session, let me leave you ...  \n",
      "227                 Okay let me listen to it right now  \n",
      "228                                  Thank you madam 😊  \n"
     ]
    },
    {
     "name": "stderr",
     "output_type": "stream",
     "text": [
      "2023-12-05 17:43:52,148 - DEBUG - Row appended for chat file: WhatsApp Chat with TEHILA EWYL23E0467.txt\n",
      "2023-12-05 17:43:52,409 - DEBUG - Row appended for chat file: WhatsApp Chat with Tukiya EWYL23E0699.txt\n"
     ]
    },
    {
     "name": "stdout",
     "output_type": "stream",
     "text": [
      "ENTER THE LOOP:              datetime           sender  \\\n",
      "72 2023-12-04 13:38:00    Ananya Edoofa   \n",
      "73 2023-12-04 13:46:00  +260 97 7440395   \n",
      "74 2023-12-04 13:47:00    Ananya Edoofa   \n",
      "75 2023-12-04 14:07:00  +260 97 7440395   \n",
      "76 2023-12-04 14:15:00    Ananya Edoofa   \n",
      "77 2023-12-04 14:25:00  +260 97 7440395   \n",
      "78 2023-12-04 14:26:00  +260 97 7440395   \n",
      "79 2023-12-04 14:32:00    Ananya Edoofa   \n",
      "80 2023-12-04 14:32:00  +260 97 7440395   \n",
      "81 2023-12-04 14:37:00    Ananya Edoofa   \n",
      "\n",
      "                                              message  \n",
      "72  Good evening, @260977440395 !  I hope you are ...  \n",
      "73   Good Afternoon... I have not gotten any feedback  \n",
      "74  Alright, let me help you with that. Can I know...  \n",
      "75  We have been discussing for some time but it w...  \n",
      "76           Alright, did you talk to Ms. Betty then?  \n",
      "77  Yes, we talked. But she did not tell me the co...  \n",
      "78  I don't know what happens next especially with...  \n",
      "79  Alright,  @260977440395  Let me talk to my tea...  \n",
      "80                                          Thank you  \n",
      "81  As we close today's session, let me leave you ...  \n",
      "ENTER THE LOOP:               datetime            sender  \\\n",
      "403 2023-12-04 08:29:00     Ananya Edoofa   \n",
      "404 2023-12-04 09:27:00  +263 78 324 0649   \n",
      "405 2023-12-04 09:27:00  +263 78 324 0649   \n",
      "406 2023-12-04 20:37:00  +263 78 324 0649   \n",
      "\n",
      "                                               message  \n",
      "403  Good morning, Utloile!  Could you give me some...  \n",
      "404                                            Alright  \n",
      "405                                     Good day ma'am  \n",
      "406                                    <Media omitted>  \n"
     ]
    },
    {
     "name": "stderr",
     "output_type": "stream",
     "text": [
      "2023-12-05 17:43:52,770 - DEBUG - Row appended for chat file: WhatsApp Chat with Utloile EWYL22E1168.txt\n"
     ]
    },
    {
     "name": "stdout",
     "output_type": "stream",
     "text": [
      "ENTER THE LOOP:               datetime           sender  \\\n",
      "244 2023-12-04 10:37:00  +91 92893 20446   \n",
      "245 2023-12-04 11:08:00    Ananya Edoofa   \n",
      "246 2023-12-04 11:12:00  +91 92893 20446   \n",
      "247 2023-12-04 17:16:00  +91 92893 20446   \n",
      "\n",
      "                                               message  \n",
      "244  Duduzile Nyathi 5 March 2005 Female mduduzinya...  \n",
      "245  Congratulations on successfully submitting the...  \n",
      "246        Yes mam  Thank you so much.have a great day  \n",
      "247  In the journey or process of ewyl I have disco...  \n"
     ]
    },
    {
     "name": "stderr",
     "output_type": "stream",
     "text": [
      "2023-12-05 17:43:53,084 - DEBUG - Row appended for chat file: WhatsApp Chat with Valerie EWYL22E1161.txt\n"
     ]
    },
    {
     "name": "stdout",
     "output_type": "stream",
     "text": [
      "ENTER THE LOOP:               datetime           sender  \\\n",
      "337 2023-12-04 15:46:00  +91 79017 68655   \n",
      "338 2023-12-04 16:09:00    Ananya Edoofa   \n",
      "339 2023-12-04 16:09:00  +91 79017 68655   \n",
      "\n",
      "                                               message  \n",
      "337  Okay so basically, in my Earn While You Learn ...  \n",
      "338  Your commitment to continuous improvement and ...  \n",
      "339                                     thank you maam  \n"
     ]
    },
    {
     "name": "stderr",
     "output_type": "stream",
     "text": [
      "2023-12-05 17:43:53,437 - DEBUG - Row appended for chat file: WhatsApp Chat with Vanessa EWYL22E0589.txt\n",
      "2023-12-05 17:43:53,713 - DEBUG - Row appended for chat file: WhatsApp Chat with Abide EWYL23E0712.txt\n"
     ]
    },
    {
     "name": "stdout",
     "output_type": "stream",
     "text": [
      "ENTER THE LOOP:               datetime            sender  \\\n",
      "189 2023-12-04 08:16:00    Jasmine Edoofa   \n",
      "190 2023-12-04 08:17:00  +263 71 277 1362   \n",
      "\n",
      "                                               message  \n",
      "189  _*Good Morning Abide*_ I hope you are doing we...  \n",
      "190                                     Okay thank you  \n",
      "ENTER THE LOOP:               datetime            sender  \\\n",
      "82  2023-12-04 07:49:00    Jasmine Edoofa   \n",
      "83  2023-12-04 07:59:00  +263 78 547 1606   \n",
      "84  2023-12-04 08:29:00  +263 78 547 1606   \n",
      "85  2023-12-04 08:38:00    Jasmine Edoofa   \n",
      "86  2023-12-04 08:38:00    Jasmine Edoofa   \n",
      "87  2023-12-04 08:38:00    Jasmine Edoofa   \n",
      "88  2023-12-04 08:49:00  +263 78 547 1606   \n",
      "89  2023-12-04 08:51:00    Jasmine Edoofa   \n",
      "90  2023-12-04 08:54:00  +263 78 547 1606   \n",
      "91  2023-12-04 08:55:00  +263 78 547 1606   \n",
      "92  2023-12-04 09:05:00    Jasmine Edoofa   \n",
      "93  2023-12-04 09:05:00    Jasmine Edoofa   \n",
      "94  2023-12-04 09:12:00  +263 78 547 1606   \n",
      "95  2023-12-04 09:18:00    Jasmine Edoofa   \n",
      "96  2023-12-04 09:20:00  +263 78 547 1606   \n",
      "97  2023-12-04 09:24:00    Jasmine Edoofa   \n",
      "98  2023-12-04 09:24:00  +263 78 547 1606   \n",
      "99  2023-12-04 16:00:00    Jasmine Edoofa   \n",
      "100 2023-12-04 17:00:00  +263 78 547 1606   \n",
      "\n",
      "                                               message  \n",
      "82   _*Good Morning Adonai*_ I hope you are doing w...  \n",
      "83                            Good morning, well noted  \n",
      "84                                            Am ready  \n",
      "85   Well, Done Adonai, It clearly shows that you h...  \n",
      "86   Today, I will start by explaining the projects...  \n",
      "87                                     <Media omitted>  \n",
      "88                                     I have finished  \n",
      "89   Okay, so very quickly you summarize whatever y...  \n",
      "90   It helps to prepare me for the market l want t...  \n",
      "91   And it also helps me to be exposed to local co...  \n",
      "92   Amazing, thanks Adonai. I’m happy with your un...  \n",
      "93                                     <Media omitted>  \n",
      "94   They are factors to consider when selecting a ...  \n",
      "95   Okay- now here are 2 things I would like to br...  \n",
      "96                                                Okay  \n",
      "97   Now, it is time to wrap up the session. We wil...  \n",
      "98                                           Thank you  \n",
      "99   *Good Afternoon Adonai* I trust you are doing ...  \n",
      "100                                         Well noted  \n"
     ]
    },
    {
     "name": "stderr",
     "output_type": "stream",
     "text": [
      "2023-12-05 17:43:53,982 - DEBUG - Row appended for chat file: WhatsApp Chat with Adonai EWYL23E0947.txt\n"
     ]
    },
    {
     "name": "stdout",
     "output_type": "stream",
     "text": [
      "ENTER THE LOOP:              datetime          sender  \\\n",
      "69 2023-12-04 07:49:00  Jasmine Edoofa   \n",
      "\n",
      "                                              message  \n",
      "69  _*Good Morning Albert*_ I hope you are doing w...  \n"
     ]
    },
    {
     "name": "stderr",
     "output_type": "stream",
     "text": [
      "2023-12-05 17:43:54,270 - DEBUG - Row appended for chat file: WhatsApp Chat with Albert EWYL23E0769.txt\n"
     ]
    },
    {
     "name": "stdout",
     "output_type": "stream",
     "text": [
      "ENTER THE LOOP:               datetime            sender  \\\n",
      "306 2023-12-04 08:01:00    Jasmine Edoofa   \n",
      "307 2023-12-04 08:03:00  +263 78 186 1128   \n",
      "308 2023-12-04 08:15:00    Jasmine Edoofa   \n",
      "\n",
      "                                               message  \n",
      "306  _*Good Morning Alexio*_ I hope you are doing w...  \n",
      "307         Good morning Ms Jasmine how are you doing?  \n",
      "308             I am very well. Thank you for asking 😊  \n"
     ]
    },
    {
     "name": "stderr",
     "output_type": "stream",
     "text": [
      "2023-12-05 17:43:54,594 - DEBUG - Row appended for chat file: WhatsApp Chat with Alexio EWYL23E0403.txt\n",
      "2023-12-05 17:43:54,843 - DEBUG - Row appended for chat file: WhatsApp Chat with Anesu EWYL22E0610.txt\n"
     ]
    },
    {
     "name": "stdout",
     "output_type": "stream",
     "text": [
      "ENTER THE LOOP:              datetime          sender  \\\n",
      "90 2023-12-04 08:02:00  Jasmine Edoofa   \n",
      "\n",
      "                                              message  \n",
      "90  _*Good Morning Anesu*_ I hope you are doing we...  \n",
      "ENTER THE LOOP:               datetime           sender  \\\n",
      "564 2023-12-04 12:44:00  +91 70272 86265   \n",
      "565 2023-12-04 13:27:00   Jasmine Edoofa   \n",
      "566 2023-12-04 13:27:00  +91 70272 86265   \n",
      "567 2023-12-04 17:35:00  +91 70272 86265   \n",
      "\n",
      "                                               message  \n",
      "564  *Offline Application Form*  Student Name: Manj...  \n",
      "565  Good Afternoon Anna Dear, This application is ...  \n",
      "566                   Good afternoon ma'am. Okay ma'am  \n",
      "567  *Saturday activity*  Eversince the day I start...  \n"
     ]
    },
    {
     "name": "stderr",
     "output_type": "stream",
     "text": [
      "2023-12-05 17:43:55,232 - DEBUG - Row appended for chat file: WhatsApp Chat with Anna EWYL21E0882.txt\n"
     ]
    },
    {
     "name": "stdout",
     "output_type": "stream",
     "text": [
      "ENTER THE LOOP:               datetime           sender  \\\n",
      "406 2023-12-04 07:54:00  +91 89302 53951   \n",
      "407 2023-12-04 07:55:00  +91 89302 53951   \n",
      "408 2023-12-04 07:55:00  +91 89302 53951   \n",
      "409 2023-12-04 07:55:00  +91 89302 53951   \n",
      "410 2023-12-04 07:57:00  +91 89302 53951   \n",
      "..                  ...              ...   \n",
      "468 2023-12-04 15:45:00  +91 89302 53951   \n",
      "469 2023-12-04 15:45:00  +91 89302 53951   \n",
      "470 2023-12-04 15:46:00  +91 89302 53951   \n",
      "471 2023-12-04 16:22:00   Jasmine Edoofa   \n",
      "472 2023-12-04 16:27:00  +91 89302 53951   \n",
      "\n",
      "                                               message  \n",
      "406                                              Hello  \n",
      "407         Mam what about the discussion of the grant  \n",
      "408                                     A grant report  \n",
      "409                                     Credits report  \n",
      "410  And Ashley is saying the counselor is no longe...  \n",
      "..                                                 ...  \n",
      "468                                                 Ok  \n",
      "469                                          Thank you  \n",
      "470                           So can I redeem my grant  \n",
      "471  Now that we are on the same page, as of Sept &...  \n",
      "472                                I didn't understand  \n",
      "\n",
      "[67 rows x 3 columns]\n"
     ]
    },
    {
     "name": "stderr",
     "output_type": "stream",
     "text": [
      "2023-12-05 17:43:55,598 - DEBUG - Row appended for chat file: WhatsApp Chat with Anna EWYL22E0289.txt\n"
     ]
    },
    {
     "name": "stdout",
     "output_type": "stream",
     "text": [
      "ENTER THE LOOP:               datetime            sender  \\\n",
      "196 2023-12-04 07:49:00    Jasmine Edoofa   \n",
      "197 2023-12-04 08:46:00  +263 73 685 6479   \n",
      "198 2023-12-04 08:51:00    Jasmine Edoofa   \n",
      "199 2023-12-04 09:00:00  +263 73 685 6479   \n",
      "200 2023-12-04 09:06:00    Jasmine Edoofa   \n",
      "201 2023-12-04 09:25:00    Jasmine Edoofa   \n",
      "202 2023-12-04 16:00:00    Jasmine Edoofa   \n",
      "203 2023-12-04 16:02:00  +263 73 685 6479   \n",
      "\n",
      "                                               message  \n",
      "196  _*Good Morning Ariel*_ I hope you are doing we...  \n",
      "197                                       Good day mam  \n",
      "198  Last time, we were discussing Project 3. Do yo...  \n",
      "199                                                Yes  \n",
      "200  I am delighted to share that EDOOFA's scholars...  \n",
      "201  Now, it is time to wrap up the session. We wil...  \n",
      "202  *Good Afternoon Ariel* I trust you are doing w...  \n",
      "203                                    Noted thank you  \n"
     ]
    },
    {
     "name": "stderr",
     "output_type": "stream",
     "text": [
      "2023-12-05 17:43:55,922 - DEBUG - Row appended for chat file: WhatsApp Chat with Ariel EWYL23E0815.txt\n"
     ]
    },
    {
     "name": "stdout",
     "output_type": "stream",
     "text": [
      "ENTER THE LOOP:               datetime            sender  \\\n",
      "281 2023-12-04 07:51:00    Jasmine Edoofa   \n",
      "282 2023-12-04 08:02:00  +263 78 433 7203   \n",
      "283 2023-12-04 08:31:00    Jasmine Edoofa   \n",
      "284 2023-12-04 08:36:00  +263 78 433 7203   \n",
      "285 2023-12-04 08:36:00    Jasmine Edoofa   \n",
      "286 2023-12-04 08:43:00  +263 78 433 7203   \n",
      "287 2023-12-04 08:44:00  +263 78 433 7203   \n",
      "288 2023-12-04 08:48:00    Jasmine Edoofa   \n",
      "289 2023-12-04 08:52:00  +263 78 433 7203   \n",
      "290 2023-12-04 09:13:00    Jasmine Edoofa   \n",
      "291 2023-12-04 09:27:00    Jasmine Edoofa   \n",
      "292 2023-12-04 09:43:00  +263 78 433 7203   \n",
      "293 2023-12-04 09:46:00  +263 78 433 7203   \n",
      "294 2023-12-04 16:05:00    Jasmine Edoofa   \n",
      "295 2023-12-04 16:40:00  +263 78 433 7203   \n",
      "\n",
      "                                               message  \n",
      "281  _*Good Morning Ashley*_ I hope you are doing w...  \n",
      "282       Yes i did thank you for asking how was yours  \n",
      "283  Last time, we were discussing about Project 3....  \n",
      "284   Am now ready for my session for today Ms Jasmine  \n",
      "285  And #2  The *Scholarship Credits* earning oppo...  \n",
      "286                                                Yes  \n",
      "287                                   Wow this is good  \n",
      "288  Before we start, I want you to answer the ques...  \n",
      "289  1.Thornhill High school. Am not sure if its co...  \n",
      "290  Since your school is currently not connected w...  \n",
      "291  Now, it is time to wrap up the session. We wil...  \n",
      "292                                           Yes i do  \n",
      "293                                          Thank you  \n",
      "294  *Good Afternoon* I trust you are doing well. *...  \n",
      "295                                Thank you very much  \n"
     ]
    },
    {
     "name": "stderr",
     "output_type": "stream",
     "text": [
      "2023-12-05 17:43:56,250 - DEBUG - Row appended for chat file: WhatsApp Chat with Ashley EWYL23E0735.txt\n"
     ]
    },
    {
     "name": "stdout",
     "output_type": "stream",
     "text": [
      "ENTER THE LOOP:               datetime           sender  \\\n",
      "415 2023-12-04 11:12:00   Jasmine Edoofa   \n",
      "416 2023-12-04 12:45:00  +91 86991 45058   \n",
      "417 2023-12-04 13:47:00   Jasmine Edoofa   \n",
      "418 2023-12-04 13:52:00  +91 86991 45058   \n",
      "\n",
      "                                               message  \n",
      "415  *Good Afternoon Blessing* Do you remember when...  \n",
      "416                  Good afternoon maam Cant remember  \n",
      "417  Kindly allow me some time, I will get back to ...  \n",
      "418                                    Okay no problem  \n"
     ]
    },
    {
     "name": "stderr",
     "output_type": "stream",
     "text": [
      "2023-12-05 17:43:56,574 - DEBUG - Row appended for chat file: WhatsApp Chat with Blessing EWYL22E0849.txt\n"
     ]
    },
    {
     "name": "stdout",
     "output_type": "stream",
     "text": [
      "ENTER THE LOOP:               datetime            sender  \\\n",
      "129 2023-12-04 07:49:00    Jasmine Edoofa   \n",
      "130 2023-12-04 08:34:00  +263 71 380 7287   \n",
      "131 2023-12-04 08:34:00  +263 71 380 7287   \n",
      "132 2023-12-04 08:39:00    Jasmine Edoofa   \n",
      "133 2023-12-04 08:42:00  +263 71 380 7287   \n",
      "134 2023-12-04 08:49:00    Jasmine Edoofa   \n",
      "135 2023-12-04 08:51:00  +263 71 380 7287   \n",
      "136 2023-12-04 08:52:00    Jasmine Edoofa   \n",
      "137 2023-12-04 09:25:00    Jasmine Edoofa   \n",
      "138 2023-12-04 10:11:00  +263 71 380 7287   \n",
      "139 2023-12-04 16:01:00    Jasmine Edoofa   \n",
      "\n",
      "                                               message  \n",
      "129  _*Good Morning Bridget*_ I hope you are doing ...  \n",
      "130                                   Good morning mam  \n",
      "131                           I'm here for the session  \n",
      "132  You know what Bridget, this is fantastic! This...  \n",
      "133                                      Thank you mam  \n",
      "134  Okay- now here are 2 things I would like to br...  \n",
      "135                                              Noted  \n",
      "136  Second and the fun part- I’m sure you have rea...  \n",
      "137  Now, it is time to wrap up the session. We wil...  \n",
      "138                                              Noted  \n",
      "139  *Good Afternoon Bridget* I trust you are doing...  \n"
     ]
    },
    {
     "name": "stderr",
     "output_type": "stream",
     "text": [
      "2023-12-05 17:43:56,862 - DEBUG - Row appended for chat file: WhatsApp Chat with Bridget EWYL23E0746.txt\n",
      "2023-12-05 17:43:57,119 - DEBUG - Row appended for chat file: WhatsApp Chat with Bukamboni EWYL23E0257.txt\n"
     ]
    },
    {
     "name": "stdout",
     "output_type": "stream",
     "text": [
      "ENTER THE LOOP:               datetime            sender  \\\n",
      "200 2023-12-04 13:40:00  +263 78 665 9518   \n",
      "201 2023-12-04 13:40:00    Jasmine Edoofa   \n",
      "202 2023-12-04 14:58:00  +263 78 665 9518   \n",
      "203 2023-12-04 15:16:00    Jasmine Edoofa   \n",
      "204 2023-12-04 15:17:00    Jasmine Edoofa   \n",
      "205 2023-12-04 15:43:00  +263 78 665 9518   \n",
      "206 2023-12-04 16:22:00    Jasmine Edoofa   \n",
      "207 2023-12-04 16:23:00    Jasmine Edoofa   \n",
      "208 2023-12-04 18:03:00  +263 78 665 9518   \n",
      "\n",
      "                                               message  \n",
      "200  Hie  Afternoon, its Bukamboni.  I Finished my ...  \n",
      "201        Good Afternoon Bukamboni How are you doing?  \n",
      "202                              I'm very fine and you  \n",
      "203             I am very well. Thank you for asking 😊  \n",
      "204                      Are you done with your exams?  \n",
      "205                                       Yes I'm done  \n",
      "206                                     Okay Bukamboni  \n",
      "207  We have our session schduled on Wednesday from...  \n",
      "208                                Yes I am, thank you  \n"
     ]
    },
    {
     "name": "stderr",
     "output_type": "stream",
     "text": [
      "2023-12-05 17:43:57,407 - DEBUG - Row appended for chat file: WhatsApp Chat with Catherine EWYL23E0300.txt\n"
     ]
    },
    {
     "name": "stdout",
     "output_type": "stream",
     "text": [
      "ENTER THE LOOP:               datetime            sender  \\\n",
      "203 2023-12-04 07:57:00    Jasmine Edoofa   \n",
      "204 2023-12-04 11:31:00  +263 77 303 1875   \n",
      "205 2023-12-04 14:03:00    Jasmine Edoofa   \n",
      "206 2023-12-04 14:08:00  +263 71 318 4079   \n",
      "207 2023-12-04 16:03:00    Jasmine Edoofa   \n",
      "208 2023-12-04 16:05:00  +263 71 318 4079   \n",
      "\n",
      "                                               message  \n",
      "203  _*Good Morning Catherine*_ I hope you are doin...  \n",
      "204  *Offline Application Form*  Student Name: More...  \n",
      "205  Well, Done on sharing the form 🌟 It has been s...  \n",
      "206                                  Ok maam thank you  \n",
      "207  *Good Afternoon* I trust you are doing well. *...  \n",
      "208                                 Ok ma'am thank you  \n",
      "ENTER THE LOOP:               datetime            sender  \\\n",
      "395 2023-12-04 07:52:00    Jasmine Edoofa   \n",
      "396 2023-12-04 08:00:00  +263 71 385 1617   \n",
      "397 2023-12-04 08:00:00  +263 71 385 1617   \n",
      "398 2023-12-04 08:32:00    Jasmine Edoofa   \n",
      "399 2023-12-04 08:32:00    Jasmine Edoofa   \n",
      "400 2023-12-04 08:49:00  +263 71 385 1617   \n",
      "401 2023-12-04 08:53:00    Jasmine Edoofa   \n",
      "402 2023-12-04 08:56:00  +263 71 385 1617   \n",
      "403 2023-12-04 09:10:00  +263 71 385 1617   \n",
      "404 2023-12-04 09:16:00    Jasmine Edoofa   \n",
      "405 2023-12-04 09:16:00    Jasmine Edoofa   \n",
      "406 2023-12-04 09:18:00  +263 71 385 1617   \n",
      "407 2023-12-04 09:19:00  +263 71 385 1617   \n",
      "408 2023-12-04 09:22:00    Jasmine Edoofa   \n",
      "409 2023-12-04 09:23:00  +263 71 385 1617   \n",
      "410 2023-12-04 16:06:00    Jasmine Edoofa   \n",
      "411 2023-12-04 16:06:00  +263 71 385 1617   \n",
      "412 2023-12-04 16:07:00  +263 71 385 1617   \n",
      "\n",
      "                                               message  \n",
      "395  _*Good Morning Charles*_ I hope you are doing ...  \n",
      "396                           Good morning Mrs jasmine  \n",
      "397                                         Understood  \n",
      "398  Now we’re ready to move forward. I’m sharing a...  \n",
      "399                                    <Media omitted>  \n",
      "400                                         Understood  \n",
      "401  After you go through the audio, I would apprec...  \n",
      "402                                         Understood  \n",
      "403  African school education reform program.  I ha...  \n",
      "404  Now that’s bang-on! I couldn’t have asked anyo...  \n",
      "405  Now allow me to recap this project quickly for...  \n",
      "406                                          Thank you  \n",
      "407                                         Understood  \n",
      "408  Now, it is time to wrap up the session. We wil...  \n",
      "409                              Thank you same to you  \n",
      "410  *Good Afternoon* I trust you are doing well. *...  \n",
      "411                                         Understood  \n",
      "412                      Thank you and have a nice day  \n"
     ]
    },
    {
     "name": "stderr",
     "output_type": "stream",
     "text": [
      "2023-12-05 17:43:57,747 - DEBUG - Row appended for chat file: WhatsApp Chat with Charles EWYL23E0091.txt\n"
     ]
    },
    {
     "name": "stdout",
     "output_type": "stream",
     "text": [
      "ENTER THE LOOP:               datetime           sender  \\\n",
      "387 2023-12-04 11:09:00   Jasmine Edoofa   \n",
      "388 2023-12-04 12:15:00  +91 75081 21739   \n",
      "389 2023-12-04 14:02:00   Jasmine Edoofa   \n",
      "390 2023-12-04 14:28:00  +91 75081 21739   \n",
      "391 2023-12-04 14:29:00   Jasmine Edoofa   \n",
      "392 2023-12-04 14:30:00  +91 75081 21739   \n",
      "\n",
      "                                               message  \n",
      "387  Good Afternoon Charmaine Dear, if you had netw...  \n",
      "388             Did get one  but that time, I am sorry  \n",
      "389  Please make sure that you attend our next sche...  \n",
      "390                                  When is that maam  \n",
      "391         I will let you know a day before Charmaine  \n",
      "392                                         Okay ma'am  \n"
     ]
    },
    {
     "name": "stderr",
     "output_type": "stream",
     "text": [
      "2023-12-05 17:43:58,089 - DEBUG - Row appended for chat file: WhatsApp Chat with Charmaine EWYL22E0631.txt\n"
     ]
    },
    {
     "name": "stdout",
     "output_type": "stream",
     "text": [
      "ENTER THE LOOP:               datetime           sender  \\\n",
      "100 2023-12-04 16:24:00   Jasmine Edoofa   \n",
      "101 2023-12-04 16:26:00   Jasmine Edoofa   \n",
      "102 2023-12-04 16:46:00  +91 90534 25286   \n",
      "\n",
      "                                               message  \n",
      "100                               Good Evening Chiedza  \n",
      "101  Thank you for sharing the profile. I will defi...  \n",
      "102                                        My pleasure  \n"
     ]
    },
    {
     "name": "stderr",
     "output_type": "stream",
     "text": [
      "2023-12-05 17:43:58,358 - DEBUG - Row appended for chat file: WhatsApp Chat with Chiedza EWYL22E0119.txt\n",
      "2023-12-05 17:43:58,609 - DEBUG - Row appended for chat file: WhatsApp Chat with Christina EWYL23E0761.txt\n"
     ]
    },
    {
     "name": "stdout",
     "output_type": "stream",
     "text": [
      "ENTER THE LOOP:               datetime             sender  \\\n",
      "159 2023-12-04 08:04:00     Jasmine Edoofa   \n",
      "160 2023-12-04 09:29:00  +265 880 70 64 92   \n",
      "\n",
      "                                               message  \n",
      "159  _*Good Morning Christina*_ I hope you are doin...  \n",
      "160                            Good morning Ms Jasmine  \n",
      "ENTER THE LOOP:               datetime            sender  \\\n",
      "104 2023-12-04 08:16:00    Jasmine Edoofa   \n",
      "105 2023-12-04 08:34:00  +263 78 039 9759   \n",
      "\n",
      "                                               message  \n",
      "104  _*Good Morning Courage*_ I hope you are doing ...  \n",
      "105                              OK it's oky my mentor  \n"
     ]
    },
    {
     "name": "stderr",
     "output_type": "stream",
     "text": [
      "2023-12-05 17:43:58,853 - DEBUG - Row appended for chat file: WhatsApp Chat with Courage EWYL23E0272.txt\n"
     ]
    },
    {
     "name": "stdout",
     "output_type": "stream",
     "text": [
      "ENTER THE LOOP:               datetime           sender    message\n",
      "329 2023-12-04 15:34:00  +91 79863 32387  Thank you\n"
     ]
    },
    {
     "name": "stderr",
     "output_type": "stream",
     "text": [
      "2023-12-05 17:43:59,163 - DEBUG - Row appended for chat file: WhatsApp Chat with Creed EWYL22E0973.txt\n",
      "2023-12-05 17:43:59,402 - DEBUG - Row appended for chat file: WhatsApp Chat with David EWYL23E0797.txt\n"
     ]
    },
    {
     "name": "stdout",
     "output_type": "stream",
     "text": [
      "ENTER THE LOOP:              datetime            sender  \\\n",
      "65 2023-12-04 07:48:00    Jasmine Edoofa   \n",
      "66 2023-12-04 08:01:00  +263 78 106 4898   \n",
      "67 2023-12-04 08:40:00    Jasmine Edoofa   \n",
      "68 2023-12-04 08:42:00  +263 78 106 4898   \n",
      "69 2023-12-04 08:49:00    Jasmine Edoofa   \n",
      "70 2023-12-04 08:49:00    Jasmine Edoofa   \n",
      "71 2023-12-04 08:50:00  +263 78 106 4898   \n",
      "72 2023-12-04 08:52:00    Jasmine Edoofa   \n",
      "73 2023-12-04 09:05:00  +263 78 106 4898   \n",
      "74 2023-12-04 09:07:00    Jasmine Edoofa   \n",
      "75 2023-12-04 09:08:00  +263 78 106 4898   \n",
      "76 2023-12-04 09:18:00    Jasmine Edoofa   \n",
      "77 2023-12-04 09:19:00  +263 78 106 4898   \n",
      "78 2023-12-04 09:25:00    Jasmine Edoofa   \n",
      "79 2023-12-04 09:25:00  +263 78 106 4898   \n",
      "80 2023-12-04 16:00:00    Jasmine Edoofa   \n",
      "81 2023-12-04 16:10:00  +263 78 106 4898   \n",
      "\n",
      "                                              message  \n",
      "65  _*Good Morning David*_ I hope you are doing we...  \n",
      "66                                              Noted  \n",
      "67                     Are you ready for the session?  \n",
      "68                                                Yes  \n",
      "69  Amazing, thanks David. I’m happy with your und...  \n",
      "70                                    <Media omitted>  \n",
      "71                                              Noted  \n",
      "72  After you go through this, I would appreciate ...  \n",
      "73  Basically l am supposed to search for companie...  \n",
      "74  You know what David, this is fantastic! This i...  \n",
      "75                                                 Ok  \n",
      "76  Okay- now here are 2 things I would like to br...  \n",
      "77                                              Noted  \n",
      "78  Now, it is time to wrap up the session. We wil...  \n",
      "79                                            Ok same  \n",
      "80  *Good Afternoon David* I trust you are doing w...  \n",
      "81                                              Noted  \n",
      "ENTER THE LOOP:               datetime            sender  \\\n",
      "115 2023-12-04 08:16:00    Jasmine Edoofa   \n",
      "116 2023-12-04 09:38:00  +263 78 181 5035   \n",
      "\n",
      "                                               message  \n",
      "115  _*Good Morning Delony*_ I hope you are doing w...  \n",
      "116  Good morning mam, thanks for reminding me abou...  \n"
     ]
    },
    {
     "name": "stderr",
     "output_type": "stream",
     "text": [
      "2023-12-05 17:43:59,641 - DEBUG - Row appended for chat file: WhatsApp Chat with DELONY EWYL22E0888.txt\n",
      "2023-12-05 17:43:59,876 - DEBUG - Row appended for chat file: WhatsApp Chat with Derylin EWYL23E0863.txt\n"
     ]
    },
    {
     "name": "stdout",
     "output_type": "stream",
     "text": [
      "ENTER THE LOOP:              datetime            sender  \\\n",
      "20 2023-12-04 08:14:00    Jasmine Edoofa   \n",
      "21 2023-12-04 11:42:00  +263 78 111 7306   \n",
      "22 2023-12-04 13:35:00  +263 78 111 7306   \n",
      "23 2023-12-04 13:36:00    Jasmine Edoofa   \n",
      "24 2023-12-04 13:37:00  +263 78 111 7306   \n",
      "25 2023-12-04 13:38:00    Jasmine Edoofa   \n",
      "26 2023-12-04 13:38:00  +263 78 111 7306   \n",
      "27 2023-12-04 13:39:00    Jasmine Edoofa   \n",
      "28 2023-12-04 13:41:00  +263 78 111 7306   \n",
      "29 2023-12-04 13:45:00    Jasmine Edoofa   \n",
      "30 2023-12-04 13:45:00    Jasmine Edoofa   \n",
      "31 2023-12-04 13:45:00    Jasmine Edoofa   \n",
      "32 2023-12-04 13:49:00  +263 78 111 7306   \n",
      "33 2023-12-04 13:51:00    Jasmine Edoofa   \n",
      "34 2023-12-04 14:00:00  +263 78 111 7306   \n",
      "35 2023-12-04 14:01:00  +263 78 111 7306   \n",
      "36 2023-12-04 14:02:00    Jasmine Edoofa   \n",
      "37 2023-12-04 14:04:00  +263 78 111 7306   \n",
      "38 2023-12-04 14:04:00    Jasmine Edoofa   \n",
      "39 2023-12-04 14:04:00    Jasmine Edoofa   \n",
      "40 2023-12-04 14:04:00    Jasmine Edoofa   \n",
      "41 2023-12-04 14:05:00  +263 78 111 7306   \n",
      "42 2023-12-04 14:06:00  +263 78 111 7306   \n",
      "43 2023-12-04 14:15:00    Jasmine Edoofa   \n",
      "44 2023-12-04 14:15:00    Jasmine Edoofa   \n",
      "45 2023-12-04 14:17:00    Jasmine Edoofa   \n",
      "46 2023-12-04 14:18:00  +263 78 111 7306   \n",
      "47 2023-12-04 14:18:00    Jasmine Edoofa   \n",
      "48 2023-12-04 14:19:00    Jasmine Edoofa   \n",
      "49 2023-12-04 14:20:00  +263 78 111 7306   \n",
      "50 2023-12-04 14:21:00    Jasmine Edoofa   \n",
      "51 2023-12-04 14:22:00    Jasmine Edoofa   \n",
      "52 2023-12-04 14:22:00  +263 78 111 7306   \n",
      "53 2023-12-04 14:23:00  +263 78 111 7306   \n",
      "54 2023-12-04 14:24:00    Jasmine Edoofa   \n",
      "55 2023-12-04 14:24:00  +263 78 111 7306   \n",
      "56 2023-12-04 14:24:00  +263 78 111 7306   \n",
      "57 2023-12-04 14:26:00    Jasmine Edoofa   \n",
      "58 2023-12-04 14:27:00  +263 78 111 7306   \n",
      "\n",
      "                                              message  \n",
      "20  *Good Afternoon Derylin* I hope you are doing ...  \n",
      "21                                   Yes ma'am  noted  \n",
      "22                 Ma'am I am  ready for the  session  \n",
      "23         Good Afternoon Derylin, How are you doing?  \n",
      "24  Afternoon  how are you I'm  doing  great thank...  \n",
      "25             I am very well. Thank you for asking 😊  \n",
      "26                                   You are  welcome  \n",
      "27  First thing first, *_Congratulations_* ✨ On be...  \n",
      "28  Thank you  😊  l am very proud  for  this achie...  \n",
      "29  Now, allow me to paint a picture of myself, no...  \n",
      "30  I am dropping a video that will help you know ...  \n",
      "31                                    <Media omitted>  \n",
      "32  Thank you  now l feel  like  I  know  you  for...  \n",
      "33  So Derylin, I would like to begin this journey...  \n",
      "34  Okay as you already  know  my name is Derylin ...  \n",
      "35  I, as a girl child I have an inner feeling tha...  \n",
      "36  So, you are already aware of the EWYL Program....  \n",
      "37  Truth  being told l also wanted you to elabora...  \n",
      "38                   Don't worry. I will help you out  \n",
      "39  The EWYL (Earn While You Learn) Program aims t...  \n",
      "40  It would be best if you allocate today's time ...  \n",
      "41                                  Thank you so much  \n",
      "42                                          Yes ma'am  \n",
      "43                                    <Media omitted>  \n",
      "44                                    <Media omitted>  \n",
      "45  After you are done with the reading, I want yo...  \n",
      "46                  Ok ma'am  tomorrow  at what  time  \n",
      "47  Here are your questions  1. What are the benef...  \n",
      "48  Is everything clear up till now? If you have a...  \n",
      "49                          Not yet red the documents  \n",
      "50  You can read them today after the session Dery...  \n",
      "51  Now, I would like to remind you to complete th...  \n",
      "52  Ok so it means  l can also  attend to the ques...  \n",
      "53                                     Ok will  do so  \n",
      "54  I wish you a wonderful day ahead. Maintain you...  \n",
      "55                         Thank  you and same to you  \n",
      "56     What time is  our session  beginning  tomorrow  \n",
      "57                                  Dear, at 1:30 pm.  \n",
      "58                           Ok thank you  ms Jasmine  \n"
     ]
    },
    {
     "name": "stderr",
     "output_type": "stream",
     "text": [
      "2023-12-05 17:44:00,108 - DEBUG - Row appended for chat file: WhatsApp Chat with Divine EWYL22E0498.txt\n"
     ]
    },
    {
     "name": "stdout",
     "output_type": "stream",
     "text": [
      "ENTER THE LOOP:              datetime            sender  \\\n",
      "52 2023-12-04 08:15:00    Jasmine Edoofa   \n",
      "53 2023-12-04 08:17:00  +263 78 595 9492   \n",
      "\n",
      "                                              message  \n",
      "52  _*Good Morning Divine*_ I hope you are doing w...  \n",
      "53                                           Ok noted  \n",
      "ENTER THE LOOP:               datetime          sender  \\\n",
      "137 2023-12-04 08:01:00  Jasmine Edoofa   \n",
      "\n",
      "                                               message  \n",
      "137  _*Good Morning Emmanuel*_ I hope you are doing...  \n"
     ]
    },
    {
     "name": "stderr",
     "output_type": "stream",
     "text": [
      "2023-12-05 17:44:00,370 - DEBUG - Row appended for chat file: WhatsApp Chat with Emmanuel EWYL23E0501.txt\n"
     ]
    },
    {
     "name": "stdout",
     "output_type": "stream",
     "text": [
      "ENTER THE LOOP:               datetime          sender  \\\n",
      "287 2023-12-04 11:03:00  Jasmine Edoofa   \n",
      "288 2023-12-04 11:03:00  Jasmine Edoofa   \n",
      "289 2023-12-04 11:04:00  Jasmine Edoofa   \n",
      "\n",
      "                                               message  \n",
      "287  Good Afternoon Evans This is the new applicati...  \n",
      "288  *Offline Application Form*  Student Name: Date...  \n",
      "289  Kindly ask the student to fill up the new appl...  \n"
     ]
    },
    {
     "name": "stderr",
     "output_type": "stream",
     "text": [
      "2023-12-05 17:44:00,681 - DEBUG - Row appended for chat file: WhatsApp Chat with Evans EWYL22E1255.txt\n"
     ]
    },
    {
     "name": "stdout",
     "output_type": "stream",
     "text": [
      "ENTER THE LOOP:               datetime            sender  \\\n",
      "96  2023-12-04 07:48:00    Jasmine Edoofa   \n",
      "97  2023-12-04 09:03:00  +263 78 278 8359   \n",
      "98  2023-12-04 09:07:00    Jasmine Edoofa   \n",
      "99  2023-12-04 09:15:00  +263 78 278 8359   \n",
      "100 2023-12-04 09:18:00    Jasmine Edoofa   \n",
      "101 2023-12-04 09:22:00  +263 78 278 8359   \n",
      "102 2023-12-04 09:24:00    Jasmine Edoofa   \n",
      "103 2023-12-04 09:24:00    Jasmine Edoofa   \n",
      "104 2023-12-04 09:25:00    Jasmine Edoofa   \n",
      "105 2023-12-04 09:25:00  +263 78 278 8359   \n",
      "106 2023-12-04 09:27:00  +263 78 278 8359   \n",
      "107 2023-12-04 16:01:00    Jasmine Edoofa   \n",
      "\n",
      "                                               message  \n",
      "96   _*Good Morning Gugulethu*_ I hope you are doin...  \n",
      "97                                                Okay  \n",
      "98   Have you gone through the past converation, Gu...  \n",
      "99                                                 Yes  \n",
      "100  Now, we’re ready to begin your EWYL program, a...  \n",
      "101                                                Yes  \n",
      "102                                    <Media omitted>  \n",
      "103  I want you to take today’s time, to go through...  \n",
      "104                         Have a wonderful day ahead  \n",
      "105                                               Okay  \n",
      "106                                        Same to you  \n",
      "107  *Good Afternoon Gugulethu* I trust you are doi...  \n"
     ]
    },
    {
     "name": "stderr",
     "output_type": "stream",
     "text": [
      "2023-12-05 17:44:00,922 - DEBUG - Row appended for chat file: WhatsApp Chat with Gugulethu EWYL23E0566.txt\n",
      "2023-12-05 17:44:01,141 - DEBUG - Row appended for chat file: WhatsApp Chat with Hazel EWYL21E0838.txt\n"
     ]
    },
    {
     "name": "stdout",
     "output_type": "stream",
     "text": [
      "ENTER THE LOOP:              datetime           sender  \\\n",
      "9  2023-12-04 14:30:00   Jasmine Edoofa   \n",
      "10 2023-12-04 14:30:00   Jasmine Edoofa   \n",
      "11 2023-12-04 14:32:00   Jasmine Edoofa   \n",
      "12 2023-12-04 14:34:00   Jasmine Edoofa   \n",
      "13 2023-12-04 14:38:00  +91 99713 16410   \n",
      "\n",
      "                                              message  \n",
      "9             Good Afternoon Hazel How are you doing?  \n",
      "10                  Yes, it's been really long Hazel.  \n",
      "11              Here is the updated application form.  \n",
      "12  *Offline Application Form*  Student Name: Date...  \n",
      "13                                          Thank you  \n",
      "ENTER THE LOOP:               datetime            sender  \\\n",
      "177 2023-12-04 08:05:00    Jasmine Edoofa   \n",
      "178 2023-12-04 08:08:00  +263 78 010 5235   \n",
      "\n",
      "                                               message  \n",
      "177  _*Good Morning Kailler*_ I hope you are doing ...  \n",
      "178                       Good morning okay well noted  \n"
     ]
    },
    {
     "name": "stderr",
     "output_type": "stream",
     "text": [
      "2023-12-05 17:44:01,424 - DEBUG - Row appended for chat file: WhatsApp Chat with Kailler EWYL22E0916.txt\n"
     ]
    },
    {
     "name": "stdout",
     "output_type": "stream",
     "text": [
      "ENTER THE LOOP:                datetime           sender  \\\n",
      "1010 2023-12-04 12:06:00  +91 76819 66443   \n",
      "1011 2023-12-04 12:06:00  +91 76819 66443   \n",
      "1012 2023-12-04 12:06:00  +91 76819 66443   \n",
      "1013 2023-12-04 12:06:00  +91 76819 66443   \n",
      "1014 2023-12-04 12:13:00  +91 76819 66443   \n",
      "1015 2023-12-04 12:15:00   Jasmine Edoofa   \n",
      "1016 2023-12-04 12:15:00  +91 76819 66443   \n",
      "1017 2023-12-04 12:15:00  +91 76819 66443   \n",
      "1018 2023-12-04 12:17:00   Jasmine Edoofa   \n",
      "1019 2023-12-04 12:18:00  +91 76819 66443   \n",
      "1020 2023-12-04 12:19:00  +91 76819 66443   \n",
      "1021 2023-12-04 12:20:00   Jasmine Edoofa   \n",
      "1022 2023-12-04 12:21:00  +91 76819 66443   \n",
      "1023 2023-12-04 12:22:00  +91 76819 66443   \n",
      "1024 2023-12-04 12:22:00   Jasmine Edoofa   \n",
      "1025 2023-12-04 12:23:00  +91 76819 66443   \n",
      "1026 2023-12-04 12:23:00   Jasmine Edoofa   \n",
      "1027 2023-12-04 12:25:00  +91 76819 66443   \n",
      "1028 2023-12-04 12:28:00   Jasmine Edoofa   \n",
      "1029 2023-12-04 12:29:00  +91 76819 66443   \n",
      "1030 2023-12-04 12:30:00   Jasmine Edoofa   \n",
      "1031 2023-12-04 12:30:00  +91 76819 66443   \n",
      "1032 2023-12-04 12:32:00  +91 76819 66443   \n",
      "1033 2023-12-04 12:34:00   Jasmine Edoofa   \n",
      "1034 2023-12-04 12:35:00   Jasmine Edoofa   \n",
      "1035 2023-12-04 12:36:00  +91 76819 66443   \n",
      "1036 2023-12-04 12:36:00  +91 76819 66443   \n",
      "1037 2023-12-04 12:38:00  +91 76819 66443   \n",
      "1038 2023-12-04 12:40:00   Jasmine Edoofa   \n",
      "1039 2023-12-04 12:46:00  +91 76819 66443   \n",
      "\n",
      "                                                message  \n",
      "1010                            Greetings, Ms Jasmine 😊  \n",
      "1011                       How are you doing today Mam?  \n",
      "1012                     I hope you had a great weekend  \n",
      "1013  *1. Offline Application Form*  Assisted By: *K...  \n",
      "1014  *2. Offline Application Form*  Student's Name:...  \n",
      "1015  Good Afternoon Kelvin I am very well. How are ...  \n",
      "1016  That's great Mam, I'm glad to hear that you ar...  \n",
      "1017                           I'm also doing great Mam  \n",
      "1018  I am also very happy to know that you are doin...  \n",
      "1019  I'm having a wonderful day Mam, I just got fro...  \n",
      "1020         What about you Mam, How is your day going?  \n",
      "1021  It's fantastic that you tackled the exam you a...  \n",
      "1022  Alright that's great Mam, it's wonderful to he...  \n",
      "1023  I have shared these two application forms toda...  \n",
      "1024  Well, Done on sharing the form 🌟 It has been s...  \n",
      "1025                              Noted with thanks Mam  \n",
      "1026  Kelvin, How is your project on Community Build...  \n",
      "1027  They are going really well Mam, from the time ...  \n",
      "1028  That is great. So, your end-semester exams are...  \n",
      "1029  No Mam, I have already started my exams.  I'm ...  \n",
      "1030  Okay Okay, Then will you be having a short win...  \n",
      "1031                                            Yes yes  \n",
      "1032  We are having a winter break from the 6th of D...  \n",
      "1033   What are your plans for the winter break Kelvin?  \n",
      "1034                             That is a great thing.  \n",
      "1035  I think it's a good opportunity for me to work...  \n",
      "1036                                       Yes sure Mam  \n",
      "1037  So I'm planning to utilise that time, when I w...  \n",
      "1038                Yes, I wish you All the Best Kelvin  \n",
      "1039                                     😊Thank you Mam  \n"
     ]
    },
    {
     "name": "stderr",
     "output_type": "stream",
     "text": [
      "2023-12-05 17:44:01,905 - DEBUG - Row appended for chat file: WhatsApp Chat with Kelvin EWYL22E0047.txt\n"
     ]
    },
    {
     "name": "stdout",
     "output_type": "stream",
     "text": [
      "ENTER THE LOOP:               datetime           sender  \\\n",
      "365 2023-12-04 14:29:00   Jasmine Edoofa   \n",
      "366 2023-12-04 14:32:00  +91 85279 22506   \n",
      "367 2023-12-04 14:32:00  +91 85279 22506   \n",
      "368 2023-12-04 14:39:00   Jasmine Edoofa   \n",
      "369 2023-12-04 18:19:00  +91 85279 22506   \n",
      "\n",
      "                                               message  \n",
      "365  Good Afternoon, May I know what is the update ...  \n",
      "366                         Good  evening Ms . Jasmine  \n",
      "367  Just came from school, soon I’ll write and sen...  \n",
      "368                                        Okay Kester  \n",
      "369  Saturday Activity  Firstly l would like start ...  \n"
     ]
    },
    {
     "name": "stderr",
     "output_type": "stream",
     "text": [
      "2023-12-05 17:44:02,219 - DEBUG - Row appended for chat file: WhatsApp Chat with Kester EWYL22E0495.txt\n",
      "2023-12-05 17:44:02,499 - DEBUG - Row appended for chat file: WhatsApp Chat with Kevin EWYL23E0868.txt\n"
     ]
    },
    {
     "name": "stdout",
     "output_type": "stream",
     "text": [
      "ENTER THE LOOP:               datetime            sender  \\\n",
      "144 2023-12-04 11:02:00  +263 78 082 7631   \n",
      "145 2023-12-04 14:19:00    Jasmine Edoofa   \n",
      "146 2023-12-04 14:19:00    Jasmine Edoofa   \n",
      "147 2023-12-04 14:37:00  +263 78 082 7631   \n",
      "148 2023-12-04 14:37:00  +263 78 082 7631   \n",
      "149 2023-12-04 14:38:00    Jasmine Edoofa   \n",
      "150 2023-12-04 14:38:00    Jasmine Edoofa   \n",
      "151 2023-12-04 14:38:00    Jasmine Edoofa   \n",
      "\n",
      "                                               message  \n",
      "144  *Offline Application Form for Zimbabwe*  Stude...  \n",
      "145                               Good Afternoon Kevin  \n",
      "146  Well, Done on sharing the form 🌟 It has been s...  \n",
      "147      Noted, I'll try to reach out to more students  \n",
      "148                          How are you Ms. Jasmine ?  \n",
      "149             I am very well. Thank you for asking 😊  \n",
      "150  Now we’re ready to move forward. I’m sharing a...  \n",
      "151                                    <Media omitted>  \n"
     ]
    },
    {
     "name": "stderr",
     "output_type": "stream",
     "text": [
      "2023-12-05 17:44:02,796 - DEBUG - Row appended for chat file: WhatsApp Chat with Kudzai EWYL23E0486.txt\n"
     ]
    },
    {
     "name": "stdout",
     "output_type": "stream",
     "text": [
      "ENTER THE LOOP:               datetime          sender  \\\n",
      "332 2023-12-04 08:02:00  Jasmine Edoofa   \n",
      "\n",
      "                                               message  \n",
      "332  _*Good Morning Kudzai*_ I hope you are doing w...  \n",
      "ENTER THE LOOP:               datetime          sender  \\\n",
      "226 2023-12-04 08:02:00  Jasmine Edoofa   \n",
      "\n",
      "                                               message  \n",
      "226  _*Good Morning Kudzai*_ I hope you are doing w...  \n"
     ]
    },
    {
     "name": "stderr",
     "output_type": "stream",
     "text": [
      "2023-12-05 17:44:03,124 - DEBUG - Row appended for chat file: WhatsApp Chat with Kudzai EWYL23E0871.txt\n"
     ]
    },
    {
     "name": "stdout",
     "output_type": "stream",
     "text": [
      "ENTER THE LOOP:               datetime            sender  \\\n",
      "161 2023-12-04 08:16:00    Jasmine Edoofa   \n",
      "162 2023-12-04 10:41:00  +263 78 802 8306   \n",
      "\n",
      "                                               message  \n",
      "161  _*Good Morning Leeroy*_ I hope you are doing w...  \n",
      "162  Good morning Miss Jasmine thank you for the re...  \n"
     ]
    },
    {
     "name": "stderr",
     "output_type": "stream",
     "text": [
      "2023-12-05 17:44:03,453 - DEBUG - Row appended for chat file: WhatsApp Chat with Leeroy EWYL23E0645.txt\n",
      "2023-12-05 17:44:03,765 - DEBUG - Row appended for chat file: WhatsApp Chat with Leeroy EWYL23E0813.txt\n"
     ]
    },
    {
     "name": "stdout",
     "output_type": "stream",
     "text": [
      "ENTER THE LOOP:               datetime          sender  \\\n",
      "163 2023-12-04 08:01:00  Jasmine Edoofa   \n",
      "\n",
      "                                               message  \n",
      "163  _*Good Morning Leeroy*_ I hope you are doing w...  \n",
      "ENTER THE LOOP:               datetime           sender  \\\n",
      "191 2023-12-04 07:48:00   Jasmine Edoofa   \n",
      "192 2023-12-04 08:10:00  +27 63 355 4754   \n",
      "193 2023-12-04 08:24:00   Jasmine Edoofa   \n",
      "194 2023-12-04 08:32:00  +27 63 355 4754   \n",
      "195 2023-12-04 08:39:00   Jasmine Edoofa   \n",
      "196 2023-12-04 08:44:00  +27 63 355 4754   \n",
      "197 2023-12-04 08:50:00   Jasmine Edoofa   \n",
      "198 2023-12-04 08:50:00   Jasmine Edoofa   \n",
      "199 2023-12-04 08:51:00  +27 63 355 4754   \n",
      "200 2023-12-04 08:52:00   Jasmine Edoofa   \n",
      "201 2023-12-04 08:52:00   Jasmine Edoofa   \n",
      "202 2023-12-04 08:54:00  +27 63 355 4754   \n",
      "203 2023-12-04 08:58:00  +27 63 355 4754   \n",
      "204 2023-12-04 09:06:00   Jasmine Edoofa   \n",
      "205 2023-12-04 09:07:00  +27 63 355 4754   \n",
      "206 2023-12-04 09:18:00   Jasmine Edoofa   \n",
      "207 2023-12-04 09:20:00  +27 63 355 4754   \n",
      "208 2023-12-04 09:25:00   Jasmine Edoofa   \n",
      "209 2023-12-04 09:25:00  +27 63 355 4754   \n",
      "210 2023-12-04 09:44:00  +27 63 355 4754   \n",
      "211 2023-12-04 09:52:00   Jasmine Edoofa   \n",
      "212 2023-12-04 09:56:00  +27 63 355 4754   \n",
      "213 2023-12-04 09:57:00  +27 63 355 4754   \n",
      "214 2023-12-04 10:00:00   Jasmine Edoofa   \n",
      "215 2023-12-04 10:00:00  +27 63 355 4754   \n",
      "216 2023-12-04 10:55:00   Jasmine Edoofa   \n",
      "217 2023-12-04 11:16:00  +27 63 355 4754   \n",
      "218 2023-12-04 11:17:00  +27 84 448 3976   \n",
      "219 2023-12-04 12:54:00  +27 63 355 4754   \n",
      "220 2023-12-04 13:25:00   Jasmine Edoofa   \n",
      "221 2023-12-04 16:01:00   Jasmine Edoofa   \n",
      "222 2023-12-04 16:02:00  +27 63 355 4754   \n",
      "\n",
      "                                               message  \n",
      "191  _*Good Morning Lenny*_ I hope you are doing we...  \n",
      "192                                                 Ok  \n",
      "193    May I know if have you gone through this audio?  \n",
      "194                                                Yes  \n",
      "195  Okay, so very quickly you summarize whatever y...  \n",
      "196  From the audio I heard that Community building...  \n",
      "197  That’s awesome- Lenny, I’m confident that if y...  \n",
      "198  Now, here are 2 things I’d like to briefly rem...  \n",
      "199                                                Yes  \n",
      "200  1-  I’m sharing a form with you below, You hav...  \n",
      "201  *Offline Application Form for Zimbabwe*  Stude...  \n",
      "202                                                 0k  \n",
      "203  Student Name: Angellah Manunure Date of Birth:...  \n",
      "204                   This application is not complete  \n",
      "205                               Ok let me inform her  \n",
      "206  And #2 – Back to the exciting part- your *Scho...  \n",
      "207                                                 Ok  \n",
      "208  Now, it is time to wrap up the session. We wil...  \n",
      "209                                            You too  \n",
      "210  *Offline Application Form *for Zimbabwe*  Stud...  \n",
      "211  Well, Done on sharing the form 🌟 It has been s...  \n",
      "212                                                 Ok  \n",
      "213                         How can I change my course  \n",
      "214  May I know why do you want to change the cours...  \n",
      "215               I want to study BA in Social Working  \n",
      "216  Alright, my suggestion is to contact your admi...  \n",
      "217                                       Ok thank you  \n",
      "218   Sorry for not attending I was  a little bit busy  \n",
      "219  *Offline Application Form for Zimbabwe*  Stude...  \n",
      "220  Well, Done on sharing the form 🌟 It has been s...  \n",
      "221  *Good Afternoon Lenny* I trust you are doing w...  \n",
      "222                                       Ok thank you  \n"
     ]
    },
    {
     "name": "stderr",
     "output_type": "stream",
     "text": [
      "2023-12-05 17:44:04,094 - DEBUG - Row appended for chat file: WhatsApp Chat with Lenny EWYL23E0895.txt\n",
      "2023-12-05 17:44:04,394 - DEBUG - Row appended for chat file: WhatsApp Chat with Lilian EWYL23E0714 (1).txt\n"
     ]
    },
    {
     "name": "stdout",
     "output_type": "stream",
     "text": [
      "ENTER THE LOOP:               datetime            sender  \\\n",
      "147 2023-12-04 07:52:00    Jasmine Edoofa   \n",
      "148 2023-12-04 08:31:00  +263 78 995 2536   \n",
      "149 2023-12-04 08:34:00    Jasmine Edoofa   \n",
      "150 2023-12-04 08:35:00  +263 78 995 2536   \n",
      "151 2023-12-04 09:23:00    Jasmine Edoofa   \n",
      "152 2023-12-04 09:24:00  +263 78 995 2536   \n",
      "153 2023-12-04 09:26:00    Jasmine Edoofa   \n",
      "154 2023-12-04 16:05:00    Jasmine Edoofa   \n",
      "155 2023-12-04 16:34:00  +263 78 995 2536   \n",
      "\n",
      "                                               message  \n",
      "147  _*Good Morning Lilian*_ I hope you are doing w...  \n",
      "148                                        I am  ready  \n",
      "149  Last time we were discussing Project 1 Do you ...  \n",
      "150                                                Yes  \n",
      "151  Now, it is time to wrap up the session. We wil...  \n",
      "152                                               Okay  \n",
      "153                    Yes, Have a wonderful day ahead  \n",
      "154  *Good Afternoon* I trust you are doing well. *...  \n",
      "155                                     Okay thank you  \n",
      "ENTER THE LOOP:               datetime          sender  \\\n",
      "127 2023-12-04 08:01:00  Jasmine Edoofa   \n",
      "\n",
      "                                               message  \n",
      "127  _*Good Morning Lynn*_ I hope you are doing wel...  \n"
     ]
    },
    {
     "name": "stderr",
     "output_type": "stream",
     "text": [
      "2023-12-05 17:44:04,641 - DEBUG - Row appended for chat file: WhatsApp Chat with Lynn EWYL23E0577.txt\n"
     ]
    },
    {
     "name": "stdout",
     "output_type": "stream",
     "text": [
      "ENTER THE LOOP:               datetime            sender  \\\n",
      "158 2023-12-04 07:52:00    Jasmine Edoofa   \n",
      "159 2023-12-04 08:35:00  +263 78 148 7441   \n",
      "160 2023-12-04 08:36:00    Jasmine Edoofa   \n",
      "161 2023-12-04 08:39:00  +263 78 148 7441   \n",
      "162 2023-12-04 08:45:00    Jasmine Edoofa   \n",
      "163 2023-12-04 08:47:00  +263 78 148 7441   \n",
      "164 2023-12-04 08:48:00    Jasmine Edoofa   \n",
      "165 2023-12-04 08:49:00  +263 78 148 7441   \n",
      "166 2023-12-04 08:54:00    Jasmine Edoofa   \n",
      "167 2023-12-04 08:56:00  +263 78 148 7441   \n",
      "168 2023-12-04 09:08:00    Jasmine Edoofa   \n",
      "169 2023-12-04 09:12:00  +263 78 148 7441   \n",
      "170 2023-12-04 09:17:00    Jasmine Edoofa   \n",
      "171 2023-12-04 09:17:00    Jasmine Edoofa   \n",
      "172 2023-12-04 09:19:00  +263 78 148 7441   \n",
      "173 2023-12-04 09:22:00    Jasmine Edoofa   \n",
      "174 2023-12-04 09:22:00  +263 78 148 7441   \n",
      "175 2023-12-04 09:23:00    Jasmine Edoofa   \n",
      "176 2023-12-04 09:24:00  +263 78 148 7441   \n",
      "177 2023-12-04 09:26:00    Jasmine Edoofa   \n",
      "178 2023-12-04 09:26:00  +263 78 148 7441   \n",
      "179 2023-12-04 16:05:00    Jasmine Edoofa   \n",
      "180 2023-12-04 17:28:00  +263 78 148 7441   \n",
      "\n",
      "                                               message  \n",
      "158  _*Good Morning Makanaishe*_ I hope you are doi...  \n",
      "159                                 Morning Ms Jasmine  \n",
      "160  Last time we were discussing Project 3 Do you ...  \n",
      "161                                               Yess  \n",
      "162  It is good to see that your school is already ...  \n",
      "163                                               Yess  \n",
      "164  Yes, Now our first task is to get the number o...  \n",
      "165     Yess l already have the Headmasters numbers ..  \n",
      "166  Once you get the headmaster’s number, it is ti...  \n",
      "167                                     Oky understood  \n",
      "168  The advantage here is that I will be helping y...  \n",
      "169                                               Yess  \n",
      "170  _So, This is what the First message should loo...  \n",
      "171  I hope this message finds you well. Allow me t...  \n",
      "172        So this message l will send it in the group  \n",
      "173  Now, it is time to wrap up the session. We wil...  \n",
      "174      Oky should l send the message in the group...  \n",
      "175  No, First let me complete explaining the proje...  \n",
      "176                                    Ohh oky then ..  \n",
      "177                    Yes, Have a wonderful day ahead  \n",
      "178                                        Same to you  \n",
      "179  *Good Afternoon* I trust you are doing well. *...  \n",
      "180                                          Oky noted  \n"
     ]
    },
    {
     "name": "stderr",
     "output_type": "stream",
     "text": [
      "2023-12-05 17:44:04,947 - DEBUG - Row appended for chat file: WhatsApp Chat with Makanakaishe EWYL23E0823.txt\n",
      "2023-12-05 17:44:05,203 - DEBUG - Row appended for chat file: WhatsApp Chat with Marshall EWYL20E0273.txt\n"
     ]
    },
    {
     "name": "stdout",
     "output_type": "stream",
     "text": [
      "ENTER THE LOOP:               datetime          sender  \\\n",
      "115 2023-12-04 08:17:00  Jasmine Edoofa   \n",
      "\n",
      "                                               message  \n",
      "115  _*Good Morning Marshall*_ I hope you are doing...  \n",
      "ENTER THE LOOP:              datetime            sender  \\\n",
      "79 2023-12-04 07:50:00    Jasmine Edoofa   \n",
      "80 2023-12-04 08:39:00  +263 77 294 7757   \n",
      "81 2023-12-04 08:46:00    Jasmine Edoofa   \n",
      "82 2023-12-04 09:29:00    Jasmine Edoofa   \n",
      "83 2023-12-04 10:31:00  +263 77 294 7757   \n",
      "84 2023-12-04 16:04:00    Jasmine Edoofa   \n",
      "85 2023-12-04 16:05:00  +263 77 294 7757   \n",
      "\n",
      "                                              message  \n",
      "79  _*Good Morning Mbuso*_ I hope you are doing we...  \n",
      "80                     Good morning,  noted thank you  \n",
      "81  May I know Mbuso, Have you gone through the pa...  \n",
      "82  Now, it is time to wrap up the session.  It wa...  \n",
      "83                                            Thank u  \n",
      "84  *Good Afternoon* I trust you are doing well. *...  \n",
      "85                    Good afternoon, Noted thank you  \n"
     ]
    },
    {
     "name": "stderr",
     "output_type": "stream",
     "text": [
      "2023-12-05 17:44:05,457 - DEBUG - Row appended for chat file: WhatsApp Chat with Mbuso EWYL23E0768.txt\n"
     ]
    },
    {
     "name": "stdout",
     "output_type": "stream",
     "text": [
      "ENTER THE LOOP:               datetime            sender  \\\n",
      "363 2023-12-04 07:53:00    Jasmine Edoofa   \n",
      "364 2023-12-04 08:21:00  +263 78 335 3106   \n",
      "365 2023-12-04 08:33:00  +263 78 335 3106   \n",
      "366 2023-12-04 08:35:00    Jasmine Edoofa   \n",
      "367 2023-12-04 08:36:00  +263 78 335 3106   \n",
      "368 2023-12-04 08:37:00    Jasmine Edoofa   \n",
      "369 2023-12-04 08:38:00  +263 78 335 3106   \n",
      "370 2023-12-04 08:44:00    Jasmine Edoofa   \n",
      "371 2023-12-04 08:55:00  +263 78 335 3106   \n",
      "372 2023-12-04 09:07:00    Jasmine Edoofa   \n",
      "373 2023-12-04 09:12:00  +263 78 335 3106   \n",
      "374 2023-12-04 09:17:00    Jasmine Edoofa   \n",
      "375 2023-12-04 09:27:00    Jasmine Edoofa   \n",
      "376 2023-12-04 10:39:00  +263 78 335 3106   \n",
      "377 2023-12-04 16:04:00    Jasmine Edoofa   \n",
      "378 2023-12-04 16:10:00  +263 78 335 3106   \n",
      "\n",
      "                                               message  \n",
      "363  _*Good Morning McKrion*_ I hope you are doing ...  \n",
      "364                         Thank you for the reminder  \n",
      "365                                       Its now time  \n",
      "366  Last time we were discussing Project 2 Do you ...  \n",
      "367            Yes I do remember, you sent me an audio  \n",
      "368        Yes, Were you able to go through the audio?  \n",
      "369                    Yes I was able to go through it  \n",
      "370  I would appreciate it if you could briefly sha...  \n",
      "371  Ok. So with this project I will have to reach ...  \n",
      "372  That’s awesome- McKrion, I’m confident that if...  \n",
      "373                                          Thank you  \n",
      "374  Now, here are 2 things I’d like to briefly rem...  \n",
      "375  Now, it is time to wrap up the session. We wil...  \n",
      "376                                                Yes  \n",
      "377  *Good Afternoon* I trust you are doing well. *...  \n",
      "378                      Thank you for letting me know  \n"
     ]
    },
    {
     "name": "stderr",
     "output_type": "stream",
     "text": [
      "2023-12-05 17:44:05,797 - DEBUG - Row appended for chat file: WhatsApp Chat with McKrion EWYL23E0515.txt\n",
      "2023-12-05 17:44:06,094 - DEBUG - Row appended for chat file: WhatsApp Chat with Mercy EWYL23E0136.txt\n"
     ]
    },
    {
     "name": "stdout",
     "output_type": "stream",
     "text": [
      "ENTER THE LOOP:               datetime            sender  \\\n",
      "287 2023-12-04 07:50:00    Jasmine Edoofa   \n",
      "288 2023-12-04 08:32:00  +263 71 915 3722   \n",
      "289 2023-12-04 08:34:00    Jasmine Edoofa   \n",
      "290 2023-12-04 08:34:00    Jasmine Edoofa   \n",
      "291 2023-12-04 08:36:00  +263 71 915 3722   \n",
      "292 2023-12-04 08:41:00    Jasmine Edoofa   \n",
      "293 2023-12-04 08:43:00  +263 71 915 3722   \n",
      "294 2023-12-04 08:47:00    Jasmine Edoofa   \n",
      "295 2023-12-04 09:01:00  +263 71 915 3722   \n",
      "296 2023-12-04 09:12:00    Jasmine Edoofa   \n",
      "297 2023-12-04 09:12:00    Jasmine Edoofa   \n",
      "298 2023-12-04 09:19:00  +263 71 915 3722   \n",
      "299 2023-12-04 09:22:00    Jasmine Edoofa   \n",
      "300 2023-12-04 09:32:00  +263 71 915 3722   \n",
      "301 2023-12-04 09:34:00  +263 71 915 3722   \n",
      "302 2023-12-04 09:54:00    Jasmine Edoofa   \n",
      "303 2023-12-04 16:05:00    Jasmine Edoofa   \n",
      "304 2023-12-04 16:33:00  +263 71 915 3722   \n",
      "\n",
      "                                               message  \n",
      "287  _*Good Morning Mercy*_ I hope you are doing we...  \n",
      "288                                  How are you doing  \n",
      "289             I am very well. Thank you for asking 😊  \n",
      "290  May I know that have you gone through this doc...  \n",
      "291  Yes l did, isn't it that we have covered the s...  \n",
      "292          Yes, You are right. Do you remember this?  \n",
      "293                                           Yes l do  \n",
      "294  Great, We have also discussed each and every p...  \n",
      "295                                                Yes  \n",
      "296  Yes, I would really appreciate, it if you coul...  \n",
      "297  1. Name all three projects. 2. What do you und...  \n",
      "298  The 3 projects are Cooperate Alliances, commun...  \n",
      "299  Now, it is time to wrap up the session. We wil...  \n",
      "300  Cooperate Alliances The task is to look for po...  \n",
      "301  The last project task is to reach out to all s...  \n",
      "302                                     Good Job Mercy  \n",
      "303  *Good Afternoon* I trust you are doing well. *...  \n",
      "304                                                 Ok  \n",
      "ENTER THE LOOP:               datetime           sender  \\\n",
      "167 2023-12-04 14:48:00   Jasmine Edoofa   \n",
      "168 2023-12-04 15:53:00  +91 89681 69958   \n",
      "169 2023-12-04 16:21:00   Jasmine Edoofa   \n",
      "\n",
      "                                       message  \n",
      "167  Good Afternoon, Are you feeling well now?  \n",
      "168     Yes mam. Um better, only have flue now  \n",
      "169                  Okay, Take care Mitchelle  \n"
     ]
    },
    {
     "name": "stderr",
     "output_type": "stream",
     "text": [
      "2023-12-05 17:44:06,391 - DEBUG - Row appended for chat file: WhatsApp Chat with Mitchelle EWYL22E0945.txt\n",
      "2023-12-05 17:44:06,657 - DEBUG - Row appended for chat file: WhatsApp Chat with Moregrace EWYL23E0088.txt\n"
     ]
    },
    {
     "name": "stdout",
     "output_type": "stream",
     "text": [
      "ENTER THE LOOP:               datetime            sender  \\\n",
      "121 2023-12-04 09:18:00  +263 78 155 6299   \n",
      "122 2023-12-04 13:23:00    Jasmine Edoofa   \n",
      "123 2023-12-04 13:35:00  +263 78 155 6299   \n",
      "124 2023-12-04 13:37:00    Jasmine Edoofa   \n",
      "125 2023-12-04 13:53:00  +263 78 155 6299   \n",
      "126 2023-12-04 13:56:00    Jasmine Edoofa   \n",
      "127 2023-12-04 16:03:00    Jasmine Edoofa   \n",
      "128 2023-12-04 17:25:00  +263 78 155 6299   \n",
      "\n",
      "                                               message  \n",
      "121                                      Morning ma'am  \n",
      "122  Good Afternoon Moregrace You know, while I was...  \n",
      "123                              It's quite ok with me  \n",
      "124  That sounds fantastic! We will begin following...  \n",
      "125                                           Ok Ma'am  \n",
      "126  Great, I will see you tomorrow. Till then Take...  \n",
      "127  *Good Afternoon* I trust you are doing well. *...  \n",
      "128           Ok Ma'am I will surely utilise that time  \n"
     ]
    },
    {
     "name": "stderr",
     "output_type": "stream",
     "text": [
      "2023-12-05 17:44:06,969 - DEBUG - Row appended for chat file: WhatsApp Chat with Munyaradzi EWYL23E0386.txt\n"
     ]
    },
    {
     "name": "stdout",
     "output_type": "stream",
     "text": [
      "ENTER THE LOOP:               datetime            sender  \\\n",
      "183 2023-12-04 07:53:00    Jasmine Edoofa   \n",
      "184 2023-12-04 08:11:00  +263 78 046 5800   \n",
      "185 2023-12-04 08:30:00    Jasmine Edoofa   \n",
      "186 2023-12-04 08:34:00  +263 78 046 5800   \n",
      "187 2023-12-04 08:35:00    Jasmine Edoofa   \n",
      "188 2023-12-04 08:35:00    Jasmine Edoofa   \n",
      "189 2023-12-04 09:08:00  +263 78 046 5800   \n",
      "190 2023-12-04 09:15:00    Jasmine Edoofa   \n",
      "191 2023-12-04 09:15:00    Jasmine Edoofa   \n",
      "192 2023-12-04 09:27:00    Jasmine Edoofa   \n",
      "193 2023-12-04 09:31:00  +263 78 046 5800   \n",
      "194 2023-12-04 16:05:00    Jasmine Edoofa   \n",
      "195 2023-12-04 16:12:00  +263 78 046 5800   \n",
      "\n",
      "                                               message  \n",
      "183  _*Good Morning Munyaradzi*_ I hope you are doi...  \n",
      "184                                           Okay mam  \n",
      "185  Now, we’re ready to begin your EWYL program, a...  \n",
      "186                                                Yes  \n",
      "187                                    <Media omitted>  \n",
      "188  I want you to take some time, to go through th...  \n",
      "189  1.project of corporate alliance , project of c...  \n",
      "190  Today, I will start by explaining the projects...  \n",
      "191                                    <Media omitted>  \n",
      "192  Now, it is time to wrap up the session. We wil...  \n",
      "193                                        You too mam  \n",
      "194  *Good Afternoon* I trust you are doing well. *...  \n",
      "195                                        Okay thanks  \n",
      "ENTER THE LOOP:              datetime          sender  \\\n",
      "44 2023-12-04 07:49:00  Jasmine Edoofa   \n",
      "45 2023-12-04 08:31:00  +260 761919720   \n",
      "46 2023-12-04 08:38:00  Jasmine Edoofa   \n",
      "47 2023-12-04 09:13:00  +260 761919720   \n",
      "48 2023-12-04 09:13:00  +260 761919720   \n",
      "49 2023-12-04 09:15:00  +260 761919720   \n",
      "50 2023-12-04 09:19:00  Jasmine Edoofa   \n",
      "51 2023-12-04 09:25:00  Jasmine Edoofa   \n",
      "52 2023-12-04 09:25:00  +260 761919720   \n",
      "53 2023-12-04 09:25:00  +260 761919720   \n",
      "54 2023-12-04 16:01:00  Jasmine Edoofa   \n",
      "55 2023-12-04 16:26:00  +260 761919720   \n",
      "56 2023-12-04 16:26:00  +260 761919720   \n",
      "\n",
      "                                              message  \n",
      "44  _*Good Morning Mwenya*_ I hope you are doing w...  \n",
      "45                                            Alright  \n",
      "46  Please go ahead and share the answers with me ...  \n",
      "47  1. Edoofa offers a guaranteed minimum scholars...  \n",
      "48  2. Students at Edoofa seize internship opportu...  \n",
      "49  3. To enter the Edoofa Program, a student init...  \n",
      "50  Good Job Mwenya, I appreciate your exceptional...  \n",
      "51  Now, it is time to wrap up the session.  It wa...  \n",
      "52                                            Alright  \n",
      "53                                          Thank you  \n",
      "54  *Good Afternoon Mwenya* I trust you are doing ...  \n",
      "55                                            Alright  \n",
      "56                                          Thank you  \n"
     ]
    },
    {
     "name": "stderr",
     "output_type": "stream",
     "text": [
      "2023-12-05 17:44:07,266 - DEBUG - Row appended for chat file: WhatsApp Chat with Mwenya EWYL23E0902.txt\n"
     ]
    },
    {
     "name": "stdout",
     "output_type": "stream",
     "text": [
      "ENTER THE LOOP:               datetime            sender  \\\n",
      "340 2023-12-04 08:02:00    Jasmine Edoofa   \n",
      "341 2023-12-04 08:30:00  +263 77 356 4124   \n",
      "\n",
      "                                               message  \n",
      "340  _*Good Morning Natasha*_ I hope you are doing ...  \n",
      "341                                              Noted  \n"
     ]
    },
    {
     "name": "stderr",
     "output_type": "stream",
     "text": [
      "2023-12-05 17:44:07,624 - DEBUG - Row appended for chat file: WhatsApp Chat with Natasha EWYL23E0372.txt\n"
     ]
    },
    {
     "name": "stdout",
     "output_type": "stream",
     "text": [
      "ENTER THE LOOP:              datetime          sender  \\\n",
      "77 2023-12-04 08:16:00  Jasmine Edoofa   \n",
      "\n",
      "                                              message  \n",
      "77  _*Good Morning Noah*_ I hope you are doing wel...  \n"
     ]
    },
    {
     "name": "stderr",
     "output_type": "stream",
     "text": [
      "2023-12-05 17:44:07,891 - DEBUG - Row appended for chat file: WhatsApp Chat with Noah EWYL23E0307.txt\n"
     ]
    },
    {
     "name": "stdout",
     "output_type": "stream",
     "text": [
      "ENTER THE LOOP:               datetime          sender  \\\n",
      "271 2023-12-04 08:02:00  Jasmine Edoofa   \n",
      "\n",
      "                                               message  \n",
      "271  _*Good Morning Nokuthaba*_ I hope you are doin...  \n"
     ]
    },
    {
     "name": "stderr",
     "output_type": "stream",
     "text": [
      "2023-12-05 17:44:08,219 - DEBUG - Row appended for chat file: WhatsApp Chat with Nokuthaba EWYL23E0835.txt\n"
     ]
    },
    {
     "name": "stdout",
     "output_type": "stream",
     "text": [
      "ENTER THE LOOP:               datetime           sender  \\\n",
      "347 2023-12-04 04:51:00  +91 77079 38131   \n",
      "348 2023-12-04 11:14:00   Jasmine Edoofa   \n",
      "349 2023-12-04 12:58:00  +91 77079 38131   \n",
      "350 2023-12-04 13:11:00  +91 77079 38131   \n",
      "351 2023-12-04 13:46:00   Jasmine Edoofa   \n",
      "352 2023-12-04 13:46:00   Jasmine Edoofa   \n",
      "353 2023-12-04 13:57:00  +91 77079 38131   \n",
      "354 2023-12-04 13:58:00  +91 77079 38131   \n",
      "\n",
      "                                               message  \n",
      "347                                   Good morning mam  \n",
      "348           Good Afternoon Nyasha How are you doing?  \n",
      "349                   I'm doing good mam , how are you  \n",
      "350  The Earn while you learn program have been so ...  \n",
      "351  Good Afternoon Nyasha I am very well. Thank yo...  \n",
      "352                                    Good Job Nyasha  \n",
      "353                                             Ok mam  \n",
      "354                                      Thank you mam  \n"
     ]
    },
    {
     "name": "stderr",
     "output_type": "stream",
     "text": [
      "2023-12-05 17:44:08,592 - DEBUG - Row appended for chat file: WhatsApp Chat with Nyasha EWYL23E0116.txt\n"
     ]
    },
    {
     "name": "stdout",
     "output_type": "stream",
     "text": [
      "ENTER THE LOOP:               datetime            sender  \\\n",
      "153 2023-12-04 08:17:00    Jasmine Edoofa   \n",
      "154 2023-12-04 08:18:00  +263 78 791 2387   \n",
      "\n",
      "                                               message  \n",
      "153  _*Good Morning Paidaishe*_ I hope you are doin...  \n",
      "154                     Good morning ma'am, okay noted  \n"
     ]
    },
    {
     "name": "stderr",
     "output_type": "stream",
     "text": [
      "2023-12-05 17:44:08,875 - DEBUG - Row appended for chat file: WhatsApp Chat with Paidaishe EWYL23E0231.txt\n"
     ]
    },
    {
     "name": "stdout",
     "output_type": "stream",
     "text": [
      "ENTER THE LOOP:               datetime           sender  \\\n",
      "236 2023-12-04 19:41:00  +91 89689 32503   \n",
      "237 2023-12-04 19:41:00  +91 89689 32503   \n",
      "238 2023-12-04 19:41:00  +91 89689 32503   \n",
      "\n",
      "                                         message  \n",
      "236                              <Media omitted>  \n",
      "237                              <Media omitted>  \n",
      "238  I left with a video l will send it tomorrow  \n"
     ]
    },
    {
     "name": "stderr",
     "output_type": "stream",
     "text": [
      "2023-12-05 17:44:09,205 - DEBUG - Row appended for chat file: WhatsApp Chat with Pamella EWYL22E0986.txt\n"
     ]
    },
    {
     "name": "stdout",
     "output_type": "stream",
     "text": [
      "ENTER THE LOOP:               datetime           sender  \\\n",
      "163 2023-12-04 07:53:00   Jasmine Edoofa   \n",
      "164 2023-12-04 08:13:00  +260 97 4960102   \n",
      "165 2023-12-04 08:29:00   Jasmine Edoofa   \n",
      "166 2023-12-04 08:29:00   Jasmine Edoofa   \n",
      "167 2023-12-04 08:37:00  +260 97 4960102   \n",
      "168 2023-12-04 08:42:00   Jasmine Edoofa   \n",
      "169 2023-12-04 08:47:00  +260 97 4960102   \n",
      "170 2023-12-04 08:48:00   Jasmine Edoofa   \n",
      "171 2023-12-04 08:51:00  +260 97 4960102   \n",
      "172 2023-12-04 08:55:00   Jasmine Edoofa   \n",
      "173 2023-12-04 08:56:00   Jasmine Edoofa   \n",
      "174 2023-12-04 08:59:00  +260 97 4960102   \n",
      "175 2023-12-04 09:06:00  +260 97 4960102   \n",
      "176 2023-12-04 09:14:00   Jasmine Edoofa   \n",
      "177 2023-12-04 09:19:00  +260 97 4960102   \n",
      "178 2023-12-04 09:22:00   Jasmine Edoofa   \n",
      "179 2023-12-04 09:23:00  +260 97 4960102   \n",
      "180 2023-12-04 16:05:00   Jasmine Edoofa   \n",
      "\n",
      "                                               message  \n",
      "163  _*Good Morning Patience*_ I hope you are doing...  \n",
      "164  Good Morning Jasmine. Am doing alright thank y...  \n",
      "165             I am very well. Thank you for asking 😊  \n",
      "166  You know what Patience, this is fantastic! Thi...  \n",
      "167                              Thank you very much 🤭  \n",
      "168  Okay- now here are 2 things I would like to br...  \n",
      "169                                 Okay I will do so.  \n",
      "170  Second and the fun part- I’m sure you have rea...  \n",
      "171  That is very amazing. Though I am a bit lost.w...  \n",
      "172  MOU stands for \"Memorandum of Understanding.\" ...  \n",
      "173  While an MOU is not legally binding like a con...  \n",
      "174              I understand now thank you very much.  \n",
      "175  Another Clarification please. Am I supposed to...  \n",
      "176  No, first let me explain and then you can star...  \n",
      "177                                     Okay thank you  \n",
      "178  Now, it is time to wrap up the session. We wil...  \n",
      "179                  It was lovely talking to you too.  \n",
      "180  *Good Afternoon* I trust you are doing well. *...  \n"
     ]
    },
    {
     "name": "stderr",
     "output_type": "stream",
     "text": [
      "2023-12-05 17:44:09,499 - DEBUG - Row appended for chat file: WhatsApp Chat with Patience EWYL23E0394.txt\n"
     ]
    },
    {
     "name": "stdout",
     "output_type": "stream",
     "text": [
      "ENTER THE LOOP:               datetime             sender  \\\n",
      "169 2023-12-04 07:48:00     Jasmine Edoofa   \n",
      "170 2023-12-04 08:08:00  +265 885 25 22 54   \n",
      "171 2023-12-04 08:27:00     Jasmine Edoofa   \n",
      "172 2023-12-04 08:32:00  +265 885 25 22 54   \n",
      "173 2023-12-04 08:39:00     Jasmine Edoofa   \n",
      "174 2023-12-04 08:41:00  +265 885 25 22 54   \n",
      "175 2023-12-04 16:00:00     Jasmine Edoofa   \n",
      "\n",
      "                                               message  \n",
      "169  _*Good Morning Precious*_ I hope you are doing...  \n",
      "170  Good morning I'm sorry I won't be available to...  \n",
      "171  Precious, dear may I know that were you aware ...  \n",
      "172          Yes but it is an emergency due to a death  \n",
      "173  I am so sorry to hear that. Please take your t...  \n",
      "174                        Thank you for understanding  \n",
      "175  *Good Afternoon Precious* I trust you are doin...  \n"
     ]
    },
    {
     "name": "stderr",
     "output_type": "stream",
     "text": [
      "2023-12-05 17:44:09,796 - DEBUG - Row appended for chat file: WhatsApp Chat with Precious EWYL23E0757.txt\n"
     ]
    },
    {
     "name": "stdout",
     "output_type": "stream",
     "text": [
      "ENTER THE LOOP:               datetime            sender  \\\n",
      "251 2023-12-04 07:54:00    Jasmine Edoofa   \n",
      "252 2023-12-04 08:38:00  +263 77 698 9967   \n",
      "253 2023-12-04 08:45:00    Jasmine Edoofa   \n",
      "254 2023-12-04 08:45:00    Jasmine Edoofa   \n",
      "255 2023-12-04 09:04:00  +263 77 698 9967   \n",
      "256 2023-12-04 09:05:00  +263 77 698 9967   \n",
      "257 2023-12-04 09:05:00  +263 77 698 9967   \n",
      "258 2023-12-04 09:14:00    Jasmine Edoofa   \n",
      "259 2023-12-04 09:18:00  +263 77 698 9967   \n",
      "260 2023-12-04 09:20:00  +263 77 698 9967   \n",
      "261 2023-12-04 09:22:00  +263 77 698 9967   \n",
      "262 2023-12-04 09:22:00    Jasmine Edoofa   \n",
      "263 2023-12-04 09:24:00  +263 77 698 9967   \n",
      "264 2023-12-04 14:05:00  +263 77 698 9967   \n",
      "265 2023-12-04 14:21:00    Jasmine Edoofa   \n",
      "266 2023-12-04 14:31:00  +263 77 698 9967   \n",
      "267 2023-12-04 14:33:00  +263 77 698 9967   \n",
      "268 2023-12-04 14:40:00    Jasmine Edoofa   \n",
      "269 2023-12-04 14:40:00  +263 77 698 9967   \n",
      "270 2023-12-04 14:42:00    Jasmine Edoofa   \n",
      "271 2023-12-04 14:55:00  +263 77 698 9967   \n",
      "272 2023-12-04 14:56:00    Jasmine Edoofa   \n",
      "273 2023-12-04 14:56:00  +263 77 698 9967   \n",
      "274 2023-12-04 14:57:00    Jasmine Edoofa   \n",
      "275 2023-12-04 14:57:00  +263 77 698 9967   \n",
      "276 2023-12-04 14:57:00    Jasmine Edoofa   \n",
      "277 2023-12-04 14:58:00  +263 77 698 9967   \n",
      "278 2023-12-04 14:58:00  +263 77 698 9967   \n",
      "279 2023-12-04 15:10:00    Jasmine Edoofa   \n",
      "280 2023-12-04 15:10:00    Jasmine Edoofa   \n",
      "281 2023-12-04 15:11:00  +263 77 698 9967   \n",
      "282 2023-12-04 15:17:00    Jasmine Edoofa   \n",
      "283 2023-12-04 15:35:00  +263 77 698 9967   \n",
      "284 2023-12-04 16:02:00    Jasmine Edoofa   \n",
      "285 2023-12-04 16:03:00    Jasmine Edoofa   \n",
      "286 2023-12-04 16:03:00  +263 77 698 9967   \n",
      "\n",
      "                                               message  \n",
      "251  _*Good Morning Promise*_ I hope you are doing ...  \n",
      "252                         Good morning @918982519022  \n",
      "253  Now we’re ready to move forward. I’m sharing a...  \n",
      "254                                    <Media omitted>  \n",
      "255     I had been having challenges in staying online  \n",
      "256               It seems as if it has stabilized now  \n",
      "257                                              Noted  \n",
      "258  After you go through the audio, I would apprec...  \n",
      "259  This audio is explaining the last project whic...  \n",
      "260  I am required to connect with the principal of...  \n",
      "261  Once I've successfully done so I'll reach out ...  \n",
      "262  Now, it is time to wrap up the session. We wil...  \n",
      "263                             Have a great day ma'am  \n",
      "264  I have a question: If a participant of my grou...  \n",
      "265                 Good Afternoon Promise Yes Promise  \n",
      "266                                    Thank you ma'am  \n",
      "267  There is also a person who reached out to me w...  \n",
      "268  May I know the program in which he wants to en...  \n",
      "269               He wants to be part of the Edoofians  \n",
      "270     Okay, but for undergraduate course or masters?  \n",
      "271                       It's an undergraduate course  \n",
      "272                                Yes, He is eligible  \n",
      "273                             Okay I'll let him know  \n",
      "274                                       Okay Promise  \n",
      "275  So does he need to also fill the form like others  \n",
      "276                                        Yes Promise  \n",
      "277                   Okay let me add him to the group  \n",
      "278                                  Thank you so much  \n",
      "279  No, you don't have to add him to the group. Ki...  \n",
      "280  *Offline Application Form for Zimbabwe*  Stude...  \n",
      "281                                         Ohhhh okay  \n",
      "282                   Yes, Have a wonderful day ahead!  \n",
      "283                                     Likewise ma'am  \n",
      "284  *Good Afternoon* I trust you are doing well. *...  \n",
      "285                           This message was deleted  \n",
      "286                         Thank you ma'am it's noted  \n"
     ]
    },
    {
     "name": "stderr",
     "output_type": "stream",
     "text": [
      "2023-12-05 17:44:10,126 - DEBUG - Row appended for chat file: WhatsApp Chat with Promise EWYL23E0200.txt\n"
     ]
    },
    {
     "name": "stdout",
     "output_type": "stream",
     "text": [
      "ENTER THE LOOP:               datetime            sender  \\\n",
      "213 2023-12-04 07:57:00    Jasmine Edoofa   \n",
      "214 2023-12-04 07:57:00    Jasmine Edoofa   \n",
      "215 2023-12-04 07:58:00    Jasmine Edoofa   \n",
      "216 2023-12-04 08:40:00  +263 78 707 6586   \n",
      "217 2023-12-04 08:41:00  +263 78 707 6586   \n",
      "218 2023-12-04 08:46:00    Jasmine Edoofa   \n",
      "219 2023-12-04 08:47:00    Jasmine Edoofa   \n",
      "220 2023-12-04 08:47:00    Jasmine Edoofa   \n",
      "221 2023-12-04 08:51:00  +263 78 707 6586   \n",
      "222 2023-12-04 08:56:00    Jasmine Edoofa   \n",
      "223 2023-12-04 09:03:00  +263 78 707 6586   \n",
      "224 2023-12-04 09:08:00  +263 78 707 6586   \n",
      "225 2023-12-04 09:13:00  +263 78 707 6586   \n",
      "226 2023-12-04 09:15:00  +263 78 707 6586   \n",
      "227 2023-12-04 09:16:00    Jasmine Edoofa   \n",
      "228 2023-12-04 09:17:00    Jasmine Edoofa   \n",
      "229 2023-12-04 09:17:00  +263 78 707 6586   \n",
      "230 2023-12-04 09:21:00    Jasmine Edoofa   \n",
      "231 2023-12-04 09:22:00  +263 78 707 6586   \n",
      "232 2023-12-04 16:06:00    Jasmine Edoofa   \n",
      "\n",
      "                                               message  \n",
      "213  _*Good Morning Ropafadzo*_ I hope you are doin...  \n",
      "214   https://chat.whatsapp.com/BlI9OiNlZiN0326rohV2jH  \n",
      "215  It would be great if you could share this link...  \n",
      "216          Good morning Ms Jasmine how have you been  \n",
      "217      We can start our session if you are available  \n",
      "218             I am very well. Thank you for asking 😊  \n",
      "219  Ropafadzo, Do you remember going through this ...  \n",
      "220                                    <Media omitted>  \n",
      "221                                                Yes  \n",
      "222  I want you to take some time, to go through th...  \n",
      "223  1. Corporate Alliance, Community Building, Afr...  \n",
      "224  2. Project 1: Edoofians will engage Edoofa to ...  \n",
      "225  3. Project 2 Community Building:  Edoofians wi...  \n",
      "226  4.Project 3: African Schools Education Reform ...  \n",
      "227  Well, Done Ropafadzo, It clearly shows that yo...  \n",
      "228  Ropafadzo, we have already discussed each and ...  \n",
      "229                                                Yes  \n",
      "230  Now, it is time to wrap up the session. We wil...  \n",
      "231                                          Thank you  \n",
      "232  *Good Afternoon* I trust you are doing well. *...  \n"
     ]
    },
    {
     "name": "stderr",
     "output_type": "stream",
     "text": [
      "2023-12-05 17:44:10,422 - DEBUG - Row appended for chat file: WhatsApp Chat with Ropafadzo EWYL23E0229.txt\n",
      "2023-12-05 17:44:10,703 - DEBUG - Row appended for chat file: WhatsApp Chat with Rudorwashe EWYL23E0128.txt\n"
     ]
    },
    {
     "name": "stdout",
     "output_type": "stream",
     "text": [
      "ENTER THE LOOP:               datetime          sender  \\\n",
      "145 2023-12-04 07:52:00  Jasmine Edoofa   \n",
      "146 2023-12-04 16:06:00  Jasmine Edoofa   \n",
      "\n",
      "                                               message  \n",
      "145  _*Good Morning Rudorwashe*_ I hope you are doi...  \n",
      "146  *Good Afternoon* I trust you are doing well. *...  \n",
      "ENTER THE LOOP:               datetime          sender  \\\n",
      "279 2023-12-04 08:01:00  Jasmine Edoofa   \n",
      "\n",
      "                                               message  \n",
      "279  _*Good Morning Rufaro*_ I hope you are doing w...  \n"
     ]
    },
    {
     "name": "stderr",
     "output_type": "stream",
     "text": [
      "2023-12-05 17:44:10,999 - DEBUG - Row appended for chat file: WhatsApp Chat with Rufaro EWYL23E0138.txt\n"
     ]
    },
    {
     "name": "stdout",
     "output_type": "stream",
     "text": [
      "ENTER THE LOOP:               datetime            sender  \\\n",
      "166 2023-12-04 07:54:00    Jasmine Edoofa   \n",
      "167 2023-12-04 16:06:00    Jasmine Edoofa   \n",
      "168 2023-12-04 17:22:00  +263 77 300 3401   \n",
      "\n",
      "                                               message  \n",
      "166  _*Good Morning Rumbidzai*_ I hope you are doin...  \n",
      "167  *Good Afternoon* I trust you are doing well. *...  \n",
      "168  Good evening Jasmine. We have taken note, than...  \n"
     ]
    },
    {
     "name": "stderr",
     "output_type": "stream",
     "text": [
      "2023-12-05 17:44:11,294 - DEBUG - Row appended for chat file: WhatsApp Chat with Rumbidzai EWYL22E0628.txt\n"
     ]
    },
    {
     "name": "stdout",
     "output_type": "stream",
     "text": [
      "ENTER THE LOOP:               datetime          sender  \\\n",
      "239 2023-12-04 08:17:00  Jasmine Edoofa   \n",
      "\n",
      "                                               message  \n",
      "239  _*Good Morning Rumbidzai*_ I hope you are doin...  \n"
     ]
    },
    {
     "name": "stderr",
     "output_type": "stream",
     "text": [
      "2023-12-05 17:44:11,585 - DEBUG - Row appended for chat file: WhatsApp Chat with Rumbidzai EWYL22E0883.txt\n"
     ]
    },
    {
     "name": "stdout",
     "output_type": "stream",
     "text": [
      "ENTER THE LOOP:               datetime            sender  \\\n",
      "102 2023-12-04 07:53:00    Jasmine Edoofa   \n",
      "103 2023-12-04 10:55:00  +263 77 391 8367   \n",
      "104 2023-12-04 10:58:00    Jasmine Edoofa   \n",
      "105 2023-12-04 10:58:00    Jasmine Edoofa   \n",
      "106 2023-12-04 11:20:00  +263 77 391 8367   \n",
      "107 2023-12-04 16:03:00    Jasmine Edoofa   \n",
      "108 2023-12-04 16:04:00  +263 77 391 8367   \n",
      "\n",
      "                                               message  \n",
      "102  _*Good Morning Rutendo*_ I hope you are doing ...  \n",
      "103  Our apologies Jasmine, network is giving us pr...  \n",
      "104   Okay, I will see Rutendo in our session tomorrow  \n",
      "105                             Have a great day ahead  \n",
      "106                           Thankyou,the same to you  \n",
      "107  *Good Afternoon* I trust you are doing well. *...  \n",
      "108                                   Noted. Thank you  \n"
     ]
    },
    {
     "name": "stderr",
     "output_type": "stream",
     "text": [
      "2023-12-05 17:44:11,890 - DEBUG - Row appended for chat file: WhatsApp Chat with Rutendo EWYL23E0845.txt\n"
     ]
    },
    {
     "name": "stdout",
     "output_type": "stream",
     "text": [
      "ENTER THE LOOP:               datetime            sender  \\\n",
      "266 2023-12-04 08:12:00    Jasmine Edoofa   \n",
      "267 2023-12-04 08:13:00  +263 71 335 7360   \n",
      "268 2023-12-04 08:15:00    Jasmine Edoofa   \n",
      "269 2023-12-04 08:19:00  +263 77 319 9891   \n",
      "270 2023-12-04 08:21:00  +263 77 319 9891   \n",
      "271 2023-12-04 09:15:00  +263 71 335 7360   \n",
      "272 2023-12-04 10:02:00    Jasmine Edoofa   \n",
      "273 2023-12-04 10:30:00  +263 71 335 7360   \n",
      "274 2023-12-04 12:45:00    Jasmine Edoofa   \n",
      "275 2023-12-04 12:49:00  +263 71 335 7360   \n",
      "276 2023-12-04 13:18:00    Jasmine Edoofa   \n",
      "277 2023-12-04 13:24:00    Jasmine Edoofa   \n",
      "278 2023-12-04 13:48:00  +263 71 335 7360   \n",
      "279 2023-12-04 13:55:00    Jasmine Edoofa   \n",
      "280 2023-12-04 15:48:00  +263 71 335 7360   \n",
      "281 2023-12-04 15:48:00  +263 71 335 7360   \n",
      "282 2023-12-04 17:07:00  +263 71 335 7360   \n",
      "\n",
      "                                               message  \n",
      "266  Good Morning Samantha and Parents. I hope you ...  \n",
      "267                               Morning how are you?  \n",
      "268             I am very well. Thank you for asking 😊  \n",
      "269  Morning how are you not yet they are not answe...  \n",
      "270          I also tried Mr Kunal hasn't answered yet  \n",
      "271  Its supposed to be Mr Milan... I will try talk...  \n",
      "272  Kindly allow me some time. I will get back to ...  \n",
      "273                                              Okay.  \n",
      "274  Samantha, I just had a conversation with your ...  \n",
      "275                                    <Media omitted>  \n",
      "276  This is not your admission group Samantha. Let...  \n",
      "277   https://chat.whatsapp.com/HKNK9LP1Bl1F8giJGaOmGP  \n",
      "278  I know the group Ms Jasmine but i wanted to ch...  \n",
      "279  Samantha, May I know the reason behind this. I...  \n",
      "280  I have no specific reason though i just though...  \n",
      "281                                 Alright thank you,  \n",
      "282  If you can get in touch with him on my behalf ...  \n"
     ]
    },
    {
     "name": "stderr",
     "output_type": "stream",
     "text": [
      "2023-12-05 17:44:12,243 - DEBUG - Row appended for chat file: WhatsApp Chat with Samantha EWYL23E0306.txt\n",
      "2023-12-05 17:44:12,532 - DEBUG - Row appended for chat file: WhatsApp Chat with Sharon EWYL23E0497.txt\n"
     ]
    },
    {
     "name": "stdout",
     "output_type": "stream",
     "text": [
      "ENTER THE LOOP:               datetime            sender  \\\n",
      "213 2023-12-04 07:50:00    Jasmine Edoofa   \n",
      "214 2023-12-04 09:16:00  +263 71 462 8444   \n",
      "215 2023-12-04 09:16:00  +263 71 462 8444   \n",
      "216 2023-12-04 09:17:00    Jasmine Edoofa   \n",
      "217 2023-12-04 09:17:00    Jasmine Edoofa   \n",
      "218 2023-12-04 09:20:00  +263 71 462 8444   \n",
      "219 2023-12-04 09:22:00    Jasmine Edoofa   \n",
      "220 2023-12-04 16:06:00    Jasmine Edoofa   \n",
      "\n",
      "                                               message  \n",
      "213  _*Good Morning Sharon*_ I hope you are doing w...  \n",
      "214                Good morning Ms Jasmine how are you  \n",
      "215     I apologize for not being online I had no data  \n",
      "216             I am very well. Thank you for asking 😊  \n",
      "217  May I know that have you gone through this doc...  \n",
      "218  No I downloaded it just now  and I'm going thr...  \n",
      "219  Now, it is time to wrap up the session. We wil...  \n",
      "220  *Good Afternoon* I trust you are doing well. *...  \n",
      "ENTER THE LOOP:               datetime            sender  \\\n",
      "206 2023-12-04 08:16:00    Jasmine Edoofa   \n",
      "207 2023-12-04 09:01:00  +263 78 659 9881   \n",
      "\n",
      "                                               message  \n",
      "206  _*Good Morning Shumba*_ I hope you are doing w...  \n",
      "207             Thank you for the reminder and will do  \n"
     ]
    },
    {
     "name": "stderr",
     "output_type": "stream",
     "text": [
      "2023-12-05 17:44:12,820 - DEBUG - Row appended for chat file: WhatsApp Chat with Shumba EWYL23E0745.txt\n"
     ]
    },
    {
     "name": "stdout",
     "output_type": "stream",
     "text": [
      "ENTER THE LOOP:               datetime            sender  \\\n",
      "369 2023-12-04 11:06:00    Jasmine Edoofa   \n",
      "370 2023-12-04 11:09:00   +91 89685 82563   \n",
      "371 2023-12-04 12:05:00    Jasmine Edoofa   \n",
      "372 2023-12-04 12:09:00   +91 89685 82563   \n",
      "373 2023-12-04 12:09:00   +91 89685 82563   \n",
      "374 2023-12-04 12:13:00    Jasmine Edoofa   \n",
      "375 2023-12-04 13:51:00  +263 71 788 6431   \n",
      "376 2023-12-04 13:56:00    Jasmine Edoofa   \n",
      "377 2023-12-04 13:58:00  +263 71 788 6431   \n",
      "378 2023-12-04 14:01:00    Jasmine Edoofa   \n",
      "379 2023-12-04 14:43:00  +263 71 788 6431   \n",
      "380 2023-12-04 14:45:00    Jasmine Edoofa   \n",
      "381 2023-12-04 14:47:00    Jasmine Edoofa   \n",
      "382 2023-12-04 15:03:00  +263 71 788 6431   \n",
      "383 2023-12-04 15:10:00    Jasmine Edoofa   \n",
      "384 2023-12-04 15:14:00  +263 71 788 6431   \n",
      "385 2023-12-04 15:17:00    Jasmine Edoofa   \n",
      "386 2023-12-04 15:20:00  +263 71 788 6431   \n",
      "387 2023-12-04 15:25:00    Jasmine Edoofa   \n",
      "388 2023-12-04 15:26:00  +263 71 788 6431   \n",
      "389 2023-12-04 15:26:00    Jasmine Edoofa   \n",
      "390 2023-12-04 15:26:00    Jasmine Edoofa   \n",
      "391 2023-12-04 15:28:00  +263 71 788 6431   \n",
      "392 2023-12-04 15:28:00  +263 71 788 6431   \n",
      "393 2023-12-04 15:28:00    Jasmine Edoofa   \n",
      "394 2023-12-04 15:29:00  +263 71 788 6431   \n",
      "395 2023-12-04 15:30:00    Jasmine Edoofa   \n",
      "396 2023-12-04 15:31:00  +263 71 788 6431   \n",
      "397 2023-12-04 15:32:00    Jasmine Edoofa   \n",
      "398 2023-12-04 15:33:00  +263 71 788 6431   \n",
      "399 2023-12-04 15:40:00    Jasmine Edoofa   \n",
      "400 2023-12-04 15:42:00  +263 71 788 6431   \n",
      "401 2023-12-04 15:44:00    Jasmine Edoofa   \n",
      "402 2023-12-04 15:50:00  +263 71 788 6431   \n",
      "\n",
      "                                               message  \n",
      "369  Good Afternoon Simphiwe May I know why did you...  \n",
      "370  I am sorry maam l got held up in a group study...  \n",
      "371  Simphiwe, Do you think it is your responsibili...  \n",
      "372                       It is my responsibility maam  \n",
      "373                           And l am sincerely sorry  \n",
      "374  Also, there is one task pending of yours Simph...  \n",
      "375  Good day ... Had thought Simphiwe will respond...  \n",
      "376                    How are you doing Mrs. Hlalani?  \n",
      "377  I'm fine ...busy hassling for next semester fe...  \n",
      "378  Mrs. Hlalani. Why don't you help Simphiwe with...  \n",
      "379                           Which one exactly Mam ..  \n",
      "380  Okay, Are you aware of what Community Building...  \n",
      "381  The project in which Simphiwe can easily earn ...  \n",
      "382  When we were doing the lessons together earlie...  \n",
      "383  Yes, Since you are a teacher. You can actually...  \n",
      "384  Let me talk to him so that I know how far he h...  \n",
      "385  Yes, That would be great and with this, you re...  \n",
      "386  Really ... I'm in a fix kkkk is it possible to...  \n",
      "387                                  Let me just check  \n",
      "388                                           Thank yu  \n",
      "389                                    <Media omitted>  \n",
      "390                                    <Media omitted>  \n",
      "391          So from August to now he has done nothing  \n",
      "392                             And scored nothing kkk  \n",
      "393                                                Yes  \n",
      "394  Tricky  I also saw from his invoice $1375 inst...  \n",
      "395  May I know that are you involved in his admiss...  \n",
      "396                               I'm in the group yes  \n",
      "397  Great, Then it would be great if you could sha...  \n",
      "398                                          Thank you  \n",
      "399  Yes, Also it would be great if you can get in ...  \n",
      "400                                       Ook fine Mam  \n",
      "401                             Take care Mrs. Hlalani  \n",
      "402                                          Thank you  \n"
     ]
    },
    {
     "name": "stderr",
     "output_type": "stream",
     "text": [
      "2023-12-05 17:44:13,156 - DEBUG - Row appended for chat file: WhatsApp Chat with Simphiwe EWYL22E0976.txt\n"
     ]
    },
    {
     "name": "stdout",
     "output_type": "stream",
     "text": [
      "ENTER THE LOOP:               datetime          sender  \\\n",
      "149 2023-12-04 08:05:00  Jasmine Edoofa   \n",
      "\n",
      "                                               message  \n",
      "149  _*Good Morning Stanslous*_ I hope you are doin...  \n"
     ]
    },
    {
     "name": "stderr",
     "output_type": "stream",
     "text": [
      "2023-12-05 17:44:13,474 - DEBUG - Row appended for chat file: WhatsApp Chat with Stanslous EWYL23E0653.txt\n"
     ]
    },
    {
     "name": "stdout",
     "output_type": "stream",
     "text": [
      "ENTER THE LOOP:               datetime            sender  \\\n",
      "133 2023-12-04 07:51:00    Jasmine Edoofa   \n",
      "134 2023-12-04 08:39:00  +263 71 516 6933   \n",
      "135 2023-12-04 08:45:00    Jasmine Edoofa   \n",
      "136 2023-12-04 08:58:00  +263 71 516 6933   \n",
      "137 2023-12-04 08:59:00  +263 71 516 6933   \n",
      "138 2023-12-04 09:10:00    Jasmine Edoofa   \n",
      "139 2023-12-04 09:28:00    Jasmine Edoofa   \n",
      "140 2023-12-04 16:05:00    Jasmine Edoofa   \n",
      "\n",
      "                                               message  \n",
      "133  _*Good Morning Stina*_ I hope you are doing we...  \n",
      "134                             Greetings mentor lm in  \n",
      "135            Please go ahead and submit your answers  \n",
      "136  1. Corporate alliance 2.Community building 3. ...  \n",
      "137                     lm now attending to question 2  \n",
      "138                                         Okay Stina  \n",
      "139  Now, it is time to wrap up the session.  It wa...  \n",
      "140  *Good Afternoon* I trust you are doing well. *...  \n"
     ]
    },
    {
     "name": "stderr",
     "output_type": "stream",
     "text": [
      "2023-12-05 17:44:13,772 - DEBUG - Row appended for chat file: WhatsApp Chat with Stina EWYL23E0256.txt\n",
      "2023-12-05 17:44:14,017 - DEBUG - Row appended for chat file: WhatsApp Chat with Tadiwanashe EWYL22E0534.txt\n"
     ]
    },
    {
     "name": "stdout",
     "output_type": "stream",
     "text": [
      "ENTER THE LOOP:              datetime          sender  \\\n",
      "54 2023-12-04 08:17:00  Jasmine Edoofa   \n",
      "\n",
      "                                              message  \n",
      "54  _*Good Morning Tadiwanashe*_ I hope you are do...  \n",
      "ENTER THE LOOP:               datetime            sender  \\\n",
      "138 2023-12-04 07:52:00    Jasmine Edoofa   \n",
      "139 2023-12-04 08:36:00  +263 71 526 2889   \n",
      "140 2023-12-04 08:36:00    Jasmine Edoofa   \n",
      "141 2023-12-04 08:36:00    Jasmine Edoofa   \n",
      "142 2023-12-04 08:44:00  +263 71 526 2889   \n",
      "143 2023-12-04 08:48:00    Jasmine Edoofa   \n",
      "144 2023-12-04 08:50:00  +263 71 526 2889   \n",
      "145 2023-12-04 08:54:00    Jasmine Edoofa   \n",
      "146 2023-12-04 08:54:00    Jasmine Edoofa   \n",
      "147 2023-12-04 08:59:00  +263 71 526 2889   \n",
      "148 2023-12-04 09:10:00    Jasmine Edoofa   \n",
      "149 2023-12-04 09:10:00    Jasmine Edoofa   \n",
      "150 2023-12-04 09:28:00    Jasmine Edoofa   \n",
      "151 2023-12-04 09:30:00  +263 71 526 2889   \n",
      "152 2023-12-04 16:05:00    Jasmine Edoofa   \n",
      "\n",
      "                                               message  \n",
      "138  _*Good Morning Tadiwanashe*_ I hope you are do...  \n",
      "139                               Morning Miss Jasmine  \n",
      "140  Now we’re ready to move forward. I’m sharing a...  \n",
      "141                                    <Media omitted>  \n",
      "142                                               Okay  \n",
      "143  After you go through the audio, I would apprec...  \n",
      "144  So the audio requires me to connect with schoo...  \n",
      "145  Now that’s bang-on! I couldn’t have asked anyo...  \n",
      "146  Now allow me to recap this project quickly for...  \n",
      "147                                               Okay  \n",
      "148  After the school authorities respond to your m...  \n",
      "149  *School Details*:  1. School Name: 2. School P...  \n",
      "150  Now, it is time to wrap up the session. We wil...  \n",
      "151                                     Okay thank you  \n",
      "152  *Good Afternoon* I trust you are doing well. *...  \n"
     ]
    },
    {
     "name": "stderr",
     "output_type": "stream",
     "text": [
      "2023-12-05 17:44:14,369 - DEBUG - Row appended for chat file: WhatsApp Chat with Tadiwanashe EWYL23E0095.txt\n"
     ]
    },
    {
     "name": "stdout",
     "output_type": "stream",
     "text": [
      "ENTER THE LOOP:               datetime           sender  \\\n",
      "156 2023-12-04 11:14:00   Jasmine Edoofa   \n",
      "157 2023-12-04 12:17:00  +91 86991 64485   \n",
      "158 2023-12-04 13:48:00   Jasmine Edoofa   \n",
      "159 2023-12-04 13:53:00  +91 86991 64485   \n",
      "160 2023-12-04 13:55:00   Jasmine Edoofa   \n",
      "161 2023-12-04 14:08:00  +91 86991 64485   \n",
      "162 2023-12-04 14:18:00   Jasmine Edoofa   \n",
      "163 2023-12-04 14:21:00  +91 86991 64485   \n",
      "164 2023-12-04 14:23:00   Jasmine Edoofa   \n",
      "165 2023-12-04 14:23:00  +91 86991 64485   \n",
      "166 2023-12-04 14:24:00  +91 86991 64485   \n",
      "167 2023-12-04 14:26:00   Jasmine Edoofa   \n",
      "\n",
      "                                               message  \n",
      "156  Good Afternoon Takudzwa Can you kindly share y...  \n",
      "157  Greetings mem how are you  Okay , Saturday l w...  \n",
      "158  I am good Takudzwa. Till what time do you have...  \n",
      "159                                                1pm  \n",
      "160       At what time, does the classes end Takudzwa?  \n",
      "161  I have a make up lesson which is to end at 1pm...  \n",
      "162              But the call was at 6:45 pm Takudzwa?  \n",
      "163                    You mean this week or last week  \n",
      "164  On Saturday 2 Dec 2023. We had our call schedu...  \n",
      "165  Last week l had personal tutorials from 6pm to...  \n",
      "166  Yes l do understand, but l did explained  that...  \n",
      "167  Takudzwa, May I know till the time you have ar...  \n"
     ]
    },
    {
     "name": "stderr",
     "output_type": "stream",
     "text": [
      "2023-12-05 17:44:14,693 - DEBUG - Row appended for chat file: WhatsApp Chat with Takudzwa EWYL22E0793.txt\n"
     ]
    },
    {
     "name": "stdout",
     "output_type": "stream",
     "text": [
      "ENTER THE LOOP:               datetime            sender  \\\n",
      "172 2023-12-04 07:51:00    Jasmine Edoofa   \n",
      "173 2023-12-04 08:31:00  +263 78 412 2571   \n",
      "174 2023-12-04 08:33:00    Jasmine Edoofa   \n",
      "175 2023-12-04 08:34:00  +263 78 412 2571   \n",
      "176 2023-12-04 08:35:00    Jasmine Edoofa   \n",
      "177 2023-12-04 08:37:00  +263 78 412 2571   \n",
      "178 2023-12-04 08:42:00    Jasmine Edoofa   \n",
      "179 2023-12-04 08:42:00    Jasmine Edoofa   \n",
      "180 2023-12-04 08:42:00  +263 78 412 2571   \n",
      "181 2023-12-04 08:44:00    Jasmine Edoofa   \n",
      "182 2023-12-04 08:45:00  +263 78 412 2571   \n",
      "183 2023-12-04 08:45:00  +263 78 412 2571   \n",
      "184 2023-12-04 08:48:00    Jasmine Edoofa   \n",
      "185 2023-12-04 08:49:00  +263 78 412 2571   \n",
      "186 2023-12-04 08:54:00    Jasmine Edoofa   \n",
      "187 2023-12-04 08:54:00    Jasmine Edoofa   \n",
      "188 2023-12-04 08:54:00  +263 78 412 2571   \n",
      "189 2023-12-04 09:03:00  +263 78 412 2571   \n",
      "190 2023-12-04 09:14:00    Jasmine Edoofa   \n",
      "191 2023-12-04 09:27:00    Jasmine Edoofa   \n",
      "192 2023-12-04 09:31:00  +263 78 412 2571   \n",
      "193 2023-12-04 09:32:00  +263 78 412 2571   \n",
      "194 2023-12-04 16:05:00    Jasmine Edoofa   \n",
      "195 2023-12-04 18:24:00  +263 78 412 2571   \n",
      "\n",
      "                                               message  \n",
      "172  _*Good Morning Takudzwa*_ I hope you are doing...  \n",
      "173                                                 Ok  \n",
      "174  Last time we were discussing Project 1 Do you ...  \n",
      "175                                                Yes  \n",
      "176  Second and the fun part- I’m sure you have rea...  \n",
      "177                                         Understood  \n",
      "178  Now, Let us discuss how we can find suitable c...  \n",
      "179  We can utilize platforms like Google, Instagra...  \n",
      "180                                                 Ok  \n",
      "181  Once you have created accounts on these platfo...  \n",
      "182  Instagram Username: takudzwa Kamoto Facebook U...  \n",
      "183                                                Owk  \n",
      "184  Now, there is an update that I would like to s...  \n",
      "185                                                 Ok  \n",
      "186  Now we’re ready to move to the next project! T...  \n",
      "187                                    <Media omitted>  \n",
      "188                                                 Ok  \n",
      "189                         How many do I have to find  \n",
      "190  The more you will work, the more credits you w...  \n",
      "191  Now, it is time to wrap up the session. We wil...  \n",
      "192                                                 Ok  \n",
      "193                                        Same to you  \n",
      "194  *Good Afternoon* I trust you are doing well. *...  \n",
      "195                                                 Ok  \n"
     ]
    },
    {
     "name": "stderr",
     "output_type": "stream",
     "text": [
      "2023-12-05 17:44:15,009 - DEBUG - Row appended for chat file: WhatsApp Chat with Takudzwa EWYL23E0197.txt\n"
     ]
    },
    {
     "name": "stdout",
     "output_type": "stream",
     "text": [
      "ENTER THE LOOP:               datetime            sender  \\\n",
      "176 2023-12-04 13:51:00  +263 78 411 9566   \n",
      "177 2023-12-04 13:57:00    Jasmine Edoofa   \n",
      "178 2023-12-04 13:58:00    Jasmine Edoofa   \n",
      "179 2023-12-04 13:58:00    Jasmine Edoofa   \n",
      "180 2023-12-04 17:29:00  +263 78 411 9566   \n",
      "\n",
      "                                               message  \n",
      "176           Good afternoon I'm ready for the session  \n",
      "177    Good Afternoon, Please excuse me for the delay.  \n",
      "178  Today, I will start by explaining the projects...  \n",
      "179                                    <Media omitted>  \n",
      "180                                       I'm finished  \n"
     ]
    },
    {
     "name": "stderr",
     "output_type": "stream",
     "text": [
      "2023-12-05 17:44:15,309 - DEBUG - Row appended for chat file: WhatsApp Chat with TAKUNDA EWYL23E0058.txt\n"
     ]
    },
    {
     "name": "stdout",
     "output_type": "stream",
     "text": [
      "ENTER THE LOOP:               datetime            sender  \\\n",
      "118 2023-12-04 07:52:00    Jasmine Edoofa   \n",
      "119 2023-12-04 10:15:00  +263 71 871 0127   \n",
      "120 2023-12-04 10:15:00  +263 71 871 0127   \n",
      "121 2023-12-04 10:15:00  +263 71 871 0127   \n",
      "122 2023-12-04 10:15:00  +263 71 871 0127   \n",
      "123 2023-12-04 10:15:00  +263 71 871 0127   \n",
      "124 2023-12-04 10:15:00  +263 71 871 0127   \n",
      "125 2023-12-04 10:56:00    Jasmine Edoofa   \n",
      "126 2023-12-04 10:57:00  +263 71 871 0127   \n",
      "127 2023-12-04 16:04:00    Jasmine Edoofa   \n",
      "128 2023-12-04 16:11:00  +263 71 871 0127   \n",
      "\n",
      "                                               message  \n",
      "118  _*Good Morning Talent*_ I hope you are doing w...  \n",
      "119                                               Good  \n",
      "120              Good morning my network is not stable  \n",
      "121  1. Corporate Alliance, Community Building and ...  \n",
      "122  Project 1 is all about research on technologic...  \n",
      "123  Project 2 is all about Edoofians reaching out ...  \n",
      "124  Project 3 is when Edoofians reach out to the d...  \n",
      "125  Now, it is time to wrap up the session. We wil...  \n",
      "126                                               Okay  \n",
      "127  *Good Afternoon* I trust you are doing well. *...  \n",
      "128                                              Noted  \n"
     ]
    },
    {
     "name": "stderr",
     "output_type": "stream",
     "text": [
      "2023-12-05 17:44:15,580 - DEBUG - Row appended for chat file: WhatsApp Chat with Talent EWYL23E0649.txt\n"
     ]
    },
    {
     "name": "stdout",
     "output_type": "stream",
     "text": [
      "ENTER THE LOOP:               datetime            sender  \\\n",
      "390 2023-12-04 07:53:00    Jasmine Edoofa   \n",
      "391 2023-12-04 07:55:00  +263 77 350 6654   \n",
      "392 2023-12-04 07:55:00  +263 77 350 6654   \n",
      "393 2023-12-04 07:56:00    Jasmine Edoofa   \n",
      "394 2023-12-04 07:56:00  +263 77 350 6654   \n",
      "395 2023-12-04 07:58:00  +263 71 654 9013   \n",
      "396 2023-12-04 08:08:00    Jasmine Edoofa   \n",
      "397 2023-12-04 08:10:00    Jasmine Edoofa   \n",
      "398 2023-12-04 08:11:00    Jasmine Edoofa   \n",
      "399 2023-12-04 08:13:00  +263 77 350 6654   \n",
      "400 2023-12-04 08:28:00    Jasmine Edoofa   \n",
      "401 2023-12-04 08:31:00  +263 77 907 4224   \n",
      "402 2023-12-04 08:32:00  +263 77 907 4224   \n",
      "403 2023-12-04 08:34:00  +263 77 907 4224   \n",
      "404 2023-12-04 08:35:00    Jasmine Edoofa   \n",
      "405 2023-12-04 08:35:00  +263 77 907 4224   \n",
      "406 2023-12-04 08:36:00    Jasmine Edoofa   \n",
      "407 2023-12-04 08:37:00  +263 77 907 4224   \n",
      "408 2023-12-04 08:41:00    Jasmine Edoofa   \n",
      "409 2023-12-04 08:48:00  +263 77 907 4224   \n",
      "410 2023-12-04 08:49:00    Jasmine Edoofa   \n",
      "411 2023-12-04 08:49:00  +263 77 907 4224   \n",
      "412 2023-12-04 08:53:00    Jasmine Edoofa   \n",
      "413 2023-12-04 08:53:00    Jasmine Edoofa   \n",
      "414 2023-12-04 08:53:00    Jasmine Edoofa   \n",
      "415 2023-12-04 08:54:00  +263 77 907 4224   \n",
      "416 2023-12-04 08:56:00    Jasmine Edoofa   \n",
      "417 2023-12-04 08:58:00  +263 77 907 4224   \n",
      "418 2023-12-04 09:09:00    Jasmine Edoofa   \n",
      "419 2023-12-04 09:28:00    Jasmine Edoofa   \n",
      "420 2023-12-04 11:30:00  +263 77 907 4224   \n",
      "421 2023-12-04 11:30:00  +263 77 907 4224   \n",
      "422 2023-12-04 14:04:00    Jasmine Edoofa   \n",
      "423 2023-12-04 14:05:00  +263 77 907 4224   \n",
      "424 2023-12-04 14:06:00    Jasmine Edoofa   \n",
      "425 2023-12-04 16:03:00    Jasmine Edoofa   \n",
      "426 2023-12-04 18:57:00  +263 77 907 4224   \n",
      "\n",
      "                                               message  \n",
      "390  _*Good Morning Tanaka*_ I hope you are doing w...  \n",
      "391  Good morning ma'am.Tanaka is currently not in ...  \n",
      "392                                             Tanaka  \n",
      "393                      Yes, Please give me 2 minutes  \n",
      "394                                           Ok ma'am  \n",
      "395                  Tanaka Marume.vcf (file attached)  \n",
      "396  _*Good Morning Tanaka*_ I hope you are doing w...  \n",
      "397  I have shared the invite link with Tanaka. Let...  \n",
      "398   https://chat.whatsapp.com/BukKVoBcy4XHDbWoqC0eZn  \n",
      "399  He is already in the group. Thank you. He is h...  \n",
      "400  Yes, This is only a 60-minute session. I would...  \n",
      "401                                 Good morning ma'am  \n",
      "402                        I am available let us begin  \n",
      "403              I am sorry I was late for the session  \n",
      "404  Last time we were discussing Project 2 Do you ...  \n",
      "405                                                Yes  \n",
      "406  And #2 – Back to the exciting part- your *Scho...  \n",
      "407                                              Noted  \n",
      "408  So, now I am going to share certain ways that ...  \n",
      "409                                              Noted  \n",
      "410  So, now I am going to share certain ways that ...  \n",
      "411                                              Noted  \n",
      "412                _Through WhatsApp community groups_  \n",
      "413  Kindly go through the audio that I am sharing ...  \n",
      "414                                    <Media omitted>  \n",
      "415                                              Noted  \n",
      "416           Have you gone through the audio, Tanaka?  \n",
      "417                                                Yes  \n",
      "418  Okay, so very quickly you summarize whatever y...  \n",
      "419  Now, it is time to wrap up the session. We wil...  \n",
      "420          Sorry for the late reply network problems  \n",
      "421  The most effective way to execute the project ...  \n",
      "422                           This message was deleted  \n",
      "423                               Can you clarify more  \n",
      "424  Nothing Tanaka, Please ignore my above message...  \n",
      "425  *Good Afternoon* I trust you are doing well. *...  \n",
      "426                                              Noted  \n"
     ]
    },
    {
     "name": "stderr",
     "output_type": "stream",
     "text": [
      "2023-12-05 17:44:15,937 - DEBUG - Row appended for chat file: WhatsApp Chat with Tanaka EWYL23E0370.txt\n",
      "2023-12-05 17:44:16,202 - DEBUG - Row appended for chat file: WhatsApp Chat with Tapiwanashe EWYL22E0517.txt\n"
     ]
    },
    {
     "name": "stdout",
     "output_type": "stream",
     "text": [
      "ENTER THE LOOP:              datetime            sender  \\\n",
      "73 2023-12-04 07:54:00    Jasmine Edoofa   \n",
      "74 2023-12-04 15:36:00  +263 77 866 1564   \n",
      "75 2023-12-04 15:43:00    Jasmine Edoofa   \n",
      "76 2023-12-04 15:43:00  +263 77 866 1564   \n",
      "77 2023-12-04 15:43:00  +263 77 866 1564   \n",
      "78 2023-12-04 16:02:00    Jasmine Edoofa   \n",
      "79 2023-12-04 16:38:00  +263 77 866 1564   \n",
      "\n",
      "                                              message  \n",
      "73  _*Good Morning Tapiwanashe*_ I hope you are do...  \n",
      "74  I'm so sorry ma'am, there has been a problem h...  \n",
      "75  Okay, Make sure that you don't miss tomorrow '...  \n",
      "76                                  I promise I won't  \n",
      "77                                    Thank you ma'am  \n",
      "78  *Good Afternoon* I trust you are doing well. *...  \n",
      "79                                           Ok ma'am  \n",
      "ENTER THE LOOP:              datetime            sender  \\\n",
      "48 2023-12-04 07:54:00    Jasmine Edoofa   \n",
      "49 2023-12-04 10:26:00  +263 78 833 8947   \n",
      "50 2023-12-04 10:58:00    Jasmine Edoofa   \n",
      "51 2023-12-04 15:23:00  +263 78 833 8947   \n",
      "52 2023-12-04 15:27:00    Jasmine Edoofa   \n",
      "53 2023-12-04 15:35:00  +263 78 833 8947   \n",
      "54 2023-12-04 15:40:00    Jasmine Edoofa   \n",
      "\n",
      "                                              message  \n",
      "48  _*Good Morning Tashinga*_ I hope you are doing...  \n",
      "49                                 Good morning ma'am  \n",
      "50  Morning Tashinga. May I know why did you miss ...  \n",
      "51  I was busy with the chores at home at 8:30 ,I ...  \n",
      "52  May I know will you be able to come for the se...  \n",
      "53                                          Yes ma'am  \n",
      "54  Great, I will see you tomorrow at 1:30 pm. Hav...  \n"
     ]
    },
    {
     "name": "stderr",
     "output_type": "stream",
     "text": [
      "2023-12-05 17:44:16,464 - DEBUG - Row appended for chat file: WhatsApp Chat with Tashinga EWYL23E0794.txt\n"
     ]
    },
    {
     "name": "stdout",
     "output_type": "stream",
     "text": [
      "ENTER THE LOOP:               datetime            sender                 message\n",
      "153 2023-12-04 13:41:00    Jasmine Edoofa  Good Afternoon Tatenda\n",
      "154 2023-12-04 20:20:00  +263 71 852 8592       Hello how are you\n"
     ]
    },
    {
     "name": "stderr",
     "output_type": "stream",
     "text": [
      "2023-12-05 17:44:16,735 - DEBUG - Row appended for chat file: WhatsApp Chat with Tatenda EWYL22E0845.txt\n"
     ]
    },
    {
     "name": "stdout",
     "output_type": "stream",
     "text": [
      "ENTER THE LOOP:               datetime            sender  \\\n",
      "381 2023-12-04 08:03:00    Jasmine Edoofa   \n",
      "382 2023-12-04 08:04:00    Jasmine Edoofa   \n",
      "383 2023-12-04 08:36:00  +263 71 910 8435   \n",
      "384 2023-12-04 08:36:00  +263 71 910 8435   \n",
      "\n",
      "                                               message  \n",
      "381  _*Good Morning Tatenda*_ I hope you are doing ...  \n",
      "382  Since the per semester fees of this school are...  \n",
      "383  Good morning I am doing great , how are you do...  \n",
      "384                                        Noted ma'am  \n"
     ]
    },
    {
     "name": "stderr",
     "output_type": "stream",
     "text": [
      "2023-12-05 17:44:17,063 - DEBUG - Row appended for chat file: WhatsApp Chat with Tatenda EWYL23E0355 (1).txt\n"
     ]
    },
    {
     "name": "stdout",
     "output_type": "stream",
     "text": [
      "ENTER THE LOOP:               datetime            sender  \\\n",
      "89  2023-12-04 07:51:00    Jasmine Edoofa   \n",
      "90  2023-12-04 08:01:00  +263 77 738 8531   \n",
      "91  2023-12-04 08:32:00    Jasmine Edoofa   \n",
      "92  2023-12-04 08:37:00  +263 77 738 8531   \n",
      "93  2023-12-04 08:41:00    Jasmine Edoofa   \n",
      "94  2023-12-04 08:50:00  +263 77 738 8531   \n",
      "95  2023-12-04 08:55:00    Jasmine Edoofa   \n",
      "96  2023-12-04 08:55:00    Jasmine Edoofa   \n",
      "97  2023-12-04 08:55:00  +263 77 738 8531   \n",
      "98  2023-12-04 08:55:00  +263 77 738 8531   \n",
      "99  2023-12-04 09:03:00  +263 77 738 8531   \n",
      "100 2023-12-04 09:12:00    Jasmine Edoofa   \n",
      "101 2023-12-04 09:28:00    Jasmine Edoofa   \n",
      "102 2023-12-04 09:31:00  +263 77 738 8531   \n",
      "103 2023-12-04 09:33:00  +263 77 738 8531   \n",
      "104 2023-12-04 09:54:00    Jasmine Edoofa   \n",
      "105 2023-12-04 10:17:00  +263 77 738 8531   \n",
      "106 2023-12-04 10:57:00    Jasmine Edoofa   \n",
      "107 2023-12-04 10:57:00  +263 77 738 8531   \n",
      "108 2023-12-04 16:04:00    Jasmine Edoofa   \n",
      "\n",
      "                                               message  \n",
      "89   _*Good Morning Tawanda*_ I hope you are doing ...  \n",
      "90                   Okay I'll be there Good morning 🙏  \n",
      "91   Last time we were discussing Project 1 Do you ...  \n",
      "92                                   Yes I do remember  \n",
      "93   Second and the fun part- I’m sure you have rea...  \n",
      "94   So in general the more the necessary calls the...  \n",
      "95                                         Yes Tawanda  \n",
      "96   Now, Let us discuss how we can find suitable c...  \n",
      "97                                   Okay I understand  \n",
      "98   A company like a school , suppose a Private Ju...  \n",
      "99   Because specifications mentions a company/ org...  \n",
      "100  We can utilize platforms like Google, Instagra...  \n",
      "101  Now, it is time to wrap up the session. We wil...  \n",
      "102                                          Okay sure  \n",
      "103                                                  ?  \n",
      "104  We are still talking about Project 1. A compan...  \n",
      "105          Okay sure I understand I'll hear from you  \n",
      "106                    Yes, Have a wonderful day ahead  \n",
      "107                                  Same to you ma'am  \n",
      "108  *Good Afternoon* I trust you are doing well. *...  \n"
     ]
    },
    {
     "name": "stderr",
     "output_type": "stream",
     "text": [
      "2023-12-05 17:44:17,372 - DEBUG - Row appended for chat file: WhatsApp Chat with Tawanda EWYL22E0652.txt\n"
     ]
    },
    {
     "name": "stdout",
     "output_type": "stream",
     "text": [
      "ENTER THE LOOP:               datetime          sender  \\\n",
      "171 2023-12-04 14:28:00  Jasmine Edoofa   \n",
      "\n",
      "                                               message  \n",
      "171  Good Afternoon Thomas Well, Done on sharing th...  \n"
     ]
    },
    {
     "name": "stderr",
     "output_type": "stream",
     "text": [
      "2023-12-05 17:44:17,731 - DEBUG - Row appended for chat file: WhatsApp Chat with Thomas EWYL22E0431.txt\n"
     ]
    },
    {
     "name": "stdout",
     "output_type": "stream",
     "text": [
      "ENTER THE LOOP:               datetime            sender  \\\n",
      "366 2023-12-04 07:56:00    Jasmine Edoofa   \n",
      "367 2023-12-04 08:02:00  +263 71 528 9514   \n",
      "368 2023-12-04 08:31:00    Jasmine Edoofa   \n",
      "369 2023-12-04 08:32:00  +263 71 528 9514   \n",
      "370 2023-12-04 08:34:00    Jasmine Edoofa   \n",
      "371 2023-12-04 08:34:00    Jasmine Edoofa   \n",
      "372 2023-12-04 09:07:00  +263 71 528 9514   \n",
      "373 2023-12-04 09:14:00    Jasmine Edoofa   \n",
      "374 2023-12-04 09:17:00  +263 71 528 9514   \n",
      "375 2023-12-04 09:19:00    Jasmine Edoofa   \n",
      "376 2023-12-04 09:20:00  +263 71 528 9514   \n",
      "377 2023-12-04 09:21:00    Jasmine Edoofa   \n",
      "378 2023-12-04 09:22:00  +263 71 528 9514   \n",
      "379 2023-12-04 16:06:00    Jasmine Edoofa   \n",
      "\n",
      "                                               message  \n",
      "366  _*Good Morning Tiara*_ I hope you are doing we...  \n",
      "367                                          Oky ma'am  \n",
      "368  Now, we’re ready to begin your EWYL program, a...  \n",
      "369                                                Oky  \n",
      "370                                    <Media omitted>  \n",
      "371  I want you to take some time, to go through th...  \n",
      "372  I've received the document  and it's still loa...  \n",
      "373                                         Okay Tiara  \n",
      "374  From the document above I have noted that ther...  \n",
      "375  Well, Done Tiara, It clearly shows that you ha...  \n",
      "376                                          Thank you  \n",
      "377  Now, it is time to wrap up the session. We wil...  \n",
      "378                         Oky ma'am have a great day  \n",
      "379  *Good Afternoon* I trust you are doing well. *...  \n"
     ]
    },
    {
     "name": "stderr",
     "output_type": "stream",
     "text": [
      "2023-12-05 17:44:18,131 - DEBUG - Row appended for chat file: WhatsApp Chat with Tiara EWYL23E0282.txt\n"
     ]
    },
    {
     "name": "stdout",
     "output_type": "stream",
     "text": [
      "ENTER THE LOOP:               datetime            sender  \\\n",
      "343 2023-12-04 07:08:00  +263 78 535 0406   \n",
      "344 2023-12-04 07:58:00    Jasmine Edoofa   \n",
      "345 2023-12-04 08:28:00  +263 78 322 8349   \n",
      "346 2023-12-04 08:29:00    Jasmine Edoofa   \n",
      "347 2023-12-04 08:30:00    Jasmine Edoofa   \n",
      "348 2023-12-04 08:30:00  +263 78 322 8349   \n",
      "349 2023-12-04 08:30:00    Jasmine Edoofa   \n",
      "350 2023-12-04 08:31:00  +263 78 322 8349   \n",
      "351 2023-12-04 08:33:00    Jasmine Edoofa   \n",
      "352 2023-12-04 08:33:00    Jasmine Edoofa   \n",
      "353 2023-12-04 08:35:00  +263 78 322 8349   \n",
      "354 2023-12-04 08:35:00    Jasmine Edoofa   \n",
      "355 2023-12-04 08:39:00  +263 78 322 8349   \n",
      "356 2023-12-04 08:45:00    Jasmine Edoofa   \n",
      "357 2023-12-04 08:49:00  +263 78 322 8349   \n",
      "358 2023-12-04 08:53:00    Jasmine Edoofa   \n",
      "359 2023-12-04 08:56:00  +263 78 322 8349   \n",
      "360 2023-12-04 09:08:00    Jasmine Edoofa   \n",
      "361 2023-12-04 09:09:00  +263 78 322 8349   \n",
      "362 2023-12-04 09:15:00    Jasmine Edoofa   \n",
      "363 2023-12-04 09:28:00    Jasmine Edoofa   \n",
      "364 2023-12-04 16:05:00    Jasmine Edoofa   \n",
      "365 2023-12-04 17:00:00  +263 78 535 0406   \n",
      "\n",
      "                                               message  \n",
      "343  Last project is favourate among students as it...  \n",
      "344  _*Good Morning Wesley*_ I hope you are doing w...  \n",
      "345                   Good morning , hwù doing today??  \n",
      "346             I am very well. Thank you for asking 😊  \n",
      "347  Now that’s bang-on! I couldn’t have asked anyo...  \n",
      "348                                    You are welcome  \n",
      "349  Now allow me to recap this project quickly for...  \n",
      "350                                     Okay thank you  \n",
      "351  After the school authorities respond to your m...  \n",
      "352  *School Details*:  1. School Name: 2. School P...  \n",
      "353                                        Okay noted.  \n",
      "354  And #2  The *Scholarship Credits* earning oppo...  \n",
      "355     Wow ,that's awesome,I would like to earn some.  \n",
      "356  Before we start, I want you to answer the ques...  \n",
      "357  1. Gutu High School , Yes it is connected with...  \n",
      "358  It is good to see that your school is already ...  \n",
      "359                                        Yes I agree  \n",
      "360  Yes, Now our first task is to get the number o...  \n",
      "361                                Okay , I am on it .  \n",
      "362  Once you get the headmaster’s number, it is ti...  \n",
      "363  Now, it is time to wrap up the session. We wil...  \n",
      "364  *Good Afternoon* I trust you are doing well. *...  \n",
      "365                                     Okay thank you  \n"
     ]
    },
    {
     "name": "stderr",
     "output_type": "stream",
     "text": [
      "2023-12-05 17:44:18,596 - DEBUG - Row appended for chat file: WhatsApp Chat with Wesley EWYL23E0127.txt\n"
     ]
    },
    {
     "name": "stdout",
     "output_type": "stream",
     "text": [
      "ENTER THE LOOP:              datetime            sender  \\\n",
      "55 2023-12-04 07:48:00    Jasmine Edoofa   \n",
      "56 2023-12-04 08:21:00  +263 77 374 9598   \n",
      "57 2023-12-04 08:22:00  +263 77 374 9598   \n",
      "58 2023-12-04 08:23:00    Jasmine Edoofa   \n",
      "59 2023-12-04 08:23:00    Jasmine Edoofa   \n",
      "60 2023-12-04 08:23:00  +263 77 374 9598   \n",
      "61 2023-12-04 08:27:00    Jasmine Edoofa   \n",
      "62 2023-12-04 08:28:00  +263 77 374 9598   \n",
      "63 2023-12-04 08:31:00  +263 71 947 2633   \n",
      "64 2023-12-04 08:39:00    Jasmine Edoofa   \n",
      "65 2023-12-04 08:40:00    Jasmine Edoofa   \n",
      "66 2023-12-04 09:00:00  +263 71 947 2633   \n",
      "67 2023-12-04 09:06:00    Jasmine Edoofa   \n",
      "68 2023-12-04 09:06:00    Jasmine Edoofa   \n",
      "69 2023-12-04 09:08:00  +263 71 947 2633   \n",
      "70 2023-12-04 09:18:00    Jasmine Edoofa   \n",
      "71 2023-12-04 09:20:00  +263 71 947 2633   \n",
      "72 2023-12-04 09:24:00    Jasmine Edoofa   \n",
      "73 2023-12-04 12:21:00  +263 71 947 2633   \n",
      "74 2023-12-04 12:24:00    Jasmine Edoofa   \n",
      "75 2023-12-04 12:24:00  +263 71 947 2633   \n",
      "76 2023-12-04 12:41:00  +263 71 947 2633   \n",
      "77 2023-12-04 12:49:00  +263 71 947 2633   \n",
      "78 2023-12-04 13:46:00    Jasmine Edoofa   \n",
      "79 2023-12-04 15:02:00  +263 71 947 2633   \n",
      "80 2023-12-04 15:09:00  +263 71 947 2633   \n",
      "81 2023-12-04 15:14:00  +263 71 947 2633   \n",
      "82 2023-12-04 15:18:00    Jasmine Edoofa   \n",
      "83 2023-12-04 15:18:00  +263 71 947 2633   \n",
      "84 2023-12-04 16:02:00    Jasmine Edoofa   \n",
      "85 2023-12-04 16:14:00  +263 71 947 2633   \n",
      "\n",
      "                                              message  \n",
      "55  _*Good Morning Whitney*_ I hope you are doing ...  \n",
      "56  Mrng Ms Jasmine.... kindly add Whitney to the ...  \n",
      "57        Yemurayi Whitney Kaseke.vcf (file attached)  \n",
      "58  I have invited her to join the group. Till the...  \n",
      "59   https://chat.whatsapp.com/FNjahHweqvqHzY3SsYqK8N  \n",
      "60                                        Owk...noted  \n",
      "61          Yes, once she is here. Kindly let me know  \n",
      "62                                                Owk  \n",
      "63  how are you Ms Jesmine lm  Whitney lm  now rea...  \n",
      "64             I am very well. Thank you for asking 😊  \n",
      "65  Have you gone through the past conversation Wh...  \n",
      "66                                                Yes  \n",
      "67  Do you remember this document? <This message w...  \n",
      "68                                    <Media omitted>  \n",
      "69                                                Yes  \n",
      "70  I want you to take today’s time, to go through...  \n",
      "71                                              noted  \n",
      "72                         Have a wonderful day ahead  \n",
      "73                                    <Media omitted>  \n",
      "74  Whitney, I would really appreciate it if you c...  \n",
      "75                                               okae  \n",
      "76  Question ; a) Corporate alliances b) Community...  \n",
      "77  Question 2 ; Corporate alliances  this is wher...  \n",
      "78  Good Job Whitney, You are still left with Ques...  \n",
      "79  Question 3 ; Community Building  This is a fie...  \n",
      "80  Question 4; African Schools Education Reform M...  \n",
      "81  In this project students will reach out to loc...  \n",
      "82  Good Job Whitney Now, I will see you tomorrow....  \n",
      "83                         thank you ....same applies  \n",
      "84  *Good Afternoon Whitney* I trust you are doing...  \n",
      "85                                              noted  \n"
     ]
    },
    {
     "name": "stderr",
     "output_type": "stream",
     "text": [
      "2023-12-05 17:44:18,942 - DEBUG - Row appended for chat file: WhatsApp Chat with Whitney EWYL23E0836.txt\n"
     ]
    },
    {
     "name": "stdout",
     "output_type": "stream",
     "text": [
      "ENTER THE LOOP:               datetime            sender  \\\n",
      "220 2023-12-04 07:50:00    Jasmine Edoofa   \n",
      "221 2023-12-04 07:51:00  +263 71 388 1319   \n",
      "222 2023-12-04 16:06:00    Jasmine Edoofa   \n",
      "223 2023-12-04 16:45:00  +263 71 388 1319   \n",
      "\n",
      "                                               message  \n",
      "220  _*Good Morning Yvonne*_ I hope you are doing w...  \n",
      "221                                              Noted  \n",
      "222  *Good Afternoon* I trust you are doing well. *...  \n",
      "223                         Ok. Thank you Miss Jasmine  \n"
     ]
    },
    {
     "name": "stderr",
     "output_type": "stream",
     "text": [
      "2023-12-05 17:44:19,304 - DEBUG - Row appended for chat file: WhatsApp Chat with Yvonne EWYL22E1050.txt\n"
     ]
    },
    {
     "name": "stdout",
     "output_type": "stream",
     "text": [
      "ENTER THE LOOP:               datetime          sender  \\\n",
      "305 2023-12-04 14:41:00  Jasmine Edoofa   \n",
      "\n",
      "                                               message  \n",
      "305  Good Afternoon Yvonne  Dear, if you were aware...  \n"
     ]
    },
    {
     "name": "stderr",
     "output_type": "stream",
     "text": [
      "2023-12-05 17:44:19,692 - DEBUG - Row appended for chat file: WhatsApp Chat with Yvonne EWYL23E0022.txt\n"
     ]
    },
    {
     "name": "stdout",
     "output_type": "stream",
     "text": [
      "ENTER THE LOOP:               datetime            sender  \\\n",
      "338 2023-12-04 14:31:00  +263 78 806 8323   \n",
      "339 2023-12-04 14:35:00    Jasmine Edoofa   \n",
      "340 2023-12-04 14:37:00  +263 78 806 8323   \n",
      "341 2023-12-04 14:39:00    Jasmine Edoofa   \n",
      "\n",
      "                                               message  \n",
      "338                                    <Media omitted>  \n",
      "339  Zolani, Please allow me some time. I will get ...  \n",
      "340  Please do so, I have to be having the admit ca...  \n",
      "341                                        Okay Zolani  \n"
     ]
    },
    {
     "name": "stderr",
     "output_type": "stream",
     "text": [
      "2023-12-05 17:44:20,071 - DEBUG - Row appended for chat file: WhatsApp Chat with Zolani EWYL22E1263.txt\n"
     ]
    },
    {
     "name": "stdout",
     "output_type": "stream",
     "text": [
      "ENTER THE LOOP:              datetime            sender  \\\n",
      "34 2023-12-04 14:47:00     Saloni Edoofa   \n",
      "35 2023-12-04 14:47:00     Saloni Edoofa   \n",
      "36 2023-12-04 14:48:00     Saloni Edoofa   \n",
      "37 2023-12-04 14:55:00  +263 71 941 0618   \n",
      "\n",
      "                                              message  \n",
      "34                  Good afternoon Ammy! How are you?  \n",
      "35  We can have our sessions from tomorrow onwards...  \n",
      "36              I am really excited for this journey🔥  \n",
      "37                                  Noted with thanks  \n"
     ]
    },
    {
     "name": "stderr",
     "output_type": "stream",
     "text": [
      "2023-12-05 17:44:20,327 - DEBUG - Row appended for chat file: WhatsApp Chat with Ammy EWYL22E1242.txt\n"
     ]
    },
    {
     "name": "stdout",
     "output_type": "stream",
     "text": [
      "ENTER THE LOOP:               datetime         sender  \\\n",
      "182 2023-12-04 14:30:00  Saloni Edoofa   \n",
      "183 2023-12-04 14:31:00  Saloni Edoofa   \n",
      "\n",
      "                                               message  \n",
      "182                  Good evening Andrew, How are you?  \n",
      "183  Great job on submitting the form! I've forward...  \n"
     ]
    },
    {
     "name": "stderr",
     "output_type": "stream",
     "text": [
      "2023-12-05 17:44:20,625 - DEBUG - Row appended for chat file: WhatsApp Chat with Andrew EWYL21E0459.txt\n"
     ]
    },
    {
     "name": "stdout",
     "output_type": "stream",
     "text": [
      "ENTER THE LOOP:               datetime         sender  \\\n",
      "231 2023-12-04 15:45:00  Saloni Edoofa   \n",
      "232 2023-12-04 15:48:00  Saloni Edoofa   \n",
      "\n",
      "                                               message  \n",
      "231  Good evening Angeline and parent, Hope you are...  \n",
      "232                      I have noted this, thank you!  \n"
     ]
    },
    {
     "name": "stderr",
     "output_type": "stream",
     "text": [
      "2023-12-05 17:44:20,954 - DEBUG - Row appended for chat file: WhatsApp Chat with Angeline EWYL23E0018.txt\n"
     ]
    },
    {
     "name": "stdout",
     "output_type": "stream",
     "text": [
      "ENTER THE LOOP:               datetime            sender  \\\n",
      "235 2023-12-04 08:23:00     Saloni Edoofa   \n",
      "236 2023-12-04 09:05:00     Saloni Edoofa   \n",
      "237 2023-12-04 09:24:00  +263 77 338 5382   \n",
      "238 2023-12-04 09:25:00  +263 77 338 5382   \n",
      "239 2023-12-04 09:26:00  +263 77 338 5382   \n",
      "240 2023-12-04 09:26:00  +263 77 338 5382   \n",
      "241 2023-12-04 09:28:00     Saloni Edoofa   \n",
      "242 2023-12-04 09:28:00     Saloni Edoofa   \n",
      "243 2023-12-04 09:39:00  +263 77 338 5382   \n",
      "244 2023-12-04 09:47:00     Saloni Edoofa   \n",
      "245 2023-12-04 09:48:00     Saloni Edoofa   \n",
      "246 2023-12-04 09:49:00  +263 77 338 5382   \n",
      "247 2023-12-04 09:51:00     Saloni Edoofa   \n",
      "248 2023-12-04 09:51:00  +263 77 338 5382   \n",
      "249 2023-12-04 10:03:00     Saloni Edoofa   \n",
      "\n",
      "                                               message  \n",
      "235  Greetings of the day! How did your weekend go?...  \n",
      "236                     May we begin with our session?  \n",
      "237                                       Good morning  \n",
      "238                                My weekend was good  \n",
      "239     Am using my father's phone mine is not working  \n",
      "240                                                Yes  \n",
      "241           Sure, no worries, I can understand that.  \n",
      "242  I'm thrilled about our academic journey! 🚀 Let...  \n",
      "243                                               Okay  \n",
      "244  We’re ready to begin your EWYL program now, an...  \n",
      "245                                    <Media omitted>  \n",
      "246                                Ýes well understood  \n",
      "247        Once you read the document, do let me know.  \n",
      "248                                               Okay  \n",
      "249  As we wrap up today's session, I'm eager to re...  \n"
     ]
    },
    {
     "name": "stderr",
     "output_type": "stream",
     "text": [
      "2023-12-05 17:44:21,266 - DEBUG - Row appended for chat file: WhatsApp Chat with Arthur EWYL21E0566.txt\n"
     ]
    },
    {
     "name": "stdout",
     "output_type": "stream",
     "text": [
      "ENTER THE LOOP:               datetime         sender  \\\n",
      "139 2023-12-04 08:34:00  Saloni Edoofa   \n",
      "\n",
      "                                               message  \n",
      "139  Greetings of the day! How did your weekend go?...  \n"
     ]
    },
    {
     "name": "stderr",
     "output_type": "stream",
     "text": [
      "2023-12-05 17:44:21,563 - DEBUG - Row appended for chat file: WhatsApp Chat with Artwell EWYL23E0547.txt\n",
      "2023-12-05 17:44:21,813 - DEBUG - Row appended for chat file: WhatsApp Chat with Audrey EWYL22E0747.txt\n"
     ]
    },
    {
     "name": "stdout",
     "output_type": "stream",
     "text": [
      "ENTER THE LOOP:              datetime            sender  \\\n",
      "47 2023-12-04 08:45:00     Saloni Edoofa   \n",
      "48 2023-12-04 08:49:00     Saloni Edoofa   \n",
      "49 2023-12-04 10:11:00  +263 78 761 4784   \n",
      "\n",
      "                                              message  \n",
      "47                           This message was deleted  \n",
      "48  Good morning Audrey! How are you?  This week w...  \n",
      "49                                Greetings Ms Saloni  \n",
      "ENTER THE LOOP:               datetime         sender  \\\n",
      "163 2023-12-04 08:18:00  Saloni Edoofa   \n",
      "164 2023-12-04 13:34:00  Saloni Edoofa   \n",
      "\n",
      "                                               message  \n",
      "163  Greetings of the day! How did your weekend go?...  \n",
      "164                     May we begin with our session🚀  \n"
     ]
    },
    {
     "name": "stderr",
     "output_type": "stream",
     "text": [
      "2023-12-05 17:44:22,120 - DEBUG - Row appended for chat file: WhatsApp Chat with Audrey EWYL22E1024.txt\n"
     ]
    },
    {
     "name": "stdout",
     "output_type": "stream",
     "text": [
      "ENTER THE LOOP:               datetime           sender  \\\n",
      "209 2023-12-04 15:04:00    Saloni Edoofa   \n",
      "210 2023-12-04 15:05:00  +91 78883 87558   \n",
      "211 2023-12-04 15:05:00  +91 78883 87558   \n",
      "212 2023-12-04 15:10:00    Saloni Edoofa   \n",
      "\n",
      "                                               message  \n",
      "209  Good evening, Barnabas,  I hope this message f...  \n",
      "210                                 How are you mentor  \n",
      "211  I had classes and ca on Saturday and I had to ...  \n",
      "212                                    <Media omitted>  \n"
     ]
    },
    {
     "name": "stderr",
     "output_type": "stream",
     "text": [
      "2023-12-05 17:44:22,407 - DEBUG - Row appended for chat file: WhatsApp Chat with Barnabas EWYL22E0666.txt\n"
     ]
    },
    {
     "name": "stdout",
     "output_type": "stream",
     "text": [
      "ENTER THE LOOP:               datetime            sender  \\\n",
      "271 2023-12-04 08:50:00     Saloni Edoofa   \n",
      "272 2023-12-04 09:23:00  +263 71 680 2311   \n",
      "273 2023-12-04 12:05:00     Saloni Edoofa   \n",
      "\n",
      "                                               message  \n",
      "271  Good morning Benvolence! How are you?  This we...  \n",
      "272                           Okay i will try to do so  \n",
      "273                      EWYL Line.vcf (file attached)  \n"
     ]
    },
    {
     "name": "stderr",
     "output_type": "stream",
     "text": [
      "2023-12-05 17:44:22,750 - DEBUG - Row appended for chat file: WhatsApp Chat with Benvolence EWYL23E0242.txt\n",
      "2023-12-05 17:44:23,031 - DEBUG - Row appended for chat file: WhatsApp Chat with Bilmont EWYL22E1119.txt\n"
     ]
    },
    {
     "name": "stdout",
     "output_type": "stream",
     "text": [
      "ENTER THE LOOP:              datetime         sender  \\\n",
      "28 2023-12-04 12:31:00  Saloni Edoofa   \n",
      "29 2023-12-04 12:32:00  Saloni Edoofa   \n",
      "\n",
      "                                              message  \n",
      "28               Good afternoon Bilmont! How are you?  \n",
      "29  May I know *when can we begin with our EWYL Se...  \n",
      "ENTER THE LOOP:               datetime            sender  \\\n",
      "297 2023-12-04 08:23:00     Saloni Edoofa   \n",
      "298 2023-12-04 08:33:00  +263 78 906 8027   \n",
      "299 2023-12-04 09:06:00     Saloni Edoofa   \n",
      "300 2023-12-04 09:14:00  +263 78 906 8027   \n",
      "301 2023-12-04 09:18:00     Saloni Edoofa   \n",
      "302 2023-12-04 09:18:00     Saloni Edoofa   \n",
      "303 2023-12-04 09:18:00     Saloni Edoofa   \n",
      "304 2023-12-04 09:18:00     Saloni Edoofa   \n",
      "305 2023-12-04 09:18:00     Saloni Edoofa   \n",
      "306 2023-12-04 09:20:00  +263 78 906 8027   \n",
      "307 2023-12-04 09:20:00  +263 78 906 8027   \n",
      "308 2023-12-04 09:23:00     Saloni Edoofa   \n",
      "309 2023-12-04 09:26:00  +263 78 906 8027   \n",
      "310 2023-12-04 09:28:00     Saloni Edoofa   \n",
      "311 2023-12-04 09:32:00  +263 78 906 8027   \n",
      "312 2023-12-04 09:35:00     Saloni Edoofa   \n",
      "313 2023-12-04 09:37:00  +263 78 906 8027   \n",
      "314 2023-12-04 09:39:00     Saloni Edoofa   \n",
      "315 2023-12-04 09:40:00  +263 78 906 8027   \n",
      "316 2023-12-04 09:40:00  +263 78 906 8027   \n",
      "317 2023-12-04 09:41:00  +263 78 906 8027   \n",
      "318 2023-12-04 09:42:00  +263 78 906 8027   \n",
      "319 2023-12-04 09:47:00     Saloni Edoofa   \n",
      "320 2023-12-04 09:48:00  +263 78 906 8027   \n",
      "321 2023-12-04 09:49:00  +263 78 906 8027   \n",
      "322 2023-12-04 09:50:00     Saloni Edoofa   \n",
      "323 2023-12-04 09:51:00  +263 78 906 8027   \n",
      "324 2023-12-04 09:51:00     Saloni Edoofa   \n",
      "325 2023-12-04 09:51:00     Saloni Edoofa   \n",
      "326 2023-12-04 09:51:00     Saloni Edoofa   \n",
      "327 2023-12-04 09:51:00     Saloni Edoofa   \n",
      "328 2023-12-04 09:51:00  +263 78 906 8027   \n",
      "329 2023-12-04 09:53:00     Saloni Edoofa   \n",
      "330 2023-12-04 10:03:00     Saloni Edoofa   \n",
      "\n",
      "                                               message  \n",
      "297  Greetings of the day! How did your weekend go?...  \n",
      "298                                          It was ok  \n",
      "299                     May we begin with our session?  \n",
      "300                                                 Ok  \n",
      "301  Now that you have the School Head’s Contact, I...  \n",
      "302  The advantage here is that I will be helping y...  \n",
      "303  _So, This is what the First message should loo...  \n",
      "304  Greetings Mr./Mrs *School Head Name*! Hope you...  \n",
      "305  Once you get a response from the school head a...  \n",
      "306                                                 Ok  \n",
      "307                        So what time should that be  \n",
      "308  Once the headmaster says that they are willing...  \n",
      "309                                                 Ok  \n",
      "310  Now, Bradley- we’ve come to the end of one par...  \n",
      "311  Ok in project number 2 poeple have applied ,wh...  \n",
      "312  Share their filled form with me, here in the E...  \n",
      "313                                                 Ok  \n",
      "314  Are you sharing it with me now? <This message ...  \n",
      "315  *Offline Application Form*  Student Name: Juli...  \n",
      "316                                                Yes  \n",
      "317  *Offline Application Form*  Student Name: Rona...  \n",
      "318  *Offline Application Form*  Student Name: Mude...  \n",
      "319  Excellent job on submitting the forms! I've pr...  \n",
      "320                                                 Ok  \n",
      "321                                          Thank you  \n",
      "322  Let me share more resources with you that you ...  \n",
      "323                                                 Ok  \n",
      "324                                    <Media omitted>  \n",
      "325                                    <Media omitted>  \n",
      "326                                    <Media omitted>  \n",
      "327                                    <Media omitted>  \n",
      "328                                          Thank you  \n",
      "329     Once you go through the media, do let me know.  \n",
      "330  As we wrap up today's session, I'm eager to re...  \n"
     ]
    },
    {
     "name": "stderr",
     "output_type": "stream",
     "text": [
      "2023-12-05 17:44:23,495 - DEBUG - Row appended for chat file: WhatsApp Chat with BRADLEY EWYL22E1144.txt\n"
     ]
    },
    {
     "name": "stdout",
     "output_type": "stream",
     "text": [
      "ENTER THE LOOP:              datetime            sender  \\\n",
      "76 2023-12-04 09:33:00     Saloni Edoofa   \n",
      "77 2023-12-04 09:48:00  +263 71 978 3076   \n",
      "78 2023-12-04 14:52:00     Saloni Edoofa   \n",
      "79 2023-12-04 14:52:00     Saloni Edoofa   \n",
      "80 2023-12-04 14:52:00  +263 71 978 3076   \n",
      "81 2023-12-04 16:11:00     Saloni Edoofa   \n",
      "82 2023-12-04 16:29:00  +263 71 978 3076   \n",
      "\n",
      "                                              message  \n",
      "76            Good morning Bright! How are you doing?  \n",
      "77                       I'm doing good how are you ?  \n",
      "78                        I am doing well, thank you.  \n",
      "79  Now that your exams are behind you, I hope you...  \n",
      "80  the exams were okay thank you ... we can begin...  \n",
      "81  Would you like to start learning the projects ...  \n",
      "82                      okay maybe the projects again  \n"
     ]
    },
    {
     "name": "stderr",
     "output_type": "stream",
     "text": [
      "2023-12-05 17:44:23,860 - DEBUG - Row appended for chat file: WhatsApp Chat with Bright EWYL22E1216.txt\n"
     ]
    },
    {
     "name": "stdout",
     "output_type": "stream",
     "text": [
      "ENTER THE LOOP:               datetime            sender  \\\n",
      "128 2023-12-04 08:41:00     Saloni Edoofa   \n",
      "129 2023-12-04 09:31:00  +263 71 137 6751   \n",
      "130 2023-12-04 10:03:00     Saloni Edoofa   \n",
      "\n",
      "                                               message  \n",
      "128  Greetings of the day! How did your weekend go?...  \n",
      "129  Goodday miss Saloni may we resume our sessions...  \n",
      "130            May we begin with our exciting session🚀  \n"
     ]
    },
    {
     "name": "stderr",
     "output_type": "stream",
     "text": [
      "2023-12-05 17:44:24,244 - DEBUG - Row appended for chat file: WhatsApp Chat with Caabilo EWYL23E0144.txt\n"
     ]
    },
    {
     "name": "stdout",
     "output_type": "stream",
     "text": [
      "ENTER THE LOOP:               datetime         sender  \\\n",
      "111 2023-12-04 15:10:00  Saloni Edoofa   \n",
      "\n",
      "                                               message  \n",
      "111  Good evening, Chantelle,  I hope this message ...  \n"
     ]
    },
    {
     "name": "stderr",
     "output_type": "stream",
     "text": [
      "2023-12-05 17:44:24,579 - DEBUG - Row appended for chat file: WhatsApp Chat with Chantelle EWYL22E0741.txt\n"
     ]
    },
    {
     "name": "stdout",
     "output_type": "stream",
     "text": [
      "ENTER THE LOOP:               datetime         sender  \\\n",
      "334 2023-12-04 08:20:00  Saloni Edoofa   \n",
      "\n",
      "                                               message  \n",
      "334  Good morning Charity! How are you?  Please fol...  \n"
     ]
    },
    {
     "name": "stderr",
     "output_type": "stream",
     "text": [
      "2023-12-05 17:44:24,969 - DEBUG - Row appended for chat file: WhatsApp Chat with Charity EWYL22E1095.txt\n"
     ]
    },
    {
     "name": "stdout",
     "output_type": "stream",
     "text": [
      "ENTER THE LOOP:               datetime          sender  \\\n",
      "204 2023-12-04 15:10:00   Saloni Edoofa   \n",
      "205 2023-12-04 15:12:00  +260 772555576   \n",
      "206 2023-12-04 15:12:00  +260 772555576   \n",
      "207 2023-12-04 16:11:00   Saloni Edoofa   \n",
      "208 2023-12-04 16:15:00  +260 772555576   \n",
      "\n",
      "                                               message  \n",
      "204  Good evening, Chinyama,  I hope this message f...  \n",
      "205  Sorry for failure to communicate earlier, at t...  \n",
      "206                           From one room to another  \n",
      "207  But Chinyama, the call was scheduled for 45 mi...  \n",
      "208  Yes, that is true, but it was under short noti...  \n"
     ]
    },
    {
     "name": "stderr",
     "output_type": "stream",
     "text": [
      "2023-12-05 17:44:25,397 - DEBUG - Row appended for chat file: WhatsApp Chat with Chinyama EWYL23E0279.txt\n"
     ]
    },
    {
     "name": "stdout",
     "output_type": "stream",
     "text": [
      "ENTER THE LOOP:               datetime         sender  \\\n",
      "184 2023-12-04 14:33:00  Saloni Edoofa   \n",
      "185 2023-12-04 14:33:00  Saloni Edoofa   \n",
      "\n",
      "                                               message  \n",
      "184                  Good evening parent, How are you?  \n",
      "185  I'm truly sorry to hear about the challenges y...  \n"
     ]
    },
    {
     "name": "stderr",
     "output_type": "stream",
     "text": [
      "2023-12-05 17:44:25,831 - DEBUG - Row appended for chat file: WhatsApp Chat with CHRIS EWYL23E0391.txt\n"
     ]
    },
    {
     "name": "stdout",
     "output_type": "stream",
     "text": [
      "ENTER THE LOOP:               datetime           sender                             message\n",
      "363 2023-12-04 14:33:00    Saloni Edoofa  Good evening Clayton, How are you?\n",
      "364 2023-12-04 14:34:00    Saloni Edoofa      Then they can apply for BTech.\n",
      "365 2023-12-04 14:37:00  +91 92891 43211   I'm doing well, hope you are too?\n",
      "366 2023-12-04 14:37:00  +91 92891 43211                      Okay thank you\n",
      "367 2023-12-04 15:44:00    Saloni Edoofa    Yes, I am doing well, thank you!\n"
     ]
    },
    {
     "name": "stderr",
     "output_type": "stream",
     "text": [
      "2023-12-05 17:44:26,349 - DEBUG - Row appended for chat file: WhatsApp Chat with Clayton EWYL22E0436.txt\n"
     ]
    },
    {
     "name": "stdout",
     "output_type": "stream",
     "text": [
      "ENTER THE LOOP:               datetime         sender  \\\n",
      "288 2023-12-04 15:11:00  Saloni Edoofa   \n",
      "\n",
      "                                               message  \n",
      "288  Good evening, Cloudious,  I hope this message ...  \n"
     ]
    },
    {
     "name": "stderr",
     "output_type": "stream",
     "text": [
      "2023-12-05 17:44:26,756 - DEBUG - Row appended for chat file: WhatsApp Chat with Cloudious EWYL23E0015.txt\n",
      "2023-12-05 17:44:27,047 - DEBUG - Row appended for chat file: WhatsApp Chat with Confianca EWYL23E0205.txt\n"
     ]
    },
    {
     "name": "stdout",
     "output_type": "stream",
     "text": [
      "ENTER THE LOOP:              datetime            sender  \\\n",
      "52 2023-12-04 08:32:00     Saloni Edoofa   \n",
      "53 2023-12-04 09:54:00  +263 78 887 2020   \n",
      "54 2023-12-04 10:03:00     Saloni Edoofa   \n",
      "55 2023-12-04 10:10:00  +263 78 887 2020   \n",
      "56 2023-12-04 10:13:00     Saloni Edoofa   \n",
      "57 2023-12-04 10:20:00  +263 78 887 2020   \n",
      "58 2023-12-04 10:31:00     Saloni Edoofa   \n",
      "59 2023-12-04 10:33:00     Saloni Edoofa   \n",
      "60 2023-12-04 10:45:00  +263 78 887 2020   \n",
      "61 2023-12-04 10:49:00     Saloni Edoofa   \n",
      "62 2023-12-04 11:01:00  +263 78 887 2020   \n",
      "63 2023-12-04 11:02:00     Saloni Edoofa   \n",
      "64 2023-12-04 11:02:00     Saloni Edoofa   \n",
      "65 2023-12-04 11:03:00  +263 78 887 2020   \n",
      "66 2023-12-04 11:05:00     Saloni Edoofa   \n",
      "\n",
      "                                              message  \n",
      "52  Greetings of the day! How did your weekend go?...  \n",
      "53            Greetings Ms Saloni I'm available today  \n",
      "54            May we begin with our exciting session🚀  \n",
      "55                                         Yes please  \n",
      "56  I'm thrilled about our academic journey! 🚀 Let...  \n",
      "57                                               Sure  \n",
      "58  We’re ready to begin your EWYL program now, an...  \n",
      "59                                    <Media omitted>  \n",
      "60                                            Alright  \n",
      "61        Once you read the document, do let me know.  \n",
      "62        I have gone through the document thoroughly  \n",
      "63  As we wrap up today's session, I'm eager to re...  \n",
      "64                We will surely discuss it tomorrow.  \n",
      "65    Thank you mentor and enjoy the rest of your day  \n",
      "66                                You too, Confianca!  \n",
      "ENTER THE LOOP:               datetime            sender  \\\n",
      "421 2023-12-04 08:34:00     Saloni Edoofa   \n",
      "422 2023-12-04 08:35:00     Saloni Edoofa   \n",
      "423 2023-12-04 10:04:00     Saloni Edoofa   \n",
      "424 2023-12-04 10:10:00  +263 78 865 5559   \n",
      "425 2023-12-04 10:14:00     Saloni Edoofa   \n",
      "426 2023-12-04 10:15:00  +263 78 865 5559   \n",
      "427 2023-12-04 10:19:00  +263 78 865 5559   \n",
      "428 2023-12-04 10:22:00     Saloni Edoofa   \n",
      "429 2023-12-04 10:22:00     Saloni Edoofa   \n",
      "430 2023-12-04 10:22:00  +263 78 865 5559   \n",
      "431 2023-12-04 10:23:00  +263 78 865 5559   \n",
      "432 2023-12-04 10:34:00     Saloni Edoofa   \n",
      "433 2023-12-04 10:35:00     Saloni Edoofa   \n",
      "434 2023-12-04 10:38:00  +263 78 865 5559   \n",
      "435 2023-12-04 10:38:00  +263 78 865 5559   \n",
      "436 2023-12-04 10:41:00  +263 78 865 5559   \n",
      "437 2023-12-04 10:43:00     Saloni Edoofa   \n",
      "438 2023-12-04 10:44:00  +263 78 865 5559   \n",
      "439 2023-12-04 10:47:00     Saloni Edoofa   \n",
      "440 2023-12-04 10:47:00     Saloni Edoofa   \n",
      "441 2023-12-04 10:47:00     Saloni Edoofa   \n",
      "442 2023-12-04 10:47:00     Saloni Edoofa   \n",
      "443 2023-12-04 10:47:00     Saloni Edoofa   \n",
      "444 2023-12-04 10:47:00     Saloni Edoofa   \n",
      "445 2023-12-04 10:47:00     Saloni Edoofa   \n",
      "446 2023-12-04 10:47:00     Saloni Edoofa   \n",
      "447 2023-12-04 10:49:00  +263 78 865 5559   \n",
      "448 2023-12-04 10:49:00  +263 78 865 5559   \n",
      "449 2023-12-04 10:50:00  +263 78 865 5559   \n",
      "450 2023-12-04 10:50:00  +263 78 865 5559   \n",
      "451 2023-12-04 10:51:00  +263 78 865 5559   \n",
      "452 2023-12-04 10:55:00     Saloni Edoofa   \n",
      "453 2023-12-04 10:55:00     Saloni Edoofa   \n",
      "454 2023-12-04 10:57:00  +263 78 865 5559   \n",
      "455 2023-12-04 10:59:00     Saloni Edoofa   \n",
      "456 2023-12-04 11:05:00  +263 78 865 5559   \n",
      "457 2023-12-04 11:05:00  +263 78 865 5559   \n",
      "\n",
      "                                               message  \n",
      "421  Greetings of the day! How did your weekend go?...  \n",
      "422             We will discuss our way forward today.  \n",
      "423            May we begin with our exciting session🚀  \n",
      "424                      Good morning yes we may start  \n",
      "425  How was the meeting Deborah with the school te...  \n",
      "426  It went well she said that she will talk to th...  \n",
      "427  Ummmmm about the group l have people who joine...  \n",
      "428  Well that sounds very positive, when will she ...  \n",
      "429  Share the media with them and help them to kno...  \n",
      "430                      Am not sure she just promised  \n",
      "431                                       Ok thank you  \n",
      "432           Can you take a follow up from her today?  \n",
      "433  Now, Deborah- we’ve come to the end of one par...  \n",
      "434                                                 Ok  \n",
      "435                                                 Ok  \n",
      "436  I would like to say for now l think its clear ...  \n",
      "437        That is great, I am delighted to hear that!  \n",
      "438                                       Ok thank you  \n",
      "439  So now we are ready to move to move to an amaz...  \n",
      "440  Please note a few things: FIRST- Please note t...  \n",
      "441  SECOND- In our sessions (*TUESDAY and FRIDAY*)...  \n",
      "442  THIRD- All our conversations from now on will ...  \n",
      "443                      EWYL Line.vcf (file attached)  \n",
      "444  FOURTH- You have to come on the EWYL Line and ...  \n",
      "445  FIFTH- Every day you have to come and say *\"I ...  \n",
      "446  It serves as a link between each and every stu...  \n",
      "447                                       Ok thank you  \n",
      "448                                                 Ok  \n",
      "449                                                 Ok  \n",
      "450                                                 Ok  \n",
      "451                                         Understand  \n",
      "452  Deborah, I also want to share an audio, that t...  \n",
      "453                                    <Media omitted>  \n",
      "454                                                 Ok  \n",
      "455                                Have you done this?  \n",
      "456                                          I am done  \n",
      "457                                    Ok l understand  \n"
     ]
    },
    {
     "name": "stderr",
     "output_type": "stream",
     "text": [
      "2023-12-05 17:44:27,498 - DEBUG - Row appended for chat file: WhatsApp Chat with Deborah EWYL23E0585.txt\n"
     ]
    },
    {
     "name": "stdout",
     "output_type": "stream",
     "text": [
      "ENTER THE LOOP:               datetime           sender  \\\n",
      "172 2023-12-04 15:11:00    Saloni Edoofa   \n",
      "173 2023-12-04 18:37:00  +91 89684 46247   \n",
      "\n",
      "                                               message  \n",
      "172  Good evening, Denzel,  I hope this message fin...  \n",
      "173  Ma'am i was in a at my landlords place getting...  \n"
     ]
    },
    {
     "name": "stderr",
     "output_type": "stream",
     "text": [
      "2023-12-05 17:44:27,826 - DEBUG - Row appended for chat file: WhatsApp Chat with DENZEL EWYL22E1253.txt\n"
     ]
    },
    {
     "name": "stdout",
     "output_type": "stream",
     "text": [
      "ENTER THE LOOP:               datetime            sender  \\\n",
      "208 2023-12-04 15:12:00     Saloni Edoofa   \n",
      "209 2023-12-04 16:01:00  +263 77 574 3576   \n",
      "\n",
      "                                               message  \n",
      "208  Good evening, Dezyline,  I hope this message f...  \n",
      "209      Evening ma’am I was present on the call ma’am  \n"
     ]
    },
    {
     "name": "stderr",
     "output_type": "stream",
     "text": [
      "2023-12-05 17:44:28,157 - DEBUG - Row appended for chat file: WhatsApp Chat with Dezyline EWYL22E0752.txt\n"
     ]
    },
    {
     "name": "stdout",
     "output_type": "stream",
     "text": [
      "ENTER THE LOOP:              datetime            sender  \\\n",
      "82 2023-12-04 08:41:00     Saloni Edoofa   \n",
      "83 2023-12-04 09:23:00  +263 78 019 2260   \n",
      "84 2023-12-04 09:24:00     Saloni Edoofa   \n",
      "85 2023-12-04 09:25:00  +263 78 019 2260   \n",
      "86 2023-12-04 10:03:00     Saloni Edoofa   \n",
      "87 2023-12-04 10:04:00  +263 78 019 2260   \n",
      "88 2023-12-04 10:05:00     Saloni Edoofa   \n",
      "\n",
      "                                              message  \n",
      "82  Greetings of the day! How did your weekend go?...  \n",
      "83  Hello how are you ? The weekend was OK and eve...  \n",
      "84                       I am doing great, thank you!  \n",
      "85                                     You're welcome  \n",
      "86            May we begin with our exciting session🚀  \n",
      "87                                     OK let's begin  \n",
      "88  I'm thrilled about our academic journey! 🚀 Let...  \n"
     ]
    },
    {
     "name": "stderr",
     "output_type": "stream",
     "text": [
      "2023-12-05 17:44:28,454 - DEBUG - Row appended for chat file: WhatsApp Chat with Ethan EWYL22E0530.txt\n"
     ]
    },
    {
     "name": "stdout",
     "output_type": "stream",
     "text": [
      "ENTER THE LOOP:               datetime             sender  \\\n",
      "494 2023-12-04 11:07:00      Saloni Edoofa   \n",
      "495 2023-12-04 11:09:00      Saloni Edoofa   \n",
      "496 2023-12-04 12:18:00  +265 993 98 66 79   \n",
      "497 2023-12-04 12:31:00      Saloni Edoofa   \n",
      "498 2023-12-04 12:41:00  +265 993 98 66 79   \n",
      "\n",
      "                                               message  \n",
      "494               Good afternoon Gervais, How are you?  \n",
      "495  Your commitment to committee development for t...  \n",
      "496              Thanks ma'am  i will do my best on it  \n",
      "497                                I am sure you will!  \n",
      "498                           Later ma'am  gotta study  \n"
     ]
    },
    {
     "name": "stderr",
     "output_type": "stream",
     "text": [
      "2023-12-05 17:44:29,126 - DEBUG - Row appended for chat file: WhatsApp Chat with Gervais EWYL22E1186.txt\n"
     ]
    },
    {
     "name": "stdout",
     "output_type": "stream",
     "text": [
      "ENTER THE LOOP:               datetime         sender  \\\n",
      "221 2023-12-04 15:16:00  Saloni Edoofa   \n",
      "\n",
      "                                               message  \n",
      "221  Good evening, Grace,  I hope this message find...  \n"
     ]
    },
    {
     "name": "stderr",
     "output_type": "stream",
     "text": [
      "2023-12-05 17:44:29,687 - DEBUG - Row appended for chat file: WhatsApp Chat with Grace EWYL23E0201.txt\n"
     ]
    },
    {
     "name": "stdout",
     "output_type": "stream",
     "text": [
      "ENTER THE LOOP:               datetime         sender  \\\n",
      "237 2023-12-04 08:51:00  Saloni Edoofa   \n",
      "\n",
      "                                               message  \n",
      "237  Good morning Hasting! How are you?  This week ...  \n"
     ]
    },
    {
     "name": "stderr",
     "output_type": "stream",
     "text": [
      "2023-12-05 17:44:30,234 - DEBUG - Row appended for chat file: WhatsApp Chat with Hasting EWYL23E0519.txt\n"
     ]
    },
    {
     "name": "stdout",
     "output_type": "stream",
     "text": [
      "ENTER THE LOOP:               datetime           sender  \\\n",
      "185 2023-12-04 15:12:00    Saloni Edoofa   \n",
      "186 2023-12-04 16:49:00  +91 89688 02864   \n",
      "\n",
      "                                               message  \n",
      "185  Good evening, Heggah,  I hope this message fin...  \n",
      "186  Greetings of the day ma'am I wasn't able to jo...  \n"
     ]
    },
    {
     "name": "stderr",
     "output_type": "stream",
     "text": [
      "2023-12-05 17:44:30,899 - DEBUG - Row appended for chat file: WhatsApp Chat with Heggah EWYL22E1270.txt\n"
     ]
    },
    {
     "name": "stdout",
     "output_type": "stream",
     "text": [
      "ENTER THE LOOP:               datetime            sender  \\\n",
      "246 2023-12-04 14:40:00     Saloni Edoofa   \n",
      "247 2023-12-04 14:40:00     Saloni Edoofa   \n",
      "248 2023-12-04 14:41:00     Saloni Edoofa   \n",
      "249 2023-12-04 14:42:00  +91 6280 421 093   \n",
      "250 2023-12-04 14:42:00     Saloni Edoofa   \n",
      "251 2023-12-04 14:42:00  +91 6280 421 093   \n",
      "\n",
      "                                               message  \n",
      "246                 Good evening Hilario, How are you?  \n",
      "247  I have received the link of your LinkedIn prof...  \n",
      "248                                    <Media omitted>  \n",
      "249                                            Will do  \n",
      "250                                    <Media omitted>  \n",
      "251                                               Okay  \n"
     ]
    },
    {
     "name": "stderr",
     "output_type": "stream",
     "text": [
      "2023-12-05 17:44:31,526 - DEBUG - Row appended for chat file: WhatsApp Chat with Hilario EWYL22E1267.txt\n"
     ]
    },
    {
     "name": "stdout",
     "output_type": "stream",
     "text": [
      "ENTER THE LOOP:              datetime         sender  \\\n",
      "25 2023-12-04 08:52:00  Saloni Edoofa   \n",
      "\n",
      "                                              message  \n",
      "25  Good morning Ian! How are you?  This week we w...  \n"
     ]
    },
    {
     "name": "stderr",
     "output_type": "stream",
     "text": [
      "2023-12-05 17:44:31,944 - DEBUG - Row appended for chat file: WhatsApp Chat with Ian EWYL22E0587.txt\n"
     ]
    },
    {
     "name": "stdout",
     "output_type": "stream",
     "text": [
      "ENTER THE LOOP:              datetime            sender  \\\n",
      "80 2023-12-04 14:50:00     Saloni Edoofa   \n",
      "81 2023-12-04 15:17:00  +263 71 993 4706   \n",
      "82 2023-12-04 16:15:00     Saloni Edoofa   \n",
      "83 2023-12-04 16:16:00     Saloni Edoofa   \n",
      "84 2023-12-04 16:18:00  +263 71 993 4706   \n",
      "\n",
      "                                              message  \n",
      "80  Good evening Innocent and parent,  Here is the...  \n",
      "81  Hie .How is going . It's been a while since we...  \n",
      "82  Good evening Innocent,  Everything is going we...  \n",
      "83  That is great, you will have your sessions fro...  \n",
      "84                                       Ok Ms Saloni  \n"
     ]
    },
    {
     "name": "stderr",
     "output_type": "stream",
     "text": [
      "2023-12-05 17:44:32,336 - DEBUG - Row appended for chat file: WhatsApp Chat with Innocent EWYL22E0879.txt\n"
     ]
    },
    {
     "name": "stdout",
     "output_type": "stream",
     "text": [
      "ENTER THE LOOP:              datetime            sender  \\\n",
      "57 2023-12-04 11:06:00     Saloni Edoofa   \n",
      "58 2023-12-04 12:16:00  +263 77 284 3919   \n",
      "59 2023-12-04 14:53:00     Saloni Edoofa   \n",
      "60 2023-12-04 15:53:00  +263 77 284 3919   \n",
      "\n",
      "                                              message  \n",
      "57  Good morning Ireen,  Can you please share the ...  \n",
      "58  I want to help my family financial hence have ...  \n",
      "59  But there are Universities that offer scholars...  \n",
      "60              I didn't know about such universities  \n"
     ]
    },
    {
     "name": "stderr",
     "output_type": "stream",
     "text": [
      "2023-12-05 17:44:32,695 - DEBUG - Row appended for chat file: WhatsApp Chat with Ireen EWYL22E1148.txt\n"
     ]
    },
    {
     "name": "stdout",
     "output_type": "stream",
     "text": [
      "ENTER THE LOOP:               datetime            sender  \\\n",
      "143 2023-12-04 08:25:00     Saloni Edoofa   \n",
      "144 2023-12-04 08:25:00     Saloni Edoofa   \n",
      "145 2023-12-04 08:58:00  +263 78 514 7468   \n",
      "146 2023-12-04 08:58:00  +263 78 514 7468   \n",
      "147 2023-12-04 09:05:00     Saloni Edoofa   \n",
      "148 2023-12-04 09:06:00  +263 78 514 7468   \n",
      "149 2023-12-04 09:09:00     Saloni Edoofa   \n",
      "150 2023-12-04 09:09:00     Saloni Edoofa   \n",
      "151 2023-12-04 09:10:00     Saloni Edoofa   \n",
      "152 2023-12-04 09:26:00  +263 78 514 7468   \n",
      "153 2023-12-04 09:28:00     Saloni Edoofa   \n",
      "154 2023-12-04 10:03:00     Saloni Edoofa   \n",
      "\n",
      "                                               message  \n",
      "143  Greetings of the day! How did your weekend go?...  \n",
      "144  This is of course, we will discuss today in ou...  \n",
      "145                           Good morning  Ms Saloni.  \n",
      "146          Iam available  for today's session  Maam.  \n",
      "147                     May we begin with our session?  \n",
      "148                     We can begin our session Maam.  \n",
      "149  You know what Irvine, this is fantastic! This ...  \n",
      "150  Okay- now here are 2 things I would like to br...  \n",
      "151  2, and the fun part- I’m sure you read about S...  \n",
      "152                     Ohh,thank you very much Maam🙏.  \n",
      "153  Do you have any questions about this, Irvine? ...  \n",
      "154  As we wrap up today's session, I'm eager to re...  \n"
     ]
    },
    {
     "name": "stderr",
     "output_type": "stream",
     "text": [
      "2023-12-05 17:44:33,179 - DEBUG - Row appended for chat file: WhatsApp Chat with Irvine EWYL23E0112.txt\n"
     ]
    },
    {
     "name": "stdout",
     "output_type": "stream",
     "text": [
      "ENTER THE LOOP:               datetime           sender  \\\n",
      "220 2023-12-04 15:12:00    Saloni Edoofa   \n",
      "221 2023-12-04 17:04:00  +91 97791 63672   \n",
      "\n",
      "                                               message  \n",
      "220  Good evening, Ivy,  I hope this message finds ...  \n",
      "221  Greetings ma'am i was late for the call so my ...  \n"
     ]
    },
    {
     "name": "stderr",
     "output_type": "stream",
     "text": [
      "2023-12-05 17:44:33,665 - DEBUG - Row appended for chat file: WhatsApp Chat with Ivy EWYL22E1298.txt\n"
     ]
    },
    {
     "name": "stdout",
     "output_type": "stream",
     "text": [
      "ENTER THE LOOP:               datetime         sender  \\\n",
      "186 2023-12-04 15:12:00  Saloni Edoofa   \n",
      "\n",
      "                                               message  \n",
      "186  Good evening, Jenipher,  I hope this message f...  \n"
     ]
    },
    {
     "name": "stderr",
     "output_type": "stream",
     "text": [
      "2023-12-05 17:44:34,032 - DEBUG - Row appended for chat file: WhatsApp Chat with Jenipher EWYL22E0036.txt\n"
     ]
    },
    {
     "name": "stdout",
     "output_type": "stream",
     "text": [
      "ENTER THE LOOP:               datetime          sender  \\\n",
      "334 2023-12-04 15:12:00   Saloni Edoofa   \n",
      "335 2023-12-04 20:52:00  +260 770988977   \n",
      "\n",
      "                                               message  \n",
      "334  Good evening, Juliet,  I hope this message fin...  \n",
      "335  How are you I'm sorry but my phone has a probl...  \n"
     ]
    },
    {
     "name": "stderr",
     "output_type": "stream",
     "text": [
      "2023-12-05 17:44:34,445 - DEBUG - Row appended for chat file: WhatsApp Chat with Juliet EWYL22E1125.txt\n"
     ]
    },
    {
     "name": "stdout",
     "output_type": "stream",
     "text": [
      "ENTER THE LOOP:               datetime           sender  \\\n",
      "307 2023-12-04 15:43:00    Saloni Edoofa   \n",
      "308 2023-12-04 17:19:00  +91 73473 53880   \n",
      "\n",
      "                                               message  \n",
      "307     Good evening Justin,  How are you feeling now?  \n",
      "308  Good evening ma'am  I am doing well  Did I mis...  \n"
     ]
    },
    {
     "name": "stderr",
     "output_type": "stream",
     "text": [
      "2023-12-05 17:44:34,834 - DEBUG - Row appended for chat file: WhatsApp Chat with Justine EWYL21E0737.txt\n"
     ]
    },
    {
     "name": "stdout",
     "output_type": "stream",
     "text": [
      "ENTER THE LOOP:               datetime         sender  \\\n",
      "392 2023-12-04 14:13:00  Saloni Edoofa   \n",
      "\n",
      "                                               message  \n",
      "392  Good afternoon Kirsty, How are you?  Today, I ...  \n"
     ]
    },
    {
     "name": "stderr",
     "output_type": "stream",
     "text": [
      "2023-12-05 17:44:35,226 - DEBUG - Row appended for chat file: WhatsApp Chat with Kirsty EWYL23E0457.txt\n"
     ]
    },
    {
     "name": "stdout",
     "output_type": "stream",
     "text": [
      "ENTER THE LOOP:               datetime            sender  \\\n",
      "218 2023-12-04 09:06:00     Saloni Edoofa   \n",
      "219 2023-12-04 11:15:00  +263 71 235 5140   \n",
      "\n",
      "                                               message  \n",
      "218  Good morning Kubiku! How are you?  This week w...  \n",
      "219                                     okay thank you  \n"
     ]
    },
    {
     "name": "stderr",
     "output_type": "stream",
     "text": [
      "2023-12-05 17:44:35,560 - DEBUG - Row appended for chat file: WhatsApp Chat with Kubiku EWYL23E0799.txt\n"
     ]
    },
    {
     "name": "stdout",
     "output_type": "stream",
     "text": [
      "ENTER THE LOOP:               datetime           sender  \\\n",
      "407 2023-12-04 09:31:00    Saloni Edoofa   \n",
      "408 2023-12-04 09:32:00    Saloni Edoofa   \n",
      "409 2023-12-04 09:36:00  +91 86990 97287   \n",
      "\n",
      "                                               message  \n",
      "407            Good afternoon Kudakwashe! How are you?  \n",
      "408  Great job on submitting the form! I've forward...  \n",
      "409                                             Ok mam  \n"
     ]
    },
    {
     "name": "stderr",
     "output_type": "stream",
     "text": [
      "2023-12-05 17:44:35,937 - DEBUG - Row appended for chat file: WhatsApp Chat with Kudakwashe EWYL22E0465.txt\n"
     ]
    },
    {
     "name": "stdout",
     "output_type": "stream",
     "text": [
      "ENTER THE LOOP:               datetime            sender  \\\n",
      "235 2023-12-04 08:36:00     Saloni Edoofa   \n",
      "236 2023-12-04 08:37:00  +263 77 911 5405   \n",
      "237 2023-12-04 10:04:00     Saloni Edoofa   \n",
      "238 2023-12-04 10:06:00  +263 77 911 5405   \n",
      "239 2023-12-04 10:11:00     Saloni Edoofa   \n",
      "240 2023-12-04 10:11:00     Saloni Edoofa   \n",
      "241 2023-12-04 10:11:00     Saloni Edoofa   \n",
      "242 2023-12-04 10:12:00  +263 77 911 5405   \n",
      "243 2023-12-04 10:15:00     Saloni Edoofa   \n",
      "244 2023-12-04 10:21:00  +263 77 911 5405   \n",
      "245 2023-12-04 10:34:00     Saloni Edoofa   \n",
      "246 2023-12-04 10:34:00     Saloni Edoofa   \n",
      "247 2023-12-04 10:34:00     Saloni Edoofa   \n",
      "248 2023-12-04 10:34:00  +263 77 911 5405   \n",
      "249 2023-12-04 10:35:00  +263 77 911 5405   \n",
      "250 2023-12-04 10:36:00  +263 77 911 5405   \n",
      "251 2023-12-04 10:40:00     Saloni Edoofa   \n",
      "252 2023-12-04 10:40:00     Saloni Edoofa   \n",
      "253 2023-12-04 10:43:00  +263 77 911 5405   \n",
      "254 2023-12-04 10:44:00     Saloni Edoofa   \n",
      "255 2023-12-04 10:46:00  +263 77 911 5405   \n",
      "256 2023-12-04 10:51:00     Saloni Edoofa   \n",
      "257 2023-12-04 10:54:00  +263 77 911 5405   \n",
      "258 2023-12-04 10:57:00     Saloni Edoofa   \n",
      "259 2023-12-04 10:57:00     Saloni Edoofa   \n",
      "260 2023-12-04 11:01:00     Saloni Edoofa   \n",
      "261 2023-12-04 11:02:00  +263 77 911 5405   \n",
      "\n",
      "                                               message  \n",
      "235  Greetings of the day! How did your weekend go?...  \n",
      "236  Greetings  of the day to you as well.Thank you...  \n",
      "237            May we begin with our exciting session🚀  \n",
      "238                                         Yes we can  \n",
      "239  Amazing, thanks Leiann. I’m happy with your un...  \n",
      "240  So, I am going to share an extremely significa...  \n",
      "241                                    <Media omitted>  \n",
      "242                                      Alright  maam  \n",
      "243  After you go through this, I would appreciate ...  \n",
      "244  From the document l understood  that the task ...  \n",
      "245  You know what Leiann, this is fantastic! This ...  \n",
      "246  Okay- now here are 2 things I would like to br...  \n",
      "247  2, and the fun part- I’m sure you read about S...  \n",
      "248  Sorry about that l would like to continue. I a...  \n",
      "249                                  Thank you so much  \n",
      "250                       Wow l think that will be fun  \n",
      "251  This is absolutely stunning, you have summed t...  \n",
      "252  1. _Avoid reaching out to large-scale companie...  \n",
      "253                                Thank you very much  \n",
      "254  Do you have any questions about this, Leiann? ...  \n",
      "255  Yes l have a question. My question is why do l...  \n",
      "256  Well, there is no hard and fast rule for the s...  \n",
      "257     Alright thank you very much. I understand that  \n",
      "258  *Leiann, now that we’ve both summarized our un...  \n",
      "259                                    <Media omitted>  \n",
      "260  As we wrap up today's session, I'm eager to re...  \n",
      "261    Thank you very much maam. See you there as well  \n"
     ]
    },
    {
     "name": "stderr",
     "output_type": "stream",
     "text": [
      "2023-12-05 17:44:36,264 - DEBUG - Row appended for chat file: WhatsApp Chat with Leiann EWYL23E0191.txt\n"
     ]
    },
    {
     "name": "stdout",
     "output_type": "stream",
     "text": [
      "ENTER THE LOOP:               datetime           sender  \\\n",
      "258 2023-12-04 14:28:00  +91 89687 83648   \n",
      "259 2023-12-04 16:03:00    Saloni Edoofa   \n",
      "260 2023-12-04 16:04:00    Saloni Edoofa   \n",
      "261 2023-12-04 16:04:00    Saloni Edoofa   \n",
      "262 2023-12-04 18:10:00  +91 89687 83648   \n",
      "263 2023-12-04 18:10:00  +91 89687 83648   \n",
      "\n",
      "                                               message  \n",
      "258  https://www.linkedin.com/in/loice-masunda-41b7...  \n",
      "259                   Good evening Loice! How are you?  \n",
      "260                                    <Media omitted>  \n",
      "261                                    <Media omitted>  \n",
      "262                         im doing good,thanks ma’am  \n",
      "263                                okay sure,thank you  \n"
     ]
    },
    {
     "name": "stderr",
     "output_type": "stream",
     "text": [
      "2023-12-05 17:44:36,666 - DEBUG - Row appended for chat file: WhatsApp Chat with Loice EWYL22E0782.txt\n"
     ]
    },
    {
     "name": "stdout",
     "output_type": "stream",
     "text": [
      "ENTER THE LOOP:               datetime           sender  \\\n",
      "91  2023-12-04 09:54:00    Saloni Edoofa   \n",
      "92  2023-12-04 09:54:00    Saloni Edoofa   \n",
      "93  2023-12-04 09:55:00  +260 97 6560282   \n",
      "94  2023-12-04 09:55:00  +260 97 6560282   \n",
      "95  2023-12-04 09:55:00    Saloni Edoofa   \n",
      "96  2023-12-04 09:56:00  +260 97 6560282   \n",
      "97  2023-12-04 10:03:00    Saloni Edoofa   \n",
      "98  2023-12-04 10:04:00  +260 97 6560282   \n",
      "99  2023-12-04 10:05:00    Saloni Edoofa   \n",
      "100 2023-12-04 10:05:00  +260 97 6560282   \n",
      "101 2023-12-04 10:08:00    Saloni Edoofa   \n",
      "102 2023-12-04 10:08:00    Saloni Edoofa   \n",
      "103 2023-12-04 10:09:00  +260 97 6560282   \n",
      "104 2023-12-04 10:13:00    Saloni Edoofa   \n",
      "105 2023-12-04 10:13:00  +260 97 6560282   \n",
      "106 2023-12-04 10:33:00    Saloni Edoofa   \n",
      "107 2023-12-04 11:02:00    Saloni Edoofa   \n",
      "108 2023-12-04 12:29:00  +260 97 6560282   \n",
      "109 2023-12-04 12:31:00    Saloni Edoofa   \n",
      "110 2023-12-04 12:31:00  +260 97 6560282   \n",
      "\n",
      "                                               message  \n",
      "91                  Good morning Lushomo! How are you?  \n",
      "92   I am so elated to have you in the sessions wit...  \n",
      "93                                        Good morning  \n",
      "94                                              Me too  \n",
      "95   We will have our sessions from Monday to Frida...  \n",
      "96                                 Ok Madam Understood  \n",
      "97             May we begin with our exciting session🚀  \n",
      "98                                           Of course  \n",
      "99   I'm thrilled about our academic journey! 🚀 Let...  \n",
      "100                                                 Ok  \n",
      "101  We’re ready to begin your EWYL program now, an...  \n",
      "102                                    <Media omitted>  \n",
      "103                                    Yes madam clear  \n",
      "104        Once you read the document, do let me know.  \n",
      "105                                                 Ok  \n",
      "106                                  Have you read it?  \n",
      "107  As we wrap up today's session, I'm eager to re...  \n",
      "108                                 Yes I have read it  \n",
      "109                We will surely discuss it tomorrow.  \n",
      "110                                           Ok ma'am  \n"
     ]
    },
    {
     "name": "stderr",
     "output_type": "stream",
     "text": [
      "2023-12-05 17:44:37,046 - DEBUG - Row appended for chat file: WhatsApp Chat with Lushomo EWYL23E0598.txt\n"
     ]
    },
    {
     "name": "stdout",
     "output_type": "stream",
     "text": [
      "ENTER THE LOOP:               datetime          sender  \\\n",
      "118 2023-12-04 15:19:00   Saloni Edoofa   \n",
      "119 2023-12-04 15:20:00  +260 770496393   \n",
      "\n",
      "                                               message  \n",
      "118  Good evening, Lydia,  I hope this message find...  \n",
      "119  Good evening, I was very present during the call.  \n"
     ]
    },
    {
     "name": "stderr",
     "output_type": "stream",
     "text": [
      "2023-12-05 17:44:37,436 - DEBUG - Row appended for chat file: WhatsApp Chat with Lydia EWYL23E0158.txt\n"
     ]
    },
    {
     "name": "stdout",
     "output_type": "stream",
     "text": [
      "ENTER THE LOOP:               datetime            sender  \\\n",
      "221 2023-12-04 08:25:00     Saloni Edoofa   \n",
      "222 2023-12-04 08:26:00     Saloni Edoofa   \n",
      "223 2023-12-04 09:06:00     Saloni Edoofa   \n",
      "224 2023-12-04 09:26:00  +263 71 432 6077   \n",
      "225 2023-12-04 09:27:00  +263 71 432 6077   \n",
      "226 2023-12-04 09:27:00  +263 71 432 6077   \n",
      "227 2023-12-04 09:27:00  +263 71 432 6077   \n",
      "228 2023-12-04 09:29:00     Saloni Edoofa   \n",
      "229 2023-12-04 09:29:00     Saloni Edoofa   \n",
      "230 2023-12-04 09:29:00     Saloni Edoofa   \n",
      "231 2023-12-04 09:29:00     Saloni Edoofa   \n",
      "232 2023-12-04 09:30:00  +263 71 432 6077   \n",
      "233 2023-12-04 09:31:00  +263 71 432 6077   \n",
      "234 2023-12-04 09:35:00     Saloni Edoofa   \n",
      "235 2023-12-04 10:03:00     Saloni Edoofa   \n",
      "236 2023-12-04 10:15:00  +263 71 432 6077   \n",
      "\n",
      "                                               message  \n",
      "221  Greetings of the day! How did your weekend go?...  \n",
      "222  We will surely discuss the same in our session...  \n",
      "223                     May we begin with our session?  \n",
      "224                                            Morning  \n",
      "225                                      Morning......  \n",
      "226              Sorry for the delay my network is low  \n",
      "227                                       We may begin  \n",
      "228                 No worries, I can understand that!  \n",
      "229  Okay great, now allow me to recap this project...  \n",
      "230  As a proud edoofian and as a student who is go...  \n",
      "231  You can use the following form to share the sc...  \n",
      "232                                         Understood  \n",
      "233                                                 Ok  \n",
      "234  And #2  The *Scholarship Credits* earning oppo...  \n",
      "235  As we wrap up today's session, I'm eager to re...  \n",
      "236                                              Noted  \n"
     ]
    },
    {
     "name": "stderr",
     "output_type": "stream",
     "text": [
      "2023-12-05 17:44:37,868 - DEBUG - Row appended for chat file: WhatsApp Chat with Lydia EWYL23E0234.txt\n"
     ]
    },
    {
     "name": "stdout",
     "output_type": "stream",
     "text": [
      "ENTER THE LOOP:               datetime           sender  \\\n",
      "295 2023-12-04 15:18:00    Saloni Edoofa   \n",
      "296 2023-12-04 15:18:00    Saloni Edoofa   \n",
      "297 2023-12-04 15:20:00  +91 85448 18278   \n",
      "298 2023-12-04 15:57:00  +91 85448 18278   \n",
      "\n",
      "                                               message  \n",
      "295  Good evening, Lyona,  I hope this message find...  \n",
      "296  That is amazing, I sincerely congratulate her ...  \n",
      "297                                   Good evening mam  \n",
      "298  When I read the message I thoroughly of it as ...  \n"
     ]
    },
    {
     "name": "stderr",
     "output_type": "stream",
     "text": [
      "2023-12-05 17:44:38,373 - DEBUG - Row appended for chat file: WhatsApp Chat with Lyona EWYL22E0030.txt\n"
     ]
    },
    {
     "name": "stdout",
     "output_type": "stream",
     "text": [
      "ENTER THE LOOP:              datetime            sender  \\\n",
      "0  2023-12-04 13:49:00  +263 78 871 0042   \n",
      "1  2023-12-04 13:54:00     Saloni Edoofa   \n",
      "2  2023-12-04 13:56:00  +263 78 871 0042   \n",
      "3  2023-12-04 13:57:00     Saloni Edoofa   \n",
      "4  2023-12-04 13:57:00     Saloni Edoofa   \n",
      "5  2023-12-04 14:00:00  +263 78 871 0042   \n",
      "6  2023-12-04 14:04:00     Saloni Edoofa   \n",
      "7  2023-12-04 14:06:00  +263 78 871 0042   \n",
      "8  2023-12-04 14:06:00     Saloni Edoofa   \n",
      "9  2023-12-04 14:06:00     Saloni Edoofa   \n",
      "10 2023-12-04 14:08:00  +263 78 871 0042   \n",
      "11 2023-12-04 14:09:00     Saloni Edoofa   \n",
      "12 2023-12-04 14:35:00  +263 77 294 9349   \n",
      "13 2023-12-04 14:36:00     Saloni Edoofa   \n",
      "14 2023-12-04 14:40:00  +263 77 294 9349   \n",
      "15 2023-12-04 14:44:00  +263 77 245 5997   \n",
      "16 2023-12-04 15:49:00     Saloni Edoofa   \n",
      "17 2023-12-04 15:49:00     Saloni Edoofa   \n",
      "18 2023-12-04 15:53:00  +263 77 294 9349   \n",
      "\n",
      "                                              message  \n",
      "0   Dear mentor,my name is Makaita Gloria Mudavanh...  \n",
      "1   Hello Makaita and parents, I hope you are doin...  \n",
      "2                              I'm good ma'am and you  \n",
      "3                         I am doing well, thank you!  \n",
      "4   To fasten up our progress and to give you _my ...  \n",
      "5   I'm excited too and I love the time slot. So d...  \n",
      "6   We can start from today onwards if you are ava...  \n",
      "7                                    Today it is then  \n",
      "8                                    That is awesome!  \n",
      "9   I am thrilled to be your mentor. Before connec...  \n",
      "10                             I hope that it will be  \n",
      "11  Well, I can see that some other people have jo...  \n",
      "12                               Iam good how are you  \n",
      "13  I am really happy with the progress we have ma...  \n",
      "14        Iam Mrs Aletha T mudavanhu Makaita's mother  \n",
      "15  I am Rabson Mudavanhu , Makaita's father. Good...  \n",
      "16                        I am doing well, thank yoU!  \n",
      "17  I am so happy to welcome you to the group, I a...  \n",
      "18                                      I hope so too  \n"
     ]
    },
    {
     "name": "stderr",
     "output_type": "stream",
     "text": [
      "2023-12-05 17:44:38,719 - DEBUG - Row appended for chat file: WhatsApp Chat with Makaita EWYL23E0969.txt\n"
     ]
    },
    {
     "name": "stdout",
     "output_type": "stream",
     "text": [
      "ENTER THE LOOP:               datetime         sender  \\\n",
      "122 2023-12-04 08:33:00  Saloni Edoofa   \n",
      "123 2023-12-04 08:33:00  Saloni Edoofa   \n",
      "124 2023-12-04 10:04:00  Saloni Edoofa   \n",
      "\n",
      "                                               message  \n",
      "122  Greetings of the day! How did your weekend go?...  \n",
      "123  We will surely discuss this today in our session.  \n",
      "124            May we begin with our exciting session🚀  \n"
     ]
    },
    {
     "name": "stderr",
     "output_type": "stream",
     "text": [
      "2023-12-05 17:44:39,182 - DEBUG - Row appended for chat file: WhatsApp Chat with Makanaka EWYL22E0814.txt\n"
     ]
    },
    {
     "name": "stdout",
     "output_type": "stream",
     "text": [
      "ENTER THE LOOP:               datetime         sender  \\\n",
      "152 2023-12-04 15:13:00  Saloni Edoofa   \n",
      "\n",
      "                                               message  \n",
      "152  Good evening, Manwere,  I hope this message fi...  \n"
     ]
    },
    {
     "name": "stderr",
     "output_type": "stream",
     "text": [
      "2023-12-05 17:44:39,641 - DEBUG - Row appended for chat file: WhatsApp Chat with Manwere EWYL21E0852.txt\n"
     ]
    },
    {
     "name": "stdout",
     "output_type": "stream",
     "text": [
      "ENTER THE LOOP:               datetime            sender  \\\n",
      "282 2023-12-04 14:36:00     Saloni Edoofa   \n",
      "283 2023-12-04 14:41:00  +263 77 313 6369   \n",
      "284 2023-12-04 16:05:00     Saloni Edoofa   \n",
      "285 2023-12-04 16:06:00  +263 77 313 6369   \n",
      "\n",
      "                                               message  \n",
      "282  Good morning, _Mark and parents_! How are you?...  \n",
      "283  Good day  We are fine thank you....can we give...  \n",
      "284  May I know the challenges in resuming the sess...  \n",
      "285                                            Network  \n"
     ]
    },
    {
     "name": "stderr",
     "output_type": "stream",
     "text": [
      "2023-12-05 17:44:40,113 - DEBUG - Row appended for chat file: WhatsApp Chat with Mark EWYL23E0409.txt\n"
     ]
    },
    {
     "name": "stdout",
     "output_type": "stream",
     "text": [
      "ENTER THE LOOP:               datetime           sender  \\\n",
      "276 2023-12-04 12:54:00  +91 91159 03822   \n",
      "277 2023-12-04 15:59:00    Saloni Edoofa   \n",
      "278 2023-12-04 15:59:00    Saloni Edoofa   \n",
      "279 2023-12-04 15:59:00  +91 91159 03822   \n",
      "280 2023-12-04 16:00:00    Saloni Edoofa   \n",
      "\n",
      "                                               message  \n",
      "276  https://www.linkedin.com/in/marlon-moyana-9b74...  \n",
      "277                  Good evening Marlon, How are you?  \n",
      "278                                    <Media omitted>  \n",
      "279                                        Evening mam  \n",
      "280                                    <Media omitted>  \n"
     ]
    },
    {
     "name": "stderr",
     "output_type": "stream",
     "text": [
      "2023-12-05 17:44:40,594 - DEBUG - Row appended for chat file: WhatsApp Chat with Marlon EWYL22E1317.txt\n"
     ]
    },
    {
     "name": "stdout",
     "output_type": "stream",
     "text": [
      "ENTER THE LOOP:               datetime           sender  \\\n",
      "182 2023-12-04 15:13:00    Saloni Edoofa   \n",
      "183 2023-12-04 15:18:00  +91 92894 08647   \n",
      "\n",
      "                                               message  \n",
      "182  Good evening, Mayibongwe,  I hope this message...  \n",
      "183  For the weekly call   l wasn't able to join..l...  \n"
     ]
    },
    {
     "name": "stderr",
     "output_type": "stream",
     "text": [
      "2023-12-05 17:44:40,992 - DEBUG - Row appended for chat file: WhatsApp Chat with Mayibingwe EWYL21E0760.txt\n"
     ]
    },
    {
     "name": "stdout",
     "output_type": "stream",
     "text": [
      "ENTER THE LOOP:               datetime            sender  \\\n",
      "105 2023-12-04 08:23:00     Saloni Edoofa   \n",
      "106 2023-12-04 08:53:00  +263 78 307 7977   \n",
      "107 2023-12-04 09:05:00     Saloni Edoofa   \n",
      "108 2023-12-04 09:30:00  +263 78 307 7977   \n",
      "109 2023-12-04 09:34:00     Saloni Edoofa   \n",
      "110 2023-12-04 09:35:00  +263 78 307 7977   \n",
      "111 2023-12-04 09:38:00     Saloni Edoofa   \n",
      "112 2023-12-04 09:38:00     Saloni Edoofa   \n",
      "113 2023-12-04 09:38:00     Saloni Edoofa   \n",
      "114 2023-12-04 09:44:00  +263 78 307 7977   \n",
      "115 2023-12-04 09:49:00     Saloni Edoofa   \n",
      "116 2023-12-04 09:55:00  +263 78 307 7977   \n",
      "117 2023-12-04 10:03:00     Saloni Edoofa   \n",
      "118 2023-12-04 10:03:00  +263 78 307 7977   \n",
      "\n",
      "                                               message  \n",
      "105  Greetings of the day! How did your weekend go?...  \n",
      "106  Greetings My weekend was absolutely fine  Alright  \n",
      "107                     May we begin with our session?  \n",
      "108  Please pardon my late response    Yes we may b...  \n",
      "109  May I please know why are you late for the ses...  \n",
      "110  My data had been exhausted so I had to purchas...  \n",
      "111      Okay, I understand it better now. No worries!  \n",
      "112  I will start by explaining the projects in det...  \n",
      "113                                    <Media omitted>  \n",
      "114                                      I am finished  \n",
      "115  Can you please share what you have learned fro...  \n",
      "116  I've learnt that the first project helps one g...  \n",
      "117  As we wrap up today's session, I'm eager to re...  \n",
      "118                                            Alright  \n"
     ]
    },
    {
     "name": "stderr",
     "output_type": "stream",
     "text": [
      "2023-12-05 17:44:41,312 - DEBUG - Row appended for chat file: WhatsApp Chat with Michelle EWYL22E0756.txt\n"
     ]
    },
    {
     "name": "stdout",
     "output_type": "stream",
     "text": [
      "ENTER THE LOOP:              datetime            sender  \\\n",
      "48 2023-12-04 14:50:00     Saloni Edoofa   \n",
      "49 2023-12-04 14:51:00     Saloni Edoofa   \n",
      "50 2023-12-04 15:12:00  +263 77 305 5181   \n",
      "51 2023-12-04 15:13:00  +263 77 305 5181   \n",
      "52 2023-12-04 16:12:00     Saloni Edoofa   \n",
      "53 2023-12-04 16:13:00     Saloni Edoofa   \n",
      "54 2023-12-04 21:32:00  +263 77 305 5181   \n",
      "\n",
      "                                              message  \n",
      "48                Good evening Michelle, How are you?  \n",
      "49  Would you like to start learning all the proje...  \n",
      "50  Im doing alright thank you! I hope you're well...  \n",
      "51  If possible, I would like to start learning al...  \n",
      "52                        I am doing well, thank you!  \n",
      "53  That is great, you will have your sessions fro...  \n",
      "54                                    Sure! Thank you  \n"
     ]
    },
    {
     "name": "stderr",
     "output_type": "stream",
     "text": [
      "2023-12-05 17:44:41,688 - DEBUG - Row appended for chat file: WhatsApp Chat with Michelle EWYL22E1039.txt\n"
     ]
    },
    {
     "name": "stdout",
     "output_type": "stream",
     "text": [
      "ENTER THE LOOP:               datetime           sender  \\\n",
      "205 2023-12-04 08:33:00    Saloni Edoofa   \n",
      "206 2023-12-04 08:41:00  +260 97 4172165   \n",
      "207 2023-12-04 10:04:00    Saloni Edoofa   \n",
      "208 2023-12-04 10:05:00  +260 97 4172165   \n",
      "209 2023-12-04 10:07:00    Saloni Edoofa   \n",
      "210 2023-12-04 10:07:00  +260 97 4172165   \n",
      "211 2023-12-04 10:10:00  +260 97 4172165   \n",
      "212 2023-12-04 10:14:00    Saloni Edoofa   \n",
      "213 2023-12-04 10:17:00  +260 97 4172165   \n",
      "214 2023-12-04 10:18:00  +260 97 4172165   \n",
      "215 2023-12-04 10:20:00  +260 97 4172165   \n",
      "216 2023-12-04 10:30:00    Saloni Edoofa   \n",
      "217 2023-12-04 10:31:00  +260 97 4172165   \n",
      "218 2023-12-04 10:39:00    Saloni Edoofa   \n",
      "219 2023-12-04 10:40:00  +260 97 4172165   \n",
      "220 2023-12-04 10:41:00    Saloni Edoofa   \n",
      "221 2023-12-04 10:42:00    Saloni Edoofa   \n",
      "222 2023-12-04 10:42:00    Saloni Edoofa   \n",
      "223 2023-12-04 10:42:00    Saloni Edoofa   \n",
      "224 2023-12-04 10:42:00    Saloni Edoofa   \n",
      "225 2023-12-04 10:49:00  +260 97 4172165   \n",
      "226 2023-12-04 10:52:00    Saloni Edoofa   \n",
      "227 2023-12-04 10:52:00    Saloni Edoofa   \n",
      "228 2023-12-04 11:01:00  +260 97 4172165   \n",
      "229 2023-12-04 11:01:00    Saloni Edoofa   \n",
      "230 2023-12-04 11:02:00    Saloni Edoofa   \n",
      "231 2023-12-04 11:28:00  +260 97 4172165   \n",
      "232 2023-12-04 11:40:00  +260 97 4172165   \n",
      "233 2023-12-04 15:55:00    Saloni Edoofa   \n",
      "234 2023-12-04 15:56:00    Saloni Edoofa   \n",
      "235 2023-12-04 15:56:00    Saloni Edoofa   \n",
      "236 2023-12-04 15:56:00    Saloni Edoofa   \n",
      "237 2023-12-04 15:56:00    Saloni Edoofa   \n",
      "238 2023-12-04 15:56:00    Saloni Edoofa   \n",
      "239 2023-12-04 15:56:00    Saloni Edoofa   \n",
      "240 2023-12-04 15:57:00    Saloni Edoofa   \n",
      "241 2023-12-04 15:57:00    Saloni Edoofa   \n",
      "242 2023-12-04 15:57:00    Saloni Edoofa   \n",
      "243 2023-12-04 15:57:00    Saloni Edoofa   \n",
      "244 2023-12-04 15:57:00    Saloni Edoofa   \n",
      "245 2023-12-04 15:57:00    Saloni Edoofa   \n",
      "246 2023-12-04 17:33:00  +260 97 4172165   \n",
      "\n",
      "                                               message  \n",
      "205  Greetings of the day! How did your weekend go?...  \n",
      "206                         Alright I'll surely attend  \n",
      "207            May we begin with our exciting session🚀  \n",
      "208                                               Sure  \n",
      "209          May I know if you have formed this group?  \n",
      "210                                            Not yet  \n",
      "211  I did try to convince most of the people that ...  \n",
      "212  Okay, and after filtering out, how many studen...  \n",
      "213  Well I talk to 5 in total including three peop...  \n",
      "214  I did use myself as an example for most of the...  \n",
      "215  Though I did not succeed I'm quite happy with ...  \n",
      "216  I am happy to see this happiness in you and I ...  \n",
      "217                                I'll keep on trying  \n",
      "218  Yes, I am sure you can do it and if you see yo...  \n",
      "219                      Thanks you for the motivation  \n",
      "220  While reaching out to students, share this mes...  \n",
      "221  I am ____________ a student selected for the p...  \n",
      "222  On average, parents in Zambia spend between ZK...  \n",
      "223  *While pursuing tertiary education in India is...  \n",
      "224                                    <Media omitted>  \n",
      "225           Alright thank you I will surely use this  \n",
      "226  Now, it’s been an interesting conversation wit...  \n",
      "227                                    <Media omitted>  \n",
      "228  Sorry ma'am some few students have  contacted ...  \n",
      "229  As we wrap up today's session, I'm eager to re...  \n",
      "230  That is awesome, share their feedback with me ...  \n",
      "231  Sorry if I'm intruding on your time but once t...  \n",
      "232   https://chat.whatsapp.com/CERIu2YI3JtAJ7kwnaI004  \n",
      "233  Now Mphatso, you have to share details about E...  \n",
      "234                                    <Media omitted>  \n",
      "235                                    <Media omitted>  \n",
      "236                                    <Media omitted>  \n",
      "237                                    <Media omitted>  \n",
      "238                                    <Media omitted>  \n",
      "239                                    <Media omitted>  \n",
      "240                                    <Media omitted>  \n",
      "241                                    <Media omitted>  \n",
      "242                                    <Media omitted>  \n",
      "243                                    <Media omitted>  \n",
      "244                                    <Media omitted>  \n",
      "245                                    <Media omitted>  \n",
      "246                                            Alright  \n"
     ]
    },
    {
     "name": "stderr",
     "output_type": "stream",
     "text": [
      "2023-12-05 17:44:42,138 - DEBUG - Row appended for chat file: WhatsApp Chat with Mphatso EWYL23E0395.txt\n"
     ]
    },
    {
     "name": "stdout",
     "output_type": "stream",
     "text": [
      "ENTER THE LOOP:               datetime            sender  \\\n",
      "212 2023-12-04 14:51:00  +263 71 313 8460   \n",
      "213 2023-12-04 16:09:00     Saloni Edoofa   \n",
      "214 2023-12-04 16:09:00     Saloni Edoofa   \n",
      "215 2023-12-04 18:49:00  +263 71 313 8460   \n",
      "216 2023-12-04 21:28:00  +263 71 313 8460   \n",
      "217 2023-12-04 22:45:00  +263 71 313 8460   \n",
      "218 2023-12-04 22:49:00  +263 71 313 8460   \n",
      "\n",
      "                                               message  \n",
      "212  Greetings Ms Saloni.  Thank you for the group ...  \n",
      "213                 Good evening Munashe! How are you?  \n",
      "214  May I know if you are now you will actively co...  \n",
      "215  Yes Ms Saloni l will now be active for my sess...  \n",
      "216  *Offline Application Form*  Student Name:Lynn ...  \n",
      "217  Offline Application Form  Student Name: Matsok...  \n",
      "218  *Offline Application Form*  Student Name: Bles...  \n"
     ]
    },
    {
     "name": "stderr",
     "output_type": "stream",
     "text": [
      "2023-12-05 17:44:42,578 - DEBUG - Row appended for chat file: WhatsApp Chat with Munashe EWYL23E0226.txt\n"
     ]
    },
    {
     "name": "stdout",
     "output_type": "stream",
     "text": [
      "ENTER THE LOOP:              datetime           sender  \\\n",
      "0  2023-12-04 13:07:00  +260 95 3411232   \n",
      "1  2023-12-04 13:13:00  +260 97 7488331   \n",
      "2  2023-12-04 13:24:00    Saloni Edoofa   \n",
      "3  2023-12-04 13:24:00  +260 95 3411232   \n",
      "4  2023-12-04 13:24:00  +260 95 3411232   \n",
      "5  2023-12-04 13:25:00  +260 97 7488331   \n",
      "6  2023-12-04 13:26:00    Saloni Edoofa   \n",
      "7  2023-12-04 13:27:00    Saloni Edoofa   \n",
      "8  2023-12-04 13:28:00  +260 95 3411232   \n",
      "9  2023-12-04 13:28:00  +260 95 3411232   \n",
      "10 2023-12-04 13:29:00    Saloni Edoofa   \n",
      "11 2023-12-04 13:30:00  +260 95 3411232   \n",
      "12 2023-12-04 13:34:00    Saloni Edoofa   \n",
      "13 2023-12-04 13:35:00  +260 95 3411232   \n",
      "14 2023-12-04 13:36:00    Saloni Edoofa   \n",
      "15 2023-12-04 13:39:00  +260 95 3411232   \n",
      "16 2023-12-04 13:40:00    Saloni Edoofa   \n",
      "17 2023-12-04 13:40:00  +260 95 3411232   \n",
      "18 2023-12-04 13:40:00    Saloni Edoofa   \n",
      "19 2023-12-04 13:43:00  +260 95 3411232   \n",
      "20 2023-12-04 13:43:00  +260 95 3411232   \n",
      "21 2023-12-04 13:43:00  +260 95 3411232   \n",
      "22 2023-12-04 13:44:00  +260 95 3411232   \n",
      "23 2023-12-04 13:45:00  +260 95 3411232   \n",
      "24 2023-12-04 13:48:00    Saloni Edoofa   \n",
      "25 2023-12-04 13:48:00    Saloni Edoofa   \n",
      "26 2023-12-04 13:48:00  +260 95 3411232   \n",
      "27 2023-12-04 13:49:00  +260 95 3411232   \n",
      "28 2023-12-04 13:54:00    Saloni Edoofa   \n",
      "29 2023-12-04 13:54:00    Saloni Edoofa   \n",
      "30 2023-12-04 13:59:00  +260 95 3411232   \n",
      "31 2023-12-04 14:03:00    Saloni Edoofa   \n",
      "32 2023-12-04 14:03:00  +260 95 3411232   \n",
      "33 2023-12-04 14:04:00    Saloni Edoofa   \n",
      "34 2023-12-04 14:05:00  +260 95 3411232   \n",
      "35 2023-12-04 14:06:00    Saloni Edoofa   \n",
      "36 2023-12-04 14:07:00  +260 95 3411232   \n",
      "37 2023-12-04 14:08:00    Saloni Edoofa   \n",
      "38 2023-12-04 14:08:00    Saloni Edoofa   \n",
      "39 2023-12-04 14:13:00  +260 95 3411232   \n",
      "40 2023-12-04 14:14:00  +260 95 3411232   \n",
      "41 2023-12-04 14:26:00    Saloni Edoofa   \n",
      "42 2023-12-04 14:26:00    Saloni Edoofa   \n",
      "43 2023-12-04 14:27:00  +260 95 3411232   \n",
      "44 2023-12-04 14:28:00    Saloni Edoofa   \n",
      "45 2023-12-04 14:28:00    Saloni Edoofa   \n",
      "46 2023-12-04 14:31:00  +260 95 3411232   \n",
      "47 2023-12-04 14:32:00    Saloni Edoofa   \n",
      "48 2023-12-04 14:34:00  +260 95 3411232   \n",
      "49 2023-12-04 14:36:00    Saloni Edoofa   \n",
      "\n",
      "                                              message  \n",
      "0   Dear Mentor, my name is Mwango Mutale, and my ...  \n",
      "1   Good afternoon, this is Mrs Mutale,the mother ...  \n",
      "2   Hello Mwango and parents, I hope you are doing...  \n",
      "3                                    Nice to meet you  \n",
      "4              I'm alright thank you and how are you?  \n",
      "5         Fine thanks, glad to hear,  that ,thank you  \n",
      "6   I am doing well, thank you everyone for shower...  \n",
      "7   To fasten up our progress and to give you _my ...  \n",
      "8                              No we don't. Thank you  \n",
      "9                                       Indeed we are  \n",
      "10                                     That is great!  \n",
      "11                                             Indeed  \n",
      "12                     May we begin with our session🚀  \n",
      "13                                         Yes please  \n",
      "14  I am thrilled to be your mentor. Before connec...  \n",
      "15  Thank you for your thoughtful consideration of...  \n",
      "16  Thank you so much for this trust and confidenc...  \n",
      "17                                     You're welcome  \n",
      "18  Well, I can see that some other people have jo...  \n",
      "19                           This message was deleted  \n",
      "20                                       My apologies  \n",
      "21                                               Sure  \n",
      "22  My name is Mwango Mutale aged 17 years. I'm th...  \n",
      "23  My father @260964611719  and my mother @260977...  \n",
      "24  I am so happy to welcome them to the group, I ...  \n",
      "25                 May I know in which do they teach?  \n",
      "26                                             Indeed  \n",
      "27  My mother is a teacher of History and religiou...  \n",
      "28  This is awesome Mwango, I feel so delighted an...  \n",
      "29      May I know in which school are they teaching?  \n",
      "30  My father is at Mukobeko  day secondary school...  \n",
      "31       This is amazing, I feel elated to hear that!  \n",
      "32  I'm thrilled to hear your excitement! I share ...  \n",
      "33  I would also wish for their school to be conne...  \n",
      "34  That's a fantastic idea! Strengthening the par...  \n",
      "35  Of course Mwango, and I would love to hear wha...  \n",
      "36     It's unfortunate that both of them are offline  \n",
      "37  No worries, do let them know to share their id...  \n",
      "38  So Mwango, I would like to begin this journey ...  \n",
      "39  In the long run, my goal as a biochemistry stu...  \n",
      "40  The Edoofa \"Earn While You Learn\" (EWYL) progr...  \n",
      "41  This is amazing, you have shared in-depth info...  \n",
      "42  Now that I've learned about you, I'd like to t...  \n",
      "43                                                 No  \n",
      "44  Let me add to your understanding, that the *fi...  \n",
      "45  The *second goal* is to help all our edoofians...  \n",
      "46                                       I understand  \n",
      "47  I am really happy with the progress we have ma...  \n",
      "48  . I'll be there with the same zeal and enthusi...  \n",
      "49                 That is amazing, see you tomorrow!  \n"
     ]
    },
    {
     "name": "stderr",
     "output_type": "stream",
     "text": [
      "2023-12-05 17:44:42,938 - DEBUG - Row appended for chat file: WhatsApp Chat with Mwango EWYL23E0965.txt\n"
     ]
    },
    {
     "name": "stdout",
     "output_type": "stream",
     "text": [
      "ENTER THE LOOP:               datetime            sender  \\\n",
      "231 2023-12-04 08:40:00     Saloni Edoofa   \n",
      "232 2023-12-04 08:40:00     Saloni Edoofa   \n",
      "233 2023-12-04 10:04:00     Saloni Edoofa   \n",
      "234 2023-12-04 10:07:00  +263 71 997 6811   \n",
      "235 2023-12-04 10:13:00     Saloni Edoofa   \n",
      "236 2023-12-04 10:13:00     Saloni Edoofa   \n",
      "237 2023-12-04 10:13:00     Saloni Edoofa   \n",
      "238 2023-12-04 10:25:00  +263 71 997 6811   \n",
      "239 2023-12-04 10:35:00     Saloni Edoofa   \n",
      "240 2023-12-04 10:50:00  +263 71 997 6811   \n",
      "241 2023-12-04 10:54:00     Saloni Edoofa   \n",
      "242 2023-12-04 10:54:00     Saloni Edoofa   \n",
      "243 2023-12-04 10:54:00     Saloni Edoofa   \n",
      "244 2023-12-04 10:54:00     Saloni Edoofa   \n",
      "245 2023-12-04 10:54:00     Saloni Edoofa   \n",
      "246 2023-12-04 10:54:00     Saloni Edoofa   \n",
      "247 2023-12-04 11:01:00     Saloni Edoofa   \n",
      "248 2023-12-04 11:23:00  +263 71 997 6811   \n",
      "\n",
      "                                               message  \n",
      "231  Greetings of the day! How did your weekend go?...  \n",
      "232  We will surely discuss the same today in our s...  \n",
      "233            May we begin with our exciting session🚀  \n",
      "234                                                Yes  \n",
      "235  That’s awesome- Naome, I’m confident that if y...  \n",
      "236  1-  I’m sharing a form with you below, you can...  \n",
      "237  *Offline Application Form*  Student Name: Date...  \n",
      "238                           Ok noted  I will do that  \n",
      "239  And #2 – Back to the exciting part- your *Scho...  \n",
      "240                                      Alright noted  \n",
      "241  So, now I am going to share certain ways that ...  \n",
      "242  *A] Through WhatsApp community groups:*  *STEP...  \n",
      "243  *STEP 2*: We need to find the *right student* ...  \n",
      "244  To identify the right student (Applicant), we ...  \n",
      "245  Once they add you there, you can share the lin...  \n",
      "246  Once you convey this information in one of the...  \n",
      "247  As we wrap up today's session, I'm eager to re...  \n",
      "248                                          Thank you  \n"
     ]
    },
    {
     "name": "stderr",
     "output_type": "stream",
     "text": [
      "2023-12-05 17:44:43,379 - DEBUG - Row appended for chat file: WhatsApp Chat with Naome EWYL23E0534 (1).txt\n"
     ]
    },
    {
     "name": "stdout",
     "output_type": "stream",
     "text": [
      "ENTER THE LOOP:               datetime         sender  \\\n",
      "160 2023-12-04 08:34:00  Saloni Edoofa   \n",
      "161 2023-12-04 10:04:00  Saloni Edoofa   \n",
      "\n",
      "                                               message  \n",
      "160  Greetings of the day! How did your weekend go?...  \n",
      "161            May we begin with our exciting session🚀  \n"
     ]
    },
    {
     "name": "stderr",
     "output_type": "stream",
     "text": [
      "2023-12-05 17:44:43,775 - DEBUG - Row appended for chat file: WhatsApp Chat with Naomi EWYL22E0955.txt\n"
     ]
    },
    {
     "name": "stdout",
     "output_type": "stream",
     "text": [
      "ENTER THE LOOP:               datetime            sender  \\\n",
      "198 2023-12-04 08:20:00     Saloni Edoofa   \n",
      "199 2023-12-04 13:35:00     Saloni Edoofa   \n",
      "200 2023-12-04 13:49:00  +263 77 644 3634   \n",
      "201 2023-12-04 13:55:00     Saloni Edoofa   \n",
      "202 2023-12-04 14:21:00  +263 77 644 3634   \n",
      "203 2023-12-04 14:21:00  +263 77 644 3634   \n",
      "204 2023-12-04 14:24:00  +263 77 644 3634   \n",
      "205 2023-12-04 14:27:00     Saloni Edoofa   \n",
      "206 2023-12-04 14:28:00  +263 77 644 3634   \n",
      "207 2023-12-04 14:29:00     Saloni Edoofa   \n",
      "208 2023-12-04 14:29:00     Saloni Edoofa   \n",
      "209 2023-12-04 14:29:00     Saloni Edoofa   \n",
      "210 2023-12-04 15:01:00  +263 78 027 9838   \n",
      "211 2023-12-04 15:55:00  +263 77 644 3634   \n",
      "212 2023-12-04 15:55:00  +263 77 644 3634   \n",
      "213 2023-12-04 15:57:00     Saloni Edoofa   \n",
      "214 2023-12-04 15:57:00     Saloni Edoofa   \n",
      "215 2023-12-04 17:16:00  +263 77 644 3634   \n",
      "\n",
      "                                               message  \n",
      "198  Greetings of the day! How did your weekend go?...  \n",
      "199                     May we begin with our session🚀  \n",
      "200                                                Yes  \n",
      "201               Nkazimulo, can you share about this?  \n",
      "202                                                 ..  \n",
      "203                     Told you the name of my school  \n",
      "204  Unless if am not getting your question if so p...  \n",
      "205  I got the name but may I know if your school i...  \n",
      "206                                                Yes  \n",
      "207                            Okay, I understand now.  \n",
      "208  TODAY, I would like you to connect with other ...  \n",
      "209  May I know if you have the other School Head’s...  \n",
      "210                                                Yes  \n",
      "211                                    Yes one contact  \n",
      "212                   Network is bad please forgive me  \n",
      "213                                 I understand that!  \n",
      "214         That is great, can you share here with me?  \n",
      "215                                 Share contact or ?  \n"
     ]
    },
    {
     "name": "stderr",
     "output_type": "stream",
     "text": [
      "2023-12-05 17:44:44,213 - DEBUG - Row appended for chat file: WhatsApp Chat with Nkazimulo EWYL23E0803.txt\n"
     ]
    },
    {
     "name": "stdout",
     "output_type": "stream",
     "text": [
      "ENTER THE LOOP:               datetime            sender  \\\n",
      "254 2023-12-04 08:36:00     Saloni Edoofa   \n",
      "255 2023-12-04 08:58:00  +263 78 085 1156   \n",
      "256 2023-12-04 08:58:00  +263 78 085 1156   \n",
      "257 2023-12-04 09:10:00     Saloni Edoofa   \n",
      "258 2023-12-04 09:10:00     Saloni Edoofa   \n",
      "259 2023-12-04 10:30:00  +263 78 085 1156   \n",
      "\n",
      "                                    message  \n",
      "254                This message was deleted  \n",
      "255                             M thank you  \n",
      "256               Morning ma'am how are you  \n",
      "257       Good morning Nyasha! How are you?  \n",
      "258  I am doing absolutely well, thank you!  \n",
      "259                            That's great  \n"
     ]
    },
    {
     "name": "stderr",
     "output_type": "stream",
     "text": [
      "2023-12-05 17:44:44,663 - DEBUG - Row appended for chat file: WhatsApp Chat with Nyasha EWYL23E0802.txt\n"
     ]
    },
    {
     "name": "stdout",
     "output_type": "stream",
     "text": [
      "ENTER THE LOOP:               datetime            sender  \\\n",
      "133 2023-12-04 08:33:00     Saloni Edoofa   \n",
      "134 2023-12-04 08:49:00  +263 78 187 7854   \n",
      "135 2023-12-04 08:49:00  +263 78 187 7854   \n",
      "136 2023-12-04 09:10:00     Saloni Edoofa   \n",
      "137 2023-12-04 10:04:00  +263 78 187 7854   \n",
      "138 2023-12-04 10:04:00  +263 78 187 7854   \n",
      "139 2023-12-04 10:05:00  +263 78 187 7854   \n",
      "140 2023-12-04 10:05:00     Saloni Edoofa   \n",
      "141 2023-12-04 10:06:00  +263 78 187 7854   \n",
      "142 2023-12-04 10:12:00     Saloni Edoofa   \n",
      "143 2023-12-04 10:19:00  +263 78 187 7854   \n",
      "144 2023-12-04 10:25:00     Saloni Edoofa   \n",
      "145 2023-12-04 10:25:00     Saloni Edoofa   \n",
      "146 2023-12-04 10:25:00     Saloni Edoofa   \n",
      "147 2023-12-04 10:47:00  +263 78 187 7854   \n",
      "148 2023-12-04 10:52:00     Saloni Edoofa   \n",
      "149 2023-12-04 10:59:00  +263 78 187 7854   \n",
      "150 2023-12-04 11:00:00     Saloni Edoofa   \n",
      "151 2023-12-04 11:00:00  +263 78 187 7854   \n",
      "152 2023-12-04 11:01:00     Saloni Edoofa   \n",
      "153 2023-12-04 11:01:00  +263 78 187 7854   \n",
      "154 2023-12-04 11:11:00  +263 78 187 7854   \n",
      "155 2023-12-04 11:16:00  +263 78 187 7854   \n",
      "156 2023-12-04 11:25:00  +263 78 187 7854   \n",
      "157 2023-12-04 15:23:00     Saloni Edoofa   \n",
      "158 2023-12-04 19:39:00  +263 78 187 7854   \n",
      "\n",
      "                                               message  \n",
      "133  Greetings of the day! How did your weekend go?...  \n",
      "134                  I am well thank you, how are you?  \n",
      "135                                   Have noted this.  \n",
      "136                        I am doing well, thank you.  \n",
      "137  Student name.    :Charlotte Kariwo Date of bir...  \n",
      "138  Student name: Chinyoka Nyasha Date of birth : ...  \n",
      "139  Shantel Akim 06 June 2006 Female  +26378267941...  \n",
      "140  Great job on submitting the form! I've forward...  \n",
      "141                                              Noted  \n",
      "142  I'm thrilled about our academic journey! 🚀 Let...  \n",
      "143  True that, yes let’s jump into it am so excite...  \n",
      "144                                   That is awesome!  \n",
      "145  We’re ready to begin your EWYL program now, an...  \n",
      "146                                    <Media omitted>  \n",
      "147                     I have read it we can continue  \n",
      "148  Okay, that’s wonderful. Panashe- I want you to...  \n",
      "149  I have learnt about skills that are emerging f...  \n",
      "150  That is awesome, you have shared the core of t...  \n",
      "151                                         Thank you.  \n",
      "152  As we wrap up today's session, I'm eager to re...  \n",
      "153  Very well thank you and see you on the said time.  \n",
      "154  Sharmaine T Chikwava 26/04/05 F talicentc@gmai...  \n",
      "155  Vanessa tanyaradzwa gunda 03/04/03 Female  077...  \n",
      "156  *Offline Application Form*  Student Name: Tana...  \n",
      "157  Great job completing the forms! I've swiftly f...  \n",
      "158  Student Name: Nyamhunga  Ashly Date of birth: ...  \n"
     ]
    },
    {
     "name": "stderr",
     "output_type": "stream",
     "text": [
      "2023-12-05 17:44:45,048 - DEBUG - Row appended for chat file: WhatsApp Chat with Panashe EWYL23E0277.txt\n"
     ]
    },
    {
     "name": "stdout",
     "output_type": "stream",
     "text": [
      "ENTER THE LOOP:               datetime            sender  \\\n",
      "237 2023-12-04 08:25:00     Saloni Edoofa   \n",
      "238 2023-12-04 08:26:00     Saloni Edoofa   \n",
      "239 2023-12-04 09:04:00  +263 77 494 2197   \n",
      "240 2023-12-04 09:05:00     Saloni Edoofa   \n",
      "241 2023-12-04 09:07:00  +263 77 494 2197   \n",
      "242 2023-12-04 09:14:00     Saloni Edoofa   \n",
      "243 2023-12-04 09:14:00     Saloni Edoofa   \n",
      "244 2023-12-04 09:14:00     Saloni Edoofa   \n",
      "245 2023-12-04 09:15:00  +263 77 494 2197   \n",
      "246 2023-12-04 09:19:00     Saloni Edoofa   \n",
      "247 2023-12-04 09:20:00  +263 77 494 2197   \n",
      "248 2023-12-04 09:22:00     Saloni Edoofa   \n",
      "249 2023-12-04 09:23:00     Saloni Edoofa   \n",
      "250 2023-12-04 09:23:00     Saloni Edoofa   \n",
      "251 2023-12-04 09:23:00  +263 77 494 2197   \n",
      "252 2023-12-04 09:24:00     Saloni Edoofa   \n",
      "253 2023-12-04 09:33:00  +263 77 494 2197   \n",
      "254 2023-12-04 09:36:00     Saloni Edoofa   \n",
      "255 2023-12-04 09:37:00  +263 77 494 2197   \n",
      "256 2023-12-04 09:39:00     Saloni Edoofa   \n",
      "257 2023-12-04 09:39:00     Saloni Edoofa   \n",
      "258 2023-12-04 09:39:00     Saloni Edoofa   \n",
      "259 2023-12-04 09:45:00  +263 77 494 2197   \n",
      "260 2023-12-04 09:52:00     Saloni Edoofa   \n",
      "261 2023-12-04 09:53:00  +263 77 494 2197   \n",
      "262 2023-12-04 09:58:00     Saloni Edoofa   \n",
      "263 2023-12-04 09:59:00     Saloni Edoofa   \n",
      "264 2023-12-04 09:59:00     Saloni Edoofa   \n",
      "265 2023-12-04 10:00:00     Saloni Edoofa   \n",
      "266 2023-12-04 10:00:00     Saloni Edoofa   \n",
      "267 2023-12-04 10:00:00     Saloni Edoofa   \n",
      "268 2023-12-04 10:02:00     Saloni Edoofa   \n",
      "269 2023-12-04 10:03:00  +263 77 494 2197   \n",
      "\n",
      "                                               message  \n",
      "237  Greetings of the day! How did your weekend go?...  \n",
      "238             We will surely discuss the same today!  \n",
      "239                                       Good morning  \n",
      "240                     May we begin with our session?  \n",
      "241                                                Yes  \n",
      "242  You know what Pertunia, this is fantastic! Thi...  \n",
      "243  Okay- now here are 2 things I would like to br...  \n",
      "244  2, and the fun part- I’m sure you read about S...  \n",
      "245                                     Yes understood  \n",
      "246  Do you have any questions about this, Pertunia...  \n",
      "247  No not at the moment but if I have any I will ask  \n",
      "248                          That is alright, Pertunia  \n",
      "249  *Pertunia, now that we’ve both summarized our ...  \n",
      "250                                    <Media omitted>  \n",
      "251                                               Okay  \n",
      "252      Once you listen to the audio, do let me know.  \n",
      "253                                               Done  \n",
      "254  Can you share what you have learned from the a...  \n",
      "255  This project is a way of establishing connecti...  \n",
      "256  That’s awesome- Pertunia, I’m confident that i...  \n",
      "257  1-  I’m sharing a form with you below, you can...  \n",
      "258  *Offline Application Form*  Student Name: Date...  \n",
      "259                                          Yes ma'am  \n",
      "260  And #2 – Back to the exciting part- your *Scho...  \n",
      "261                                     Yes understood  \n",
      "262  So, now I am going to share certain ways that ...  \n",
      "263  *A] Through WhatsApp community groups:*  *STEP...  \n",
      "264  *STEP 2*: We need to find the *right student* ...  \n",
      "265  To identify the right student (Applicant), we ...  \n",
      "266  Once they add you there, you can share the lin...  \n",
      "267  Once you convey this information in one of the...  \n",
      "268  As we wrap up today's session, I'm eager to re...  \n",
      "269                                            See you  \n"
     ]
    },
    {
     "name": "stderr",
     "output_type": "stream",
     "text": [
      "2023-12-05 17:44:45,539 - DEBUG - Row appended for chat file: WhatsApp Chat with Pertunia EWYL23E0113.txt\n"
     ]
    },
    {
     "name": "stdout",
     "output_type": "stream",
     "text": [
      "ENTER THE LOOP:               datetime            sender  \\\n",
      "246 2023-12-04 08:18:00     Saloni Edoofa   \n",
      "247 2023-12-04 13:33:00  +263 77 525 5853   \n",
      "248 2023-12-04 13:34:00  +263 77 525 5853   \n",
      "249 2023-12-04 13:34:00     Saloni Edoofa   \n",
      "250 2023-12-04 13:35:00  +263 77 525 5853   \n",
      "251 2023-12-04 13:35:00  +263 77 525 5853   \n",
      "252 2023-12-04 13:35:00  +263 77 525 5853   \n",
      "253 2023-12-04 13:36:00     Saloni Edoofa   \n",
      "254 2023-12-04 13:36:00     Saloni Edoofa   \n",
      "255 2023-12-04 13:36:00     Saloni Edoofa   \n",
      "256 2023-12-04 13:36:00     Saloni Edoofa   \n",
      "257 2023-12-04 13:36:00  +263 77 525 5853   \n",
      "258 2023-12-04 13:37:00  +263 77 525 5853   \n",
      "259 2023-12-04 13:38:00     Saloni Edoofa   \n",
      "260 2023-12-04 13:39:00  +263 77 525 5853   \n",
      "261 2023-12-04 13:39:00     Saloni Edoofa   \n",
      "262 2023-12-04 13:39:00     Saloni Edoofa   \n",
      "263 2023-12-04 13:40:00  +263 77 525 5853   \n",
      "264 2023-12-04 13:41:00     Saloni Edoofa   \n",
      "265 2023-12-04 13:42:00  +263 77 525 5853   \n",
      "266 2023-12-04 13:46:00  +263 77 525 5853   \n",
      "267 2023-12-04 13:46:00     Saloni Edoofa   \n",
      "268 2023-12-04 13:46:00     Saloni Edoofa   \n",
      "269 2023-12-04 13:47:00  +263 77 525 5853   \n",
      "270 2023-12-04 13:48:00  +263 77 525 5853   \n",
      "271 2023-12-04 13:50:00     Saloni Edoofa   \n",
      "272 2023-12-04 13:50:00     Saloni Edoofa   \n",
      "273 2023-12-04 13:51:00  +263 77 525 5853   \n",
      "274 2023-12-04 13:51:00  +263 77 525 5853   \n",
      "275 2023-12-04 13:57:00     Saloni Edoofa   \n",
      "276 2023-12-04 16:13:00  +263 77 525 5853   \n",
      "\n",
      "                                               message  \n",
      "246  Greetings of the day! How did your weekend go?...  \n",
      "247  Hope you had a nice weekend. I had a nice time...  \n",
      "248                  We can proceed from where we left  \n",
      "249                     May we begin with our session🚀  \n",
      "250  The third Activity requires me to look out for...  \n",
      "251  But l would like to know if l can still get ba...  \n",
      "252                               Replying to this one  \n",
      "253               I will get back to you on this soon.  \n",
      "254  Okay great, now allow me to recap this project...  \n",
      "255  As a proud edoofian and as a student who is go...  \n",
      "256  You can use the following form to share the sc...  \n",
      "257                                               Okay  \n",
      "258                                      Okay I got it  \n",
      "259  And #2  The *Scholarship Credits* earning oppo...  \n",
      "260                                  This is wonderful  \n",
      "261  Now, Let me help you with the kind of communic...  \n",
      "262  Before we start, I want you to answer the ques...  \n",
      "263                                            Yh sure  \n",
      "264  Can you please share about the same to help me...  \n",
      "265  Makumbe high school Yes it's connected with ed...  \n",
      "266  Greetings to you sir/madam .  As a student l k...  \n",
      "267  TODAY, I would like you to connect with other ...  \n",
      "268  May I know if you have the other School Head’s...  \n",
      "269                                   I don't have any  \n",
      "270  I suggest you give me some time to do that sin...  \n",
      "271  Sure, you can take today's time and then we ca...  \n",
      "272  Now, Phyllis- we’ve come to the end of one par...  \n",
      "273     Ooooh okay thanks a lot for your understanding  \n",
      "274                                         Ooooh well  \n",
      "275        May I know if you have any concerns so far?  \n",
      "276                            Nothing at hand for now  \n"
     ]
    },
    {
     "name": "stderr",
     "output_type": "stream",
     "text": [
      "2023-12-05 17:44:45,981 - DEBUG - Row appended for chat file: WhatsApp Chat with Phyllis EWYL23E0281.txt\n"
     ]
    },
    {
     "name": "stdout",
     "output_type": "stream",
     "text": [
      "ENTER THE LOOP:               datetime            sender  \\\n",
      "265 2023-12-04 14:09:00     Saloni Edoofa   \n",
      "266 2023-12-04 15:31:00  +263 71 980 7849   \n",
      "\n",
      "                                               message  \n",
      "265  Good afternoon Praise, How are you?  May I kno...  \n",
      "266  I'm fine thanks and how are you?  Starting fro...  \n"
     ]
    },
    {
     "name": "stderr",
     "output_type": "stream",
     "text": [
      "2023-12-05 17:44:46,392 - DEBUG - Row appended for chat file: WhatsApp Chat with Praise EWYL23E0174.txt\n"
     ]
    },
    {
     "name": "stdout",
     "output_type": "stream",
     "text": [
      "ENTER THE LOOP:               datetime           sender  \\\n",
      "415 2023-12-04 15:14:00    Saloni Edoofa   \n",
      "416 2023-12-04 15:49:00  +91 84275 06957   \n",
      "417 2023-12-04 15:50:00  +91 84275 06957   \n",
      "\n",
      "                                               message  \n",
      "415  Good evening, Precious,  I hope this message f...  \n",
      "416                                   Good evening Mam  \n",
      "417  I'm not feeling well since Saturday due to the...  \n"
     ]
    },
    {
     "name": "stderr",
     "output_type": "stream",
     "text": [
      "2023-12-05 17:44:46,851 - DEBUG - Row appended for chat file: WhatsApp Chat with Precious EWYL22E0313.txt\n"
     ]
    },
    {
     "name": "stdout",
     "output_type": "stream",
     "text": [
      "ENTER THE LOOP:              datetime         sender  \\\n",
      "60 2023-12-04 13:59:00  Saloni Edoofa   \n",
      "\n",
      "                                              message  \n",
      "60  Good afternoon parents!  May I know if Preciou...  \n"
     ]
    },
    {
     "name": "stderr",
     "output_type": "stream",
     "text": [
      "2023-12-05 17:44:47,200 - DEBUG - Row appended for chat file: WhatsApp Chat with Precious EWYL23E0014.txt\n"
     ]
    },
    {
     "name": "stdout",
     "output_type": "stream",
     "text": [
      "ENTER THE LOOP:              datetime            sender  \\\n",
      "46 2023-12-04 11:06:00     Saloni Edoofa   \n",
      "47 2023-12-04 11:06:00     Saloni Edoofa   \n",
      "48 2023-12-04 11:28:00  +263 71 582 0116   \n",
      "49 2023-12-04 11:28:00  +263 71 582 0116   \n",
      "50 2023-12-04 14:56:00     Saloni Edoofa   \n",
      "51 2023-12-04 14:57:00     Saloni Edoofa   \n",
      "52 2023-12-04 15:27:00  +263 71 582 0116   \n",
      "\n",
      "                                              message  \n",
      "46                   Good morning Pride! How are you?  \n",
      "47           So, may we begin with our sessions then?  \n",
      "48             Good morning ma'am,  I'm good and you?  \n",
      "49                                                Yes  \n",
      "50                        I am doing well, thank you!  \n",
      "51  We will have our session from tomorrow onwards...  \n",
      "52                                              Noted  \n"
     ]
    },
    {
     "name": "stderr",
     "output_type": "stream",
     "text": [
      "2023-12-05 17:44:47,646 - DEBUG - Row appended for chat file: WhatsApp Chat with Pride EWYL23E0010.txt\n"
     ]
    },
    {
     "name": "stdout",
     "output_type": "stream",
     "text": [
      "ENTER THE LOOP:               datetime         sender  \\\n",
      "448 2023-12-04 15:15:00  Saloni Edoofa   \n",
      "449 2023-12-04 15:15:00  Saloni Edoofa   \n",
      "\n",
      "                                               message  \n",
      "448  Good evening, Rachael,  I hope this message fi...  \n",
      "449                                    <Media omitted>  \n"
     ]
    },
    {
     "name": "stderr",
     "output_type": "stream",
     "text": [
      "2023-12-05 17:44:48,298 - DEBUG - Row appended for chat file: WhatsApp Chat with Rachael EWYL23E0232.txt\n"
     ]
    },
    {
     "name": "stdout",
     "output_type": "stream",
     "text": [
      "ENTER THE LOOP:               datetime         sender  \\\n",
      "289 2023-12-04 08:33:00  Saloni Edoofa   \n",
      "290 2023-12-04 10:04:00  Saloni Edoofa   \n",
      "\n",
      "                                               message  \n",
      "289  Greetings of the day! How did your weekend go?...  \n",
      "290            May we begin with our exciting session🚀  \n"
     ]
    },
    {
     "name": "stderr",
     "output_type": "stream",
     "text": [
      "2023-12-05 17:44:48,861 - DEBUG - Row appended for chat file: WhatsApp Chat with Rejoice EWYL22E1133.txt\n"
     ]
    },
    {
     "name": "stdout",
     "output_type": "stream",
     "text": [
      "ENTER THE LOOP:               datetime            sender  \\\n",
      "357 2023-12-04 12:42:00  +263 77 422 3065   \n",
      "358 2023-12-04 14:22:00     Saloni Edoofa   \n",
      "359 2023-12-04 14:22:00     Saloni Edoofa   \n",
      "360 2023-12-04 14:50:00  +263 77 422 3065   \n",
      "361 2023-12-04 15:36:00     Saloni Edoofa   \n",
      "\n",
      "                                               message  \n",
      "357  Hie Mentor ...should l submit the students for...  \n",
      "358            Good afternoon Resistance! How are you?  \n",
      "359     Please share the form here, in the EWYL Group.  \n",
      "360  Student Name: Tinotenda Julia Tambe Date of bi...  \n",
      "361  Excellent job on submitting the form! I've pro...  \n"
     ]
    },
    {
     "name": "stderr",
     "output_type": "stream",
     "text": [
      "2023-12-05 17:44:49,384 - DEBUG - Row appended for chat file: WhatsApp Chat with Resistance EWYL23E0195.txt\n"
     ]
    },
    {
     "name": "stdout",
     "output_type": "stream",
     "text": [
      "ENTER THE LOOP:               datetime           sender  \\\n",
      "415 2023-12-04 12:13:00  +27 76 361 7534   \n",
      "416 2023-12-04 12:16:00  +27 76 361 7534   \n",
      "417 2023-12-04 12:28:00  +27 76 361 7534   \n",
      "418 2023-12-04 14:54:00    Saloni Edoofa   \n",
      "419 2023-12-04 14:55:00    Saloni Edoofa   \n",
      "420 2023-12-04 15:38:00  +27 76 361 7534   \n",
      "\n",
      "                                               message  \n",
      "415                              Hi ms Saloni lam back  \n",
      "416  Can you add this number on Edoofa business lin...  \n",
      "417                                    Form Revelation  \n",
      "418              Good evening Revelation, How are you?  \n",
      "419  I am very excited to begin with journey, but I...  \n",
      "420                                    Weekly sessions  \n"
     ]
    },
    {
     "name": "stderr",
     "output_type": "stream",
     "text": [
      "2023-12-05 17:44:49,966 - DEBUG - Row appended for chat file: WhatsApp Chat with Revelation EWYL23E0533.txt\n"
     ]
    },
    {
     "name": "stdout",
     "output_type": "stream",
     "text": [
      "ENTER THE LOOP:               datetime            sender  \\\n",
      "244 2023-12-04 08:33:00     Saloni Edoofa   \n",
      "245 2023-12-04 09:23:00  +263 77 923 2295   \n",
      "246 2023-12-04 09:24:00  +263 77 923 2295   \n",
      "247 2023-12-04 09:24:00  +263 77 923 2295   \n",
      "248 2023-12-04 10:03:00     Saloni Edoofa   \n",
      "249 2023-12-04 10:04:00  +263 77 923 2295   \n",
      "250 2023-12-04 10:04:00     Saloni Edoofa   \n",
      "251 2023-12-04 10:05:00  +263 77 923 2295   \n",
      "252 2023-12-04 10:06:00     Saloni Edoofa   \n",
      "253 2023-12-04 10:07:00  +263 77 923 2295   \n",
      "254 2023-12-04 10:12:00     Saloni Edoofa   \n",
      "255 2023-12-04 10:15:00  +263 77 923 2295   \n",
      "256 2023-12-04 10:17:00     Saloni Edoofa   \n",
      "257 2023-12-04 10:17:00     Saloni Edoofa   \n",
      "258 2023-12-04 10:17:00     Saloni Edoofa   \n",
      "259 2023-12-04 10:20:00  +263 77 923 2295   \n",
      "260 2023-12-04 10:30:00     Saloni Edoofa   \n",
      "261 2023-12-04 10:31:00     Saloni Edoofa   \n",
      "262 2023-12-04 10:43:00  +263 77 923 2295   \n",
      "263 2023-12-04 10:44:00  +263 77 923 2295   \n",
      "264 2023-12-04 10:49:00     Saloni Edoofa   \n",
      "265 2023-12-04 10:49:00     Saloni Edoofa   \n",
      "266 2023-12-04 10:49:00     Saloni Edoofa   \n",
      "267 2023-12-04 10:53:00  +263 77 923 2295   \n",
      "268 2023-12-04 10:54:00  +263 77 923 2295   \n",
      "269 2023-12-04 10:57:00     Saloni Edoofa   \n",
      "270 2023-12-04 11:01:00  +263 77 923 2295   \n",
      "271 2023-12-04 11:01:00     Saloni Edoofa   \n",
      "272 2023-12-04 11:03:00  +263 77 923 2295   \n",
      "273 2023-12-04 11:05:00     Saloni Edoofa   \n",
      "274 2023-12-04 14:20:00  +263 77 923 2295   \n",
      "275 2023-12-04 16:02:00     Saloni Edoofa   \n",
      "\n",
      "                                               message  \n",
      "244  Greetings of the day! How did your weekend go?...  \n",
      "245                                 good day Ms Saloni  \n",
      "246                              l am a proud Edoofian  \n",
      "247                                              noted  \n",
      "248            May we begin with our exciting session🚀  \n",
      "249                                   yes we may begin  \n",
      "250          Have you understood everything till here?  \n",
      "251                                                yes  \n",
      "252  So may I know how many members are there in yo...  \n",
      "253                               there are 30 members  \n",
      "254  May I know how are you planning to increase th...  \n",
      "255  by sharing the Group links to the contacts l h...  \n",
      "256                          That is great Rivhathihi!  \n",
      "257  There is a trick on how you can excel and incr...  \n",
      "258                                    <Media omitted>  \n",
      "259  ohkay.... thank you for the additional informa...  \n",
      "260  Now, it’s been an interesting conversation wit...  \n",
      "261                                    <Media omitted>  \n",
      "262  the African school education reform mission pr...  \n",
      "263  After sharing the information the students can...  \n",
      "264  Okay great, now allow me to recap this project...  \n",
      "265  As a proud edoofian and as a student who is go...  \n",
      "266  You can use the following form to share the sc...  \n",
      "267                                              ohkay  \n",
      "268                           l understand the process  \n",
      "269  And #2  The *Scholarship Credits* earning oppo...  \n",
      "270                     ohkay.... well noted Ms Saloni  \n",
      "271  As we wrap up today's session, I'm eager to re...  \n",
      "272                    Same here..... Have a great day  \n",
      "273                               You too, Rivhathihi!  \n",
      "274  *Offline Application Form*  Student Name:Adela...  \n",
      "275  Excellent job on submitting the form! I've pro...  \n"
     ]
    },
    {
     "name": "stderr",
     "output_type": "stream",
     "text": [
      "2023-12-05 17:44:50,540 - DEBUG - Row appended for chat file: WhatsApp Chat with Rivhathihi EWYL23E0275.txt\n"
     ]
    },
    {
     "name": "stdout",
     "output_type": "stream",
     "text": [
      "ENTER THE LOOP:               datetime         sender  \\\n",
      "274 2023-12-04 08:52:00  Saloni Edoofa   \n",
      "275 2023-12-04 13:31:00  Saloni Edoofa   \n",
      "276 2023-12-04 13:31:00  Saloni Edoofa   \n",
      "277 2023-12-04 13:31:00  Saloni Edoofa   \n",
      "278 2023-12-04 13:31:00  Saloni Edoofa   \n",
      "279 2023-12-04 13:31:00  Saloni Edoofa   \n",
      "280 2023-12-04 13:31:00  Saloni Edoofa   \n",
      "281 2023-12-04 13:31:00  Saloni Edoofa   \n",
      "282 2023-12-04 13:31:00  Saloni Edoofa   \n",
      "283 2023-12-04 13:31:00  Saloni Edoofa   \n",
      "284 2023-12-04 13:31:00  Saloni Edoofa   \n",
      "285 2023-12-04 13:31:00  Saloni Edoofa   \n",
      "286 2023-12-04 13:31:00  Saloni Edoofa   \n",
      "287 2023-12-04 13:31:00  Saloni Edoofa   \n",
      "288 2023-12-04 13:31:00  Saloni Edoofa   \n",
      "\n",
      "                                               message  \n",
      "274  Good morning Rodwell! How are you?  This week ...  \n",
      "275                                    <Media omitted>  \n",
      "276                                    <Media omitted>  \n",
      "277                                    <Media omitted>  \n",
      "278                                    <Media omitted>  \n",
      "279                                    <Media omitted>  \n",
      "280                                    <Media omitted>  \n",
      "281                                    <Media omitted>  \n",
      "282                                    <Media omitted>  \n",
      "283                                    <Media omitted>  \n",
      "284                                    <Media omitted>  \n",
      "285                                    <Media omitted>  \n",
      "286                                    <Media omitted>  \n",
      "287                                    <Media omitted>  \n",
      "288                                    <Media omitted>  \n"
     ]
    },
    {
     "name": "stderr",
     "output_type": "stream",
     "text": [
      "2023-12-05 17:44:51,109 - DEBUG - Row appended for chat file: WhatsApp Chat with Rodwell EWYL23E0334.txt\n"
     ]
    },
    {
     "name": "stdout",
     "output_type": "stream",
     "text": [
      "ENTER THE LOOP:               datetime            sender  \\\n",
      "184 2023-12-04 09:06:00     Saloni Edoofa   \n",
      "185 2023-12-04 09:18:00  +263 78 888 7599   \n",
      "186 2023-12-04 09:26:00     Saloni Edoofa   \n",
      "187 2023-12-04 09:38:00  +263 78 888 7599   \n",
      "\n",
      "                                               message  \n",
      "184  Good morning Salma! How are you?  This week we...  \n",
      "185           I'm doing good and you ma'am? Okay noted  \n",
      "186                        I am doing well, thank you!  \n",
      "187                                    You are welcome  \n"
     ]
    },
    {
     "name": "stderr",
     "output_type": "stream",
     "text": [
      "2023-12-05 17:44:51,586 - DEBUG - Row appended for chat file: WhatsApp Chat with Salma EWYL23E0861.txt\n"
     ]
    },
    {
     "name": "stdout",
     "output_type": "stream",
     "text": [
      "ENTER THE LOOP:               datetime           sender  \\\n",
      "236 2023-12-04 09:37:00  +91 91158 66298   \n",
      "237 2023-12-04 09:40:00    Saloni Edoofa   \n",
      "238 2023-12-04 09:40:00  +91 91158 66298   \n",
      "\n",
      "                                         message  \n",
      "236                              <Media omitted>  \n",
      "237  Good afternoon Sekwila,  I have noted this!  \n",
      "238                                  Thank you 😊  \n"
     ]
    },
    {
     "name": "stderr",
     "output_type": "stream",
     "text": [
      "2023-12-05 17:44:52,065 - DEBUG - Row appended for chat file: WhatsApp Chat with Sekwila EWYL23E0104.txt\n"
     ]
    },
    {
     "name": "stdout",
     "output_type": "stream",
     "text": [
      "ENTER THE LOOP:               datetime            sender  \\\n",
      "150 2023-12-04 08:21:00     Saloni Edoofa   \n",
      "151 2023-12-04 13:35:00     Saloni Edoofa   \n",
      "152 2023-12-04 14:01:00  +263 77 296 0806   \n",
      "153 2023-12-04 14:05:00     Saloni Edoofa   \n",
      "154 2023-12-04 14:06:00  +263 77 296 0806   \n",
      "155 2023-12-04 14:07:00     Saloni Edoofa   \n",
      "156 2023-12-04 14:07:00  +263 77 296 0806   \n",
      "157 2023-12-04 14:09:00     Saloni Edoofa   \n",
      "158 2023-12-04 14:11:00  +263 77 296 0806   \n",
      "159 2023-12-04 14:22:00     Saloni Edoofa   \n",
      "160 2023-12-04 14:29:00  +263 77 296 0806   \n",
      "161 2023-12-04 14:29:00     Saloni Edoofa   \n",
      "\n",
      "                                               message  \n",
      "150  Greetings of the day! How did your weekend go?...  \n",
      "151                     May we begin with our session🚀  \n",
      "152  Hie I'm sorry to inform you that we may not be...  \n",
      "153  May I know if you have talked to the admission...  \n",
      "154            Yes I have shared the message with them  \n",
      "155  But I am sure that sooner or later, you would ...  \n",
      "156                                               Sure  \n",
      "157  May I know when will you be able to pay the re...  \n",
      "158  With the current situation we are facing I'm s...  \n",
      "159  No worries Shane, we can continue with the ses...  \n",
      "160           Thank u Shane will connect with you soon  \n",
      "161                                         Okay sure!  \n"
     ]
    },
    {
     "name": "stderr",
     "output_type": "stream",
     "text": [
      "2023-12-05 17:44:52,549 - DEBUG - Row appended for chat file: WhatsApp Chat with Shane EWYL23E0874.txt\n"
     ]
    },
    {
     "name": "stdout",
     "output_type": "stream",
     "text": [
      "ENTER THE LOOP:               datetime            sender  \\\n",
      "209 2023-12-04 14:32:00     Saloni Edoofa   \n",
      "210 2023-12-04 16:04:00  +263 78 122 2222   \n",
      "\n",
      "                                               message  \n",
      "209  Good evening Sharmaine! How are you?  You have...  \n",
      "210                                         Okay ma’am  \n"
     ]
    },
    {
     "name": "stderr",
     "output_type": "stream",
     "text": [
      "2023-12-05 17:44:53,097 - DEBUG - Row appended for chat file: WhatsApp Chat with Sharmaine EWYL22E0745.txt\n"
     ]
    },
    {
     "name": "stdout",
     "output_type": "stream",
     "text": [
      "ENTER THE LOOP:               datetime           sender  \\\n",
      "207 2023-12-04 15:16:00    Saloni Edoofa   \n",
      "208 2023-12-04 15:16:00  +91 89685 69880   \n",
      "209 2023-12-04 15:17:00  +91 89685 69880   \n",
      "210 2023-12-04 16:15:00    Saloni Edoofa   \n",
      "211 2023-12-04 16:15:00  +91 89685 69880   \n",
      "212 2023-12-04 16:15:00  +91 89685 69880   \n",
      "\n",
      "                                               message  \n",
      "207  Good evening, Sibonginkhosi,  I hope this mess...  \n",
      "208       I tried to join in but there was no response  \n",
      "209  I sent you a message that I can’t join the cal...  \n",
      "210  I was there on the call till 08:30 PM but I di...  \n",
      "211                                 From my device mam  \n",
      "212                       Remember I sent this message  \n"
     ]
    },
    {
     "name": "stderr",
     "output_type": "stream",
     "text": [
      "2023-12-05 17:44:53,575 - DEBUG - Row appended for chat file: WhatsApp Chat with Sibonginkhosi EWYL22E0928.txt\n"
     ]
    },
    {
     "name": "stdout",
     "output_type": "stream",
     "text": [
      "ENTER THE LOOP:               datetime            sender  \\\n",
      "335 2023-12-04 08:55:00     Saloni Edoofa   \n",
      "336 2023-12-04 08:59:00  +263 77 643 0351   \n",
      "337 2023-12-04 09:05:00     Saloni Edoofa   \n",
      "338 2023-12-04 09:10:00  +263 77 643 0351   \n",
      "339 2023-12-04 09:36:00     Saloni Edoofa   \n",
      "340 2023-12-04 09:49:00  +263 77 643 0351   \n",
      "341 2023-12-04 12:05:00     Saloni Edoofa   \n",
      "\n",
      "                                               message  \n",
      "335  Good morning Sibonokuhle! How are you?  This w...  \n",
      "336  Good morning madam sorry Sibonokuhle s phone i...  \n",
      "337   May I know when will her phone will be repaired?  \n",
      "338  M not sure l think she will be using mine   bu...  \n",
      "339                May I know when will she come back?  \n",
      "340     Yes maybe she will be available in the evening  \n",
      "341                                           Alright!  \n"
     ]
    },
    {
     "name": "stderr",
     "output_type": "stream",
     "text": [
      "2023-12-05 17:44:54,065 - DEBUG - Row appended for chat file: WhatsApp Chat with Sibonokuhle EWYL23E0482.txt\n"
     ]
    },
    {
     "name": "stdout",
     "output_type": "stream",
     "text": [
      "ENTER THE LOOP:               datetime            sender  \\\n",
      "107 2023-12-04 08:21:00     Saloni Edoofa   \n",
      "108 2023-12-04 08:21:00  +263 78 717 9272   \n",
      "109 2023-12-04 13:35:00     Saloni Edoofa   \n",
      "110 2023-12-04 13:44:00  +263 78 717 9272   \n",
      "111 2023-12-04 13:47:00     Saloni Edoofa   \n",
      "112 2023-12-04 13:47:00     Saloni Edoofa   \n",
      "113 2023-12-04 14:38:00  +263 78 717 9272   \n",
      "114 2023-12-04 14:38:00  +263 78 717 9272   \n",
      "115 2023-12-04 14:42:00  +263 78 717 9272   \n",
      "116 2023-12-04 14:42:00     Saloni Edoofa   \n",
      "\n",
      "                                               message  \n",
      "107  Greetings of the day! How did your weekend go?...  \n",
      "108                              Greetings to you maam  \n",
      "109                     May we begin with our session🚀  \n",
      "110                                         Noted maam  \n",
      "111  *Silas, now that we’ve both summarized our und...  \n",
      "112                                    <Media omitted>  \n",
      "113                Sorry ma'am I had a network probken  \n",
      "114                                            Problem  \n",
      "115                                         Understood  \n",
      "116  I am really happy with the progress we have ma...  \n"
     ]
    },
    {
     "name": "stderr",
     "output_type": "stream",
     "text": [
      "2023-12-05 17:44:54,451 - DEBUG - Row appended for chat file: WhatsApp Chat with Silas EWYL23E0930.txt\n"
     ]
    },
    {
     "name": "stdout",
     "output_type": "stream",
     "text": [
      "ENTER THE LOOP:               datetime            sender  \\\n",
      "105 2023-12-04 08:53:00     Saloni Edoofa   \n",
      "106 2023-12-04 08:53:00     Saloni Edoofa   \n",
      "107 2023-12-04 11:55:00  +263 78 547 2288   \n",
      "108 2023-12-04 12:46:00     Saloni Edoofa   \n",
      "109 2023-12-04 12:47:00     Saloni Edoofa   \n",
      "110 2023-12-04 12:47:00  +263 78 547 2288   \n",
      "\n",
      "                                               message  \n",
      "105  Good morning Sinqobile! How are you?  This wee...  \n",
      "106        Also, can you share an update on the video?  \n",
      "107                                    <Media omitted>  \n",
      "108  Sinqobile, I must express my heartfelt appreci...  \n",
      "109                                    <Media omitted>  \n",
      "110                                             Thanks  \n"
     ]
    },
    {
     "name": "stderr",
     "output_type": "stream",
     "text": [
      "2023-12-05 17:44:54,812 - DEBUG - Row appended for chat file: WhatsApp Chat with Sinqobile EWYL23E0838.txt\n"
     ]
    },
    {
     "name": "stdout",
     "output_type": "stream",
     "text": [
      "ENTER THE LOOP:               datetime         sender  \\\n",
      "269 2023-12-04 15:03:00  Saloni Edoofa   \n",
      "270 2023-12-04 15:10:00  Saloni Edoofa   \n",
      "\n",
      "                                               message  \n",
      "269  Good evening, Tadiwanashe,  I hope this messag...  \n",
      "270                                    <Media omitted>  \n"
     ]
    },
    {
     "name": "stderr",
     "output_type": "stream",
     "text": [
      "2023-12-05 17:44:55,291 - DEBUG - Row appended for chat file: WhatsApp Chat with Tadiwanashe EWYL23E0037.txt\n"
     ]
    },
    {
     "name": "stdout",
     "output_type": "stream",
     "text": [
      "ENTER THE LOOP:               datetime         sender  \\\n",
      "208 2023-12-04 09:15:00  Saloni Edoofa   \n",
      "\n",
      "                                               message  \n",
      "208  Good afternoon Takudzwa! How are you?  I am do...  \n"
     ]
    },
    {
     "name": "stderr",
     "output_type": "stream",
     "text": [
      "2023-12-05 17:44:55,718 - DEBUG - Row appended for chat file: WhatsApp Chat with Takudzwa EWYL22E0221.txt\n"
     ]
    },
    {
     "name": "stdout",
     "output_type": "stream",
     "text": [
      "ENTER THE LOOP:               datetime            sender  \\\n",
      "150 2023-12-04 08:23:00     Saloni Edoofa   \n",
      "151 2023-12-04 08:24:00  +263 78 822 5894   \n",
      "152 2023-12-04 08:29:00     Saloni Edoofa   \n",
      "153 2023-12-04 08:31:00  +263 78 822 5894   \n",
      "154 2023-12-04 08:31:00     Saloni Edoofa   \n",
      "155 2023-12-04 09:00:00  +263 78 822 5894   \n",
      "156 2023-12-04 09:05:00     Saloni Edoofa   \n",
      "157 2023-12-04 09:11:00  +263 78 822 5894   \n",
      "158 2023-12-04 09:17:00     Saloni Edoofa   \n",
      "159 2023-12-04 09:30:00  +263 78 822 5894   \n",
      "160 2023-12-04 09:33:00     Saloni Edoofa   \n",
      "161 2023-12-04 09:34:00     Saloni Edoofa   \n",
      "162 2023-12-04 09:34:00     Saloni Edoofa   \n",
      "163 2023-12-04 09:45:00  +263 78 822 5894   \n",
      "164 2023-12-04 09:49:00     Saloni Edoofa   \n",
      "165 2023-12-04 09:57:00  +263 78 822 5894   \n",
      "166 2023-12-04 09:58:00  +263 78 822 5894   \n",
      "167 2023-12-04 10:00:00  +263 78 822 5894   \n",
      "168 2023-12-04 10:02:00     Saloni Edoofa   \n",
      "169 2023-12-04 10:05:00  +263 78 822 5894   \n",
      "\n",
      "                                               message  \n",
      "150  Greetings of the day! How did your weekend go?...  \n",
      "151                                       Ok noted sir  \n",
      "152  Since I am a female, I would appreciate your a...  \n",
      "153                               I'm very sorry ma'am  \n",
      "154                                        No worries!  \n",
      "155                                Good morning ma 'am  \n",
      "156                     May we begin with our session?  \n",
      "157                                          Yes ma'am  \n",
      "158  Can you please share the names of all three pr...  \n",
      "159  Corporate Alliances,community building, Africa...  \n",
      "160  This is amazing, you have explained everything...  \n",
      "161  I will start by explaining the projects in det...  \n",
      "162                                    <Media omitted>  \n",
      "163                                         Well heard  \n",
      "164  Can you please share what you have learned fro...  \n",
      "165  I have learned that the EWYL program help you ...  \n",
      "166  Creating a professional networking platform, t...  \n",
      "167  The app will help you reaching managers , hear...  \n",
      "168  As we wrap up today's session, I'm eager to re...  \n",
      "169                               Okay thank you ma'am  \n"
     ]
    },
    {
     "name": "stderr",
     "output_type": "stream",
     "text": [
      "2023-12-05 17:44:56,187 - DEBUG - Row appended for chat file: WhatsApp Chat with Takudzwa EWYL22E1131.txt\n"
     ]
    },
    {
     "name": "stdout",
     "output_type": "stream",
     "text": [
      "ENTER THE LOOP:               datetime           sender  \\\n",
      "312 2023-12-04 09:31:00    Saloni Edoofa   \n",
      "313 2023-12-04 09:31:00    Saloni Edoofa   \n",
      "314 2023-12-04 11:26:00  +91 89685 56817   \n",
      "\n",
      "                                               message  \n",
      "312         Good afternoon Takudzwanashe! How are you?  \n",
      "313  Let me check with the Program Director soon, a...  \n",
      "314                                   Ok Thank you mam  \n"
     ]
    },
    {
     "name": "stderr",
     "output_type": "stream",
     "text": [
      "2023-12-05 17:44:56,757 - DEBUG - Row appended for chat file: WhatsApp Chat with Takudzwanashe EWYL22E1289.txt\n"
     ]
    },
    {
     "name": "stdout",
     "output_type": "stream",
     "text": [
      "ENTER THE LOOP:               datetime            sender  \\\n",
      "186 2023-12-04 08:20:00     Saloni Edoofa   \n",
      "187 2023-12-04 08:28:00  +263 77 782 4648   \n",
      "188 2023-12-04 13:34:00     Saloni Edoofa   \n",
      "189 2023-12-04 13:48:00  +263 77 782 4648   \n",
      "190 2023-12-04 13:51:00     Saloni Edoofa   \n",
      "191 2023-12-04 13:53:00  +263 77 782 4648   \n",
      "192 2023-12-04 13:59:00     Saloni Edoofa   \n",
      "193 2023-12-04 14:01:00  +263 77 782 4648   \n",
      "194 2023-12-04 14:05:00     Saloni Edoofa   \n",
      "195 2023-12-04 14:05:00     Saloni Edoofa   \n",
      "196 2023-12-04 14:07:00  +263 77 782 4648   \n",
      "197 2023-12-04 14:07:00     Saloni Edoofa   \n",
      "198 2023-12-04 14:09:00  +263 77 782 4648   \n",
      "199 2023-12-04 14:18:00     Saloni Edoofa   \n",
      "200 2023-12-04 14:18:00     Saloni Edoofa   \n",
      "201 2023-12-04 14:18:00     Saloni Edoofa   \n",
      "202 2023-12-04 14:18:00     Saloni Edoofa   \n",
      "203 2023-12-04 14:18:00     Saloni Edoofa   \n",
      "204 2023-12-04 14:18:00     Saloni Edoofa   \n",
      "205 2023-12-04 14:18:00     Saloni Edoofa   \n",
      "206 2023-12-04 14:18:00     Saloni Edoofa   \n",
      "207 2023-12-04 14:23:00  +263 77 782 4648   \n",
      "208 2023-12-04 14:26:00     Saloni Edoofa   \n",
      "\n",
      "                                               message  \n",
      "186  Greetings of the day! How did your weekend go?...  \n",
      "187                                  Oky will be there  \n",
      "188                     May we begin with our session🚀  \n",
      "189                            Hello am here lets stat  \n",
      "190                              Did you work on this?  \n",
      "191  Haaaaa l didn't get them ....the person l send...  \n",
      "192  But some of the other students might be having...  \n",
      "193        Yeah am still looking fir the one with them  \n",
      "194                              That is great Tanaka!  \n",
      "195  Now, Tanaka- we’ve come to the end of one part...  \n",
      "196  Oky should l do all theseprojects or l choose one  \n",
      "197  I would appreciate it if you choose one projec...  \n",
      "198                                      Oky thank you  \n",
      "199  So now we are ready to move to move to an amaz...  \n",
      "200  Please note a few things: FIRST- Please note t...  \n",
      "201  SECOND- In our sessions (*TUESDAY and FRIDAY*)...  \n",
      "202  THIRD- All our conversations from now on will ...  \n",
      "203                      EWYL Line.vcf (file attached)  \n",
      "204  FOURTH- You have to come on the EWYL Line and ...  \n",
      "205  FIFTH- Every day you have to come and say *\"I ...  \n",
      "206  It serves as a link between each and every stu...  \n",
      "207                                     Oky understood  \n",
      "208           Once you have done this, do let me know.  \n"
     ]
    },
    {
     "name": "stderr",
     "output_type": "stream",
     "text": [
      "2023-12-05 17:44:57,282 - DEBUG - Row appended for chat file: WhatsApp Chat with Tanaka EWYL23E0781.txt\n"
     ]
    },
    {
     "name": "stdout",
     "output_type": "stream",
     "text": [
      "ENTER THE LOOP:               datetime            sender  \\\n",
      "109 2023-12-04 08:36:00     Saloni Edoofa   \n",
      "110 2023-12-04 09:19:00  +263 77 832 4244   \n",
      "111 2023-12-04 10:04:00     Saloni Edoofa   \n",
      "112 2023-12-04 10:05:00  +263 77 832 4244   \n",
      "113 2023-12-04 10:07:00     Saloni Edoofa   \n",
      "114 2023-12-04 10:08:00     Saloni Edoofa   \n",
      "115 2023-12-04 10:08:00     Saloni Edoofa   \n",
      "116 2023-12-04 10:18:00  +263 77 832 4244   \n",
      "117 2023-12-04 10:23:00     Saloni Edoofa   \n",
      "118 2023-12-04 11:02:00     Saloni Edoofa   \n",
      "\n",
      "                                               message  \n",
      "109  Greetings of the day! How did your weekend go?...  \n",
      "110                                              Noted  \n",
      "111            May we begin with our exciting session🚀  \n",
      "112                                          Yes ma'am  \n",
      "113  This is awesome, you have touched the core of ...  \n",
      "114  I will start by explaining the projects in det...  \n",
      "115                                    <Media omitted>  \n",
      "116                       I have listened to the audio  \n",
      "117       Can you share what have you learned from it?  \n",
      "118  As we wrap up today's session, I'm eager to re...  \n"
     ]
    },
    {
     "name": "stderr",
     "output_type": "stream",
     "text": [
      "2023-12-05 17:44:57,840 - DEBUG - Row appended for chat file: WhatsApp Chat with Tanatswanashe EWYL23E0749.txt\n"
     ]
    },
    {
     "name": "stdout",
     "output_type": "stream",
     "text": [
      "ENTER THE LOOP:               datetime            sender  \\\n",
      "311 2023-12-04 15:18:00     Saloni Edoofa   \n",
      "312 2023-12-04 17:59:00  +263 78 212 8653   \n",
      "\n",
      "                                               message  \n",
      "311  Good evening, Tanyaradzwa,  I hope this messag...  \n",
      "312  Sorry mam on behalf of Tanya, right now he doe...  \n"
     ]
    },
    {
     "name": "stderr",
     "output_type": "stream",
     "text": [
      "2023-12-05 17:44:58,754 - DEBUG - Row appended for chat file: WhatsApp Chat with Tanyaradzwa EWYL21E0856.txt\n"
     ]
    },
    {
     "name": "stdout",
     "output_type": "stream",
     "text": [
      "ENTER THE LOOP:               datetime            sender  \\\n",
      "164 2023-12-04 08:53:00     Saloni Edoofa   \n",
      "165 2023-12-04 15:54:00  +263 78 602 0609   \n",
      "166 2023-12-04 15:54:00  +263 78 602 0609   \n",
      "\n",
      "                                               message  \n",
      "164  Good morning Ta[piwanashe! How are you?  This ...  \n",
      "165                                       Afternoon ma  \n",
      "166                                     Afternoon maam  \n"
     ]
    },
    {
     "name": "stderr",
     "output_type": "stream",
     "text": [
      "2023-12-05 17:44:59,750 - DEBUG - Row appended for chat file: WhatsApp Chat with Tapiwanashe EWYL22E0906.txt\n"
     ]
    },
    {
     "name": "stdout",
     "output_type": "stream",
     "text": [
      "ENTER THE LOOP:               datetime           sender  \\\n",
      "335 2023-12-04 15:19:00    Saloni Edoofa   \n",
      "336 2023-12-04 15:29:00  +91 89685 78121   \n",
      "337 2023-12-04 15:34:00  +91 89685 78121   \n",
      "\n",
      "                                               message  \n",
      "335  Good evening, Tariro,  I hope this message fin...  \n",
      "336  I was caught up in reading , l have lot of CA ...  \n",
      "337          I also tried joining but nobody let me in  \n"
     ]
    },
    {
     "name": "stderr",
     "output_type": "stream",
     "text": [
      "2023-12-05 17:45:01,172 - DEBUG - Row appended for chat file: WhatsApp Chat with Tariro EWYL23E0089.txt\n"
     ]
    },
    {
     "name": "stdout",
     "output_type": "stream",
     "text": [
      "ENTER THE LOOP:               datetime            sender  \\\n",
      "270 2023-12-04 15:17:00     Saloni Edoofa   \n",
      "271 2023-12-04 17:26:00  +263 78 067 7692   \n",
      "\n",
      "                                               message  \n",
      "270  Good evening, Tatenda,  I hope this message fi...  \n",
      "271  My apologies for my absence on Saturday .It wa...  \n"
     ]
    },
    {
     "name": "stderr",
     "output_type": "stream",
     "text": [
      "2023-12-05 17:45:02,672 - DEBUG - Row appended for chat file: WhatsApp Chat with Tatenda EWYL23E0111.txt\n"
     ]
    },
    {
     "name": "stdout",
     "output_type": "stream",
     "text": [
      "ENTER THE LOOP:               datetime            sender  \\\n",
      "215 2023-12-04 08:54:00     Saloni Edoofa   \n",
      "216 2023-12-04 10:33:00  +263 78 128 5721   \n",
      "\n",
      "                                               message  \n",
      "215  Good morning Tendaishe! How are you?  This wee...  \n",
      "216                                                 ok  \n"
     ]
    },
    {
     "name": "stderr",
     "output_type": "stream",
     "text": [
      "2023-12-05 17:45:03,861 - DEBUG - Row appended for chat file: WhatsApp Chat with Tendaishe EWYL23E0664.txt\n"
     ]
    },
    {
     "name": "stdout",
     "output_type": "stream",
     "text": [
      "ENTER THE LOOP:               datetime         sender  \\\n",
      "230 2023-12-04 14:35:00  Saloni Edoofa   \n",
      "\n",
      "                                               message  \n",
      "230  Good afternoon Tinashe, How are you?  Your tho...  \n"
     ]
    },
    {
     "name": "stderr",
     "output_type": "stream",
     "text": [
      "2023-12-05 17:45:05,364 - DEBUG - Row appended for chat file: WhatsApp Chat with Tinashe EWYL22E0855.txt\n"
     ]
    },
    {
     "name": "stdout",
     "output_type": "stream",
     "text": [
      "ENTER THE LOOP:               datetime           sender  \\\n",
      "280 2023-12-04 09:21:00    Saloni Edoofa   \n",
      "281 2023-12-04 09:21:00    Saloni Edoofa   \n",
      "282 2023-12-04 09:21:00    Saloni Edoofa   \n",
      "283 2023-12-04 09:21:00    Saloni Edoofa   \n",
      "284 2023-12-04 09:21:00    Saloni Edoofa   \n",
      "285 2023-12-04 09:21:00    Saloni Edoofa   \n",
      "286 2023-12-04 09:22:00    Saloni Edoofa   \n",
      "287 2023-12-04 09:30:00  +91 78891 60553   \n",
      "288 2023-12-04 09:31:00  +91 78891 60553   \n",
      "289 2023-12-04 09:35:00    Saloni Edoofa   \n",
      "290 2023-12-04 09:49:00  +91 78891 60553   \n",
      "291 2023-12-04 10:28:00  +91 78891 60553   \n",
      "292 2023-12-04 11:04:00    Saloni Edoofa   \n",
      "293 2023-12-04 11:05:00    Saloni Edoofa   \n",
      "294 2023-12-04 11:06:00  +91 78891 60553   \n",
      "295 2023-12-04 11:07:00  +91 78891 60553   \n",
      "296 2023-12-04 14:56:00    Saloni Edoofa   \n",
      "297 2023-12-04 15:03:00  +91 78891 60553   \n",
      "\n",
      "                                               message  \n",
      "280             Good afternoon Tinotenda! How are you?  \n",
      "281  Let me introduce you to the scholarship progra...  \n",
      "282  *Edoofa Scholarship Program* is a well-appreci...  \n",
      "283  *Offline Application Form*  Student Name: Date...  \n",
      "284                                    <Media omitted>  \n",
      "285                                    <Media omitted>  \n",
      "286  Please share all this information with the int...  \n",
      "287  I had already shared with her all the necessar...  \n",
      "288  She managed to answer the questions that l ask...  \n",
      "289  That is great, can you share her filled applic...  \n",
      "290  *Offline Application Form*  Student Name: *Mut...  \n",
      "291  Mam l wanted to know if this form is going to ...  \n",
      "292  Great job on submitting the form! I've forward...  \n",
      "293                        Yes, it will be considered.  \n",
      "294  Okay so she had a plea concerning that she wan...  \n",
      "295                                Okay mam thank you.  \n",
      "296  That is alright, the student can share the sam...  \n",
      "297                                 Okay mam thank you  \n"
     ]
    },
    {
     "name": "stderr",
     "output_type": "stream",
     "text": [
      "2023-12-05 17:45:06,469 - DEBUG - Row appended for chat file: WhatsApp Chat with Tinotenda EWYL22E0121.txt\n"
     ]
    },
    {
     "name": "stdout",
     "output_type": "stream",
     "text": [
      "ENTER THE LOOP:               datetime            sender  \\\n",
      "487 2023-12-04 15:15:00     Saloni Edoofa   \n",
      "488 2023-12-04 15:38:00   +91 76268 84388   \n",
      "489 2023-12-04 15:49:00   +91 76268 84388   \n",
      "490 2023-12-04 15:50:00   +91 76268 84388   \n",
      "491 2023-12-04 15:50:00   +91 76268 84388   \n",
      "492 2023-12-04 15:52:00  +263 77 305 2349   \n",
      "493 2023-12-04 15:52:00   +91 76268 84388   \n",
      "\n",
      "                                               message  \n",
      "487  Good evening, Tinotenda,  I hope this message ...  \n",
      "488                               Okay thank you ma’am  \n",
      "489  As noted in the message above as soon as my ne...  \n",
      "490  I told you I was having problems with my netwo...  \n",
      "491    I tired rejoining but it wasn’t letting me join  \n",
      "492                                              Tried  \n",
      "493                                          Yes tried  \n"
     ]
    },
    {
     "name": "stderr",
     "output_type": "stream",
     "text": [
      "2023-12-05 17:45:07,590 - DEBUG - Row appended for chat file: WhatsApp Chat with Tinotenda EWYL22E1172.txt\n"
     ]
    },
    {
     "name": "stdout",
     "output_type": "stream",
     "text": [
      "ENTER THE LOOP:              datetime            sender  \\\n",
      "24 2023-12-04 14:02:00     Saloni Edoofa   \n",
      "25 2023-12-04 14:02:00     Saloni Edoofa   \n",
      "26 2023-12-04 17:24:00  +263 77 669 4287   \n",
      "\n",
      "                                              message  \n",
      "24             Good afternoon Tinotenda! How are you?  \n",
      "25  May I know if you would like to start from lea...  \n",
      "26                                Yes  ma’am am ready  \n"
     ]
    },
    {
     "name": "stderr",
     "output_type": "stream",
     "text": [
      "2023-12-05 17:45:08,229 - DEBUG - Row appended for chat file: WhatsApp Chat with Tinotenda EWYL23E0030.txt\n"
     ]
    },
    {
     "name": "stdout",
     "output_type": "stream",
     "text": [
      "ENTER THE LOOP:               datetime           sender  \\\n",
      "401 2023-12-04 14:42:00    Saloni Edoofa   \n",
      "402 2023-12-04 15:13:00    Saloni Edoofa   \n",
      "403 2023-12-04 15:35:00  +91 89682 42416   \n",
      "404 2023-12-04 15:37:00  +91 89682 42416   \n",
      "\n",
      "                                               message  \n",
      "401        Good evening Tracy, How is your health now?  \n",
      "402  I hope this message finds you well. Regarding ...  \n",
      "403                             Iam doing good and you  \n",
      "404  Last Saturday l was not feeling well 😞😞,, I wa...  \n"
     ]
    },
    {
     "name": "stderr",
     "output_type": "stream",
     "text": [
      "2023-12-05 17:45:09,131 - DEBUG - Row appended for chat file: WhatsApp Chat with Tracy EWYL22E1254.txt\n"
     ]
    },
    {
     "name": "stdout",
     "output_type": "stream",
     "text": [
      "ENTER THE LOOP:               datetime           sender  \\\n",
      "183 2023-12-04 15:17:00    Saloni Edoofa   \n",
      "184 2023-12-04 15:37:00  +91 73474 87938   \n",
      "185 2023-12-04 15:37:00  +91 73474 87938   \n",
      "\n",
      "                                               message  \n",
      "183  Good evening, Unique,  I hope this message fin...  \n",
      "184                            I had lectures and a CA  \n",
      "185                         I had to renew my frro too  \n"
     ]
    },
    {
     "name": "stderr",
     "output_type": "stream",
     "text": [
      "2023-12-05 17:45:09,859 - DEBUG - Row appended for chat file: WhatsApp Chat with Unique EWYL22E0643.txt\n"
     ]
    },
    {
     "name": "stdout",
     "output_type": "stream",
     "text": [
      "ENTER THE LOOP:               datetime            sender  \\\n",
      "255 2023-12-04 13:39:00     Saloni Edoofa   \n",
      "256 2023-12-04 13:50:00  +263 77 276 0832   \n",
      "257 2023-12-04 13:55:00     Saloni Edoofa   \n",
      "\n",
      "                                               message  \n",
      "255  Good evening everyone,  I just wanted to ask h...  \n",
      "256            We are well, thank Saloni. How are you?  \n",
      "257                        I am doing well, thank you!  \n"
     ]
    },
    {
     "name": "stderr",
     "output_type": "stream",
     "text": [
      "2023-12-05 17:45:10,768 - DEBUG - Row appended for chat file: WhatsApp Chat with VITTALIS EWYL22E1315.txt\n"
     ]
    },
    {
     "name": "stdout",
     "output_type": "stream",
     "text": [
      "ENTER THE LOOP:               datetime           sender  \\\n",
      "215 2023-12-04 09:53:00    Saloni Edoofa   \n",
      "216 2023-12-04 09:54:00    Saloni Edoofa   \n",
      "217 2023-12-04 10:01:00  +260 96 2476932   \n",
      "218 2023-12-04 10:01:00    Saloni Edoofa   \n",
      "219 2023-12-04 10:01:00  +260 96 2476932   \n",
      "220 2023-12-04 10:01:00    Saloni Edoofa   \n",
      "221 2023-12-04 10:02:00  +260 96 2476932   \n",
      "222 2023-12-04 10:03:00    Saloni Edoofa   \n",
      "223 2023-12-04 10:04:00  +260 96 2476932   \n",
      "224 2023-12-04 10:04:00    Saloni Edoofa   \n",
      "225 2023-12-04 10:05:00  +260 96 2476932   \n",
      "226 2023-12-04 10:08:00    Saloni Edoofa   \n",
      "227 2023-12-04 10:08:00    Saloni Edoofa   \n",
      "228 2023-12-04 10:12:00  +260 96 2476932   \n",
      "229 2023-12-04 10:14:00  +260 96 2476932   \n",
      "230 2023-12-04 10:16:00    Saloni Edoofa   \n",
      "231 2023-12-04 10:29:00  +260 96 2476932   \n",
      "232 2023-12-04 10:36:00    Saloni Edoofa   \n",
      "233 2023-12-04 10:36:00    Saloni Edoofa   \n",
      "234 2023-12-04 10:37:00    Saloni Edoofa   \n",
      "235 2023-12-04 11:02:00    Saloni Edoofa   \n",
      "236 2023-12-04 11:48:00  +260 96 2476932   \n",
      "237 2023-12-04 11:48:00  +260 96 2476932   \n",
      "238 2023-12-04 12:04:00    Saloni Edoofa   \n",
      "239 2023-12-04 12:12:00  +260 96 2476932   \n",
      "240 2023-12-04 12:31:00    Saloni Edoofa   \n",
      "241 2023-12-04 12:33:00  +260 96 2476932   \n",
      "242 2023-12-04 13:06:00  +260 96 1590476   \n",
      "243 2023-12-04 14:13:00    Saloni Edoofa   \n",
      "244 2023-12-04 14:18:00  +260 96 1590476   \n",
      "245 2023-12-04 16:01:00    Saloni Edoofa   \n",
      "246 2023-12-04 19:35:00  +260 96 1590476   \n",
      "\n",
      "                                               message  \n",
      "215               Good morning Walusungu! How are you?  \n",
      "216  I understand that, may I know when will you be...  \n",
      "217                      I'm fine thanks. How are you?  \n",
      "218                        I am doing well, thank you!  \n",
      "219                                Even today is fine.  \n",
      "220  That is great, we will have our sessions from ...  \n",
      "221                                    Okay no problem  \n",
      "222            May we begin with our exciting session🚀  \n",
      "223                                               Okay  \n",
      "224  I'm thrilled about our academic journey! 🚀 Let...  \n",
      "225                                        No problem.  \n",
      "226  We’re ready to begin your EWYL program now, an...  \n",
      "227                                    <Media omitted>  \n",
      "228                                         It's clear  \n",
      "229  If I manage to get Edoofa to connect with othe...  \n",
      "230  Yes, that is just one part of one of the proje...  \n",
      "231  The first project is *Corporate Alliances* In ...  \n",
      "232    This is awesome, you have answered it all well!  \n",
      "233  I will start by explaining the projects in det...  \n",
      "234                                    <Media omitted>  \n",
      "235  As we wrap up today's session, I'm eager to re...  \n",
      "236  Thank you. Can you please add this number to t...  \n",
      "237              One Black Label🍾🍻.vcf (file attached)  \n",
      "238  May I know to whom does this number belong to ...  \n",
      "239                                         My father.  \n",
      "240  Okay, since his number could not be added dire...  \n",
      "241                                     Okay thank you  \n",
      "242                                 Thanks for the add  \n",
      "243  Hello sir, hope you are doing well.  My name i...  \n",
      "244  I'm doing fine.Hope you're fine too. I'm Walus...  \n",
      "245                I am glad to have you in the group.  \n",
      "246                                         Am humbled  \n"
     ]
    },
    {
     "name": "stderr",
     "output_type": "stream",
     "text": [
      "2023-12-05 17:45:12,029 - DEBUG - Row appended for chat file: WhatsApp Chat with Walusungu EWYL23E0476.txt\n"
     ]
    },
    {
     "name": "stdout",
     "output_type": "stream",
     "text": [
      "ENTER THE LOOP:               datetime         sender  \\\n",
      "232 2023-12-04 15:18:00  Saloni Edoofa   \n",
      "\n",
      "                                               message  \n",
      "232  Good evening, Washington,  I hope this message...  \n"
     ]
    },
    {
     "name": "stderr",
     "output_type": "stream",
     "text": [
      "2023-12-05 17:45:13,524 - DEBUG - Row appended for chat file: WhatsApp Chat with Washington EWYL22E0816.txt\n"
     ]
    },
    {
     "name": "stdout",
     "output_type": "stream",
     "text": [
      "ENTER THE LOOP:               datetime            sender                             message\n",
      "321 2023-12-04 15:42:00     Saloni Edoofa  Good evening Whitney! How are you?\n",
      "322 2023-12-04 15:43:00     Saloni Edoofa                     <Media omitted>\n",
      "323 2023-12-04 15:51:00  +263 77 340 9626                     <Media omitted>\n"
     ]
    },
    {
     "name": "stderr",
     "output_type": "stream",
     "text": [
      "2023-12-05 17:45:14,719 - DEBUG - Row appended for chat file: WhatsApp Chat with Whitney EWYL22E1205.txt\n"
     ]
    },
    {
     "name": "stdout",
     "output_type": "stream",
     "text": [
      "ENTER THE LOOP:               datetime             sender  \\\n",
      "101 2023-12-04 08:21:00      Saloni Edoofa   \n",
      "102 2023-12-04 09:47:00  +265 999 93 66 80   \n",
      "103 2023-12-04 09:47:00  +265 999 93 66 80   \n",
      "104 2023-12-04 09:47:00  +265 999 93 66 80   \n",
      "105 2023-12-04 10:59:00      Saloni Edoofa   \n",
      "106 2023-12-04 11:33:00  +265 999 93 66 80   \n",
      "107 2023-12-04 13:34:00      Saloni Edoofa   \n",
      "108 2023-12-04 13:39:00  +265 999 93 66 80   \n",
      "109 2023-12-04 13:39:00      Saloni Edoofa   \n",
      "110 2023-12-04 13:40:00  +265 999 93 66 80   \n",
      "111 2023-12-04 13:46:00      Saloni Edoofa   \n",
      "112 2023-12-04 13:46:00  +265 999 93 66 80   \n",
      "113 2023-12-04 13:47:00  +265 999 93 66 80   \n",
      "114 2023-12-04 13:48:00  +265 999 93 66 80   \n",
      "115 2023-12-04 13:52:00      Saloni Edoofa   \n",
      "116 2023-12-04 13:52:00      Saloni Edoofa   \n",
      "117 2023-12-04 13:53:00      Saloni Edoofa   \n",
      "118 2023-12-04 13:53:00  +265 999 93 66 80   \n",
      "119 2023-12-04 13:59:00      Saloni Edoofa   \n",
      "120 2023-12-04 14:10:00  +265 999 93 66 80   \n",
      "121 2023-12-04 14:10:00  +265 999 93 66 80   \n",
      "122 2023-12-04 14:10:00  +265 999 93 66 80   \n",
      "123 2023-12-04 14:19:00      Saloni Edoofa   \n",
      "124 2023-12-04 14:24:00  +265 999 93 66 80   \n",
      "125 2023-12-04 14:25:00  +265 999 93 66 80   \n",
      "126 2023-12-04 14:28:00      Saloni Edoofa   \n",
      "127 2023-12-04 14:28:00      Saloni Edoofa   \n",
      "128 2023-12-04 14:28:00      Saloni Edoofa   \n",
      "129 2023-12-04 14:35:00  +265 999 93 66 80   \n",
      "130 2023-12-04 14:36:00      Saloni Edoofa   \n",
      "131 2023-12-04 14:44:00  +265 999 93 66 80   \n",
      "132 2023-12-04 14:45:00  +265 999 93 66 80   \n",
      "133 2023-12-04 16:07:00      Saloni Edoofa   \n",
      "134 2023-12-04 16:09:00  +265 999 93 66 80   \n",
      "\n",
      "                                               message  \n",
      "101  Greetings of the day! How did your weekend go?...  \n",
      "102                                  Thanks Alot noted  \n",
      "103                          I had a very good weekend  \n",
      "104                                     How about you?  \n",
      "105                        I am doing well, thank you!  \n",
      "106                                     You're welcome  \n",
      "107                     May we begin with our session🚀  \n",
      "108                                                Yes  \n",
      "109               So, did you go through the document?  \n",
      "110                                                Yes  \n",
      "111  Okay, that’s wonderful. Witness- I want you to...  \n",
      "112                                            Alright  \n",
      "113  It simply gives an outline and understanding o...  \n",
      "114  It also explains the importance of having the ...  \n",
      "115  That is great, you have got the core of the do...  \n",
      "116  I will start by explaining the projects in det...  \n",
      "117                                    <Media omitted>  \n",
      "118                             Alright I will do that  \n",
      "119             Once you listen to it, do let me know.  \n",
      "120                          I have gotten the message  \n",
      "121            I have also downloaded the LinkedIn app  \n",
      "122                                             Thanks  \n",
      "123  Before we get on that, can you share what have...  \n",
      "124  That I will need to connect with people workin...  \n",
      "125  I'll have to find out the information from the...  \n",
      "126  Amazing, thanks Witness. I’m happy with your u...  \n",
      "127  So, I am going to share an extremely significa...  \n",
      "128                                    <Media omitted>  \n",
      "129                                            Alright  \n",
      "130  I am really happy with the progress we have ma...  \n",
      "131                   I have read through the document  \n",
      "132  What's the time limit for the first project or...  \n",
      "133  We are yet to learn more about the first project.  \n",
      "134                                       Alright fine  \n"
     ]
    },
    {
     "name": "stderr",
     "output_type": "stream",
     "text": [
      "2023-12-05 17:45:15,578 - DEBUG - Row appended for chat file: WhatsApp Chat with Witness EWYL23E0766.txt\n"
     ]
    },
    {
     "name": "stdout",
     "output_type": "stream",
     "text": [
      "ENTER THE LOOP:               datetime           sender  \\\n",
      "245 2023-12-04 13:35:00    Sharda Edoofa   \n",
      "246 2023-12-04 13:37:00  +27 61 139 7091   \n",
      "247 2023-12-04 13:50:00    Sharda Edoofa   \n",
      "248 2023-12-04 14:05:00  +27 61 139 7091   \n",
      "249 2023-12-04 14:41:00    Sharda Edoofa   \n",
      "250 2023-12-04 14:42:00    Sharda Edoofa   \n",
      "\n",
      "                                               message  \n",
      "245  Good afternoon Aaron  How are you doing? *As w...  \n",
      "246                                    Ok we can begin  \n",
      "247       Have you dropped a message on the EWYL Line?  \n",
      "248                                                Yes  \n",
      "249                  Thank you for sharing the update.  \n",
      "250  We will now have our session on Thursday at th...  \n"
     ]
    },
    {
     "name": "stderr",
     "output_type": "stream",
     "text": [
      "2023-12-05 17:45:16,193 - DEBUG - Row appended for chat file: WhatsApp Chat with Aaron EWYL23E0825.txt\n"
     ]
    },
    {
     "name": "stdout",
     "output_type": "stream",
     "text": [
      "ENTER THE LOOP:               datetime         sender  \\\n",
      "437 2023-12-04 08:43:00  Sharda Edoofa   \n",
      "438 2023-12-04 15:24:00  Sharda Edoofa   \n",
      "\n",
      "                                               message  \n",
      "437  Good Morning Acious  *Kindly excuse me for any...  \n",
      "438  *Do not forget to submit your response of the ...  \n"
     ]
    },
    {
     "name": "stderr",
     "output_type": "stream",
     "text": [
      "2023-12-05 17:45:16,746 - DEBUG - Row appended for chat file: WhatsApp Chat with Acious EWYL22E0970.txt\n"
     ]
    },
    {
     "name": "stdout",
     "output_type": "stream",
     "text": [
      "ENTER THE LOOP:               datetime         sender  \\\n",
      "302 2023-12-04 08:43:00  Sharda Edoofa   \n",
      "303 2023-12-04 15:24:00  Sharda Edoofa   \n",
      "\n",
      "                                               message  \n",
      "302  Good Morning Adelino  *Kindly excuse me for an...  \n",
      "303  *Do not forget to submit your response of the ...  \n"
     ]
    },
    {
     "name": "stderr",
     "output_type": "stream",
     "text": [
      "2023-12-05 17:45:17,215 - DEBUG - Row appended for chat file: WhatsApp Chat with Adelino EWYL23E0537.txt\n"
     ]
    },
    {
     "name": "stdout",
     "output_type": "stream",
     "text": [
      "ENTER THE LOOP:               datetime            sender  \\\n",
      "390 2023-12-04 08:43:00     Sharda Edoofa   \n",
      "391 2023-12-04 08:44:00     Sharda Edoofa   \n",
      "392 2023-12-04 08:56:00  +263 78 100 3606   \n",
      "393 2023-12-04 15:15:00     Sharda Edoofa   \n",
      "\n",
      "                                               message  \n",
      "390  Good Morning Akatendeka  *Kindly excuse me for...  \n",
      "391  *Do not forget to submit your response of the ...  \n",
      "392                            Noted with thanks ma'am  \n",
      "393                            You are welcome please.  \n"
     ]
    },
    {
     "name": "stderr",
     "output_type": "stream",
     "text": [
      "2023-12-05 17:45:17,797 - DEBUG - Row appended for chat file: WhatsApp Chat with Akatendeka EWYL23E0481.txt\n"
     ]
    },
    {
     "name": "stdout",
     "output_type": "stream",
     "text": [
      "ENTER THE LOOP:               datetime         sender  \\\n",
      "386 2023-12-04 08:50:00  Sharda Edoofa   \n",
      "387 2023-12-04 08:50:00  Sharda Edoofa   \n",
      "\n",
      "                                               message  \n",
      "386  Good Morning Alison  *Kindly excuse me for any...  \n",
      "387  *Do not forget to submit your response of the ...  \n"
     ]
    },
    {
     "name": "stderr",
     "output_type": "stream",
     "text": [
      "2023-12-05 17:45:18,368 - DEBUG - Row appended for chat file: WhatsApp Chat with Alison EWYL23E0332.txt\n"
     ]
    },
    {
     "name": "stdout",
     "output_type": "stream",
     "text": [
      "ENTER THE LOOP:              datetime         sender  \\\n",
      "82 2023-12-04 13:35:00  Sharda Edoofa   \n",
      "83 2023-12-04 15:53:00  Sharda Edoofa   \n",
      "\n",
      "                                              message  \n",
      "82  Good afternoon Anesu  How are you doing? *As w...  \n",
      "83  I'm quite let down because you didn't show up ...  \n"
     ]
    },
    {
     "name": "stderr",
     "output_type": "stream",
     "text": [
      "2023-12-05 17:45:18,797 - DEBUG - Row appended for chat file: WhatsApp Chat with Anesu EWYL22E0665.txt\n"
     ]
    },
    {
     "name": "stdout",
     "output_type": "stream",
     "text": [
      "ENTER THE LOOP:               datetime            sender  \\\n",
      "430 2023-12-04 08:54:00     Sharda Edoofa   \n",
      "431 2023-12-04 08:54:00     Sharda Edoofa   \n",
      "432 2023-12-04 08:57:00  +263 78 715 1013   \n",
      "433 2023-12-04 15:13:00     Sharda Edoofa   \n",
      "\n",
      "                                               message  \n",
      "430  Good Morning Blessing  *Kindly excuse me for a...  \n",
      "431  *Do not forget to submit your response of the ...  \n",
      "432                     Okay noted,  how are you today  \n",
      "433                         I am very well, thank you.  \n"
     ]
    },
    {
     "name": "stderr",
     "output_type": "stream",
     "text": [
      "2023-12-05 17:45:19,368 - DEBUG - Row appended for chat file: WhatsApp Chat with Blessing EWYL23E0389.txt\n"
     ]
    },
    {
     "name": "stdout",
     "output_type": "stream",
     "text": [
      "ENTER THE LOOP:               datetime             sender  \\\n",
      "217 2023-12-04 08:48:00      Sharda Edoofa   \n",
      "218 2023-12-04 09:38:00  +265 998 27 29 75   \n",
      "219 2023-12-04 15:12:00      Sharda Edoofa   \n",
      "\n",
      "                                               message  \n",
      "217  _*Good Morning Bridget*_ I hope you are doing ...  \n",
      "218                                       Good morning  \n",
      "219                                           Alright.  \n"
     ]
    },
    {
     "name": "stderr",
     "output_type": "stream",
     "text": [
      "2023-12-05 17:45:19,832 - DEBUG - Row appended for chat file: WhatsApp Chat with Bridget EWYL23E0853.txt\n"
     ]
    },
    {
     "name": "stdout",
     "output_type": "stream",
     "text": [
      "ENTER THE LOOP:              datetime            sender  \\\n",
      "29 2023-12-04 09:10:00     Sharda Edoofa   \n",
      "30 2023-12-04 11:32:00  +263 73 384 0774   \n",
      "\n",
      "                                              message  \n",
      "29  *Good Morning Britta and parents* @26373384077...  \n",
      "30  I really wanted Britta to go on with her enrol...  \n"
     ]
    },
    {
     "name": "stderr",
     "output_type": "stream",
     "text": [
      "2023-12-05 17:45:20,332 - DEBUG - Row appended for chat file: WhatsApp Chat with Britta EWYL22E1304.txt\n"
     ]
    },
    {
     "name": "stdout",
     "output_type": "stream",
     "text": [
      "ENTER THE LOOP:               datetime            sender  \\\n",
      "445 2023-12-04 08:46:00     Sharda Edoofa   \n",
      "446 2023-12-04 09:42:00  +263 77 235 1224   \n",
      "\n",
      "                                               message  \n",
      "445  _*Good Morning Chanice*_ I hope you are doing ...  \n",
      "446                                                 Ok  \n"
     ]
    },
    {
     "name": "stderr",
     "output_type": "stream",
     "text": [
      "2023-12-05 17:45:20,985 - DEBUG - Row appended for chat file: WhatsApp Chat with Chanice EWYL23E0375.txt\n"
     ]
    },
    {
     "name": "stdout",
     "output_type": "stream",
     "text": [
      "ENTER THE LOOP:               datetime         sender  \\\n",
      "184 2023-12-04 08:48:00  Sharda Edoofa   \n",
      "\n",
      "                                               message  \n",
      "184  _*Good Morning Charity*_ I hope you are doing ...  \n"
     ]
    },
    {
     "name": "stderr",
     "output_type": "stream",
     "text": [
      "2023-12-05 17:45:21,469 - DEBUG - Row appended for chat file: WhatsApp Chat with Charity EWYL22E0910.txt\n"
     ]
    },
    {
     "name": "stdout",
     "output_type": "stream",
     "text": [
      "ENTER THE LOOP:              datetime         sender  \\\n",
      "98 2023-12-04 08:51:00  Sharda Edoofa   \n",
      "\n",
      "                                              message  \n",
      "98  Good Morning Charlotte  *Kindly excuse me for ...  \n"
     ]
    },
    {
     "name": "stderr",
     "output_type": "stream",
     "text": [
      "2023-12-05 17:45:21,975 - DEBUG - Row appended for chat file: WhatsApp Chat with Charlotte EWYL22E0994.txt\n"
     ]
    },
    {
     "name": "stdout",
     "output_type": "stream",
     "text": [
      "ENTER THE LOOP:               datetime         sender  \\\n",
      "205 2023-12-04 08:49:00  Sharda Edoofa   \n",
      "206 2023-12-04 08:52:00  Sharda Edoofa   \n",
      "\n",
      "                                               message  \n",
      "205  Good Morning Charmaine  *Kindly excuse me for ...  \n",
      "206  *Do not forget to submit your response of the ...  \n"
     ]
    },
    {
     "name": "stderr",
     "output_type": "stream",
     "text": [
      "2023-12-05 17:45:22,469 - DEBUG - Row appended for chat file: WhatsApp Chat with Charmaine EWYL22E0746.txt\n"
     ]
    },
    {
     "name": "stdout",
     "output_type": "stream",
     "text": [
      "ENTER THE LOOP:               datetime            sender  \\\n",
      "243 2023-12-04 08:43:00     Sharda Edoofa   \n",
      "244 2023-12-04 15:25:00     Sharda Edoofa   \n",
      "245 2023-12-04 15:25:00  +263 78 008 3552   \n",
      "246 2023-12-04 15:42:00     Sharda Edoofa   \n",
      "\n",
      "                                               message  \n",
      "243  Good Morning Chido  *Kindly excuse me for any ...  \n",
      "244  *Do not forget to submit your response of the ...  \n",
      "245                                              Noted  \n",
      "246                                           Alright.  \n"
     ]
    },
    {
     "name": "stderr",
     "output_type": "stream",
     "text": [
      "2023-12-05 17:45:22,999 - DEBUG - Row appended for chat file: WhatsApp Chat with Chido EWYL22E0467.txt\n"
     ]
    },
    {
     "name": "stdout",
     "output_type": "stream",
     "text": [
      "ENTER THE LOOP:              datetime            sender  \\\n",
      "86 2023-12-04 13:35:00     Sharda Edoofa   \n",
      "87 2023-12-04 15:53:00     Sharda Edoofa   \n",
      "88 2023-12-04 17:51:00  +263 78 884 6829   \n",
      "89 2023-12-04 19:20:00  +263 77 430 8094   \n",
      "\n",
      "                                              message  \n",
      "86  Good afternoon Chiedza  How are you doing? *As...  \n",
      "87  I'm quite let down because you didn't show up ...  \n",
      "88                     Did manage to see my summarise  \n",
      "89  Hello Am Chiedza,s mother  Am really sorry abo...  \n"
     ]
    },
    {
     "name": "stderr",
     "output_type": "stream",
     "text": [
      "2023-12-05 17:45:23,530 - DEBUG - Row appended for chat file: WhatsApp Chat with Chiedza EWYL22E0810.txt\n"
     ]
    },
    {
     "name": "stdout",
     "output_type": "stream",
     "text": [
      "ENTER THE LOOP:               datetime         sender  \\\n",
      "262 2023-12-04 08:43:00  Sharda Edoofa   \n",
      "263 2023-12-04 15:24:00  Sharda Edoofa   \n",
      "\n",
      "                                               message  \n",
      "262  Good Morning Collin  *Kindly excuse me for any...  \n",
      "263  *Do not forget to submit your response of the ...  \n"
     ]
    },
    {
     "name": "stderr",
     "output_type": "stream",
     "text": [
      "2023-12-05 17:45:24,071 - DEBUG - Row appended for chat file: WhatsApp Chat with Collin EWYL23E0379.txt\n"
     ]
    },
    {
     "name": "stdout",
     "output_type": "stream",
     "text": [
      "ENTER THE LOOP:               datetime         sender  \\\n",
      "467 2023-12-04 13:39:00  Sharda Edoofa   \n",
      "468 2023-12-04 15:52:00  Sharda Edoofa   \n",
      "\n",
      "                                               message  \n",
      "467  Good afternoon Comedy  How are you doing? *As ...  \n",
      "468  I'm quite let down because you didn't show up ...  \n"
     ]
    },
    {
     "name": "stderr",
     "output_type": "stream",
     "text": [
      "2023-12-05 17:45:24,663 - DEBUG - Row appended for chat file: WhatsApp Chat with Comedy EWYL23E0406.txt\n"
     ]
    },
    {
     "name": "stdout",
     "output_type": "stream",
     "text": [
      "ENTER THE LOOP:               datetime         sender  \\\n",
      "160 2023-12-04 13:35:00  Sharda Edoofa   \n",
      "161 2023-12-04 15:52:00  Sharda Edoofa   \n",
      "\n",
      "                                               message  \n",
      "160  Good afternoon Deborah  How are you doing? *As...  \n",
      "161  I'm quite let down because you didn't show up ...  \n"
     ]
    },
    {
     "name": "stderr",
     "output_type": "stream",
     "text": [
      "2023-12-05 17:45:25,125 - DEBUG - Row appended for chat file: WhatsApp Chat with Deborah EWYL22E0835.txt\n"
     ]
    },
    {
     "name": "stdout",
     "output_type": "stream",
     "text": [
      "ENTER THE LOOP:              datetime            sender  \\\n",
      "52 2023-12-04 10:02:00     Sharda Edoofa   \n",
      "53 2023-12-04 10:27:00  +263 71 933 0584   \n",
      "54 2023-12-04 13:30:00     Sharda Edoofa   \n",
      "55 2023-12-04 14:20:00  +263 71 933 0584   \n",
      "56 2023-12-04 14:44:00     Sharda Edoofa   \n",
      "57 2023-12-04 14:44:00     Sharda Edoofa   \n",
      "58 2023-12-04 14:45:00     Sharda Edoofa   \n",
      "59 2023-12-04 14:45:00     Sharda Edoofa   \n",
      "60 2023-12-04 14:45:00     Sharda Edoofa   \n",
      "61 2023-12-04 14:45:00  +263 71 933 0584   \n",
      "62 2023-12-04 14:56:00  +263 71 933 0584   \n",
      "63 2023-12-04 14:59:00     Sharda Edoofa   \n",
      "64 2023-12-04 15:00:00     Sharda Edoofa   \n",
      "65 2023-12-04 15:00:00     Sharda Edoofa   \n",
      "66 2023-12-04 15:00:00     Sharda Edoofa   \n",
      "67 2023-12-04 15:00:00     Sharda Edoofa   \n",
      "68 2023-12-04 15:00:00     Sharda Edoofa   \n",
      "69 2023-12-04 15:00:00     Sharda Edoofa   \n",
      "70 2023-12-04 15:01:00  +263 71 933 0584   \n",
      "71 2023-12-04 15:49:00     Sharda Edoofa   \n",
      "72 2023-12-04 16:02:00  +263 71 933 0584   \n",
      "73 2023-12-04 16:07:00     Sharda Edoofa   \n",
      "\n",
      "                                              message  \n",
      "52  Good Morning Delani I hope you are doing well ...  \n",
      "53                                   Yes im available  \n",
      "54  Good afternoon Delani  How are you doing? *As ...  \n",
      "55                                                Yes  \n",
      "56  Alright. Let us begin our session with the pro...  \n",
      "57                      PROJECT 1: CORPORATE ALLIANCE  \n",
      "58  Today, I will start by explaining the projects...  \n",
      "59                                    <Media omitted>  \n",
      "60  very quickly you summarize whatever you learne...  \n",
      "61                                               Okay  \n",
      "62  Objective of cooperate alliance is to gain an ...  \n",
      "63  Amazing, thanks. I’m happy with your understan...  \n",
      "64                                    <Media omitted>  \n",
      "65  Okay- now here are 2 things I would like to br...  \n",
      "66  Second and the fun part- I’m sure you have rea...  \n",
      "67  Now, Let us discuss how we can find suitable c...  \n",
      "68  Once you have created accounts on these platfo...  \n",
      "69  Now, there is an update that I would like to s...  \n",
      "70                                          Okay okay  \n",
      "71  *It is time to wrap up our session.* I'm deepl...  \n",
      "72                  Truly sorry We'll not be repeated  \n",
      "73                                    Alright, Delani  \n"
     ]
    },
    {
     "name": "stderr",
     "output_type": "stream",
     "text": [
      "2023-12-05 17:45:25,501 - DEBUG - Row appended for chat file: WhatsApp Chat with Delani EWYL23E0789.txt\n"
     ]
    },
    {
     "name": "stdout",
     "output_type": "stream",
     "text": [
      "ENTER THE LOOP:               datetime         sender  \\\n",
      "224 2023-12-04 08:49:00  Sharda Edoofa   \n",
      "225 2023-12-04 08:51:00  Sharda Edoofa   \n",
      "\n",
      "                                               message  \n",
      "224  Good Morning Deserve  *Kindly excuse me for an...  \n",
      "225  *Do not forget to submit your response of the ...  \n"
     ]
    },
    {
     "name": "stderr",
     "output_type": "stream",
     "text": [
      "2023-12-05 17:45:25,969 - DEBUG - Row appended for chat file: WhatsApp Chat with Deserve EWYL23E0194.txt\n"
     ]
    },
    {
     "name": "stdout",
     "output_type": "stream",
     "text": [
      "ENTER THE LOOP:               datetime            sender  \\\n",
      "225 2023-12-04 09:10:00  +263 71 595 8754   \n",
      "226 2023-12-04 13:30:00     Sharda Edoofa   \n",
      "227 2023-12-04 14:35:00  +263 71 595 8754   \n",
      "228 2023-12-04 14:50:00     Sharda Edoofa   \n",
      "229 2023-12-04 15:10:00  +263 71 595 8754   \n",
      "230 2023-12-04 15:12:00  +263 71 595 8754   \n",
      "231 2023-12-04 15:12:00  +263 71 595 8754   \n",
      "232 2023-12-04 15:20:00  +263 71 595 8754   \n",
      "233 2023-12-04 15:43:00     Sharda Edoofa   \n",
      "234 2023-12-04 15:43:00     Sharda Edoofa   \n",
      "235 2023-12-04 15:43:00     Sharda Edoofa   \n",
      "236 2023-12-04 15:44:00     Sharda Edoofa   \n",
      "237 2023-12-04 15:44:00     Sharda Edoofa   \n",
      "\n",
      "                                               message  \n",
      "225  Good morning ma’am How are you? I hope you had...  \n",
      "226  Good afternoon Dylan  How are you doing? *As w...  \n",
      "227                                        Hello ma’am  \n",
      "228  Kindly share the answers to the questions shar...  \n",
      "229                                               Okay  \n",
      "230  1.Advent Hope Academy Yes it is connected with...  \n",
      "231                                          3. Harare  \n",
      "232  2. Dear principal  Am Dylan Chikanya a proud e...  \n",
      "233  It is good to see that your school is already ...  \n",
      "234  Once you get the headmaster’s number, it is ti...  \n",
      "235  _So, This is what the First message should loo...  \n",
      "236  *Dylan, it would be more advantageous if you c...  \n",
      "237  *It is time to wrap up our session.* You joine...  \n"
     ]
    },
    {
     "name": "stderr",
     "output_type": "stream",
     "text": [
      "2023-12-05 17:45:26,487 - DEBUG - Row appended for chat file: WhatsApp Chat with Dylan EWYL22E0993.txt\n"
     ]
    },
    {
     "name": "stdout",
     "output_type": "stream",
     "text": [
      "ENTER THE LOOP:               datetime            sender  \\\n",
      "322 2023-12-04 13:39:00     Sharda Edoofa   \n",
      "323 2023-12-04 15:52:00     Sharda Edoofa   \n",
      "324 2023-12-04 15:59:00  +263 71 945 7252   \n",
      "325 2023-12-04 15:59:00  +263 71 945 7252   \n",
      "326 2023-12-04 16:08:00     Sharda Edoofa   \n",
      "327 2023-12-04 16:09:00  +263 71 945 7252   \n",
      "\n",
      "                                               message  \n",
      "322  Good afternoon Dylan  How are you doing? *As w...  \n",
      "323  I'm quite let down because you didn't show up ...  \n",
      "324                        Sorry for the late response  \n",
      "325                               L lost track of time  \n",
      "326  It is alright this time. Please ensure you are...  \n",
      "327                              Okay l will make sure  \n"
     ]
    },
    {
     "name": "stderr",
     "output_type": "stream",
     "text": [
      "2023-12-05 17:45:27,203 - DEBUG - Row appended for chat file: WhatsApp Chat with DYLAN EWYL23E0397.txt\n"
     ]
    },
    {
     "name": "stdout",
     "output_type": "stream",
     "text": [
      "ENTER THE LOOP:               datetime            sender  \\\n",
      "374 2023-12-04 08:43:00     Sharda Edoofa   \n",
      "375 2023-12-04 08:44:00     Sharda Edoofa   \n",
      "376 2023-12-04 08:45:00  +263 78 104 4501   \n",
      "\n",
      "                                               message  \n",
      "374  Good Morning Evan  *Kindly excuse me for any i...  \n",
      "375  *Do not forget to submit your response of the ...  \n",
      "376                                              Noted  \n"
     ]
    },
    {
     "name": "stderr",
     "output_type": "stream",
     "text": [
      "2023-12-05 17:45:28,063 - DEBUG - Row appended for chat file: WhatsApp Chat with Evan EWYL23E0369.txt\n"
     ]
    },
    {
     "name": "stdout",
     "output_type": "stream",
     "text": [
      "ENTER THE LOOP:              datetime         sender  \\\n",
      "10 2023-12-04 09:09:00  Sharda Edoofa   \n",
      "\n",
      "                                              message  \n",
      "10  *Good Morning Gerald and parents* @26378080654...  \n"
     ]
    },
    {
     "name": "stderr",
     "output_type": "stream",
     "text": [
      "2023-12-05 17:45:28,611 - DEBUG - Row appended for chat file: WhatsApp Chat with Gerald EWYL22E0508.txt\n"
     ]
    },
    {
     "name": "stdout",
     "output_type": "stream",
     "text": [
      "ENTER THE LOOP:               datetime            sender  \\\n",
      "281 2023-12-04 09:10:00     Sharda Edoofa   \n",
      "282 2023-12-04 09:32:00   +44 7385 872436   \n",
      "283 2023-12-04 11:57:00  +263 71 687 6578   \n",
      "284 2023-12-04 11:57:00  +263 71 687 6578   \n",
      "285 2023-12-04 11:58:00  +263 71 687 6578   \n",
      "286 2023-12-04 13:31:00     Sharda Edoofa   \n",
      "287 2023-12-04 13:53:00  +263 71 687 6578   \n",
      "288 2023-12-04 13:55:00  +263 71 687 6578   \n",
      "289 2023-12-04 14:32:00     Sharda Edoofa   \n",
      "290 2023-12-04 14:32:00     Sharda Edoofa   \n",
      "291 2023-12-04 14:32:00     Sharda Edoofa   \n",
      "292 2023-12-04 14:32:00     Sharda Edoofa   \n",
      "293 2023-12-04 14:33:00     Sharda Edoofa   \n",
      "294 2023-12-04 14:33:00     Sharda Edoofa   \n",
      "295 2023-12-04 14:49:00  +263 71 687 6578   \n",
      "296 2023-12-04 14:58:00  +263 71 687 6578   \n",
      "297 2023-12-04 14:58:00     Sharda Edoofa   \n",
      "298 2023-12-04 14:58:00     Sharda Edoofa   \n",
      "299 2023-12-04 14:58:00     Sharda Edoofa   \n",
      "300 2023-12-04 14:58:00     Sharda Edoofa   \n",
      "301 2023-12-04 14:59:00     Sharda Edoofa   \n",
      "302 2023-12-04 14:59:00     Sharda Edoofa   \n",
      "303 2023-12-04 14:59:00     Sharda Edoofa   \n",
      "304 2023-12-04 15:44:00  +263 71 687 6578   \n",
      "305 2023-12-04 15:44:00     Sharda Edoofa   \n",
      "306 2023-12-04 15:45:00     Sharda Edoofa   \n",
      "307 2023-12-04 15:46:00  +263 71 687 6578   \n",
      "308 2023-12-04 15:48:00     Sharda Edoofa   \n",
      "\n",
      "                                               message  \n",
      "281  *Good Morning Gertrude and parents* @263716876...  \n",
      "282  Good morning @Ms Sharda. I am alright on my en...  \n",
      "283                                 Good morning ma'am  \n",
      "284  All is well ma'am We may resume with our EWYL ...  \n",
      "285                  I will be available at 2 pm ma'am  \n",
      "286  Good afternoon Gertrude  How are you doing? *A...  \n",
      "287                                Am doing well ma'am  \n",
      "288  Thank you ma'am always always keep that quote ...  \n",
      "289                     You are most welcome Gertrude.  \n",
      "290  Let us now begin our session with the revision...  \n",
      "291                      PROJECT 1: CORPORATE ALLIANCE  \n",
      "292  Today, I will start by explaining the projects...  \n",
      "293                                    <Media omitted>  \n",
      "294  very quickly 4summarize whatever you learned i...  \n",
      "295  Am sorry ma'am for the late responses my netwo...  \n",
      "296  From the audio l understood that due the pande...  \n",
      "297  Amazing, thanks. I’m happy with your understan...  \n",
      "298                                    <Media omitted>  \n",
      "299  Okay- now here are 2 things I would like to br...  \n",
      "300  Second and the fun part- I’m sure you have rea...  \n",
      "301  Now, Let us discuss how we can find suitable c...  \n",
      "302  Once you have created accounts on these platfo...  \n",
      "303  Now, there is an update that I would like to s...  \n",
      "304                       This is well explained ma'am  \n",
      "305                                         Yes it is.  \n",
      "306  *It is time to wrap up our session.* You joine...  \n",
      "307  I will be available on time ma'am Am hoping my...  \n",
      "308                                  Alright Gertrude.  \n"
     ]
    },
    {
     "name": "stderr",
     "output_type": "stream",
     "text": [
      "2023-12-05 17:45:29,273 - DEBUG - Row appended for chat file: WhatsApp Chat with Gertrude EWYL23E0524.txt\n"
     ]
    },
    {
     "name": "stdout",
     "output_type": "stream",
     "text": [
      "ENTER THE LOOP:               datetime         sender  \\\n",
      "178 2023-12-04 12:32:00  Sharda Edoofa   \n",
      "\n",
      "                                               message  \n",
      "178  *Good afternoon Godknows* I hope you are doing...  \n"
     ]
    },
    {
     "name": "stderr",
     "output_type": "stream",
     "text": [
      "2023-12-05 17:45:29,827 - DEBUG - Row appended for chat file: WhatsApp Chat with Godknows EWYL22E1187.txt\n"
     ]
    },
    {
     "name": "stdout",
     "output_type": "stream",
     "text": [
      "ENTER THE LOOP:               datetime            sender  \\\n",
      "180 2023-12-04 07:21:00  +263 78 982 1695   \n",
      "181 2023-12-04 07:23:00  +263 78 982 1695   \n",
      "182 2023-12-04 08:23:00     Sharda Edoofa   \n",
      "183 2023-12-04 08:23:00     Sharda Edoofa   \n",
      "184 2023-12-04 08:35:00  +263 78 982 1695   \n",
      "185 2023-12-04 08:35:00     Sharda Edoofa   \n",
      "186 2023-12-04 08:36:00     Sharda Edoofa   \n",
      "187 2023-12-04 08:40:00     Sharda Edoofa   \n",
      "188 2023-12-04 08:40:00     Sharda Edoofa   \n",
      "189 2023-12-04 09:07:00  +263 78 982 1695   \n",
      "190 2023-12-04 09:07:00  +263 78 982 1695   \n",
      "191 2023-12-04 09:12:00     Sharda Edoofa   \n",
      "192 2023-12-04 09:12:00     Sharda Edoofa   \n",
      "193 2023-12-04 09:43:00     Sharda Edoofa   \n",
      "194 2023-12-04 09:44:00     Sharda Edoofa   \n",
      "195 2023-12-04 11:13:00  +263 78 982 1695   \n",
      "196 2023-12-04 11:14:00  +263 78 982 1695   \n",
      "197 2023-12-04 11:16:00     Sharda Edoofa   \n",
      "\n",
      "                                               message  \n",
      "180                                    <Media omitted>  \n",
      "181  *Offline Application Form for Zimbabwe*  Stude...  \n",
      "182  *Good morning Gugulethu* I hope you have had a...  \n",
      "183  Thank you for submitting the student applicati...  \n",
      "184  I am traveling today so my participation would...  \n",
      "185                                    Okay Gugulethu.  \n",
      "186  I can completely understand it, thank you so m...  \n",
      "187                   Have you gone through the audio?  \n",
      "188       Kindly share your understanding of the audio  \n",
      "189      ok so I've earned how much scholarship credit  \n",
      "190  I told my friend s in the group that you would...  \n",
      "191           I will definitely get to that Gugulethu.  \n",
      "192  Before we move ahead kindly share your respons...  \n",
      "193  Kindly copy this information and share in the ...  \n",
      "194  *It is time to wrap up our session.* There wer...  \n",
      "195                  I will but I'm occupied as of now  \n",
      "196                                               okay  \n",
      "197                                    Okay Gugulethu.  \n"
     ]
    },
    {
     "name": "stderr",
     "output_type": "stream",
     "text": [
      "2023-12-05 17:45:30,425 - DEBUG - Row appended for chat file: WhatsApp Chat with Gugulethu EWYL23E0485.txt\n",
      "2023-12-05 17:45:30,957 - DEBUG - Row appended for chat file: WhatsApp Chat with Hope EWYL23E0607.txt\n"
     ]
    },
    {
     "name": "stdout",
     "output_type": "stream",
     "text": [
      "ENTER THE LOOP:               datetime           sender  \\\n",
      "154 2023-12-04 13:33:00    Sharda Edoofa   \n",
      "155 2023-12-04 15:01:00  +260 97 5210212   \n",
      "156 2023-12-04 15:33:00    Sharda Edoofa   \n",
      "157 2023-12-04 15:33:00    Sharda Edoofa   \n",
      "158 2023-12-04 15:33:00    Sharda Edoofa   \n",
      "159 2023-12-04 18:54:00  +260 97 6845595   \n",
      "\n",
      "                                               message  \n",
      "154  Good afternoon Hope  How are you doing? *As we...  \n",
      "155  Good afternoon Sharda, kindly add Hope her pho...  \n",
      "156  Thank you for sharing the phone number but thi...  \n",
      "157   https://chat.whatsapp.com/KUxBhGBY7vh9pzJP1qBsoL  \n",
      "158  I am sharing the link of the group, kindly ask...  \n",
      "159                                          Hi Sharda  \n",
      "ENTER THE LOOP:               datetime            sender  \\\n",
      "178 2023-12-04 08:40:00     Sharda Edoofa   \n",
      "179 2023-12-04 09:47:00  +263 77 625 6363   \n",
      "180 2023-12-04 15:20:00     Sharda Edoofa   \n",
      "\n",
      "                                               message  \n",
      "178  Good Morning John  *Kindly excuse me for any i...  \n",
      "179                                         Okay noted  \n",
      "180  *Do not forget to submit your response of the ...  \n"
     ]
    },
    {
     "name": "stderr",
     "output_type": "stream",
     "text": [
      "2023-12-05 17:45:31,500 - DEBUG - Row appended for chat file: WhatsApp Chat with John EWYL22E0696.txt\n"
     ]
    },
    {
     "name": "stdout",
     "output_type": "stream",
     "text": [
      "ENTER THE LOOP:               datetime          sender  \\\n",
      "256 2023-12-04 13:34:00   Sharda Edoofa   \n",
      "257 2023-12-04 13:50:00  +260 771923158   \n",
      "258 2023-12-04 14:28:00   Sharda Edoofa   \n",
      "259 2023-12-04 14:29:00   Sharda Edoofa   \n",
      "260 2023-12-04 14:29:00   Sharda Edoofa   \n",
      "261 2023-12-04 14:29:00   Sharda Edoofa   \n",
      "262 2023-12-04 14:30:00   Sharda Edoofa   \n",
      "263 2023-12-04 14:30:00   Sharda Edoofa   \n",
      "264 2023-12-04 14:30:00   Sharda Edoofa   \n",
      "265 2023-12-04 14:30:00   Sharda Edoofa   \n",
      "266 2023-12-04 15:56:00   Sharda Edoofa   \n",
      "\n",
      "                                               message  \n",
      "256  Good afternoon John  How are you doing? *As we...  \n",
      "257  I’m doing very good thank you. How are you doi...  \n",
      "258  I am glad to hear that, you are welcome please...  \n",
      "259  That’s awesome- John, I’m confident that if yo...  \n",
      "260  Now, here are 2 things I’d like to briefly rem...  \n",
      "261  1-  I’m sharing a form with you below, You hav...  \n",
      "262  *Offline Application Form for Zimbabwe*  Stude...  \n",
      "263  And #2 – Back to the exciting part- your *Scho...  \n",
      "264  So, now I am going to share certain ways that ...  \n",
      "265                                    <Media omitted>  \n",
      "266  *It is time to wrap up our session.* You joine...  \n"
     ]
    },
    {
     "name": "stderr",
     "output_type": "stream",
     "text": [
      "2023-12-05 17:45:32,030 - DEBUG - Row appended for chat file: WhatsApp Chat with John EWYL23E0558.txt\n"
     ]
    },
    {
     "name": "stdout",
     "output_type": "stream",
     "text": [
      "ENTER THE LOOP:               datetime          sender  \\\n",
      "288 2023-12-04 08:54:00   Sharda Edoofa   \n",
      "289 2023-12-04 15:35:00  +260 772423828   \n",
      "\n",
      "                                               message  \n",
      "288  Good Morning Joshua  *Kindly excuse me for any...  \n",
      "289                                               Okay  \n"
     ]
    },
    {
     "name": "stderr",
     "output_type": "stream",
     "text": [
      "2023-12-05 17:45:32,627 - DEBUG - Row appended for chat file: WhatsApp Chat with Joshua EWYL23E0565.txt\n"
     ]
    },
    {
     "name": "stdout",
     "output_type": "stream",
     "text": [
      "ENTER THE LOOP:               datetime         sender  \\\n",
      "251 2023-12-04 12:28:00  Sharda Edoofa   \n",
      "\n",
      "                                               message  \n",
      "251  Good afternoon Kelvin I hope you are doing wel...  \n"
     ]
    },
    {
     "name": "stderr",
     "output_type": "stream",
     "text": [
      "2023-12-05 17:45:33,209 - DEBUG - Row appended for chat file: WhatsApp Chat with Kelvin EWYL22E0956.txt\n"
     ]
    },
    {
     "name": "stdout",
     "output_type": "stream",
     "text": [
      "ENTER THE LOOP:               datetime         sender  \\\n",
      "115 2023-12-04 13:39:00  Sharda Edoofa   \n",
      "116 2023-12-04 15:52:00  Sharda Edoofa   \n",
      "\n",
      "                                               message  \n",
      "115  Good afternoon Kirsty  How are you doing? *As ...  \n",
      "116  I'm quite let down because you didn't show up ...  \n"
     ]
    },
    {
     "name": "stderr",
     "output_type": "stream",
     "text": [
      "2023-12-05 17:45:33,683 - DEBUG - Row appended for chat file: WhatsApp Chat with Kirsty EWYL22E0824.txt\n"
     ]
    },
    {
     "name": "stdout",
     "output_type": "stream",
     "text": [
      "ENTER THE LOOP:               datetime         sender  \\\n",
      "282 2023-12-04 08:48:00  Sharda Edoofa   \n",
      "\n",
      "                                               message  \n",
      "282  _*Good Morning Kooji*_ I hope you are doing we...  \n"
     ]
    },
    {
     "name": "stderr",
     "output_type": "stream",
     "text": [
      "2023-12-05 17:45:34,246 - DEBUG - Row appended for chat file: WhatsApp Chat with Kooji EWYL23E0600.txt\n"
     ]
    },
    {
     "name": "stdout",
     "output_type": "stream",
     "text": [
      "ENTER THE LOOP:               datetime            sender  \\\n",
      "304 2023-12-04 09:09:00     Sharda Edoofa   \n",
      "305 2023-12-04 10:01:00  +263 71 246 9085   \n",
      "306 2023-12-04 10:01:00  +263 71 246 9085   \n",
      "307 2023-12-04 13:32:00     Sharda Edoofa   \n",
      "308 2023-12-04 13:41:00  +263 71 246 9085   \n",
      "309 2023-12-04 13:54:00     Sharda Edoofa   \n",
      "310 2023-12-04 13:54:00     Sharda Edoofa   \n",
      "311 2023-12-04 13:54:00     Sharda Edoofa   \n",
      "312 2023-12-04 13:54:00     Sharda Edoofa   \n",
      "313 2023-12-04 13:55:00     Sharda Edoofa   \n",
      "314 2023-12-04 15:52:00     Sharda Edoofa   \n",
      "315 2023-12-04 16:41:00  +263 71 246 9085   \n",
      "316 2023-12-04 16:41:00  +263 71 246 9085   \n",
      "317 2023-12-04 16:43:00     Sharda Edoofa   \n",
      "\n",
      "                                               message  \n",
      "304  *Good Morning Kudzau and parents* @26371246908...  \n",
      "305                                 Hello good morning  \n",
      "306                I will be available today hopefully  \n",
      "307  Good afternoon Kudzai  How are you doing? *As ...  \n",
      "308                                         Okay noted  \n",
      "309  Let us resume our session with the discussion ...  \n",
      "310                      PROJECT 1: CORPORATE ALLIANCE  \n",
      "311  Today, I will start by explaining the projects...  \n",
      "312                                    <Media omitted>  \n",
      "313  very quickly you summarize whatever you learne...  \n",
      "314  *It is time to wrap up our session.* You joine...  \n",
      "315                                  My network is bad  \n",
      "316                                          Thank you  \n",
      "317                            You are welcome please.  \n"
     ]
    },
    {
     "name": "stderr",
     "output_type": "stream",
     "text": [
      "2023-12-05 17:45:34,862 - DEBUG - Row appended for chat file: WhatsApp Chat with Kudzai EWYL23E0399.txt\n"
     ]
    },
    {
     "name": "stdout",
     "output_type": "stream",
     "text": [
      "ENTER THE LOOP:               datetime            sender  \\\n",
      "247 2023-12-04 07:48:00     Sharda Edoofa   \n",
      "248 2023-12-04 08:31:00  +263 78 660 9547   \n",
      "\n",
      "                                               message  \n",
      "247  Good Morning Kudzaishe I hope you are doing well!  \n",
      "248  Good morning Ms Sharda im doing well and how a...  \n"
     ]
    },
    {
     "name": "stderr",
     "output_type": "stream",
     "text": [
      "2023-12-05 17:45:35,450 - DEBUG - Row appended for chat file: WhatsApp Chat with Kudzaishe EWYL23E0743.txt\n"
     ]
    },
    {
     "name": "stdout",
     "output_type": "stream",
     "text": [
      "ENTER THE LOOP:               datetime            sender  \\\n",
      "197 2023-12-04 08:38:00     Sharda Edoofa   \n",
      "198 2023-12-04 08:39:00     Sharda Edoofa   \n",
      "199 2023-12-04 08:39:00     Sharda Edoofa   \n",
      "200 2023-12-04 09:35:00  +263 78 145 2450   \n",
      "201 2023-12-04 15:23:00     Sharda Edoofa   \n",
      "\n",
      "                                               message  \n",
      "197  Good Morning Kudzi  *Kindly excuse me for any ...  \n",
      "198  Do not forget to submit your response of the s...  \n",
      "199  *Do not forget to submit your response of the ...  \n",
      "200                                              Noted  \n",
      "201  *Do not forget to submit your response of the ...  \n"
     ]
    },
    {
     "name": "stderr",
     "output_type": "stream",
     "text": [
      "2023-12-05 17:45:35,986 - DEBUG - Row appended for chat file: WhatsApp Chat with Kudzi EWYL23E0850.txt\n"
     ]
    },
    {
     "name": "stdout",
     "output_type": "stream",
     "text": [
      "ENTER THE LOOP:               datetime         sender  \\\n",
      "129 2023-12-04 08:48:00  Sharda Edoofa   \n",
      "\n",
      "                                               message  \n",
      "129  _*Good Morning Leane*_ I hope you are doing we...  \n"
     ]
    },
    {
     "name": "stderr",
     "output_type": "stream",
     "text": [
      "2023-12-05 17:45:36,466 - DEBUG - Row appended for chat file: WhatsApp Chat with Leane EWYL23E0783.txt\n"
     ]
    },
    {
     "name": "stdout",
     "output_type": "stream",
     "text": [
      "ENTER THE LOOP:               datetime            sender  \\\n",
      "192 2023-12-04 08:49:00     Sharda Edoofa   \n",
      "193 2023-12-04 08:51:00     Sharda Edoofa   \n",
      "194 2023-12-04 10:25:00  +263 78 783 3798   \n",
      "\n",
      "                                               message  \n",
      "192  Good Morning Magreth  *Kindly excuse me for an...  \n",
      "193  *Do not forget to submit your response of the ...  \n",
      "194                                                 Ok  \n"
     ]
    },
    {
     "name": "stderr",
     "output_type": "stream",
     "text": [
      "2023-12-05 17:45:37,001 - DEBUG - Row appended for chat file: WhatsApp Chat with Magreth EWYL22E0838.txt\n"
     ]
    },
    {
     "name": "stdout",
     "output_type": "stream",
     "text": [
      "ENTER THE LOOP:               datetime            sender  \\\n",
      "270 2023-12-04 08:43:00     Sharda Edoofa   \n",
      "271 2023-12-04 08:49:00  +263 71 564 0809   \n",
      "272 2023-12-04 14:58:00     Sharda Edoofa   \n",
      "273 2023-12-04 15:15:00  +263 71 564 0809   \n",
      "274 2023-12-04 15:24:00     Sharda Edoofa   \n",
      "\n",
      "                                               message  \n",
      "270  Good Morning Malvin  *Kindly excuse me for any...  \n",
      "271                                       Good morning  \n",
      "272  *Do not forget to submit your response of the ...  \n",
      "273                                         Okay ma'am  \n",
      "274                                             Okay.4  \n"
     ]
    },
    {
     "name": "stderr",
     "output_type": "stream",
     "text": [
      "2023-12-05 17:45:37,555 - DEBUG - Row appended for chat file: WhatsApp Chat with Malvin EWYL23E0604.txt\n"
     ]
    },
    {
     "name": "stdout",
     "output_type": "stream",
     "text": [
      "ENTER THE LOOP:               datetime         sender  \\\n",
      "157 2023-12-04 08:48:00  Sharda Edoofa   \n",
      "\n",
      "                                               message  \n",
      "157  _*Good Morning Mapalo*_ I hope you are doing w...  \n"
     ]
    },
    {
     "name": "stderr",
     "output_type": "stream",
     "text": [
      "2023-12-05 17:45:38,035 - DEBUG - Row appended for chat file: WhatsApp Chat with Mapalo EWYL23E0742.txt\n"
     ]
    },
    {
     "name": "stdout",
     "output_type": "stream",
     "text": [
      "ENTER THE LOOP:               datetime            sender  \\\n",
      "291 2023-12-04 08:43:00     Sharda Edoofa   \n",
      "292 2023-12-04 08:58:00  +263 78 653 0616   \n",
      "293 2023-12-04 15:15:00     Sharda Edoofa   \n",
      "294 2023-12-04 15:15:00     Sharda Edoofa   \n",
      "\n",
      "                                               message  \n",
      "291  Good Morning Melisa  *Kindly excuse me for any...  \n",
      "292                            Noted with thanks ma'am  \n",
      "293  *Do not forget to submit your response of the ...  \n",
      "294                            you are welcome please!  \n"
     ]
    },
    {
     "name": "stderr",
     "output_type": "stream",
     "text": [
      "2023-12-05 17:45:38,560 - DEBUG - Row appended for chat file: WhatsApp Chat with Melisa EWYL23E0709.txt\n"
     ]
    },
    {
     "name": "stdout",
     "output_type": "stream",
     "text": [
      "ENTER THE LOOP:               datetime            sender  \\\n",
      "158 2023-12-04 13:36:00     Sharda Edoofa   \n",
      "159 2023-12-04 13:44:00  +263 71 940 1175   \n",
      "160 2023-12-04 13:45:00     Sharda Edoofa   \n",
      "161 2023-12-04 13:45:00     Sharda Edoofa   \n",
      "162 2023-12-04 14:31:00  +263 71 940 1175   \n",
      "163 2023-12-04 14:45:00     Sharda Edoofa   \n",
      "164 2023-12-04 14:45:00     Sharda Edoofa   \n",
      "165 2023-12-04 14:46:00     Sharda Edoofa   \n",
      "166 2023-12-04 14:46:00     Sharda Edoofa   \n",
      "167 2023-12-04 14:46:00     Sharda Edoofa   \n",
      "168 2023-12-04 14:46:00     Sharda Edoofa   \n",
      "169 2023-12-04 14:46:00     Sharda Edoofa   \n",
      "170 2023-12-04 14:47:00     Sharda Edoofa   \n",
      "171 2023-12-04 14:50:00  +263 71 940 1175   \n",
      "172 2023-12-04 14:50:00  +263 71 940 1175   \n",
      "173 2023-12-04 14:50:00     Sharda Edoofa   \n",
      "174 2023-12-04 14:51:00     Sharda Edoofa   \n",
      "175 2023-12-04 14:51:00     Sharda Edoofa   \n",
      "176 2023-12-04 14:52:00  +263 71 940 1175   \n",
      "177 2023-12-04 14:54:00     Sharda Edoofa   \n",
      "178 2023-12-04 14:55:00  +263 71 940 1175   \n",
      "179 2023-12-04 15:00:00     Sharda Edoofa   \n",
      "180 2023-12-04 15:12:00  +263 71 940 1175   \n",
      "181 2023-12-04 15:44:00     Sharda Edoofa   \n",
      "182 2023-12-04 16:04:00  +263 71 940 1175   \n",
      "183 2023-12-04 16:07:00     Sharda Edoofa   \n",
      "\n",
      "                                               message  \n",
      "158  Good afternoon Mitchell  How are you doing? *A...  \n",
      "159                                  Iam alright ma'am  \n",
      "160                                   Great, mitchell.  \n",
      "161      Kindly share your understanding of the audio.  \n",
      "162  I understood that I must be well prepared for ...  \n",
      "163  Amazing, thanks. I’m happy with your understan...  \n",
      "164                                    <Media omitted>  \n",
      "165  You can go through  the document after our ses...  \n",
      "166  Okay- now here are 2 things I would like to br...  \n",
      "167  Second and the fun part- I’m sure you have rea...  \n",
      "168  Now, Let us discuss how we can find suitable c...  \n",
      "169  Once you have created accounts on these platfo...  \n",
      "170  Now, there is an update that I would like to s...  \n",
      "171                                          Okay maam  \n",
      "172                                              Noted  \n",
      "173  PROJECT 2: COMMUNITY BUILDING Now we’re ready ...  \n",
      "174                                    <Media omitted>  \n",
      "175  After you go through the audio, I would apprec...  \n",
      "176                                              Noted  \n",
      "177      Kindly share your understanding of the audio.  \n",
      "178     Okay maam im waiting for the audio to download  \n",
      "179                                               Okay  \n",
      "180  Project number 2 is the community building pro...  \n",
      "181  *It is time to wrap up our session.* You joine...  \n",
      "182                                         Noted maam  \n",
      "183                                          Alright.'  \n"
     ]
    },
    {
     "name": "stderr",
     "output_type": "stream",
     "text": [
      "2023-12-05 17:45:39,039 - DEBUG - Row appended for chat file: WhatsApp Chat with Mitchell EWYL22E0991.txt\n"
     ]
    },
    {
     "name": "stdout",
     "output_type": "stream",
     "text": [
      "ENTER THE LOOP:              datetime            sender  \\\n",
      "52 2023-12-04 10:02:00     Sharda Edoofa   \n",
      "53 2023-12-04 13:33:00     Sharda Edoofa   \n",
      "54 2023-12-04 13:41:00  +263 78 185 2032   \n",
      "55 2023-12-04 13:49:00     Sharda Edoofa   \n",
      "56 2023-12-04 13:50:00     Sharda Edoofa   \n",
      "57 2023-12-04 13:50:00     Sharda Edoofa   \n",
      "58 2023-12-04 13:50:00  +263 78 185 2032   \n",
      "59 2023-12-04 13:50:00     Sharda Edoofa   \n",
      "60 2023-12-04 13:50:00     Sharda Edoofa   \n",
      "61 2023-12-04 13:50:00     Sharda Edoofa   \n",
      "62 2023-12-04 13:50:00  +263 78 185 2032   \n",
      "63 2023-12-04 13:52:00  +263 78 185 2032   \n",
      "64 2023-12-04 13:58:00  +263 78 185 2032   \n",
      "65 2023-12-04 14:34:00     Sharda Edoofa   \n",
      "66 2023-12-04 14:34:00     Sharda Edoofa   \n",
      "67 2023-12-04 14:34:00     Sharda Edoofa   \n",
      "68 2023-12-04 14:34:00     Sharda Edoofa   \n",
      "69 2023-12-04 14:34:00     Sharda Edoofa   \n",
      "70 2023-12-04 14:35:00     Sharda Edoofa   \n",
      "71 2023-12-04 14:35:00     Sharda Edoofa   \n",
      "72 2023-12-04 14:35:00     Sharda Edoofa   \n",
      "73 2023-12-04 14:36:00  +263 78 185 2032   \n",
      "74 2023-12-04 14:36:00     Sharda Edoofa   \n",
      "75 2023-12-04 14:36:00     Sharda Edoofa   \n",
      "76 2023-12-04 14:37:00     Sharda Edoofa   \n",
      "77 2023-12-04 14:37:00     Sharda Edoofa   \n",
      "78 2023-12-04 14:39:00  +263 78 185 2032   \n",
      "79 2023-12-04 14:50:00     Sharda Edoofa   \n",
      "80 2023-12-04 15:56:00     Sharda Edoofa   \n",
      "81 2023-12-04 22:05:00  +263 78 185 2032   \n",
      "\n",
      "                                              message  \n",
      "52  Good Morning Mreblessing I hope you are doing ...  \n",
      "53  Good afternoon Moreblessing  How are you doing...  \n",
      "54  Greetings ma'am I'm now available sorry for be...  \n",
      "55                              Alright Moreblessing.  \n",
      "56  Let us now begin our discussion with the revis...  \n",
      "57                      PROJECT 1: CORPORATE ALLIANCE  \n",
      "58                                               Okay  \n",
      "59  Today, I will start by explaining the projects...  \n",
      "60                                    <Media omitted>  \n",
      "61  so very quickly summarize whatever you learned...  \n",
      "62                                         Okay ma'am  \n",
      "63       Could you please resend the project document  \n",
      "64  It's important to gain experience and more kno...  \n",
      "65                                              Sure.  \n",
      "66                                    <Media omitted>  \n",
      "67  Amazing, thanks. I’m happy with your understan...  \n",
      "68                                    <Media omitted>  \n",
      "69  You can go through the document after our sess...  \n",
      "70  After you go through this, I would appreciate ...  \n",
      "71  Okay- now here are 2 things I would like to br...  \n",
      "72  Second and the fun part- I’m sure you have rea...  \n",
      "73                                          Thank you  \n",
      "74                            you are welcome please!  \n",
      "75  Now, Let us discuss how we can find suitable c...  \n",
      "76  Once you have created accounts on these platfo...  \n",
      "77  Now, there is an update that I would like to s...  \n",
      "78  Sorry I'm a bit occupied at the moment can we ...  \n",
      "79                                           Alright!  \n",
      "80  *It is time to wrap up our session.* You joine...  \n",
      "81                                              Noted  \n"
     ]
    },
    {
     "name": "stderr",
     "output_type": "stream",
     "text": [
      "2023-12-05 17:45:39,445 - DEBUG - Row appended for chat file: WhatsApp Chat with Moreblessing EWYL22E0691.txt\n"
     ]
    },
    {
     "name": "stdout",
     "output_type": "stream",
     "text": [
      "ENTER THE LOOP:               datetime            sender  \\\n",
      "222 2023-12-04 08:49:00     Sharda Edoofa   \n",
      "223 2023-12-04 08:51:00     Sharda Edoofa   \n",
      "224 2023-12-04 09:28:00  +263 78 530 5332   \n",
      "225 2023-12-04 09:28:00  +263 78 530 5332   \n",
      "226 2023-12-04 09:38:00  +263 78 530 5332   \n",
      "227 2023-12-04 15:26:00     Sharda Edoofa   \n",
      "228 2023-12-04 15:31:00  +263 78 530 5332   \n",
      "\n",
      "                                               message  \n",
      "222  Good Morning Munashe  *Kindly excuse me for an...  \n",
      "223  *Do not forget to submit your response of the ...  \n",
      "224                                         Okay ma'am  \n",
      "225                                         Okay ma'am  \n",
      "226                           This message was deleted  \n",
      "227                                   Alright Munashe.  \n",
      "228                                          Yes ma'am  \n"
     ]
    },
    {
     "name": "stderr",
     "output_type": "stream",
     "text": [
      "2023-12-05 17:45:39,912 - DEBUG - Row appended for chat file: WhatsApp Chat with Munashe EWYL22E0606.txt\n"
     ]
    },
    {
     "name": "stdout",
     "output_type": "stream",
     "text": [
      "ENTER THE LOOP:               datetime         sender  \\\n",
      "214 2023-12-04 08:38:00  Sharda Edoofa   \n",
      "215 2023-12-04 08:40:00  Sharda Edoofa   \n",
      "\n",
      "                                               message  \n",
      "214  Good Morning Mwaba  *Kindly excuse me for any ...  \n",
      "215  *Do not forget to submit your response of the ...  \n"
     ]
    },
    {
     "name": "stderr",
     "output_type": "stream",
     "text": [
      "2023-12-05 17:45:40,402 - DEBUG - Row appended for chat file: WhatsApp Chat with Mwaba EWYL23E0689.txt\n"
     ]
    },
    {
     "name": "stdout",
     "output_type": "stream",
     "text": [
      "ENTER THE LOOP:               datetime            sender  \\\n",
      "332 2023-12-04 08:43:00     Sharda Edoofa   \n",
      "333 2023-12-04 15:24:00     Sharda Edoofa   \n",
      "334 2023-12-04 15:41:00  +263 78 418 4588   \n",
      "335 2023-12-04 15:42:00     Sharda Edoofa   \n",
      "\n",
      "                                               message  \n",
      "332  Good Morning Nancy  *Kindly excuse me for any ...  \n",
      "333  *Do not forget to submit your response of the ...  \n",
      "334                                       Noted thanks  \n",
      "335                            You are welcome please.  \n"
     ]
    },
    {
     "name": "stderr",
     "output_type": "stream",
     "text": [
      "2023-12-05 17:45:40,893 - DEBUG - Row appended for chat file: WhatsApp Chat with Nancy EWYL23E0489.txt\n"
     ]
    },
    {
     "name": "stdout",
     "output_type": "stream",
     "text": [
      "ENTER THE LOOP:              datetime         sender  \\\n",
      "61 2023-12-04 08:43:00  Sharda Edoofa   \n",
      "62 2023-12-04 11:06:00  Sharda Edoofa   \n",
      "\n",
      "                                              message  \n",
      "61  Good Morning Natasha  *Kindly excuse me for an...  \n",
      "62  *Do not forget to submit your response of the ...  \n"
     ]
    },
    {
     "name": "stderr",
     "output_type": "stream",
     "text": [
      "2023-12-05 17:45:41,312 - DEBUG - Row appended for chat file: WhatsApp Chat with Natasha EWYL22E0740.txt\n"
     ]
    },
    {
     "name": "stdout",
     "output_type": "stream",
     "text": [
      "ENTER THE LOOP:               datetime           sender  \\\n",
      "388 2023-12-04 09:06:00    Sharda Edoofa   \n",
      "389 2023-12-04 15:32:00  +260 96 3555094   \n",
      "390 2023-12-04 15:38:00    Sharda Edoofa   \n",
      "\n",
      "                                               message  \n",
      "388  *Good Morning Natasha and parents*@26096641472...  \n",
      "389  Good morning Ms. Sharda, this is Natasha speak...  \n",
      "390  Can you share the exact date of when you are r...  \n"
     ]
    },
    {
     "name": "stderr",
     "output_type": "stream",
     "text": [
      "2023-12-05 17:45:41,806 - DEBUG - Row appended for chat file: WhatsApp Chat with Natasha EWYL23E0373.txt\n"
     ]
    },
    {
     "name": "stdout",
     "output_type": "stream",
     "text": [
      "ENTER THE LOOP:              datetime            sender  \\\n",
      "62 2023-12-04 10:01:00     Sharda Edoofa   \n",
      "63 2023-12-04 13:34:00     Sharda Edoofa   \n",
      "64 2023-12-04 15:52:00     Sharda Edoofa   \n",
      "65 2023-12-04 16:24:00  +263 71 449 1907   \n",
      "66 2023-12-04 16:24:00  +263 71 449 1907   \n",
      "67 2023-12-04 16:25:00  +263 71 449 1907   \n",
      "\n",
      "                                              message  \n",
      "62  Good Morning Ngaakudzwe I hope you are doing w...  \n",
      "63  Good afternoon Ngaakudzwe  How are you doing? ...  \n",
      "64  I'm quite let down because you didn't show up ...  \n",
      "65  Good afternoon Ms Sharda, I would like to apol...  \n",
      "66                However I am available to start now  \n",
      "67  Thank you for the motivational quote Ms Sharda...  \n"
     ]
    },
    {
     "name": "stderr",
     "output_type": "stream",
     "text": [
      "2023-12-05 17:45:42,166 - DEBUG - Row appended for chat file: WhatsApp Chat with Ngaakudzwe EWYL22E1311.txt\n"
     ]
    },
    {
     "name": "stdout",
     "output_type": "stream",
     "text": [
      "ENTER THE LOOP:              datetime            sender  \\\n",
      "67 2023-12-04 10:02:00     Sharda Edoofa   \n",
      "68 2023-12-04 10:09:00  +263 78 166 8266   \n",
      "69 2023-12-04 13:30:00     Sharda Edoofa   \n",
      "70 2023-12-04 14:19:00  +263 78 166 8266   \n",
      "71 2023-12-04 14:43:00     Sharda Edoofa   \n",
      "72 2023-12-04 14:44:00     Sharda Edoofa   \n",
      "73 2023-12-04 14:44:00     Sharda Edoofa   \n",
      "74 2023-12-04 14:44:00     Sharda Edoofa   \n",
      "75 2023-12-04 14:44:00     Sharda Edoofa   \n",
      "76 2023-12-04 15:59:00     Sharda Edoofa   \n",
      "77 2023-12-04 16:38:00  +263 78 166 8266   \n",
      "78 2023-12-04 16:38:00  +263 78 166 8266   \n",
      "79 2023-12-04 16:41:00  +263 78 166 8266   \n",
      "\n",
      "                                              message  \n",
      "67  Good Morning Nomthandazo I hope you are doing ...  \n",
      "68                                          Available  \n",
      "69  Good afternoon Nomthandazo  How are you doing?...  \n",
      "70                                              Sure!  \n",
      "71  Great, let us begin our sessions with the proj...  \n",
      "72                      PROJECT 1: CORPORATE ALLIANCE  \n",
      "73  Today, I will start by explaining the projects...  \n",
      "74                                    <Media omitted>  \n",
      "75  very quickly summarize whatever you learned in...  \n",
      "76  *It is time to wrap up our session.* You joine...  \n",
      "77  Corporate Alliance  The aim being to understan...  \n",
      "78                                My apologies ma'am😕  \n",
      "79                                  Without a doubt!🙏  \n"
     ]
    },
    {
     "name": "stderr",
     "output_type": "stream",
     "text": [
      "2023-12-05 17:45:42,567 - DEBUG - Row appended for chat file: WhatsApp Chat with Nomthandazo EWYL22E0616.txt\n"
     ]
    },
    {
     "name": "stdout",
     "output_type": "stream",
     "text": [
      "ENTER THE LOOP:               datetime            sender  \\\n",
      "426 2023-12-04 12:22:00  +263 78 035 0406   \n",
      "427 2023-12-04 12:33:00     Sharda Edoofa   \n",
      "428 2023-12-04 13:35:00     Sharda Edoofa   \n",
      "429 2023-12-04 15:53:00     Sharda Edoofa   \n",
      "\n",
      "                                               message  \n",
      "426                                         Hello maam  \n",
      "427  Good afternoon Nosisa Have you joined the EWYL...  \n",
      "428  Good afternoon Nosisa  How are you doing? *As ...  \n",
      "429  I'm quite let down because you didn't show up ...  \n"
     ]
    },
    {
     "name": "stderr",
     "output_type": "stream",
     "text": [
      "2023-12-05 17:45:43,184 - DEBUG - Row appended for chat file: WhatsApp Chat with Nosisa EWYL23E0359.txt\n"
     ]
    },
    {
     "name": "stdout",
     "output_type": "stream",
     "text": [
      "ENTER THE LOOP:               datetime         sender  \\\n",
      "263 2023-12-04 08:48:00  Sharda Edoofa   \n",
      "\n",
      "                                               message  \n",
      "263  _*Good Morning Nyikadzino*_ I hope you are doi...  \n"
     ]
    },
    {
     "name": "stderr",
     "output_type": "stream",
     "text": [
      "2023-12-05 17:45:43,796 - DEBUG - Row appended for chat file: WhatsApp Chat with Nyikadzino EWYL23E0551.txt\n"
     ]
    },
    {
     "name": "stdout",
     "output_type": "stream",
     "text": [
      "ENTER THE LOOP:               datetime            sender  \\\n",
      "177 2023-12-04 08:38:00     Sharda Edoofa   \n",
      "178 2023-12-04 08:40:00     Sharda Edoofa   \n",
      "179 2023-12-04 10:09:00  +263 73 721 8664   \n",
      "180 2023-12-04 10:14:00  +263 73 721 8664   \n",
      "181 2023-12-04 15:22:00     Sharda Edoofa   \n",
      "\n",
      "                                               message  \n",
      "177  Good Morning Obidience  *Kindly excuse me for ...  \n",
      "178  *Do not forget to submit your response of the ...  \n",
      "179                                              When?  \n",
      "180                                             Okayyy  \n",
      "181                                           Alright.  \n"
     ]
    },
    {
     "name": "stderr",
     "output_type": "stream",
     "text": [
      "2023-12-05 17:45:44,531 - DEBUG - Row appended for chat file: WhatsApp Chat with Obidience EWYL22E1112.txt\n"
     ]
    },
    {
     "name": "stdout",
     "output_type": "stream",
     "text": [
      "ENTER THE LOOP:               datetime         sender  \\\n",
      "318 2023-12-04 08:54:00  Sharda Edoofa   \n",
      "319 2023-12-04 08:54:00  Sharda Edoofa   \n",
      "\n",
      "                                               message  \n",
      "318  Good Morning Omega  *Kindly excuse me for any ...  \n",
      "319  *Do not forget to submit your response of the ...  \n"
     ]
    },
    {
     "name": "stderr",
     "output_type": "stream",
     "text": [
      "2023-12-05 17:45:45,313 - DEBUG - Row appended for chat file: WhatsApp Chat with Omega EWYL23E0354.txt\n"
     ]
    },
    {
     "name": "stdout",
     "output_type": "stream",
     "text": [
      "ENTER THE LOOP:               datetime            sender  \\\n",
      "158 2023-12-04 08:22:00     Sharda Edoofa   \n",
      "159 2023-12-04 08:29:00     Sharda Edoofa   \n",
      "160 2023-12-04 09:42:00     Sharda Edoofa   \n",
      "161 2023-12-04 11:12:00  +263 78 070 9740   \n",
      "162 2023-12-04 15:27:00     Sharda Edoofa   \n",
      "\n",
      "                                               message  \n",
      "158  *Good morning Panashe* I hope you have had a g...  \n",
      "159      Now that it is a session time, are you ready?  \n",
      "160  @263780709740 I've noticed your continuous una...  \n",
      "161  Sorry for not telling my challenges l wasn't f...  \n",
      "162  I am sorry to hear that. How is your headache ...  \n"
     ]
    },
    {
     "name": "stderr",
     "output_type": "stream",
     "text": [
      "2023-12-05 17:45:45,974 - DEBUG - Row appended for chat file: WhatsApp Chat with Panashe EWYL23E0620.txt\n"
     ]
    },
    {
     "name": "stdout",
     "output_type": "stream",
     "text": [
      "ENTER THE LOOP:               datetime            sender  \\\n",
      "282 2023-12-04 08:22:00     Sharda Edoofa   \n",
      "283 2023-12-04 08:29:00     Sharda Edoofa   \n",
      "284 2023-12-04 08:29:00     Sharda Edoofa   \n",
      "285 2023-12-04 08:32:00     Sharda Edoofa   \n",
      "286 2023-12-04 10:46:00  +263 71 389 4785   \n",
      "287 2023-12-04 10:47:00  +263 71 389 4785   \n",
      "288 2023-12-04 10:55:00  +263 71 389 4785   \n",
      "289 2023-12-04 15:21:00     Sharda Edoofa   \n",
      "290 2023-12-04 15:21:00  +263 71 389 4785   \n",
      "291 2023-12-04 15:22:00     Sharda Edoofa   \n",
      "292 2023-12-04 15:25:00  +263 71 389 4785   \n",
      "293 2023-12-04 15:25:00  +263 71 389 4785   \n",
      "294 2023-12-04 15:25:00     Sharda Edoofa   \n",
      "\n",
      "                                               message  \n",
      "282                           This message was deleted  \n",
      "283                           This message was deleted  \n",
      "284                           This message was deleted  \n",
      "285                           This message was deleted  \n",
      "286                  Yes I am fine ma'am. How are you?  \n",
      "287                                          Yes I am.  \n",
      "288                Now I have the headmaster's number.  \n",
      "289           I am good, thank you so much for asking.  \n",
      "290                                   You are welcome!  \n",
      "291  We will have a discussion about it during our ...  \n",
      "292                                        Okay ma'am.  \n",
      "293                            Thank you for updating.  \n",
      "294                                           Alright.  \n"
     ]
    },
    {
     "name": "stderr",
     "output_type": "stream",
     "text": [
      "2023-12-05 17:45:46,654 - DEBUG - Row appended for chat file: WhatsApp Chat with Patience EWYL23E0862.txt\n"
     ]
    },
    {
     "name": "stdout",
     "output_type": "stream",
     "text": [
      "ENTER THE LOOP:               datetime           sender  \\\n",
      "211 2023-12-04 08:38:00    Sharda Edoofa   \n",
      "212 2023-12-04 08:40:00    Sharda Edoofa   \n",
      "213 2023-12-04 09:55:00  +260 97 9398899   \n",
      "214 2023-12-04 09:59:00  +260 97 9398899   \n",
      "215 2023-12-04 10:04:00  +260 97 9398899   \n",
      "\n",
      "                                               message  \n",
      "211  Good Morning Peter  *Kindly excuse me for any ...  \n",
      "212  *Do not forget to submit your response of the ...  \n",
      "213                                    Okay Ms. Sharda  \n",
      "214                                    <Media omitted>  \n",
      "215                                    <Media omitted>  \n"
     ]
    },
    {
     "name": "stderr",
     "output_type": "stream",
     "text": [
      "2023-12-05 17:45:47,221 - DEBUG - Row appended for chat file: WhatsApp Chat with Peter EWYL23E0818.txt\n"
     ]
    },
    {
     "name": "stdout",
     "output_type": "stream",
     "text": [
      "ENTER THE LOOP:               datetime         sender  \\\n",
      "356 2023-12-04 08:38:00  Sharda Edoofa   \n",
      "357 2023-12-04 08:40:00  Sharda Edoofa   \n",
      "\n",
      "                                               message  \n",
      "356  Good Morning Praymore  *Kindly excuse me for a...  \n",
      "357  *Do not forget to submit your response of the ...  \n"
     ]
    },
    {
     "name": "stderr",
     "output_type": "stream",
     "text": [
      "2023-12-05 17:45:47,842 - DEBUG - Row appended for chat file: WhatsApp Chat with Praymore EWYL23E0666.txt\n"
     ]
    },
    {
     "name": "stdout",
     "output_type": "stream",
     "text": [
      "ENTER THE LOOP:               datetime         sender  \\\n",
      "176 2023-12-04 12:29:00  Sharda Edoofa   \n",
      "\n",
      "                                               message  \n",
      "176  Good afternoon Precious I hope you are doing w...  \n"
     ]
    },
    {
     "name": "stderr",
     "output_type": "stream",
     "text": [
      "2023-12-05 17:45:48,358 - DEBUG - Row appended for chat file: WhatsApp Chat with Precious EWYL22E0979.txt\n"
     ]
    },
    {
     "name": "stdout",
     "output_type": "stream",
     "text": [
      "ENTER THE LOOP:               datetime           sender  \\\n",
      "406 2023-12-04 07:40:00    Sharda Edoofa   \n",
      "407 2023-12-04 07:40:00    Sharda Edoofa   \n",
      "408 2023-12-04 07:40:00    Sharda Edoofa   \n",
      "409 2023-12-04 08:04:00  +91 76580 89753   \n",
      "410 2023-12-04 08:10:00    Sharda Edoofa   \n",
      "\n",
      "                                               message  \n",
      "406                              Good Morning Precious  \n",
      "407                          I hope you are doing well  \n",
      "408           I am good, thank you so much for asking.  \n",
      "409  The weather is not friendly at all but I am do...  \n",
      "410                     I can understand it, Precious.  \n"
     ]
    },
    {
     "name": "stderr",
     "output_type": "stream",
     "text": [
      "2023-12-05 17:45:48,980 - DEBUG - Row appended for chat file: WhatsApp Chat with Precious EWYL22E1035.txt\n"
     ]
    },
    {
     "name": "stdout",
     "output_type": "stream",
     "text": [
      "ENTER THE LOOP:               datetime            sender  \\\n",
      "418 2023-12-04 13:35:00     Sharda Edoofa   \n",
      "419 2023-12-04 13:43:00  +263 71 589 5789   \n",
      "420 2023-12-04 13:58:00     Sharda Edoofa   \n",
      "421 2023-12-04 15:29:00  +263 71 589 5789   \n",
      "422 2023-12-04 15:39:00     Sharda Edoofa   \n",
      "423 2023-12-04 15:39:00     Sharda Edoofa   \n",
      "424 2023-12-04 15:39:00     Sharda Edoofa   \n",
      "425 2023-12-04 15:39:00     Sharda Edoofa   \n",
      "426 2023-12-04 15:45:00  +263 71 589 5789   \n",
      "427 2023-12-04 15:47:00  +263 71 589 5789   \n",
      "428 2023-12-04 15:47:00     Sharda Edoofa   \n",
      "429 2023-12-04 15:48:00  +263 71 589 5789   \n",
      "430 2023-12-04 15:48:00     Sharda Edoofa   \n",
      "431 2023-12-04 15:49:00  +263 71 589 5789   \n",
      "432 2023-12-04 15:49:00  +263 71 589 5789   \n",
      "433 2023-12-04 15:49:00     Sharda Edoofa   \n",
      "434 2023-12-04 15:50:00  +263 71 589 5789   \n",
      "435 2023-12-04 15:50:00     Sharda Edoofa   \n",
      "436 2023-12-04 15:52:00  +263 71 589 5789   \n",
      "\n",
      "                                               message  \n",
      "418  Good afternoon Precious  How are you doing? *A...  \n",
      "419  Good afternoon ma'am...iam doing just fine and...  \n",
      "420  I am glad to hear that, I am good too. Thank y...  \n",
      "421                                       That's great  \n",
      "422  PROJECT 3: AFRICAN SCHOOL EDUCATION REFORM MIS...  \n",
      "423  Now we’re ready to move forward. I’m sharing a...  \n",
      "424                                    <Media omitted>  \n",
      "425  After you go through the audio, I would apprec...  \n",
      "426                                         Okay ma'am  \n",
      "427  I will get back to you as soon as it finishes ...  \n",
      "428  *Concluding our session, I want to say it's be...  \n",
      "429                                       That's great  \n",
      "430                                               Yes.  \n",
      "431               Enjoy the rest of your day Ms Sharda  \n",
      "432                      And thank you for the session  \n",
      "433            You are welcome please and same to you.  \n",
      "434                                        Thank you..  \n",
      "435                       You are most welcome please.  \n",
      "436  Oh ma'am before you go....some of my friends w...  \n"
     ]
    },
    {
     "name": "stderr",
     "output_type": "stream",
     "text": [
      "2023-12-05 17:45:49,605 - DEBUG - Row appended for chat file: WhatsApp Chat with Precious EWYL23E0473.txt\n"
     ]
    },
    {
     "name": "stdout",
     "output_type": "stream",
     "text": [
      "ENTER THE LOOP:               datetime            sender  \\\n",
      "115 2023-12-04 10:03:00     Sharda Edoofa   \n",
      "116 2023-12-04 11:07:00  +263 77 510 9731   \n",
      "117 2023-12-04 13:30:00     Sharda Edoofa   \n",
      "118 2023-12-04 13:32:00  +263 77 510 9731   \n",
      "119 2023-12-04 13:33:00  +263 77 510 9731   \n",
      "120 2023-12-04 13:39:00     Sharda Edoofa   \n",
      "121 2023-12-04 13:40:00     Sharda Edoofa   \n",
      "122 2023-12-04 13:40:00     Sharda Edoofa   \n",
      "123 2023-12-04 13:40:00     Sharda Edoofa   \n",
      "124 2023-12-04 13:40:00     Sharda Edoofa   \n",
      "125 2023-12-04 13:41:00     Sharda Edoofa   \n",
      "126 2023-12-04 14:34:00  +263 77 510 9731   \n",
      "127 2023-12-04 14:34:00  +263 77 510 9731   \n",
      "128 2023-12-04 14:35:00  +263 77 510 9731   \n",
      "129 2023-12-04 14:35:00  +263 77 510 9731   \n",
      "130 2023-12-04 14:48:00     Sharda Edoofa   \n",
      "131 2023-12-04 14:49:00     Sharda Edoofa   \n",
      "132 2023-12-04 14:49:00     Sharda Edoofa   \n",
      "133 2023-12-04 14:49:00     Sharda Edoofa   \n",
      "134 2023-12-04 14:49:00     Sharda Edoofa   \n",
      "135 2023-12-04 15:02:00  +263 77 510 9731   \n",
      "136 2023-12-04 15:03:00  +263 77 510 9731   \n",
      "137 2023-12-04 15:50:00     Sharda Edoofa   \n",
      "\n",
      "                                               message  \n",
      "115  Good Morning Primrose I hope you are doing wel...  \n",
      "116                                 Good morning.Noted  \n",
      "117  Good afternoon Primrose  How are you doing? *A...  \n",
      "118                                    Hi its Primrose  \n",
      "119                                     Yes Thank You.  \n",
      "120                            You are welcome please.  \n",
      "121  Let us begin our session with the project disc...  \n",
      "122                      PROJECT 1: CORPORATE ALLIANCE  \n",
      "123  Today, I will start by explaining the projects...  \n",
      "124                                    <Media omitted>  \n",
      "125  very quickly you summarize whatever you learne...  \n",
      "126  To commence with the objectives of the corpora...  \n",
      "127  Furthermore creating a link and account enhanc...  \n",
      "128          My late replies is due network challenges  \n",
      "129                                              Sorry  \n",
      "130                                     Okay Primrose.  \n",
      "131  Amazing, thanks. I’m happy with your understan...  \n",
      "132                                    <Media omitted>  \n",
      "133  Okay- now here are 2 things I would like to br...  \n",
      "134  Second and the fun part- I’m sure you have rea...  \n",
      "135  it is a guide for searching companies with the...  \n",
      "136  Okay so l have a question when is this suppose...  \n",
      "137  *Now that the time is over, we're wrapping up ...  \n"
     ]
    },
    {
     "name": "stderr",
     "output_type": "stream",
     "text": [
      "2023-12-05 17:45:50,049 - DEBUG - Row appended for chat file: WhatsApp Chat with Primrose EWYL23E0759.txt\n"
     ]
    },
    {
     "name": "stdout",
     "output_type": "stream",
     "text": [
      "ENTER THE LOOP:               datetime            sender  \\\n",
      "108 2023-12-04 08:38:00     Sharda Edoofa   \n",
      "109 2023-12-04 08:40:00     Sharda Edoofa   \n",
      "110 2023-12-04 08:41:00  +263 71 488 7380   \n",
      "\n",
      "                                               message  \n",
      "108  Good Morning Priviledge  *Kindly excuse me for...  \n",
      "109  *Do not forget to submit your response of the ...  \n",
      "110                                       Noted ma'am!  \n"
     ]
    },
    {
     "name": "stderr",
     "output_type": "stream",
     "text": [
      "2023-12-05 17:45:50,489 - DEBUG - Row appended for chat file: WhatsApp Chat with Priviledge EWYL22E1164.txt\n"
     ]
    },
    {
     "name": "stdout",
     "output_type": "stream",
     "text": [
      "ENTER THE LOOP:               datetime            sender  \\\n",
      "265 2023-12-04 08:44:00     Sharda Edoofa   \n",
      "266 2023-12-04 09:19:00  +263 78 511 0068   \n",
      "267 2023-12-04 15:24:00     Sharda Edoofa   \n",
      "\n",
      "                                               message  \n",
      "265  *Do not forget to submit your response of the ...  \n",
      "266                               Which response ma'am  \n",
      "267  As part of our ongoing commitment to your pers...  \n"
     ]
    },
    {
     "name": "stderr",
     "output_type": "stream",
     "text": [
      "2023-12-05 17:45:50,994 - DEBUG - Row appended for chat file: WhatsApp Chat with Providence EWYL23E0592.txt\n"
     ]
    },
    {
     "name": "stdout",
     "output_type": "stream",
     "text": [
      "ENTER THE LOOP:               datetime           sender  \\\n",
      "147 2023-12-04 13:36:00    Sharda Edoofa   \n",
      "148 2023-12-04 13:38:00  +27 64 208 8655   \n",
      "149 2023-12-04 13:51:00    Sharda Edoofa   \n",
      "150 2023-12-04 13:52:00  +27 64 208 8655   \n",
      "151 2023-12-04 13:52:00    Sharda Edoofa   \n",
      "152 2023-12-04 13:52:00    Sharda Edoofa   \n",
      "153 2023-12-04 13:52:00    Sharda Edoofa   \n",
      "154 2023-12-04 13:52:00  +27 64 208 8655   \n",
      "155 2023-12-04 13:52:00  +27 64 208 8655   \n",
      "156 2023-12-04 13:52:00    Sharda Edoofa   \n",
      "157 2023-12-04 13:52:00  +27 64 208 8655   \n",
      "158 2023-12-04 13:52:00    Sharda Edoofa   \n",
      "159 2023-12-04 13:53:00    Sharda Edoofa   \n",
      "160 2023-12-04 13:53:00    Sharda Edoofa   \n",
      "161 2023-12-04 13:53:00  +27 64 208 8655   \n",
      "162 2023-12-04 13:53:00    Sharda Edoofa   \n",
      "163 2023-12-04 13:53:00    Sharda Edoofa   \n",
      "164 2023-12-04 13:53:00    Sharda Edoofa   \n",
      "165 2023-12-04 13:57:00  +27 64 208 8655   \n",
      "166 2023-12-04 13:58:00    Sharda Edoofa   \n",
      "167 2023-12-04 13:58:00    Sharda Edoofa   \n",
      "168 2023-12-04 13:59:00  +27 64 208 8655   \n",
      "169 2023-12-04 14:02:00  +27 64 208 8655   \n",
      "170 2023-12-04 15:56:00    Sharda Edoofa   \n",
      "171 2023-12-04 15:59:00  +27 64 208 8655   \n",
      "172 2023-12-04 16:08:00    Sharda Edoofa   \n",
      "\n",
      "                                               message  \n",
      "147  Good afternoon Rachel  How are you doing? *As ...  \n",
      "148                         I'm doing well how are you  \n",
      "149  I am glad to hear that. I am good too, thank y...  \n",
      "150                                          Thank you  \n",
      "151  Amazing, thanks. I’m happy with your understan...  \n",
      "152                                    <Media omitted>  \n",
      "153  You can go through the document after our sess...  \n",
      "154                                              Noted  \n",
      "155                                          Thank you  \n",
      "156  Okay- now here are 2 things I would like to br...  \n",
      "157                                              noted  \n",
      "158  Second and the fun part- I’m sure you have rea...  \n",
      "159  Now, Let us discuss how we can find suitable c...  \n",
      "160  Once you have created accounts on these platfo...  \n",
      "161                                              Noted  \n",
      "162  Now, there is an update that I would like to s...  \n",
      "163                      PROJECT 2: COMMUNITY BUILDING  \n",
      "164                     Is everything clear until now?  \n",
      "165                                          Following  \n",
      "166  Now we’re ready to move to the next project! T...  \n",
      "167                                    <Media omitted>  \n",
      "168                                                Yes  \n",
      "169                                              Ok ok  \n",
      "170  *Concluding our session, I want to say it's be...  \n",
      "171           Thank you ..l will go through that audio  \n",
      "172                                           Alright.  \n"
     ]
    },
    {
     "name": "stderr",
     "output_type": "stream",
     "text": [
      "2023-12-05 17:45:51,433 - DEBUG - Row appended for chat file: WhatsApp Chat with Rachel EWYL22E0932.txt\n"
     ]
    },
    {
     "name": "stdout",
     "output_type": "stream",
     "text": [
      "ENTER THE LOOP:               datetime            sender  \\\n",
      "213 2023-12-04 12:29:00     Sharda Edoofa   \n",
      "214 2023-12-04 13:46:00  +263 71 624 6340   \n",
      "215 2023-12-04 14:44:00  +263 71 624 6340   \n",
      "216 2023-12-04 14:47:00  +263 71 624 6340   \n",
      "217 2023-12-04 14:52:00  +263 71 624 6340   \n",
      "218 2023-12-04 15:01:00     Sharda Edoofa   \n",
      "219 2023-12-04 15:10:00  +263 71 624 6340   \n",
      "220 2023-12-04 15:10:00     Sharda Edoofa   \n",
      "221 2023-12-04 15:10:00     Sharda Edoofa   \n",
      "222 2023-12-04 15:10:00     Sharda Edoofa   \n",
      "223 2023-12-04 15:10:00     Sharda Edoofa   \n",
      "224 2023-12-04 15:11:00     Sharda Edoofa   \n",
      "225 2023-12-04 15:15:00  +263 71 624 6340   \n",
      "226 2023-12-04 15:16:00     Sharda Edoofa   \n",
      "227 2023-12-04 15:16:00     Sharda Edoofa   \n",
      "228 2023-12-04 15:16:00     Sharda Edoofa   \n",
      "229 2023-12-04 15:17:00  +263 71 624 6340   \n",
      "230 2023-12-04 15:18:00     Sharda Edoofa   \n",
      "231 2023-12-04 15:18:00     Sharda Edoofa   \n",
      "232 2023-12-04 15:18:00     Sharda Edoofa   \n",
      "233 2023-12-04 15:19:00     Sharda Edoofa   \n",
      "234 2023-12-04 15:19:00     Sharda Edoofa   \n",
      "235 2023-12-04 15:26:00  +263 71 624 6340   \n",
      "236 2023-12-04 15:27:00     Sharda Edoofa   \n",
      "237 2023-12-04 15:27:00     Sharda Edoofa   \n",
      "238 2023-12-04 15:27:00     Sharda Edoofa   \n",
      "239 2023-12-04 15:28:00     Sharda Edoofa   \n",
      "240 2023-12-04 15:28:00     Sharda Edoofa   \n",
      "241 2023-12-04 15:28:00     Sharda Edoofa   \n",
      "242 2023-12-04 15:28:00     Sharda Edoofa   \n",
      "243 2023-12-04 15:28:00     Sharda Edoofa   \n",
      "244 2023-12-04 15:34:00  +263 71 624 6340   \n",
      "245 2023-12-04 15:35:00     Sharda Edoofa   \n",
      "246 2023-12-04 15:35:00     Sharda Edoofa   \n",
      "247 2023-12-04 15:36:00     Sharda Edoofa   \n",
      "248 2023-12-04 15:46:00  +263 71 624 6340   \n",
      "249 2023-12-04 15:48:00     Sharda Edoofa   \n",
      "\n",
      "                                               message  \n",
      "213  Good afternoon Ratchel I hope you are doing we...  \n",
      "214                       Ok ma'am l will be available  \n",
      "215                                        Hello ma'am  \n",
      "216                                              Ma'am  \n",
      "217                                Iam available ma'am  \n",
      "218  Alright Ratchel, kindly stay active throughout...  \n",
      "219                                          Ok ma'am.  \n",
      "220  Good day, *Ratchel* I'd like to kick off this ...  \n",
      "221  In today’s session we will discuss a  *Guide t...  \n",
      "222  *Importance of the Community Building Project*...  \n",
      "223  *Project Enhancements and Increased Rewards* T...  \n",
      "224  *The Power of Honesty and Sharing* Honesty, tr...  \n",
      "225                                      Iam following  \n",
      "226  *Your Role in the Community* You will receive ...  \n",
      "227  Let us now discuss the crucial steps that you ...  \n",
      "228                                     Are you ready?  \n",
      "229                                                Yes  \n",
      "230  *Step 1: Outreach* Our first step is to connec...  \n",
      "231  *Step 2: Information Sharing* Once we've ident...  \n",
      "232  *Step 3: Eligibility Check* Now, here's where ...  \n",
      "233  *Step 4: Evaluation and Sharing* After collect...  \n",
      "234                     Is everything Clear until now?  \n",
      "235                                          Yes ma'am  \n",
      "236                                             Great.  \n",
      "237  Please Note: *As an Edoofa Certified Student L...  \n",
      "238  So now I am sharing some training resources wi...  \n",
      "239  1) How to apply and fast-track your applicatio...  \n",
      "240  You can refer to this document's *Training Res...  \n",
      "241                                    <Media omitted>  \n",
      "242  I believe now you're starting your projects wi...  \n",
      "243                     Is everything Clear until now?  \n",
      "244                                         Okay ma'am  \n",
      "245  I believe now you're starting your projects wi...  \n",
      "246  So, we're wrapping up our session. It was a fa...  \n",
      "247  Ratchel, now that we have finished with our tr...  \n",
      "248                                           ok ma'am  \n",
      "249                                               Yes.  \n"
     ]
    },
    {
     "name": "stderr",
     "output_type": "stream",
     "text": [
      "2023-12-05 17:45:51,948 - DEBUG - Row appended for chat file: WhatsApp Chat with Ratchel EWYL22E0779.txt\n"
     ]
    },
    {
     "name": "stdout",
     "output_type": "stream",
     "text": [
      "ENTER THE LOOP:               datetime            sender  \\\n",
      "301 2023-12-04 08:54:00     Sharda Edoofa   \n",
      "302 2023-12-04 08:54:00     Sharda Edoofa   \n",
      "303 2023-12-04 10:32:00  +263 78 786 2520   \n",
      "304 2023-12-04 12:15:00     Sharda Edoofa   \n",
      "\n",
      "                                               message  \n",
      "301  Good Morning Riyahboka  *Kindly excuse me for ...  \n",
      "302  *Do not forget to submit your response of the ...  \n",
      "303                                          Thank you  \n",
      "304                            You are welcome please.  \n"
     ]
    },
    {
     "name": "stderr",
     "output_type": "stream",
     "text": [
      "2023-12-05 17:45:52,450 - DEBUG - Row appended for chat file: WhatsApp Chat with Riyahboka EWYL23E0377.txt\n"
     ]
    },
    {
     "name": "stdout",
     "output_type": "stream",
     "text": [
      "ENTER THE LOOP:               datetime            sender  \\\n",
      "248 2023-12-04 08:37:00     Sharda Edoofa   \n",
      "249 2023-12-04 08:39:00     Sharda Edoofa   \n",
      "250 2023-12-04 09:15:00  +263 77 427 2236   \n",
      "251 2023-12-04 09:15:00  +263 77 427 2236   \n",
      "252 2023-12-04 15:23:00     Sharda Edoofa   \n",
      "\n",
      "                                               message  \n",
      "248  Good Morning Ropafadzo  *Kindly excuse me for ...  \n",
      "249  *Do not forget to submit your response of the ...  \n",
      "250                                 Good morning ma'am  \n",
      "251                                        Okay I will  \n",
      "252                                             Great!  \n"
     ]
    },
    {
     "name": "stderr",
     "output_type": "stream",
     "text": [
      "2023-12-05 17:45:52,957 - DEBUG - Row appended for chat file: WhatsApp Chat with Ropafadzo EWYL23E0834.txt\n"
     ]
    },
    {
     "name": "stdout",
     "output_type": "stream",
     "text": [
      "ENTER THE LOOP:               datetime            sender  \\\n",
      "81  2023-12-04 10:02:00     Sharda Edoofa   \n",
      "82  2023-12-04 11:41:00  +263 77 492 3669   \n",
      "83  2023-12-04 11:41:00  +263 77 492 3669   \n",
      "84  2023-12-04 13:30:00     Sharda Edoofa   \n",
      "85  2023-12-04 13:34:00  +263 77 492 3669   \n",
      "86  2023-12-04 13:34:00  +263 77 492 3669   \n",
      "87  2023-12-04 13:34:00  +263 77 492 3669   \n",
      "88  2023-12-04 13:48:00     Sharda Edoofa   \n",
      "89  2023-12-04 13:48:00     Sharda Edoofa   \n",
      "90  2023-12-04 13:48:00     Sharda Edoofa   \n",
      "91  2023-12-04 13:48:00     Sharda Edoofa   \n",
      "92  2023-12-04 13:49:00     Sharda Edoofa   \n",
      "93  2023-12-04 13:49:00     Sharda Edoofa   \n",
      "94  2023-12-04 14:41:00  +263 77 492 3669   \n",
      "95  2023-12-04 14:41:00  +263 77 492 3669   \n",
      "96  2023-12-04 14:52:00     Sharda Edoofa   \n",
      "97  2023-12-04 14:52:00     Sharda Edoofa   \n",
      "98  2023-12-04 14:53:00     Sharda Edoofa   \n",
      "99  2023-12-04 14:53:00     Sharda Edoofa   \n",
      "100 2023-12-04 14:53:00     Sharda Edoofa   \n",
      "101 2023-12-04 14:53:00     Sharda Edoofa   \n",
      "102 2023-12-04 14:53:00     Sharda Edoofa   \n",
      "103 2023-12-04 15:56:00     Sharda Edoofa   \n",
      "104 2023-12-04 16:03:00  +263 77 492 3669   \n",
      "105 2023-12-04 16:03:00  +263 77 492 3669   \n",
      "106 2023-12-04 16:07:00     Sharda Edoofa   \n",
      "\n",
      "                                               message  \n",
      "81   Good Morning Roy I hope you are doing well  Ki...  \n",
      "82                                         Okay ma'am.  \n",
      "83              We will connect today at 1.30 pm today  \n",
      "84   Good afternoon Roy  How are you doing? *As we ...  \n",
      "85                                       Good day maam  \n",
      "86      I am doing well. I hope you are doing well too  \n",
      "87                                        Ready ma'am!  \n",
      "88                        Yes I am absolutely alright.  \n",
      "89   Let us begin our session with the project disc...  \n",
      "90                       PROJECT 1: CORPORATE ALLIANCE  \n",
      "91   oday, I will start by explaining the projects ...  \n",
      "92                                     <Media omitted>  \n",
      "93   so very quickly  summarize whatever you learne...  \n",
      "94   Umm ma'am. I'm sorry but we once went through ...  \n",
      "95   So my question is, are we supposed to start al...  \n",
      "96               This is Indeed a great understanding.  \n",
      "97   I wanted to revise the projects so that we can...  \n",
      "98   Now that you already remember it all,  *So now...  \n",
      "99   *FIRST* - Please know that the  batch for your...  \n",
      "100  *SECOND* - The timing for the session will be ...  \n",
      "101  *FOURTH*- You have to come on the EWYL Line an...  \n",
      "102  Kindly drop a message on the EWYL Line right n...  \n",
      "103  *It is time to wrap up our session.* You joine...  \n",
      "104                                   Okay ma'am noted  \n",
      "105                             Have a great day ahead  \n",
      "106                             You too and thank you.  \n"
     ]
    },
    {
     "name": "stderr",
     "output_type": "stream",
     "text": [
      "2023-12-05 17:45:53,356 - DEBUG - Row appended for chat file: WhatsApp Chat with Roy EWYL22E0758.txt\n"
     ]
    },
    {
     "name": "stdout",
     "output_type": "stream",
     "text": [
      "ENTER THE LOOP:               datetime         sender  \\\n",
      "251 2023-12-04 13:35:00  Sharda Edoofa   \n",
      "\n",
      "                                               message  \n",
      "251  Good afternoon Rufaro  How are you doing? *As ...  \n"
     ]
    },
    {
     "name": "stderr",
     "output_type": "stream",
     "text": [
      "2023-12-05 17:45:53,850 - DEBUG - Row appended for chat file: WhatsApp Chat with Rufaro EWYL22E0529.txt\n"
     ]
    },
    {
     "name": "stdout",
     "output_type": "stream",
     "text": [
      "ENTER THE LOOP:               datetime           sender  \\\n",
      "197 2023-12-04 12:29:00    Sharda Edoofa   \n",
      "198 2023-12-04 15:11:00  +91 90419 69960   \n",
      "199 2023-12-04 15:45:00    Sharda Edoofa   \n",
      "\n",
      "                                               message  \n",
      "197  Good afternoon Rutendo I hope you are doing we...  \n",
      "198  Good evening Ms. Sharda. I hope you're doing well  \n",
      "199       Yes I am. Are you available for the session?  \n"
     ]
    },
    {
     "name": "stderr",
     "output_type": "stream",
     "text": [
      "2023-12-05 17:45:54,302 - DEBUG - Row appended for chat file: WhatsApp Chat with Rutendo EWYL22E0703.txt\n"
     ]
    },
    {
     "name": "stdout",
     "output_type": "stream",
     "text": [
      "ENTER THE LOOP:               datetime            sender  \\\n",
      "240 2023-12-04 08:49:00     Sharda Edoofa   \n",
      "241 2023-12-04 08:51:00     Sharda Edoofa   \n",
      "242 2023-12-04 10:56:00  +263 77 886 1991   \n",
      "243 2023-12-04 10:56:00  +263 77 886 1991   \n",
      "244 2023-12-04 12:11:00     Sharda Edoofa   \n",
      "245 2023-12-04 12:40:00  +263 77 886 1991   \n",
      "246 2023-12-04 15:19:00     Sharda Edoofa   \n",
      "\n",
      "                                               message  \n",
      "240  Good Morning Ruth  *Kindly excuse me for any i...  \n",
      "241  *Do not forget to submit your response of the ...  \n",
      "242                                      Goodmorning!!  \n",
      "243                                This is due today??  \n",
      "244                                   Yes, it is ruth.  \n",
      "245  But I only got it today Was it not a Saturday ...  \n",
      "246                  Yes it was the Saturday Activity.  \n"
     ]
    },
    {
     "name": "stderr",
     "output_type": "stream",
     "text": [
      "2023-12-05 17:45:54,796 - DEBUG - Row appended for chat file: WhatsApp Chat with Ruth EWYL23E0647.txt\n"
     ]
    },
    {
     "name": "stdout",
     "output_type": "stream",
     "text": [
      "ENTER THE LOOP:               datetime         sender  \\\n",
      "330 2023-12-04 08:54:00  Sharda Edoofa   \n",
      "331 2023-12-04 08:54:00  Sharda Edoofa   \n",
      "\n",
      "                                               message  \n",
      "330  Good Morning Ruvimbo  *Kindly excuse me for an...  \n",
      "331  *Do not forget to submit your response of the ...  \n"
     ]
    },
    {
     "name": "stderr",
     "output_type": "stream",
     "text": [
      "2023-12-05 17:45:55,373 - DEBUG - Row appended for chat file: WhatsApp Chat with Ruvimbo EWYL23E0393.txt\n"
     ]
    },
    {
     "name": "stdout",
     "output_type": "stream",
     "text": [
      "ENTER THE LOOP:               datetime         sender  \\\n",
      "306 2023-12-04 08:54:00  Sharda Edoofa   \n",
      "307 2023-12-04 08:54:00  Sharda Edoofa   \n",
      "\n",
      "                                               message  \n",
      "306  Good Morning Samantha  *Kindly excuse me for a...  \n",
      "307  *Do not forget to submit your response of the ...  \n"
     ]
    },
    {
     "name": "stderr",
     "output_type": "stream",
     "text": [
      "2023-12-05 17:45:55,929 - DEBUG - Row appended for chat file: WhatsApp Chat with Samantha EWYL23E0526.txt\n"
     ]
    },
    {
     "name": "stdout",
     "output_type": "stream",
     "text": [
      "ENTER THE LOOP:               datetime            sender  \\\n",
      "173 2023-12-04 13:39:00     Sharda Edoofa   \n",
      "174 2023-12-04 13:43:00  +263 78 019 2995   \n",
      "175 2023-12-04 14:27:00     Sharda Edoofa   \n",
      "176 2023-12-04 14:27:00     Sharda Edoofa   \n",
      "177 2023-12-04 14:28:00  +263 78 019 2995   \n",
      "178 2023-12-04 14:28:00  +263 78 019 2995   \n",
      "179 2023-12-04 14:34:00  +263 77 580 2889   \n",
      "180 2023-12-04 14:35:00  +263 77 580 2889   \n",
      "181 2023-12-04 14:46:00  +263 78 019 2995   \n",
      "\n",
      "                                               message  \n",
      "173  Good afternoon Sandile  How are you doing? *As...  \n",
      "174                                        how are you  \n",
      "175     I am doing good, thank you so much for asking.  \n",
      "176         Are you ready for today's session Sandile?  \n",
      "177                                     you're welcome  \n",
      "178                                           yes l am  \n",
      "179                                     Good afternoon  \n",
      "180  I want to take this opportunity to inform you ...  \n",
      "181  may l ask about your refund policy if l want t...  \n"
     ]
    },
    {
     "name": "stderr",
     "output_type": "stream",
     "text": [
      "2023-12-05 17:45:56,383 - DEBUG - Row appended for chat file: WhatsApp Chat with Sandile EWYL22E1065.txt\n",
      "2023-12-05 17:45:56,812 - DEBUG - Row appended for chat file: WhatsApp Chat with Sharon EWYL23E0603.txt\n"
     ]
    },
    {
     "name": "stdout",
     "output_type": "stream",
     "text": [
      "ENTER THE LOOP:               datetime         sender  \\\n",
      "186 2023-12-04 13:39:00  Sharda Edoofa   \n",
      "187 2023-12-04 15:52:00  Sharda Edoofa   \n",
      "\n",
      "                                               message  \n",
      "186  Good afternoon Kudzai  How are you doing? *As ...  \n",
      "187  I'm quite let down because you didn't show up ...  \n",
      "ENTER THE LOOP:              datetime           sender  \\\n",
      "83 2023-12-04 12:32:00    Sharda Edoofa   \n",
      "84 2023-12-04 13:30:00  +91 75288 78121   \n",
      "85 2023-12-04 15:17:00    Sharda Edoofa   \n",
      "86 2023-12-04 16:00:00    Sharda Edoofa   \n",
      "87 2023-12-04 16:01:00    Sharda Edoofa   \n",
      "\n",
      "                                              message  \n",
      "83  *Good afternoon Shaun* I hope you are doing we...  \n",
      "84                            Yes l will be available  \n",
      "85  Great Shaun. Please be available. I will call ...  \n",
      "86               https://meet.google.com/mcs-xtpk-fdb  \n",
      "87                Kindly join this link for our call.  \n"
     ]
    },
    {
     "name": "stderr",
     "output_type": "stream",
     "text": [
      "2023-12-05 17:45:57,219 - DEBUG - Row appended for chat file: WhatsApp Chat with Shaun EWYL22E0968.txt\n"
     ]
    },
    {
     "name": "stdout",
     "output_type": "stream",
     "text": [
      "ENTER THE LOOP:               datetime            sender  \\\n",
      "233 2023-12-04 13:35:00     Sharda Edoofa   \n",
      "234 2023-12-04 13:46:00  +263 78 110 5343   \n",
      "235 2023-12-04 13:46:00  +263 78 110 5343   \n",
      "236 2023-12-04 13:47:00     Sharda Edoofa   \n",
      "237 2023-12-04 13:48:00     Sharda Edoofa   \n",
      "238 2023-12-04 14:02:00  +263 78 110 5343   \n",
      "239 2023-12-04 14:05:00  +263 78 110 5343   \n",
      "240 2023-12-04 14:13:00  +263 78 110 5343   \n",
      "241 2023-12-04 14:14:00  +263 78 110 5343   \n",
      "242 2023-12-04 14:43:00     Sharda Edoofa   \n",
      "243 2023-12-04 14:43:00     Sharda Edoofa   \n",
      "244 2023-12-04 14:43:00     Sharda Edoofa   \n",
      "245 2023-12-04 14:46:00  +263 78 110 5343   \n",
      "246 2023-12-04 14:49:00  +263 78 110 5343   \n",
      "247 2023-12-04 15:30:00     Sharda Edoofa   \n",
      "248 2023-12-04 15:30:00     Sharda Edoofa   \n",
      "249 2023-12-04 15:30:00     Sharda Edoofa   \n",
      "250 2023-12-04 15:30:00     Sharda Edoofa   \n",
      "251 2023-12-04 15:30:00     Sharda Edoofa   \n",
      "252 2023-12-04 15:31:00     Sharda Edoofa   \n",
      "253 2023-12-04 15:31:00     Sharda Edoofa   \n",
      "254 2023-12-04 15:31:00     Sharda Edoofa   \n",
      "255 2023-12-04 15:31:00     Sharda Edoofa   \n",
      "256 2023-12-04 15:33:00  +263 78 110 5343   \n",
      "257 2023-12-04 15:34:00     Sharda Edoofa   \n",
      "258 2023-12-04 15:34:00     Sharda Edoofa   \n",
      "259 2023-12-04 15:34:00     Sharda Edoofa   \n",
      "260 2023-12-04 15:34:00     Sharda Edoofa   \n",
      "261 2023-12-04 15:34:00     Sharda Edoofa   \n",
      "262 2023-12-04 15:34:00     Sharda Edoofa   \n",
      "263 2023-12-04 15:35:00     Sharda Edoofa   \n",
      "264 2023-12-04 15:35:00     Sharda Edoofa   \n",
      "265 2023-12-04 15:35:00     Sharda Edoofa   \n",
      "266 2023-12-04 15:39:00  +263 78 110 5343   \n",
      "267 2023-12-04 15:41:00     Sharda Edoofa   \n",
      "268 2023-12-04 15:42:00     Sharda Edoofa   \n",
      "269 2023-12-04 15:43:00  +263 78 110 5343   \n",
      "270 2023-12-04 15:44:00     Sharda Edoofa   \n",
      "\n",
      "                                               message  \n",
      "233  Good afternoon Shumirai  How are you doing? *A...  \n",
      "234                                          yes Ma'am  \n",
      "235                                        how are you  \n",
      "236           I am good, thank you so much for asking.  \n",
      "237       Kindly share the answers of these questions.  \n",
      "238  Q1.Chinhoyi 2 High....They have not connected ...  \n",
      "239                                                Q2.  \n",
      "240  when reaching to the heads ..firstly I will in...  \n",
      "241                               Q3. Mashonaland West  \n",
      "242  Since your school is currently not connected w...  \n",
      "243  Yes, Now our first task is to get the number o...  \n",
      "244  The advantage here is that I will be helping y...  \n",
      "245                                          yes Ma'am  \n",
      "246                                    <Media omitted>  \n",
      "247  _So, This is what the First message should loo...  \n",
      "248  *Shumirai, it would be more advantageous if yo...  \n",
      "249                Yes Shumirai, it is very much okay.  \n",
      "250  After the headmaster replies and gives you a s...  \n",
      "251  Today, I am thrilled to introduce you to a sch...  \n",
      "252  I am delighted to share that EDOOFA's scholars...  \n",
      "253  In Zimbabwe alone, EDOOFA has enrolled more th...  \n",
      "254  Along with this, schools can benefit in the fo...  \n",
      "255  Once you go through all the information, and s...  \n",
      "256                    oky ..thank you very much Ma'am  \n",
      "257                             You are welcome please  \n",
      "258  *When the school’s per-term fees are less than...  \n",
      "259  The reason behind this is that there is very m...  \n",
      "260  1) Either ask the headmaster/Principal/Person ...  \n",
      "261  *So now we are ready to begin our new journey....  \n",
      "262  *FIRST* - Please know that the  batch for your...  \n",
      "263  *SECOND* - The timing for the session will be ...  \n",
      "264  *FOURTH*- You have to come on the EWYL Line an...  \n",
      "265  Kindly drop a message on the EWYL Line right n...  \n",
      "266                            I have sent the message  \n",
      "267     Okay great, thank you for sharing  the update.  \n",
      "268  *Now that the time is over, we're wrapping up ...  \n",
      "269                 oky Ma'am ..have a great day ahead  \n",
      "270                                         Thank you.  \n"
     ]
    },
    {
     "name": "stderr",
     "output_type": "stream",
     "text": [
      "2023-12-05 17:45:57,736 - DEBUG - Row appended for chat file: WhatsApp Chat with SHUMIRAI EWYL23E0773.txt\n"
     ]
    },
    {
     "name": "stdout",
     "output_type": "stream",
     "text": [
      "ENTER THE LOOP:               datetime           sender  \\\n",
      "401 2023-12-04 13:39:00    Sharda Edoofa   \n",
      "402 2023-12-04 13:43:00  +260 96 5849882   \n",
      "403 2023-12-04 14:28:00    Sharda Edoofa   \n",
      "404 2023-12-04 14:28:00    Sharda Edoofa   \n",
      "405 2023-12-04 14:29:00  +260 96 5849882   \n",
      "406 2023-12-04 14:29:00  +260 96 5849882   \n",
      "407 2023-12-04 14:31:00    Sharda Edoofa   \n",
      "408 2023-12-04 14:31:00    Sharda Edoofa   \n",
      "409 2023-12-04 14:31:00    Sharda Edoofa   \n",
      "410 2023-12-04 14:31:00    Sharda Edoofa   \n",
      "411 2023-12-04 14:31:00    Sharda Edoofa   \n",
      "412 2023-12-04 14:31:00    Sharda Edoofa   \n",
      "413 2023-12-04 14:32:00    Sharda Edoofa   \n",
      "414 2023-12-04 14:33:00  +260 96 5849882   \n",
      "415 2023-12-04 14:33:00  +260 96 5849882   \n",
      "416 2023-12-04 14:47:00    Sharda Edoofa   \n",
      "417 2023-12-04 14:47:00    Sharda Edoofa   \n",
      "418 2023-12-04 14:48:00    Sharda Edoofa   \n",
      "419 2023-12-04 14:48:00    Sharda Edoofa   \n",
      "420 2023-12-04 14:48:00    Sharda Edoofa   \n",
      "421 2023-12-04 14:48:00    Sharda Edoofa   \n",
      "422 2023-12-04 14:50:00  +260 96 5849882   \n",
      "423 2023-12-04 14:50:00  +260 96 5849882   \n",
      "424 2023-12-04 14:55:00    Sharda Edoofa   \n",
      "425 2023-12-04 14:55:00    Sharda Edoofa   \n",
      "426 2023-12-04 14:55:00    Sharda Edoofa   \n",
      "427 2023-12-04 14:55:00    Sharda Edoofa   \n",
      "428 2023-12-04 14:56:00    Sharda Edoofa   \n",
      "429 2023-12-04 14:56:00    Sharda Edoofa   \n",
      "430 2023-12-04 15:09:00  +260 96 5849882   \n",
      "431 2023-12-04 15:47:00    Sharda Edoofa   \n",
      "432 2023-12-04 15:47:00    Sharda Edoofa   \n",
      "433 2023-12-04 15:48:00  +260 96 5849882   \n",
      "434 2023-12-04 15:49:00    Sharda Edoofa   \n",
      "\n",
      "                                               message  \n",
      "401  Good afternoon Tabo  How are you doing? *As we...  \n",
      "402                                       Good morning  \n",
      "403                                Good afternoon Tabo  \n",
      "404                                     Are you ready?  \n",
      "405                                    Good afternoon.  \n",
      "406                                             Ready👍  \n",
      "407  _So, This is what the First message should loo...  \n",
      "408  *Tabo*, it would be more advantageous if you c...  \n",
      "409  After the headmaster replies and gives you a s...  \n",
      "410  Today, I am thrilled to introduce you to a sch...  \n",
      "411  I am delighted to share that EDOOFA's scholars...  \n",
      "412  In Zimbabwe alone, EDOOFA has enrolled more th...  \n",
      "413                  *Is everything clear until now ?*  \n",
      "414                                      Yes its clear  \n",
      "415  Is there a link for them to access the edoofa ...  \n",
      "416                   There an officicial website too.  \n",
      "417  Along with this, schools can benefit in the fo...  \n",
      "418  Once you go through all the information, and s...  \n",
      "419  *When the school’s per-term fees are less than...  \n",
      "420  The reason behind this is that there is very m...  \n",
      "421  1) Either ask the headmaster/Principal/Person ...  \n",
      "422                                      I understand.  \n",
      "423  So once the group has been formed I can add you??  \n",
      "424                                               Yes.  \n",
      "425  *So now we are ready to begin our new journey....  \n",
      "426  *FIRST* - Please know that the  batch for your...  \n",
      "427  *SECOND* - The timing for the session will be ...  \n",
      "428  *FOURTH*- You have to come on the EWYL Line an...  \n",
      "429  Kindly drop a message on the EWYL Line right n...  \n",
      "430                                              Done👍  \n",
      "431                                             Great.  \n",
      "432  *Concluding our session, I want to say it's be...  \n",
      "433                                   It's a pleasure👍  \n",
      "434                                               Yes!  \n"
     ]
    },
    {
     "name": "stderr",
     "output_type": "stream",
     "text": [
      "2023-12-05 17:45:58,351 - DEBUG - Row appended for chat file: WhatsApp Chat with Tabo EWYL23E0478 (1).txt\n"
     ]
    },
    {
     "name": "stdout",
     "output_type": "stream",
     "text": [
      "ENTER THE LOOP:               datetime         sender                   message\n",
      "243 2023-12-04 07:49:00  Sharda Edoofa  This message was deleted\n"
     ]
    },
    {
     "name": "stderr",
     "output_type": "stream",
     "text": [
      "2023-12-05 17:45:58,917 - DEBUG - Row appended for chat file: WhatsApp Chat with Tadiwanashe EWYL22E0723.txt\n"
     ]
    },
    {
     "name": "stdout",
     "output_type": "stream",
     "text": [
      "ENTER THE LOOP:               datetime            sender  \\\n",
      "518 2023-12-04 10:05:00     Sharda Edoofa   \n",
      "519 2023-12-04 15:48:00  +263 71 679 0424   \n",
      "520 2023-12-04 15:49:00     Sharda Edoofa   \n",
      "521 2023-12-04 17:29:00  +263 71 679 0424   \n",
      "\n",
      "                                               message  \n",
      "518  Good Morning Tadiwanshe I hope you are doing w...  \n",
      "519  Sure thing ma'am.... I'm still looking for mor...  \n",
      "520                Yes, you should definitely do that.  \n",
      "521  Name:Nokutenda Kunze DOB:25/09/04 Gender:Femal...  \n"
     ]
    },
    {
     "name": "stderr",
     "output_type": "stream",
     "text": [
      "2023-12-05 17:46:00,667 - DEBUG - Row appended for chat file: WhatsApp Chat with Tadiwanashe EWYL22E0936.txt\n"
     ]
    },
    {
     "name": "stdout",
     "output_type": "stream",
     "text": [
      "ENTER THE LOOP:               datetime            sender  \\\n",
      "151 2023-12-04 08:22:00     Sharda Edoofa   \n",
      "152 2023-12-04 08:29:00     Sharda Edoofa   \n",
      "153 2023-12-04 08:53:00  +263 78 129 8755   \n",
      "154 2023-12-04 08:53:00  +263 78 129 8755   \n",
      "155 2023-12-04 08:55:00     Sharda Edoofa   \n",
      "156 2023-12-04 08:56:00     Sharda Edoofa   \n",
      "157 2023-12-04 09:07:00  +263 78 129 8755   \n",
      "158 2023-12-04 09:12:00     Sharda Edoofa   \n",
      "159 2023-12-04 09:20:00  +263 78 129 8755   \n",
      "160 2023-12-04 09:28:00     Sharda Edoofa   \n",
      "161 2023-12-04 09:32:00     Sharda Edoofa   \n",
      "162 2023-12-04 09:32:00     Sharda Edoofa   \n",
      "163 2023-12-04 09:33:00     Sharda Edoofa   \n",
      "164 2023-12-04 09:33:00     Sharda Edoofa   \n",
      "165 2023-12-04 09:38:00  +263 78 129 8755   \n",
      "166 2023-12-04 09:38:00  +263 78 129 8755   \n",
      "167 2023-12-04 09:44:00     Sharda Edoofa   \n",
      "168 2023-12-04 09:44:00     Sharda Edoofa   \n",
      "169 2023-12-04 09:45:00     Sharda Edoofa   \n",
      "170 2023-12-04 09:45:00     Sharda Edoofa   \n",
      "171 2023-12-04 09:45:00     Sharda Edoofa   \n",
      "172 2023-12-04 09:45:00     Sharda Edoofa   \n",
      "173 2023-12-04 09:45:00     Sharda Edoofa   \n",
      "174 2023-12-04 09:46:00     Sharda Edoofa   \n",
      "175 2023-12-04 09:55:00  +263 78 129 8755   \n",
      "176 2023-12-04 10:04:00     Sharda Edoofa   \n",
      "177 2023-12-04 10:04:00     Sharda Edoofa   \n",
      "178 2023-12-04 10:04:00     Sharda Edoofa   \n",
      "179 2023-12-04 10:04:00     Sharda Edoofa   \n",
      "180 2023-12-04 10:05:00  +263 78 129 8755   \n",
      "181 2023-12-04 10:15:00  +263 78 129 8755   \n",
      "182 2023-12-04 10:16:00     Sharda Edoofa   \n",
      "183 2023-12-04 10:16:00     Sharda Edoofa   \n",
      "184 2023-12-04 10:16:00     Sharda Edoofa   \n",
      "185 2023-12-04 10:33:00  +263 78 129 8755   \n",
      "186 2023-12-04 11:16:00     Sharda Edoofa   \n",
      "187 2023-12-04 11:16:00     Sharda Edoofa   \n",
      "188 2023-12-04 11:17:00     Sharda Edoofa   \n",
      "189 2023-12-04 11:17:00     Sharda Edoofa   \n",
      "190 2023-12-04 11:17:00     Sharda Edoofa   \n",
      "191 2023-12-04 11:35:00  +263 78 129 8755   \n",
      "192 2023-12-04 15:17:00     Sharda Edoofa   \n",
      "193 2023-12-04 15:17:00     Sharda Edoofa   \n",
      "\n",
      "                                               message  \n",
      "151  *Good morning Tadiwanshe* I hope you have had ...  \n",
      "152      Now that it is a session time, are you ready?  \n",
      "153                      im good how are you Ms Sharda  \n",
      "154                                         yes  ready  \n",
      "155      I am also good, thank you so much for asking.  \n",
      "156  Also, please consider joining the sessions wel...  \n",
      "157                               okay sorry Ms Sharda  \n",
      "158                   Have you gone through the audio?  \n",
      "159                 yes i did .....and i understood it  \n",
      "160                                             Great.  \n",
      "161  Now, here are 2 things I’d like to briefly rem...  \n",
      "162  1-  I’m sharing a form with you below, You hav...  \n",
      "163  *Offline Application Form for Zimbabwe*  Stude...  \n",
      "164  And #2 – Back to the exciting part- your *Scho...  \n",
      "165                                       yes im ready  \n",
      "166                                             okay..  \n",
      "167  So, now I am going to share certain ways that ...  \n",
      "168                                    <Media omitted>  \n",
      "169  While reaching out to students, share this mes...  \n",
      "170  1. Who referred Edoofa to them, so that only y...  \n",
      "171  In case the student is not aware of these two ...  \n",
      "172  Hello Friends  I am _______ a student selected...  \n",
      "173                                    <Media omitted>  \n",
      "174  Now, this is how you have to make sure that th...  \n",
      "175                    oksy thank you ....i will do so  \n",
      "176                                    <Media omitted>  \n",
      "177  At this point, I couldn’t stop myself but tell...  \n",
      "178                                    <Media omitted>  \n",
      "179  This is very valuable information that you can...  \n",
      "180                                     okay thank you  \n",
      "181                                     yes i do agree  \n",
      "182                            You are welcome please.  \n",
      "183                                Great, Tadiwanashe.  \n",
      "184       Let us now shift our focus to the Project 3.  \n",
      "185                                     okay thank you  \n",
      "186                            You are welcome please.  \n",
      "187  PROJECT 3: AFRICAN SCHOOL EDUCATION REFORM MIS...  \n",
      "188  ow we’re ready to move forward. I’m sharing an...  \n",
      "189                                    <Media omitted>  \n",
      "190  After you go through the audio, I would apprec...  \n",
      "191                                   okay iwill do so  \n",
      "192                                           Alright.  \n",
      "193  Wrapping up the session I must say it's been a...  \n"
     ]
    },
    {
     "name": "stderr",
     "output_type": "stream",
     "text": [
      "2023-12-05 17:46:01,931 - DEBUG - Row appended for chat file: WhatsApp Chat with Tadiwanashe EWYL23E0791.txt\n"
     ]
    },
    {
     "name": "stdout",
     "output_type": "stream",
     "text": [
      "ENTER THE LOOP:              datetime         sender  \\\n",
      "35 2023-12-04 08:48:00  Sharda Edoofa   \n",
      "\n",
      "                                              message  \n",
      "35  _*Good Morning Tafadzwa*_ I hope you are doing...  \n"
     ]
    },
    {
     "name": "stderr",
     "output_type": "stream",
     "text": [
      "2023-12-05 17:46:02,529 - DEBUG - Row appended for chat file: WhatsApp Chat with Tafadzwa EWYL23E0050.txt\n"
     ]
    },
    {
     "name": "stdout",
     "output_type": "stream",
     "text": [
      "ENTER THE LOOP:              datetime         sender  \\\n",
      "66 2023-12-04 09:06:00  Sharda Edoofa   \n",
      "\n",
      "                                              message  \n",
      "66  *Good Morning Tafadzwa and parents*@2637735585...  \n"
     ]
    },
    {
     "name": "stderr",
     "output_type": "stream",
     "text": [
      "2023-12-05 17:46:03,094 - DEBUG - Row appended for chat file: WhatsApp Chat with Tafadzwa EWYL23E0103.txt\n"
     ]
    },
    {
     "name": "stdout",
     "output_type": "stream",
     "text": [
      "ENTER THE LOOP:               datetime            sender  \\\n",
      "354 2023-12-04 08:13:00     Sharda Edoofa   \n",
      "355 2023-12-04 08:13:00     Sharda Edoofa   \n",
      "356 2023-12-04 08:13:00     Sharda Edoofa   \n",
      "357 2023-12-04 08:44:00     Sharda Edoofa   \n",
      "358 2023-12-04 08:52:00  +263 78 833 7215   \n",
      "359 2023-12-04 11:06:00     Sharda Edoofa   \n",
      "360 2023-12-04 13:45:00  +263 78 833 7215   \n",
      "361 2023-12-04 15:20:00     Sharda Edoofa   \n",
      "362 2023-12-04 15:21:00  +263 78 833 7215   \n",
      "363 2023-12-04 15:22:00     Sharda Edoofa   \n",
      "\n",
      "                                               message  \n",
      "354  Good Morning Tafadzwa I hope you are doing wel...  \n",
      "355                           Here is the updated one.  \n",
      "356  I hope this message finds you well. As part of...  \n",
      "357  *Do not forget to submit your response of the ...  \n",
      "358                            Noted, thank you ma'am.  \n",
      "359                            You are welcome please.  \n",
      "360  Good day ma'am, did the Director manged to hav...  \n",
      "361  Good day Tafadzwa I will let you know by tomor...  \n",
      "362                                       Noted ma'am.  \n",
      "363                                             Great.  \n"
     ]
    },
    {
     "name": "stderr",
     "output_type": "stream",
     "text": [
      "2023-12-05 17:46:03,711 - DEBUG - Row appended for chat file: WhatsApp Chat with Tafadzwa EWYL23E0588.txt\n"
     ]
    },
    {
     "name": "stdout",
     "output_type": "stream",
     "text": [
      "ENTER THE LOOP:               datetime            sender  \\\n",
      "221 2023-12-04 13:39:00     Sharda Edoofa   \n",
      "222 2023-12-04 15:05:00  +263 77 317 5959   \n",
      "223 2023-12-04 15:48:00     Sharda Edoofa   \n",
      "\n",
      "                                               message  \n",
      "221  Good afternoon Takudzwa  How are you doing? *A...  \n",
      "222                                     Good afternoon  \n",
      "223  *It is time to wrap up our session.* You joine...  \n"
     ]
    },
    {
     "name": "stderr",
     "output_type": "stream",
     "text": [
      "2023-12-05 17:46:04,220 - DEBUG - Row appended for chat file: WhatsApp Chat with Takudzwa EWYL22E0499.txt\n"
     ]
    },
    {
     "name": "stdout",
     "output_type": "stream",
     "text": [
      "ENTER THE LOOP:               datetime            sender  \\\n",
      "209 2023-12-04 08:46:00     Sharda Edoofa   \n",
      "210 2023-12-04 08:47:00  +263 77 772 9092   \n",
      "211 2023-12-04 15:26:00     Sharda Edoofa   \n",
      "\n",
      "                                               message  \n",
      "209  _*Good Morning Takudzwanashe*_ I hope you are ...  \n",
      "210                  Morning ma'am l will be available  \n",
      "211            Thank you for sharing the confirmation.  \n"
     ]
    },
    {
     "name": "stderr",
     "output_type": "stream",
     "text": [
      "2023-12-05 17:46:04,689 - DEBUG - Row appended for chat file: WhatsApp Chat with Takudzwanashe EWYL22E0852.txt\n"
     ]
    },
    {
     "name": "stdout",
     "output_type": "stream",
     "text": [
      "ENTER THE LOOP:               datetime            sender  \\\n",
      "277 2023-12-04 08:48:00     Sharda Edoofa   \n",
      "278 2023-12-04 09:36:00  +263 73 290 9611   \n",
      "279 2023-12-04 15:25:00     Sharda Edoofa   \n",
      "280 2023-12-04 15:25:00     Sharda Edoofa   \n",
      "\n",
      "                                               message  \n",
      "277  _*Good Morning Takunda*_ I hope you are doing ...  \n",
      "278  Good morning how are you  Thank you for informing  \n",
      "279           I am good, thank you so much for asking.  \n",
      "280                            You are welcome please.  \n"
     ]
    },
    {
     "name": "stderr",
     "output_type": "stream",
     "text": [
      "2023-12-05 17:46:05,149 - DEBUG - Row appended for chat file: WhatsApp Chat with Takunda EWYL23E0810.txt\n"
     ]
    },
    {
     "name": "stdout",
     "output_type": "stream",
     "text": [
      "ENTER THE LOOP:               datetime            sender  \\\n",
      "182 2023-12-04 13:39:00     Sharda Edoofa   \n",
      "183 2023-12-04 14:12:00  +263 78 887 2725   \n",
      "184 2023-12-04 14:42:00     Sharda Edoofa   \n",
      "185 2023-12-04 15:56:00     Sharda Edoofa   \n",
      "\n",
      "                                               message  \n",
      "182  Good afternoon Takura  How are you doing? *As ...  \n",
      "183                                     afternoon maam  \n",
      "184      Kindly share your understanding of the audio.  \n",
      "185  *It is time to wrap up our session.* You joine...  \n"
     ]
    },
    {
     "name": "stderr",
     "output_type": "stream",
     "text": [
      "2023-12-05 17:46:05,610 - DEBUG - Row appended for chat file: WhatsApp Chat with Takura EWYL22E0875.txt\n"
     ]
    },
    {
     "name": "stdout",
     "output_type": "stream",
     "text": [
      "ENTER THE LOOP:               datetime            sender  \\\n",
      "136 2023-12-04 13:39:00     Sharda Edoofa   \n",
      "137 2023-12-04 15:52:00     Sharda Edoofa   \n",
      "138 2023-12-04 16:24:00  +263 78 633 1349   \n",
      "\n",
      "                                               message  \n",
      "136  Good afternoon Tanaka  How are you doing? *As ...  \n",
      "137  I'm quite let down because you didn't show up ...  \n",
      "138      Good afternoon, l was having network problems  \n"
     ]
    },
    {
     "name": "stderr",
     "output_type": "stream",
     "text": [
      "2023-12-05 17:46:06,017 - DEBUG - Row appended for chat file: WhatsApp Chat with Tanaka EWYL22E0833.txt\n"
     ]
    },
    {
     "name": "stdout",
     "output_type": "stream",
     "text": [
      "ENTER THE LOOP:               datetime         sender  \\\n",
      "109 2023-12-04 13:35:00  Sharda Edoofa   \n",
      "110 2023-12-04 15:51:00  Sharda Edoofa   \n",
      "\n",
      "                                               message  \n",
      "109  Good afternoon Tanaka  How are you doing? *As ...  \n",
      "110  I'm quite let down because you didn't show up ...  \n"
     ]
    },
    {
     "name": "stderr",
     "output_type": "stream",
     "text": [
      "2023-12-05 17:46:06,501 - DEBUG - Row appended for chat file: WhatsApp Chat with Tanaka EWYL23E0702.txt\n"
     ]
    },
    {
     "name": "stdout",
     "output_type": "stream",
     "text": [
      "ENTER THE LOOP:              datetime         sender  \\\n",
      "72 2023-12-04 13:35:00  Sharda Edoofa   \n",
      "73 2023-12-04 15:53:00  Sharda Edoofa   \n",
      "\n",
      "                                              message  \n",
      "72  Good afternoon Tanatswa  How are you doing? *A...  \n",
      "73  I'm quite let down because you didn't show up ...  \n"
     ]
    },
    {
     "name": "stderr",
     "output_type": "stream",
     "text": [
      "2023-12-05 17:46:06,932 - DEBUG - Row appended for chat file: WhatsApp Chat with Tanatswa EWYL22E0771.txt\n"
     ]
    },
    {
     "name": "stdout",
     "output_type": "stream",
     "text": [
      "ENTER THE LOOP:               datetime            sender  \\\n",
      "216 2023-12-04 12:29:00     Sharda Edoofa   \n",
      "217 2023-12-04 17:29:00  +263 78 824 6457   \n",
      "218 2023-12-04 17:29:00  +263 78 824 6457   \n",
      "219 2023-12-04 17:30:00  +263 78 824 6457   \n",
      "\n",
      "                                               message  \n",
      "216  Good afternoon Tanyaradzwa I hope you are doin...  \n",
      "217                                    <Media omitted>  \n",
      "218                                    <Media omitted>  \n",
      "219  Hie ma'am I have done the Google and Facebook ...  \n"
     ]
    },
    {
     "name": "stderr",
     "output_type": "stream",
     "text": [
      "2023-12-05 17:46:07,454 - DEBUG - Row appended for chat file: WhatsApp Chat with Tanyaradzwa EWYL22E0304.txt\n"
     ]
    },
    {
     "name": "stdout",
     "output_type": "stream",
     "text": [
      "ENTER THE LOOP:              datetime         sender  \\\n",
      "53 2023-12-04 13:39:00  Sharda Edoofa   \n",
      "54 2023-12-04 15:52:00  Sharda Edoofa   \n",
      "\n",
      "                                              message  \n",
      "53  Good afternoon Tanyaradzwa  How are you doing?...  \n",
      "54  I'm quite let down because you didn't show up ...  \n"
     ]
    },
    {
     "name": "stderr",
     "output_type": "stream",
     "text": [
      "2023-12-05 17:46:07,884 - DEBUG - Row appended for chat file: WhatsApp Chat with Tanyaradzwa EWYL22E0544.txt\n"
     ]
    },
    {
     "name": "stdout",
     "output_type": "stream",
     "text": [
      "ENTER THE LOOP:               datetime            sender  \\\n",
      "296 2023-12-04 08:46:00     Sharda Edoofa   \n",
      "297 2023-12-04 08:47:00  +263 71 484 8242   \n",
      "\n",
      "                                               message  \n",
      "296  _*Good Morning Tanyaradzwa*_ I hope you are do...  \n",
      "297                                              Noted  \n"
     ]
    },
    {
     "name": "stderr",
     "output_type": "stream",
     "text": [
      "2023-12-05 17:46:08,440 - DEBUG - Row appended for chat file: WhatsApp Chat with Tanyaradzwa EWYL22E0917.txt\n"
     ]
    },
    {
     "name": "stdout",
     "output_type": "stream",
     "text": [
      "ENTER THE LOOP:              datetime         sender  \\\n",
      "95 2023-12-04 09:11:00  Sharda Edoofa   \n",
      "\n",
      "                                              message  \n",
      "95  *Good Morning Tanyardzwa and parents* @2637738...  \n"
     ]
    },
    {
     "name": "stderr",
     "output_type": "stream",
     "text": [
      "2023-12-05 17:46:08,867 - DEBUG - Row appended for chat file: WhatsApp Chat with TANYARADZWA EWYL22E1153.txt\n"
     ]
    },
    {
     "name": "stdout",
     "output_type": "stream",
     "text": [
      "ENTER THE LOOP:               datetime            sender  \\\n",
      "352 2023-12-04 08:49:00     Sharda Edoofa   \n",
      "353 2023-12-04 08:51:00     Sharda Edoofa   \n",
      "354 2023-12-04 08:56:00  +263 77 233 2043   \n",
      "355 2023-12-04 08:56:00  +263 77 233 2043   \n",
      "356 2023-12-04 15:14:00     Sharda Edoofa   \n",
      "\n",
      "                                               message  \n",
      "352  Good Morning Tanyaradzwa  *Kindly excuse me fo...  \n",
      "353  *Do not forget to submit your response of the ...  \n",
      "354           Good morning Ms Sharda how are you today  \n",
      "355                                  Noted with thanks  \n",
      "356                              I am good, thank you.  \n"
     ]
    },
    {
     "name": "stderr",
     "output_type": "stream",
     "text": [
      "2023-12-05 17:46:09,407 - DEBUG - Row appended for chat file: WhatsApp Chat with Tanyaradzwa EWYL23E0539.txt\n"
     ]
    },
    {
     "name": "stdout",
     "output_type": "stream",
     "text": [
      "ENTER THE LOOP:               datetime         sender  \\\n",
      "100 2023-12-04 13:39:00  Sharda Edoofa   \n",
      "101 2023-12-04 15:52:00  Sharda Edoofa   \n",
      "\n",
      "                                               message  \n",
      "100  Good afternoon Tariro  How are you doing? *As ...  \n",
      "101  I'm quite let down because you didn't show up ...  \n"
     ]
    },
    {
     "name": "stderr",
     "output_type": "stream",
     "text": [
      "2023-12-05 17:46:09,818 - DEBUG - Row appended for chat file: WhatsApp Chat with Tariro EWYL22E1013.txt\n"
     ]
    },
    {
     "name": "stdout",
     "output_type": "stream",
     "text": [
      "ENTER THE LOOP:               datetime           sender  \\\n",
      "406 2023-12-04 13:03:00  +27 74 055 9953   \n",
      "\n",
      "                                     message  \n",
      "406  Greetings ma'am any news on the student  \n"
     ]
    },
    {
     "name": "stderr",
     "output_type": "stream",
     "text": [
      "2023-12-05 17:46:10,380 - DEBUG - Row appended for chat file: WhatsApp Chat with Tendai EWYL22E0626.txt\n"
     ]
    },
    {
     "name": "stdout",
     "output_type": "stream",
     "text": [
      "ENTER THE LOOP:               datetime         sender  \\\n",
      "285 2023-12-04 08:22:00  Sharda Edoofa   \n",
      "286 2023-12-04 08:29:00  Sharda Edoofa   \n",
      "287 2023-12-04 08:32:00  Sharda Edoofa   \n",
      "288 2023-12-04 09:42:00  Sharda Edoofa   \n",
      "\n",
      "                                               message  \n",
      "285  *Good morning Tendai* I hope you have had a gr...  \n",
      "286      Now that it is a session time, are you ready?  \n",
      "287  As we embark on this session together, let's d...  \n",
      "288  @27652349559 I've noticed your continuous unav...  \n"
     ]
    },
    {
     "name": "stderr",
     "output_type": "stream",
     "text": [
      "2023-12-05 17:46:10,867 - DEBUG - Row appended for chat file: WhatsApp Chat with Tendai EWYL22E0784.txt\n"
     ]
    },
    {
     "name": "stdout",
     "output_type": "stream",
     "text": [
      "ENTER THE LOOP:               datetime            sender  \\\n",
      "103 2023-12-04 08:43:00     Sharda Edoofa   \n",
      "104 2023-12-04 15:24:00     Sharda Edoofa   \n",
      "105 2023-12-04 17:34:00  +263 77 755 3969   \n",
      "\n",
      "                                               message  \n",
      "103  Good Morning Tendai  *Kindly excuse me for any...  \n",
      "104  *Do not forget to submit your response of the ...  \n",
      "105                                     Okay thank you  \n"
     ]
    },
    {
     "name": "stderr",
     "output_type": "stream",
     "text": [
      "2023-12-05 17:46:11,330 - DEBUG - Row appended for chat file: WhatsApp Chat with Tendai EWYL22E0815.txt\n"
     ]
    },
    {
     "name": "stdout",
     "output_type": "stream",
     "text": [
      "ENTER THE LOOP:               datetime            sender  \\\n",
      "324 2023-12-04 08:54:00     Sharda Edoofa   \n",
      "325 2023-12-04 08:54:00     Sharda Edoofa   \n",
      "326 2023-12-04 08:59:00  +263 71 622 4662   \n",
      "327 2023-12-04 12:11:00     Sharda Edoofa   \n",
      "\n",
      "                                               message  \n",
      "324  Good Morning Thandekile  *Kindly excuse me for...  \n",
      "325  *Do not forget to submit your response of the ...  \n",
      "326                        Good morning . Its ok Ma'am  \n",
      "327                                        Okay Great!  \n"
     ]
    },
    {
     "name": "stderr",
     "output_type": "stream",
     "text": [
      "2023-12-05 17:46:11,944 - DEBUG - Row appended for chat file: WhatsApp Chat with Thandekile EWYL23E0495.txt\n"
     ]
    },
    {
     "name": "stdout",
     "output_type": "stream",
     "text": [
      "ENTER THE LOOP:               datetime         sender  \\\n",
      "206 2023-12-04 08:22:00  Sharda Edoofa   \n",
      "207 2023-12-04 08:29:00  Sharda Edoofa   \n",
      "208 2023-12-04 09:42:00  Sharda Edoofa   \n",
      "\n",
      "                                               message  \n",
      "206  *Good morning Thelma* I hope you have had a gr...  \n",
      "207      Now that it is a session time, are you ready?  \n",
      "208  @260777913821 I've noticed your continuous una...  \n"
     ]
    },
    {
     "name": "stderr",
     "output_type": "stream",
     "text": [
      "2023-12-05 17:46:12,471 - DEBUG - Row appended for chat file: WhatsApp Chat with Thelma EWYL23E0498.txt\n"
     ]
    },
    {
     "name": "stdout",
     "output_type": "stream",
     "text": [
      "ENTER THE LOOP:              datetime            sender  \\\n",
      "64 2023-12-04 09:09:00     Sharda Edoofa   \n",
      "65 2023-12-04 11:17:00  +263 77 271 6627   \n",
      "66 2023-12-04 15:18:00     Sharda Edoofa   \n",
      "\n",
      "                                              message  \n",
      "64  *Good Morning Tinashe and parents* @2637727166...  \n",
      "65    Good morning. We may continue tomorrow at 9 a.m  \n",
      "66  Alright great. Thank you for sharing your conf...  \n"
     ]
    },
    {
     "name": "stderr",
     "output_type": "stream",
     "text": [
      "2023-12-05 17:46:12,853 - DEBUG - Row appended for chat file: WhatsApp Chat with Tinashe EWYL23E0792.txt\n"
     ]
    },
    {
     "name": "stdout",
     "output_type": "stream",
     "text": [
      "ENTER THE LOOP:               datetime            sender  \\\n",
      "266 2023-12-04 08:46:00     Sharda Edoofa   \n",
      "267 2023-12-04 08:47:00  +263 73 714 9148   \n",
      "268 2023-12-04 08:47:00  +263 73 714 9148   \n",
      "269 2023-12-04 15:12:00     Sharda Edoofa   \n",
      "270 2023-12-04 15:26:00     Sharda Edoofa   \n",
      "\n",
      "                                               message  \n",
      "266  _*Good Morning Tinotenda*_ I hope you are doin...  \n",
      "267                                Morning how are you  \n",
      "268                         Thank you for the reminder  \n",
      "269                          I am good too, thank you.  \n",
      "270                            you are welcome please.  \n"
     ]
    },
    {
     "name": "stderr",
     "output_type": "stream",
     "text": [
      "2023-12-05 17:46:13,376 - DEBUG - Row appended for chat file: WhatsApp Chat with Tinotenda EWYL22E0744.txt\n"
     ]
    },
    {
     "name": "stdout",
     "output_type": "stream",
     "text": [
      "ENTER THE LOOP:               datetime         sender  \\\n",
      "296 2023-12-04 08:46:00  Sharda Edoofa   \n",
      "\n",
      "                                               message  \n",
      "296  _*Good Morning Tinotenda*_ I hope you are doin...  \n"
     ]
    },
    {
     "name": "stderr",
     "output_type": "stream",
     "text": [
      "2023-12-05 17:46:13,848 - DEBUG - Row appended for chat file: WhatsApp Chat with Tinotenda EWYL23E0405.txt\n"
     ]
    },
    {
     "name": "stdout",
     "output_type": "stream",
     "text": [
      "ENTER THE LOOP:               datetime           sender  \\\n",
      "480 2023-12-04 08:00:00  +91 86072 53645   \n",
      "481 2023-12-04 08:11:00    Sharda Edoofa   \n",
      "482 2023-12-04 08:12:00    Sharda Edoofa   \n",
      "\n",
      "                                               message  \n",
      "480  Good morning ma'am... about the application fo...  \n",
      "481  Good Morning Tonderai I hope you are doing wel...  \n",
      "482                                   Yes, I will not.  \n"
     ]
    },
    {
     "name": "stderr",
     "output_type": "stream",
     "text": [
      "2023-12-05 17:46:14,434 - DEBUG - Row appended for chat file: WhatsApp Chat with Tonderai EWYL22E0797.txt\n"
     ]
    },
    {
     "name": "stdout",
     "output_type": "stream",
     "text": [
      "ENTER THE LOOP:               datetime         sender  \\\n",
      "394 2023-12-04 08:54:00  Sharda Edoofa   \n",
      "395 2023-12-04 08:54:00  Sharda Edoofa   \n",
      "\n",
      "                                               message  \n",
      "394  Good Morning Triphine  *Kindly excuse me for a...  \n",
      "395  *Do not forget to submit your response of the ...  \n"
     ]
    },
    {
     "name": "stderr",
     "output_type": "stream",
     "text": [
      "2023-12-05 17:46:15,016 - DEBUG - Row appended for chat file: WhatsApp Chat with Triphine EWYL23E0502.txt\n"
     ]
    },
    {
     "name": "stdout",
     "output_type": "stream",
     "text": [
      "ENTER THE LOOP:              datetime            sender  \\\n",
      "50 2023-12-04 13:35:00     Sharda Edoofa   \n",
      "51 2023-12-04 13:40:00  +263 78 456 8322   \n",
      "52 2023-12-04 13:41:00     Sharda Edoofa   \n",
      "53 2023-12-04 13:43:00     Sharda Edoofa   \n",
      "54 2023-12-04 13:43:00     Sharda Edoofa   \n",
      "55 2023-12-04 13:43:00     Sharda Edoofa   \n",
      "56 2023-12-04 13:44:00     Sharda Edoofa   \n",
      "57 2023-12-04 13:59:00  +263 78 456 8322   \n",
      "58 2023-12-04 14:36:00     Sharda Edoofa   \n",
      "59 2023-12-04 14:36:00  +263 78 456 8322   \n",
      "60 2023-12-04 14:37:00     Sharda Edoofa   \n",
      "61 2023-12-04 14:42:00  +263 78 456 8322   \n",
      "62 2023-12-04 14:54:00     Sharda Edoofa   \n",
      "63 2023-12-04 14:55:00     Sharda Edoofa   \n",
      "64 2023-12-04 15:16:00  +263 78 456 8322   \n",
      "65 2023-12-04 15:44:00     Sharda Edoofa   \n",
      "\n",
      "                                              message  \n",
      "50  Good afternoon Trish  How are you doing? *As w...  \n",
      "51                                         Yes please  \n",
      "52                                              Sure!  \n",
      "53  Let us begin our session with the project disc...  \n",
      "54                      PROJECT 1: CORPORATE ALLIANCE  \n",
      "55  Today, I will start by explaining the projects...  \n",
      "56                                    <Media omitted>  \n",
      "57                                              Noted  \n",
      "58                   Have you gone through the audio?  \n",
      "59                                          Yes l did  \n",
      "60       Kindly share your understanding of the same.  \n",
      "61        I have to create a linked in account right?  \n",
      "62                                               Yes.  \n",
      "63       Kindly share your understanding of the same.  \n",
      "64  I just understood that l have to create a link...  \n",
      "65  *It is time to wrap up our session.* You joine...  \n"
     ]
    },
    {
     "name": "stderr",
     "output_type": "stream",
     "text": [
      "2023-12-05 17:46:15,539 - DEBUG - Row appended for chat file: WhatsApp Chat with Trish EWYL22E1016.txt\n"
     ]
    },
    {
     "name": "stdout",
     "output_type": "stream",
     "text": [
      "ENTER THE LOOP:               datetime            sender  \\\n",
      "131 2023-12-04 13:39:00     Sharda Edoofa   \n",
      "132 2023-12-04 15:51:00  +263 78 072 9798   \n",
      "133 2023-12-04 15:52:00     Sharda Edoofa   \n",
      "134 2023-12-04 15:57:00  +263 78 072 9798   \n",
      "\n",
      "                                               message  \n",
      "131  Good afternoon Uyvett  How are you doing? *As ...  \n",
      "132                                           Good day  \n",
      "133  I'm quite let down because you didn't show up ...  \n",
      "134  I was a bit occupied at the time of our schedu...  \n"
     ]
    },
    {
     "name": "stderr",
     "output_type": "stream",
     "text": [
      "2023-12-05 17:46:16,145 - DEBUG - Row appended for chat file: WhatsApp Chat with Uyvett EWYL22E0949.txt\n"
     ]
    },
    {
     "name": "stdout",
     "output_type": "stream",
     "text": [
      "ENTER THE LOOP:               datetime            sender  \\\n",
      "464 2023-12-04 08:43:00     Sharda Edoofa   \n",
      "465 2023-12-04 15:24:00     Sharda Edoofa   \n",
      "466 2023-12-04 16:19:00  +263 77 670 7762   \n",
      "\n",
      "                                               message  \n",
      "464  Good Morning Vimbai  *Kindly excuse me for any...  \n",
      "465  *Do not forget to submit your response of the ...  \n",
      "466                                        Noted Ma’am  \n"
     ]
    },
    {
     "name": "stderr",
     "output_type": "stream",
     "text": [
      "2023-12-05 17:46:16,920 - DEBUG - Row appended for chat file: WhatsApp Chat with VIMBAI EWYL23E0413.txt\n"
     ]
    },
    {
     "name": "stdout",
     "output_type": "stream",
     "text": [
      "ENTER THE LOOP:               datetime            sender  \\\n",
      "300 2023-12-04 12:47:00  +263 77 815 6959   \n",
      "301 2023-12-04 12:48:00  +263 77 815 6959   \n",
      "302 2023-12-04 13:29:00     Sharda Edoofa   \n",
      "303 2023-12-04 14:04:00  +263 77 815 6959   \n",
      "304 2023-12-04 14:38:00     Sharda Edoofa   \n",
      "305 2023-12-04 14:38:00     Sharda Edoofa   \n",
      "306 2023-12-04 14:38:00     Sharda Edoofa   \n",
      "307 2023-12-04 14:38:00     Sharda Edoofa   \n",
      "308 2023-12-04 14:40:00  +263 77 815 6959   \n",
      "309 2023-12-04 14:51:00     Sharda Edoofa   \n",
      "310 2023-12-04 15:03:00  +263 77 815 6959   \n",
      "311 2023-12-04 15:48:00     Sharda Edoofa   \n",
      "312 2023-12-04 15:52:00  +263 77 815 6959   \n",
      "313 2023-12-04 15:57:00     Sharda Edoofa   \n",
      "314 2023-12-04 16:16:00  +263 77 815 6959   \n",
      "\n",
      "                                               message  \n",
      "300                          Sorry mam for the absence  \n",
      "301               Today l am available for the session  \n",
      "302  Good Morning Wesley  How are you doing? *As we...  \n",
      "303                                 Yes mam l am ready  \n",
      "304  PROJECT 3: AFRICAN SCHOOL EDUCATION REFORM MIS...  \n",
      "305  Now we’re ready to move forward. I’m sharing a...  \n",
      "306                                    <Media omitted>  \n",
      "307  After you go through the audio, I would apprec...  \n",
      "308                                  Okay l will share  \n",
      "309              I am waiting for your ubnderstanding.  \n",
      "310  This project is all about I am going to reach ...  \n",
      "311  *It is time to wrap up our session.* You joine...  \n",
      "312  Thankfully for the fruitful and informative se...  \n",
      "313                       You are most welcome please.  \n",
      "314                                               Okay  \n"
     ]
    },
    {
     "name": "stderr",
     "output_type": "stream",
     "text": [
      "2023-12-05 17:46:17,672 - DEBUG - Row appended for chat file: WhatsApp Chat with Wesley EWYL22E1154.txt\n"
     ]
    },
    {
     "name": "stdout",
     "output_type": "stream",
     "text": [
      "ENTER THE LOOP:               datetime            sender  \\\n",
      "410 2023-12-04 08:43:00     Sharda Edoofa   \n",
      "411 2023-12-04 08:44:00     Sharda Edoofa   \n",
      "412 2023-12-04 09:37:00  +263 71 761 2163   \n",
      "413 2023-12-04 09:40:00  +263 71 761 2163   \n",
      "414 2023-12-04 15:24:00     Sharda Edoofa   \n",
      "\n",
      "                                               message  \n",
      "410  Good Morning Wessly  *Kindly excuse me for any...  \n",
      "411  *Do not forget to submit your response of the ...  \n",
      "412  Good morning Ms Sharda, I hope you're alright....  \n",
      "413                                              Noted  \n",
      "414         It was goos, thank you so much for asking.  \n"
     ]
    },
    {
     "name": "stderr",
     "output_type": "stream",
     "text": [
      "2023-12-05 17:46:18,474 - DEBUG - Row appended for chat file: WhatsApp Chat with Wessly EWYL23E0323.txt\n"
     ]
    },
    {
     "name": "stdout",
     "output_type": "stream",
     "text": [
      "ENTER THE LOOP:               datetime         sender  \\\n",
      "293 2023-12-04 13:39:00  Sharda Edoofa   \n",
      "294 2023-12-04 15:52:00  Sharda Edoofa   \n",
      "\n",
      "                                               message  \n",
      "293  Good afternoon Zoleka  How are you doing? *As ...  \n",
      "294  I'm quite let down because you didn't show up ...  \n"
     ]
    },
    {
     "name": "stderr",
     "output_type": "stream",
     "text": [
      "2023-12-05 17:46:19,118 - DEBUG - Row appended for chat file: WhatsApp Chat with Zoleka EWYL23E0248.txt\n"
     ]
    },
    {
     "name": "stdout",
     "output_type": "stream",
     "text": [
      "ENTER THE LOOP:               datetime         sender  \\\n",
      "406 2023-12-04 08:48:00  Sharda Edoofa   \n",
      "\n",
      "                                               message  \n",
      "406  _*Good Morning Zvikomborero*_ I hope you are d...  \n"
     ]
    },
    {
     "name": "stderr",
     "output_type": "stream",
     "text": [
      "2023-12-05 17:46:19,952 - DEBUG - Row appended for chat file: WhatsApp Chat with Zvikomborero EWYL23E0380.txt\n",
      "2023-12-05 17:46:20,956 - DEBUG - Row appended for chat file: WhatsApp Chat with Aaron 2K23OCT1666R.txt\n"
     ]
    },
    {
     "name": "stdout",
     "output_type": "stream",
     "text": [
      "ENTER THE LOOP:               datetime           sender  \\\n",
      "134 2023-12-04 06:15:00  +91 93546 23922   \n",
      "\n",
      "                                               message  \n",
      "134  Good Morning Esteemed Parents and Adella! I ho...  \n"
     ]
    },
    {
     "name": "stderr",
     "output_type": "stream",
     "text": [
      "2023-12-05 17:46:22,179 - DEBUG - Row appended for chat file: WhatsApp Chat with Adella 2K22FEB2869.txt\n",
      "2023-12-05 17:46:23,154 - DEBUG - Row appended for chat file: WhatsApp Chat with Agape 2K23NOV2370R.txt\n",
      "2023-12-05 17:46:23,988 - DEBUG - Row appended for chat file: WhatsApp Chat with Audrey 2K23OCT0992.txt\n"
     ]
    },
    {
     "name": "stdout",
     "output_type": "stream",
     "text": [
      "ENTER THE LOOP:               datetime           sender    message\n",
      "141 2023-12-04 14:11:00  +91 73037 16239  Hello sir\n"
     ]
    },
    {
     "name": "stderr",
     "output_type": "stream",
     "text": [
      "2023-12-05 17:46:24,676 - DEBUG - Row appended for chat file: WhatsApp Chat with Brooke 2K23MAY0260.txt\n"
     ]
    },
    {
     "name": "stdout",
     "output_type": "stream",
     "text": [
      "ENTER THE LOOP:               datetime           sender  \\\n",
      "236 2023-12-04 06:15:00  +91 93546 23922   \n",
      "\n",
      "                                               message  \n",
      "236  Good Morning Esteemed Parents and Courtney! I ...  \n"
     ]
    },
    {
     "name": "stderr",
     "output_type": "stream",
     "text": [
      "2023-12-05 17:46:25,506 - DEBUG - Row appended for chat file: WhatsApp Chat with Courtney 2K23MAR1742.txt\n",
      "2023-12-05 17:46:26,381 - DEBUG - Row appended for chat file: WhatsApp Chat with Danai 2K23SEP1134R.txt\n",
      "2023-12-05 17:46:27,381 - DEBUG - Row appended for chat file: WhatsApp Chat with Darlington 2K22JAN0402.txt\n",
      "2023-12-05 17:46:28,413 - DEBUG - Row appended for chat file: WhatsApp Chat with David 2K23SEP2834.txt\n"
     ]
    },
    {
     "name": "stdout",
     "output_type": "stream",
     "text": [
      "ENTER THE LOOP:               datetime           sender  \\\n",
      "198 2023-12-04 06:16:00  +91 93546 23922   \n",
      "\n",
      "                                               message  \n",
      "198  Good Morning Esteemed Parents and Elsie! I hop...  \n"
     ]
    },
    {
     "name": "stderr",
     "output_type": "stream",
     "text": [
      "2023-12-05 17:46:29,445 - DEBUG - Row appended for chat file: WhatsApp Chat with Elsie 2K22MAR2185.txt\n"
     ]
    },
    {
     "name": "stdout",
     "output_type": "stream",
     "text": [
      "ENTER THE LOOP:               datetime           sender  \\\n",
      "115 2023-12-04 06:16:00  +91 93546 23922   \n",
      "\n",
      "                                               message  \n",
      "115  Good Morning Esteemed Parents and Gracious! I ...  \n"
     ]
    },
    {
     "name": "stderr",
     "output_type": "stream",
     "text": [
      "2023-12-05 17:46:30,146 - DEBUG - Row appended for chat file: WhatsApp Chat with Gracious 2K22JUL1545.txt\n",
      "2023-12-05 17:46:31,020 - DEBUG - Row appended for chat file: WhatsApp Chat with Gugulethu 2K23JUL2477R.txt\n",
      "2023-12-05 17:46:31,879 - DEBUG - Row appended for chat file: WhatsApp Chat with Kelvin 2K23NOV1626R.txt\n",
      "2023-12-05 17:46:32,728 - DEBUG - Row appended for chat file: WhatsApp Chat with Kudakwashe 2K23NOV2061R.txt\n",
      "2023-12-05 17:46:33,493 - DEBUG - Row appended for chat file: WhatsApp Chat with Kudzaishe 2K23SEP2005.txt\n",
      "2023-12-05 17:46:34,102 - DEBUG - Row appended for chat file: WhatsApp Chat with Kupakwashe 2K23NOV1024.txt\n"
     ]
    },
    {
     "name": "stdout",
     "output_type": "stream",
     "text": [
      "ENTER THE LOOP:               datetime           sender  \\\n",
      "282 2023-12-04 06:17:00  +91 93546 23922   \n",
      "\n",
      "                                               message  \n",
      "282  Good Morning Esteemed Parents and Laura! I hop...  \n"
     ]
    },
    {
     "name": "stderr",
     "output_type": "stream",
     "text": [
      "2023-12-05 17:46:34,629 - DEBUG - Row appended for chat file: WhatsApp Chat with Laura 2K23FEB0392.txt\n",
      "2023-12-05 17:46:35,251 - DEBUG - Row appended for chat file: WhatsApp Chat with Lenny 2K23SEP1854.txt\n",
      "2023-12-05 17:46:35,853 - DEBUG - Row appended for chat file: WhatsApp Chat with Makaita 2K23NOV2346.txt\n"
     ]
    },
    {
     "name": "stdout",
     "output_type": "stream",
     "text": [
      "ENTER THE LOOP:               datetime           sender  \\\n",
      "214 2023-12-04 06:15:00  +91 93546 23922   \n",
      "\n",
      "                                               message  \n",
      "214  Good Morning Esteemed Parents and Mercynay! I ...  \n"
     ]
    },
    {
     "name": "stderr",
     "output_type": "stream",
     "text": [
      "2023-12-05 17:46:36,369 - DEBUG - Row appended for chat file: WhatsApp Chat with Mercynay 2K23JUN2895.txt\n"
     ]
    },
    {
     "name": "stdout",
     "output_type": "stream",
     "text": [
      "ENTER THE LOOP:               datetime           sender  \\\n",
      "144 2023-12-04 06:18:00  +91 93546 23922   \n",
      "145 2023-12-04 07:23:00  +91 92892 28166   \n",
      "146 2023-12-04 07:52:00  +91 93546 23922   \n",
      "147 2023-12-04 07:58:00  +91 92892 28166   \n",
      "148 2023-12-04 07:58:00  +91 93546 23922   \n",
      "149 2023-12-04 07:58:00  +91 92892 28166   \n",
      "\n",
      "                                               message  \n",
      "144  Good Morning Esteemed Parents and Munashe! I h...  \n",
      "145                          Greetings sir how aew you  \n",
      "146  I'm fine dear, thank you for asking. May I kno...  \n",
      "147                                Yes sir i am coming  \n",
      "148        Alright, please dear, I am waiting for you.  \n",
      "149                               Oky sir um on my way  \n"
     ]
    },
    {
     "name": "stderr",
     "output_type": "stream",
     "text": [
      "2023-12-05 17:46:36,856 - DEBUG - Row appended for chat file: WhatsApp Chat with Munashe 2K220CT3145.txt\n",
      "2023-12-05 17:46:37,459 - DEBUG - Row appended for chat file: WhatsApp Chat with Munashe 2K23OCT1192_.txt\n",
      "2023-12-05 17:46:38,025 - DEBUG - Row appended for chat file: WhatsApp Chat with Mwango 2K23NOV2222R.txt\n",
      "2023-12-05 17:46:38,594 - DEBUG - Row appended for chat file: WhatsApp Chat with Natasha 2K23JUN3045.txt\n"
     ]
    },
    {
     "name": "stdout",
     "output_type": "stream",
     "text": [
      "ENTER THE LOOP:               datetime           sender  \\\n",
      "238 2023-12-04 06:16:00  +91 93546 23922   \n",
      "239 2023-12-04 08:49:00  +27 73 223 9805   \n",
      "240 2023-12-04 09:08:00  +27 73 223 9805   \n",
      "241 2023-12-04 09:09:00  +91 93546 23922   \n",
      "\n",
      "                                               message  \n",
      "238  Good Morning Esteemed Parents and Nigel! I hop...  \n",
      "239                                    <Media omitted>  \n",
      "240                                    <Media omitted>  \n",
      "241  Thank you for sharing the same with me here Ni...  \n"
     ]
    },
    {
     "name": "stderr",
     "output_type": "stream",
     "text": [
      "2023-12-05 17:46:39,050 - DEBUG - Row appended for chat file: WhatsApp Chat with Nigel 2K23APR0768.txt\n",
      "2023-12-05 17:46:39,482 - DEBUG - Row appended for chat file: WhatsApp Chat with Nqoba 2K23MAR1711.txt\n"
     ]
    },
    {
     "name": "stdout",
     "output_type": "stream",
     "text": [
      "ENTER THE LOOP:               datetime           sender  \\\n",
      "146 2023-12-04 06:17:00  +91 93546 23922   \n",
      "147 2023-12-04 06:18:00  +91 78382 24974   \n",
      "148 2023-12-04 06:19:00  +91 93546 23922   \n",
      "149 2023-12-04 06:55:00  +91 78382 24974   \n",
      "150 2023-12-04 07:00:00  +91 93546 23922   \n",
      "151 2023-12-04 08:58:00  +91 78382 24974   \n",
      "\n",
      "                                               message  \n",
      "146  Good Morning Esteemed Parents and Nqoba! I hop...  \n",
      "147  Good day May I come tomorrow I am not at schoo...  \n",
      "148  On that note, if I may ask by when will you be...  \n",
      "149                                           Tomorrow  \n",
      "150  Alright please Nqoba, let me schedule your ses...  \n",
      "151                                               Okay  \n"
     ]
    },
    {
     "name": "stderr",
     "output_type": "stream",
     "text": [
      "2023-12-05 17:46:40,140 - DEBUG - Row appended for chat file: WhatsApp Chat with Praymore 2K23SEP0688.txt\n"
     ]
    },
    {
     "name": "stdout",
     "output_type": "stream",
     "text": [
      "ENTER THE LOOP:              datetime            sender  \\\n",
      "74 2023-12-04 06:14:00   +91 93546 23922   \n",
      "75 2023-12-04 11:46:00   +91 93546 23922   \n",
      "76 2023-12-04 12:37:00   +91 96671 45908   \n",
      "77 2023-12-04 12:46:00   +91 93546 23922   \n",
      "78 2023-12-04 14:57:00  +263 77 765 6939   \n",
      "79 2023-12-04 15:02:00   +91 96671 45908   \n",
      "\n",
      "                                              message  \n",
      "74  Good Morning Esteemed Parents and Precious! I ...  \n",
      "75  Precious, as discussed with you earlier here i...  \n",
      "76                                    <Media omitted>  \n",
      "77  Thank you for sharing this with me Precious, m...  \n",
      "78                                          Wonderful  \n",
      "79                                             OK Sir  \n"
     ]
    },
    {
     "name": "stderr",
     "output_type": "stream",
     "text": [
      "2023-12-05 17:46:40,677 - DEBUG - Row appended for chat file: WhatsApp Chat with Precious 2K22DEC0501.txt\n"
     ]
    },
    {
     "name": "stdout",
     "output_type": "stream",
     "text": [
      "ENTER THE LOOP:               datetime           sender  \\\n",
      "254 2023-12-04 06:15:00  +91 93546 23922   \n",
      "255 2023-12-04 09:43:00  +91 92891 56589   \n",
      "\n",
      "                                               message  \n",
      "254  Good Morning Esteemed Parents and Prince! I ho...  \n",
      "255                                              noted  \n"
     ]
    },
    {
     "name": "stderr",
     "output_type": "stream",
     "text": [
      "2023-12-05 17:46:41,256 - DEBUG - Row appended for chat file: WhatsApp Chat with Prince 2K22NOV1211.txt\n",
      "2023-12-05 17:46:42,217 - DEBUG - Row appended for chat file: WhatsApp Chat with Prosper 2K23SEP1234R.txt\n"
     ]
    },
    {
     "name": "stdout",
     "output_type": "stream",
     "text": [
      "ENTER THE LOOP:               datetime           sender  \\\n",
      "170 2023-12-04 06:16:00  +91 93546 23922   \n",
      "171 2023-12-04 07:28:00  +91 92891 43404   \n",
      "172 2023-12-04 07:53:00  +91 93546 23922   \n",
      "173 2023-12-04 07:54:00  +91 92891 43404   \n",
      "174 2023-12-04 07:57:00  +91 93546 23922   \n",
      "175 2023-12-04 07:59:00  +91 92891 43404   \n",
      "176 2023-12-04 08:01:00  +91 93546 23922   \n",
      "177 2023-12-04 08:02:00  +91 92891 43404   \n",
      "\n",
      "                                               message  \n",
      "170  Good Morning Esteemed Parents and Raymond! I h...  \n",
      "171      Good morning sir sorry am not at school today  \n",
      "172  May I know by when will you be coming back ple...  \n",
      "173                                       Tomorrow sir  \n",
      "174  On that note, is it not possible for you to co...  \n",
      "175  Where I stay is far away from campus and it co...  \n",
      "176  That is fine Raymond, on that note, we will me...  \n",
      "177                               No problem sir Noted  \n"
     ]
    },
    {
     "name": "stderr",
     "output_type": "stream",
     "text": [
      "2023-12-05 17:46:43,092 - DEBUG - Row appended for chat file: WhatsApp Chat with Raymond 2K23FEB1710.txt\n"
     ]
    },
    {
     "name": "stdout",
     "output_type": "stream",
     "text": [
      "ENTER THE LOOP:               datetime           sender  \\\n",
      "123 2023-12-04 06:16:00  +91 93546 23922   \n",
      "124 2023-12-04 06:45:00  +91 73036 54248   \n",
      "125 2023-12-04 06:45:00  +91 73036 54248   \n",
      "126 2023-12-04 06:47:00  +91 93546 23922   \n",
      "\n",
      "                                               message  \n",
      "123  Good Morning Esteemed Parents and Rutendo! I h...  \n",
      "124                                 I am going to come  \n",
      "125                You only need an FRRO document only  \n",
      "126                   Yes, please dear, that is right.  \n"
     ]
    },
    {
     "name": "stderr",
     "output_type": "stream",
     "text": [
      "2023-12-05 17:46:43,749 - DEBUG - Row appended for chat file: WhatsApp Chat with Rutendo 2K22MAR1777.txt\n",
      "2023-12-05 17:46:44,371 - DEBUG - Row appended for chat file: WhatsApp Chat with Rutendo 2K23SEP1192_.txt\n",
      "2023-12-05 17:46:44,931 - DEBUG - Row appended for chat file: WhatsApp Chat with Sharmaine 2K23OCT0695.txt\n"
     ]
    },
    {
     "name": "stdout",
     "output_type": "stream",
     "text": [
      "ENTER THE LOOP:               datetime           sender  \\\n",
      "150 2023-12-04 06:18:00  +91 93546 23922   \n",
      "\n",
      "                                               message  \n",
      "150  Good Morning Esteemed Parents and Siphosenkosi...  \n"
     ]
    },
    {
     "name": "stderr",
     "output_type": "stream",
     "text": [
      "2023-12-05 17:46:45,394 - DEBUG - Row appended for chat file: WhatsApp Chat with Siphosenkosi 2K22MAY1064.txt\n"
     ]
    },
    {
     "name": "stdout",
     "output_type": "stream",
     "text": [
      "ENTER THE LOOP:               datetime           sender  \\\n",
      "148 2023-12-04 06:15:00  +91 93546 23922   \n",
      "149 2023-12-04 07:55:00  +91 92891 45239   \n",
      "150 2023-12-04 07:57:00  +91 93546 23922   \n",
      "151 2023-12-04 07:58:00  +91 92891 45239   \n",
      "152 2023-12-04 08:02:00  +91 93546 23922   \n",
      "153 2023-12-04 08:47:00  +91 92891 45239   \n",
      "\n",
      "                                               message  \n",
      "148  Good Morning Esteemed Parents and Sithabisiwe!...  \n",
      "149  Greetings sir I can't make it today .I am prep...  \n",
      "150  On that note, may I know by when will you be a...  \n",
      "151  On Wednesday sir because I am having online le...  \n",
      "152  Alright, please. We will meet with each other ...  \n",
      "153                                    Okae sir noted.  \n"
     ]
    },
    {
     "name": "stderr",
     "output_type": "stream",
     "text": [
      "2023-12-05 17:46:45,797 - DEBUG - Row appended for chat file: WhatsApp Chat with Sithabisiwe 2K23JAN1904.txt\n"
     ]
    },
    {
     "name": "stdout",
     "output_type": "stream",
     "text": [
      "ENTER THE LOOP:               datetime           sender  \\\n",
      "117 2023-12-04 06:17:00  +91 93546 23922   \n",
      "118 2023-12-04 06:22:00  +91 98187 24662   \n",
      "\n",
      "                                               message  \n",
      "117  Good Morning Esteemed Parents and Sithokozile!...  \n",
      "118              Greetings sir ,l  am not feeling well  \n"
     ]
    },
    {
     "name": "stderr",
     "output_type": "stream",
     "text": [
      "2023-12-05 17:46:46,188 - DEBUG - Row appended for chat file: WhatsApp Chat with Sithokozile 2K22SEP1994.txt\n"
     ]
    },
    {
     "name": "stdout",
     "output_type": "stream",
     "text": [
      "ENTER THE LOOP:               datetime            sender  \\\n",
      "374 2023-12-04 12:47:00   +91 93546 23922   \n",
      "375 2023-12-04 12:48:00   +91 93546 23922   \n",
      "376 2023-12-04 14:31:00   +91 81989 25360   \n",
      "377 2023-12-04 15:40:00   +91 81989 25360   \n",
      "378 2023-12-04 16:33:00  +263 77 264 0272   \n",
      "\n",
      "                                               message  \n",
      "374  Good Afternoon Parents and Tadiwanashe! I hope...  \n",
      "375  Thank you for sharing the same with me here de...  \n",
      "376                                 Good afternoon sir  \n",
      "377                                       Ok noted sir  \n",
      "378         Afternoon sir thank you for checking on us  \n"
     ]
    },
    {
     "name": "stderr",
     "output_type": "stream",
     "text": [
      "2023-12-05 17:46:46,672 - DEBUG - Row appended for chat file: WhatsApp Chat with Tadiwanashe 2K22SEP1715.txt\n",
      "2023-12-05 17:46:47,203 - DEBUG - Row appended for chat file: WhatsApp Chat with Tadiwanashe 2K23OCT2045_.txt\n",
      "2023-12-05 17:46:47,790 - DEBUG - Row appended for chat file: WhatsApp Chat with Tanaka 2K23SEP3095.txt\n",
      "2023-12-05 17:46:48,250 - DEBUG - Row appended for chat file: WhatsApp Chat with Tariro 2K23NOV2372R.txt\n"
     ]
    },
    {
     "name": "stdout",
     "output_type": "stream",
     "text": [
      "ENTER THE LOOP:               datetime            sender  \\\n",
      "176 2023-12-04 06:15:00   +91 93546 23922   \n",
      "177 2023-12-04 07:24:00  +263 77 495 6142   \n",
      "178 2023-12-04 07:53:00   +91 93546 23922   \n",
      "179 2023-12-04 11:47:00   +91 93546 23922   \n",
      "\n",
      "                                               message  \n",
      "176  Good Morning Esteemed Parents and Tatenda! I h...  \n",
      "177  Good morning Sir Milan, greetings from Zimbabw...  \n",
      "178  Thank you for sharing the same with me here si...  \n",
      "179  Tatenda, as discussed with you earlier here in...  \n"
     ]
    },
    {
     "name": "stderr",
     "output_type": "stream",
     "text": [
      "2023-12-05 17:46:48,726 - DEBUG - Row appended for chat file: WhatsApp Chat with Tatenda 2K22OCT2008.txt\n",
      "2023-12-05 17:46:49,259 - DEBUG - Row appended for chat file: WhatsApp Chat with Tawanda 2K23NOV1068R.txt\n",
      "2023-12-05 17:46:49,792 - DEBUG - Row appended for chat file: WhatsApp Chat with Thrive 2K23SEP0595.txt\n"
     ]
    },
    {
     "name": "stdout",
     "output_type": "stream",
     "text": [
      "ENTER THE LOOP:               datetime           sender  \\\n",
      "208 2023-12-04 06:17:00  +91 93546 23922   \n",
      "209 2023-12-04 08:20:00  +91 92892 28147   \n",
      "210 2023-12-04 10:20:00  +91 92892 28147   \n",
      "211 2023-12-04 10:20:00  +91 92892 28147   \n",
      "212 2023-12-04 10:21:00  +91 93546 23922   \n",
      "\n",
      "                                               message  \n",
      "208  Good Morning Esteemed Parents and Tinashe! I h...  \n",
      "209                                              Noted  \n",
      "210                                    <Media omitted>  \n",
      "211                                    <Media omitted>  \n",
      "212       Thank you for sharing the same with me here!  \n"
     ]
    },
    {
     "name": "stderr",
     "output_type": "stream",
     "text": [
      "2023-12-05 17:46:50,222 - DEBUG - Row appended for chat file: WhatsApp Chat with Tinashe 2K21JAN1333 B3.txt\n"
     ]
    },
    {
     "name": "stdout",
     "output_type": "stream",
     "text": [
      "ENTER THE LOOP:              datetime            sender  \\\n",
      "65 2023-12-04 20:46:00  +263 73 777 3777   \n",
      "66 2023-12-04 22:37:00  +263 73 777 3777   \n",
      "\n",
      "                                              message  \n",
      "65                      Good evening and how are you.  \n",
      "66  I would like to know when we can talk as that ...  \n"
     ]
    },
    {
     "name": "stderr",
     "output_type": "stream",
     "text": [
      "2023-12-05 17:46:50,595 - DEBUG - Row appended for chat file: WhatsApp Chat with Tinashe 2K22JUN2014.txt\n",
      "2023-12-05 17:46:51,119 - DEBUG - Row appended for chat file: WhatsApp Chat with Tinashe 2K22NOV1402.txt\n"
     ]
    },
    {
     "name": "stdout",
     "output_type": "stream",
     "text": [
      "ENTER THE LOOP:               datetime           sender  \\\n",
      "168 2023-12-04 06:14:00  +91 93546 23922   \n",
      "\n",
      "                                               message  \n",
      "168  Good Morning Esteemed Parents and Vinah! I hop...  \n"
     ]
    },
    {
     "name": "stderr",
     "output_type": "stream",
     "text": [
      "2023-12-05 17:46:51,596 - DEBUG - Row appended for chat file: WhatsApp Chat with Vinah 2K22OCT2821.txt\n",
      "2023-12-05 17:46:52,110 - DEBUG - Row appended for chat file: WhatsApp Chat with Violet 2K23NOV1095.txt\n"
     ]
    },
    {
     "name": "stdout",
     "output_type": "stream",
     "text": [
      "ENTER THE LOOP:               datetime           sender  \\\n",
      "255 2023-12-04 06:16:00  +91 93546 23922   \n",
      "\n",
      "                                               message  \n",
      "255  Good Morning Esteemed Parents and Wasikananka!...  \n"
     ]
    },
    {
     "name": "stderr",
     "output_type": "stream",
     "text": [
      "2023-12-05 17:46:52,599 - DEBUG - Row appended for chat file: WhatsApp Chat with Wasikananka 2K22NOV1092.txt\n",
      "2023-12-05 17:46:53,032 - DEBUG - Row appended for chat file: WhatsApp Chat with Wilma 2K23OCT1622_.txt\n"
     ]
    },
    {
     "name": "stdout",
     "output_type": "stream",
     "text": [
      "ENTER THE LOOP:               datetime           sender  \\\n",
      "189 2023-12-04 06:17:00  +91 93546 23922   \n",
      "190 2023-12-04 11:47:00  +91 93546 23922   \n",
      "\n",
      "                                               message  \n",
      "189  Good Morning Esteemed Parents and Yeukai! I ho...  \n",
      "190  Yeukai, as discussed with you earlier here in ...  \n"
     ]
    },
    {
     "name": "stderr",
     "output_type": "stream",
     "text": [
      "2023-12-05 17:46:53,484 - DEBUG - Row appended for chat file: WhatsApp Chat with Yeukai 2K22DEC1330.txt\n"
     ]
    },
    {
     "name": "stdout",
     "output_type": "stream",
     "text": [
      "ENTER THE LOOP:               datetime            sender  \\\n",
      "145 2023-12-04 06:17:00   +91 93546 23922   \n",
      "146 2023-12-04 08:44:00  +263 78 806 8323   \n",
      "147 2023-12-04 09:05:00   +91 93546 23922   \n",
      "148 2023-12-04 11:24:00  +263 78 806 8323   \n",
      "149 2023-12-04 11:46:00   +91 93546 23922   \n",
      "\n",
      "                                               message  \n",
      "145  Good Morning Esteemed Parents and Zolani! I ho...  \n",
      "146        I'm sorry I'm not available at school today  \n",
      "147  On that note, may I know by when will you be r...  \n",
      "148                                           Tomorrow  \n",
      "149  Alright, please we will connect with each othe...  \n"
     ]
    },
    {
     "name": "stderr",
     "output_type": "stream",
     "text": [
      "2023-12-05 17:46:53,973 - DEBUG - Row appended for chat file: WhatsApp Chat with Zolani 2K23FEB0185.txt\n",
      "2023-12-05 17:46:54,516 - DEBUG - Row appended for chat file: WhatsApp Chat with ANESU 2K23JUN2742.txt\n",
      "2023-12-05 17:46:55,093 - DEBUG - Row appended for chat file: WhatsApp Chat with Anotidaishe 2K23JUN0971.txt\n",
      "2023-12-05 17:46:55,574 - DEBUG - Row appended for chat file: WhatsApp Chat with Blessing 2K23JUN2327.txt\n",
      "2023-12-05 17:46:56,101 - DEBUG - Row appended for chat file: WhatsApp Chat with Carol 2K23JUN1515.txt\n",
      "2023-12-05 17:46:56,629 - DEBUG - Row appended for chat file: WhatsApp Chat with CHIKONDI 2K23JUN2048.txt\n",
      "2023-12-05 17:46:57,203 - DEBUG - Row appended for chat file: WhatsApp Chat with CHRIS 2K23JUL1021R.txt\n",
      "2023-12-05 17:46:57,578 - DEBUG - Row appended for chat file: WhatsApp Chat with Confiança 2K23MAY0432.txt\n",
      "2023-12-05 17:46:58,141 - DEBUG - Row appended for chat file: WhatsApp Chat with Emmanuel 2k23APR1836.txt\n",
      "2023-12-05 17:46:58,607 - DEBUG - Row appended for chat file: WhatsApp Chat with Ewan 2K22JUL1836.txt\n",
      "2023-12-05 17:46:59,045 - DEBUG - Row appended for chat file: WhatsApp Chat with Godfrey 2K23MAY2671.txt\n",
      "2023-12-05 17:46:59,516 - DEBUG - Row appended for chat file: WhatsApp Chat with Gombe 2K23OCT0971R.txt\n",
      "2023-12-05 17:46:59,953 - DEBUG - Row appended for chat file: WhatsApp Chat with Isaac 2K23OCT1366.txt\n",
      "2023-12-05 17:47:00,391 - DEBUG - Row appended for chat file: WhatsApp Chat with Joyce 2K23JUL3169R.txt\n",
      "2023-12-05 17:47:00,876 - DEBUG - Row appended for chat file: WhatsApp Chat with Mandlenkosi 2K23JUL2156.txt\n",
      "2023-12-05 17:47:01,388 - DEBUG - Row appended for chat file: WhatsApp Chat with Mcwillard 2K23JUL2505.txt\n",
      "2023-12-05 17:47:01,965 - DEBUG - Row appended for chat file: WhatsApp Chat with Moreblessing 2K23JUL2984.txt\n",
      "2023-12-05 17:47:02,516 - DEBUG - Row appended for chat file: WhatsApp Chat with Mufaro 2K23AUG0806.txt\n",
      "2023-12-05 17:47:02,938 - DEBUG - Row appended for chat file: WhatsApp Chat with Munashe 2K23JUN1521.txt\n",
      "2023-12-05 17:47:03,580 - DEBUG - Row appended for chat file: WhatsApp Chat with Mwenje 2K23SEP1192R.txt\n",
      "2023-12-05 17:47:04,125 - DEBUG - Row appended for chat file: WhatsApp Chat with Nyasha 2K23JUN2334.txt\n",
      "2023-12-05 17:47:04,711 - DEBUG - Row appended for chat file: WhatsApp Chat with Osile 2K23JUL2448R.txt\n",
      "2023-12-05 17:47:05,094 - DEBUG - Row appended for chat file: WhatsApp Chat with Patience 2K23JUL0801.txt\n",
      "2023-12-05 17:47:05,602 - DEBUG - Row appended for chat file: WhatsApp Chat with Paul 2K23MAY2657.txt\n",
      "2023-12-05 17:47:06,111 - DEBUG - Row appended for chat file: WhatsApp Chat with Phyllis 2K23JUNE0891R.txt\n",
      "2023-12-05 17:47:06,625 - DEBUG - Row appended for chat file: WhatsApp Chat with Rangarirai 2K23JUL1024.txt\n",
      "2023-12-05 17:47:07,078 - DEBUG - Row appended for chat file: WhatsApp Chat with Ruth 2K23APR2291.txt\n",
      "2023-12-05 17:47:07,545 - DEBUG - Row appended for chat file: WhatsApp Chat with Samantha 2K22AUG2939.txt\n",
      "2023-12-05 17:47:08,105 - DEBUG - Row appended for chat file: WhatsApp Chat with Shane 2K23OCT2588.txt\n",
      "2023-12-05 17:47:08,626 - DEBUG - Row appended for chat file: WhatsApp Chat with Staylodge 2K23OCT2788.txt\n",
      "2023-12-05 17:47:09,125 - DEBUG - Row appended for chat file: WhatsApp Chat with Subilo 2K23JUL1515R.txt\n",
      "2023-12-05 17:47:09,578 - DEBUG - Row appended for chat file: WhatsApp Chat with Tafadzwa 2K23MAY2588.txt\n",
      "2023-12-05 17:47:10,063 - DEBUG - Row appended for chat file: WhatsApp Chat with Takudzwa 2K22JUL1350.txt\n",
      "2023-12-05 17:47:10,563 - DEBUG - Row appended for chat file: WhatsApp Chat with Takunda 2K23OCT2459.txt\n",
      "2023-12-05 17:47:11,016 - DEBUG - Row appended for chat file: WhatsApp Chat with Tavongashe 2K23JUL2838.txt\n",
      "2023-12-05 17:47:11,438 - DEBUG - Row appended for chat file: WhatsApp Chat with Tinotenda 2K23AUG1863.txt\n",
      "2023-12-05 17:47:11,844 - DEBUG - Row appended for chat file: WhatsApp Chat with Tinotenda 2K23JUL0689.txt\n",
      "2023-12-05 17:47:12,274 - DEBUG - Row appended for chat file: WhatsApp Chat with Yamikani 2K22AUG1390.txt\n"
     ]
    },
    {
     "name": "stdout",
     "output_type": "stream",
     "text": [
      "ENTER THE LOOP:               datetime            sender                message\n",
      "491 2023-12-04 17:56:00  +263 71 455 7432  Good evening everyone\n"
     ]
    },
    {
     "name": "stderr",
     "output_type": "stream",
     "text": [
      "2023-12-05 17:47:12,749 - DEBUG - Row appended for chat file: WhatsApp Chat with Alex 2K23AUG2224R.txt\n"
     ]
    },
    {
     "name": "stdout",
     "output_type": "stream",
     "text": [
      "ENTER THE LOOP:               datetime            sender       message\n",
      "274 2023-12-04 07:37:00  +263 78 869 1789  Morning sir.\n"
     ]
    },
    {
     "name": "stderr",
     "output_type": "stream",
     "text": [
      "2023-12-05 17:47:13,157 - DEBUG - Row appended for chat file: WhatsApp Chat with David 2K23MAR0605.txt\n"
     ]
    },
    {
     "name": "stdout",
     "output_type": "stream",
     "text": [
      "ENTER THE LOOP:              datetime            sender  \\\n",
      "83 2023-12-04 10:43:00  +263 77 365 1034   \n",
      "84 2023-12-04 10:43:00  +263 77 365 1034   \n",
      "85 2023-12-04 15:25:00  +263 77 365 1034   \n",
      "\n",
      "                                         message  \n",
      "83                   Good morning Mr Milan Singh  \n",
      "84  @919540716843 Hello May you kindly assist us  \n",
      "85                    Good afternoon Edoofa team  \n"
     ]
    },
    {
     "name": "stderr",
     "output_type": "stream",
     "text": [
      "2023-12-05 17:47:13,532 - DEBUG - Row appended for chat file: WhatsApp Chat with ELYDAH 2K23MAR0992.txt\n"
     ]
    },
    {
     "name": "stdout",
     "output_type": "stream",
     "text": [
      "ENTER THE LOOP:               datetime            sender  \\\n",
      "482 2023-12-04 16:25:00  +263 78 724 8051   \n",
      "\n",
      "                                               message  \n",
      "482  Greetings,l wasn't online for the past days,si...  \n"
     ]
    },
    {
     "name": "stderr",
     "output_type": "stream",
     "text": [
      "2023-12-05 17:47:14,078 - DEBUG - Row appended for chat file: WhatsApp Chat with Natasha 2K23AUG3128.txt\n"
     ]
    },
    {
     "name": "stdout",
     "output_type": "stream",
     "text": [
      "ENTER THE LOOP:               datetime            sender  \\\n",
      "244 2023-12-04 20:04:00  +263 78 773 1317   \n",
      "\n",
      "                                               message  \n",
      "244  Thank you so much. The birthday was all well, ...  \n"
     ]
    },
    {
     "name": "stderr",
     "output_type": "stream",
     "text": [
      "2023-12-05 17:47:14,548 - DEBUG - Row appended for chat file: WhatsApp Chat with Panashe 2K22JUL0527.txt\n"
     ]
    },
    {
     "name": "stdout",
     "output_type": "stream",
     "text": [
      "ENTER THE LOOP:               datetime            sender  \\\n",
      "203 2023-12-04 06:15:00   +91 93546 23922   \n",
      "204 2023-12-04 06:24:00  +263 78 859 7903   \n",
      "\n",
      "                                               message  \n",
      "203  Good Morning Esteemed Parents and Rejoice! I h...  \n",
      "204                                                 Ok  \n"
     ]
    },
    {
     "name": "stderr",
     "output_type": "stream",
     "text": [
      "2023-12-05 17:47:14,969 - DEBUG - Row appended for chat file: WhatsApp Chat with Rejoice 2K22DEC2030.txt\n"
     ]
    },
    {
     "name": "stdout",
     "output_type": "stream",
     "text": [
      "ENTER THE LOOP:               datetime           sender  \\\n",
      "301 2023-12-04 09:08:00  +91 92892 69751   \n",
      "302 2023-12-04 09:08:00  +91 92892 69751   \n",
      "\n",
      "                                               message  \n",
      "301                         Good Morning @919354623922  \n",
      "302  Sir l wanted to do Follow up on my FRRO I have...  \n"
     ]
    },
    {
     "name": "stderr",
     "output_type": "stream",
     "text": [
      "2023-12-05 17:47:15,422 - DEBUG - Row appended for chat file: WhatsApp Chat with Shantel 2K23JAN0755.txt\n"
     ]
    },
    {
     "name": "stdout",
     "output_type": "stream",
     "text": [
      "ENTER THE LOOP:               datetime            sender  \\\n",
      "381 2023-12-04 10:01:00  +263 77 455 9977   \n",
      "\n",
      "                                               message  \n",
      "381  Follow this link to join my WhatsApp group: ht...  \n"
     ]
    },
    {
     "name": "stderr",
     "output_type": "stream",
     "text": [
      "2023-12-05 17:47:15,923 - DEBUG - Row appended for chat file: WhatsApp Chat with Shumirai 2K23SEP3085.txt\n",
      "2023-12-05 17:47:16,329 - DEBUG - Row appended for chat file: WhatsApp Chat with Abraham 2K22NOV0105.txt\n",
      "2023-12-05 17:47:16,718 - DEBUG - Row appended for chat file: WhatsApp Chat with Adonis 2K23NOV2324R.txt\n",
      "2023-12-05 17:47:17,141 - DEBUG - Row appended for chat file: WhatsApp Chat with Aisha 2K22SEP0974.txt\n",
      "2023-12-05 17:47:17,656 - DEBUG - Row appended for chat file: WhatsApp Chat with Albert 2K23SEP1471.txt\n",
      "2023-12-05 17:47:18,141 - DEBUG - Row appended for chat file: WhatsApp Chat with Anesu 2K23OCT2795.txt\n",
      "2023-12-05 17:47:18,516 - DEBUG - Row appended for chat file: WhatsApp Chat with Anodiwa 2K23APR0706.txt\n",
      "2023-12-05 17:47:19,001 - DEBUG - Row appended for chat file: WhatsApp Chat with Anotidaishe 2K23NOV0674R.txt\n",
      "2023-12-05 17:47:19,457 - DEBUG - Row appended for chat file: WhatsApp Chat with Ashley 2K23OCT3056.txt\n",
      "2023-12-05 17:47:19,844 - DEBUG - Row appended for chat file: WhatsApp Chat with Believe 2K22DEC0851.txt\n",
      "2023-12-05 17:47:20,391 - DEBUG - Row appended for chat file: WhatsApp Chat with Bethel 2K22OCT2738.txt\n",
      "2023-12-05 17:47:20,907 - DEBUG - Row appended for chat file: WhatsApp Chat with Beverly 2K23JAN0615.txt\n",
      "2023-12-05 17:47:21,343 - DEBUG - Row appended for chat file: WhatsApp Chat with Blessing 2K23MAR3173.txt\n",
      "2023-12-05 17:47:21,906 - DEBUG - Row appended for chat file: WhatsApp Chat with Brandon 2K23SEP1189R.txt\n",
      "2023-12-05 17:47:22,563 - DEBUG - Row appended for chat file: WhatsApp Chat with Bridget 2K23SEP2291.txt\n",
      "2023-12-05 17:47:23,032 - DEBUG - Row appended for chat file: WhatsApp Chat with Bright 2K23APR1340.txt\n",
      "2023-12-05 17:47:23,623 - DEBUG - Row appended for chat file: WhatsApp Chat with Bright 2K23SEP2363.txt\n",
      "2023-12-05 17:47:24,049 - DEBUG - Row appended for chat file: WhatsApp Chat with Catney 2K23NOV0354.txt\n",
      "2023-12-05 17:47:24,453 - DEBUG - Row appended for chat file: WhatsApp Chat with Chelsie 2K23NOV1864R.txt\n",
      "2023-12-05 17:47:24,938 - DEBUG - Row appended for chat file: WhatsApp Chat with Chelsy 2K23SEP2568R.txt\n",
      "2023-12-05 17:47:25,423 - DEBUG - Row appended for chat file: WhatsApp Chat with Clive 2K23NOV0854.txt\n",
      "2023-12-05 17:47:25,844 - DEBUG - Row appended for chat file: WhatsApp Chat with Craig 2K23NOV2145R.txt\n",
      "2023-12-05 17:47:26,390 - DEBUG - Row appended for chat file: WhatsApp Chat with Daniel 2K23SEP1495.txt\n",
      "2023-12-05 17:47:26,828 - DEBUG - Row appended for chat file: WhatsApp Chat with Diana 2K23JAN2323R.txt\n",
      "2023-12-05 17:47:27,222 - DEBUG - Row appended for chat file: WhatsApp Chat with Esther 2K23NOV1792.txt\n",
      "2023-12-05 17:47:27,578 - DEBUG - Row appended for chat file: WhatsApp Chat with Glory 2K23OCT2678.txt\n"
     ]
    },
    {
     "name": "stdout",
     "output_type": "stream",
     "text": [
      "ENTER THE LOOP:               datetime            sender  \\\n",
      "134 2023-12-04 11:26:00  +263 78 992 7576   \n",
      "\n",
      "                                               message  \n",
      "134  Good morning Mr Jivsheet, I hope you are well?...  \n"
     ]
    },
    {
     "name": "stderr",
     "output_type": "stream",
     "text": [
      "2023-12-05 17:47:28,016 - DEBUG - Row appended for chat file: WhatsApp Chat with Gracious 2K23OCT2745.txt\n",
      "2023-12-05 17:47:28,421 - DEBUG - Row appended for chat file: WhatsApp Chat with Jacquline 2K23NOV2056R.txt\n",
      "2023-12-05 17:47:28,863 - DEBUG - Row appended for chat file: WhatsApp Chat with Jonathan 2K23NOV0333.txt\n",
      "2023-12-05 17:47:29,291 - DEBUG - Row appended for chat file: WhatsApp Chat with Kelvin 2K23OCT3168R.txt\n",
      "2023-12-05 17:47:29,782 - DEBUG - Row appended for chat file: WhatsApp Chat with Kubiku 2K23OCT0734.txt\n",
      "2023-12-05 17:47:30,219 - DEBUG - Row appended for chat file: WhatsApp Chat with Kudakwashe 2K23NOV0256.txt\n",
      "2023-12-05 17:47:30,657 - DEBUG - Row appended for chat file: WhatsApp Chat with Kudzai 2K23OCT2095.txt\n",
      "2023-12-05 17:47:31,109 - DEBUG - Row appended for chat file: WhatsApp Chat with Langton 2K23NOV0654R.txt\n",
      "2023-12-05 17:47:31,596 - DEBUG - Row appended for chat file: WhatsApp Chat with Lindsay 2K23NOV0992.txt\n",
      "2023-12-05 17:47:32,063 - DEBUG - Row appended for chat file: WhatsApp Chat with Luckson 2K23OCT2025.txt\n",
      "2023-12-05 17:47:32,453 - DEBUG - Row appended for chat file: WhatsApp Chat with Lynden 2K23OCT2672.txt\n",
      "2023-12-05 17:47:32,828 - DEBUG - Row appended for chat file: WhatsApp Chat with Malcom 2K23NOV2028.txt\n",
      "2023-12-05 17:47:33,204 - DEBUG - Row appended for chat file: WhatsApp Chat with Michael 2K23NOV0245.txt\n",
      "2023-12-05 17:47:33,595 - DEBUG - Row appended for chat file: WhatsApp Chat with Mickelly 2K23NOV0752.txt\n",
      "2023-12-05 17:47:34,003 - DEBUG - Row appended for chat file: WhatsApp Chat with Natali 2K23MAY0295.txt\n",
      "2023-12-05 17:47:34,516 - DEBUG - Row appended for chat file: WhatsApp Chat with Natasha 2K23AUG2989R.txt\n",
      "2023-12-05 17:47:34,968 - DEBUG - Row appended for chat file: WhatsApp Chat with Natasha 2K23SEP0878R.txt\n",
      "2023-12-05 17:47:35,469 - DEBUG - Row appended for chat file: WhatsApp Chat with Nellie 2K23OCT1395.txt\n",
      "2023-12-05 17:47:36,091 - DEBUG - Row appended for chat file: WhatsApp Chat with Nicole 2K23AUG2582.txt\n",
      "2023-12-05 17:47:36,547 - DEBUG - Row appended for chat file: WhatsApp Chat with Nondumiso 2K23NOV0643.txt\n",
      "2023-12-05 17:47:37,031 - DEBUG - Row appended for chat file: WhatsApp Chat with Nyasha 2K23AUG2309.txt\n",
      "2023-12-05 17:47:37,547 - DEBUG - Row appended for chat file: WhatsApp Chat with Panashe 2K23AUG1852.txt\n",
      "2023-12-05 17:47:37,922 - DEBUG - Row appended for chat file: WhatsApp Chat with Panashe 2K23NOV2054R.txt\n",
      "2023-12-05 17:47:38,390 - DEBUG - Row appended for chat file: WhatsApp Chat with Panashe 2K23SEP2695.txt\n",
      "2023-12-05 17:47:38,844 - DEBUG - Row appended for chat file: WhatsApp Chat with Patience 2K23OCT2195.txt\n",
      "2023-12-05 17:47:39,188 - DEBUG - Row appended for chat file: WhatsApp Chat with Pearl 2K23NOV2309.txt\n",
      "2023-12-05 17:47:39,563 - DEBUG - Row appended for chat file: WhatsApp Chat with Polite 2K23JUL1866R.txt\n",
      "2023-12-05 17:47:39,954 - DEBUG - Row appended for chat file: WhatsApp Chat with Praise 2K23JAN0535.txt\n",
      "2023-12-05 17:47:40,323 - DEBUG - Row appended for chat file: WhatsApp Chat with Praise 2K23NOV1752.txt\n",
      "2023-12-05 17:47:40,688 - DEBUG - Row appended for chat file: WhatsApp Chat with Prominent 2K23NOV0772.txt\n",
      "2023-12-05 17:47:41,079 - DEBUG - Row appended for chat file: WhatsApp Chat with Prosper 2K23NOV0392_.txt\n",
      "2023-12-05 17:47:41,453 - DEBUG - Row appended for chat file: WhatsApp Chat with Prudence 2K23NOV1070R.txt\n",
      "2023-12-05 17:47:41,954 - DEBUG - Row appended for chat file: WhatsApp Chat with Rachel 2K22NOV1502.txt\n",
      "2023-12-05 17:47:42,344 - DEBUG - Row appended for chat file: WhatsApp Chat with Richmore 2K23NOV0655.txt\n",
      "2023-12-05 17:47:42,781 - DEBUG - Row appended for chat file: WhatsApp Chat with Rumbidzai 2K23NOV0327.txt\n",
      "2023-12-05 17:47:43,219 - DEBUG - Row appended for chat file: WhatsApp Chat with Rutendo 2K23OCT1934R.txt\n",
      "2023-12-05 17:47:43,578 - DEBUG - Row appended for chat file: WhatsApp Chat with Senior 2K23NOV1790.txt\n",
      "2023-12-05 17:47:43,985 - DEBUG - Row appended for chat file: WhatsApp Chat with Sharon 2K23NOV0689.txt\n",
      "2023-12-05 17:47:44,469 - DEBUG - Row appended for chat file: WhatsApp Chat with Shepherd 2K23AUG1035.txt\n",
      "2023-12-05 17:47:44,842 - DEBUG - Row appended for chat file: WhatsApp Chat with Shyleen 2K23OCT3022R.txt\n",
      "2023-12-05 17:47:45,235 - DEBUG - Row appended for chat file: WhatsApp Chat with Simbarashe 2K22DEC2390.txt\n",
      "2023-12-05 17:47:45,578 - DEBUG - Row appended for chat file: WhatsApp Chat with Simbarashe 2K23NOV1506.txt\n",
      "2023-12-05 17:47:45,906 - DEBUG - Row appended for chat file: WhatsApp Chat with Solomon 2K23NOV2295R.txt\n",
      "2023-12-05 17:47:46,297 - DEBUG - Row appended for chat file: WhatsApp Chat with Tadiwa 2K23APR0113.txt\n",
      "2023-12-05 17:47:46,703 - DEBUG - Row appended for chat file: WhatsApp Chat with Tafadzwa 2K22DEC2028.txt\n",
      "2023-12-05 17:47:47,093 - DEBUG - Row appended for chat file: WhatsApp Chat with Takudzwa 2K23OCT1245.txt\n",
      "2023-12-05 17:47:47,438 - DEBUG - Row appended for chat file: WhatsApp Chat with Takudzwanamambo 2K23NOV2168R.txt\n",
      "2023-12-05 17:47:47,828 - DEBUG - Row appended for chat file: WhatsApp Chat with Takudzwanashe 2K23OCT1639.txt\n",
      "2023-12-05 17:47:48,281 - DEBUG - Row appended for chat file: WhatsApp Chat with Talent 2K23AUG2354.txt\n",
      "2023-12-05 17:47:48,626 - DEBUG - Row appended for chat file: WhatsApp Chat with TANAKA 2K22DEC1748.txt\n",
      "2023-12-05 17:47:49,077 - DEBUG - Row appended for chat file: WhatsApp Chat with Tanaka 2K23SEP1123.txt\n",
      "2023-12-05 17:47:49,531 - DEBUG - Row appended for chat file: WhatsApp Chat with Tapiwanashe 2K23OCT1992.txt\n",
      "2023-12-05 17:47:49,953 - DEBUG - Row appended for chat file: WhatsApp Chat with Tatenda 2K23OCT1205.txt\n",
      "2023-12-05 17:47:50,280 - DEBUG - Row appended for chat file: WhatsApp Chat with Tawananyasha 2K23NOV1192.txt\n",
      "2023-12-05 17:47:50,657 - DEBUG - Row appended for chat file: WhatsApp Chat with Tawananyasha 2K23NOV2371R.txt\n",
      "2023-12-05 17:47:51,001 - DEBUG - Row appended for chat file: WhatsApp Chat with Tinevimbo 2K23NOV1559.txt\n",
      "2023-12-05 17:47:51,536 - DEBUG - Row appended for chat file: WhatsApp Chat with Trish 2K23AUG1639.txt\n",
      "2023-12-05 17:47:51,985 - DEBUG - Row appended for chat file: WhatsApp Chat with Vimbai 2K23NOV0483.txt\n",
      "2023-12-05 17:47:52,468 - DEBUG - Row appended for chat file: WhatsApp Chat with Whitney 2K23OCT1853.txt\n"
     ]
    },
    {
     "name": "stdout",
     "output_type": "stream",
     "text": [
      "ENTER THE LOOP:               datetime            sender                 message\n",
      "137 2023-12-04 10:10:00  +263 78 777 9202  A good day to you all!\n"
     ]
    },
    {
     "name": "stderr",
     "output_type": "stream",
     "text": [
      "2023-12-05 17:47:52,922 - DEBUG - Row appended for chat file: WhatsApp Chat with Yvonne 2K23NOV0211_.txt\n",
      "2023-12-05 17:47:53,407 - DEBUG - Row appended for chat file: WhatsApp Chat with _Dalitso 2K23NOV0232.txt\n",
      "2023-12-05 17:47:53,817 - DEBUG - Row appended for chat file: WhatsApp Chat with _Simon 2K23NOV0428.txt\n",
      "2023-12-05 17:47:54,176 - DEBUG - Row appended for chat file: WhatsApp Chat with Abdul_Edoofa(28_11)AA.txt\n",
      "2023-12-05 17:47:54,596 - DEBUG - Row appended for chat file: WhatsApp Chat with Aleta_Edoofa(20_11)AA-IE.txt\n",
      "2023-12-05 17:47:54,977 - DEBUG - Row appended for chat file: WhatsApp Chat with Angel_Edoofa(16_11)AA.txt\n",
      "2023-12-05 17:47:55,312 - DEBUG - Row appended for chat file: WhatsApp Chat with Antonio_Edoofa(04_12)AA-IE.txt\n",
      "2023-12-05 17:47:55,765 - DEBUG - Row appended for chat file: WhatsApp Chat with Asher_Edoofa(28_11)AA.txt\n",
      "2023-12-05 17:47:56,560 - DEBUG - Row appended for chat file: WhatsApp Chat with Believe_Edoofa(16_11)AA.txt\n",
      "2023-12-05 17:47:57,281 - DEBUG - Row appended for chat file: WhatsApp Chat with Benjamin_Edoofa(04_12)AA-IE.txt\n",
      "2023-12-05 17:47:57,864 - DEBUG - Row appended for chat file: WhatsApp Chat with Bopoto_Edoofa(24_11)AA.txt\n",
      "2023-12-05 17:47:58,359 - DEBUG - Row appended for chat file: WhatsApp Chat with Caleb_Edoofa(23_11)AA.txt\n",
      "2023-12-05 17:47:58,797 - DEBUG - Row appended for chat file: WhatsApp Chat with Calvin_Edoofa(29_11)AA.txt\n",
      "2023-12-05 17:47:59,286 - DEBUG - Row appended for chat file: WhatsApp Chat with Chibisa_Edoofa(22_09)AA.txt\n",
      "2023-12-05 17:47:59,831 - DEBUG - Row appended for chat file: WhatsApp Chat with Chido_Edoofa(28_11)AA-IE.txt\n",
      "2023-12-05 17:48:00,438 - DEBUG - Row appended for chat file: WhatsApp Chat with Christabell_Edoofa(31_10)AA.txt\n",
      "2023-12-05 17:48:00,844 - DEBUG - Row appended for chat file: WhatsApp Chat with Deka_Edoofa(15_11)AA.txt\n",
      "2023-12-05 17:48:01,219 - DEBUG - Row appended for chat file: WhatsApp Chat with Faith_Edoofa(28_11)AA.txt\n",
      "2023-12-05 17:48:01,625 - DEBUG - Row appended for chat file: WhatsApp Chat with Homokade_Edoofa(28_11)AA.txt\n",
      "2023-12-05 17:48:02,078 - DEBUG - Row appended for chat file: WhatsApp Chat with Johannes_Edoofa(22_11)AA.txt\n",
      "2023-12-05 17:48:02,683 - DEBUG - Row appended for chat file: WhatsApp Chat with Kossam_Edoofa(14_11)AA.txt\n",
      "2023-12-05 17:48:03,235 - DEBUG - Row appended for chat file: WhatsApp Chat with Lenos_Edoofa(24_11)AA.txt\n",
      "2023-12-05 17:48:03,578 - DEBUG - Row appended for chat file: WhatsApp Chat with Lerato_Edoofa(30_11)AA.txt\n",
      "2023-12-05 17:48:03,906 - DEBUG - Row appended for chat file: WhatsApp Chat with Lethukuthula_Edoofa(04_12)AA.txt\n",
      "2023-12-05 17:48:04,282 - DEBUG - Row appended for chat file: WhatsApp Chat with Lincopeternel_Edoofa(23_06)AA.txt\n",
      "2023-12-05 17:48:04,650 - DEBUG - Row appended for chat file: WhatsApp Chat with Macdonald_Edoofa(29_11)AA.txt\n",
      "2023-12-05 17:48:04,953 - DEBUG - Row appended for chat file: WhatsApp Chat with Magadzire_Edoofa(29_11)AA.txt\n",
      "2023-12-05 17:48:05,453 - DEBUG - Row appended for chat file: WhatsApp Chat with Makono_Edoofa(22_11)AA.txt\n",
      "2023-12-05 17:48:05,766 - DEBUG - Row appended for chat file: WhatsApp Chat with Mandaza_Edoofa(30_11)AA.txt\n",
      "2023-12-05 17:48:06,082 - DEBUG - Row appended for chat file: WhatsApp Chat with Mano_Edoofa(04_12)AA-IE.txt\n",
      "2023-12-05 17:48:06,394 - DEBUG - Row appended for chat file: WhatsApp Chat with Melanie_Edoofa(04_12)AA.txt\n",
      "2023-12-05 17:48:06,766 - DEBUG - Row appended for chat file: WhatsApp Chat with Mguquka_Edoofa(23_10)AA.txt\n",
      "2023-12-05 17:48:07,110 - DEBUG - Row appended for chat file: WhatsApp Chat with Mhunza_Edoofa(04_12)AA-IE.txt\n",
      "2023-12-05 17:48:07,719 - DEBUG - Row appended for chat file: WhatsApp Chat with Mudenda_Edoofa(23_11)AA.txt\n",
      "2023-12-05 17:48:08,313 - DEBUG - Row appended for chat file: WhatsApp Chat with Mudozori_Edoofa(29_11)AA.txt\n",
      "2023-12-05 17:48:09,016 - DEBUG - Row appended for chat file: WhatsApp Chat with Mukwena_Edoofa(13_10)AA.txt\n",
      "2023-12-05 17:48:09,450 - DEBUG - Row appended for chat file: WhatsApp Chat with Munozogara_Edoofa(29_11)AA.txt\n",
      "2023-12-05 17:48:09,902 - DEBUG - Row appended for chat file: WhatsApp Chat with Murandu_Edoofa(23_11)AA.txt\n",
      "2023-12-05 17:48:10,344 - DEBUG - Row appended for chat file: WhatsApp Chat with Myckeilah_Edoofa(14_11)AA.txt\n",
      "2023-12-05 17:48:10,703 - DEBUG - Row appended for chat file: WhatsApp Chat with M_suku_Edoofa(04_12)AA.txt\n",
      "2023-12-05 17:48:11,099 - DEBUG - Row appended for chat file: WhatsApp Chat with Nigel_Edoofa(01_12)AA-IE.txt\n",
      "2023-12-05 17:48:11,578 - DEBUG - Row appended for chat file: WhatsApp Chat with Nomathamsanqua_Edoofa(01_12)AA-IE.txt\n",
      "2023-12-05 17:48:12,031 - DEBUG - Row appended for chat file: WhatsApp Chat with Nomthunzi_Edoofa(04_12)AA.txt\n",
      "2023-12-05 17:48:12,531 - DEBUG - Row appended for chat file: WhatsApp Chat with Ntando_Edoofa(01_12)AA-IE.txt\n",
      "2023-12-05 17:48:13,094 - DEBUG - Row appended for chat file: WhatsApp Chat with Polite_Edoofa(14_11)AA.txt\n",
      "2023-12-05 17:48:13,582 - DEBUG - Row appended for chat file: WhatsApp Chat with Precious_Edoofa(30_11)AA.txt\n",
      "2023-12-05 17:48:14,000 - DEBUG - Row appended for chat file: WhatsApp Chat with Prince_Edoofa(01_12)AA.txt\n"
     ]
    },
    {
     "name": "stdout",
     "output_type": "stream",
     "text": [
      "ENTER THE LOOP:              datetime             sender                   message\n",
      "68 2023-12-04 20:42:00  +265 883 30 65 75  This message was deleted\n"
     ]
    },
    {
     "name": "stderr",
     "output_type": "stream",
     "text": [
      "2023-12-05 17:48:14,391 - DEBUG - Row appended for chat file: WhatsApp Chat with Priscilla_Edoofa(17_08)AA.txt\n",
      "2023-12-05 17:48:14,907 - DEBUG - Row appended for chat file: WhatsApp Chat with Rufaro_Edoofa(22_11)AA.txt\n",
      "2023-12-05 17:48:15,311 - DEBUG - Row appended for chat file: WhatsApp Chat with Rukombo_Edoofa(04_12)AA-IE.txt\n",
      "2023-12-05 17:48:15,750 - DEBUG - Row appended for chat file: WhatsApp Chat with Ruvarashe_Edoofa(21_11)AA.txt\n",
      "2023-12-05 17:48:16,235 - DEBUG - Row appended for chat file: WhatsApp Chat with Sithole_Edoofa(24_11)AA.txt\n",
      "2023-12-05 17:48:16,588 - DEBUG - Row appended for chat file: WhatsApp Chat with Tadiwa_Edoofa(04_12)AA-IE.txt\n",
      "2023-12-05 17:48:16,985 - DEBUG - Row appended for chat file: WhatsApp Chat with Tambiri_Edoofa(29_11)AA.txt\n",
      "2023-12-05 17:48:17,454 - DEBUG - Row appended for chat file: WhatsApp Chat with Tanaka_Edoofa(10_07)AA.txt\n",
      "2023-12-05 17:48:18,187 - DEBUG - Row appended for chat file: WhatsApp Chat with Tanyaradzwa_Edoofa(28_11)AA-IE.txt\n",
      "2023-12-05 17:48:18,721 - DEBUG - Row appended for chat file: WhatsApp Chat with Tinayeishe_Edoofa(01_12)AA-IE.txt\n",
      "2023-12-05 17:48:19,326 - DEBUG - Row appended for chat file: WhatsApp Chat with Tinevimbo_Edoofa(07_11)AA.txt\n",
      "2023-12-05 17:48:19,874 - DEBUG - Row appended for chat file: WhatsApp Chat with Trust_Edoofa(14_11)AA.txt\n",
      "2023-12-05 17:48:20,472 - DEBUG - Row appended for chat file: WhatsApp Chat with Chiedza_Edoofa(30_10)PG.txt\n",
      "2023-12-05 17:48:21,002 - DEBUG - Row appended for chat file: WhatsApp Chat with Daniel_Edoofa(01_12)PG-IE.txt\n",
      "2023-12-05 17:48:21,455 - DEBUG - Row appended for chat file: WhatsApp Chat with Dean_Edoofa(28_11)PG.txt\n"
     ]
    },
    {
     "name": "stdout",
     "output_type": "stream",
     "text": [
      "ENTER THE LOOP:               datetime            sender                   message\n",
      "261 2023-12-04 20:12:00  +263 77 684 2074  This message was deleted\n"
     ]
    },
    {
     "name": "stderr",
     "output_type": "stream",
     "text": [
      "2023-12-05 17:48:21,969 - DEBUG - Row appended for chat file: WhatsApp Chat with Donnelly_Edoofa(16_11)AA.txt\n",
      "2023-12-05 17:48:22,390 - DEBUG - Row appended for chat file: WhatsApp Chat with Edward_Edoofa(28_11)PG-IE.txt\n",
      "2023-12-05 17:48:23,064 - DEBUG - Row appended for chat file: WhatsApp Chat with Elijah_Edoofa(23_10)AA.txt\n",
      "2023-12-05 17:48:23,634 - DEBUG - Row appended for chat file: WhatsApp Chat with Elitha_Edoofa(20_11)AA-IE.txt\n",
      "2023-12-05 17:48:24,240 - DEBUG - Row appended for chat file: WhatsApp Chat with Ella_Edoofa(23_11)PG-IE.txt\n",
      "2023-12-05 17:48:24,824 - DEBUG - Row appended for chat file: WhatsApp Chat with George_Edoofa(29_11)PG-IE.txt\n",
      "2023-12-05 17:48:25,584 - DEBUG - Row appended for chat file: WhatsApp Chat with Gwenhure_Edoofa(23_10)AA.txt\n",
      "2023-12-05 17:48:26,549 - DEBUG - Row appended for chat file: WhatsApp Chat with Isheunesu_Edoofa(6_11)PG.txt\n",
      "2023-12-05 17:48:27,566 - DEBUG - Row appended for chat file: WhatsApp Chat with Kudzai_Edoofa(11_10)PG-IE.txt\n",
      "2023-12-05 17:48:28,167 - DEBUG - Row appended for chat file: WhatsApp Chat with Linda_Edoofa(30_11)AA.txt\n",
      "2023-12-05 17:48:28,751 - DEBUG - Row appended for chat file: WhatsApp Chat with Max_Edoofa(23_11)AA.txt\n"
     ]
    },
    {
     "name": "stdout",
     "output_type": "stream",
     "text": [
      "ENTER THE LOOP:               datetime            sender  \\\n",
      "302 2023-12-04 21:25:00  +263 77 372 4872   \n",
      "303 2023-12-04 21:26:00  +263 77 372 4872   \n",
      "304 2023-12-04 21:27:00  +263 78 006 5624   \n",
      "\n",
      "                                               message  \n",
      "302       Greetings to u I Mr Tsumele acknowledge this  \n",
      "303  But can you give me a period of 30 days to pay...  \n",
      "304  Greetings to you Mr Austin my father is now av...  \n"
     ]
    },
    {
     "name": "stderr",
     "output_type": "stream",
     "text": [
      "2023-12-05 17:48:29,269 - DEBUG - Row appended for chat file: WhatsApp Chat with Mercy_Edoofa(22_11)PG-IE.txt\n",
      "2023-12-05 17:48:29,710 - DEBUG - Row appended for chat file: WhatsApp Chat with Munashe Muberekwa_Edoofa(18_11)KA.txt\n",
      "2023-12-05 17:48:30,097 - DEBUG - Row appended for chat file: WhatsApp Chat with Mututa_Edoofa(29_11)AA.txt\n",
      "2023-12-05 17:48:30,591 - DEBUG - Row appended for chat file: WhatsApp Chat with Rubby_Edoofa(08_11)PG.txt\n",
      "2023-12-05 17:48:31,042 - DEBUG - Row appended for chat file: WhatsApp Chat with Ruvimbonashe_Edoofa(17_11)PG.txt\n",
      "2023-12-05 17:48:31,550 - DEBUG - Row appended for chat file: WhatsApp Chat with Sarah_Edoofa(15_11)AA.txt\n",
      "2023-12-05 17:48:31,946 - DEBUG - Row appended for chat file: WhatsApp Chat with Shalom_Edoofa(28_11)AA-IE.txt\n",
      "2023-12-05 17:48:32,337 - DEBUG - Row appended for chat file: WhatsApp Chat with Shamaine Chari_Edoofa(21_11)AA-IE.txt\n",
      "2023-12-05 17:48:32,702 - DEBUG - Row appended for chat file: WhatsApp Chat with Shane_Edoofa(16_10)PG-IE.txt\n",
      "2023-12-05 17:48:33,089 - DEBUG - Row appended for chat file: WhatsApp Chat with Silibele_Edoofa(28_11)PG-IE.txt\n",
      "2023-12-05 17:48:33,519 - DEBUG - Row appended for chat file: WhatsApp Chat with Steven_Edoofa(24_11)AA.txt\n",
      "2023-12-05 17:48:33,892 - DEBUG - Row appended for chat file: WhatsApp Chat with Tadala_Edoofa(23_11)PG-IE.txt\n",
      "2023-12-05 17:48:34,313 - DEBUG - Row appended for chat file: WhatsApp Chat with Tadiwanashe Chakawa_Edoofa(18_11)KA.txt\n",
      "2023-12-05 17:48:34,701 - DEBUG - Row appended for chat file: WhatsApp Chat with Tadiwanashe_EA(11_09)KA.txt\n",
      "2023-12-05 17:48:35,131 - DEBUG - Row appended for chat file: WhatsApp Chat with Tadiwanashe_Edoofa(01_12)PG-IE.txt\n",
      "2023-12-05 17:48:35,620 - DEBUG - Row appended for chat file: WhatsApp Chat with Tafadzwa_Ngwenya_Edoofa(19_10)KA.txt\n",
      "2023-12-05 17:48:35,977 - DEBUG - Row appended for chat file: WhatsApp Chat with Takudzwa_Edoofa(29_11)PG-IE.txt\n",
      "2023-12-05 17:48:36,357 - DEBUG - Row appended for chat file: WhatsApp Chat with Tanaka_Edoofa(24_11)AA.txt\n",
      "2023-12-05 17:48:36,732 - DEBUG - Row appended for chat file: WhatsApp Chat with Unathi_Edoofa(28_11)AA-IE.txt\n",
      "2023-12-05 17:48:37,064 - DEBUG - Row appended for chat file: WhatsApp Chat with Anotida Mudzingwa_EDOOFA(04_12)GS.txt\n",
      "2023-12-05 17:48:37,517 - DEBUG - Row appended for chat file: WhatsApp Chat with Asia Moto_EDOOFA(28_11)GS.txt\n",
      "2023-12-05 17:48:38,038 - DEBUG - Row appended for chat file: WhatsApp Chat with Ayanda Sibanda_EDOOFA(22_11)GS.txt\n",
      "2023-12-05 17:48:38,616 - DEBUG - Row appended for chat file: WhatsApp Chat with Benjamin Zingwina_EDOOFA(24_11)GS.txt\n",
      "2023-12-05 17:48:39,078 - DEBUG - Row appended for chat file: WhatsApp Chat with Bernard Ndoro_EDOOFA(1_12)GS.txt\n",
      "2023-12-05 17:48:39,570 - DEBUG - Row appended for chat file: WhatsApp Chat with Chleolyn Marambakuyana_EDOOFA(30_11)GS.txt\n",
      "2023-12-05 17:48:39,952 - DEBUG - Row appended for chat file: WhatsApp Chat with Chunda Berthel_EDOOFA(04_12)GS.txt\n",
      "2023-12-05 17:48:40,275 - DEBUG - Row appended for chat file: WhatsApp Chat with Cleopatra Madzvimbo_EDOOFA(1_12)GS.txt\n",
      "2023-12-05 17:48:40,576 - DEBUG - Row appended for chat file: WhatsApp Chat with Daphne Guramatunhu_EDOOFA(1_12)GS.txt\n",
      "2023-12-05 17:48:40,876 - DEBUG - Row appended for chat file: WhatsApp Chat with Delight Tshuma_EDOOFA(30_11)GS.txt\n",
      "2023-12-05 17:48:41,158 - DEBUG - Row appended for chat file: WhatsApp Chat with Dellan Tichareva_EDOOFA(04_12)GS.txt\n",
      "2023-12-05 17:48:41,453 - DEBUG - Row appended for chat file: WhatsApp Chat with Dzino Tafadzwa_EDOOFA(25_11)GS.txt\n"
     ]
    },
    {
     "name": "stdout",
     "output_type": "stream",
     "text": [
      "ENTER THE LOOP:              datetime            sender                        message\n",
      "17 2023-12-04 18:22:00  +263 77 705 3692  I'm sorry sir  l was  offline\n"
     ]
    },
    {
     "name": "stderr",
     "output_type": "stream",
     "text": [
      "2023-12-05 17:48:41,751 - DEBUG - Row appended for chat file: WhatsApp Chat with Elisha Makorose_EDOOFA(30_11)GS.txt\n",
      "2023-12-05 17:48:42,044 - DEBUG - Row appended for chat file: WhatsApp Chat with Gumbere Prominent_EDOOFA(04_12)GS.txt\n",
      "2023-12-05 17:48:42,445 - DEBUG - Row appended for chat file: WhatsApp Chat with Hananda Lillian_EDOOFA(25_11)GS.txt\n",
      "2023-12-05 17:48:42,759 - DEBUG - Row appended for chat file: WhatsApp Chat with Heather Nhema_EDOOFA(28_11)GS.txt\n",
      "2023-12-05 17:48:43,047 - DEBUG - Row appended for chat file: WhatsApp Chat with Isaac Mutsvunguma_EDOOFA(1_12)GS.txt\n",
      "2023-12-05 17:48:43,355 - DEBUG - Row appended for chat file: WhatsApp Chat with Ivy Zikhuyumo_EDOOFA(1_12)GS.txt\n",
      "2023-12-05 17:48:43,644 - DEBUG - Row appended for chat file: WhatsApp Chat with Josphat Mashandure_EDOOFA(1_12)GS.txt\n",
      "2023-12-05 17:48:43,931 - DEBUG - Row appended for chat file: WhatsApp Chat with Junior Mpofu_EDOOFA(28_11)GS.txt\n",
      "2023-12-05 17:48:44,213 - DEBUG - Row appended for chat file: WhatsApp Chat with Kersty Magauze_EDOOFA(30_11)GS.txt\n",
      "2023-12-05 17:48:44,501 - DEBUG - Row appended for chat file: WhatsApp Chat with Larious chipadza_EDOOFA(04_12)GS.txt\n",
      "2023-12-05 17:48:44,890 - DEBUG - Row appended for chat file: WhatsApp Chat with Liberty Zinzombe_EDOOFA(20_11)GS.txt\n",
      "2023-12-05 17:48:45,173 - DEBUG - Row appended for chat file: WhatsApp Chat with Loveness Chibila_EDOOFA(30_11)GS.txt\n",
      "2023-12-05 17:48:45,472 - DEBUG - Row appended for chat file: WhatsApp Chat with Lubelihle Dondo_EDOOFA(23_11)GS.txt\n",
      "2023-12-05 17:48:45,735 - DEBUG - Row appended for chat file: WhatsApp Chat with Luyando siavwapa_EDOOFAZAM(5_12)GS.txt\n",
      "2023-12-05 17:48:45,998 - DEBUG - Row appended for chat file: WhatsApp Chat with Maimba sibuyunji_EDOOFAZAM(5_12)GS.txt\n",
      "2023-12-05 17:48:46,290 - DEBUG - Row appended for chat file: WhatsApp Chat with Makanaka Nyamazana_EDOOFA(30_11)GS.txt\n",
      "2023-12-05 17:48:46,562 - DEBUG - Row appended for chat file: WhatsApp Chat with Marikopo Ropafadzo_EDOOFA(04_12)GS.txt\n",
      "2023-12-05 17:48:46,828 - DEBUG - Row appended for chat file: WhatsApp Chat with Mashura V_EDOOFA(04_12)GS.txt\n",
      "2023-12-05 17:48:47,189 - DEBUG - Row appended for chat file: WhatsApp Chat with Mauswa Kelvin_EDOOFA(30_11)GS.txt\n",
      "2023-12-05 17:48:47,465 - DEBUG - Row appended for chat file: WhatsApp Chat with Mbiba Mollyn_EDOOFA(29_11)GS.txt\n",
      "2023-12-05 17:48:47,763 - DEBUG - Row appended for chat file: WhatsApp Chat with Meloncia Murwirapachena_EDOOFA(23_11)GS.txt\n",
      "2023-12-05 17:48:48,049 - DEBUG - Row appended for chat file: WhatsApp Chat with Mubonda Namwaka_EDOOFA(04_12)GS.txt\n",
      "2023-12-05 17:48:48,415 - DEBUG - Row appended for chat file: WhatsApp Chat with Mudzamba Fadzai_EDOOFA(29_11)GS.txt\n",
      "2023-12-05 17:48:48,694 - DEBUG - Row appended for chat file: WhatsApp Chat with Muleya Lushomo Autricia_EDOOFAZAM(5_12)GS.txt\n",
      "2023-12-05 17:48:49,137 - DEBUG - Row appended for chat file: WhatsApp Chat with Musiwa Juliet_EDOOFA(1_12)GS.txt\n",
      "2023-12-05 17:48:49,505 - DEBUG - Row appended for chat file: WhatsApp Chat with Mutasa T_EDOOFA(22_11)GS.txt\n",
      "2023-12-05 17:48:49,809 - DEBUG - Row appended for chat file: WhatsApp Chat with Mwaka Ngulube_EDOOFA(04_12)GS.txt\n",
      "2023-12-05 17:48:50,097 - DEBUG - Row appended for chat file: WhatsApp Chat with Nchimunya Sautu_EDOOFAZAM(5_12)GS.txt\n",
      "2023-12-05 17:48:50,501 - DEBUG - Row appended for chat file: WhatsApp Chat with Ncube Shaloam_EDOOFA(30_11)GS.txt\n",
      "2023-12-05 17:48:50,776 - DEBUG - Row appended for chat file: WhatsApp Chat with Newman Kabondo_EDOOFA(04_12)GS.txt\n",
      "2023-12-05 17:48:51,086 - DEBUG - Row appended for chat file: WhatsApp Chat with Nothando Mararike_EDOOFA(30_11)GS.txt\n",
      "2023-12-05 17:48:51,421 - DEBUG - Row appended for chat file: WhatsApp Chat with Nyashadzashe Mutimbu_EDOOFA(1_12)GS.txt\n",
      "2023-12-05 17:48:51,725 - DEBUG - Row appended for chat file: WhatsApp Chat with Oleen Makuwe_EDOOFA(24_11)GS.txt\n",
      "2023-12-05 17:48:52,001 - DEBUG - Row appended for chat file: WhatsApp Chat with Persuade Ziwada_EDOOFA(04_12)GS.txt\n"
     ]
    },
    {
     "name": "stdout",
     "output_type": "stream",
     "text": [
      "ENTER THE LOOP:              datetime            sender  \\\n",
      "43 2023-12-04 17:00:00  +263 78 888 2942   \n",
      "\n",
      "                                              message  \n",
      "43  Good afternoon sir.... I'm so sorry I missed t...  \n"
     ]
    },
    {
     "name": "stderr",
     "output_type": "stream",
     "text": [
      "2023-12-05 17:48:52,318 - DEBUG - Row appended for chat file: WhatsApp Chat with Prisca zumani_EDOOFA(23_11)GS.txt\n",
      "2023-12-05 17:48:52,725 - DEBUG - Row appended for chat file: WhatsApp Chat with Prominent Jena_EDOOFA(1_12)GS.txt\n",
      "2023-12-05 17:48:53,187 - DEBUG - Row appended for chat file: WhatsApp Chat with Rilliah Ncube_EDOOFA(23_11)GS.txt\n",
      "2023-12-05 17:48:53,465 - DEBUG - Row appended for chat file: WhatsApp Chat with Samu Samuel_EDOOFA(30_11)GS.txt\n",
      "2023-12-05 17:48:53,759 - DEBUG - Row appended for chat file: WhatsApp Chat with Seline Mutsvangwa_EDOOFA(1_12)GS.txt\n",
      "2023-12-05 17:48:54,149 - DEBUG - Row appended for chat file: WhatsApp Chat with Shamiso Mawunze_EDOOFA(24_11)GS.txt\n",
      "2023-12-05 17:48:54,461 - DEBUG - Row appended for chat file: WhatsApp Chat with Shaun Chiworeso_EDOOFA(28_11)GS.txt\n",
      "2023-12-05 17:48:54,771 - DEBUG - Row appended for chat file: WhatsApp Chat with Tadiwanashe Chakanyuka_EDOOFA(1_12)GS.txt\n",
      "2023-12-05 17:48:55,129 - DEBUG - Row appended for chat file: WhatsApp Chat with Tadiwanashe Gatsi_EDOOFA(1_12)GS.txt\n",
      "2023-12-05 17:48:55,593 - DEBUG - Row appended for chat file: WhatsApp Chat with Tafadzwa Mahawu_EDOOFA(30_11)GS.txt\n",
      "2023-12-05 17:48:55,924 - DEBUG - Row appended for chat file: WhatsApp Chat with Takudzwa Zisengwe_EDOOFA(04_12)GS.txt\n",
      "2023-12-05 17:48:56,300 - DEBUG - Row appended for chat file: WhatsApp Chat with Takunda Mahupe_EDOOFA(25_11)GS.txt\n",
      "2023-12-05 17:48:56,621 - DEBUG - Row appended for chat file: WhatsApp Chat with Telergy_Edoofa(21_07)SM.txt\n"
     ]
    },
    {
     "name": "stdout",
     "output_type": "stream",
     "text": [
      "ENTER THE LOOP:              datetime            sender        message\n",
      "45 2023-12-04 15:13:00  +263 71 431 5261  Greetings....\n",
      "ENTER THE LOOP:              datetime           sender message\n",
      "28 2023-12-04 20:44:00  +260 96 1836091      Hi\n"
     ]
    },
    {
     "name": "stderr",
     "output_type": "stream",
     "text": [
      "2023-12-05 17:48:56,929 - DEBUG - Row appended for chat file: WhatsApp Chat with Terrence_Edoofa(05_10)SM.txt\n",
      "2023-12-05 17:48:57,216 - DEBUG - Row appended for chat file: WhatsApp Chat with Thandiwe Jakachira_EDOOFA(30_11)GS.txt\n",
      "2023-12-05 17:48:57,516 - DEBUG - Row appended for chat file: WhatsApp Chat with Tinotenda Gomo_EDOOFA(29_11)GS.txt\n",
      "2023-12-05 17:48:57,813 - DEBUG - Row appended for chat file: WhatsApp Chat with Tinotenda manjengwa_EDOOFA(1_12)GS.txt\n",
      "2023-12-05 17:48:58,170 - DEBUG - Row appended for chat file: WhatsApp Chat with Tolerance Chivavaya_EDOOFA(30_11)GS.txt\n",
      "2023-12-05 17:48:58,446 - DEBUG - Row appended for chat file: WhatsApp Chat with Trace mahuma_EDOOFAZAM(5_12)GS.txt\n",
      "2023-12-05 17:48:58,765 - DEBUG - Row appended for chat file: WhatsApp Chat with Trust Mbaura_EDOOFA(30_11)GS.txt\n",
      "2023-12-05 17:48:59,070 - DEBUG - Row appended for chat file: WhatsApp Chat with Tsitsi Mudzoki_EDOOFA(30_11)GS.txt\n",
      "2023-12-05 17:48:59,346 - DEBUG - Row appended for chat file: WhatsApp Chat with Wana Mugala_EDOOFA(1_12)GS.txt\n",
      "2023-12-05 17:48:59,744 - DEBUG - Row appended for chat file: WhatsApp Chat with WINNIE MARUWA_EDOOFA(28_11)GS.txt\n",
      "2023-12-05 17:49:00,112 - DEBUG - Row appended for chat file: WhatsApp Chat with ZUZE DESIRE_EDOOFA(1_12)GS.txt\n",
      "2023-12-05 17:49:00,441 - DEBUG - Row appended for chat file: WhatsApp Chat with Zvikomborero Mapheka_EDOOFA(04_12)GS.txt\n",
      "2023-12-05 17:49:00,988 - DEBUG - Row appended for chat file: WhatsApp Chat with Adonis_DM02(21_11)HP.txt\n",
      "2023-12-05 17:49:01,320 - DEBUG - Row appended for chat file: WhatsApp Chat with Alexio_Edoofa(30_11)HP.txt\n",
      "2023-12-05 17:49:01,597 - DEBUG - Row appended for chat file: WhatsApp Chat with Aswell_Edoofa(01_12)HP.txt\n",
      "2023-12-05 17:49:01,878 - DEBUG - Row appended for chat file: WhatsApp Chat with Blessed_Edoofa(01_12)HP.txt\n",
      "2023-12-05 17:49:02,335 - DEBUG - Row appended for chat file: WhatsApp Chat with Brian_Edoofa(27_11)HP.txt\n",
      "2023-12-05 17:49:02,613 - DEBUG - Row appended for chat file: WhatsApp Chat with Christabel_Edoofa(04_12)HP.txt\n",
      "2023-12-05 17:49:02,893 - DEBUG - Row appended for chat file: WhatsApp Chat with Dallen_Edoofa(30_11)HP.txt\n",
      "2023-12-05 17:49:03,217 - DEBUG - Row appended for chat file: WhatsApp Chat with Elias_Edoofa(01_12)HP.txt\n",
      "2023-12-05 17:49:03,493 - DEBUG - Row appended for chat file: WhatsApp Chat with Ethelbert_Edoofa(04_12)HP.txt\n",
      "2023-12-05 17:49:03,946 - DEBUG - Row appended for chat file: WhatsApp Chat with Hugh_Edoofa(01_12)HP.txt\n",
      "2023-12-05 17:49:04,237 - DEBUG - Row appended for chat file: WhatsApp Chat with Joyce_Edoofa(01_12)HP.txt\n",
      "2023-12-05 17:49:04,538 - DEBUG - Row appended for chat file: WhatsApp Chat with Lisa_Edoofa(30_11)HP.txt\n",
      "2023-12-05 17:49:04,833 - DEBUG - Row appended for chat file: WhatsApp Chat with Michael_Edoofa(01_12)HP.txt\n",
      "2023-12-05 17:49:05,154 - DEBUG - Row appended for chat file: WhatsApp Chat with Munashe_Edoofa(27_11)HP.txt\n",
      "2023-12-05 17:49:05,429 - DEBUG - Row appended for chat file: WhatsApp Chat with Munyaradzi_Edoofa(04_12)HP.txt\n",
      "2023-12-05 17:49:05,697 - DEBUG - Row appended for chat file: WhatsApp Chat with Natasha_Edoofa(01_12)HP.txt\n",
      "2023-12-05 17:49:05,965 - DEBUG - Row appended for chat file: WhatsApp Chat with Nomakhosi_Edoofa(04_12)HP.txt\n",
      "2023-12-05 17:49:06,320 - DEBUG - Row appended for chat file: WhatsApp Chat with Osman_Edoofa(01_12)HP.txt\n",
      "2023-12-05 17:49:06,634 - DEBUG - Row appended for chat file: WhatsApp Chat with Panashe_Edoofa(06_11)HP.txt\n",
      "2023-12-05 17:49:06,902 - DEBUG - Row appended for chat file: WhatsApp Chat with Precious_Edoofa(01_12)HP.txt\n",
      "2023-12-05 17:49:07,173 - DEBUG - Row appended for chat file: WhatsApp Chat with Priscilla_Edoofa(04_12)HP.txt\n",
      "2023-12-05 17:49:07,507 - DEBUG - Row appended for chat file: WhatsApp Chat with Rosemary_Edoofa(22_11)HP.txt\n",
      "2023-12-05 17:49:07,921 - DEBUG - Row appended for chat file: WhatsApp Chat with Rutendo_Edoofa(27_11)HP.txt\n",
      "2023-12-05 17:49:08,326 - DEBUG - Row appended for chat file: WhatsApp Chat with Shumirai_Edoofa(01_12)HP.txt\n",
      "2023-12-05 17:49:08,589 - DEBUG - Row appended for chat file: WhatsApp Chat with Tadiwa_Edoofa(04_12)HP.txt\n",
      "2023-12-05 17:49:08,865 - DEBUG - Row appended for chat file: WhatsApp Chat with Tanatswa_Edoofa(01_12)HP.txt\n",
      "2023-12-05 17:49:09,141 - DEBUG - Row appended for chat file: WhatsApp Chat with Tanatswa_Edoofa(30_11)HP.txt\n",
      "2023-12-05 17:49:09,519 - DEBUG - Row appended for chat file: WhatsApp Chat with Tinashe_Edoofa(03_11)HP.txt\n",
      "2023-12-05 17:49:09,922 - DEBUG - Row appended for chat file: WhatsApp Chat with Wilfred_Edoofa(30_11)HP.txt\n",
      "2023-12-05 17:49:10,236 - DEBUG - Row appended for chat file: WhatsApp Chat with Albert_Edoofa(28_11)PG.txt\n",
      "2023-12-05 17:49:10,544 - DEBUG - Row appended for chat file: WhatsApp Chat with Amara_Edoofa(02_12)PG.txt\n",
      "2023-12-05 17:49:10,901 - DEBUG - Row appended for chat file: WhatsApp Chat with Anelka_Edoofa(28_11)PG.txt\n",
      "2023-12-05 17:49:11,483 - DEBUG - Row appended for chat file: WhatsApp Chat with Awakhiwe_Edoofa(20_11)PG.txt\n",
      "2023-12-05 17:49:11,852 - DEBUG - Row appended for chat file: WhatsApp Chat with Babongile_Edoofa(28_11)PG-IE.txt\n",
      "2023-12-05 17:49:12,303 - DEBUG - Row appended for chat file: WhatsApp Chat with Chrismore_Edoofa(01_12)PG-IE.txt\n",
      "2023-12-05 17:49:12,658 - DEBUG - Row appended for chat file: WhatsApp Chat with Cleave_Edoofa(29_11)PG-IE.txt\n",
      "2023-12-05 17:49:13,059 - DEBUG - Row appended for chat file: WhatsApp Chat with Dylan_Edoofa(24_11)PG.txt\n",
      "2023-12-05 17:49:13,436 - DEBUG - Row appended for chat file: WhatsApp Chat with Elijjah_Edoofa(28_11)PG.txt\n",
      "2023-12-05 17:49:13,777 - DEBUG - Row appended for chat file: WhatsApp Chat with Ethel_Edoofa(17_11)PG.txt\n",
      "2023-12-05 17:49:14,143 - DEBUG - Row appended for chat file: WhatsApp Chat with Fadzisai_Edoofa(09_11)PG.txt\n",
      "2023-12-05 17:49:14,560 - DEBUG - Row appended for chat file: WhatsApp Chat with Faith_Edoofa(28_11)PG.txt\n",
      "2023-12-05 17:49:14,880 - DEBUG - Row appended for chat file: WhatsApp Chat with Faith_Edoofa(29_11)PG.txt\n",
      "2023-12-05 17:49:15,190 - DEBUG - Row appended for chat file: WhatsApp Chat with Gamuchirai_Edoofa(16_11)PG-IE.txt\n",
      "2023-12-05 17:49:15,493 - DEBUG - Row appended for chat file: WhatsApp Chat with Gerald_Edoofa(29_11)PG-IE.txt\n",
      "2023-12-05 17:49:15,778 - DEBUG - Row appended for chat file: WhatsApp Chat with Gilbert_Edoofa(02_12)PG.txt\n",
      "2023-12-05 17:49:16,178 - DEBUG - Row appended for chat file: WhatsApp Chat with Innocent_Edoofa(28_11)PG.txt\n",
      "2023-12-05 17:49:16,462 - DEBUG - Row appended for chat file: WhatsApp Chat with Kudakwashe_Edoofa(02_12)PG.txt\n",
      "2023-12-05 17:49:16,854 - DEBUG - Row appended for chat file: WhatsApp Chat with Lisdale_Edoofa(24_11)PG.txt\n",
      "2023-12-05 17:49:17,207 - DEBUG - Row appended for chat file: WhatsApp Chat with Mathias_Edoofa(15_11)PG.txt\n",
      "2023-12-05 17:49:17,645 - DEBUG - Row appended for chat file: WhatsApp Chat with Mercy_Edoofa(01_11)PG.txt\n",
      "2023-12-05 17:49:17,946 - DEBUG - Row appended for chat file: WhatsApp Chat with Michael_Edoofa(01_12)PG.txt\n",
      "2023-12-05 17:49:18,250 - DEBUG - Row appended for chat file: WhatsApp Chat with Michell_Edoofa(01_12)PG.txt\n",
      "2023-12-05 17:49:18,526 - DEBUG - Row appended for chat file: WhatsApp Chat with Millicent_Edoofa(02_12)PG.txt\n",
      "2023-12-05 17:49:18,929 - DEBUG - Row appended for chat file: WhatsApp Chat with Mitchelle_Edoofa(28_11)PG.txt\n",
      "2023-12-05 17:49:19,256 - DEBUG - Row appended for chat file: WhatsApp Chat with Mugede_Edoofa(20_11)PG-IE.txt\n",
      "2023-12-05 17:49:19,537 - DEBUG - Row appended for chat file: WhatsApp Chat with Munashe_Edoofa(30_10)PG.txt\n",
      "2023-12-05 17:49:19,915 - DEBUG - Row appended for chat file: WhatsApp Chat with Nathan_Edoofa(01_12)PG-IE.txt\n",
      "2023-12-05 17:49:20,224 - DEBUG - Row appended for chat file: WhatsApp Chat with Nigel_Edoofa(29_11)PG.txt\n",
      "2023-12-05 17:49:20,656 - DEBUG - Row appended for chat file: WhatsApp Chat with Nobuhle_Edoofa(27_10)PG-IE.txt\n",
      "2023-12-05 17:49:21,048 - DEBUG - Row appended for chat file: WhatsApp Chat with Nokutenda_Edoofa(17_11)PG.txt\n",
      "2023-12-05 17:49:21,390 - DEBUG - Row appended for chat file: WhatsApp Chat with Nokutenda_Edoofa(29_11)PG.txt\n",
      "2023-12-05 17:49:21,719 - DEBUG - Row appended for chat file: WhatsApp Chat with Nyahore_Edoofa(09_10)PG-IE.txt\n",
      "2023-12-05 17:49:22,054 - DEBUG - Row appended for chat file: WhatsApp Chat with Panashe_Edoofa(28_11)PG.txt\n"
     ]
    },
    {
     "name": "stderr",
     "output_type": "stream",
     "text": [
      "2023-12-05 17:49:22,508 - DEBUG - Row appended for chat file: WhatsApp Chat with Payne_Edoofa(04_12)PG-IE.txt\n",
      "2023-12-05 17:49:22,904 - DEBUG - Row appended for chat file: WhatsApp Chat with Purity_Edoofa(04_12)PG-IE.txt\n",
      "2023-12-05 17:49:23,289 - DEBUG - Row appended for chat file: WhatsApp Chat with Rachel_Edoofa(11_10)PG.txt\n",
      "2023-12-05 17:49:23,604 - DEBUG - Row appended for chat file: WhatsApp Chat with Richard_Edoofa(04_12)PG-IE.txt\n",
      "2023-12-05 17:49:23,946 - DEBUG - Row appended for chat file: WhatsApp Chat with Romaneit__Edoofa(24_11)PG.txt\n",
      "2023-12-05 17:49:24,296 - DEBUG - Row appended for chat file: WhatsApp Chat with Ropafadzo_Edoofa(23_11)PG-IE.txt\n"
     ]
    },
    {
     "name": "stdout",
     "output_type": "stream",
     "text": [
      "ENTER THE LOOP:              datetime            sender message\n",
      "21 2023-12-04 20:33:00  +263 77 783 7477     Hwu\n"
     ]
    },
    {
     "name": "stderr",
     "output_type": "stream",
     "text": [
      "2023-12-05 17:49:24,696 - DEBUG - Row appended for chat file: WhatsApp Chat with Rutendo_Edoofa(20_11)PG.txt\n",
      "2023-12-05 17:49:25,040 - DEBUG - Row appended for chat file: WhatsApp Chat with Ryan_Edoofa(29_11)PG.txt\n",
      "2023-12-05 17:49:25,520 - DEBUG - Row appended for chat file: WhatsApp Chat with Sithabile_Edoofa(20_11)PG.txt\n",
      "2023-12-05 17:49:25,946 - DEBUG - Row appended for chat file: WhatsApp Chat with Tadiwanashe Tsindi_Edoofa(23_11)PG.txt\n",
      "2023-12-05 17:49:26,303 - DEBUG - Row appended for chat file: WhatsApp Chat with Tadiwanashe_Edoofa(23_11)PG-IE.txt\n",
      "2023-12-05 17:49:26,696 - DEBUG - Row appended for chat file: WhatsApp Chat with Takudzwa_Edoofa(02_11)PG.txt\n",
      "2023-12-05 17:49:27,115 - DEBUG - Row appended for chat file: WhatsApp Chat with Tariro_Edoofa(29_11)PG-IE.txt\n",
      "2023-12-05 17:49:27,515 - DEBUG - Row appended for chat file: WhatsApp Chat with Tashinga_Edoofa(20_11)PG-IE.txt\n",
      "2023-12-05 17:49:27,947 - DEBUG - Row appended for chat file: WhatsApp Chat with Tawanda_Edoofa(16_11)PG-IE.txt\n",
      "2023-12-05 17:49:28,282 - DEBUG - Row appended for chat file: WhatsApp Chat with Tendai_Edoofa(28_11)PG.txt\n",
      "2023-12-05 17:49:28,563 - DEBUG - Row appended for chat file: WhatsApp Chat with Tinaye_Edoofa(04_12)PG-IE.txt\n",
      "2023-12-05 17:49:28,968 - DEBUG - Row appended for chat file: WhatsApp Chat with Tinotenda_Edoofa(16_11)PG.txt\n",
      "2023-12-05 17:49:29,335 - DEBUG - Row appended for chat file: WhatsApp Chat with Tinotenda_Edoofa(17_11)PG.txt\n",
      "2023-12-05 17:49:29,610 - DEBUG - Row appended for chat file: WhatsApp Chat with Vanessa_Edoofa(01_12)PG-IE.txt\n",
      "2023-12-05 17:49:29,983 - DEBUG - Row appended for chat file: WhatsApp Chat with Vuyisile_Edoofa(20_11)PG.txt\n",
      "2023-12-05 17:49:30,282 - DEBUG - Row appended for chat file: WhatsApp Chat with Walter_Edoofa(02_12)PG.txt\n",
      "2023-12-05 17:49:30,655 - DEBUG - Row appended for chat file: WhatsApp Chat with Wilfred_Edoofa(01_12)PG.txt\n",
      "2023-12-05 17:49:31,070 - DEBUG - Row appended for chat file: WhatsApp Chat with Winslet_Edoofa(20_11)PG.txt\n",
      "2023-12-05 17:49:31,545 - DEBUG - Row appended for chat file: WhatsApp Chat with Albert Phiri Edoofa (16_11) SZ.txt\n",
      "2023-12-05 17:49:31,959 - DEBUG - Row appended for chat file: WhatsApp Chat with Ashley_DM02(21_11)HP.txt\n",
      "2023-12-05 17:49:32,418 - DEBUG - Row appended for chat file: WhatsApp Chat with Ashley_Edoofa(15_11)HP.txt\n",
      "2023-12-05 17:49:32,881 - DEBUG - Row appended for chat file: WhatsApp Chat with Audrey_Edoofa(22_11)HP.txt\n",
      "2023-12-05 17:49:33,353 - DEBUG - Row appended for chat file: WhatsApp Chat with BekithembaJNR_Edoofa(18_10)HP.txt\n",
      "2023-12-05 17:49:33,859 - DEBUG - Row appended for chat file: WhatsApp Chat with Bernice_Edoofa(22_11)HP.txt\n",
      "2023-12-05 17:49:34,363 - DEBUG - Row appended for chat file: WhatsApp Chat with Bongani_Edoofa(23_11)HP.txt\n",
      "2023-12-05 17:49:34,751 - DEBUG - Row appended for chat file: WhatsApp Chat with Brendon Makwasha Edoofa (18_11) SZ.txt\n",
      "2023-12-05 17:49:35,157 - DEBUG - Row appended for chat file: WhatsApp Chat with Brian_Edoofa(15_11)HP.txt\n",
      "2023-12-05 17:49:35,563 - DEBUG - Row appended for chat file: WhatsApp Chat with Caleb Chunga Edoofa (08_11) SZ.txt\n",
      "2023-12-05 17:49:35,969 - DEBUG - Row appended for chat file: WhatsApp Chat with Casper Taruvinga Edoofa (16_11) SZ 2025.txt\n",
      "2023-12-05 17:49:36,375 - DEBUG - Row appended for chat file: WhatsApp Chat with Charmaine Chikanya T Edoofa (15_11) SZ 2025.txt\n",
      "2023-12-05 17:49:36,766 - DEBUG - Row appended for chat file: WhatsApp Chat with Chelsie_DM01(15_11)HP.txt\n",
      "2023-12-05 17:49:37,219 - DEBUG - Row appended for chat file: WhatsApp Chat with Chirasikwa Ropafadzo Edoofa (23_10) SZ.txt\n",
      "2023-12-05 17:49:37,657 - DEBUG - Row appended for chat file: WhatsApp Chat with Chisanhu Nyashadzashe Edoofa (07_11) SZ 2025.txt\n",
      "2023-12-05 17:49:38,071 - DEBUG - Row appended for chat file: WhatsApp Chat with Chitungo Chipo Edoofa (15_11) SZ.txt\n",
      "2023-12-05 17:49:38,542 - DEBUG - Row appended for chat file: WhatsApp Chat with Craig_CM01(16_11)HP.txt\n",
      "2023-12-05 17:49:38,991 - DEBUG - Row appended for chat file: WhatsApp Chat with Danai_Edoofa(06_09)HP.txt\n",
      "2023-12-05 17:49:39,444 - DEBUG - Row appended for chat file: WhatsApp Chat with Dube Laurrie Edoofa (15_11) SZ 2025.txt\n",
      "2023-12-05 17:49:39,826 - DEBUG - Row appended for chat file: WhatsApp Chat with Dube M Timberlake EDOOFA(15_11)SR 2025.txt\n",
      "2023-12-05 17:49:40,209 - DEBUG - Row appended for chat file: WhatsApp Chat with Ebony_Edoofa(30_10)HP.txt\n",
      "2023-12-05 17:49:40,557 - DEBUG - Row appended for chat file: WhatsApp Chat with Farai Chipfuwamuti EDOOFA(15_11)SR.txt\n",
      "2023-12-05 17:49:40,872 - DEBUG - Row appended for chat file: WhatsApp Chat with Gofa Deonaly EDOOFA(15_11)SR.txt\n",
      "2023-12-05 17:49:41,308 - DEBUG - Row appended for chat file: WhatsApp Chat with Grace_Edoofa(22_11)HP.txt\n",
      "2023-12-05 17:49:41,768 - DEBUG - Row appended for chat file: WhatsApp Chat with Gracious_Edoofa(07_11)HP.txt\n",
      "2023-12-05 17:49:42,176 - DEBUG - Row appended for chat file: WhatsApp Chat with Great_Edoofa(23_11)HP.txt\n",
      "2023-12-05 17:49:42,532 - DEBUG - Row appended for chat file: WhatsApp Chat with Innocent_Edoofa(21_11)HP.txt\n",
      "2023-12-05 17:49:43,038 - DEBUG - Row appended for chat file: WhatsApp Chat with Isheanesu E Atukwa Edoofa (10_11) SZ 2025.txt\n",
      "2023-12-05 17:49:43,564 - DEBUG - Row appended for chat file: WhatsApp Chat with Ivainashe_Edoofa(30_10)HP.txt\n",
      "2023-12-05 17:49:44,129 - DEBUG - Row appended for chat file: WhatsApp Chat with Joshua_Edoofa(20_11)HP.txt\n",
      "2023-12-05 17:49:44,549 - DEBUG - Row appended for chat file: WhatsApp Chat with Juliet Malowa Edoofa (27_11) SZ 2025.txt\n",
      "2023-12-05 17:49:44,953 - DEBUG - Row appended for chat file: WhatsApp Chat with Kayembe Israel Edoofa(30_10)SR300.txt\n",
      "2023-12-05 17:49:45,390 - DEBUG - Row appended for chat file: WhatsApp Chat with Kudakwashe_Edoofa(20_04)HP.txt\n"
     ]
    },
    {
     "name": "stdout",
     "output_type": "stream",
     "text": [
      "ENTER THE LOOP:               datetime            sender  \\\n",
      "488 2023-12-04 08:00:00  +263 77 618 4236   \n",
      "489 2023-12-04 08:00:00  +263 77 618 4236   \n",
      "\n",
      "                                               message  \n",
      "488  Will you please update my account. I am still ...  \n",
      "489  Hello, zimunyank@gmail.com PayPal Please pay y...  \n"
     ]
    },
    {
     "name": "stderr",
     "output_type": "stream",
     "text": [
      "2023-12-05 17:49:45,844 - DEBUG - Row appended for chat file: WhatsApp Chat with Kudzi Zimunya Edoofa (04_10) SZ.txt\n",
      "2023-12-05 17:49:46,172 - DEBUG - Row appended for chat file: WhatsApp Chat with Kundai Kamwaza EDOOFA(15_11)SR.txt\n"
     ]
    },
    {
     "name": "stdout",
     "output_type": "stream",
     "text": [
      "ENTER THE LOOP:              datetime            sender  \\\n",
      "13 2023-12-04 10:32:00  +263 71 528 7548   \n",
      "\n",
      "                                              message  \n",
      "13  Im sorry for ignorance bt the network was not ...  \n"
     ]
    },
    {
     "name": "stderr",
     "output_type": "stream",
     "text": [
      "2023-12-05 17:49:46,469 - DEBUG - Row appended for chat file: WhatsApp Chat with Kundai Nhemachena EDOOFA(15_11)SR.txt\n",
      "2023-12-05 17:49:46,930 - DEBUG - Row appended for chat file: WhatsApp Chat with Kuzoraunye Tatenda EDOOFA(15_11)SR 2025.txt\n",
      "2023-12-05 17:49:47,369 - DEBUG - Row appended for chat file: WhatsApp Chat with Luzia_Edoofa(22_11)HP.txt\n",
      "2023-12-05 17:49:47,911 - DEBUG - Row appended for chat file: WhatsApp Chat with Madombi Eufemia Edoofa (27_09) SZ.txt\n",
      "2023-12-05 17:49:48,365 - DEBUG - Row appended for chat file: WhatsApp Chat with Malvern Chiwashira Edoofa (14_11) SZ.txt\n",
      "2023-12-05 17:49:48,807 - DEBUG - Row appended for chat file: WhatsApp Chat with Mapalo_Edoofa(13_09)HP.txt\n",
      "2023-12-05 17:49:49,227 - DEBUG - Row appended for chat file: WhatsApp Chat with Mark Kabwe Edoofa (03_11) SZ.txt\n",
      "2023-12-05 17:49:49,688 - DEBUG - Row appended for chat file: WhatsApp Chat with Mary Sitali EDOOFA(17_10)SS 2025.txt\n",
      "2023-12-05 17:49:50,091 - DEBUG - Row appended for chat file: WhatsApp Chat with Mashava Sharbonau Espinosar EDOOFA(15_11)SR.txt\n",
      "2023-12-05 17:49:50,506 - DEBUG - Row appended for chat file: WhatsApp Chat with Mbava Janelle Edoofa (28_11) SZ.txt\n",
      "2023-12-05 17:49:50,896 - DEBUG - Row appended for chat file: WhatsApp Chat with Mcnally_Edoofa(02_11)HP.txt\n",
      "2023-12-05 17:49:51,297 - DEBUG - Row appended for chat file: WhatsApp Chat with Melody_Edoofa(20_11)HP.txt\n",
      "2023-12-05 17:49:51,797 - DEBUG - Row appended for chat file: WhatsApp Chat with Melyndah_Edoofa(15_11)HP.txt\n",
      "2023-12-05 17:49:52,187 - DEBUG - Row appended for chat file: WhatsApp Chat with Michael_Edoofa(20_11)HP.txt\n",
      "2023-12-05 17:49:52,516 - DEBUG - Row appended for chat file: WhatsApp Chat with Michelle Tsvanu G EDOOFA(3_11)SR.txt\n",
      "2023-12-05 17:49:52,891 - DEBUG - Row appended for chat file: WhatsApp Chat with Mubvakure Anashe EDOOFA(15_11)SR.txt\n",
      "2023-12-05 17:49:53,281 - DEBUG - Row appended for chat file: WhatsApp Chat with Munashe_Edoofa(21_11)HP.txt\n",
      "2023-12-05 17:49:53,606 - DEBUG - Row appended for chat file: WhatsApp Chat with Nigel Chada EDOOFA(27_10)SR 2025.txt\n",
      "2023-12-05 17:49:53,969 - DEBUG - Row appended for chat file: WhatsApp Chat with Nigel_Edoofa(15_11)HP.txt\n",
      "2023-12-05 17:49:54,389 - DEBUG - Row appended for chat file: WhatsApp Chat with Nigel_Edoofa(22_11)HP.txt\n",
      "2023-12-05 17:49:54,750 - DEBUG - Row appended for chat file: WhatsApp Chat with Nomthandazo_Edoofa(27_11)HP.txt\n",
      "2023-12-05 17:49:55,191 - DEBUG - Row appended for chat file: WhatsApp Chat with Peter_DM02(21_11)HP.txt\n",
      "2023-12-05 17:49:55,622 - DEBUG - Row appended for chat file: WhatsApp Chat with Praise_Edoofa(02_11)HP.txt\n",
      "2023-12-05 17:49:56,084 - DEBUG - Row appended for chat file: WhatsApp Chat with Pride Munyuki Edoofa (24_11) SZ.txt\n",
      "2023-12-05 17:49:56,757 - DEBUG - Row appended for chat file: WhatsApp Chat with Providence_Edoofa(06_11)HP.txt\n",
      "2023-12-05 17:49:57,342 - DEBUG - Row appended for chat file: WhatsApp Chat with Raymond_Edoofa(06_11)HP.txt\n",
      "2023-12-05 17:49:57,766 - DEBUG - Row appended for chat file: WhatsApp Chat with Richard Chikwanha Edoofa (25_10) SZ 2025.txt\n",
      "2023-12-05 17:49:58,226 - DEBUG - Row appended for chat file: WhatsApp Chat with Ruvimbo_Edoofa(27_11)HP.txt\n",
      "2023-12-05 17:49:58,625 - DEBUG - Row appended for chat file: WhatsApp Chat with Ryan_CM01(16_11)HP.txt\n",
      "2023-12-05 17:49:59,170 - DEBUG - Row appended for chat file: WhatsApp Chat with Ryan_Edoofa(19_10)HP.txt\n",
      "2023-12-05 17:49:59,734 - DEBUG - Row appended for chat file: WhatsApp Chat with Samuel_DM01(15_11)HP.txt\n",
      "2023-12-05 17:50:00,242 - DEBUG - Row appended for chat file: WhatsApp Chat with Sandra_Edoofa(07_11)HP.txt\n",
      "2023-12-05 17:50:00,687 - DEBUG - Row appended for chat file: WhatsApp Chat with Scotch Renaissance R Edoofa (20_11) SZ.txt\n",
      "2023-12-05 17:50:01,219 - DEBUG - Row appended for chat file: WhatsApp Chat with Shamiso Chamusingarevi Edoofa (25_10) SZ.txt\n",
      "2023-12-05 17:50:01,676 - DEBUG - Row appended for chat file: WhatsApp Chat with Shamma Malilwe Edoofa (22_11) SZ.txt\n",
      "2023-12-05 17:50:02,109 - DEBUG - Row appended for chat file: WhatsApp Chat with Sharmaine_Edoofa(27_11)HP.txt\n",
      "2023-12-05 17:50:02,588 - DEBUG - Row appended for chat file: WhatsApp Chat with Sijamali Michelo Edoofa (22_11) SZ.txt\n",
      "2023-12-05 17:50:03,022 - DEBUG - Row appended for chat file: WhatsApp Chat with Spiwe_EA(31_10)HP.txt\n",
      "2023-12-05 17:50:03,538 - DEBUG - Row appended for chat file: WhatsApp Chat with Stacey Rurayi Nyakabau Edoofa (14_11) SZ 2025.txt\n",
      "2023-12-05 17:50:04,045 - DEBUG - Row appended for chat file: WhatsApp Chat with Tadiwanashe Murandu Edoofa (30_10) SZ.txt\n",
      "2023-12-05 17:50:04,462 - DEBUG - Row appended for chat file: WhatsApp Chat with Tadiwanashe_Edoofa(27_11)HP.txt\n",
      "2023-12-05 17:50:04,906 - DEBUG - Row appended for chat file: WhatsApp Chat with Takudzwa_Edoofa(08_11)HP.txt\n",
      "2023-12-05 17:50:05,313 - DEBUG - Row appended for chat file: WhatsApp Chat with Takudzwa_Edoofa(15_11)HP.txt\n",
      "2023-12-05 17:50:05,781 - DEBUG - Row appended for chat file: WhatsApp Chat with Takunda_Edoofa(23_10)HP.txt\n",
      "2023-12-05 17:50:06,124 - DEBUG - Row appended for chat file: WhatsApp Chat with Tamara_DM02(27_11)HP.txt\n",
      "2023-12-05 17:50:06,500 - DEBUG - Row appended for chat file: WhatsApp Chat with Tanatswa_Edoofa(22_11)HP.txt\n",
      "2023-12-05 17:50:06,919 - DEBUG - Row appended for chat file: WhatsApp Chat with Tanil Rudo Handiseni Edoofa (01_11) SZ 2025.txt\n",
      "2023-12-05 17:50:07,407 - DEBUG - Row appended for chat file: WhatsApp Chat with Tanyaradzwa_Edoofa(03_11)HP.txt\n",
      "2023-12-05 17:50:07,844 - DEBUG - Row appended for chat file: WhatsApp Chat with Tanyaradzwa_Edoofa(15_11)HP.txt\n",
      "2023-12-05 17:50:08,272 - DEBUG - Row appended for chat file: WhatsApp Chat with Tatenda_DM01(15_11)HP.txt\n",
      "2023-12-05 17:50:08,714 - DEBUG - Row appended for chat file: WhatsApp Chat with Tatiana Ruvimbo Kapungu Edoofa (25_10) SZ.txt\n",
      "2023-12-05 17:50:09,124 - DEBUG - Row appended for chat file: WhatsApp Chat with Tawanda Ronald Makope Edoofa (14_11) SZ 2025.txt\n",
      "2023-12-05 17:50:09,643 - DEBUG - Row appended for chat file: WhatsApp Chat with Tawanda_Edoofa(17_11)HP.txt\n",
      "2023-12-05 17:50:10,032 - DEBUG - Row appended for chat file: WhatsApp Chat with Tinodaishe_Edoofa(07_11)HP.txt\n",
      "2023-12-05 17:50:10,438 - DEBUG - Row appended for chat file: WhatsApp Chat with Tinotenda_Edoofa(23_10)HP.txt\n",
      "2023-12-05 17:50:10,858 - DEBUG - Row appended for chat file: WhatsApp Chat with Tinotenda_Edoofa(27_11)HP.txt\n",
      "2023-12-05 17:50:11,282 - DEBUG - Row appended for chat file: WhatsApp Chat with Trish Tanaka Chirenje Edoofa (02_11) SZ 2025.txt\n",
      "2023-12-05 17:50:11,765 - DEBUG - Row appended for chat file: WhatsApp Chat with Utsiwegota Carl Nashe Edoofa (06_11) SZ 2025.txt\n",
      "2023-12-05 17:50:12,077 - DEBUG - Row appended for chat file: WhatsApp Chat with Wilma Makaza EDOOFA(15_11)SR.txt\n",
      "2023-12-05 17:50:12,531 - DEBUG - Row appended for chat file: WhatsApp Chat with Winslet_Edoofa(15_11)HP.txt\n",
      "2023-12-05 17:50:12,907 - DEBUG - Row appended for chat file: WhatsApp Chat with Yolandah Sithole Edoofa(26_10)SR 2025.txt\n",
      "2023-12-05 17:50:13,282 - DEBUG - Row appended for chat file: WhatsApp Chat with Zanele_Edoofa(15_11)HP.txt\n",
      "2023-12-05 17:50:13,656 - DEBUG - Row appended for chat file: WhatsApp Chat with Zhylani_Edoofa(22_11)HP.txt\n",
      "2023-12-05 17:50:13,938 - DEBUG - Row appended for chat file: WhatsApp Chat with Auther Munhamo Edoofa (30_11) SZ.txt\n",
      "2023-12-05 17:50:14,265 - DEBUG - Row appended for chat file: WhatsApp Chat with Bella Mutema Edoofa (30_11) SZ.txt\n",
      "2023-12-05 17:50:14,655 - DEBUG - Row appended for chat file: WhatsApp Chat with Blessing Mbewe Edoofa (24_11) SZ.txt\n",
      "2023-12-05 17:50:15,238 - DEBUG - Row appended for chat file: WhatsApp Chat with Blessing Takunnda Machele Edoofa (15_11) SZ.txt\n",
      "2023-12-05 17:50:15,650 - DEBUG - Row appended for chat file: WhatsApp Chat with Brian Maxwell Mudiwa Edoofa (28_11) SZ.txt\n",
      "2023-12-05 17:50:16,043 - DEBUG - Row appended for chat file: WhatsApp Chat with Byron Mujuru Edoofa (29_11) SZ.txt\n",
      "2023-12-05 17:50:16,566 - DEBUG - Row appended for chat file: WhatsApp Chat with Chakaodza Nokutenda Edoofa (29_11) SZ.txt\n",
      "2023-12-05 17:50:16,867 - DEBUG - Row appended for chat file: WhatsApp Chat with Chamwauraa Piet Edoofa (29_11) SZ.txt\n",
      "2023-12-05 17:50:17,155 - DEBUG - Row appended for chat file: WhatsApp Chat with Charlene Marakata Edoofa (28_11) SZ.txt\n"
     ]
    },
    {
     "name": "stderr",
     "output_type": "stream",
     "text": [
      "2023-12-05 17:50:17,594 - DEBUG - Row appended for chat file: WhatsApp Chat with Chipo Chidakwa Edoofa (24_11) SZ.txt\n",
      "2023-12-05 17:50:18,000 - DEBUG - Row appended for chat file: WhatsApp Chat with Dandanyika Tawananyasha Edoofa (10_11) SZ.txt\n"
     ]
    },
    {
     "name": "stdout",
     "output_type": "stream",
     "text": [
      "ENTER THE LOOP:               datetime            sender  \\\n",
      "135 2023-12-04 14:08:00  +263 71 770 7634   \n",
      "136 2023-12-04 14:11:00  +263 71 770 7634   \n",
      "\n",
      "                                               message  \n",
      "135  Hello Sir.... How is your day... Sorry for the...  \n",
      "136  Ahh. Pertaining this matter sir... I think if ...  \n"
     ]
    },
    {
     "name": "stderr",
     "output_type": "stream",
     "text": [
      "2023-12-05 17:50:18,542 - DEBUG - Row appended for chat file: WhatsApp Chat with Dennis Nkomo Edoofa (14_11) SZ.txt\n",
      "2023-12-05 17:50:18,939 - DEBUG - Row appended for chat file: WhatsApp Chat with Divine Siyakurima Edoofa (22_11) SZ.txt\n",
      "2023-12-05 17:50:19,252 - DEBUG - Row appended for chat file: WhatsApp Chat with Dzenga Eulith Edoofa (01_12) SZ.txt\n",
      "2023-12-05 17:50:19,576 - DEBUG - Row appended for chat file: WhatsApp Chat with Evans Mele Edoofa (28_11) SZ.txt\n",
      "2023-12-05 17:50:19,931 - DEBUG - Row appended for chat file: WhatsApp Chat with Faith Hove Edoofa (04_12) SZ.txt\n",
      "2023-12-05 17:50:20,327 - DEBUG - Row appended for chat file: WhatsApp Chat with Hamilton Chikunda Edoofa (15_11) SZ.txt\n",
      "2023-12-05 17:50:20,608 - DEBUG - Row appended for chat file: WhatsApp Chat with Isheunesu M Shanganya Edoofa (29_11) SZ.txt\n",
      "2023-12-05 17:50:20,954 - DEBUG - Row appended for chat file: WhatsApp Chat with Iwazilwenkosi Mabula Edoofa (23_11) SZ.txt\n",
      "2023-12-05 17:50:21,219 - DEBUG - Row appended for chat file: WhatsApp Chat with Jaya Kudakwashe E Edoofa (04_12) SZ.txt\n",
      "2023-12-05 17:50:21,530 - DEBUG - Row appended for chat file: WhatsApp Chat with Joshua Tatenda Chipindu Edoofa (22_11) SZ.txt\n",
      "2023-12-05 17:50:21,860 - DEBUG - Row appended for chat file: WhatsApp Chat with Junior Takawira Edoofa (14_11) SZ.txt\n",
      "2023-12-05 17:50:22,172 - DEBUG - Row appended for chat file: WhatsApp Chat with Kambale Obright Edoofa (04_12) SZ.txt\n",
      "2023-12-05 17:50:22,453 - DEBUG - Row appended for chat file: WhatsApp Chat with Kamil Charuma Edoofa (04_12) SZ.txt\n",
      "2023-12-05 17:50:22,797 - DEBUG - Row appended for chat file: WhatsApp Chat with Kay Mudzingwa Edoofa (09_11) SZ.txt\n",
      "2023-12-05 17:50:23,079 - DEBUG - Row appended for chat file: WhatsApp Chat with Kelly Munashe Dhlakama Edoofa (01_12) SZ.txt\n",
      "2023-12-05 17:50:23,483 - DEBUG - Row appended for chat file: WhatsApp Chat with Kelvin Manzungu Edoofa (10_10) SZ.txt\n",
      "2023-12-05 17:50:23,888 - DEBUG - Row appended for chat file: WhatsApp Chat with Kimberly Magombedze Edoofa (03_11) SZ.txt\n",
      "2023-12-05 17:50:24,178 - DEBUG - Row appended for chat file: WhatsApp Chat with Kunashe Joel Munyoro Edoofa (30_11) SZ.txt\n",
      "2023-12-05 17:50:24,522 - DEBUG - Row appended for chat file: WhatsApp Chat with Kundai Matiza Edoofa (06_11) SZ.txt\n",
      "2023-12-05 17:50:24,855 - DEBUG - Row appended for chat file: WhatsApp Chat with Leon Makanya Edoofa (28_11) SZ.txt\n",
      "2023-12-05 17:50:25,205 - DEBUG - Row appended for chat file: WhatsApp Chat with Mapfumo Tinotenda Edoofa (10_11) SZ.txt\n",
      "2023-12-05 17:50:25,605 - DEBUG - Row appended for chat file: WhatsApp Chat with Maposa Tafadzwa Edoofa (20_11) SZ.txt\n",
      "2023-12-05 17:50:25,955 - DEBUG - Row appended for chat file: WhatsApp Chat with Maruza Karen P N Edoofa (01_12) SZ.txt\n",
      "2023-12-05 17:50:26,300 - DEBUG - Row appended for chat file: WhatsApp Chat with Masamba Salisha C Edoofa (04_12) SZ.txt\n",
      "2023-12-05 17:50:26,610 - DEBUG - Row appended for chat file: WhatsApp Chat with Mashavave Ngonidzashe M Edoofa (01_12) SZ.txt\n",
      "2023-12-05 17:50:26,897 - DEBUG - Row appended for chat file: WhatsApp Chat with Mashonganyika Kimberly Edoofa (29_11) SZ.txt\n",
      "2023-12-05 17:50:27,224 - DEBUG - Row appended for chat file: WhatsApp Chat with Masvikeni Ange_lique C V Edoofa (21_11) SZ.txt\n",
      "2023-12-05 17:50:27,485 - DEBUG - Row appended for chat file: WhatsApp Chat with Matangwa Tariro Shawn Edoofa (01_12) SZ.txt\n",
      "2023-12-05 17:50:27,826 - DEBUG - Row appended for chat file: WhatsApp Chat with Merjury Taremba Edoofa (14_11) SZ.txt\n",
      "2023-12-05 17:50:28,093 - DEBUG - Row appended for chat file: WhatsApp Chat with Mickely Pombi Edoofa (28_11) SZ.txt\n",
      "2023-12-05 17:50:28,407 - DEBUG - Row appended for chat file: WhatsApp Chat with Misheck Mutunami Edoofa (18_11) SZ.txt\n",
      "2023-12-05 17:50:28,750 - DEBUG - Row appended for chat file: WhatsApp Chat with Mishel Tadiwa Diwura Edoofa (16_11) SZ.txt\n",
      "2023-12-05 17:50:29,031 - DEBUG - Row appended for chat file: WhatsApp Chat with Mitchell Mbiri Edoofa (28_11) SZ.txt\n",
      "2023-12-05 17:50:29,298 - DEBUG - Row appended for chat file: WhatsApp Chat with Mufaro Tembo Edoofa (04_12) SZ.txt\n",
      "2023-12-05 17:50:29,687 - DEBUG - Row appended for chat file: WhatsApp Chat with Mukangaya Kudzai C Edoofa (09_10) SZ.txt\n",
      "2023-12-05 17:50:30,140 - DEBUG - Row appended for chat file: WhatsApp Chat with Murire Eve Edoofa (17_10) SZ.txt\n",
      "2023-12-05 17:50:30,437 - DEBUG - Row appended for chat file: WhatsApp Chat with Musasira Rutendo Edoofa (29_11) SZ.txt\n",
      "2023-12-05 17:50:30,797 - DEBUG - Row appended for chat file: WhatsApp Chat with Mushayavanhu Tapiwanashe SM Edoofa (21_11) SZ.txt\n",
      "2023-12-05 17:50:31,234 - DEBUG - Row appended for chat file: WhatsApp Chat with Mutabeya Lyn Edoofa (28_11) SZ.txt\n",
      "2023-12-05 17:50:31,688 - DEBUG - Row appended for chat file: WhatsApp Chat with Naume Sabiti Edoofa (06_11) SZ.txt\n",
      "2023-12-05 17:50:32,075 - DEBUG - Row appended for chat file: WhatsApp Chat with Ncube Violet Edoofa (29_11) SZ.txt\n",
      "2023-12-05 17:50:32,421 - DEBUG - Row appended for chat file: WhatsApp Chat with Ndowora Salome T Edoofa (21_11) SZ.txt\n",
      "2023-12-05 17:50:32,665 - DEBUG - Row appended for chat file: WhatsApp Chat with Nesbert Edoofa (04_12) SZ.txt\n",
      "2023-12-05 17:50:32,953 - DEBUG - Row appended for chat file: WhatsApp Chat with Njanji Ruvarashe S Edoofa (28_11) SZ.txt\n",
      "2023-12-05 17:50:33,195 - DEBUG - Row appended for chat file: WhatsApp Chat with Nyasha Mukaka Edoofa (01_12) SZ.txt\n",
      "2023-12-05 17:50:33,554 - DEBUG - Row appended for chat file: WhatsApp Chat with Nyashadzashe Muvirimi B Edoofa (27_11) SZ.txt\n",
      "2023-12-05 17:50:33,827 - DEBUG - Row appended for chat file: WhatsApp Chat with Panashe Chideme Edoofa (04_12) SZ.txt\n",
      "2023-12-05 17:50:34,134 - DEBUG - Row appended for chat file: WhatsApp Chat with Panashe Mumvuma Edoofa (30_11) SZ.txt\n",
      "2023-12-05 17:50:34,499 - DEBUG - Row appended for chat file: WhatsApp Chat with Ritah Langa Kawimbe Edoofa (22_11) SZ.txt\n",
      "2023-12-05 17:50:34,811 - DEBUG - Row appended for chat file: WhatsApp Chat with Rumbidzai Susan Joseph Edoofa (30_11) SZ.txt\n",
      "2023-12-05 17:50:35,189 - DEBUG - Row appended for chat file: WhatsApp Chat with Shalom Chatsauka Edoofa (24_11) SZ.txt\n",
      "2023-12-05 17:50:35,515 - DEBUG - Row appended for chat file: WhatsApp Chat with Shalome Mwachikopa Edoofa (29_11) SZ.txt\n",
      "2023-12-05 17:50:35,958 - DEBUG - Row appended for chat file: WhatsApp Chat with Shantel Tinaye Mahachi Edoofa (22_11) SZ.txt\n",
      "2023-12-05 17:50:36,356 - DEBUG - Row appended for chat file: WhatsApp Chat with Sibanda Ruvarashe Edoofa (24_11) SZ.txt\n",
      "2023-12-05 17:50:36,689 - DEBUG - Row appended for chat file: WhatsApp Chat with Silindokuhle Malinga Edoofa (04_12) SZ.txt\n",
      "2023-12-05 17:50:37,039 - DEBUG - Row appended for chat file: WhatsApp Chat with Simbarashe T. Mujuru Edoofa (24_11) SZ.txt\n"
     ]
    },
    {
     "name": "stdout",
     "output_type": "stream",
     "text": [
      "ENTER THE LOOP:               datetime           sender message\n",
      "146 2023-12-04 18:14:00  +260 95 0013302   Hello\n"
     ]
    },
    {
     "name": "stderr",
     "output_type": "stream",
     "text": [
      "2023-12-05 17:50:37,431 - DEBUG - Row appended for chat file: WhatsApp Chat with Simpasa Remmy Edoofa (20_11) SZ.txt\n",
      "2023-12-05 17:50:37,828 - DEBUG - Row appended for chat file: WhatsApp Chat with Tafara Mukucha Edoofa (23_11) SZ.txt\n",
      "2023-12-05 17:50:38,153 - DEBUG - Row appended for chat file: WhatsApp Chat with Tafara Tirivashe Rukovo Edoofa (28_11) SZ.txt\n",
      "2023-12-05 17:50:38,499 - DEBUG - Row appended for chat file: WhatsApp Chat with Takudzwa Chari Edoofa (27_11) SZ.txt\n",
      "2023-12-05 17:50:38,889 - DEBUG - Row appended for chat file: WhatsApp Chat with Takudzwa Chinyama Edoofa (22_11) SZ.txt\n",
      "2023-12-05 17:50:39,264 - DEBUG - Row appended for chat file: WhatsApp Chat with Takunda Samantha Tinarwo Edoofa (18_11) SZ.txt\n",
      "2023-12-05 17:50:39,547 - DEBUG - Row appended for chat file: WhatsApp Chat with Tarutira Anopaishe Edoofa (28_11) SZ.txt\n",
      "2023-12-05 17:50:39,844 - DEBUG - Row appended for chat file: WhatsApp Chat with Tashinga Muvirimi Edoofa (29_11) SZ.txt\n",
      "2023-12-05 17:50:40,255 - DEBUG - Row appended for chat file: WhatsApp Chat with Trish Lillian Nyamutsita Edoofa (30_11) SZ.txt\n",
      "2023-12-05 17:50:40,605 - DEBUG - Row appended for chat file: WhatsApp Chat with Tsungi Nyasha Mushapaidze Edoofa (27_11) SZ.txt\n",
      "2023-12-05 17:50:40,940 - DEBUG - Row appended for chat file: WhatsApp Chat with Ulaswebo Munsaka Edoofa (23_11) SZ.txt\n",
      "2023-12-05 17:50:41,421 - DEBUG - Row appended for chat file: WhatsApp Chat with Urshler Mutevhani Edoofa (22_11) SZ.txt\n",
      "2023-12-05 17:50:41,750 - DEBUG - Row appended for chat file: WhatsApp Chat with Valentine Ndlovu Edoofa (04_12) SZ.txt\n",
      "2023-12-05 17:50:42,124 - DEBUG - Row appended for chat file: WhatsApp Chat with Vanessa Bhebhe Edoofa (01_11) SZ.txt\n",
      "2023-12-05 17:50:42,422 - DEBUG - Row appended for chat file: WhatsApp Chat with Venula Chadiwa Edoofa (28_11) SZ.txt\n",
      "2023-12-05 17:50:42,797 - DEBUG - Row appended for chat file: WhatsApp Chat with Vimbiso P. Dzvimbo Edoofa (23_10) SZ.txt\n",
      "2023-12-05 17:50:43,235 - DEBUG - Row appended for chat file: WhatsApp Chat with Adelaide Ndlovu_EDOOFA(16_11)SM23.txt\n",
      "2023-12-05 17:50:43,652 - DEBUG - Row appended for chat file: WhatsApp Chat with Amanda Chidzoba_EDOOFAFFA(22_11)SM23.txt\n",
      "2023-12-05 17:50:44,046 - DEBUG - Row appended for chat file: WhatsApp Chat with Ashleigh Dumba_EDOOFA(20_11)GS.txt\n",
      "2023-12-05 17:50:44,470 - DEBUG - Row appended for chat file: WhatsApp Chat with Bongozozo Rutendo_EDOOFALHS(09_11)SM23.txt\n",
      "2023-12-05 17:50:44,926 - DEBUG - Row appended for chat file: WhatsApp Chat with Bradley Welae_EDOOFA(24_11)GS.txt\n",
      "2023-12-05 17:50:45,283 - DEBUG - Row appended for chat file: WhatsApp Chat with Chantell Zvenyika_EDOOFA(22_11)SM23.txt\n",
      "2023-12-05 17:50:45,704 - DEBUG - Row appended for chat file: WhatsApp Chat with Chantelle Garaba_Edoofa(16_10)SM.txt\n",
      "2023-12-05 17:50:46,027 - DEBUG - Row appended for chat file: WhatsApp Chat with Charmaine Konsati_EDOOFA(17_11)SM23.txt\n",
      "2023-12-05 17:50:46,391 - DEBUG - Row appended for chat file: WhatsApp Chat with Chibuwe Bradley_EA(02_11)TR.txt\n",
      "2023-12-05 17:50:46,734 - DEBUG - Row appended for chat file: WhatsApp Chat with CHOOKA CHOOKA_EDOOFA(24_11)GS.txt\n",
      "2023-12-05 17:50:47,161 - DEBUG - Row appended for chat file: WhatsApp Chat with Delane Marawa_EDOOFA(01_12)SM23.txt\n",
      "2023-12-05 17:50:47,706 - DEBUG - Row appended for chat file: WhatsApp Chat with Fadzai Chirombe_EA(17_11)TR.txt\n",
      "2023-12-05 17:50:48,084 - DEBUG - Row appended for chat file: WhatsApp Chat with Fredannan Zinyakatira_EDOOFA(04_12)SM23.txt\n"
     ]
    },
    {
     "name": "stdout",
     "output_type": "stream",
     "text": [
      "ENTER THE LOOP:               datetime            sender  \\\n",
      "368 2023-12-04 14:30:00  +263 77 996 0030   \n",
      "369 2023-12-04 14:37:00  +263 77 996 0030   \n",
      "\n",
      "                                               message  \n",
      "368  Good afternoon Sir Shubham,Ma'am Tushti and th...  \n",
      "369  It's Glory I think I will be available for the...  \n"
     ]
    },
    {
     "name": "stderr",
     "output_type": "stream",
     "text": [
      "2023-12-05 17:50:48,612 - DEBUG - Row appended for chat file: WhatsApp Chat with GLORY BHUNU_EA(18_10)TR.txt\n",
      "2023-12-05 17:50:49,031 - DEBUG - Row appended for chat file: WhatsApp Chat with Gomba R_EDOOFA(29_11)GS.txt\n",
      "2023-12-05 17:50:49,406 - DEBUG - Row appended for chat file: WhatsApp Chat with Gumbo Prosper_EA(17_11)TR.txt\n",
      "2023-12-05 17:50:49,796 - DEBUG - Row appended for chat file: WhatsApp Chat with Hillary Muneriro_EDOOFA(17_11)SM23.txt\n",
      "2023-12-05 17:50:50,206 - DEBUG - Row appended for chat file: WhatsApp Chat with Isheunesu Murandu_EDOOFAMHS(17_11)TR.txt\n",
      "2023-12-05 17:50:50,686 - DEBUG - Row appended for chat file: WhatsApp Chat with Jephtah Masikati_EDOOFA(23_11)GS.txt\n",
      "2023-12-05 17:50:50,991 - DEBUG - Row appended for chat file: WhatsApp Chat with Kholwani Sibanda_EDOOFA(04_12)SM23.txt\n",
      "2023-12-05 17:50:51,403 - DEBUG - Row appended for chat file: WhatsApp Chat with Khumbulani Mundeta_EDOOFACHS(09_11)TR.txt\n",
      "2023-12-05 17:50:51,849 - DEBUG - Row appended for chat file: WhatsApp Chat with Kudzai Ndongwe_EDOOFA(20_11)SM23.txt\n",
      "2023-12-05 17:50:52,266 - DEBUG - Row appended for chat file: WhatsApp Chat with Kundai Nyamhanza_EDOOFA(14_11)SM23.txt\n",
      "2023-12-05 17:50:52,776 - DEBUG - Row appended for chat file: WhatsApp Chat with Kuziva Mtisi_EDOOFA(07_11)SM23.txt\n",
      "2023-12-05 17:50:53,202 - DEBUG - Row appended for chat file: WhatsApp Chat with Leah_Edoofa(10_05)SM.txt\n",
      "2023-12-05 17:50:53,610 - DEBUG - Row appended for chat file: WhatsApp Chat with Lenon Marange_EA(16_11)TR.txt\n",
      "2023-12-05 17:50:54,058 - DEBUG - Row appended for chat file: WhatsApp Chat with Leon_EDOOFAFFCA(18_09)SM.txt\n",
      "2023-12-05 17:50:54,544 - DEBUG - Row appended for chat file: WhatsApp Chat with Lizbertin Mpofu_EDOOFA(16_11)SM23.txt\n",
      "2023-12-05 17:50:54,990 - DEBUG - Row appended for chat file: WhatsApp Chat with Lydia Mukumba_EDOOFA(23_11)GS.txt\n",
      "2023-12-05 17:50:55,386 - DEBUG - Row appended for chat file: WhatsApp Chat with Madzima Blessing_EDOOFA(24_11)GS.txt\n",
      "2023-12-05 17:50:55,812 - DEBUG - Row appended for chat file: WhatsApp Chat with Makhosi Moyo_EDOOFA(20_11)GS.txt\n",
      "2023-12-05 17:50:56,205 - DEBUG - Row appended for chat file: WhatsApp Chat with Malebogo Zulu_EDOOFA(14_11)SM23.txt\n",
      "2023-12-05 17:50:56,673 - DEBUG - Row appended for chat file: WhatsApp Chat with Malunga Daniel_EDOOFA(23_11)GS.txt\n",
      "2023-12-05 17:50:57,219 - DEBUG - Row appended for chat file: WhatsApp Chat with Manhamo Tanak_EDOOFA(24_11)GS.txt\n",
      "2023-12-05 17:50:57,588 - DEBUG - Row appended for chat file: WhatsApp Chat with Margaret Matandirotya_EDOOFA(22_11)SM23.txt\n",
      "2023-12-05 17:50:58,038 - DEBUG - Row appended for chat file: WhatsApp Chat with MARGARETH_BRIGHT_EDOOFACHS(09_11)TR.txt\n",
      "2023-12-05 17:50:58,425 - DEBUG - Row appended for chat file: WhatsApp Chat with Melissa Masora_EDOOFA(29_11)GS.txt\n",
      "2023-12-05 17:50:58,839 - DEBUG - Row appended for chat file: WhatsApp Chat with Michel Songano_EDOOFA(24_11)GS.txt\n",
      "2023-12-05 17:50:59,265 - DEBUG - Row appended for chat file: WhatsApp Chat with Midzi Ancilla_EDOOFA(25_11)GS.txt\n",
      "2023-12-05 17:50:59,723 - DEBUG - Row appended for chat file: WhatsApp Chat with Mufaro Simon_EDOOFA(18_11)GS.txt\n",
      "2023-12-05 17:51:00,062 - DEBUG - Row appended for chat file: WhatsApp Chat with Munashe Kayenda_EDOOFA(01_12)SM23.txt\n",
      "2023-12-05 17:51:00,516 - DEBUG - Row appended for chat file: WhatsApp Chat with Munyanyiwa Nercia_EA(17_11)TR.txt\n",
      "2023-12-05 17:51:00,926 - DEBUG - Row appended for chat file: WhatsApp Chat with Musiyiwa wepions_EA(16_11)TR.txt\n",
      "2023-12-05 17:51:01,353 - DEBUG - Row appended for chat file: WhatsApp Chat with MUTEMA_MUNASHE_EDOOFA(22_11)GS.txt\n",
      "2023-12-05 17:51:01,770 - DEBUG - Row appended for chat file: WhatsApp Chat with Mutsawashe Anhise_EDOOFA(14_11)SM23.txt\n",
      "2023-12-05 17:51:02,206 - DEBUG - Row appended for chat file: WhatsApp Chat with Mutsawashe Makanya_EDOOFA(24_11)GS.txt\n",
      "2023-12-05 17:51:02,641 - DEBUG - Row appended for chat file: WhatsApp Chat with Natalie_EDOOFA(01_11)SM23.txt\n",
      "2023-12-05 17:51:03,125 - DEBUG - Row appended for chat file: WhatsApp Chat with Nenyasha Munzararikwa_EDOOFA(24_11)GS.txt\n",
      "2023-12-05 17:51:03,581 - DEBUG - Row appended for chat file: WhatsApp Chat with Nesisa Mpofu_EDOOFA(17_11)SM23.txt\n",
      "2023-12-05 17:51:03,985 - DEBUG - Row appended for chat file: WhatsApp Chat with Nigel Chiora_EDOOFA(16_11)SM23.txt\n",
      "2023-12-05 17:51:04,344 - DEBUG - Row appended for chat file: WhatsApp Chat with Nigel Marowa_EDOOFA(01_12)SM23.txt\n",
      "2023-12-05 17:51:04,787 - DEBUG - Row appended for chat file: WhatsApp Chat with Praise Mutema_EDOOFA(23_11)GS.txt\n",
      "2023-12-05 17:51:05,219 - DEBUG - Row appended for chat file: WhatsApp Chat with Quinton Mudzi_Edoofa(16_11)SM23.txt\n",
      "2023-12-05 17:51:05,499 - DEBUG - Row appended for chat file: WhatsApp Chat with Ropafadzo Khosah_EDOOFA(01_12)SM23.txt\n",
      "2023-12-05 17:51:05,780 - DEBUG - Row appended for chat file: WhatsApp Chat with Rufaro Mukasa_EDOOFA(04_12)SM23.txt\n",
      "2023-12-05 17:51:06,125 - DEBUG - Row appended for chat file: WhatsApp Chat with Runyararo Muchabaiwa_EDOOFA(29_11)GS.txt\n",
      "2023-12-05 17:51:06,540 - DEBUG - Row appended for chat file: WhatsApp Chat with Rutendo Chitate_EDOOFA(30_10)SM23.txt\n",
      "2023-12-05 17:51:06,875 - DEBUG - Row appended for chat file: WhatsApp Chat with Shallom Chimhowa_EDOOFA(20_11)SM23.txt\n"
     ]
    },
    {
     "name": "stdout",
     "output_type": "stream",
     "text": [
      "ENTER THE LOOP:               datetime            sender           message\n",
      "399 2023-12-04 11:15:00  +263 77 295 0153           Morning\n",
      "400 2023-12-04 11:15:00  +263 77 295 0153  Any lesson today\n"
     ]
    },
    {
     "name": "stderr",
     "output_type": "stream",
     "text": [
      "2023-12-05 17:51:07,293 - DEBUG - Row appended for chat file: WhatsApp Chat with Sharmaine Tsiga_EA(14_10)TR.txt\n",
      "2023-12-05 17:51:07,672 - DEBUG - Row appended for chat file: WhatsApp Chat with Shindi Samuel_EA(21_11)TR.txt\n"
     ]
    },
    {
     "name": "stdout",
     "output_type": "stream",
     "text": [
      "ENTER THE LOOP:               datetime            sender  \\\n",
      "393 2023-12-04 17:41:00  +263 77 864 0240   \n",
      "\n",
      "                                         message  \n",
      "393  Good evening sir ,these days you are quiet.  \n"
     ]
    },
    {
     "name": "stderr",
     "output_type": "stream",
     "text": [
      "2023-12-05 17:51:08,110 - DEBUG - Row appended for chat file: WhatsApp Chat with Shingirai Vunganai_EA(16_11)TR.txt\n",
      "2023-12-05 17:51:08,515 - DEBUG - Row appended for chat file: WhatsApp Chat with Sigireta Tariro_EDOOFA(22_11)GS.txt\n",
      "2023-12-05 17:51:08,844 - DEBUG - Row appended for chat file: WhatsApp Chat with Simeon Wamedzwa_EDOOFA(16_11)SM23.txt\n",
      "2023-12-05 17:51:09,187 - DEBUG - Row appended for chat file: WhatsApp Chat with Stermon Malambo_EDOOFAZAMB(22_11)SM23.txt\n",
      "2023-12-05 17:51:09,586 - DEBUG - Row appended for chat file: WhatsApp Chat with Surprise Mavhunga_EDOOFA(23_11)GS.txt\n",
      "2023-12-05 17:51:09,953 - DEBUG - Row appended for chat file: WhatsApp Chat with TAFADZWA MUTINDI_EDOOFA(24_11)GS.txt\n"
     ]
    },
    {
     "name": "stdout",
     "output_type": "stream",
     "text": [
      "ENTER THE LOOP:               datetime            sender           message\n",
      "439 2023-12-04 17:32:00  +263 71 589 4957  Good day you all\n"
     ]
    },
    {
     "name": "stderr",
     "output_type": "stream",
     "text": [
      "2023-12-05 17:51:10,351 - DEBUG - Row appended for chat file: WhatsApp Chat with Takudzwa_EA(09_09)TR.txt\n",
      "2023-12-05 17:51:10,622 - DEBUG - Row appended for chat file: WhatsApp Chat with Tanatswa Muyambo_EDOOFA(04_12)SM23.txt\n",
      "2023-12-05 17:51:10,953 - DEBUG - Row appended for chat file: WhatsApp Chat with Tanyaradzwa Jiyah_EDOOFAMHS(17_11)TR.txt\n",
      "2023-12-05 17:51:11,235 - DEBUG - Row appended for chat file: WhatsApp Chat with Tatenda_Edoofa(17_08)SM.txt\n",
      "2023-12-05 17:51:11,676 - DEBUG - Row appended for chat file: WhatsApp Chat with Tendai Chiza_EDOOFA(18_10)SM23.txt\n",
      "2023-12-05 17:51:12,015 - DEBUG - Row appended for chat file: WhatsApp Chat with TENDEKAI MUMANYI_EA(30_10)TR.txt\n",
      "2023-12-05 17:51:12,281 - DEBUG - Row appended for chat file: WhatsApp Chat with Thandeka Sigauke_EDOOFA(20_11)SM23.txt\n",
      "2023-12-05 17:51:12,547 - DEBUG - Row appended for chat file: WhatsApp Chat with Tinotenda Mandishora_EDOOFA(01_12)SM23.txt\n",
      "2023-12-05 17:51:12,906 - DEBUG - Row appended for chat file: WhatsApp Chat with Tinotenda_EDOOFAAHA(26_10)SM.txt\n",
      "2023-12-05 17:51:13,251 - DEBUG - Row appended for chat file: WhatsApp Chat with Trevor Matende_EA(25_10)TR.txt\n",
      "2023-12-05 17:51:13,608 - DEBUG - Row appended for chat file: WhatsApp Chat with Trish Mukari_EA(15_11)TR.txt\n",
      "2023-12-05 17:51:13,860 - DEBUG - Row appended for chat file: WhatsApp Chat with Trynos Nemvura_EDOOFA(01_12)SM23.txt\n"
     ]
    },
    {
     "name": "stdout",
     "output_type": "stream",
     "text": [
      "ENTER THE LOOP:              datetime            sender  \\\n",
      "35 2023-12-04 20:44:00  +263 77 682 2706   \n",
      "\n",
      "                                              message  \n",
      "35  Hie how are you hope you are well , me I'm fin...  \n"
     ]
    },
    {
     "name": "stderr",
     "output_type": "stream",
     "text": [
      "2023-12-05 17:51:14,136 - DEBUG - Row appended for chat file: WhatsApp Chat with Mirirai Dendera_EA(08_11)TR.txt\n"
     ]
    }
   ],
   "source": [
    "import os\n",
    "import pandas as pd\n",
    "import re\n",
    "from datetime import datetime, timedelta\n",
    "import logging\n",
    "from datetime import timedelta\n",
    "\n",
    "# Configure logging\n",
    "logging.basicConfig(level=logging.DEBUG, format='%(asctime)s - %(levelname)s - %(message)s')\n",
    "# Set of processed chats to ensure each chat is analyzed only once\n",
    "processed_chats = set()\n",
    "\n",
    "# Function to process a single line of chat\n",
    "def process_line(line):\n",
    "    pattern = r'(\\d{2}/\\d{2}/\\d{2}), (\\d{1,2}:\\d{2}\\s?[APMapm]{2}) - (.*?): (.*)'\n",
    "    match = re.match(pattern, line)\n",
    "    if match:\n",
    "        date_str, time_str, sender, message = match.groups()\n",
    "        date = datetime.strptime(date_str, '%d/%m/%y')\n",
    "        time = datetime.strptime(time_str, '%I:%M %p').strftime('%H:%M')\n",
    "        return {'date': date, 'time': time, 'sender': sender, 'message': message}\n",
    "    else:\n",
    "        return None\n",
    "\n",
    "def process_line_for_delay(line):\n",
    "    pattern = r'(\\d{2}/\\d{2}/\\d{2}), (\\d{1,2}:\\d{2}\\s?[APMapm]{2}) - (.*?): (.*)'\n",
    "    match = re.match(pattern, line)\n",
    "    if match:\n",
    "        date_str, time_str, sender, message = match.groups()\n",
    "        datetime_str = date_str + ' ' + time_str\n",
    "        datetime_obj = datetime.strptime(datetime_str, '%d/%m/%y %I:%M %p')\n",
    "        return {'datetime': datetime_obj, 'sender': sender, 'message': message}\n",
    "    else:\n",
    "        return None\n",
    "\n",
    "# Function to read the chat file specifically for delay calculation\n",
    "def read_chat_file_for_delay(file_path):\n",
    "    with open(file_path, 'r', encoding='utf-8') as file:\n",
    "        lines = file.readlines()\n",
    "\n",
    "    concatenated_lines = []\n",
    "    current_message = \"\"\n",
    "    date_pattern = re.compile(r'^\\d{2}/\\d{2}/\\d{2}, \\d{1,2}:\\d{2}\\s?[APMapm]{2} - ')\n",
    "\n",
    "    for line in lines:\n",
    "        if date_pattern.match(line):\n",
    "            if current_message:\n",
    "                concatenated_lines.append(current_message)\n",
    "            current_message = line.rstrip()\n",
    "        else:\n",
    "            # Append this line to the current message, if it's not empty\n",
    "            if current_message:\n",
    "                current_message += \" \" + line.strip()\n",
    "    if current_message:\n",
    "        concatenated_lines.append(current_message)\n",
    "\n",
    "    return pd.DataFrame([process_line_for_delay(line) for line in concatenated_lines if process_line_for_delay(line) is not None])\n",
    "\n",
    "# The process_line_for_delay function remains the same\n",
    "       \n",
    "    \n",
    "def calculate_time_spent_student(chat_df, target_date, employee_name):\n",
    "    student_messages = chat_df[(chat_df['date'].dt.date == target_date) & (chat_df['sender'] != employee_name)]\n",
    "    total_chars = student_messages['message'].str.len().sum()\n",
    "    time_spent_seconds = (total_chars / 10) * 5\n",
    "    return strfdelta(timedelta(seconds=time_spent_seconds)) \n",
    "\n",
    "def format_delay_time(seconds):\n",
    "    hours = seconds // 3600\n",
    "    minutes = (seconds % 3600) // 60\n",
    "    if hours > 0:\n",
    "        return f\"{hours} hr {minutes} mins\"\n",
    "    else:\n",
    "        return f\"{minutes} mins\"\n",
    "\n",
    "def calculate_employee_delay(chat_df, employee_name, target_date):\n",
    "    delays = []\n",
    "    delay_times = []\n",
    "    messages_for_reference = []\n",
    "\n",
    "    last_student_message_time = None\n",
    "    employee_responded_after_student = False\n",
    "\n",
    "    delay_counter = 1\n",
    "\n",
    "    for index, row in chat_df.iterrows():\n",
    "        # Ensure datetime is correctly formatted\n",
    "        row_date = row['datetime'].date()\n",
    "\n",
    "        if row_date != target_date:\n",
    "            continue\n",
    "\n",
    "        if row['sender'] != employee_name:\n",
    "            last_student_message_time = row['datetime']\n",
    "            employee_responded_after_student = False\n",
    "        elif row['sender'] == employee_name and last_student_message_time is not None and not employee_responded_after_student:\n",
    "            time_diff = row['datetime'] - last_student_message_time\n",
    "\n",
    "            if time_diff > timedelta(minutes=15):\n",
    "                formatted_time = row['datetime'].strftime('%d %b %Y %I:%M%p')\n",
    "                delays.append(f\"{delay_counter} - {formatted_time}\")\n",
    "                delay_counter += 1\n",
    "\n",
    "                delay_times.append(format_delay_time(time_diff.seconds))\n",
    "\n",
    "                start_index = max(0, index - 5)\n",
    "                end_index = min(index + 5, len(chat_df))\n",
    "                context_messages = chat_df.iloc[start_index:end_index]\n",
    "\n",
    "                formatted_context_messages = [f\"{idx+1} - {message_row['datetime'].strftime('%d %b %Y %I:%M%p')} - {message_row['sender']}: {message_row['message']}\" for idx, message_row in context_messages.iterrows()]\n",
    "                formatted_message = \"\\n\".join(formatted_context_messages)\n",
    "                messages_for_reference.append(formatted_message)\n",
    "\n",
    "            employee_responded_after_student = True\n",
    "\n",
    "    # Combine the lists into multiline strings\n",
    "    delays_str = \"\\n\".join(delays)\n",
    "    delay_times_str = \"\\n\".join(delay_times)\n",
    "    messages_for_reference_str = \"\\n\".join(messages_for_reference)\n",
    "\n",
    "    return delays_str, delay_times_str, messages_for_reference_str\n",
    "\n",
    "def is_broken_chat_student(chat_df, employee_name, target_date):\n",
    "    # Adjust for the previous day\n",
    "    previous_day = target_date - timedelta(days=1)\n",
    "\n",
    "    # Filter messages for the previous day\n",
    "    daily_messages = chat_df[chat_df['date'].dt.date == previous_day]\n",
    "\n",
    "    # Check if both the employee and the student had at least one text on that day\n",
    "    if daily_messages.empty:\n",
    "        return 'No'  # No conversation happened on this day\n",
    "\n",
    "    employee_messages = daily_messages[daily_messages['sender'] == employee_name]\n",
    "    student_messages = daily_messages[daily_messages['sender'] != employee_name]\n",
    "\n",
    "    # Check if both parties have sent at least one message\n",
    "    if employee_messages.empty or student_messages.empty:\n",
    "        return 'No'  # One of the parties did not send any message\n",
    "\n",
    "    # Check the sender of the last message of the day\n",
    "    last_message_sender = daily_messages.iloc[-1]['sender']\n",
    "\n",
    "    # If the last message is from the employee, it's a broken chat by the student\n",
    "    if last_message_sender == employee_name:\n",
    "        return 'Yes'\n",
    "\n",
    "    return 'No'\n",
    "    \n",
    "def count_missed_replies_student(chat_df, employee_name, report_date):\n",
    "    count = 0\n",
    "    for i in range(7):\n",
    "        check_date = report_date - timedelta(days=i)\n",
    "        messages_on_date = chat_df[chat_df['date'].dt.date == check_date]\n",
    "        employee_messages = messages_on_date[messages_on_date['sender'] == employee_name]\n",
    "        student_messages = messages_on_date[messages_on_date['sender'] != employee_name]\n",
    "        if employee_messages.empty and not student_messages.empty:\n",
    "            count += 1\n",
    "    return count\n",
    "\n",
    "def count_missed_replies_studentt(chat_df, employee_name, target_date):\n",
    "    previous_day = target_date - timedelta(days=1)\n",
    "    #print(f\"Checking for missed replies on: {previous_day}\")\n",
    "\n",
    "    daily_messages = chat_df[chat_df['date'].dt.date == previous_day]\n",
    "    \n",
    "    employee_messages = daily_messages[daily_messages['sender'] == employee_name]\n",
    "    student_messages = daily_messages[daily_messages['sender'] != employee_name]\n",
    "\n",
    "    #print(f\"Employee messages count: {len(employee_messages)}\")\n",
    "    #print(f\"Student messages count: {len(student_messages)}\")\n",
    "\n",
    "    # Check if there are messages from the employee but none from the student\n",
    "    if not employee_messages.empty and student_messages.empty:\n",
    "        #print(\"Missed reply found.\")\n",
    "        return 'Yes'\n",
    "    \n",
    "    #print(\"No missed reply.\")\n",
    "    return 'No'\n",
    "\n",
    "def count_missed_replies_last_7_days(chat_df, employee_name, start_date):\n",
    "    missed_replies_count = 0\n",
    "\n",
    "    # Iterate over the last 7 days\n",
    "    for i in range(7):\n",
    "        date_to_check = start_date - timedelta(days=i)\n",
    "        messages_on_date = chat_df[chat_df['date'].dt.date == date_to_check]\n",
    "\n",
    "        # Check if there are messages on this date\n",
    "        if not messages_on_date.empty:\n",
    "            # Check if there's any message from the employee on this day\n",
    "            employee_messages = messages_on_date[messages_on_date['sender'] == employee_name]\n",
    "            \n",
    "            # Check if there's any message from others (leads) on this day\n",
    "            lead_messages = messages_on_date[messages_on_date['sender'] != employee_name]\n",
    "\n",
    "            # If there are messages from others but none from the employee, count as a missed reply\n",
    "            if not lead_messages.empty and employee_messages.empty:\n",
    "                missed_replies_count += 1\n",
    "\n",
    "    return missed_replies_count\n",
    "\n",
    "# Function to calculate the time spent in chat based on message lengths\n",
    "def calculate_time_spent(chat_df, target_date, employee_name, team_folder):\n",
    "    daily_messages = chat_df[(chat_df['date'].dt.date == target_date) & (chat_df['sender'] == employee_name)]\n",
    "\n",
    "    if daily_messages.empty:\n",
    "        return '00:00:00'\n",
    "\n",
    "    total_time_spent_seconds = 0\n",
    "\n",
    "    for index, row in daily_messages.iterrows():\n",
    "        message = row['message']\n",
    "        total_chars = len(message)\n",
    "\n",
    "        if team_folder == \"KAM\" and total_chars > 700:\n",
    "            time_spent_seconds = 5  # Cap at 5 seconds for long messages in KAM team folder\n",
    "        else:\n",
    "            time_spent_seconds = total_chars * 0.2  # Assuming 0.2 seconds per character\n",
    "\n",
    "        total_time_spent_seconds += time_spent_seconds\n",
    "\n",
    "        # Optional: Debug print\n",
    "        #print(f\"New Chat Found in {team_folder}\")\n",
    "        #print(f\"Message Length: '{total_chars}'\")\n",
    "        #print(f\"Message: '{message}' - Time Spent: {time_spent_seconds} seconds\")\n",
    "\n",
    "    time_spent_timedelta = timedelta(seconds=total_time_spent_seconds)\n",
    "    formatted_time_spent = strfdelta(time_spent_timedelta)\n",
    "\n",
    "    return formatted_time_spent\n",
    "\n",
    "def strfdelta(tdelta):\n",
    "    hours, remainder = divmod(tdelta.seconds, 3600)\n",
    "    minutes, seconds = divmod(remainder, 60)\n",
    "    return f\"{hours:02}:{minutes:02}:{seconds:02}\"   \n",
    "\n",
    "def calculate_lead_response(chat_df, employee_name, target_date):\n",
    "    \"\"\"\n",
    "    Calculates the lead response based on the number of texts exchanged between the employee and others (non-employee).\n",
    "    - If only the employee sent messages, the response is 100%.\n",
    "    - If only non-employees sent messages, the response is 0%.\n",
    "    - Otherwise, it's the ratio of the employee's texts to the total texts, constrained between 1% and 99%.\n",
    "    \"\"\"\n",
    "    # Filter messages for the target date\n",
    "    daily_messages = chat_df[chat_df['date'].dt.date == target_date]\n",
    "    \n",
    "    # Check if there are any messages from the employee and others on the target date\n",
    "    employee_messages = daily_messages[daily_messages['sender'] == employee_name]\n",
    "    non_employee_messages = daily_messages[daily_messages['sender'] != employee_name]\n",
    "\n",
    "    # If only the employee sent messages\n",
    "    if not employee_messages.empty and non_employee_messages.empty:\n",
    "        return 0\n",
    "\n",
    "    # If only non-employees sent messages\n",
    "    if employee_messages.empty and not non_employee_messages.empty:\n",
    "        return 100\n",
    "\n",
    "    # If both the employee and non-employees have sent messages\n",
    "    if not employee_messages.empty and not non_employee_messages.empty:\n",
    "        num_texts_employee = len(employee_messages)\n",
    "        num_texts_non_employee = len(non_employee_messages)\n",
    "        total_texts = num_texts_employee + num_texts_non_employee\n",
    "        lead_response = (num_texts_employee / total_texts) * 100\n",
    "        return max(min(lead_response, 99), 1)\n",
    "\n",
    "    # If neither the employee nor non-employees sent messages\n",
    "    return 0\n",
    "\n",
    "\n",
    "\n",
    "def calculate_broken_chat_within_working_hrs(chat_df, employee_name, report_date, team_folder):\n",
    "    # Adjust working hours based on team folder\n",
    "    if team_folder == 'EWYL':\n",
    "        # KAM Team working hours: 7:30 AM to 4:00 PM\n",
    "        work_start_time = datetime(report_date.year, report_date.month, report_date.day, 7, 30, 0)\n",
    "        work_end_time = datetime(report_date.year, report_date.month, report_date.day, 16, 30, 0)\n",
    "    else:\n",
    "        # Default working hours for other teams: 12:00 AM to 12:00 PM\n",
    "        work_start_time = datetime(report_date.year, report_date.month, report_date.day, 0, 0, 0)\n",
    "        work_end_time = datetime(report_date.year, report_date.month, report_date.day, 23, 59, 0)\n",
    "\n",
    "    # Filter the messages for the given report date\n",
    "    messages_on_date = chat_df[chat_df['datetime'].dt.date == report_date.date()]\n",
    "\n",
    "    # Check if both employee and lead have messaged on the report date\n",
    "    if not messages_on_date.empty:\n",
    "        employee_messages = messages_on_date[messages_on_date['sender'] == employee_name]\n",
    "        lead_messages = messages_on_date[messages_on_date['sender'] != employee_name]\n",
    "        last_message_sender = messages_on_date.iloc[-1]['sender']\n",
    "        # Ensure both the employee and lead have at least one message\n",
    "        if not employee_messages.empty and not lead_messages.empty:\n",
    "            # Get the time of the last message from the lead\n",
    "            last_lead_message_time = lead_messages.iloc[-1]['datetime']\n",
    "\n",
    "            # Check if the last message is from the lead and within working hours\n",
    "            if last_message_sender != employee_name and (work_start_time <= last_lead_message_time <= work_end_time):\n",
    "                return 'Yes'  # Broken chat if last message from the lead is within working hours\n",
    "            else:\n",
    "                return 'No'  # Not a broken chat if last message from the lead is outside working hours or from the employee\n",
    "\n",
    "    # If no messages or only one party messaged, return 'No'\n",
    "    return 'No'\n",
    "\n",
    "def calculate_broken_chat(chat_df, employee_name, report_date):\n",
    "    # Filter the messages for the given report date\n",
    "    messages_on_date = chat_df[chat_df['date'].dt.date == report_date]\n",
    "    \n",
    "    # Check if both employee and lead have messaged on the report date\n",
    "    if not messages_on_date.empty:\n",
    "        employee_messages = messages_on_date[messages_on_date['sender'] == employee_name]\n",
    "        lead_messages = messages_on_date[messages_on_date['sender'] != employee_name]\n",
    "        \n",
    "        # Ensure both the employee and lead have at least one message\n",
    "        if not employee_messages.empty and not lead_messages.empty:\n",
    "            # Check if the last message is from the lead\n",
    "            last_message_sender = messages_on_date.iloc[-1]['sender']\n",
    "            return last_message_sender != employee_name\n",
    "\n",
    "    \n",
    "\n",
    "def missed_replies_employee(chat_df, employee_name, target_date):\n",
    "    # Filter messages for the target date\n",
    "    daily_messages = chat_df[chat_df['date'].dt.date == target_date]\n",
    "    \n",
    "    # Check if there are any messages from the student\n",
    "    student_messages = daily_messages[daily_messages['sender'] != employee_name]\n",
    "    \n",
    "    # Check if there are any messages from the employee\n",
    "    employee_messages = daily_messages[daily_messages['sender'] == employee_name]\n",
    "    \n",
    "    # If there are student messages but no employee messages, consider it a missed reply\n",
    "    if not student_messages.empty and employee_messages.empty:\n",
    "        return 'Yes'\n",
    "    \n",
    "    return 'No'\n",
    "\n",
    "def missed_replies_employee_after_working_hrs(chat_df, employee_name, target_date, team_folder):\n",
    "    # Check if the team folder is 'KAM Team' to define different working hours\n",
    "    if team_folder == 'EWYL':\n",
    "        # KAM Team working hours: 7:30 AM to 4:00 PM\n",
    "        work_start_time = datetime(target_date.year, target_date.month, target_date.day, 7, 30, 0)\n",
    "        work_end_time = datetime(target_date.year, target_date.month, target_date.day, 16, 30, 0)\n",
    "    else:\n",
    "        # Default working hours for other teams: 12:00 AM to 12:00 PM\n",
    "        work_start_time = datetime(target_date.year, target_date.month, target_date.day, 0, 0, 0)\n",
    "        work_end_time = datetime(target_date.year, target_date.month, target_date.day, 23, 59, 0)\n",
    "\n",
    "    # Ensure target_date is a datetime object\n",
    "    if not isinstance(target_date, datetime):\n",
    "        raise ValueError(\"target_date must be a datetime object\")\n",
    "\n",
    "    # Filter messages for the target date using 'datetime' column\n",
    "    daily_messages = chat_df[chat_df['datetime'].dt.date == target_date.date()]\n",
    "    \n",
    "    # Check if there are any messages from the student\n",
    "    student_messages = daily_messages[daily_messages['sender'] != employee_name]\n",
    "    \n",
    "    # Check if there are any messages from the employee\n",
    "    employee_messages = daily_messages[daily_messages['sender'] == employee_name]\n",
    "\n",
    "    # If there are student messages but no employee messages\n",
    "    if not student_messages.empty and employee_messages.empty:\n",
    "        print(f\"ENTER THE LOOP:{student_messages}\")\n",
    "        # Check if any student message is within working hours\n",
    "        for _, row in student_messages.iterrows():\n",
    "            message_time = row['datetime']\n",
    "            if work_start_time <= message_time <= work_end_time:\n",
    "                return 'Yes'  # Missed reply within working hours\n",
    "        return 'No'  # All student messages are outside working hours\n",
    "\n",
    "    return 'No'\n",
    "\n",
    "# Function to read the chat file and return a dataframe\n",
    "def read_chat_file(file_path):\n",
    "    with open(file_path, 'r', encoding='utf-8') as file:\n",
    "        lines = file.readlines()\n",
    "\n",
    "    concatenated_lines = []\n",
    "    current_message = \"\"\n",
    "    date_pattern = re.compile(r'^\\d{2}/\\d{2}/\\d{2}, \\d{1,2}:\\d{2}\\s?[APMapm]{2} - ')\n",
    "\n",
    "    for line in lines:\n",
    "        if date_pattern.match(line):\n",
    "            if current_message:\n",
    "                concatenated_lines.append(current_message)\n",
    "            current_message = line.rstrip()\n",
    "        else:\n",
    "            # Append this line to the current message, if it's not empty\n",
    "            if current_message:\n",
    "                current_message += \" \" + line.strip()\n",
    "    if current_message:\n",
    "        concatenated_lines.append(current_message)\n",
    "\n",
    "    return pd.DataFrame([process_line(line) for line in concatenated_lines if process_line(line) is not None])\n",
    "\n",
    "# process_line function remains the same\n",
    "\n",
    "\n",
    "# Function to extract the chat file name based on a specific pattern\n",
    "def extract_chat_name(chat_file_name):\n",
    "    #logging.debug(f\"Extracting name from chat file: {chat_file_name}\")\n",
    "    match = re.search(r'WhatsApp Chat with _?(.*?)(?:\\(\\d+\\))?_?\\.txt', chat_file_name)\n",
    "    if match:\n",
    "        extracted_name = re.sub(r'_*(?:\\(\\d+\\))?$', '', match.group(1))\n",
    "        #logging.debug(f\"Extracted chat name: {extracted_name}\")\n",
    "        return extracted_name\n",
    "    #logging.warning(f\"No match found for chat file name: {chat_file_name}\")\n",
    "    return None\n",
    "\n",
    "# Function to calculate the total count of missed replies by the student for the last N days\n",
    "def calculate_total_count_missed_replies_student(chat_df, employee_name, num_days):\n",
    "    total_count = 0\n",
    "\n",
    "    # Iterate over the last N days\n",
    "    for i in range(num_days):\n",
    "        target_date = report_date - timedelta(days=i)\n",
    "        count = count_missed_replies_student(chat_df, employee_name, target_date)\n",
    "        total_count += count\n",
    "\n",
    "    return total_count\n",
    "\n",
    "# Function to extract the start date from a chat file\n",
    "def get_chat_start_date(chat_df):\n",
    "    if not chat_df.empty:\n",
    "        #logging.debug(f\"Extracted chat name: {chat_df['date'].min().date()}\")\n",
    "        return chat_df['date'].min().date()\n",
    "    return None\n",
    "\n",
    "# Function to process a single chat file\n",
    "def process_chat_file(file_path, report_date, main_directory, team_folder, employee_folder):\n",
    "    global processed_chats\n",
    "    broken_chat_count = 0\n",
    "    missed_reply_count = 0\n",
    "    max_time_spent = ('', '00:00:00')  # (date, time)\n",
    "\n",
    "    chat_file_name = os.path.basename(file_path)\n",
    "    #logging.debug(f\"Processing chat file: {chat_file_name}\")\n",
    "\n",
    "    chat_name = extract_chat_name(chat_file_name)\n",
    "    #logging.debug(f\"Chat name extracted: {chat_name}\")\n",
    "\n",
    "\n",
    "\n",
    "    \n",
    "\n",
    "    if chat_name is None:\n",
    "        #logging.warning(f\"Chat name could not be extracted for file: {chat_file_name}\")\n",
    "        return None\n",
    "    if chat_name in processed_chats:\n",
    "        #logging.info(f\"Chat file already processed: {chat_name}\")\n",
    "        return None\n",
    "\n",
    "    processed_chats.add(chat_name)\n",
    "    #logging.debug(f\"Chat file added to processed list: {chat_name}\")\n",
    "\n",
    "    chat_df = read_chat_file(file_path)\n",
    "    if chat_df.empty:\n",
    "        #logging.warning(f\"Chat DataFrame is empty for file: {chat_file_name}\")\n",
    "        return None\n",
    "    chat_start_date = get_chat_start_date(chat_df)\n",
    "\n",
    "    # Use read_chat_file_for_delay specifically for delay calculations\n",
    "    chat_df_for_delay = read_chat_file_for_delay(file_path)\n",
    "    if chat_df_for_delay.empty:\n",
    "        return None\n",
    "\n",
    "    \n",
    "    target_date = report_date - timedelta(days=1)\n",
    "\n",
    "    # Call the function with the target date\n",
    "    delays, delay_times, messages_for_reference = calculate_employee_delay(chat_df_for_delay, employee_folder, target_date)\n",
    "    \n",
    "\n",
    "\n",
    "\n",
    "    # Calculate the time spent on Day 0 (report_date - 1 day)\n",
    "    day_0_date = report_date - timedelta(days=1)\n",
    "    day_0_time_spent = calculate_time_spent(chat_df, day_0_date, employee_folder,team_folder)\n",
    "    #day_0_time_spent = timedelta(hours=int(day_0_time_spent.split(':')[0]), minutes=int(day_0_time_spent.split(':')[1]), seconds=int(day_0_time_spent.split(':')[2]))\n",
    "    # Calculate the lead response based on text length difference for Day 0\n",
    "    lead_response_day_0 = calculate_lead_response(chat_df, employee_folder, day_0_date)\n",
    "     \n",
    "    day_0_date = report_date - timedelta(days=1)  # Assuming report_date is a datetime object of the target date\n",
    "    broken_chat = calculate_broken_chat(chat_df, employee_folder, day_0_date)\n",
    "    missed_replies_day_0 = missed_replies_employee(chat_df, employee_folder, day_0_date)\n",
    "\n",
    "    # Get the current datetime\n",
    "    today_datetime = datetime.now()\n",
    "\n",
    "    # Get today's date with time part (assuming start of the day as default)\n",
    "    today_date_1 = today_datetime.replace(hour=0, minute=0, second=0, microsecond=0)\n",
    "\n",
    "    # If today_date.weekday() logic remains the same\n",
    "    # ...\n",
    "\n",
    "    # Now, when you calculate target_date, it remains a datetime object\n",
    "    target_date_1 = today_date_1 - timedelta(days=1)\n",
    "\n",
    "\n",
    "    Actual_missed_Reply = missed_replies_employee_after_working_hrs(chat_df_for_delay, employee_folder, target_date_1,team_folder)\n",
    "    Actual_broken_chat = calculate_broken_chat_within_working_hrs(chat_df_for_delay, employee_folder, target_date_1,team_folder)\n",
    "    total_count_missed_reply_student = calculate_total_count_missed_replies_student(chat_df, employee_folder, 14)\n",
    "    \n",
    "\n",
    "\n",
    "    \n",
    "    for i in range(7):  # Assuming you're checking the past 7 days\n",
    "        check_date = report_date - timedelta(days=i)\n",
    "        \n",
    "        # Check for broken chats\n",
    "        if calculate_broken_chat(chat_df, employee_folder, check_date):\n",
    "            broken_chat_count += 1\n",
    "\n",
    "        # Check for missed replies\n",
    "        start_date_for_missed_replies = report_date - timedelta(days=7)\n",
    "        \n",
    "        missed_replies_count = count_missed_replies_last_7_days(chat_df, employee_folder, start_date_for_missed_replies)\n",
    "\n",
    "        # Check for max time spent\n",
    "        time_spent = calculate_time_spent(chat_df, check_date, employee_folder,team_folder)\n",
    "        if time_spent > max_time_spent[1]:\n",
    "            max_time_spent = (check_date.strftime('%m-%d-%Y'), time_spent)\n",
    "    \n",
    "    \n",
    "    \n",
    "    # Calculate the time spent by students\n",
    "    time_spent_student = {\n",
    "    'Day 0 (Student)': calculate_time_spent_student(chat_df, report_date - timedelta(days=1), employee_folder),\n",
    "    'Day 1 (Student)': calculate_time_spent_student(chat_df, report_date - timedelta(days=2), employee_folder),\n",
    "    'Day 2 (Student)': calculate_time_spent_student(chat_df, report_date - timedelta(days=3), employee_folder),\n",
    "    }\n",
    "    \n",
    "    # Inside the process_chat_file function, after calculating day_0_time_spent:\n",
    "    day_0_date = report_date - timedelta(days=1)\n",
    "    day_1_date = report_date - timedelta(days=2)\n",
    "    day_2_date = report_date - timedelta(days=3)\n",
    "\n",
    "    # Calculate time spent by student for Day 0, Day 1, and Day 2\n",
    "    time_spent_student_day_0 = calculate_time_spent_student(chat_df, day_0_date, employee_folder)\n",
    "    time_spent_student_day_1 = calculate_time_spent_student(chat_df, day_1_date, employee_folder)\n",
    "    time_spent_student_day_2 = calculate_time_spent_student(chat_df, day_2_date, employee_folder)\n",
    "\n",
    "\n",
    "\n",
    "    total_time_spent_student = time_spent_student['Day 0 (Student)']\n",
    "\n",
    "    broken_chat_student = is_broken_chat_student(chat_df, employee_folder, report_date)\n",
    "\n",
    "    mmissed_reply_student = count_missed_replies_studentt(chat_df, employee_folder, report_date)\n",
    "\n",
    "    # Calculate the time spent on each day relative to the report date\n",
    "    time_spent = {}\n",
    "    for i in range(1, 4):  # Start from 1 since we want Day 0 to be the day before the report date\n",
    "        target_date = report_date - timedelta(days=i)\n",
    "        time_spent[f'Day {i-1}'] = calculate_time_spent(chat_df, target_date, employee_folder,team_folder)\n",
    "    \n",
    "    target_date_for_chat_start_Date = report_date - timedelta(days=1)\n",
    "    day_indicator_employee = (target_date_for_chat_start_Date - chat_start_date).days\n",
    "    #logging.debug(f\"day indicator employee: {day_indicator_employee}\")\n",
    "    # Determine Day Indicator based on chat start date\n",
    "    if chat_start_date:\n",
    "        if (target_date_for_chat_start_Date - chat_start_date).days == 0:\n",
    "          \n",
    "            day_indicator = 'Day 0'\n",
    "        elif (target_date_for_chat_start_Date - chat_start_date).days == 1:\n",
    "            \n",
    "            day_indicator = 'Day 1'\n",
    "        elif (target_date_for_chat_start_Date - chat_start_date).days == 2:\n",
    "            \n",
    "            day_indicator = 'Day 2'\n",
    "\n",
    "        elif (target_date_for_chat_start_Date - chat_start_date).days == 3:\n",
    "            \n",
    "            day_indicator = 'OLD'\n",
    "\n",
    "        else:\n",
    "            day_indicator = 'OLD'  # For chats that don't fall into Day 0, Day 1, or Day 2\n",
    "\n",
    "    \n",
    "\n",
    "    main_directory_name = os.path.basename(main_directory)\n",
    "\n",
    "    row = {\n",
    "        'Date': main_directory_name,\n",
    "        'Team Folder': team_folder,\n",
    "        'Employee Folder': employee_folder,\n",
    "        'Chat File Name': chat_name,        # Inserting the extracted chat name\n",
    "        'Day Indicator': day_indicator,\n",
    "        'Total_Time_Spent_Employee': day_0_time_spent,  # Use Day 0 time as the total time spent\n",
    "        'LR': lead_response_day_0,  # Add the lead response here\n",
    "        'Broken Chat(Employee)': 'Yes' if broken_chat else 'No',\n",
    "        'Missed Replies (Employee)': missed_replies_day_0,\n",
    "        'Count_Broken_Chat_Employee (Employee)': broken_chat_count,\n",
    "        'Count_Missed_Replies_Missed_Replies (Employee)': missed_replies_count,\n",
    "        'Date of Max time': max_time_spent[0],\n",
    "        **time_spent,\n",
    "        'Total Time Spent (Student)': total_time_spent_student,\n",
    "        'Broken Chat (Student)': broken_chat_student,\n",
    "        'Missed Replies (Student)': mmissed_reply_student,\n",
    "        'Day_0_Time_Spent_Student': time_spent_student_day_0,  # Add time spent for Day 0\n",
    "        'Day_1_Time_Spent_Student': time_spent_student_day_1,  # Add time spent for Day 1\n",
    "        'Day_2_Time_Spent_Student': time_spent_student_day_2,\n",
    "        'Total_Count_Missed_Reply_Chat_Student' : total_count_missed_reply_student,\n",
    "        'Employee Delays': delays,\n",
    "        'Delay Durations': delay_times,\n",
    "        'Messages for Reference': messages_for_reference,\n",
    "        'Actual Missed Reply from Employee': Actual_missed_Reply,\n",
    "        'Actual Broken Chat from Employee' : Actual_broken_chat,\n",
    "    }\n",
    "    #logging.debug(f\"Row created for chat: {row}\")\n",
    "    return row\n",
    "\n",
    "# Main directory path construction and report date setting\n",
    "# Main directory path construction and report date setting\n",
    "local_date_format = '%Y-%m-%d'  # Adjust this to your local date format\n",
    "main_directory = 'C:\\\\Users\\\\maurice\\\\Documents\\\\Chat-Analyzer-V2\\\\Chat Folder from Drive\\\\drive-download-20231205T080950Z-001'  # Replace with your base directory path\n",
    "\n",
    "# Get today's date\n",
    "today_date = datetime.now().date()\n",
    "\n",
    "# Check the day of the week\n",
    "if today_date.weekday() in range(1, 6):  # Tuesday to Saturday\n",
    "    report_date = today_date\n",
    "else:  # Monday\n",
    "    # You can adjust the number of days to subtract based on your specific requirements\n",
    "    report_date = today_date - timedelta(days=1)\n",
    "    logging.debug(f\"Report Date: {report_date}\")\n",
    "report_date_str_local = report_date.strftime(local_date_format)\n",
    "main_directory_path = os.path.join(main_directory, report_date_str_local)\n",
    "\n",
    "# Function to navigate through the directory structure and process all chat files\n",
    "def process_team_folders(main_directory, report_date):\n",
    "    all_data = []\n",
    "    for team_folder in os.listdir(main_directory):\n",
    "        team_path = os.path.join(main_directory, team_folder)\n",
    "        if not os.path.isdir(team_path):\n",
    "            continue\n",
    "        for employee_folder in os.listdir(team_path):\n",
    "            employee_path = os.path.join(team_path, employee_folder)\n",
    "            if not os.path.isdir(employee_path):\n",
    "                continue\n",
    "            for chat_file in os.listdir(employee_path):\n",
    "                chat_file_path = os.path.join(employee_path, chat_file)\n",
    "                row = process_chat_file(chat_file_path, report_date, main_directory, team_folder, employee_folder)\n",
    "                if row:\n",
    "                    all_data.append(row)\n",
    "                    logging.debug(f\"Row appended for chat file: {chat_file}\")\n",
    "    df = pd.DataFrame(all_data)\n",
    "    #logging.debug(f\"DataFrame constructed with {len(df)} rows\")\n",
    "    return df\n",
    "\n",
    "# Process all team folders and chats based on the report date\n",
    "all_chats_df = process_team_folders(main_directory_path, report_date)\n",
    "\n",
    "\n",
    "# Save to a CSV file\n",
    "csv_file_path = 'C:\\\\Users\\\\maurice\\\\Documents\\\\Chat-Analyzer-V2\\\\Chat Folder from Drive\\\\drive-download-20231205T080950Z-001/chat_data14.csv'  # Define your desired path and file name\n",
    "all_chats_df.to_csv(csv_file_path, index=False)\n",
    "#print(f\"DataFrame saved as CSV at {csv_file_path}\")\n",
    "# Display the result\n",
    "#print(all_chats_df)\n"
   ]
  },
  {
   "cell_type": "code",
   "execution_count": null,
   "metadata": {},
   "outputs": [],
   "source": []
  }
 ],
 "metadata": {
  "kernelspec": {
   "display_name": "Python 3",
   "language": "python",
   "name": "python3"
  },
  "language_info": {
   "codemirror_mode": {
    "name": "ipython",
    "version": 3
   },
   "file_extension": ".py",
   "mimetype": "text/x-python",
   "name": "python",
   "nbconvert_exporter": "python",
   "pygments_lexer": "ipython3",
   "version": "3.7.6"
  }
 },
 "nbformat": 4,
 "nbformat_minor": 4
}
