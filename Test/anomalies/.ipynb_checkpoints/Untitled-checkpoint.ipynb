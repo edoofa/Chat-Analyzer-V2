{
 "cells": [
  {
   "cell_type": "code",
   "execution_count": 3,
   "id": "518ff153",
   "metadata": {},
   "outputs": [],
   "source": [
    "import os\n",
    "import shutil\n",
    "\n",
    "def replace_corrected_files(original_dir, corrected_dir):\n",
    "    # Get a list of all corrected file names\n",
    "    corrected_files = {file for file in os.listdir(corrected_dir) if file.endswith('.txt')}\n",
    "\n",
    "    # Iterate through the directory structure\n",
    "    for root, dirs, files in os.walk(original_dir):\n",
    "        for file in files:\n",
    "            if file in corrected_files:\n",
    "                original_file = os.path.join(root, file)\n",
    "                corrected_file = os.path.join(corrected_dir, file)\n",
    "                \n",
    "                # Replace the original file with the corrected one\n",
    "                shutil.copy2(corrected_file, original_file)\n",
    "                print(f\"Replaced {original_file} with corrected version.\")\n",
    "\n",
    "# Usage\n",
    "original_dir = 'C:\\\\Users\\\\mauriceyeng\\\\Python\\\\Daily-Reports\\\\Test\\\\anomalies\\\\date'  # Replace with your original folder path\n",
    "corrected_dir = 'C:\\\\Users\\\\mauriceyeng\\\\Python\\\\Daily-Reports\\\\Test\\\\anomalies\\\\corrected'  # Replace with your corrected folder path\n",
    "\n",
    "replace_corrected_files(original_dir, corrected_dir)\n"
   ]
  },
  {
   "cell_type": "code",
   "execution_count": 4,
   "id": "a58ade11",
   "metadata": {},
   "outputs": [
    {
     "name": "stdout",
     "output_type": "stream",
     "text": [
      "Corrected files found: 113\n",
      "No matching files to replace were found.\n"
     ]
    }
   ],
   "source": [
    "import os\n",
    "import shutil\n",
    "\n",
    "def replace_corrected_files(original_dir, corrected_dir):\n",
    "    corrected_files = {file for file in os.listdir(corrected_dir) if file.endswith('.txt')}\n",
    "    print(f\"Corrected files found: {len(corrected_files)}\")\n",
    "\n",
    "    files_replaced = 0\n",
    "\n",
    "    for root, dirs, files in os.walk(original_dir):\n",
    "        for file in files:\n",
    "            if file in corrected_files:\n",
    "                original_file = os.path.join(root, file)\n",
    "                corrected_file = os.path.join(corrected_dir, file)\n",
    "                \n",
    "                shutil.copy2(corrected_file, original_file)\n",
    "                print(f\"Replaced {original_file} with corrected version.\")\n",
    "                files_replaced += 1\n",
    "\n",
    "    if files_replaced == 0:\n",
    "        print(\"No matching files to replace were found.\")\n",
    "    else:\n",
    "        print(f\"Total files replaced: {files_replaced}\")\n",
    "\n",
    "# Usage\n",
    "original_dir = 'C:\\\\Users\\\\mauriceyeng\\\\Python\\\\Daily-Reports\\\\Test\\\\anomalies\\\\date'  # Your original folder path\n",
    "corrected_dir = 'C:\\\\Users\\\\mauriceyeng\\\\Python\\\\Daily-Reports\\\\Test\\\\anomalies\\\\corrected'  # Your corrected folder path\n",
    "\n",
    "replace_corrected_files(original_dir, corrected_dir)\n"
   ]
  },
  {
   "cell_type": "code",
   "execution_count": null,
   "id": "026394b3",
   "metadata": {},
   "outputs": [],
   "source": []
  }
 ],
 "metadata": {
  "kernelspec": {
   "display_name": "Python 3 (ipykernel)",
   "language": "python",
   "name": "python3"
  },
  "language_info": {
   "codemirror_mode": {
    "name": "ipython",
    "version": 3
   },
   "file_extension": ".py",
   "mimetype": "text/x-python",
   "name": "python",
   "nbconvert_exporter": "python",
   "pygments_lexer": "ipython3",
   "version": "3.11.5"
  }
 },
 "nbformat": 4,
 "nbformat_minor": 5
}
