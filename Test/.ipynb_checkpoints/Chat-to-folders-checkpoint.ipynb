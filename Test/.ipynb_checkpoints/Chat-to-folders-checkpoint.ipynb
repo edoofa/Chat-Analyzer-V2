{
 "cells": [
  {
   "cell_type": "code",
   "execution_count": 1,
   "id": "c5b78c4c",
   "metadata": {},
   "outputs": [
    {
     "name": "stderr",
     "output_type": "stream",
     "text": [
      "2023-11-23 15:50:25,991 - INFO - Yesterday's date is 16/11/23\n",
      "2023-11-23 15:50:25,992 - INFO - Date three days before yesterday is 13/11/23\n"
     ]
    },
    {
     "ename": "FileNotFoundError",
     "evalue": "[WinError 3] The system cannot find the path specified: 'C:\\\\Users\\\\aditya\\\\OneDrive\\\\Documents\\\\Automted Files'",
     "output_type": "error",
     "traceback": [
      "\u001b[1;31m---------------------------------------------------------------------------\u001b[0m",
      "\u001b[1;31mFileNotFoundError\u001b[0m                         Traceback (most recent call last)",
      "Cell \u001b[1;32mIn[1], line 39\u001b[0m\n\u001b[0;32m     36\u001b[0m name_list \u001b[38;5;241m=\u001b[39m [\u001b[38;5;124m'\u001b[39m\u001b[38;5;124mJasmine Edoofa\u001b[39m\u001b[38;5;124m'\u001b[39m, \u001b[38;5;124m'\u001b[39m\u001b[38;5;124mAnanya\u001b[39m\u001b[38;5;124m'\u001b[39m, \u001b[38;5;124m'\u001b[39m\u001b[38;5;124mShivjeet Edoofa\u001b[39m\u001b[38;5;124m'\u001b[39m, \u001b[38;5;124m'\u001b[39m\u001b[38;5;124mMilan Edoofa\u001b[39m\u001b[38;5;124m'\u001b[39m, \u001b[38;5;124m'\u001b[39m\u001b[38;5;124mKirti Edoofa\u001b[39m\u001b[38;5;124m'\u001b[39m, \u001b[38;5;124m'\u001b[39m\u001b[38;5;124mAshi Edoofa\u001b[39m\u001b[38;5;124m'\u001b[39m, \u001b[38;5;124m'\u001b[39m\u001b[38;5;124mVilsha Edoofa\u001b[39m\u001b[38;5;124m'\u001b[39m, \u001b[38;5;124m'\u001b[39m\u001b[38;5;124mSaloni Edoofa\u001b[39m\u001b[38;5;124m'\u001b[39m, \u001b[38;5;124m'\u001b[39m\u001b[38;5;124mJasmine Edoofa\u001b[39m\u001b[38;5;124m'\u001b[39m, \u001b[38;5;124m'\u001b[39m\u001b[38;5;124mAnanya Edoofa\u001b[39m\u001b[38;5;124m'\u001b[39m, \u001b[38;5;124m'\u001b[39m\u001b[38;5;124mTenzin Tsomo ~ Mentor\u001b[39m\u001b[38;5;124m'\u001b[39m, \u001b[38;5;124m'\u001b[39m\u001b[38;5;124mAditi Edoofa\u001b[39m\u001b[38;5;124m'\u001b[39m, \u001b[38;5;124m'\u001b[39m\u001b[38;5;124mSharda Edoofa\u001b[39m\u001b[38;5;124m'\u001b[39m]\n\u001b[0;32m     38\u001b[0m \u001b[38;5;66;03m# Main code starts here\u001b[39;00m\n\u001b[1;32m---> 39\u001b[0m chat_files \u001b[38;5;241m=\u001b[39m os\u001b[38;5;241m.\u001b[39mlistdir(\u001b[38;5;124m'\u001b[39m\u001b[38;5;124mC:\u001b[39m\u001b[38;5;130;01m\\\\\u001b[39;00m\u001b[38;5;124mUsers\u001b[39m\u001b[38;5;130;01m\\\\\u001b[39;00m\u001b[38;5;124maditya\u001b[39m\u001b[38;5;130;01m\\\\\u001b[39;00m\u001b[38;5;124mOneDrive\u001b[39m\u001b[38;5;130;01m\\\\\u001b[39;00m\u001b[38;5;124mDocuments\u001b[39m\u001b[38;5;130;01m\\\\\u001b[39;00m\u001b[38;5;124mAutomted Files\u001b[39m\u001b[38;5;124m'\u001b[39m)\n\u001b[0;32m     40\u001b[0m logging\u001b[38;5;241m.\u001b[39minfo(\u001b[38;5;124mf\u001b[39m\u001b[38;5;124m\"\u001b[39m\u001b[38;5;124mFound \u001b[39m\u001b[38;5;132;01m{\u001b[39;00m\u001b[38;5;28mlen\u001b[39m(chat_files)\u001b[38;5;132;01m}\u001b[39;00m\u001b[38;5;124m files in the directory\u001b[39m\u001b[38;5;124m\"\u001b[39m)\n\u001b[0;32m     42\u001b[0m \u001b[38;5;28;01mif\u001b[39;00m \u001b[38;5;129;01mnot\u001b[39;00m os\u001b[38;5;241m.\u001b[39mpath\u001b[38;5;241m.\u001b[39mexists(\u001b[38;5;124m'\u001b[39m\u001b[38;5;124mfiltered_chats\u001b[39m\u001b[38;5;124m'\u001b[39m):\n",
      "\u001b[1;31mFileNotFoundError\u001b[0m: [WinError 3] The system cannot find the path specified: 'C:\\\\Users\\\\aditya\\\\OneDrive\\\\Documents\\\\Automted Files'"
     ]
    }
   ],
   "source": [
    "import os\n",
    "import re\n",
    "from datetime import datetime, timedelta\n",
    "import logging\n",
    "\n",
    "# Initialize logging\n",
    "logging.basicConfig(level=logging.INFO, format='%(asctime)s - %(levelname)s - %(message)s')\n",
    "\n",
    "# Define the save_chat function\n",
    "def save_chat(chat, sender_name, chat_file):\n",
    "    folder_name = sender_name.replace(\" \", \"_\")\n",
    "    folder_path = f'filtered_chats/{folder_name}'\n",
    "\n",
    "    logging.info(f\"Checking folder: {folder_path}\")\n",
    "\n",
    "    if not os.path.exists(folder_path):\n",
    "        os.makedirs(folder_path)\n",
    "        logging.info(f\"Created folder: {folder_path}\")\n",
    "    else:\n",
    "        logging.info(f\"Folder {folder_path} already exists\")\n",
    "\n",
    "    file_path = f'{folder_path}/{chat_file}'\n",
    "    with open(file_path, 'w', encoding='utf-8-sig') as file:\n",
    "        file.writelines(chat)\n",
    "    logging.info(f\"Saved filtered chat to {file_path}\")\n",
    "\n",
    "# Get yesterday's date and the date three days before yesterday\n",
    "yesterday = datetime.now() - timedelta(days=7)\n",
    "three_days_before_yesterday = yesterday - timedelta(days=3)\n",
    "yesterday_str = yesterday.strftime('%d/%m/%y')\n",
    "three_days_before_yesterday_str = three_days_before_yesterday.strftime('%d/%m/%y')\n",
    "logging.info(f\"Yesterday's date is {yesterday_str}\")\n",
    "logging.info(f\"Date three days before yesterday is {three_days_before_yesterday_str}\")\n",
    "\n",
    "# List of names to filter\n",
    "name_list = ['Jasmine Edoofa', 'Ananya', 'Shivjeet Edoofa', 'Milan Edoofa', 'Kirti Edoofa', 'Ashi Edoofa', 'Vilsha Edoofa', 'Saloni Edoofa', 'Jasmine Edoofa', 'Ananya Edoofa', 'Tenzin Tsomo ~ Mentor', 'Aditi Edoofa', 'Sharda Edoofa']\n",
    "\n",
    "# Main code starts here\n",
    "chat_files = os.listdir('C:\\\\Users\\\\mauriceyeng\\\\Python\\\\Daily-Reports\\\\Test\\\\V1_maurice\\\\Exports\\\\exports')\n",
    "logging.info(f\"Found {len(chat_files)} files in the directory\")\n",
    "\n",
    "if not os.path.exists('filtered_chats'):\n",
    "    os.makedirs('filtered_chats')\n",
    "    logging.info(\"Created 'filtered_chats' directory\")\n",
    "\n",
    "# First loop to filter chats and save them\n",
    "for chat_file in chat_files:\n",
    "    chat = []\n",
    "    if chat_file.endswith('.txt'):  # Skip non-text files\n",
    "        logging.info(f\"Processing {chat_file}\")\n",
    "        with open(f'C:\\\\Users\\\\mauriceyeng\\\\Python\\\\Daily-Reports\\\\Test\\\\V1_maurice\\\\Exports\\\\exports\\\\{chat_file}', 'r', encoding='utf-8-sig') as file:\n",
    "            chat = file.readlines()\n",
    "\n",
    "    messages = []\n",
    "    senders_three_days_before = set()\n",
    "    for line in chat:\n",
    "        match = re.search(r'(\\d{2}/\\d{2}/\\d{2}), .*? - (.*?): (.*)', line)\n",
    "        if match:\n",
    "            date, sender, message = match.groups()\n",
    "            if date == yesterday_str:\n",
    "                messages.append({'date': date, 'sender': sender, 'message': message})\n",
    "            elif date == three_days_before_yesterday_str:\n",
    "                senders_three_days_before.add(sender)\n",
    "\n",
    "    last_20_messages = messages[-20:]\n",
    "    senders_found = {msg['sender'] for msg in last_20_messages}\n",
    "    for name in name_list:\n",
    "        if name in senders_found:\n",
    "            # Save the chat if the sender is found in yesterday's messages\n",
    "            save_chat(chat, name, chat_file)\n",
    "        elif name in senders_three_days_before:\n",
    "            # Save the chat if the sender is found three days before yesterday\n",
    "            save_chat(chat, name, chat_file)\n",
    "\n",
    "logging.info(\"Done filtering chats.\")\n"
   ]
  },
  {
   "cell_type": "code",
   "execution_count": null,
   "id": "2856c2a1",
   "metadata": {},
   "outputs": [],
   "source": []
  }
 ],
 "metadata": {
  "kernelspec": {
   "display_name": "Python 3 (ipykernel)",
   "language": "python",
   "name": "python3"
  },
  "language_info": {
   "codemirror_mode": {
    "name": "ipython",
    "version": 3
   },
   "file_extension": ".py",
   "mimetype": "text/x-python",
   "name": "python",
   "nbconvert_exporter": "python",
   "pygments_lexer": "ipython3",
   "version": "3.11.5"
  }
 },
 "nbformat": 4,
 "nbformat_minor": 5
}
