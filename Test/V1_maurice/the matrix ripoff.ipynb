{
 "cells": [
  {
   "cell_type": "code",
   "execution_count": 1,
   "metadata": {},
   "outputs": [
    {
     "name": "stdout",
     "output_type": "stream",
     "text": [
      "analysis complete. Generating Graphs...\n"
     ]
    },
    {
     "name": "stderr",
     "output_type": "stream",
     "text": [
      "No handles with labels found to put in legend.\n"
     ]
    },
    {
     "name": "stdout",
     "output_type": "stream",
     "text": [
      "Generating graph for 2023-11-29_Aditi_Edoofa\n"
     ]
    },
    {
     "name": "stderr",
     "output_type": "stream",
     "text": [
      "No handles with labels found to put in legend.\n"
     ]
    },
    {
     "name": "stdout",
     "output_type": "stream",
     "text": [
      "Graph saved as 2023-11-29_Aditi_Edoofa.png\n",
      "Generating graph for 2023-11-29_Ananya_Edoofa\n"
     ]
    },
    {
     "name": "stderr",
     "output_type": "stream",
     "text": [
      "No handles with labels found to put in legend.\n"
     ]
    },
    {
     "name": "stdout",
     "output_type": "stream",
     "text": [
      "Graph saved as 2023-11-29_Ananya_Edoofa.png\n",
      "Generating graph for 2023-11-29_Jasmine_Edoofa\n"
     ]
    },
    {
     "name": "stderr",
     "output_type": "stream",
     "text": [
      "No handles with labels found to put in legend.\n"
     ]
    },
    {
     "name": "stdout",
     "output_type": "stream",
     "text": [
      "Graph saved as 2023-11-29_Jasmine_Edoofa.png\n",
      "Generating graph for 2023-11-29_Saloni_Edoofa\n"
     ]
    },
    {
     "name": "stderr",
     "output_type": "stream",
     "text": [
      "No handles with labels found to put in legend.\n"
     ]
    },
    {
     "name": "stdout",
     "output_type": "stream",
     "text": [
      "Graph saved as 2023-11-29_Saloni_Edoofa.png\n",
      "Generating graph for 2023-11-29_Sharda_Edoofa\n"
     ]
    },
    {
     "name": "stderr",
     "output_type": "stream",
     "text": [
      "No handles with labels found to put in legend.\n"
     ]
    },
    {
     "name": "stdout",
     "output_type": "stream",
     "text": [
      "Graph saved as 2023-11-29_Sharda_Edoofa.png\n",
      "Generating graph for 2023-11-29_Ashi_Edoofa\n"
     ]
    },
    {
     "name": "stderr",
     "output_type": "stream",
     "text": [
      "No handles with labels found to put in legend.\n"
     ]
    },
    {
     "name": "stdout",
     "output_type": "stream",
     "text": [
      "Graph saved as 2023-11-29_Ashi_Edoofa.png\n",
      "Generating graph for 2023-11-29_Kirti Edoofa\n"
     ]
    },
    {
     "name": "stderr",
     "output_type": "stream",
     "text": [
      "No handles with labels found to put in legend.\n"
     ]
    },
    {
     "name": "stdout",
     "output_type": "stream",
     "text": [
      "Graph saved as 2023-11-29_Kirti Edoofa.png\n",
      "Generating graph for 2023-11-29_Milan_Edoofa\n"
     ]
    },
    {
     "name": "stderr",
     "output_type": "stream",
     "text": [
      "No handles with labels found to put in legend.\n"
     ]
    },
    {
     "name": "stdout",
     "output_type": "stream",
     "text": [
      "Graph saved as 2023-11-29_Milan_Edoofa.png\n",
      "Generating graph for 2023-11-29_Shivjeet Edoofa\n"
     ]
    },
    {
     "name": "stderr",
     "output_type": "stream",
     "text": [
      "No handles with labels found to put in legend.\n"
     ]
    },
    {
     "name": "stdout",
     "output_type": "stream",
     "text": [
      "Graph saved as 2023-11-29_Shivjeet Edoofa.png\n",
      "Generating graph for 2023-11-29_Arshita\n"
     ]
    },
    {
     "name": "stderr",
     "output_type": "stream",
     "text": [
      "No handles with labels found to put in legend.\n"
     ]
    },
    {
     "name": "stdout",
     "output_type": "stream",
     "text": [
      "Graph saved as 2023-11-29_Arshita.png\n",
      "Generating graph for 2023-11-29_Austin#276\n"
     ]
    },
    {
     "name": "stderr",
     "output_type": "stream",
     "text": [
      "No handles with labels found to put in legend.\n"
     ]
    },
    {
     "name": "stdout",
     "output_type": "stream",
     "text": [
      "Graph saved as 2023-11-29_Austin#276.png\n",
      "Generating graph for 2023-11-29_Harmehak\n"
     ]
    },
    {
     "name": "stderr",
     "output_type": "stream",
     "text": [
      "No handles with labels found to put in legend.\n"
     ]
    },
    {
     "name": "stdout",
     "output_type": "stream",
     "text": [
      "Graph saved as 2023-11-29_Harmehak.png\n",
      "Generating graph for 2023-11-29_Kunal\n"
     ]
    },
    {
     "name": "stderr",
     "output_type": "stream",
     "text": [
      "No handles with labels found to put in legend.\n"
     ]
    },
    {
     "name": "stdout",
     "output_type": "stream",
     "text": [
      "Graph saved as 2023-11-29_Kunal.png\n",
      "Generating graph for 2023-11-29_Pallika Edoofa\n"
     ]
    },
    {
     "name": "stderr",
     "output_type": "stream",
     "text": [
      "No handles with labels found to put in legend.\n"
     ]
    },
    {
     "name": "stdout",
     "output_type": "stream",
     "text": [
      "Graph saved as 2023-11-29_Pallika Edoofa.png\n",
      "Generating graph for 2023-11-29_Sagar\n"
     ]
    },
    {
     "name": "stderr",
     "output_type": "stream",
     "text": [
      "No handles with labels found to put in legend.\n"
     ]
    },
    {
     "name": "stdout",
     "output_type": "stream",
     "text": [
      "Graph saved as 2023-11-29_Sagar.png\n",
      "Generating graph for 2023-11-29_Sahil Edoofa\n"
     ]
    },
    {
     "name": "stderr",
     "output_type": "stream",
     "text": [
      "No handles with labels found to put in legend.\n"
     ]
    },
    {
     "name": "stdout",
     "output_type": "stream",
     "text": [
      "Graph saved as 2023-11-29_Sahil Edoofa.png\n",
      "Generating graph for 2023-11-29_Shashwat Edoofa 2\n"
     ]
    },
    {
     "name": "stderr",
     "output_type": "stream",
     "text": [
      "No handles with labels found to put in legend.\n"
     ]
    },
    {
     "name": "stdout",
     "output_type": "stream",
     "text": [
      "Graph saved as 2023-11-29_Shashwat Edoofa 2.png\n",
      "Generating graph for 2023-11-29_Shubham Madhwal\n"
     ]
    },
    {
     "name": "stderr",
     "output_type": "stream",
     "text": [
      "No handles with labels found to put in legend.\n"
     ]
    },
    {
     "name": "stdout",
     "output_type": "stream",
     "text": [
      "Graph saved as 2023-11-29_Shubham Madhwal.png\n",
      "Generating graph for 2023-11-29_Tushti\n"
     ]
    },
    {
     "name": "stderr",
     "output_type": "stream",
     "text": [
      "C:\\Users\\maurice\\anaconda3\\lib\\site-packages\\ipykernel_launcher.py:171: UserWarning: Attempting to set identical left == right == [403.] results in singular transformations; automatically expanding.\n"
     ]
    },
    {
     "name": "stdout",
     "output_type": "stream",
     "text": [
      "Graph saved as 2023-11-29_Tushti.png\n"
     ]
    }
   ],
   "source": [
    "import os\n",
    "import pandas as pd\n",
    "import datetime\n",
    "import re\n",
    "import numpy as np\n",
    "import matplotlib.pyplot as plt\n",
    "import matplotlib.ticker as ticker\n",
    "\n",
    "# Function to list all chat files in the directory structure\n",
    "def list_chat_files(date_directory):\n",
    "    chat_files = []\n",
    "    for date_folder in os.listdir(date_directory):\n",
    "        date_path = os.path.join(date_directory, date_folder)\n",
    "        if os.path.isdir(date_path):\n",
    "            for team_folder in os.listdir(date_path):\n",
    "                team_path = os.path.join(date_path, team_folder)\n",
    "                if os.path.isdir(team_path):\n",
    "                    for person_folder in os.listdir(team_path):\n",
    "                        person_path = os.path.join(team_path, person_folder)\n",
    "                        if os.path.isdir(person_path):\n",
    "                            for file in os.listdir(person_path):\n",
    "                                if file.endswith('.txt'):\n",
    "                                    chat_files.append(os.path.join(person_path, file))\n",
    "    return chat_files\n",
    "\n",
    "def parse_chat_file(file_path, expected_date_minus_one):\n",
    "    chat_data = []\n",
    "    last_non_person_time = None  # Tracks the time of the last non-person message\n",
    "\n",
    "    with open(file_path, 'r', encoding='utf-8') as file:\n",
    "        for line in file:\n",
    "            message_match = re.match(r'(\\d{2}/\\d{2}/\\d{2}, \\d{1,2}:\\d{2} [ap]m) - (.*?): (.*)', line)\n",
    "            system_match = re.match(r'(\\d{2}/\\d{2}/\\d{2}, \\d{1,2}:\\d{2} [ap]m) - (.*)', line)\n",
    "            if message_match:\n",
    "                date_time_str, sender, message = message_match.groups()\n",
    "            elif system_match:\n",
    "                date_time_str, info = system_match.groups()\n",
    "                sender = None\n",
    "            else:\n",
    "                continue\n",
    "\n",
    "            date_time = pd.to_datetime(date_time_str, format='%d/%m/%y, %I:%M %p')\n",
    "\n",
    "            if date_time.date() != expected_date_minus_one:\n",
    "                continue\n",
    "\n",
    "            is_person = sender is not None and re.match(r'^[+\\d\\s-]+$', sender) is None\n",
    "\n",
    "            # Calculate delay\n",
    "            delay = False\n",
    "            if is_person and last_non_person_time:\n",
    "                diff = date_time - last_non_person_time\n",
    "                delay = diff.total_seconds() > 900  # 15 minutes in seconds\n",
    "\n",
    "            chat_data.append((date_time, sender, is_person, delay))\n",
    "\n",
    "            if not is_person:\n",
    "                last_non_person_time = date_time\n",
    "\n",
    "    return chat_data\n",
    "\n",
    "# Function to create a template dataframe\n",
    "def create_template_dataframe():\n",
    "    times = [datetime.datetime(2000, 1, 1, 0, 0) + datetime.timedelta(minutes=1 * i) for i in range(1440)]\n",
    "    intervals = [time.strftime('%I:%M %p') for time in times]\n",
    "    df = pd.DataFrame(index=intervals)\n",
    "    return df\n",
    "\n",
    "def populate_dataframe(df, parsed_data, start_column_index):\n",
    "    new_columns = {}  # Dictionary to hold new data before concatenation\n",
    "\n",
    "    for entry in parsed_data:\n",
    "        date_time, sender, is_person, delay = entry\n",
    "        interval_index = min((date_time.hour * 60 + date_time.minute) // 1, 1439)\n",
    "        interval = df.index[interval_index]\n",
    "\n",
    "        # Initialize columns in new_columns dictionary if not exist\n",
    "        if (start_column_index not in new_columns):\n",
    "            new_columns[start_column_index] = pd.Series(0, index=df.index)\n",
    "        if (start_column_index + 1 not in new_columns):\n",
    "            new_columns[start_column_index + 1] = pd.Series(0, index=df.index)\n",
    "        if (start_column_index + 2 not in new_columns):\n",
    "            new_columns[start_column_index + 2] = pd.Series(False, index=df.index)  # For delay column\n",
    "\n",
    "        # Populate the new_columns dictionary\n",
    "        if is_person:\n",
    "            new_columns[start_column_index].at[interval] = 1\n",
    "            new_columns[start_column_index + 2].at[interval] = delay  # Set delay flag\n",
    "        else:\n",
    "            new_columns[start_column_index + 1].at[interval] = 1\n",
    "\n",
    "    # Concatenate new columns to the DataFrame at once\n",
    "    df = pd.concat([df, pd.DataFrame(new_columns)], axis=1)\n",
    "\n",
    "    return df, start_column_index + 3\n",
    "\n",
    "\n",
    "def process_person_chats(chat_files):\n",
    "    dataframes = {}\n",
    "    for file in chat_files:\n",
    "        parts = file.split(os.sep)\n",
    "        date_folder, person = parts[-4], parts[-2]\n",
    "\n",
    "        try:\n",
    "            folder_date = pd.to_datetime(date_folder, format='%Y-%m-%d').date()\n",
    "        except ValueError:\n",
    "            continue\n",
    "\n",
    "        expected_date_minus_one = folder_date - datetime.timedelta(days=1)\n",
    "        key = f\"{folder_date.strftime('%Y-%m-%d')}_{person}\"\n",
    "\n",
    "        if key not in dataframes:\n",
    "            dataframes[key] = create_template_dataframe()\n",
    "            start_column_index = 0\n",
    "        else:\n",
    "            if not dataframes[key].columns.empty:\n",
    "                start_column_index = max(dataframes[key].columns) + 1\n",
    "            else:\n",
    "                start_column_index = 0\n",
    "\n",
    "        parsed_data = parse_chat_file(file, expected_date_minus_one)\n",
    "        dataframes[key], start_column_index = populate_dataframe(dataframes[key], parsed_data, start_column_index)\n",
    "\n",
    "    return dataframes\n",
    "\n",
    "\n",
    "print(\"analysis complete. Generating Graphs...\")\n",
    "\n",
    "\n",
    "# Function to create bar and trend graphs for each person\n",
    "def create_graphs(df, person_identifier, base_directory):\n",
    "    graph_directory = os.path.join(base_directory, \"Graphs\")\n",
    "    os.makedirs(graph_directory, exist_ok=True)\n",
    "\n",
    "    # Sum the values across all even columns for each minute\n",
    "    person_chat_activity = df.iloc[:, 0::2].sum(axis=1)\n",
    "    trend_data = df.iloc[:, 1::2].sum(axis=1)\n",
    "\n",
    "    # Find the first and last non-zero indices for chats\n",
    "    non_zero_indices = person_chat_activity[person_chat_activity > 0].index\n",
    "    first_chat_time = non_zero_indices[0] if not non_zero_indices.empty else df.index[0]\n",
    "    last_chat_time = non_zero_indices[-1] if not non_zero_indices.empty else df.index[-1]\n",
    "\n",
    "    print(f\"Generating graph for {person_identifier}\")  # Debug line\n",
    "    fig, ax = plt.subplots(figsize=(30, 10))  # Increased figure size for more stretch\n",
    "    fig.patch.set_facecolor('black')\n",
    "    ax.set_facecolor('black')\n",
    "    ax.xaxis.label.set_color('white')\n",
    "    ax.yaxis.label.set_color('white')\n",
    "    ax.title.set_color('white')\n",
    "\n",
    "    # Set the colors of the tick labels\n",
    "    ax.tick_params(axis='x', colors='white')\n",
    "    ax.tick_params(axis='y', colors='white')\n",
    "\n",
    "    # If you have a legend, you can set the text color using:\n",
    "    legend = ax.legend()\n",
    "    for text in legend.get_texts():\n",
    "        text.set_color('white')\n",
    "\n",
    "    # Change the line and bar colors to something that would show up on a black background\n",
    "    ax.bar(df.index, person_chat_activity, color='red', width=0.5, label=f'Person {person_identifier}')\n",
    "    ax.plot(df.index, trend_data, color='white', linewidth=1, linestyle='-', label='Trend')\n",
    "    ax.scatter(df.index[trend_data > 0], trend_data[trend_data > 0], color='white', s=2)  # Scatter plot for non-zero trend points\n",
    "\n",
    "    # Rotate x-axis labels to prevent overlap and increase label font sizes\n",
    "    plt.xticks(rotation=90, fontsize=8)\n",
    "    plt.yticks(fontsize=10)\n",
    "\n",
    "    # Set x-axis to show the range from the first chat to the last chat\n",
    "    ax.set_xlim(first_chat_time, last_chat_time)\n",
    "    ax.xaxis.set_major_locator(ticker.MaxNLocator(96))  # Set locator for 15-minute intervals\n",
    "\n",
    "    # Set y-axis dynamic range based on the maximum chat activity with a buffer\n",
    "    max_chats = max(person_chat_activity.max(), trend_data.max())\n",
    "    ax.set_ylim(0, max_chats + 1)  # Adjust y-axis limit based on maximum chat activity plus a buffer\n",
    "\n",
    "    # Increasing font size for labels and title\n",
    "    ax.set_xlabel('Time', fontsize=12)\n",
    "    ax.set_ylabel('Number of Chats', fontsize=12)\n",
    "    ax.set_title(f'Chat Activity for {person_identifier}', fontsize=14)\n",
    "    ax.legend()\n",
    "\n",
    "    # Saving the graph\n",
    "    graph_file_name = f\"{person_identifier}.png\"\n",
    "    plt.savefig(os.path.join(graph_directory, graph_file_name), format='png', dpi=300, bbox_inches='tight')  # Save with tight bounding box\n",
    "    print(f\"Graph saved as {graph_file_name}\")  # Debug line\n",
    "\n",
    "    plt.close(fig)\n",
    "\n",
    "\n",
    "# Main script\n",
    "date_directory = \"C:\\\\Users\\\\maurice\\\\Downloads\\\\drive-download-20231129T124901Z-001\"\n",
    "chat_files = list_chat_files(date_directory)\n",
    "person_dataframes = process_person_chats(chat_files)\n",
    "\n",
    "# Generating graphs for each DataFrame\n",
    "for person_identifier, df in person_dataframes.items():\n",
    "    create_graphs(df, person_identifier, date_directory)\n"
   ]
  },
  {
   "cell_type": "code",
   "execution_count": null,
   "metadata": {},
   "outputs": [],
   "source": []
  }
 ],
 "metadata": {
  "kernelspec": {
   "display_name": "Python 3",
   "language": "python",
   "name": "python3"
  },
  "language_info": {
   "codemirror_mode": {
    "name": "ipython",
    "version": 3
   },
   "file_extension": ".py",
   "mimetype": "text/x-python",
   "name": "python",
   "nbconvert_exporter": "python",
   "pygments_lexer": "ipython3",
   "version": "3.7.6"
  }
 },
 "nbformat": 4,
 "nbformat_minor": 5
}
