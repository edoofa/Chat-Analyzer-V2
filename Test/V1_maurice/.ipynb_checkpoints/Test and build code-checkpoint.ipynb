{
 "cells": [
  {
   "cell_type": "markdown",
   "id": "91d6bfb6",
   "metadata": {},
   "source": [
    "### Part 1, Fetch from directory and initiate dataframe for Table 1, or table_king"
   ]
  },
  {
   "cell_type": "code",
   "execution_count": null,
   "id": "483d0ee3",
   "metadata": {},
   "outputs": [],
   "source": [
    "import os\n",
    "import pandas as pd\n",
    "\n",
    "def fetch_chat_data(root_directory):\n",
    "    # Define the columns for the DataFrame\n",
    "    columns = ['Date', 'Team', 'Person', 'Chats URL', 'Chat Name', 'Chat Group Name', 'File Size', 'Expected Format']\n",
    "    data = []\n",
    "\n",
    "    # Walk through the directory structure\n",
    "    for root, dirs, files in os.walk(root_directory):\n",
    "        for file in files:\n",
    "            if file.endswith('.txt'):  # Assuming chat files are .txt files\n",
    "                file_path = os.path.join(root, file)\n",
    "                file_size = os.path.getsize(file_path)\n",
    "\n",
    "                # Extracting Date, Team, and Person from the path\n",
    "                path_parts = root.split(os.sep)\n",
    "                date, team, person = path_parts[-3], path_parts[-2], path_parts[-1]\n",
    "\n",
    "                # Placeholder values for now\n",
    "                chats_url = \"To be defined\"\n",
    "                chat_group_name = \"To be defined\"\n",
    "                expected_format = \"To be discussed\"\n",
    "\n",
    "                # Add the extracted details to the data list\n",
    "                data.append([date, team, person, chats_url, file, chat_group_name, file_size, expected_format])\n",
    "\n",
    "    # Create a DataFrame from the data list\n",
    "    df = pd.DataFrame(data, columns=columns)\n",
    "    return df\n",
    "\n",
    "# Replace 'your_directory_path' with the path to the root directory where the chat files are stored\n",
    "root_directory = 'your_directory_path'\n",
    "chat_data_df = fetch_chat_data(root_directory)\n",
    "\n",
    "# Display the DataFrame\n",
    "print(chat_data_df)\n"
   ]
  }
 ],
 "metadata": {
  "kernelspec": {
   "display_name": "Python 3 (ipykernel)",
   "language": "python",
   "name": "python3"
  },
  "language_info": {
   "codemirror_mode": {
    "name": "ipython",
    "version": 3
   },
   "file_extension": ".py",
   "mimetype": "text/x-python",
   "name": "python",
   "nbconvert_exporter": "python",
   "pygments_lexer": "ipython3",
   "version": "3.11.5"
  }
 },
 "nbformat": 4,
 "nbformat_minor": 5
}
